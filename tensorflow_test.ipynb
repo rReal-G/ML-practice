{
 "cells": [
  {
   "cell_type": "code",
   "execution_count": 1,
   "metadata": {},
   "outputs": [],
   "source": [
    "import tensorflow as tf\n"
   ]
  },
  {
   "cell_type": "code",
   "execution_count": 2,
   "metadata": {},
   "outputs": [],
   "source": [
    "import numpy as np"
   ]
  },
  {
   "cell_type": "code",
   "execution_count": 3,
   "metadata": {},
   "outputs": [
    {
     "data": {
      "text/plain": [
       "array([[[0],\n",
       "        [1],\n",
       "        [2]],\n",
       "\n",
       "       [[3],\n",
       "        [4],\n",
       "        [5]],\n",
       "\n",
       "       [[6],\n",
       "        [7],\n",
       "        [8]]])"
      ]
     },
     "execution_count": 3,
     "metadata": {},
     "output_type": "execute_result"
    }
   ],
   "source": [
    "arr = np.arange(9).reshape(3,3,1)\n",
    "arr"
   ]
  },
  {
   "cell_type": "code",
   "execution_count": 4,
   "metadata": {},
   "outputs": [
    {
     "data": {
      "text/plain": [
       "<tf.Tensor: shape=(3, 3, 1), dtype=int32, numpy=\n",
       "array([[[0],\n",
       "        [1],\n",
       "        [2]],\n",
       "\n",
       "       [[3],\n",
       "        [4],\n",
       "        [5]],\n",
       "\n",
       "       [[6],\n",
       "        [7],\n",
       "        [8]]])>"
      ]
     },
     "execution_count": 4,
     "metadata": {},
     "output_type": "execute_result"
    }
   ],
   "source": [
    "x = tf.constant(arr)\n",
    "x"
   ]
  },
  {
   "cell_type": "code",
   "execution_count": 5,
   "metadata": {},
   "outputs": [
    {
     "data": {
      "text/plain": [
       "<tf.Tensor: shape=(3, 3, 1), dtype=int32, numpy=\n",
       "array([[[ 0],\n",
       "        [ 2],\n",
       "        [ 4]],\n",
       "\n",
       "       [[ 6],\n",
       "        [ 8],\n",
       "        [10]],\n",
       "\n",
       "       [[12],\n",
       "        [14],\n",
       "        [16]]])>"
      ]
     },
     "execution_count": 5,
     "metadata": {},
     "output_type": "execute_result"
    }
   ],
   "source": [
    "x+x"
   ]
  },
  {
   "cell_type": "code",
   "execution_count": 6,
   "metadata": {},
   "outputs": [
    {
     "data": {
      "text/plain": [
       "<tf.Tensor: shape=(3, 3, 1), dtype=int32, numpy=\n",
       "array([[[ 0],\n",
       "        [ 5],\n",
       "        [10]],\n",
       "\n",
       "       [[15],\n",
       "        [20],\n",
       "        [25]],\n",
       "\n",
       "       [[30],\n",
       "        [35],\n",
       "        [40]]])>"
      ]
     },
     "execution_count": 6,
     "metadata": {},
     "output_type": "execute_result"
    }
   ],
   "source": [
    "x*5"
   ]
  },
  {
   "cell_type": "code",
   "execution_count": 7,
   "metadata": {},
   "outputs": [
    {
     "data": {
      "text/plain": [
       "<tf.Tensor: shape=(3, 3, 1), dtype=int32, numpy=\n",
       "array([[[ 0],\n",
       "        [ 5],\n",
       "        [10]],\n",
       "\n",
       "       [[15],\n",
       "        [20],\n",
       "        [25]],\n",
       "\n",
       "       [[30],\n",
       "        [35],\n",
       "        [40]]])>"
      ]
     },
     "execution_count": 7,
     "metadata": {},
     "output_type": "execute_result"
    }
   ],
   "source": [
    "5*x"
   ]
  },
  {
   "cell_type": "code",
   "execution_count": 8,
   "metadata": {},
   "outputs": [
    {
     "data": {
      "text/plain": [
       "<tf.Tensor: shape=(1, 3, 3), dtype=int32, numpy=\n",
       "array([[[0, 3, 6],\n",
       "        [1, 4, 7],\n",
       "        [2, 5, 8]]])>"
      ]
     },
     "execution_count": 8,
     "metadata": {},
     "output_type": "execute_result"
    }
   ],
   "source": [
    "tf.transpose(x)"
   ]
  },
  {
   "cell_type": "code",
   "execution_count": 9,
   "metadata": {},
   "outputs": [
    {
     "data": {
      "text/plain": [
       "<tf.Tensor: shape=(3, 3, 2), dtype=int32, numpy=\n",
       "array([[[0, 0],\n",
       "        [1, 1],\n",
       "        [2, 2]],\n",
       "\n",
       "       [[3, 3],\n",
       "        [4, 4],\n",
       "        [5, 5]],\n",
       "\n",
       "       [[6, 6],\n",
       "        [7, 7],\n",
       "        [8, 8]]])>"
      ]
     },
     "execution_count": 9,
     "metadata": {},
     "output_type": "execute_result"
    }
   ],
   "source": [
    "tf.concat([x,x], axis=2)"
   ]
  },
  {
   "cell_type": "code",
   "execution_count": 10,
   "metadata": {},
   "outputs": [
    {
     "data": {
      "text/plain": [
       "<tf.Tensor: shape=(3,), dtype=int32, numpy=array([1, 4, 7])>"
      ]
     },
     "execution_count": 10,
     "metadata": {},
     "output_type": "execute_result"
    }
   ],
   "source": [
    "x[:,1,0]"
   ]
  },
  {
   "cell_type": "code",
   "execution_count": 11,
   "metadata": {},
   "outputs": [
    {
     "data": {
      "text/plain": [
       "<tf.Tensor: shape=(3,), dtype=float32, numpy=array([1., 4., 7.], dtype=float32)>"
      ]
     },
     "execution_count": 11,
     "metadata": {},
     "output_type": "execute_result"
    }
   ],
   "source": [
    "reshaped_tensor = tf.squeeze(x[:,1,0])\n",
    "reshaped_tensor = tf.cast(reshaped_tensor, dtype=tf.float32)\n",
    "reshaped_tensor\n"
   ]
  },
  {
   "cell_type": "code",
   "execution_count": 12,
   "metadata": {},
   "outputs": [
    {
     "data": {
      "text/plain": [
       "<tf.Tensor: shape=(3,), dtype=float32, numpy=array([0.00235563, 0.04731416, 0.95033026], dtype=float32)>"
      ]
     },
     "execution_count": 12,
     "metadata": {},
     "output_type": "execute_result"
    }
   ],
   "source": [
    "tf.nn.softmax(reshaped_tensor)"
   ]
  },
  {
   "cell_type": "code",
   "execution_count": 13,
   "metadata": {},
   "outputs": [
    {
     "data": {
      "text/plain": [
       "36"
      ]
     },
     "execution_count": 13,
     "metadata": {},
     "output_type": "execute_result"
    }
   ],
   "source": [
    "np.sum(np.arange(9))"
   ]
  },
  {
   "cell_type": "code",
   "execution_count": 14,
   "metadata": {},
   "outputs": [
    {
     "name": "stdout",
     "output_type": "stream",
     "text": [
      "TensorFlow **IS NOT** using the GPU\n"
     ]
    }
   ],
   "source": [
    "if tf.config.list_physical_devices('GPU'):\n",
    "  print(\"TensorFlow **IS** using the GPU\")\n",
    "else:\n",
    "  print(\"TensorFlow **IS NOT** using the GPU\")"
   ]
  },
  {
   "cell_type": "code",
   "execution_count": 15,
   "metadata": {},
   "outputs": [
    {
     "data": {
      "text/plain": [
       "tensorflow.python.framework.ops.EagerTensor"
      ]
     },
     "execution_count": 15,
     "metadata": {},
     "output_type": "execute_result"
    }
   ],
   "source": [
    "type(x)\n"
   ]
  },
  {
   "cell_type": "code",
   "execution_count": 16,
   "metadata": {},
   "outputs": [],
   "source": [
    "v = tf.Variable([1,2,3,3,3,3])"
   ]
  },
  {
   "cell_type": "code",
   "execution_count": 17,
   "metadata": {},
   "outputs": [
    {
     "data": {
      "text/plain": [
       "<tf.Variable 'UnreadVariable' shape=(6,) dtype=int32, numpy=array([1, 2, 3, 4, 5, 6])>"
      ]
     },
     "execution_count": 17,
     "metadata": {},
     "output_type": "execute_result"
    }
   ],
   "source": [
    "v.assign([1,2,3,4,5,6])"
   ]
  },
  {
   "cell_type": "code",
   "execution_count": 18,
   "metadata": {},
   "outputs": [
    {
     "data": {
      "text/plain": [
       "<tf.Variable 'Variable:0' shape=(6,) dtype=int32, numpy=array([1, 2, 3, 4, 5, 6])>"
      ]
     },
     "execution_count": 18,
     "metadata": {},
     "output_type": "execute_result"
    }
   ],
   "source": [
    "v"
   ]
  },
  {
   "cell_type": "code",
   "execution_count": 19,
   "metadata": {},
   "outputs": [
    {
     "data": {
      "text/plain": [
       "<tf.Variable 'UnreadVariable' shape=(6,) dtype=int32, numpy=array([0, 1, 2, 3, 4, 5])>"
      ]
     },
     "execution_count": 19,
     "metadata": {},
     "output_type": "execute_result"
    }
   ],
   "source": [
    "v.assign_sub([1,1,1,1,1,1])"
   ]
  },
  {
   "cell_type": "code",
   "execution_count": 20,
   "metadata": {},
   "outputs": [
    {
     "data": {
      "text/plain": [
       "<tf.Tensor: shape=(6,), dtype=int32, numpy=array([-1,  0,  1,  2,  3,  4])>"
      ]
     },
     "execution_count": 20,
     "metadata": {},
     "output_type": "execute_result"
    }
   ],
   "source": [
    "v - 1"
   ]
  },
  {
   "cell_type": "code",
   "execution_count": 21,
   "metadata": {},
   "outputs": [
    {
     "data": {
      "text/plain": [
       "<tf.Variable 'Variable:0' shape=(6,) dtype=int32, numpy=array([0, 1, 2, 3, 4, 5])>"
      ]
     },
     "execution_count": 21,
     "metadata": {},
     "output_type": "execute_result"
    }
   ],
   "source": [
    "v"
   ]
  },
  {
   "cell_type": "code",
   "execution_count": 22,
   "metadata": {},
   "outputs": [
    {
     "data": {
      "text/plain": [
       "<tf.Tensor: shape=(6,), dtype=int32, numpy=array([ 1,  5, 11, 19, 29, 41])>"
      ]
     },
     "execution_count": 22,
     "metadata": {},
     "output_type": "execute_result"
    }
   ],
   "source": [
    "y = v + 1 + 2*v + v**2\n",
    "y"
   ]
  },
  {
   "cell_type": "code",
   "execution_count": 23,
   "metadata": {},
   "outputs": [
    {
     "name": "stdout",
     "output_type": "stream",
     "text": [
      "tf.Tensor([5.4 7.  9.  9.  9.  9. ], shape=(6,), dtype=float32)\n"
     ]
    }
   ],
   "source": [
    "v = tf.Variable([1.2,2,3,3,3,3])\n",
    "# v = tf.cast(v, dtype=tf.float32)\n",
    "with tf.GradientTape() as tape:\n",
    "    z = v + 1 + 2*v + v**2\n",
    "dz_dv = tape.gradient(z, v)\n",
    "print(dz_dv)"
   ]
  },
  {
   "cell_type": "code",
   "execution_count": 24,
   "metadata": {},
   "outputs": [
    {
     "data": {
      "text/plain": [
       "<tf.Tensor: shape=(), dtype=float32, numpy=4.0>"
      ]
     },
     "execution_count": 24,
     "metadata": {},
     "output_type": "execute_result"
    }
   ],
   "source": [
    "x = tf.Variable(1.0)\n",
    "\n",
    "def f(x):\n",
    "    y = x**2 + 2*x - 5\n",
    "    return y\n",
    "with tf.GradientTape() as tape:\n",
    "    y = f(x)\n",
    "\n",
    "g_x = tape.gradient(y, x)  # g(x) = dy/dx\n",
    "\n",
    "g_x"
   ]
  },
  {
   "cell_type": "code",
   "execution_count": 25,
   "metadata": {},
   "outputs": [],
   "source": [
    "@tf.function\n",
    "def my_func(x):\n",
    "    print('Tracing.\\n')\n",
    "    return tf.reduce_sum(x)"
   ]
  },
  {
   "cell_type": "code",
   "execution_count": 26,
   "metadata": {},
   "outputs": [
    {
     "name": "stdout",
     "output_type": "stream",
     "text": [
      "Tracing.\n",
      "\n"
     ]
    },
    {
     "data": {
      "text/plain": [
       "<tf.Tensor: shape=(), dtype=int32, numpy=6>"
      ]
     },
     "execution_count": 26,
     "metadata": {},
     "output_type": "execute_result"
    }
   ],
   "source": [
    "x = tf.constant([1, 2, 3])\n",
    "my_func(x)"
   ]
  },
  {
   "cell_type": "code",
   "execution_count": 27,
   "metadata": {},
   "outputs": [
    {
     "name": "stdout",
     "output_type": "stream",
     "text": [
      "Tracing.\n",
      "\n"
     ]
    },
    {
     "data": {
      "text/plain": [
       "<tf.Tensor: shape=(), dtype=float32, numpy=27.3>"
      ]
     },
     "execution_count": 27,
     "metadata": {},
     "output_type": "execute_result"
    }
   ],
   "source": [
    "x = tf.constant([10.0, 9.1, 8.2], dtype=tf.float32)\n",
    "my_func(x)"
   ]
  },
  {
   "cell_type": "code",
   "execution_count": 28,
   "metadata": {},
   "outputs": [],
   "source": [
    "import matplotlib\n",
    "from matplotlib import pyplot as plt\n",
    "\n",
    "matplotlib.rcParams['figure.figsize'] = [9, 6]"
   ]
  },
  {
   "cell_type": "code",
   "execution_count": 29,
   "metadata": {},
   "outputs": [
    {
     "data": {
      "text/plain": [
       "[9.0, 6.0]"
      ]
     },
     "execution_count": 29,
     "metadata": {},
     "output_type": "execute_result"
    }
   ],
   "source": [
    "matplotlib.rcParams['figure.figsize']"
   ]
  },
  {
   "cell_type": "code",
   "execution_count": 30,
   "metadata": {},
   "outputs": [
    {
     "data": {
      "text/plain": [
       "array([[ 0.,  5.],\n",
       "       [10., 40.]], dtype=float32)"
      ]
     },
     "execution_count": 30,
     "metadata": {},
     "output_type": "execute_result"
    }
   ],
   "source": [
    "tf.constant([[0., 5.], [10., 40.]]).numpy()"
   ]
  },
  {
   "cell_type": "code",
   "execution_count": 31,
   "metadata": {},
   "outputs": [
    {
     "data": {
      "text/plain": [
       "<tf.Tensor: shape=(2, 3), dtype=float32, numpy=\n",
       "array([[ 0. ,  5. , 10. ],\n",
       "       [ 5. , 22.5, 40. ]], dtype=float32)>"
      ]
     },
     "execution_count": 31,
     "metadata": {},
     "output_type": "execute_result"
    }
   ],
   "source": [
    "tf.linspace([0., 5.], [10., 40.], 3, axis=1)"
   ]
  },
  {
   "cell_type": "code",
   "execution_count": 32,
   "metadata": {},
   "outputs": [
    {
     "data": {
      "text/plain": [
       "array([-0.9569623 , -2.1842563 , -0.01554263, -0.03976196, -1.2713141 ,\n",
       "       -0.64060646,  0.08026319, -0.27727613,  0.2697315 ,  0.40977713],\n",
       "      dtype=float32)"
      ]
     },
     "execution_count": 32,
     "metadata": {},
     "output_type": "execute_result"
    }
   ],
   "source": [
    "tf.transpose(tf.random.normal(shape=[10])).numpy()"
   ]
  },
  {
   "cell_type": "code",
   "execution_count": 33,
   "metadata": {},
   "outputs": [
    {
     "data": {
      "image/png": "[encoded data removed]",
      "text/plain": [
       "<Figure size 900x600 with 1 Axes>"
      ]
     },
     "metadata": {},
     "output_type": "display_data"
    }
   ],
   "source": [
    "x = tf.linspace(-2, 2, 201)\n",
    "x = tf.cast(x, tf.float32)\n",
    "\n",
    "def f(x):\n",
    "    y = x**2 + 2*x - 5\n",
    "    return y\n",
    "\n",
    "y = f(x) + tf.random.normal(shape=[201])\n",
    "\n",
    "plt.plot(x.numpy(), y.numpy(), '.', label='Data')\n",
    "plt.plot(x, f(x), label='Ground truth')\n",
    "plt.legend();"
   ]
  },
  {
   "cell_type": "code",
   "execution_count": 34,
   "metadata": {},
   "outputs": [
    {
     "data": {
      "text/plain": [
       "<tf.Tensor: shape=(3, 2, 4), dtype=float32, numpy=\n",
       "array([[[7.574854 , 2.5155377, 2.3961878, 8.95804  ],\n",
       "        [8.060354 , 6.125958 , 7.671851 , 1.5602195]],\n",
       "\n",
       "       [[6.2220454, 0.5036402, 5.6178236, 8.836243 ],\n",
       "        [2.6639867, 3.6372256, 5.7404766, 6.3647747]],\n",
       "\n",
       "       [[5.7789207, 1.8342578, 1.733371 , 7.060194 ],\n",
       "        [4.765381 , 2.8735101, 8.80669  , 6.015424 ]]], dtype=float32)>"
      ]
     },
     "execution_count": 34,
     "metadata": {},
     "output_type": "execute_result"
    }
   ],
   "source": [
    "tf.random.uniform([3,2,4], 0, 10)"
   ]
  },
  {
   "cell_type": "code",
   "execution_count": 35,
   "metadata": {},
   "outputs": [],
   "source": [
    "class Model(tf.Module):\n",
    "    \n",
    "    def __init__(self):\n",
    "        random_init = tf.random.uniform([3], 0, 5, dtype=tf.float32, seed=69)\n",
    "        self.W_1 = tf.Variable(random_init[0], name='W_1')\n",
    "        self.W_2 = tf.Variable(random_init[1], name='W_2')\n",
    "        self.b = tf.Variable(random_init[2], name='b')\n",
    "        \n",
    "    def __call__(self, x):\n",
    "        return self.W_2 * x**2 + self.W_1 * x + self.b"
   ]
  },
  {
   "cell_type": "code",
   "execution_count": 36,
   "metadata": {},
   "outputs": [],
   "source": [
    "model = Model()"
   ]
  },
  {
   "cell_type": "code",
   "execution_count": 37,
   "metadata": {},
   "outputs": [],
   "source": [
    "def plot_preds(x, y, f, model, title):\n",
    "    plt.figure()\n",
    "    plt.plot(x, y, '.', label='Data')\n",
    "    plt.plot(x, f(x), label='Ground truth')\n",
    "    plt.plot(x, model(x), label='Predictions')\n",
    "    plt.title(title)\n",
    "    plt.legend()"
   ]
  },
  {
   "cell_type": "code",
   "execution_count": 38,
   "metadata": {},
   "outputs": [
    {
     "data": {
      "image/png": "[encoded data removed]",
      "text/plain": [
       "<Figure size 900x600 with 1 Axes>"
      ]
     },
     "metadata": {},
     "output_type": "display_data"
    }
   ],
   "source": [
    "plot_preds(x, y, f, model, 'Before training')"
   ]
  },
  {
   "cell_type": "code",
   "execution_count": 39,
   "metadata": {},
   "outputs": [],
   "source": [
    "def mse_loss(y_true, y_pred):\n",
    "    return tf.reduce_mean((y_true - y_pred)**2)"
   ]
  },
  {
   "cell_type": "code",
   "execution_count": 40,
   "metadata": {},
   "outputs": [
    {
     "data": {
      "text/plain": [
       "[(<tf.Tensor: shape=(), dtype=float32, numpy=-2.0>,\n",
       "  <tf.Tensor: shape=(), dtype=float32, numpy=-4.727105>),\n",
       " (<tf.Tensor: shape=(), dtype=float32, numpy=-1.98>,\n",
       "  <tf.Tensor: shape=(), dtype=float32, numpy=-6.289656>),\n",
       " (<tf.Tensor: shape=(), dtype=float32, numpy=-1.96>,\n",
       "  <tf.Tensor: shape=(), dtype=float32, numpy=-5.328794>),\n",
       " (<tf.Tensor: shape=(), dtype=float32, numpy=-1.94>,\n",
       "  <tf.Tensor: shape=(), dtype=float32, numpy=-5.270585>),\n",
       " (<tf.Tensor: shape=(), dtype=float32, numpy=-1.92>,\n",
       "  <tf.Tensor: shape=(), dtype=float32, numpy=-5.562881>),\n",
       " (<tf.Tensor: shape=(), dtype=float32, numpy=-1.9>,\n",
       "  <tf.Tensor: shape=(), dtype=float32, numpy=-4.510551>),\n",
       " (<tf.Tensor: shape=(), dtype=float32, numpy=-1.88>,\n",
       "  <tf.Tensor: shape=(), dtype=float32, numpy=-5.871786>),\n",
       " (<tf.Tensor: shape=(), dtype=float32, numpy=-1.86>,\n",
       "  <tf.Tensor: shape=(), dtype=float32, numpy=-5.220483>),\n",
       " (<tf.Tensor: shape=(), dtype=float32, numpy=-1.84>,\n",
       "  <tf.Tensor: shape=(), dtype=float32, numpy=-7.260298>),\n",
       " (<tf.Tensor: shape=(), dtype=float32, numpy=-1.82>,\n",
       "  <tf.Tensor: shape=(), dtype=float32, numpy=-4.0849504>),\n",
       " (<tf.Tensor: shape=(), dtype=float32, numpy=-1.8>,\n",
       "  <tf.Tensor: shape=(), dtype=float32, numpy=-4.7990565>),\n",
       " (<tf.Tensor: shape=(), dtype=float32, numpy=-1.78>,\n",
       "  <tf.Tensor: shape=(), dtype=float32, numpy=-3.6949866>),\n",
       " (<tf.Tensor: shape=(), dtype=float32, numpy=-1.76>,\n",
       "  <tf.Tensor: shape=(), dtype=float32, numpy=-3.7720964>),\n",
       " (<tf.Tensor: shape=(), dtype=float32, numpy=-1.74>,\n",
       "  <tf.Tensor: shape=(), dtype=float32, numpy=-4.7302475>),\n",
       " (<tf.Tensor: shape=(), dtype=float32, numpy=-1.72>,\n",
       "  <tf.Tensor: shape=(), dtype=float32, numpy=-5.7792873>),\n",
       " (<tf.Tensor: shape=(), dtype=float32, numpy=-1.7>,\n",
       "  <tf.Tensor: shape=(), dtype=float32, numpy=-4.022608>),\n",
       " (<tf.Tensor: shape=(), dtype=float32, numpy=-1.68>,\n",
       "  <tf.Tensor: shape=(), dtype=float32, numpy=-5.4714613>),\n",
       " (<tf.Tensor: shape=(), dtype=float32, numpy=-1.66>,\n",
       "  <tf.Tensor: shape=(), dtype=float32, numpy=-5.407055>),\n",
       " (<tf.Tensor: shape=(), dtype=float32, numpy=-1.64>,\n",
       "  <tf.Tensor: shape=(), dtype=float32, numpy=-4.97745>),\n",
       " (<tf.Tensor: shape=(), dtype=float32, numpy=-1.62>,\n",
       "  <tf.Tensor: shape=(), dtype=float32, numpy=-5.613478>),\n",
       " (<tf.Tensor: shape=(), dtype=float32, numpy=-1.6>,\n",
       "  <tf.Tensor: shape=(), dtype=float32, numpy=-4.868858>),\n",
       " (<tf.Tensor: shape=(), dtype=float32, numpy=-1.58>,\n",
       "  <tf.Tensor: shape=(), dtype=float32, numpy=-3.761575>),\n",
       " (<tf.Tensor: shape=(), dtype=float32, numpy=-1.56>,\n",
       "  <tf.Tensor: shape=(), dtype=float32, numpy=-5.390155>),\n",
       " (<tf.Tensor: shape=(), dtype=float32, numpy=-1.54>,\n",
       "  <tf.Tensor: shape=(), dtype=float32, numpy=-6.2621517>),\n",
       " (<tf.Tensor: shape=(), dtype=float32, numpy=-1.52>,\n",
       "  <tf.Tensor: shape=(), dtype=float32, numpy=-4.561723>),\n",
       " (<tf.Tensor: shape=(), dtype=float32, numpy=-1.5>,\n",
       "  <tf.Tensor: shape=(), dtype=float32, numpy=-5.716287>),\n",
       " (<tf.Tensor: shape=(), dtype=float32, numpy=-1.48>,\n",
       "  <tf.Tensor: shape=(), dtype=float32, numpy=-6.7049356>),\n",
       " (<tf.Tensor: shape=(), dtype=float32, numpy=-1.46>,\n",
       "  <tf.Tensor: shape=(), dtype=float32, numpy=-6.3596487>),\n",
       " (<tf.Tensor: shape=(), dtype=float32, numpy=-1.44>,\n",
       "  <tf.Tensor: shape=(), dtype=float32, numpy=-6.205738>),\n",
       " (<tf.Tensor: shape=(), dtype=float32, numpy=-1.42>,\n",
       "  <tf.Tensor: shape=(), dtype=float32, numpy=-5.983888>),\n",
       " (<tf.Tensor: shape=(), dtype=float32, numpy=-1.4>,\n",
       "  <tf.Tensor: shape=(), dtype=float32, numpy=-5.6250696>),\n",
       " (<tf.Tensor: shape=(), dtype=float32, numpy=-1.38>,\n",
       "  <tf.Tensor: shape=(), dtype=float32, numpy=-5.2523813>),\n",
       " (<tf.Tensor: shape=(), dtype=float32, numpy=-1.36>,\n",
       "  <tf.Tensor: shape=(), dtype=float32, numpy=-6.5789943>),\n",
       " (<tf.Tensor: shape=(), dtype=float32, numpy=-1.34>,\n",
       "  <tf.Tensor: shape=(), dtype=float32, numpy=-4.344742>),\n",
       " (<tf.Tensor: shape=(), dtype=float32, numpy=-1.32>,\n",
       "  <tf.Tensor: shape=(), dtype=float32, numpy=-4.9960566>),\n",
       " (<tf.Tensor: shape=(), dtype=float32, numpy=-1.3>,\n",
       "  <tf.Tensor: shape=(), dtype=float32, numpy=-4.225322>),\n",
       " (<tf.Tensor: shape=(), dtype=float32, numpy=-1.28>,\n",
       "  <tf.Tensor: shape=(), dtype=float32, numpy=-7.5194755>),\n",
       " (<tf.Tensor: shape=(), dtype=float32, numpy=-1.26>,\n",
       "  <tf.Tensor: shape=(), dtype=float32, numpy=-5.732555>),\n",
       " (<tf.Tensor: shape=(), dtype=float32, numpy=-1.24>,\n",
       "  <tf.Tensor: shape=(), dtype=float32, numpy=-5.6731725>),\n",
       " (<tf.Tensor: shape=(), dtype=float32, numpy=-1.22>,\n",
       "  <tf.Tensor: shape=(), dtype=float32, numpy=-5.3957744>),\n",
       " (<tf.Tensor: shape=(), dtype=float32, numpy=-1.2>,\n",
       "  <tf.Tensor: shape=(), dtype=float32, numpy=-6.456342>),\n",
       " (<tf.Tensor: shape=(), dtype=float32, numpy=-1.18>,\n",
       "  <tf.Tensor: shape=(), dtype=float32, numpy=-6.4406734>),\n",
       " (<tf.Tensor: shape=(), dtype=float32, numpy=-1.16>,\n",
       "  <tf.Tensor: shape=(), dtype=float32, numpy=-5.9198127>),\n",
       " (<tf.Tensor: shape=(), dtype=float32, numpy=-1.14>,\n",
       "  <tf.Tensor: shape=(), dtype=float32, numpy=-5.2096286>),\n",
       " (<tf.Tensor: shape=(), dtype=float32, numpy=-1.12>,\n",
       "  <tf.Tensor: shape=(), dtype=float32, numpy=-6.9703774>),\n",
       " (<tf.Tensor: shape=(), dtype=float32, numpy=-1.1>,\n",
       "  <tf.Tensor: shape=(), dtype=float32, numpy=-3.5578609>),\n",
       " (<tf.Tensor: shape=(), dtype=float32, numpy=-1.08>,\n",
       "  <tf.Tensor: shape=(), dtype=float32, numpy=-6.191656>),\n",
       " (<tf.Tensor: shape=(), dtype=float32, numpy=-1.06>,\n",
       "  <tf.Tensor: shape=(), dtype=float32, numpy=-6.152727>),\n",
       " (<tf.Tensor: shape=(), dtype=float32, numpy=-1.04>,\n",
       "  <tf.Tensor: shape=(), dtype=float32, numpy=-5.538378>),\n",
       " (<tf.Tensor: shape=(), dtype=float32, numpy=-1.02>,\n",
       "  <tf.Tensor: shape=(), dtype=float32, numpy=-6.5138693>),\n",
       " (<tf.Tensor: shape=(), dtype=float32, numpy=-1.0>,\n",
       "  <tf.Tensor: shape=(), dtype=float32, numpy=-7.1387434>),\n",
       " (<tf.Tensor: shape=(), dtype=float32, numpy=-0.98>,\n",
       "  <tf.Tensor: shape=(), dtype=float32, numpy=-7.063295>),\n",
       " (<tf.Tensor: shape=(), dtype=float32, numpy=-0.96>,\n",
       "  <tf.Tensor: shape=(), dtype=float32, numpy=-6.4843755>),\n",
       " (<tf.Tensor: shape=(), dtype=float32, numpy=-0.94>,\n",
       "  <tf.Tensor: shape=(), dtype=float32, numpy=-6.4779353>),\n",
       " (<tf.Tensor: shape=(), dtype=float32, numpy=-0.92>,\n",
       "  <tf.Tensor: shape=(), dtype=float32, numpy=-6.933583>),\n",
       " (<tf.Tensor: shape=(), dtype=float32, numpy=-0.9>,\n",
       "  <tf.Tensor: shape=(), dtype=float32, numpy=-7.1564226>),\n",
       " (<tf.Tensor: shape=(), dtype=float32, numpy=-0.88>,\n",
       "  <tf.Tensor: shape=(), dtype=float32, numpy=-8.019469>),\n",
       " (<tf.Tensor: shape=(), dtype=float32, numpy=-0.86>,\n",
       "  <tf.Tensor: shape=(), dtype=float32, numpy=-5.545938>),\n",
       " (<tf.Tensor: shape=(), dtype=float32, numpy=-0.84>,\n",
       "  <tf.Tensor: shape=(), dtype=float32, numpy=-7.140176>),\n",
       " (<tf.Tensor: shape=(), dtype=float32, numpy=-0.82>,\n",
       "  <tf.Tensor: shape=(), dtype=float32, numpy=-6.81624>),\n",
       " (<tf.Tensor: shape=(), dtype=float32, numpy=-0.8>,\n",
       "  <tf.Tensor: shape=(), dtype=float32, numpy=-5.009933>),\n",
       " (<tf.Tensor: shape=(), dtype=float32, numpy=-0.78>,\n",
       "  <tf.Tensor: shape=(), dtype=float32, numpy=-7.254756>),\n",
       " (<tf.Tensor: shape=(), dtype=float32, numpy=-0.76>,\n",
       "  <tf.Tensor: shape=(), dtype=float32, numpy=-5.818518>),\n",
       " (<tf.Tensor: shape=(), dtype=float32, numpy=-0.74>,\n",
       "  <tf.Tensor: shape=(), dtype=float32, numpy=-4.25121>),\n",
       " (<tf.Tensor: shape=(), dtype=float32, numpy=-0.72>,\n",
       "  <tf.Tensor: shape=(), dtype=float32, numpy=-5.2899475>),\n",
       " (<tf.Tensor: shape=(), dtype=float32, numpy=-0.7>,\n",
       "  <tf.Tensor: shape=(), dtype=float32, numpy=-5.0813723>),\n",
       " (<tf.Tensor: shape=(), dtype=float32, numpy=-0.68>,\n",
       "  <tf.Tensor: shape=(), dtype=float32, numpy=-7.6029634>),\n",
       " (<tf.Tensor: shape=(), dtype=float32, numpy=-0.66>,\n",
       "  <tf.Tensor: shape=(), dtype=float32, numpy=-7.156238>),\n",
       " (<tf.Tensor: shape=(), dtype=float32, numpy=-0.64>,\n",
       "  <tf.Tensor: shape=(), dtype=float32, numpy=-4.747081>),\n",
       " (<tf.Tensor: shape=(), dtype=float32, numpy=-0.62>,\n",
       "  <tf.Tensor: shape=(), dtype=float32, numpy=-5.5431743>),\n",
       " (<tf.Tensor: shape=(), dtype=float32, numpy=-0.6>,\n",
       "  <tf.Tensor: shape=(), dtype=float32, numpy=-7.3562317>),\n",
       " (<tf.Tensor: shape=(), dtype=float32, numpy=-0.58>,\n",
       "  <tf.Tensor: shape=(), dtype=float32, numpy=-4.4218664>),\n",
       " (<tf.Tensor: shape=(), dtype=float32, numpy=-0.56>,\n",
       "  <tf.Tensor: shape=(), dtype=float32, numpy=-5.158864>),\n",
       " (<tf.Tensor: shape=(), dtype=float32, numpy=-0.54>,\n",
       "  <tf.Tensor: shape=(), dtype=float32, numpy=-4.4952044>),\n",
       " (<tf.Tensor: shape=(), dtype=float32, numpy=-0.52>,\n",
       "  <tf.Tensor: shape=(), dtype=float32, numpy=-6.3880568>),\n",
       " (<tf.Tensor: shape=(), dtype=float32, numpy=-0.5>,\n",
       "  <tf.Tensor: shape=(), dtype=float32, numpy=-4.2094054>),\n",
       " (<tf.Tensor: shape=(), dtype=float32, numpy=-0.48>,\n",
       "  <tf.Tensor: shape=(), dtype=float32, numpy=-6.6821103>),\n",
       " (<tf.Tensor: shape=(), dtype=float32, numpy=-0.46>,\n",
       "  <tf.Tensor: shape=(), dtype=float32, numpy=-6.1910024>),\n",
       " (<tf.Tensor: shape=(), dtype=float32, numpy=-0.44>,\n",
       "  <tf.Tensor: shape=(), dtype=float32, numpy=-6.5449967>),\n",
       " (<tf.Tensor: shape=(), dtype=float32, numpy=-0.42>,\n",
       "  <tf.Tensor: shape=(), dtype=float32, numpy=-6.0585074>),\n",
       " (<tf.Tensor: shape=(), dtype=float32, numpy=-0.4>,\n",
       "  <tf.Tensor: shape=(), dtype=float32, numpy=-4.5992885>),\n",
       " (<tf.Tensor: shape=(), dtype=float32, numpy=-0.38>,\n",
       "  <tf.Tensor: shape=(), dtype=float32, numpy=-7.267913>),\n",
       " (<tf.Tensor: shape=(), dtype=float32, numpy=-0.36>,\n",
       "  <tf.Tensor: shape=(), dtype=float32, numpy=-4.1316633>),\n",
       " (<tf.Tensor: shape=(), dtype=float32, numpy=-0.34>,\n",
       "  <tf.Tensor: shape=(), dtype=float32, numpy=-4.749073>),\n",
       " (<tf.Tensor: shape=(), dtype=float32, numpy=-0.32>,\n",
       "  <tf.Tensor: shape=(), dtype=float32, numpy=-5.822274>),\n",
       " (<tf.Tensor: shape=(), dtype=float32, numpy=-0.3>,\n",
       "  <tf.Tensor: shape=(), dtype=float32, numpy=-3.2870758>),\n",
       " (<tf.Tensor: shape=(), dtype=float32, numpy=-0.28>,\n",
       "  <tf.Tensor: shape=(), dtype=float32, numpy=-5.047057>),\n",
       " (<tf.Tensor: shape=(), dtype=float32, numpy=-0.26>,\n",
       "  <tf.Tensor: shape=(), dtype=float32, numpy=-5.4260106>),\n",
       " (<tf.Tensor: shape=(), dtype=float32, numpy=-0.24>,\n",
       "  <tf.Tensor: shape=(), dtype=float32, numpy=-5.7581244>),\n",
       " (<tf.Tensor: shape=(), dtype=float32, numpy=-0.22>,\n",
       "  <tf.Tensor: shape=(), dtype=float32, numpy=-6.0711117>),\n",
       " (<tf.Tensor: shape=(), dtype=float32, numpy=-0.2>,\n",
       "  <tf.Tensor: shape=(), dtype=float32, numpy=-6.2075872>),\n",
       " (<tf.Tensor: shape=(), dtype=float32, numpy=-0.18>,\n",
       "  <tf.Tensor: shape=(), dtype=float32, numpy=-5.47481>),\n",
       " (<tf.Tensor: shape=(), dtype=float32, numpy=-0.16>,\n",
       "  <tf.Tensor: shape=(), dtype=float32, numpy=-4.2543874>),\n",
       " (<tf.Tensor: shape=(), dtype=float32, numpy=-0.14>,\n",
       "  <tf.Tensor: shape=(), dtype=float32, numpy=-4.4477196>),\n",
       " (<tf.Tensor: shape=(), dtype=float32, numpy=-0.12>,\n",
       "  <tf.Tensor: shape=(), dtype=float32, numpy=-6.6468525>),\n",
       " (<tf.Tensor: shape=(), dtype=float32, numpy=-0.1>,\n",
       "  <tf.Tensor: shape=(), dtype=float32, numpy=-6.0928965>),\n",
       " (<tf.Tensor: shape=(), dtype=float32, numpy=-0.08>,\n",
       "  <tf.Tensor: shape=(), dtype=float32, numpy=-5.504736>),\n",
       " (<tf.Tensor: shape=(), dtype=float32, numpy=-0.06>,\n",
       "  <tf.Tensor: shape=(), dtype=float32, numpy=-4.933586>),\n",
       " (<tf.Tensor: shape=(), dtype=float32, numpy=-0.04>,\n",
       "  <tf.Tensor: shape=(), dtype=float32, numpy=-3.6912146>),\n",
       " (<tf.Tensor: shape=(), dtype=float32, numpy=-0.02>,\n",
       "  <tf.Tensor: shape=(), dtype=float32, numpy=-4.91018>),\n",
       " (<tf.Tensor: shape=(), dtype=float32, numpy=0.0>,\n",
       "  <tf.Tensor: shape=(), dtype=float32, numpy=-4.7522492>),\n",
       " (<tf.Tensor: shape=(), dtype=float32, numpy=0.02>,\n",
       "  <tf.Tensor: shape=(), dtype=float32, numpy=-6.4562325>),\n",
       " (<tf.Tensor: shape=(), dtype=float32, numpy=0.04>,\n",
       "  <tf.Tensor: shape=(), dtype=float32, numpy=-4.4133863>),\n",
       " (<tf.Tensor: shape=(), dtype=float32, numpy=0.06>,\n",
       "  <tf.Tensor: shape=(), dtype=float32, numpy=-5.770974>),\n",
       " (<tf.Tensor: shape=(), dtype=float32, numpy=0.08>,\n",
       "  <tf.Tensor: shape=(), dtype=float32, numpy=-5.0593147>),\n",
       " (<tf.Tensor: shape=(), dtype=float32, numpy=0.1>,\n",
       "  <tf.Tensor: shape=(), dtype=float32, numpy=-4.966666>),\n",
       " (<tf.Tensor: shape=(), dtype=float32, numpy=0.12>,\n",
       "  <tf.Tensor: shape=(), dtype=float32, numpy=-3.6853623>),\n",
       " (<tf.Tensor: shape=(), dtype=float32, numpy=0.14>,\n",
       "  <tf.Tensor: shape=(), dtype=float32, numpy=-4.3237715>),\n",
       " (<tf.Tensor: shape=(), dtype=float32, numpy=0.16>,\n",
       "  <tf.Tensor: shape=(), dtype=float32, numpy=-4.5446053>),\n",
       " (<tf.Tensor: shape=(), dtype=float32, numpy=0.18>,\n",
       "  <tf.Tensor: shape=(), dtype=float32, numpy=-5.4145927>),\n",
       " (<tf.Tensor: shape=(), dtype=float32, numpy=0.2>,\n",
       "  <tf.Tensor: shape=(), dtype=float32, numpy=-4.1519556>),\n",
       " (<tf.Tensor: shape=(), dtype=float32, numpy=0.22>,\n",
       "  <tf.Tensor: shape=(), dtype=float32, numpy=-4.378012>),\n",
       " (<tf.Tensor: shape=(), dtype=float32, numpy=0.24>,\n",
       "  <tf.Tensor: shape=(), dtype=float32, numpy=-4.295182>),\n",
       " (<tf.Tensor: shape=(), dtype=float32, numpy=0.26>,\n",
       "  <tf.Tensor: shape=(), dtype=float32, numpy=-4.2265406>),\n",
       " (<tf.Tensor: shape=(), dtype=float32, numpy=0.28>,\n",
       "  <tf.Tensor: shape=(), dtype=float32, numpy=-5.107959>),\n",
       " (<tf.Tensor: shape=(), dtype=float32, numpy=0.3>,\n",
       "  <tf.Tensor: shape=(), dtype=float32, numpy=-4.0757704>),\n",
       " (<tf.Tensor: shape=(), dtype=float32, numpy=0.32>,\n",
       "  <tf.Tensor: shape=(), dtype=float32, numpy=-3.9332013>),\n",
       " (<tf.Tensor: shape=(), dtype=float32, numpy=0.34>,\n",
       "  <tf.Tensor: shape=(), dtype=float32, numpy=-5.4690933>),\n",
       " (<tf.Tensor: shape=(), dtype=float32, numpy=0.36>,\n",
       "  <tf.Tensor: shape=(), dtype=float32, numpy=-4.9911594>),\n",
       " (<tf.Tensor: shape=(), dtype=float32, numpy=0.38>,\n",
       "  <tf.Tensor: shape=(), dtype=float32, numpy=-4.2147846>),\n",
       " (<tf.Tensor: shape=(), dtype=float32, numpy=0.4>,\n",
       "  <tf.Tensor: shape=(), dtype=float32, numpy=-3.9317603>),\n",
       " (<tf.Tensor: shape=(), dtype=float32, numpy=0.42>,\n",
       "  <tf.Tensor: shape=(), dtype=float32, numpy=-3.1273193>),\n",
       " (<tf.Tensor: shape=(), dtype=float32, numpy=0.44>,\n",
       "  <tf.Tensor: shape=(), dtype=float32, numpy=-3.7429872>),\n",
       " (<tf.Tensor: shape=(), dtype=float32, numpy=0.46>,\n",
       "  <tf.Tensor: shape=(), dtype=float32, numpy=-3.48145>),\n",
       " (<tf.Tensor: shape=(), dtype=float32, numpy=0.48>,\n",
       "  <tf.Tensor: shape=(), dtype=float32, numpy=-1.7736213>),\n",
       " (<tf.Tensor: shape=(), dtype=float32, numpy=0.5>,\n",
       "  <tf.Tensor: shape=(), dtype=float32, numpy=-1.771858>),\n",
       " (<tf.Tensor: shape=(), dtype=float32, numpy=0.52>,\n",
       "  <tf.Tensor: shape=(), dtype=float32, numpy=-3.5100715>),\n",
       " (<tf.Tensor: shape=(), dtype=float32, numpy=0.54>,\n",
       "  <tf.Tensor: shape=(), dtype=float32, numpy=-2.414082>),\n",
       " (<tf.Tensor: shape=(), dtype=float32, numpy=0.56>,\n",
       "  <tf.Tensor: shape=(), dtype=float32, numpy=-1.8498333>),\n",
       " (<tf.Tensor: shape=(), dtype=float32, numpy=0.58>,\n",
       "  <tf.Tensor: shape=(), dtype=float32, numpy=-1.9652748>),\n",
       " (<tf.Tensor: shape=(), dtype=float32, numpy=0.6>,\n",
       "  <tf.Tensor: shape=(), dtype=float32, numpy=-4.497238>),\n",
       " (<tf.Tensor: shape=(), dtype=float32, numpy=0.62>,\n",
       "  <tf.Tensor: shape=(), dtype=float32, numpy=-2.621195>),\n",
       " (<tf.Tensor: shape=(), dtype=float32, numpy=0.64>,\n",
       "  <tf.Tensor: shape=(), dtype=float32, numpy=-4.0386276>),\n",
       " (<tf.Tensor: shape=(), dtype=float32, numpy=0.66>,\n",
       "  <tf.Tensor: shape=(), dtype=float32, numpy=-2.389031>),\n",
       " (<tf.Tensor: shape=(), dtype=float32, numpy=0.68>,\n",
       "  <tf.Tensor: shape=(), dtype=float32, numpy=-4.0434847>),\n",
       " (<tf.Tensor: shape=(), dtype=float32, numpy=0.7>,\n",
       "  <tf.Tensor: shape=(), dtype=float32, numpy=-1.993703>),\n",
       " (<tf.Tensor: shape=(), dtype=float32, numpy=0.72>,\n",
       "  <tf.Tensor: shape=(), dtype=float32, numpy=-2.3936641>),\n",
       " (<tf.Tensor: shape=(), dtype=float32, numpy=0.74>,\n",
       "  <tf.Tensor: shape=(), dtype=float32, numpy=-2.6628237>),\n",
       " (<tf.Tensor: shape=(), dtype=float32, numpy=0.76>,\n",
       "  <tf.Tensor: shape=(), dtype=float32, numpy=-5.371411>),\n",
       " (<tf.Tensor: shape=(), dtype=float32, numpy=0.78>,\n",
       "  <tf.Tensor: shape=(), dtype=float32, numpy=-1.6427708>),\n",
       " (<tf.Tensor: shape=(), dtype=float32, numpy=0.8>,\n",
       "  <tf.Tensor: shape=(), dtype=float32, numpy=-3.7392907>),\n",
       " (<tf.Tensor: shape=(), dtype=float32, numpy=0.82>,\n",
       "  <tf.Tensor: shape=(), dtype=float32, numpy=-2.135912>),\n",
       " (<tf.Tensor: shape=(), dtype=float32, numpy=0.84>,\n",
       "  <tf.Tensor: shape=(), dtype=float32, numpy=-4.0240545>),\n",
       " (<tf.Tensor: shape=(), dtype=float32, numpy=0.86>,\n",
       "  <tf.Tensor: shape=(), dtype=float32, numpy=-3.1426284>),\n",
       " (<tf.Tensor: shape=(), dtype=float32, numpy=0.88>,\n",
       "  <tf.Tensor: shape=(), dtype=float32, numpy=-2.543841>),\n",
       " (<tf.Tensor: shape=(), dtype=float32, numpy=0.9>,\n",
       "  <tf.Tensor: shape=(), dtype=float32, numpy=-2.6198492>),\n",
       " (<tf.Tensor: shape=(), dtype=float32, numpy=0.92>,\n",
       "  <tf.Tensor: shape=(), dtype=float32, numpy=-3.0922592>),\n",
       " (<tf.Tensor: shape=(), dtype=float32, numpy=0.94>,\n",
       "  <tf.Tensor: shape=(), dtype=float32, numpy=-1.3851991>),\n",
       " (<tf.Tensor: shape=(), dtype=float32, numpy=0.96>,\n",
       "  <tf.Tensor: shape=(), dtype=float32, numpy=-1.5657939>),\n",
       " (<tf.Tensor: shape=(), dtype=float32, numpy=0.98>,\n",
       "  <tf.Tensor: shape=(), dtype=float32, numpy=-2.9448264>),\n",
       " (<tf.Tensor: shape=(), dtype=float32, numpy=1.0>,\n",
       "  <tf.Tensor: shape=(), dtype=float32, numpy=-0.5707377>),\n",
       " (<tf.Tensor: shape=(), dtype=float32, numpy=1.02>,\n",
       "  <tf.Tensor: shape=(), dtype=float32, numpy=-0.47718036>),\n",
       " (<tf.Tensor: shape=(), dtype=float32, numpy=1.04>,\n",
       "  <tf.Tensor: shape=(), dtype=float32, numpy=-1.4307892>),\n",
       " (<tf.Tensor: shape=(), dtype=float32, numpy=1.06>,\n",
       "  <tf.Tensor: shape=(), dtype=float32, numpy=-1.6181624>),\n",
       " (<tf.Tensor: shape=(), dtype=float32, numpy=1.08>,\n",
       "  <tf.Tensor: shape=(), dtype=float32, numpy=-1.6163301>),\n",
       " (<tf.Tensor: shape=(), dtype=float32, numpy=1.1>,\n",
       "  <tf.Tensor: shape=(), dtype=float32, numpy=-0.6824255>),\n",
       " (<tf.Tensor: shape=(), dtype=float32, numpy=1.12>,\n",
       "  <tf.Tensor: shape=(), dtype=float32, numpy=-3.6665456>),\n",
       " (<tf.Tensor: shape=(), dtype=float32, numpy=1.14>,\n",
       "  <tf.Tensor: shape=(), dtype=float32, numpy=-1.6904793>),\n",
       " (<tf.Tensor: shape=(), dtype=float32, numpy=1.16>,\n",
       "  <tf.Tensor: shape=(), dtype=float32, numpy=0.31804144>),\n",
       " (<tf.Tensor: shape=(), dtype=float32, numpy=1.18>,\n",
       "  <tf.Tensor: shape=(), dtype=float32, numpy=-1.8306272>),\n",
       " (<tf.Tensor: shape=(), dtype=float32, numpy=1.2>,\n",
       "  <tf.Tensor: shape=(), dtype=float32, numpy=-0.6543013>),\n",
       " (<tf.Tensor: shape=(), dtype=float32, numpy=1.22>,\n",
       "  <tf.Tensor: shape=(), dtype=float32, numpy=-3.124595>),\n",
       " (<tf.Tensor: shape=(), dtype=float32, numpy=1.24>,\n",
       "  <tf.Tensor: shape=(), dtype=float32, numpy=-0.033059657>),\n",
       " (<tf.Tensor: shape=(), dtype=float32, numpy=1.26>,\n",
       "  <tf.Tensor: shape=(), dtype=float32, numpy=-3.281322>),\n",
       " (<tf.Tensor: shape=(), dtype=float32, numpy=1.28>,\n",
       "  <tf.Tensor: shape=(), dtype=float32, numpy=-0.095982134>),\n",
       " (<tf.Tensor: shape=(), dtype=float32, numpy=1.3>,\n",
       "  <tf.Tensor: shape=(), dtype=float32, numpy=-0.5943734>),\n",
       " (<tf.Tensor: shape=(), dtype=float32, numpy=1.32>,\n",
       "  <tf.Tensor: shape=(), dtype=float32, numpy=-2.580462>),\n",
       " (<tf.Tensor: shape=(), dtype=float32, numpy=1.34>,\n",
       "  <tf.Tensor: shape=(), dtype=float32, numpy=-0.24500471>),\n",
       " (<tf.Tensor: shape=(), dtype=float32, numpy=1.36>,\n",
       "  <tf.Tensor: shape=(), dtype=float32, numpy=0.89404976>),\n",
       " (<tf.Tensor: shape=(), dtype=float32, numpy=1.38>,\n",
       "  <tf.Tensor: shape=(), dtype=float32, numpy=-0.40829834>),\n",
       " (<tf.Tensor: shape=(), dtype=float32, numpy=1.4>,\n",
       "  <tf.Tensor: shape=(), dtype=float32, numpy=-0.63589287>),\n",
       " (<tf.Tensor: shape=(), dtype=float32, numpy=1.42>,\n",
       "  <tf.Tensor: shape=(), dtype=float32, numpy=-1.066432>),\n",
       " (<tf.Tensor: shape=(), dtype=float32, numpy=1.44>,\n",
       "  <tf.Tensor: shape=(), dtype=float32, numpy=0.2568206>),\n",
       " (<tf.Tensor: shape=(), dtype=float32, numpy=1.46>,\n",
       "  <tf.Tensor: shape=(), dtype=float32, numpy=0.45063674>),\n",
       " (<tf.Tensor: shape=(), dtype=float32, numpy=1.48>,\n",
       "  <tf.Tensor: shape=(), dtype=float32, numpy=-1.2211255>),\n",
       " (<tf.Tensor: shape=(), dtype=float32, numpy=1.5>,\n",
       "  <tf.Tensor: shape=(), dtype=float32, numpy=0.42109448>),\n",
       " (<tf.Tensor: shape=(), dtype=float32, numpy=1.52>,\n",
       "  <tf.Tensor: shape=(), dtype=float32, numpy=0.6368389>),\n",
       " (<tf.Tensor: shape=(), dtype=float32, numpy=1.54>,\n",
       "  <tf.Tensor: shape=(), dtype=float32, numpy=0.19924784>),\n",
       " (<tf.Tensor: shape=(), dtype=float32, numpy=1.56>,\n",
       "  <tf.Tensor: shape=(), dtype=float32, numpy=1.2234318>),\n",
       " (<tf.Tensor: shape=(), dtype=float32, numpy=1.58>,\n",
       "  <tf.Tensor: shape=(), dtype=float32, numpy=1.6701208>),\n",
       " (<tf.Tensor: shape=(), dtype=float32, numpy=1.6>,\n",
       "  <tf.Tensor: shape=(), dtype=float32, numpy=0.9715202>),\n",
       " (<tf.Tensor: shape=(), dtype=float32, numpy=1.62>,\n",
       "  <tf.Tensor: shape=(), dtype=float32, numpy=1.5200257>),\n",
       " (<tf.Tensor: shape=(), dtype=float32, numpy=1.64>,\n",
       "  <tf.Tensor: shape=(), dtype=float32, numpy=1.5537841>),\n",
       " (<tf.Tensor: shape=(), dtype=float32, numpy=1.66>,\n",
       "  <tf.Tensor: shape=(), dtype=float32, numpy=-0.011047959>),\n",
       " (<tf.Tensor: shape=(), dtype=float32, numpy=1.68>,\n",
       "  <tf.Tensor: shape=(), dtype=float32, numpy=1.6058749>),\n",
       " (<tf.Tensor: shape=(), dtype=float32, numpy=1.7>,\n",
       "  <tf.Tensor: shape=(), dtype=float32, numpy=1.491005>),\n",
       " (<tf.Tensor: shape=(), dtype=float32, numpy=1.72>,\n",
       "  <tf.Tensor: shape=(), dtype=float32, numpy=0.3768958>),\n",
       " (<tf.Tensor: shape=(), dtype=float32, numpy=1.74>,\n",
       "  <tf.Tensor: shape=(), dtype=float32, numpy=0.33772898>),\n",
       " (<tf.Tensor: shape=(), dtype=float32, numpy=1.76>,\n",
       "  <tf.Tensor: shape=(), dtype=float32, numpy=2.1311631>),\n",
       " (<tf.Tensor: shape=(), dtype=float32, numpy=1.78>,\n",
       "  <tf.Tensor: shape=(), dtype=float32, numpy=0.17806482>),\n",
       " (<tf.Tensor: shape=(), dtype=float32, numpy=1.8>,\n",
       "  <tf.Tensor: shape=(), dtype=float32, numpy=3.0336473>),\n",
       " (<tf.Tensor: shape=(), dtype=float32, numpy=1.82>,\n",
       "  <tf.Tensor: shape=(), dtype=float32, numpy=1.5569584>),\n",
       " (<tf.Tensor: shape=(), dtype=float32, numpy=1.84>,\n",
       "  <tf.Tensor: shape=(), dtype=float32, numpy=1.6321509>),\n",
       " (<tf.Tensor: shape=(), dtype=float32, numpy=1.86>,\n",
       "  <tf.Tensor: shape=(), dtype=float32, numpy=0.9705968>),\n",
       " (<tf.Tensor: shape=(), dtype=float32, numpy=1.88>,\n",
       "  <tf.Tensor: shape=(), dtype=float32, numpy=2.9650676>),\n",
       " (<tf.Tensor: shape=(), dtype=float32, numpy=1.9>,\n",
       "  <tf.Tensor: shape=(), dtype=float32, numpy=3.6109266>),\n",
       " (<tf.Tensor: shape=(), dtype=float32, numpy=1.92>,\n",
       "  <tf.Tensor: shape=(), dtype=float32, numpy=4.4203377>),\n",
       " (<tf.Tensor: shape=(), dtype=float32, numpy=1.94>,\n",
       "  <tf.Tensor: shape=(), dtype=float32, numpy=3.7169132>),\n",
       " (<tf.Tensor: shape=(), dtype=float32, numpy=1.96>,\n",
       "  <tf.Tensor: shape=(), dtype=float32, numpy=5.068879>),\n",
       " (<tf.Tensor: shape=(), dtype=float32, numpy=1.98>,\n",
       "  <tf.Tensor: shape=(), dtype=float32, numpy=3.0648031>),\n",
       " (<tf.Tensor: shape=(), dtype=float32, numpy=2.0>,\n",
       "  <tf.Tensor: shape=(), dtype=float32, numpy=3.9568505>)]"
      ]
     },
     "execution_count": 40,
     "metadata": {},
     "output_type": "execute_result"
    }
   ],
   "source": [
    "list(tf.data.Dataset.from_tensor_slices((x, y)))"
   ]
  },
  {
   "cell_type": "code",
   "execution_count": 41,
   "metadata": {},
   "outputs": [
    {
     "data": {
      "text/plain": [
       "<_BatchDataset element_spec=(TensorSpec(shape=(None,), dtype=tf.float32, name=None), TensorSpec(shape=(None,), dtype=tf.float32, name=None))>"
      ]
     },
     "execution_count": 41,
     "metadata": {},
     "output_type": "execute_result"
    }
   ],
   "source": [
    "batch_size = 32\n",
    "dataset = tf.data.Dataset.from_tensor_slices((x, y))\n",
    "dataset = dataset.shuffle(buffer_size=x.shape[0]).batch(batch_size)\n",
    "dataset"
   ]
  },
  {
   "cell_type": "code",
   "execution_count": 42,
   "metadata": {},
   "outputs": [
    {
     "data": {
      "text/plain": [
       "(<tf.Tensor: shape=(9,), dtype=float32, numpy=\n",
       " array([-0.64, -1.74,  0.04, -0.72, -0.68,  1.12,  0.46, -0.94, -0.28],\n",
       "       dtype=float32)>,\n",
       " <tf.Tensor: shape=(9,), dtype=float32, numpy=\n",
       " array([-4.747081 , -4.7302475, -4.4133863, -5.2899475, -7.6029634,\n",
       "        -3.6665456, -3.48145  , -6.4779353, -5.047057 ], dtype=float32)>)"
      ]
     },
     "execution_count": 42,
     "metadata": {},
     "output_type": "execute_result"
    }
   ],
   "source": [
    "list(dataset)[-1]"
   ]
  },
  {
   "cell_type": "code",
   "execution_count": 43,
   "metadata": {},
   "outputs": [
    {
     "data": {
      "text/plain": [
       "(<tf.Variable 'W_1:0' shape=() dtype=float32, numpy=4.1439056>,\n",
       " <tf.Variable 'W_2:0' shape=() dtype=float32, numpy=3.9076905>,\n",
       " <tf.Variable 'b:0' shape=() dtype=float32, numpy=4.8737946>)"
      ]
     },
     "execution_count": 43,
     "metadata": {},
     "output_type": "execute_result"
    }
   ],
   "source": [
    "model.variables"
   ]
  },
  {
   "cell_type": "code",
   "execution_count": 44,
   "metadata": {},
   "outputs": [
    {
     "name": "stdout",
     "output_type": "stream",
     "text": [
      "(<tf.Tensor: shape=(), dtype=float32, numpy=1.1052585>, <tf.Tensor: shape=(), dtype=float32, numpy=45.874046>, <tf.Tensor: shape=(), dtype=float32, numpy=26.881008>)\n",
      "\n",
      "(<tf.Tensor: shape=(), dtype=float32, numpy=18.305914>, <tf.Tensor: shape=(), dtype=float32, numpy=42.733482>, <tf.Tensor: shape=(), dtype=float32, numpy=27.15227>)\n",
      "\n",
      "(<tf.Tensor: shape=(), dtype=float32, numpy=-3.0532813>, <tf.Tensor: shape=(), dtype=float32, numpy=32.34118>, <tf.Tensor: shape=(), dtype=float32, numpy=22.20856>)\n",
      "\n",
      "(<tf.Tensor: shape=(), dtype=float32, numpy=2.9197938>, <tf.Tensor: shape=(), dtype=float32, numpy=28.591877>, <tf.Tensor: shape=(), dtype=float32, numpy=21.586458>)\n",
      "\n",
      "(<tf.Tensor: shape=(), dtype=float32, numpy=1.5305278>, <tf.Tensor: shape=(), dtype=float32, numpy=31.598242>, <tf.Tensor: shape=(), dtype=float32, numpy=21.230606>)\n",
      "\n",
      "(<tf.Tensor: shape=(), dtype=float32, numpy=7.944242>, <tf.Tensor: shape=(), dtype=float32, numpy=37.658463>, <tf.Tensor: shape=(), dtype=float32, numpy=21.397581>)\n",
      "\n",
      "(<tf.Tensor: shape=(), dtype=float32, numpy=16.001602>, <tf.Tensor: shape=(), dtype=float32, numpy=35.37777>, <tf.Tensor: shape=(), dtype=float32, numpy=21.093662>)\n",
      "\n",
      "Mean squared error for step 0: 80.186\n",
      "(<tf.Tensor: shape=(), dtype=float32, numpy=8.015204>, <tf.Tensor: shape=(), dtype=float32, numpy=15.638352>, <tf.Tensor: shape=(), dtype=float32, numpy=17.952934>)\n",
      "\n",
      "(<tf.Tensor: shape=(), dtype=float32, numpy=7.464432>, <tf.Tensor: shape=(), dtype=float32, numpy=26.441444>, <tf.Tensor: shape=(), dtype=float32, numpy=16.958956>)\n",
      "\n",
      "(<tf.Tensor: shape=(), dtype=float32, numpy=1.7779804>, <tf.Tensor: shape=(), dtype=float32, numpy=22.578602>, <tf.Tensor: shape=(), dtype=float32, numpy=14.92176>)\n",
      "\n",
      "(<tf.Tensor: shape=(), dtype=float32, numpy=6.9506674>, <tf.Tensor: shape=(), dtype=float32, numpy=14.6486845>, <tf.Tensor: shape=(), dtype=float32, numpy=15.342113>)\n",
      "\n",
      "(<tf.Tensor: shape=(), dtype=float32, numpy=2.611571>, <tf.Tensor: shape=(), dtype=float32, numpy=18.138662>, <tf.Tensor: shape=(), dtype=float32, numpy=13.405783>)\n",
      "\n",
      "(<tf.Tensor: shape=(), dtype=float32, numpy=0.5482576>, <tf.Tensor: shape=(), dtype=float32, numpy=16.801691>, <tf.Tensor: shape=(), dtype=float32, numpy=12.45298>)\n",
      "\n",
      "(<tf.Tensor: shape=(), dtype=float32, numpy=1.4225261>, <tf.Tensor: shape=(), dtype=float32, numpy=19.491377>, <tf.Tensor: shape=(), dtype=float32, numpy=10.27135>)\n",
      "\n",
      "(<tf.Tensor: shape=(), dtype=float32, numpy=4.3489738>, <tf.Tensor: shape=(), dtype=float32, numpy=13.8510275>, <tf.Tensor: shape=(), dtype=float32, numpy=11.495857>)\n",
      "\n",
      "(<tf.Tensor: shape=(), dtype=float32, numpy=6.3793755>, <tf.Tensor: shape=(), dtype=float32, numpy=15.34522>, <tf.Tensor: shape=(), dtype=float32, numpy=11.306331>)\n",
      "\n",
      "(<tf.Tensor: shape=(), dtype=float32, numpy=1.6746383>, <tf.Tensor: shape=(), dtype=float32, numpy=9.670361>, <tf.Tensor: shape=(), dtype=float32, numpy=10.8571205>)\n",
      "\n",
      "(<tf.Tensor: shape=(), dtype=float32, numpy=1.6553197>, <tf.Tensor: shape=(), dtype=float32, numpy=9.723394>, <tf.Tensor: shape=(), dtype=float32, numpy=9.758214>)\n",
      "\n",
      "(<tf.Tensor: shape=(), dtype=float32, numpy=3.096382>, <tf.Tensor: shape=(), dtype=float32, numpy=5.2334547>, <tf.Tensor: shape=(), dtype=float32, numpy=9.640665>)\n",
      "\n",
      "(<tf.Tensor: shape=(), dtype=float32, numpy=3.2570734>, <tf.Tensor: shape=(), dtype=float32, numpy=7.070949>, <tf.Tensor: shape=(), dtype=float32, numpy=9.802815>)\n",
      "\n",
      "(<tf.Tensor: shape=(), dtype=float32, numpy=8.544918>, <tf.Tensor: shape=(), dtype=float32, numpy=5.854382>, <tf.Tensor: shape=(), dtype=float32, numpy=6.5937004>)\n",
      "\n",
      "(<tf.Tensor: shape=(), dtype=float32, numpy=2.5839884>, <tf.Tensor: shape=(), dtype=float32, numpy=8.166822>, <tf.Tensor: shape=(), dtype=float32, numpy=8.53844>)\n",
      "\n",
      "(<tf.Tensor: shape=(), dtype=float32, numpy=1.485513>, <tf.Tensor: shape=(), dtype=float32, numpy=6.100955>, <tf.Tensor: shape=(), dtype=float32, numpy=8.762562>)\n",
      "\n",
      "(<tf.Tensor: shape=(), dtype=float32, numpy=3.0480537>, <tf.Tensor: shape=(), dtype=float32, numpy=6.7131853>, <tf.Tensor: shape=(), dtype=float32, numpy=6.8247232>)\n",
      "\n",
      "(<tf.Tensor: shape=(), dtype=float32, numpy=3.6745281>, <tf.Tensor: shape=(), dtype=float32, numpy=6.1137466>, <tf.Tensor: shape=(), dtype=float32, numpy=8.299673>)\n",
      "\n",
      "(<tf.Tensor: shape=(), dtype=float32, numpy=4.114947>, <tf.Tensor: shape=(), dtype=float32, numpy=2.5465493>, <tf.Tensor: shape=(), dtype=float32, numpy=7.719354>)\n",
      "\n",
      "(<tf.Tensor: shape=(), dtype=float32, numpy=3.7968726>, <tf.Tensor: shape=(), dtype=float32, numpy=0.4625098>, <tf.Tensor: shape=(), dtype=float32, numpy=5.9876823>)\n",
      "\n",
      "(<tf.Tensor: shape=(), dtype=float32, numpy=-1.3589591>, <tf.Tensor: shape=(), dtype=float32, numpy=4.424637>, <tf.Tensor: shape=(), dtype=float32, numpy=7.1767616>)\n",
      "\n",
      "(<tf.Tensor: shape=(), dtype=float32, numpy=3.4546876>, <tf.Tensor: shape=(), dtype=float32, numpy=4.330729>, <tf.Tensor: shape=(), dtype=float32, numpy=5.8926215>)\n",
      "\n",
      "(<tf.Tensor: shape=(), dtype=float32, numpy=3.500393>, <tf.Tensor: shape=(), dtype=float32, numpy=5.5192585>, <tf.Tensor: shape=(), dtype=float32, numpy=8.099061>)\n",
      "\n",
      "(<tf.Tensor: shape=(), dtype=float32, numpy=0.29782426>, <tf.Tensor: shape=(), dtype=float32, numpy=2.2655778>, <tf.Tensor: shape=(), dtype=float32, numpy=6.2070003>)\n",
      "\n",
      "(<tf.Tensor: shape=(), dtype=float32, numpy=3.1601632>, <tf.Tensor: shape=(), dtype=float32, numpy=-0.8468362>, <tf.Tensor: shape=(), dtype=float32, numpy=4.685772>)\n",
      "\n",
      "(<tf.Tensor: shape=(), dtype=float32, numpy=2.9156294>, <tf.Tensor: shape=(), dtype=float32, numpy=-1.4494917>, <tf.Tensor: shape=(), dtype=float32, numpy=5.440464>)\n",
      "\n",
      "(<tf.Tensor: shape=(), dtype=float32, numpy=0.73076797>, <tf.Tensor: shape=(), dtype=float32, numpy=2.7798376>, <tf.Tensor: shape=(), dtype=float32, numpy=6.020792>)\n",
      "\n",
      "(<tf.Tensor: shape=(), dtype=float32, numpy=3.0497832>, <tf.Tensor: shape=(), dtype=float32, numpy=-2.3722882>, <tf.Tensor: shape=(), dtype=float32, numpy=4.5955667>)\n",
      "\n",
      "(<tf.Tensor: shape=(), dtype=float32, numpy=3.6676035>, <tf.Tensor: shape=(), dtype=float32, numpy=2.0104277>, <tf.Tensor: shape=(), dtype=float32, numpy=5.538193>)\n",
      "\n",
      "(<tf.Tensor: shape=(), dtype=float32, numpy=0.11455932>, <tf.Tensor: shape=(), dtype=float32, numpy=0.012761742>, <tf.Tensor: shape=(), dtype=float32, numpy=5.7156925>)\n",
      "\n",
      "(<tf.Tensor: shape=(), dtype=float32, numpy=3.2329254>, <tf.Tensor: shape=(), dtype=float32, numpy=1.0143988>, <tf.Tensor: shape=(), dtype=float32, numpy=5.065426>)\n",
      "\n",
      "(<tf.Tensor: shape=(), dtype=float32, numpy=3.4559035>, <tf.Tensor: shape=(), dtype=float32, numpy=-0.5134202>, <tf.Tensor: shape=(), dtype=float32, numpy=4.8139067>)\n",
      "\n",
      "(<tf.Tensor: shape=(), dtype=float32, numpy=-0.11687186>, <tf.Tensor: shape=(), dtype=float32, numpy=2.2113152>, <tf.Tensor: shape=(), dtype=float32, numpy=5.50173>)\n",
      "\n",
      "(<tf.Tensor: shape=(), dtype=float32, numpy=0.4865231>, <tf.Tensor: shape=(), dtype=float32, numpy=-1.481625>, <tf.Tensor: shape=(), dtype=float32, numpy=4.211959>)\n",
      "\n",
      "(<tf.Tensor: shape=(), dtype=float32, numpy=3.905445>, <tf.Tensor: shape=(), dtype=float32, numpy=0.6732337>, <tf.Tensor: shape=(), dtype=float32, numpy=4.10818>)\n",
      "\n",
      "(<tf.Tensor: shape=(), dtype=float32, numpy=2.430129>, <tf.Tensor: shape=(), dtype=float32, numpy=-0.7855448>, <tf.Tensor: shape=(), dtype=float32, numpy=4.233104>)\n",
      "\n",
      "(<tf.Tensor: shape=(), dtype=float32, numpy=3.3648243>, <tf.Tensor: shape=(), dtype=float32, numpy=-1.4117985>, <tf.Tensor: shape=(), dtype=float32, numpy=3.8369515>)\n",
      "\n",
      "(<tf.Tensor: shape=(), dtype=float32, numpy=-0.49809095>, <tf.Tensor: shape=(), dtype=float32, numpy=0.5665015>, <tf.Tensor: shape=(), dtype=float32, numpy=5.295326>)\n",
      "\n",
      "(<tf.Tensor: shape=(), dtype=float32, numpy=0.24187289>, <tf.Tensor: shape=(), dtype=float32, numpy=2.3426342>, <tf.Tensor: shape=(), dtype=float32, numpy=6.4470825>)\n",
      "\n",
      "(<tf.Tensor: shape=(), dtype=float32, numpy=1.5590585>, <tf.Tensor: shape=(), dtype=float32, numpy=-0.9798904>, <tf.Tensor: shape=(), dtype=float32, numpy=3.64601>)\n",
      "\n",
      "(<tf.Tensor: shape=(), dtype=float32, numpy=3.1122322>, <tf.Tensor: shape=(), dtype=float32, numpy=-1.11641>, <tf.Tensor: shape=(), dtype=float32, numpy=2.9697108>)\n",
      "\n",
      "(<tf.Tensor: shape=(), dtype=float32, numpy=-2.8221893>, <tf.Tensor: shape=(), dtype=float32, numpy=-4.7865896>, <tf.Tensor: shape=(), dtype=float32, numpy=4.29795>)\n",
      "\n",
      "(<tf.Tensor: shape=(), dtype=float32, numpy=2.3778439>, <tf.Tensor: shape=(), dtype=float32, numpy=-1.0356296>, <tf.Tensor: shape=(), dtype=float32, numpy=3.3960469>)\n",
      "\n",
      "(<tf.Tensor: shape=(), dtype=float32, numpy=0.40501237>, <tf.Tensor: shape=(), dtype=float32, numpy=-1.9773793>, <tf.Tensor: shape=(), dtype=float32, numpy=3.5446134>)\n",
      "\n",
      "(<tf.Tensor: shape=(), dtype=float32, numpy=1.4951464>, <tf.Tensor: shape=(), dtype=float32, numpy=-1.1110877>, <tf.Tensor: shape=(), dtype=float32, numpy=3.9352431>)\n",
      "\n",
      "(<tf.Tensor: shape=(), dtype=float32, numpy=1.3375506>, <tf.Tensor: shape=(), dtype=float32, numpy=-2.4587524>, <tf.Tensor: shape=(), dtype=float32, numpy=4.0256896>)\n",
      "\n",
      "(<tf.Tensor: shape=(), dtype=float32, numpy=1.8333801>, <tf.Tensor: shape=(), dtype=float32, numpy=3.1272871>, <tf.Tensor: shape=(), dtype=float32, numpy=6.4763937>)\n",
      "\n",
      "(<tf.Tensor: shape=(), dtype=float32, numpy=0.4894051>, <tf.Tensor: shape=(), dtype=float32, numpy=-0.95165855>, <tf.Tensor: shape=(), dtype=float32, numpy=2.4932218>)\n",
      "\n",
      "(<tf.Tensor: shape=(), dtype=float32, numpy=2.2879574>, <tf.Tensor: shape=(), dtype=float32, numpy=2.2994728>, <tf.Tensor: shape=(), dtype=float32, numpy=5.8831577>)\n",
      "\n",
      "(<tf.Tensor: shape=(), dtype=float32, numpy=0.91364825>, <tf.Tensor: shape=(), dtype=float32, numpy=-0.051002383>, <tf.Tensor: shape=(), dtype=float32, numpy=3.1230052>)\n",
      "\n",
      "(<tf.Tensor: shape=(), dtype=float32, numpy=-0.29099625>, <tf.Tensor: shape=(), dtype=float32, numpy=-2.0282454>, <tf.Tensor: shape=(), dtype=float32, numpy=4.431744>)\n",
      "\n",
      "(<tf.Tensor: shape=(), dtype=float32, numpy=1.7640817>, <tf.Tensor: shape=(), dtype=float32, numpy=-1.7319779>, <tf.Tensor: shape=(), dtype=float32, numpy=2.361528>)\n",
      "\n",
      "(<tf.Tensor: shape=(), dtype=float32, numpy=1.2173841>, <tf.Tensor: shape=(), dtype=float32, numpy=-1.5583493>, <tf.Tensor: shape=(), dtype=float32, numpy=3.9074903>)\n",
      "\n",
      "(<tf.Tensor: shape=(), dtype=float32, numpy=0.53991413>, <tf.Tensor: shape=(), dtype=float32, numpy=-0.671287>, <tf.Tensor: shape=(), dtype=float32, numpy=3.518569>)\n",
      "\n",
      "(<tf.Tensor: shape=(), dtype=float32, numpy=1.7882661>, <tf.Tensor: shape=(), dtype=float32, numpy=-1.5055212>, <tf.Tensor: shape=(), dtype=float32, numpy=3.9494271>)\n",
      "\n",
      "(<tf.Tensor: shape=(), dtype=float32, numpy=3.9905026>, <tf.Tensor: shape=(), dtype=float32, numpy=-0.3597501>, <tf.Tensor: shape=(), dtype=float32, numpy=3.5331175>)\n",
      "\n",
      "(<tf.Tensor: shape=(), dtype=float32, numpy=-0.4452591>, <tf.Tensor: shape=(), dtype=float32, numpy=-2.4360583>, <tf.Tensor: shape=(), dtype=float32, numpy=2.8387842>)\n",
      "\n",
      "(<tf.Tensor: shape=(), dtype=float32, numpy=1.5346717>, <tf.Tensor: shape=(), dtype=float32, numpy=2.1983633>, <tf.Tensor: shape=(), dtype=float32, numpy=4.821666>)\n",
      "\n",
      "(<tf.Tensor: shape=(), dtype=float32, numpy=0.1958617>, <tf.Tensor: shape=(), dtype=float32, numpy=-3.586543>, <tf.Tensor: shape=(), dtype=float32, numpy=3.2837393>)\n",
      "\n",
      "(<tf.Tensor: shape=(), dtype=float32, numpy=1.4795046>, <tf.Tensor: shape=(), dtype=float32, numpy=0.068971574>, <tf.Tensor: shape=(), dtype=float32, numpy=3.59892>)\n",
      "\n",
      "(<tf.Tensor: shape=(), dtype=float32, numpy=1.0123963>, <tf.Tensor: shape=(), dtype=float32, numpy=-0.8505709>, <tf.Tensor: shape=(), dtype=float32, numpy=3.3624725>)\n",
      "\n",
      "(<tf.Tensor: shape=(), dtype=float32, numpy=1.0025388>, <tf.Tensor: shape=(), dtype=float32, numpy=-3.445071>, <tf.Tensor: shape=(), dtype=float32, numpy=2.4662092>)\n",
      "\n",
      "(<tf.Tensor: shape=(), dtype=float32, numpy=2.5524902>, <tf.Tensor: shape=(), dtype=float32, numpy=-2.758542>, <tf.Tensor: shape=(), dtype=float32, numpy=0.2910992>)\n",
      "\n",
      "(<tf.Tensor: shape=(), dtype=float32, numpy=1.409947>, <tf.Tensor: shape=(), dtype=float32, numpy=0.6516743>, <tf.Tensor: shape=(), dtype=float32, numpy=4.450947>)\n",
      "\n",
      "(<tf.Tensor: shape=(), dtype=float32, numpy=1.1356552>, <tf.Tensor: shape=(), dtype=float32, numpy=0.16846365>, <tf.Tensor: shape=(), dtype=float32, numpy=3.263775>)\n",
      "\n",
      "(<tf.Tensor: shape=(), dtype=float32, numpy=0.8721808>, <tf.Tensor: shape=(), dtype=float32, numpy=-4.4956255>, <tf.Tensor: shape=(), dtype=float32, numpy=1.3357624>)\n",
      "\n",
      "(<tf.Tensor: shape=(), dtype=float32, numpy=1.0209028>, <tf.Tensor: shape=(), dtype=float32, numpy=-0.50873446>, <tf.Tensor: shape=(), dtype=float32, numpy=3.1936996>)\n",
      "\n",
      "(<tf.Tensor: shape=(), dtype=float32, numpy=-0.4210296>, <tf.Tensor: shape=(), dtype=float32, numpy=-2.8808181>, <tf.Tensor: shape=(), dtype=float32, numpy=2.6792107>)\n",
      "\n",
      "(<tf.Tensor: shape=(), dtype=float32, numpy=0.67577916>, <tf.Tensor: shape=(), dtype=float32, numpy=0.5578451>, <tf.Tensor: shape=(), dtype=float32, numpy=4.3522873>)\n",
      "\n",
      "(<tf.Tensor: shape=(), dtype=float32, numpy=-2.0463178>, <tf.Tensor: shape=(), dtype=float32, numpy=-5.334797>, <tf.Tensor: shape=(), dtype=float32, numpy=1.4732996>)\n",
      "\n",
      "Mean squared error for step 10: 8.211\n",
      "(<tf.Tensor: shape=(), dtype=float32, numpy=0.38984543>, <tf.Tensor: shape=(), dtype=float32, numpy=-1.6240368>, <tf.Tensor: shape=(), dtype=float32, numpy=2.7629342>)\n",
      "\n",
      "(<tf.Tensor: shape=(), dtype=float32, numpy=1.488811>, <tf.Tensor: shape=(), dtype=float32, numpy=-1.1282334>, <tf.Tensor: shape=(), dtype=float32, numpy=2.956703>)\n",
      "\n",
      "(<tf.Tensor: shape=(), dtype=float32, numpy=0.94764394>, <tf.Tensor: shape=(), dtype=float32, numpy=0.6012782>, <tf.Tensor: shape=(), dtype=float32, numpy=3.687611>)\n",
      "\n",
      "(<tf.Tensor: shape=(), dtype=float32, numpy=-0.34652507>, <tf.Tensor: shape=(), dtype=float32, numpy=-0.05931127>, <tf.Tensor: shape=(), dtype=float32, numpy=3.7687263>)\n",
      "\n",
      "(<tf.Tensor: shape=(), dtype=float32, numpy=2.1204734>, <tf.Tensor: shape=(), dtype=float32, numpy=-2.7639208>, <tf.Tensor: shape=(), dtype=float32, numpy=1.9050853>)\n",
      "\n",
      "(<tf.Tensor: shape=(), dtype=float32, numpy=-0.5766775>, <tf.Tensor: shape=(), dtype=float32, numpy=-0.34811366>, <tf.Tensor: shape=(), dtype=float32, numpy=3.669476>)\n",
      "\n",
      "(<tf.Tensor: shape=(), dtype=float32, numpy=-1.169144>, <tf.Tensor: shape=(), dtype=float32, numpy=-4.2561774>, <tf.Tensor: shape=(), dtype=float32, numpy=1.4446547>)\n",
      "\n",
      "(<tf.Tensor: shape=(), dtype=float32, numpy=0.822122>, <tf.Tensor: shape=(), dtype=float32, numpy=-0.2986452>, <tf.Tensor: shape=(), dtype=float32, numpy=3.806295>)\n",
      "\n",
      "(<tf.Tensor: shape=(), dtype=float32, numpy=0.8533978>, <tf.Tensor: shape=(), dtype=float32, numpy=2.0495098>, <tf.Tensor: shape=(), dtype=float32, numpy=4.6793737>)\n",
      "\n",
      "(<tf.Tensor: shape=(), dtype=float32, numpy=1.6274383>, <tf.Tensor: shape=(), dtype=float32, numpy=-1.8985443>, <tf.Tensor: shape=(), dtype=float32, numpy=1.4432454>)\n",
      "\n",
      "(<tf.Tensor: shape=(), dtype=float32, numpy=-0.60398805>, <tf.Tensor: shape=(), dtype=float32, numpy=-3.2550397>, <tf.Tensor: shape=(), dtype=float32, numpy=1.5281966>)\n",
      "\n",
      "(<tf.Tensor: shape=(), dtype=float32, numpy=-0.51457024>, <tf.Tensor: shape=(), dtype=float32, numpy=-0.19055057>, <tf.Tensor: shape=(), dtype=float32, numpy=3.306717>)\n",
      "\n",
      "(<tf.Tensor: shape=(), dtype=float32, numpy=0.73510146>, <tf.Tensor: shape=(), dtype=float32, numpy=-2.4545927>, <tf.Tensor: shape=(), dtype=float32, numpy=1.9945898>)\n",
      "\n",
      "(<tf.Tensor: shape=(), dtype=float32, numpy=1.2202681>, <tf.Tensor: shape=(), dtype=float32, numpy=-1.8977995>, <tf.Tensor: shape=(), dtype=float32, numpy=4.386583>)\n",
      "\n",
      "(<tf.Tensor: shape=(), dtype=float32, numpy=0.7851751>, <tf.Tensor: shape=(), dtype=float32, numpy=-1.420728>, <tf.Tensor: shape=(), dtype=float32, numpy=3.2394161>)\n",
      "\n",
      "(<tf.Tensor: shape=(), dtype=float32, numpy=0.81228995>, <tf.Tensor: shape=(), dtype=float32, numpy=-1.8536453>, <tf.Tensor: shape=(), dtype=float32, numpy=2.8213186>)\n",
      "\n",
      "(<tf.Tensor: shape=(), dtype=float32, numpy=0.63227534>, <tf.Tensor: shape=(), dtype=float32, numpy=-0.086153686>, <tf.Tensor: shape=(), dtype=float32, numpy=3.0285072>)\n",
      "\n",
      "(<tf.Tensor: shape=(), dtype=float32, numpy=-0.57285297>, <tf.Tensor: shape=(), dtype=float32, numpy=-0.85204875>, <tf.Tensor: shape=(), dtype=float32, numpy=2.8090467>)\n",
      "\n",
      "(<tf.Tensor: shape=(), dtype=float32, numpy=1.4286034>, <tf.Tensor: shape=(), dtype=float32, numpy=-0.57354045>, <tf.Tensor: shape=(), dtype=float32, numpy=2.1127992>)\n",
      "\n",
      "(<tf.Tensor: shape=(), dtype=float32, numpy=-1.0323533>, <tf.Tensor: shape=(), dtype=float32, numpy=-1.444561>, <tf.Tensor: shape=(), dtype=float32, numpy=2.1960616>)\n",
      "\n",
      "(<tf.Tensor: shape=(), dtype=float32, numpy=2.0094514>, <tf.Tensor: shape=(), dtype=float32, numpy=0.7609117>, <tf.Tensor: shape=(), dtype=float32, numpy=3.1782947>)\n",
      "\n",
      "(<tf.Tensor: shape=(), dtype=float32, numpy=0.33504826>, <tf.Tensor: shape=(), dtype=float32, numpy=-0.17835045>, <tf.Tensor: shape=(), dtype=float32, numpy=3.0464976>)\n",
      "\n",
      "(<tf.Tensor: shape=(), dtype=float32, numpy=0.66659486>, <tf.Tensor: shape=(), dtype=float32, numpy=-0.9742002>, <tf.Tensor: shape=(), dtype=float32, numpy=2.3768687>)\n",
      "\n",
      "(<tf.Tensor: shape=(), dtype=float32, numpy=-0.11521757>, <tf.Tensor: shape=(), dtype=float32, numpy=-1.6671221>, <tf.Tensor: shape=(), dtype=float32, numpy=2.1257858>)\n",
      "\n",
      "(<tf.Tensor: shape=(), dtype=float32, numpy=-0.19124304>, <tf.Tensor: shape=(), dtype=float32, numpy=0.6033844>, <tf.Tensor: shape=(), dtype=float32, numpy=3.5406256>)\n",
      "\n",
      "(<tf.Tensor: shape=(), dtype=float32, numpy=1.6488848>, <tf.Tensor: shape=(), dtype=float32, numpy=-2.9431977>, <tf.Tensor: shape=(), dtype=float32, numpy=1.799243>)\n",
      "\n",
      "(<tf.Tensor: shape=(), dtype=float32, numpy=-0.30886617>, <tf.Tensor: shape=(), dtype=float32, numpy=-2.5118308>, <tf.Tensor: shape=(), dtype=float32, numpy=1.7992458>)\n",
      "\n",
      "(<tf.Tensor: shape=(), dtype=float32, numpy=-0.013664335>, <tf.Tensor: shape=(), dtype=float32, numpy=1.5912796>, <tf.Tensor: shape=(), dtype=float32, numpy=3.0238361>)\n",
      "\n",
      "(<tf.Tensor: shape=(), dtype=float32, numpy=0.6539633>, <tf.Tensor: shape=(), dtype=float32, numpy=-3.2843177>, <tf.Tensor: shape=(), dtype=float32, numpy=1.956608>)\n",
      "\n",
      "(<tf.Tensor: shape=(), dtype=float32, numpy=-0.95254225>, <tf.Tensor: shape=(), dtype=float32, numpy=-2.7899165>, <tf.Tensor: shape=(), dtype=float32, numpy=1.6664096>)\n",
      "\n",
      "(<tf.Tensor: shape=(), dtype=float32, numpy=1.5925581>, <tf.Tensor: shape=(), dtype=float32, numpy=-0.83333576>, <tf.Tensor: shape=(), dtype=float32, numpy=1.8940406>)\n",
      "\n",
      "(<tf.Tensor: shape=(), dtype=float32, numpy=-0.76443166>, <tf.Tensor: shape=(), dtype=float32, numpy=1.0043398>, <tf.Tensor: shape=(), dtype=float32, numpy=3.631229>)\n",
      "\n",
      "(<tf.Tensor: shape=(), dtype=float32, numpy=0.70365554>, <tf.Tensor: shape=(), dtype=float32, numpy=-0.84587854>, <tf.Tensor: shape=(), dtype=float32, numpy=2.2258813>)\n",
      "\n",
      "(<tf.Tensor: shape=(), dtype=float32, numpy=0.31153858>, <tf.Tensor: shape=(), dtype=float32, numpy=0.13955443>, <tf.Tensor: shape=(), dtype=float32, numpy=3.0715842>)\n",
      "\n",
      "(<tf.Tensor: shape=(), dtype=float32, numpy=0.92850965>, <tf.Tensor: shape=(), dtype=float32, numpy=0.12666297>, <tf.Tensor: shape=(), dtype=float32, numpy=1.5838115>)\n",
      "\n",
      "(<tf.Tensor: shape=(), dtype=float32, numpy=-0.30955762>, <tf.Tensor: shape=(), dtype=float32, numpy=-1.4371953>, <tf.Tensor: shape=(), dtype=float32, numpy=1.7562988>)\n",
      "\n",
      "(<tf.Tensor: shape=(), dtype=float32, numpy=1.1085434>, <tf.Tensor: shape=(), dtype=float32, numpy=-0.5942424>, <tf.Tensor: shape=(), dtype=float32, numpy=2.65728>)\n",
      "\n",
      "(<tf.Tensor: shape=(), dtype=float32, numpy=0.5234498>, <tf.Tensor: shape=(), dtype=float32, numpy=-2.0621178>, <tf.Tensor: shape=(), dtype=float32, numpy=1.6704315>)\n",
      "\n",
      "(<tf.Tensor: shape=(), dtype=float32, numpy=0.3632886>, <tf.Tensor: shape=(), dtype=float32, numpy=-0.9442699>, <tf.Tensor: shape=(), dtype=float32, numpy=2.5340838>)\n",
      "\n",
      "(<tf.Tensor: shape=(), dtype=float32, numpy=-0.69975555>, <tf.Tensor: shape=(), dtype=float32, numpy=0.13172662>, <tf.Tensor: shape=(), dtype=float32, numpy=2.7846613>)\n",
      "\n",
      "(<tf.Tensor: shape=(), dtype=float32, numpy=0.50668454>, <tf.Tensor: shape=(), dtype=float32, numpy=-0.721716>, <tf.Tensor: shape=(), dtype=float32, numpy=2.4950333>)\n",
      "\n",
      "(<tf.Tensor: shape=(), dtype=float32, numpy=-0.4586296>, <tf.Tensor: shape=(), dtype=float32, numpy=-5.6355877>, <tf.Tensor: shape=(), dtype=float32, numpy=-0.67410517>)\n",
      "\n",
      "(<tf.Tensor: shape=(), dtype=float32, numpy=0.3863919>, <tf.Tensor: shape=(), dtype=float32, numpy=-0.9189388>, <tf.Tensor: shape=(), dtype=float32, numpy=2.5028515>)\n",
      "\n",
      "(<tf.Tensor: shape=(), dtype=float32, numpy=0.49732298>, <tf.Tensor: shape=(), dtype=float32, numpy=-2.1049118>, <tf.Tensor: shape=(), dtype=float32, numpy=1.8017955>)\n",
      "\n",
      "(<tf.Tensor: shape=(), dtype=float32, numpy=-0.096735656>, <tf.Tensor: shape=(), dtype=float32, numpy=-0.83622396>, <tf.Tensor: shape=(), dtype=float32, numpy=1.8536096>)\n",
      "\n",
      "(<tf.Tensor: shape=(), dtype=float32, numpy=-0.43660808>, <tf.Tensor: shape=(), dtype=float32, numpy=-3.0175648>, <tf.Tensor: shape=(), dtype=float32, numpy=1.042273>)\n",
      "\n",
      "(<tf.Tensor: shape=(), dtype=float32, numpy=0.6387354>, <tf.Tensor: shape=(), dtype=float32, numpy=2.2679608>, <tf.Tensor: shape=(), dtype=float32, numpy=4.070766>)\n",
      "\n",
      "(<tf.Tensor: shape=(), dtype=float32, numpy=-0.105181575>, <tf.Tensor: shape=(), dtype=float32, numpy=-0.5379206>, <tf.Tensor: shape=(), dtype=float32, numpy=1.9221776>)\n",
      "\n",
      "(<tf.Tensor: shape=(), dtype=float32, numpy=1.1857481>, <tf.Tensor: shape=(), dtype=float32, numpy=1.1436968>, <tf.Tensor: shape=(), dtype=float32, numpy=2.817174>)\n",
      "\n",
      "(<tf.Tensor: shape=(), dtype=float32, numpy=-0.15016997>, <tf.Tensor: shape=(), dtype=float32, numpy=-1.7978826>, <tf.Tensor: shape=(), dtype=float32, numpy=1.445575>)\n",
      "\n",
      "(<tf.Tensor: shape=(), dtype=float32, numpy=-0.44926113>, <tf.Tensor: shape=(), dtype=float32, numpy=-2.7785466>, <tf.Tensor: shape=(), dtype=float32, numpy=1.2202215>)\n",
      "\n",
      "(<tf.Tensor: shape=(), dtype=float32, numpy=0.19362159>, <tf.Tensor: shape=(), dtype=float32, numpy=0.5701246>, <tf.Tensor: shape=(), dtype=float32, numpy=2.5940108>)\n",
      "\n",
      "(<tf.Tensor: shape=(), dtype=float32, numpy=0.2600114>, <tf.Tensor: shape=(), dtype=float32, numpy=0.12514639>, <tf.Tensor: shape=(), dtype=float32, numpy=2.3076577>)\n",
      "\n",
      "(<tf.Tensor: shape=(), dtype=float32, numpy=1.0477271>, <tf.Tensor: shape=(), dtype=float32, numpy=-1.0729303>, <tf.Tensor: shape=(), dtype=float32, numpy=2.11721>)\n",
      "\n",
      "(<tf.Tensor: shape=(), dtype=float32, numpy=0.23054051>, <tf.Tensor: shape=(), dtype=float32, numpy=-1.2613208>, <tf.Tensor: shape=(), dtype=float32, numpy=2.2372422>)\n",
      "\n",
      "(<tf.Tensor: shape=(), dtype=float32, numpy=-0.8036569>, <tf.Tensor: shape=(), dtype=float32, numpy=2.0318358>, <tf.Tensor: shape=(), dtype=float32, numpy=3.049893>)\n",
      "\n",
      "(<tf.Tensor: shape=(), dtype=float32, numpy=0.31106842>, <tf.Tensor: shape=(), dtype=float32, numpy=-0.7529499>, <tf.Tensor: shape=(), dtype=float32, numpy=2.306532>)\n",
      "\n",
      "(<tf.Tensor: shape=(), dtype=float32, numpy=0.20565109>, <tf.Tensor: shape=(), dtype=float32, numpy=0.25446647>, <tf.Tensor: shape=(), dtype=float32, numpy=2.9357285>)\n",
      "\n",
      "(<tf.Tensor: shape=(), dtype=float32, numpy=-0.2766202>, <tf.Tensor: shape=(), dtype=float32, numpy=0.44697875>, <tf.Tensor: shape=(), dtype=float32, numpy=1.9849002>)\n",
      "\n",
      "(<tf.Tensor: shape=(), dtype=float32, numpy=-0.38492614>, <tf.Tensor: shape=(), dtype=float32, numpy=-3.6028662>, <tf.Tensor: shape=(), dtype=float32, numpy=0.67743134>)\n",
      "\n",
      "(<tf.Tensor: shape=(), dtype=float32, numpy=-0.2450887>, <tf.Tensor: shape=(), dtype=float32, numpy=-2.0247338>, <tf.Tensor: shape=(), dtype=float32, numpy=1.1545818>)\n",
      "\n",
      "(<tf.Tensor: shape=(), dtype=float32, numpy=0.7979381>, <tf.Tensor: shape=(), dtype=float32, numpy=-1.355554>, <tf.Tensor: shape=(), dtype=float32, numpy=1.8265002>)\n",
      "\n",
      "(<tf.Tensor: shape=(), dtype=float32, numpy=1.4231346>, <tf.Tensor: shape=(), dtype=float32, numpy=-0.37040097>, <tf.Tensor: shape=(), dtype=float32, numpy=1.5074677>)\n",
      "\n",
      "(<tf.Tensor: shape=(), dtype=float32, numpy=0.9199703>, <tf.Tensor: shape=(), dtype=float32, numpy=-1.2128942>, <tf.Tensor: shape=(), dtype=float32, numpy=1.9503746>)\n",
      "\n",
      "(<tf.Tensor: shape=(), dtype=float32, numpy=-0.27583092>, <tf.Tensor: shape=(), dtype=float32, numpy=-1.0117605>, <tf.Tensor: shape=(), dtype=float32, numpy=0.8211637>)\n",
      "\n",
      "(<tf.Tensor: shape=(), dtype=float32, numpy=0.52124155>, <tf.Tensor: shape=(), dtype=float32, numpy=-0.63052416>, <tf.Tensor: shape=(), dtype=float32, numpy=2.775166>)\n",
      "\n",
      "(<tf.Tensor: shape=(), dtype=float32, numpy=-0.07400149>, <tf.Tensor: shape=(), dtype=float32, numpy=-1.7547724>, <tf.Tensor: shape=(), dtype=float32, numpy=0.9071362>)\n",
      "\n",
      "(<tf.Tensor: shape=(), dtype=float32, numpy=-0.50433195>, <tf.Tensor: shape=(), dtype=float32, numpy=-0.6424321>, <tf.Tensor: shape=(), dtype=float32, numpy=1.8346765>)\n",
      "\n",
      "(<tf.Tensor: shape=(), dtype=float32, numpy=-0.21741629>, <tf.Tensor: shape=(), dtype=float32, numpy=0.070382684>, <tf.Tensor: shape=(), dtype=float32, numpy=2.7890248>)\n",
      "\n",
      "(<tf.Tensor: shape=(), dtype=float32, numpy=0.26992586>, <tf.Tensor: shape=(), dtype=float32, numpy=-1.9191239>, <tf.Tensor: shape=(), dtype=float32, numpy=0.58288336>)\n",
      "\n",
      "Mean squared error for step 20: 3.518\n",
      "(<tf.Tensor: shape=(), dtype=float32, numpy=0.3249786>, <tf.Tensor: shape=(), dtype=float32, numpy=-0.56507754>, <tf.Tensor: shape=(), dtype=float32, numpy=2.1795733>)\n",
      "\n",
      "(<tf.Tensor: shape=(), dtype=float32, numpy=-0.5889627>, <tf.Tensor: shape=(), dtype=float32, numpy=0.58581936>, <tf.Tensor: shape=(), dtype=float32, numpy=2.1143422>)\n",
      "\n",
      "(<tf.Tensor: shape=(), dtype=float32, numpy=0.23474465>, <tf.Tensor: shape=(), dtype=float32, numpy=0.29871854>, <tf.Tensor: shape=(), dtype=float32, numpy=2.19061>)\n",
      "\n",
      "(<tf.Tensor: shape=(), dtype=float32, numpy=1.0015099>, <tf.Tensor: shape=(), dtype=float32, numpy=-2.0814004>, <tf.Tensor: shape=(), dtype=float32, numpy=0.9853121>)\n",
      "\n",
      "(<tf.Tensor: shape=(), dtype=float32, numpy=-0.09499043>, <tf.Tensor: shape=(), dtype=float32, numpy=-3.1091564>, <tf.Tensor: shape=(), dtype=float32, numpy=0.75252837>)\n",
      "\n",
      "(<tf.Tensor: shape=(), dtype=float32, numpy=-0.23135564>, <tf.Tensor: shape=(), dtype=float32, numpy=-0.212934>, <tf.Tensor: shape=(), dtype=float32, numpy=2.021721>)\n",
      "\n",
      "(<tf.Tensor: shape=(), dtype=float32, numpy=-0.8921944>, <tf.Tensor: shape=(), dtype=float32, numpy=-1.0443497>, <tf.Tensor: shape=(), dtype=float32, numpy=1.6444639>)\n",
      "\n",
      "(<tf.Tensor: shape=(), dtype=float32, numpy=1.2921262>, <tf.Tensor: shape=(), dtype=float32, numpy=-0.6139486>, <tf.Tensor: shape=(), dtype=float32, numpy=1.9359555>)\n",
      "\n",
      "(<tf.Tensor: shape=(), dtype=float32, numpy=-0.90180874>, <tf.Tensor: shape=(), dtype=float32, numpy=-2.053544>, <tf.Tensor: shape=(), dtype=float32, numpy=1.1199152>)\n",
      "\n",
      "(<tf.Tensor: shape=(), dtype=float32, numpy=0.40110344>, <tf.Tensor: shape=(), dtype=float32, numpy=-1.1330059>, <tf.Tensor: shape=(), dtype=float32, numpy=2.0038877>)\n",
      "\n",
      "(<tf.Tensor: shape=(), dtype=float32, numpy=0.458077>, <tf.Tensor: shape=(), dtype=float32, numpy=-0.13323772>, <tf.Tensor: shape=(), dtype=float32, numpy=1.530327>)\n",
      "\n",
      "(<tf.Tensor: shape=(), dtype=float32, numpy=-0.5915891>, <tf.Tensor: shape=(), dtype=float32, numpy=-0.82137525>, <tf.Tensor: shape=(), dtype=float32, numpy=1.6865689>)\n",
      "\n",
      "(<tf.Tensor: shape=(), dtype=float32, numpy=-0.13479298>, <tf.Tensor: shape=(), dtype=float32, numpy=0.21740052>, <tf.Tensor: shape=(), dtype=float32, numpy=1.601241>)\n",
      "\n",
      "(<tf.Tensor: shape=(), dtype=float32, numpy=-0.4383305>, <tf.Tensor: shape=(), dtype=float32, numpy=0.9311869>, <tf.Tensor: shape=(), dtype=float32, numpy=2.3365252>)\n",
      "\n",
      "(<tf.Tensor: shape=(), dtype=float32, numpy=0.8646852>, <tf.Tensor: shape=(), dtype=float32, numpy=-0.68614775>, <tf.Tensor: shape=(), dtype=float32, numpy=1.6467595>)\n",
      "\n",
      "(<tf.Tensor: shape=(), dtype=float32, numpy=-0.7471179>, <tf.Tensor: shape=(), dtype=float32, numpy=-1.2132766>, <tf.Tensor: shape=(), dtype=float32, numpy=1.5961661>)\n",
      "\n",
      "(<tf.Tensor: shape=(), dtype=float32, numpy=-0.20750067>, <tf.Tensor: shape=(), dtype=float32, numpy=-2.2285614>, <tf.Tensor: shape=(), dtype=float32, numpy=0.78010905>)\n",
      "\n",
      "(<tf.Tensor: shape=(), dtype=float32, numpy=-0.09197867>, <tf.Tensor: shape=(), dtype=float32, numpy=0.24670836>, <tf.Tensor: shape=(), dtype=float32, numpy=1.960401>)\n",
      "\n",
      "(<tf.Tensor: shape=(), dtype=float32, numpy=-0.23379762>, <tf.Tensor: shape=(), dtype=float32, numpy=0.014476925>, <tf.Tensor: shape=(), dtype=float32, numpy=1.3829503>)\n",
      "\n",
      "(<tf.Tensor: shape=(), dtype=float32, numpy=0.99991477>, <tf.Tensor: shape=(), dtype=float32, numpy=-0.939792>, <tf.Tensor: shape=(), dtype=float32, numpy=1.635566>)\n",
      "\n",
      "(<tf.Tensor: shape=(), dtype=float32, numpy=-0.42604244>, <tf.Tensor: shape=(), dtype=float32, numpy=-0.15885818>, <tf.Tensor: shape=(), dtype=float32, numpy=2.208578>)\n",
      "\n",
      "(<tf.Tensor: shape=(), dtype=float32, numpy=0.0035908222>, <tf.Tensor: shape=(), dtype=float32, numpy=-0.2942291>, <tf.Tensor: shape=(), dtype=float32, numpy=1.1831168>)\n",
      "\n",
      "(<tf.Tensor: shape=(), dtype=float32, numpy=-0.1839498>, <tf.Tensor: shape=(), dtype=float32, numpy=-0.15435423>, <tf.Tensor: shape=(), dtype=float32, numpy=1.7008024>)\n",
      "\n",
      "(<tf.Tensor: shape=(), dtype=float32, numpy=-0.5437982>, <tf.Tensor: shape=(), dtype=float32, numpy=-1.3605342>, <tf.Tensor: shape=(), dtype=float32, numpy=1.5703763>)\n",
      "\n",
      "(<tf.Tensor: shape=(), dtype=float32, numpy=-0.11846158>, <tf.Tensor: shape=(), dtype=float32, numpy=-1.4462388>, <tf.Tensor: shape=(), dtype=float32, numpy=0.7918446>)\n",
      "\n",
      "(<tf.Tensor: shape=(), dtype=float32, numpy=-0.10169701>, <tf.Tensor: shape=(), dtype=float32, numpy=-0.910153>, <tf.Tensor: shape=(), dtype=float32, numpy=1.4057688>)\n",
      "\n",
      "(<tf.Tensor: shape=(), dtype=float32, numpy=1.0088084>, <tf.Tensor: shape=(), dtype=float32, numpy=-0.41395617>, <tf.Tensor: shape=(), dtype=float32, numpy=1.755997>)\n",
      "\n",
      "(<tf.Tensor: shape=(), dtype=float32, numpy=1.5585446>, <tf.Tensor: shape=(), dtype=float32, numpy=-1.125287>, <tf.Tensor: shape=(), dtype=float32, numpy=2.080173>)\n",
      "\n",
      "(<tf.Tensor: shape=(), dtype=float32, numpy=0.48495138>, <tf.Tensor: shape=(), dtype=float32, numpy=-1.3119066>, <tf.Tensor: shape=(), dtype=float32, numpy=0.9441585>)\n",
      "\n",
      "(<tf.Tensor: shape=(), dtype=float32, numpy=0.6033897>, <tf.Tensor: shape=(), dtype=float32, numpy=-0.98488414>, <tf.Tensor: shape=(), dtype=float32, numpy=1.5507941>)\n",
      "\n",
      "(<tf.Tensor: shape=(), dtype=float32, numpy=-1.0632155>, <tf.Tensor: shape=(), dtype=float32, numpy=-2.7897463>, <tf.Tensor: shape=(), dtype=float32, numpy=0.7376199>)\n",
      "\n",
      "(<tf.Tensor: shape=(), dtype=float32, numpy=-0.3177573>, <tf.Tensor: shape=(), dtype=float32, numpy=0.44468355>, <tf.Tensor: shape=(), dtype=float32, numpy=1.9690561>)\n",
      "\n",
      "(<tf.Tensor: shape=(), dtype=float32, numpy=0.34196883>, <tf.Tensor: shape=(), dtype=float32, numpy=0.21436536>, <tf.Tensor: shape=(), dtype=float32, numpy=1.6971612>)\n",
      "\n",
      "(<tf.Tensor: shape=(), dtype=float32, numpy=0.06725549>, <tf.Tensor: shape=(), dtype=float32, numpy=0.31301457>, <tf.Tensor: shape=(), dtype=float32, numpy=1.7263403>)\n",
      "\n",
      "(<tf.Tensor: shape=(), dtype=float32, numpy=0.04329723>, <tf.Tensor: shape=(), dtype=float32, numpy=0.8936615>, <tf.Tensor: shape=(), dtype=float32, numpy=0.89128745>)\n",
      "\n",
      "(<tf.Tensor: shape=(), dtype=float32, numpy=-0.1813813>, <tf.Tensor: shape=(), dtype=float32, numpy=-0.25783932>, <tf.Tensor: shape=(), dtype=float32, numpy=1.6154475>)\n",
      "\n",
      "(<tf.Tensor: shape=(), dtype=float32, numpy=-0.055583447>, <tf.Tensor: shape=(), dtype=float32, numpy=0.8799467>, <tf.Tensor: shape=(), dtype=float32, numpy=2.201303>)\n",
      "\n",
      "(<tf.Tensor: shape=(), dtype=float32, numpy=-0.29632875>, <tf.Tensor: shape=(), dtype=float32, numpy=-1.432881>, <tf.Tensor: shape=(), dtype=float32, numpy=0.8694912>)\n",
      "\n",
      "(<tf.Tensor: shape=(), dtype=float32, numpy=0.12968963>, <tf.Tensor: shape=(), dtype=float32, numpy=-2.3566606>, <tf.Tensor: shape=(), dtype=float32, numpy=0.50384986>)\n",
      "\n",
      "(<tf.Tensor: shape=(), dtype=float32, numpy=0.39422017>, <tf.Tensor: shape=(), dtype=float32, numpy=-1.059848>, <tf.Tensor: shape=(), dtype=float32, numpy=0.50917315>)\n",
      "\n",
      "(<tf.Tensor: shape=(), dtype=float32, numpy=0.41713226>, <tf.Tensor: shape=(), dtype=float32, numpy=0.08186604>, <tf.Tensor: shape=(), dtype=float32, numpy=2.0859656>)\n",
      "\n",
      "(<tf.Tensor: shape=(), dtype=float32, numpy=-0.7376675>, <tf.Tensor: shape=(), dtype=float32, numpy=-2.4776475>, <tf.Tensor: shape=(), dtype=float32, numpy=0.44704542>)\n",
      "\n",
      "(<tf.Tensor: shape=(), dtype=float32, numpy=0.4177552>, <tf.Tensor: shape=(), dtype=float32, numpy=-0.5809921>, <tf.Tensor: shape=(), dtype=float32, numpy=1.4472437>)\n",
      "\n",
      "(<tf.Tensor: shape=(), dtype=float32, numpy=-0.2786262>, <tf.Tensor: shape=(), dtype=float32, numpy=-0.91030633>, <tf.Tensor: shape=(), dtype=float32, numpy=1.5624108>)\n",
      "\n",
      "(<tf.Tensor: shape=(), dtype=float32, numpy=-0.37941283>, <tf.Tensor: shape=(), dtype=float32, numpy=-0.33401042>, <tf.Tensor: shape=(), dtype=float32, numpy=1.3806057>)\n",
      "\n",
      "(<tf.Tensor: shape=(), dtype=float32, numpy=0.26036564>, <tf.Tensor: shape=(), dtype=float32, numpy=-0.89745414>, <tf.Tensor: shape=(), dtype=float32, numpy=0.8356919>)\n",
      "\n",
      "(<tf.Tensor: shape=(), dtype=float32, numpy=0.5905271>, <tf.Tensor: shape=(), dtype=float32, numpy=0.010749698>, <tf.Tensor: shape=(), dtype=float32, numpy=1.4926754>)\n",
      "\n",
      "(<tf.Tensor: shape=(), dtype=float32, numpy=-0.30357853>, <tf.Tensor: shape=(), dtype=float32, numpy=-0.94523495>, <tf.Tensor: shape=(), dtype=float32, numpy=0.8507368>)\n",
      "\n",
      "(<tf.Tensor: shape=(), dtype=float32, numpy=-0.39986265>, <tf.Tensor: shape=(), dtype=float32, numpy=0.8419997>, <tf.Tensor: shape=(), dtype=float32, numpy=1.6613348>)\n",
      "\n",
      "(<tf.Tensor: shape=(), dtype=float32, numpy=-0.15569176>, <tf.Tensor: shape=(), dtype=float32, numpy=-0.66514516>, <tf.Tensor: shape=(), dtype=float32, numpy=1.3328729>)\n",
      "\n",
      "(<tf.Tensor: shape=(), dtype=float32, numpy=0.4998901>, <tf.Tensor: shape=(), dtype=float32, numpy=-0.07354331>, <tf.Tensor: shape=(), dtype=float32, numpy=1.53004>)\n",
      "\n",
      "(<tf.Tensor: shape=(), dtype=float32, numpy=0.32375845>, <tf.Tensor: shape=(), dtype=float32, numpy=-0.08868812>, <tf.Tensor: shape=(), dtype=float32, numpy=1.5918868>)\n",
      "\n",
      "(<tf.Tensor: shape=(), dtype=float32, numpy=-0.8382064>, <tf.Tensor: shape=(), dtype=float32, numpy=-1.1218519>, <tf.Tensor: shape=(), dtype=float32, numpy=1.0386546>)\n",
      "\n",
      "(<tf.Tensor: shape=(), dtype=float32, numpy=0.12774496>, <tf.Tensor: shape=(), dtype=float32, numpy=-0.3658575>, <tf.Tensor: shape=(), dtype=float32, numpy=0.8646494>)\n",
      "\n",
      "(<tf.Tensor: shape=(), dtype=float32, numpy=0.08252853>, <tf.Tensor: shape=(), dtype=float32, numpy=-1.5603485>, <tf.Tensor: shape=(), dtype=float32, numpy=0.6533736>)\n",
      "\n",
      "(<tf.Tensor: shape=(), dtype=float32, numpy=0.50010926>, <tf.Tensor: shape=(), dtype=float32, numpy=-0.34119716>, <tf.Tensor: shape=(), dtype=float32, numpy=1.0125583>)\n",
      "\n",
      "(<tf.Tensor: shape=(), dtype=float32, numpy=-0.15359157>, <tf.Tensor: shape=(), dtype=float32, numpy=0.5338533>, <tf.Tensor: shape=(), dtype=float32, numpy=1.6381097>)\n",
      "\n",
      "(<tf.Tensor: shape=(), dtype=float32, numpy=-0.48051694>, <tf.Tensor: shape=(), dtype=float32, numpy=-0.13584709>, <tf.Tensor: shape=(), dtype=float32, numpy=1.2637837>)\n",
      "\n",
      "(<tf.Tensor: shape=(), dtype=float32, numpy=0.41220158>, <tf.Tensor: shape=(), dtype=float32, numpy=-0.78717226>, <tf.Tensor: shape=(), dtype=float32, numpy=1.0513238>)\n",
      "\n",
      "(<tf.Tensor: shape=(), dtype=float32, numpy=0.484441>, <tf.Tensor: shape=(), dtype=float32, numpy=-1.1574605>, <tf.Tensor: shape=(), dtype=float32, numpy=0.86228275>)\n",
      "\n",
      "(<tf.Tensor: shape=(), dtype=float32, numpy=0.3764674>, <tf.Tensor: shape=(), dtype=float32, numpy=-0.9430433>, <tf.Tensor: shape=(), dtype=float32, numpy=0.87462395>)\n",
      "\n",
      "(<tf.Tensor: shape=(), dtype=float32, numpy=-0.52788144>, <tf.Tensor: shape=(), dtype=float32, numpy=-1.2528002>, <tf.Tensor: shape=(), dtype=float32, numpy=0.8033566>)\n",
      "\n",
      "(<tf.Tensor: shape=(), dtype=float32, numpy=0.049061954>, <tf.Tensor: shape=(), dtype=float32, numpy=0.09196243>, <tf.Tensor: shape=(), dtype=float32, numpy=1.6877172>)\n",
      "\n",
      "(<tf.Tensor: shape=(), dtype=float32, numpy=0.64052105>, <tf.Tensor: shape=(), dtype=float32, numpy=-0.11050613>, <tf.Tensor: shape=(), dtype=float32, numpy=0.84056675>)\n",
      "\n",
      "(<tf.Tensor: shape=(), dtype=float32, numpy=-0.17181024>, <tf.Tensor: shape=(), dtype=float32, numpy=-0.8457788>, <tf.Tensor: shape=(), dtype=float32, numpy=0.71337754>)\n",
      "\n",
      "(<tf.Tensor: shape=(), dtype=float32, numpy=0.17976004>, <tf.Tensor: shape=(), dtype=float32, numpy=-0.030439913>, <tf.Tensor: shape=(), dtype=float32, numpy=1.9489591>)\n",
      "\n",
      "(<tf.Tensor: shape=(), dtype=float32, numpy=-0.7791466>, <tf.Tensor: shape=(), dtype=float32, numpy=0.355021>, <tf.Tensor: shape=(), dtype=float32, numpy=1.8097688>)\n",
      "\n",
      "(<tf.Tensor: shape=(), dtype=float32, numpy=-0.22458753>, <tf.Tensor: shape=(), dtype=float32, numpy=-0.6662848>, <tf.Tensor: shape=(), dtype=float32, numpy=0.9328362>)\n",
      "\n",
      "(<tf.Tensor: shape=(), dtype=float32, numpy=0.28627056>, <tf.Tensor: shape=(), dtype=float32, numpy=-0.54607546>, <tf.Tensor: shape=(), dtype=float32, numpy=0.5144131>)\n",
      "\n",
      "(<tf.Tensor: shape=(), dtype=float32, numpy=0.49336296>, <tf.Tensor: shape=(), dtype=float32, numpy=-6.3162107>, <tf.Tensor: shape=(), dtype=float32, numpy=-0.6712885>)\n",
      "\n",
      "Mean squared error for step 30: 1.873\n",
      "(<tf.Tensor: shape=(), dtype=float32, numpy=-0.65636504>, <tf.Tensor: shape=(), dtype=float32, numpy=-0.1933614>, <tf.Tensor: shape=(), dtype=float32, numpy=1.5786725>)\n",
      "\n",
      "(<tf.Tensor: shape=(), dtype=float32, numpy=0.2355333>, <tf.Tensor: shape=(), dtype=float32, numpy=-0.12765181>, <tf.Tensor: shape=(), dtype=float32, numpy=0.93764067>)\n",
      "\n",
      "(<tf.Tensor: shape=(), dtype=float32, numpy=0.08415532>, <tf.Tensor: shape=(), dtype=float32, numpy=-0.122274876>, <tf.Tensor: shape=(), dtype=float32, numpy=1.1769488>)\n",
      "\n",
      "(<tf.Tensor: shape=(), dtype=float32, numpy=0.5205896>, <tf.Tensor: shape=(), dtype=float32, numpy=-0.8084793>, <tf.Tensor: shape=(), dtype=float32, numpy=0.8019294>)\n",
      "\n",
      "(<tf.Tensor: shape=(), dtype=float32, numpy=-0.60486865>, <tf.Tensor: shape=(), dtype=float32, numpy=-1.0935421>, <tf.Tensor: shape=(), dtype=float32, numpy=0.87654054>)\n",
      "\n",
      "(<tf.Tensor: shape=(), dtype=float32, numpy=0.7729838>, <tf.Tensor: shape=(), dtype=float32, numpy=1.0136238>, <tf.Tensor: shape=(), dtype=float32, numpy=1.5820558>)\n",
      "\n",
      "(<tf.Tensor: shape=(), dtype=float32, numpy=-0.9991899>, <tf.Tensor: shape=(), dtype=float32, numpy=0.26222453>, <tf.Tensor: shape=(), dtype=float32, numpy=0.880089>)\n",
      "\n",
      "(<tf.Tensor: shape=(), dtype=float32, numpy=0.27301803>, <tf.Tensor: shape=(), dtype=float32, numpy=0.18014926>, <tf.Tensor: shape=(), dtype=float32, numpy=1.1047984>)\n",
      "\n",
      "(<tf.Tensor: shape=(), dtype=float32, numpy=-0.39177608>, <tf.Tensor: shape=(), dtype=float32, numpy=-0.48702377>, <tf.Tensor: shape=(), dtype=float32, numpy=1.2526777>)\n",
      "\n",
      "(<tf.Tensor: shape=(), dtype=float32, numpy=1.5660526>, <tf.Tensor: shape=(), dtype=float32, numpy=-0.8608494>, <tf.Tensor: shape=(), dtype=float32, numpy=0.7938443>)\n",
      "\n",
      "(<tf.Tensor: shape=(), dtype=float32, numpy=-0.39111733>, <tf.Tensor: shape=(), dtype=float32, numpy=-0.59284973>, <tf.Tensor: shape=(), dtype=float32, numpy=0.59900594>)\n",
      "\n",
      "(<tf.Tensor: shape=(), dtype=float32, numpy=-0.28247294>, <tf.Tensor: shape=(), dtype=float32, numpy=0.30981386>, <tf.Tensor: shape=(), dtype=float32, numpy=1.1615005>)\n",
      "\n",
      "(<tf.Tensor: shape=(), dtype=float32, numpy=-0.25591946>, <tf.Tensor: shape=(), dtype=float32, numpy=-0.030668393>, <tf.Tensor: shape=(), dtype=float32, numpy=1.340006>)\n",
      "\n",
      "(<tf.Tensor: shape=(), dtype=float32, numpy=-1.7186584>, <tf.Tensor: shape=(), dtype=float32, numpy=-2.097296>, <tf.Tensor: shape=(), dtype=float32, numpy=0.6644819>)\n",
      "\n",
      "(<tf.Tensor: shape=(), dtype=float32, numpy=0.02272433>, <tf.Tensor: shape=(), dtype=float32, numpy=-1.2884227>, <tf.Tensor: shape=(), dtype=float32, numpy=0.6832906>)\n",
      "\n",
      "(<tf.Tensor: shape=(), dtype=float32, numpy=-0.36696836>, <tf.Tensor: shape=(), dtype=float32, numpy=-0.48502555>, <tf.Tensor: shape=(), dtype=float32, numpy=0.63569105>)\n",
      "\n",
      "(<tf.Tensor: shape=(), dtype=float32, numpy=0.27255216>, <tf.Tensor: shape=(), dtype=float32, numpy=0.26975003>, <tf.Tensor: shape=(), dtype=float32, numpy=1.4658654>)\n",
      "\n",
      "(<tf.Tensor: shape=(), dtype=float32, numpy=-0.42064685>, <tf.Tensor: shape=(), dtype=float32, numpy=-0.5313107>, <tf.Tensor: shape=(), dtype=float32, numpy=0.6482116>)\n",
      "\n",
      "(<tf.Tensor: shape=(), dtype=float32, numpy=0.43464047>, <tf.Tensor: shape=(), dtype=float32, numpy=-0.352867>, <tf.Tensor: shape=(), dtype=float32, numpy=0.9206614>)\n",
      "\n",
      "(<tf.Tensor: shape=(), dtype=float32, numpy=0.1429704>, <tf.Tensor: shape=(), dtype=float32, numpy=1.2711405>, <tf.Tensor: shape=(), dtype=float32, numpy=1.8761686>)\n",
      "\n",
      "(<tf.Tensor: shape=(), dtype=float32, numpy=1.0221372>, <tf.Tensor: shape=(), dtype=float32, numpy=-1.0574534>, <tf.Tensor: shape=(), dtype=float32, numpy=0.46184522>)\n",
      "\n",
      "(<tf.Tensor: shape=(), dtype=float32, numpy=-0.66024756>, <tf.Tensor: shape=(), dtype=float32, numpy=-0.5161185>, <tf.Tensor: shape=(), dtype=float32, numpy=1.255526>)\n",
      "\n",
      "(<tf.Tensor: shape=(), dtype=float32, numpy=0.3062591>, <tf.Tensor: shape=(), dtype=float32, numpy=-1.1206245>, <tf.Tensor: shape=(), dtype=float32, numpy=0.7838094>)\n",
      "\n",
      "(<tf.Tensor: shape=(), dtype=float32, numpy=-0.1525691>, <tf.Tensor: shape=(), dtype=float32, numpy=-1.3314306>, <tf.Tensor: shape=(), dtype=float32, numpy=0.3309459>)\n",
      "\n",
      "(<tf.Tensor: shape=(), dtype=float32, numpy=-0.08120789>, <tf.Tensor: shape=(), dtype=float32, numpy=-0.2168561>, <tf.Tensor: shape=(), dtype=float32, numpy=0.75239>)\n",
      "\n",
      "(<tf.Tensor: shape=(), dtype=float32, numpy=-0.20606783>, <tf.Tensor: shape=(), dtype=float32, numpy=1.911103>, <tf.Tensor: shape=(), dtype=float32, numpy=2.0175765>)\n",
      "\n",
      "(<tf.Tensor: shape=(), dtype=float32, numpy=0.8038081>, <tf.Tensor: shape=(), dtype=float32, numpy=0.07199547>, <tf.Tensor: shape=(), dtype=float32, numpy=0.87957>)\n",
      "\n",
      "(<tf.Tensor: shape=(), dtype=float32, numpy=0.8324933>, <tf.Tensor: shape=(), dtype=float32, numpy=-1.6995653>, <tf.Tensor: shape=(), dtype=float32, numpy=-0.553666>)\n",
      "\n",
      "(<tf.Tensor: shape=(), dtype=float32, numpy=0.07050036>, <tf.Tensor: shape=(), dtype=float32, numpy=0.33261782>, <tf.Tensor: shape=(), dtype=float32, numpy=1.3064536>)\n",
      "\n",
      "(<tf.Tensor: shape=(), dtype=float32, numpy=-0.025957197>, <tf.Tensor: shape=(), dtype=float32, numpy=-1.1263537>, <tf.Tensor: shape=(), dtype=float32, numpy=0.539742>)\n",
      "\n",
      "(<tf.Tensor: shape=(), dtype=float32, numpy=-0.08538316>, <tf.Tensor: shape=(), dtype=float32, numpy=-0.13785455>, <tf.Tensor: shape=(), dtype=float32, numpy=0.48902744>)\n",
      "\n",
      "(<tf.Tensor: shape=(), dtype=float32, numpy=-0.05993691>, <tf.Tensor: shape=(), dtype=float32, numpy=0.29546335>, <tf.Tensor: shape=(), dtype=float32, numpy=1.2714396>)\n",
      "\n",
      "(<tf.Tensor: shape=(), dtype=float32, numpy=0.20795932>, <tf.Tensor: shape=(), dtype=float32, numpy=0.31153375>, <tf.Tensor: shape=(), dtype=float32, numpy=0.8697275>)\n",
      "\n",
      "(<tf.Tensor: shape=(), dtype=float32, numpy=-0.041003942>, <tf.Tensor: shape=(), dtype=float32, numpy=-1.6274358>, <tf.Tensor: shape=(), dtype=float32, numpy=0.5593784>)\n",
      "\n",
      "(<tf.Tensor: shape=(), dtype=float32, numpy=-0.24636708>, <tf.Tensor: shape=(), dtype=float32, numpy=0.38964233>, <tf.Tensor: shape=(), dtype=float32, numpy=1.6610441>)\n",
      "\n",
      "(<tf.Tensor: shape=(), dtype=float32, numpy=0.7646477>, <tf.Tensor: shape=(), dtype=float32, numpy=-0.5944953>, <tf.Tensor: shape=(), dtype=float32, numpy=0.60880923>)\n",
      "\n",
      "(<tf.Tensor: shape=(), dtype=float32, numpy=-0.88568926>, <tf.Tensor: shape=(), dtype=float32, numpy=-0.3411718>, <tf.Tensor: shape=(), dtype=float32, numpy=0.5910014>)\n",
      "\n",
      "(<tf.Tensor: shape=(), dtype=float32, numpy=0.7262385>, <tf.Tensor: shape=(), dtype=float32, numpy=1.048826>, <tf.Tensor: shape=(), dtype=float32, numpy=1.8034108>)\n",
      "\n",
      "(<tf.Tensor: shape=(), dtype=float32, numpy=-0.2925684>, <tf.Tensor: shape=(), dtype=float32, numpy=-0.7965883>, <tf.Tensor: shape=(), dtype=float32, numpy=0.55197895>)\n",
      "\n",
      "(<tf.Tensor: shape=(), dtype=float32, numpy=-0.6183213>, <tf.Tensor: shape=(), dtype=float32, numpy=-1.2254901>, <tf.Tensor: shape=(), dtype=float32, numpy=0.3536818>)\n",
      "\n",
      "(<tf.Tensor: shape=(), dtype=float32, numpy=0.17036176>, <tf.Tensor: shape=(), dtype=float32, numpy=-0.12566671>, <tf.Tensor: shape=(), dtype=float32, numpy=0.99458086>)\n",
      "\n",
      "(<tf.Tensor: shape=(), dtype=float32, numpy=0.57196605>, <tf.Tensor: shape=(), dtype=float32, numpy=-0.6770623>, <tf.Tensor: shape=(), dtype=float32, numpy=0.28001255>)\n",
      "\n",
      "(<tf.Tensor: shape=(), dtype=float32, numpy=-0.6288862>, <tf.Tensor: shape=(), dtype=float32, numpy=-1.1716989>, <tf.Tensor: shape=(), dtype=float32, numpy=0.2961494>)\n",
      "\n",
      "(<tf.Tensor: shape=(), dtype=float32, numpy=-0.10584913>, <tf.Tensor: shape=(), dtype=float32, numpy=1.2008659>, <tf.Tensor: shape=(), dtype=float32, numpy=1.5071994>)\n",
      "\n",
      "(<tf.Tensor: shape=(), dtype=float32, numpy=0.42517364>, <tf.Tensor: shape=(), dtype=float32, numpy=0.49385464>, <tf.Tensor: shape=(), dtype=float32, numpy=1.374733>)\n",
      "\n",
      "(<tf.Tensor: shape=(), dtype=float32, numpy=-0.37857965>, <tf.Tensor: shape=(), dtype=float32, numpy=-0.8802104>, <tf.Tensor: shape=(), dtype=float32, numpy=0.79833865>)\n",
      "\n",
      "(<tf.Tensor: shape=(), dtype=float32, numpy=0.14162609>, <tf.Tensor: shape=(), dtype=float32, numpy=-1.1322501>, <tf.Tensor: shape=(), dtype=float32, numpy=-0.02353485>)\n",
      "\n",
      "(<tf.Tensor: shape=(), dtype=float32, numpy=0.62105805>, <tf.Tensor: shape=(), dtype=float32, numpy=-0.9616343>, <tf.Tensor: shape=(), dtype=float32, numpy=0.47069234>)\n",
      "\n",
      "(<tf.Tensor: shape=(), dtype=float32, numpy=-0.26257646>, <tf.Tensor: shape=(), dtype=float32, numpy=1.4209709>, <tf.Tensor: shape=(), dtype=float32, numpy=1.1662421>)\n",
      "\n",
      "(<tf.Tensor: shape=(), dtype=float32, numpy=0.24849613>, <tf.Tensor: shape=(), dtype=float32, numpy=-1.1191025>, <tf.Tensor: shape=(), dtype=float32, numpy=0.5609283>)\n",
      "\n",
      "(<tf.Tensor: shape=(), dtype=float32, numpy=-0.23632404>, <tf.Tensor: shape=(), dtype=float32, numpy=0.5495943>, <tf.Tensor: shape=(), dtype=float32, numpy=1.1433847>)\n",
      "\n",
      "(<tf.Tensor: shape=(), dtype=float32, numpy=-0.30694696>, <tf.Tensor: shape=(), dtype=float32, numpy=-0.33004627>, <tf.Tensor: shape=(), dtype=float32, numpy=0.47683248>)\n",
      "\n",
      "(<tf.Tensor: shape=(), dtype=float32, numpy=-0.30931795>, <tf.Tensor: shape=(), dtype=float32, numpy=-0.55101985>, <tf.Tensor: shape=(), dtype=float32, numpy=0.6631294>)\n",
      "\n",
      "(<tf.Tensor: shape=(), dtype=float32, numpy=0.7560502>, <tf.Tensor: shape=(), dtype=float32, numpy=-0.121801406>, <tf.Tensor: shape=(), dtype=float32, numpy=0.75295544>)\n",
      "\n",
      "(<tf.Tensor: shape=(), dtype=float32, numpy=-0.3204895>, <tf.Tensor: shape=(), dtype=float32, numpy=-0.35491788>, <tf.Tensor: shape=(), dtype=float32, numpy=0.50663155>)\n",
      "\n",
      "(<tf.Tensor: shape=(), dtype=float32, numpy=0.5691821>, <tf.Tensor: shape=(), dtype=float32, numpy=-1.3584138>, <tf.Tensor: shape=(), dtype=float32, numpy=0.8872859>)\n",
      "\n",
      "(<tf.Tensor: shape=(), dtype=float32, numpy=0.39554712>, <tf.Tensor: shape=(), dtype=float32, numpy=0.61775327>, <tf.Tensor: shape=(), dtype=float32, numpy=1.0189335>)\n",
      "\n",
      "(<tf.Tensor: shape=(), dtype=float32, numpy=0.03934805>, <tf.Tensor: shape=(), dtype=float32, numpy=0.15144475>, <tf.Tensor: shape=(), dtype=float32, numpy=0.6246846>)\n",
      "\n",
      "(<tf.Tensor: shape=(), dtype=float32, numpy=-0.33372945>, <tf.Tensor: shape=(), dtype=float32, numpy=-0.49928492>, <tf.Tensor: shape=(), dtype=float32, numpy=0.61874574>)\n",
      "\n",
      "(<tf.Tensor: shape=(), dtype=float32, numpy=-0.26366696>, <tf.Tensor: shape=(), dtype=float32, numpy=-0.4876308>, <tf.Tensor: shape=(), dtype=float32, numpy=0.69586027>)\n",
      "\n",
      "(<tf.Tensor: shape=(), dtype=float32, numpy=0.05445999>, <tf.Tensor: shape=(), dtype=float32, numpy=-0.47820258>, <tf.Tensor: shape=(), dtype=float32, numpy=0.5717565>)\n",
      "\n",
      "(<tf.Tensor: shape=(), dtype=float32, numpy=0.090473734>, <tf.Tensor: shape=(), dtype=float32, numpy=-1.1482562>, <tf.Tensor: shape=(), dtype=float32, numpy=0.4296435>)\n",
      "\n",
      "(<tf.Tensor: shape=(), dtype=float32, numpy=-0.25103354>, <tf.Tensor: shape=(), dtype=float32, numpy=-1.3657956>, <tf.Tensor: shape=(), dtype=float32, numpy=0.51829207>)\n",
      "\n",
      "(<tf.Tensor: shape=(), dtype=float32, numpy=0.004618205>, <tf.Tensor: shape=(), dtype=float32, numpy=-0.77250755>, <tf.Tensor: shape=(), dtype=float32, numpy=0.36319864>)\n",
      "\n",
      "(<tf.Tensor: shape=(), dtype=float32, numpy=-0.49222088>, <tf.Tensor: shape=(), dtype=float32, numpy=-1.4323258>, <tf.Tensor: shape=(), dtype=float32, numpy=0.8237555>)\n",
      "\n",
      "(<tf.Tensor: shape=(), dtype=float32, numpy=0.5735199>, <tf.Tensor: shape=(), dtype=float32, numpy=0.74423456>, <tf.Tensor: shape=(), dtype=float32, numpy=1.1420243>)\n",
      "\n",
      "(<tf.Tensor: shape=(), dtype=float32, numpy=-0.39056623>, <tf.Tensor: shape=(), dtype=float32, numpy=0.5567781>, <tf.Tensor: shape=(), dtype=float32, numpy=0.8989299>)\n",
      "\n",
      "(<tf.Tensor: shape=(), dtype=float32, numpy=0.11357486>, <tf.Tensor: shape=(), dtype=float32, numpy=0.05925119>, <tf.Tensor: shape=(), dtype=float32, numpy=0.16080865>)\n",
      "\n",
      "(<tf.Tensor: shape=(), dtype=float32, numpy=0.057717294>, <tf.Tensor: shape=(), dtype=float32, numpy=-0.38748685>, <tf.Tensor: shape=(), dtype=float32, numpy=0.9320506>)\n",
      "\n",
      "(<tf.Tensor: shape=(), dtype=float32, numpy=0.52067214>, <tf.Tensor: shape=(), dtype=float32, numpy=0.0753299>, <tf.Tensor: shape=(), dtype=float32, numpy=-0.15920687>)\n",
      "\n",
      "Mean squared error for step 40: 1.297\n",
      "(<tf.Tensor: shape=(), dtype=float32, numpy=0.141622>, <tf.Tensor: shape=(), dtype=float32, numpy=-0.52173877>, <tf.Tensor: shape=(), dtype=float32, numpy=0.81962824>)\n",
      "\n",
      "(<tf.Tensor: shape=(), dtype=float32, numpy=-0.05099556>, <tf.Tensor: shape=(), dtype=float32, numpy=0.40629253>, <tf.Tensor: shape=(), dtype=float32, numpy=1.314148>)\n",
      "\n",
      "(<tf.Tensor: shape=(), dtype=float32, numpy=-0.09602914>, <tf.Tensor: shape=(), dtype=float32, numpy=-0.5339586>, <tf.Tensor: shape=(), dtype=float32, numpy=0.5703355>)\n",
      "\n",
      "(<tf.Tensor: shape=(), dtype=float32, numpy=0.35025996>, <tf.Tensor: shape=(), dtype=float32, numpy=-0.5153911>, <tf.Tensor: shape=(), dtype=float32, numpy=0.31061783>)\n",
      "\n",
      "(<tf.Tensor: shape=(), dtype=float32, numpy=0.015386246>, <tf.Tensor: shape=(), dtype=float32, numpy=0.20696317>, <tf.Tensor: shape=(), dtype=float32, numpy=0.6041144>)\n",
      "\n",
      "(<tf.Tensor: shape=(), dtype=float32, numpy=-0.3727879>, <tf.Tensor: shape=(), dtype=float32, numpy=-0.75573397>, <tf.Tensor: shape=(), dtype=float32, numpy=0.057905115>)\n",
      "\n",
      "(<tf.Tensor: shape=(), dtype=float32, numpy=-0.3403461>, <tf.Tensor: shape=(), dtype=float32, numpy=0.13047427>, <tf.Tensor: shape=(), dtype=float32, numpy=0.5837308>)\n",
      "\n",
      "(<tf.Tensor: shape=(), dtype=float32, numpy=-0.21761602>, <tf.Tensor: shape=(), dtype=float32, numpy=-0.7643984>, <tf.Tensor: shape=(), dtype=float32, numpy=0.6519351>)\n",
      "\n",
      "(<tf.Tensor: shape=(), dtype=float32, numpy=-0.60445994>, <tf.Tensor: shape=(), dtype=float32, numpy=-0.8527923>, <tf.Tensor: shape=(), dtype=float32, numpy=0.34256884>)\n",
      "\n",
      "(<tf.Tensor: shape=(), dtype=float32, numpy=-0.40635812>, <tf.Tensor: shape=(), dtype=float32, numpy=0.3618238>, <tf.Tensor: shape=(), dtype=float32, numpy=0.67707>)\n",
      "\n",
      "(<tf.Tensor: shape=(), dtype=float32, numpy=0.7853612>, <tf.Tensor: shape=(), dtype=float32, numpy=0.40140575>, <tf.Tensor: shape=(), dtype=float32, numpy=0.9736273>)\n",
      "\n",
      "(<tf.Tensor: shape=(), dtype=float32, numpy=0.28579134>, <tf.Tensor: shape=(), dtype=float32, numpy=0.85643244>, <tf.Tensor: shape=(), dtype=float32, numpy=0.87384826>)\n",
      "\n",
      "(<tf.Tensor: shape=(), dtype=float32, numpy=0.336921>, <tf.Tensor: shape=(), dtype=float32, numpy=-1.8117578>, <tf.Tensor: shape=(), dtype=float32, numpy=-0.12724057>)\n",
      "\n",
      "(<tf.Tensor: shape=(), dtype=float32, numpy=-0.36108878>, <tf.Tensor: shape=(), dtype=float32, numpy=0.7488265>, <tf.Tensor: shape=(), dtype=float32, numpy=0.96531254>)\n",
      "\n",
      "(<tf.Tensor: shape=(), dtype=float32, numpy=-0.33667183>, <tf.Tensor: shape=(), dtype=float32, numpy=-0.16753173>, <tf.Tensor: shape=(), dtype=float32, numpy=0.72428954>)\n",
      "\n",
      "(<tf.Tensor: shape=(), dtype=float32, numpy=0.0037400573>, <tf.Tensor: shape=(), dtype=float32, numpy=-1.5199438>, <tf.Tensor: shape=(), dtype=float32, numpy=-0.208762>)\n",
      "\n",
      "(<tf.Tensor: shape=(), dtype=float32, numpy=-0.2781818>, <tf.Tensor: shape=(), dtype=float32, numpy=0.24545619>, <tf.Tensor: shape=(), dtype=float32, numpy=0.4886359>)\n",
      "\n",
      "(<tf.Tensor: shape=(), dtype=float32, numpy=0.13558902>, <tf.Tensor: shape=(), dtype=float32, numpy=0.21157873>, <tf.Tensor: shape=(), dtype=float32, numpy=1.0414768>)\n",
      "\n",
      "(<tf.Tensor: shape=(), dtype=float32, numpy=0.2716508>, <tf.Tensor: shape=(), dtype=float32, numpy=0.05169241>, <tf.Tensor: shape=(), dtype=float32, numpy=0.50062454>)\n",
      "\n",
      "(<tf.Tensor: shape=(), dtype=float32, numpy=0.52383995>, <tf.Tensor: shape=(), dtype=float32, numpy=-0.43048763>, <tf.Tensor: shape=(), dtype=float32, numpy=0.62301487>)\n",
      "\n",
      "(<tf.Tensor: shape=(), dtype=float32, numpy=-1.0490777>, <tf.Tensor: shape=(), dtype=float32, numpy=-0.43148774>, <tf.Tensor: shape=(), dtype=float32, numpy=0.7471584>)\n",
      "\n",
      "(<tf.Tensor: shape=(), dtype=float32, numpy=-0.014119953>, <tf.Tensor: shape=(), dtype=float32, numpy=0.6918163>, <tf.Tensor: shape=(), dtype=float32, numpy=0.7708614>)\n",
      "\n",
      "(<tf.Tensor: shape=(), dtype=float32, numpy=-0.60093737>, <tf.Tensor: shape=(), dtype=float32, numpy=-0.97740346>, <tf.Tensor: shape=(), dtype=float32, numpy=0.5927993>)\n",
      "\n",
      "(<tf.Tensor: shape=(), dtype=float32, numpy=-0.49028796>, <tf.Tensor: shape=(), dtype=float32, numpy=-0.8758262>, <tf.Tensor: shape=(), dtype=float32, numpy=-0.06495896>)\n",
      "\n",
      "(<tf.Tensor: shape=(), dtype=float32, numpy=0.43533033>, <tf.Tensor: shape=(), dtype=float32, numpy=0.36302656>, <tf.Tensor: shape=(), dtype=float32, numpy=0.7017307>)\n",
      "\n",
      "(<tf.Tensor: shape=(), dtype=float32, numpy=0.35691625>, <tf.Tensor: shape=(), dtype=float32, numpy=-0.033727385>, <tf.Tensor: shape=(), dtype=float32, numpy=0.7390199>)\n",
      "\n",
      "(<tf.Tensor: shape=(), dtype=float32, numpy=0.2692179>, <tf.Tensor: shape=(), dtype=float32, numpy=-0.55136347>, <tf.Tensor: shape=(), dtype=float32, numpy=0.3257504>)\n",
      "\n",
      "(<tf.Tensor: shape=(), dtype=float32, numpy=0.8678022>, <tf.Tensor: shape=(), dtype=float32, numpy=-1.5031121>, <tf.Tensor: shape=(), dtype=float32, numpy=0.19109023>)\n",
      "\n",
      "(<tf.Tensor: shape=(), dtype=float32, numpy=-0.55600935>, <tf.Tensor: shape=(), dtype=float32, numpy=0.058586523>, <tf.Tensor: shape=(), dtype=float32, numpy=0.5892798>)\n",
      "\n",
      "(<tf.Tensor: shape=(), dtype=float32, numpy=0.16457917>, <tf.Tensor: shape=(), dtype=float32, numpy=-1.3638794>, <tf.Tensor: shape=(), dtype=float32, numpy=0.16914967>)\n",
      "\n",
      "(<tf.Tensor: shape=(), dtype=float32, numpy=0.025252633>, <tf.Tensor: shape=(), dtype=float32, numpy=0.06433964>, <tf.Tensor: shape=(), dtype=float32, numpy=0.43337542>)\n",
      "\n",
      "(<tf.Tensor: shape=(), dtype=float32, numpy=0.073241174>, <tf.Tensor: shape=(), dtype=float32, numpy=0.15465693>, <tf.Tensor: shape=(), dtype=float32, numpy=0.7067674>)\n",
      "\n",
      "(<tf.Tensor: shape=(), dtype=float32, numpy=0.06323731>, <tf.Tensor: shape=(), dtype=float32, numpy=-0.18494722>, <tf.Tensor: shape=(), dtype=float32, numpy=0.52657557>)\n",
      "\n",
      "(<tf.Tensor: shape=(), dtype=float32, numpy=0.17619073>, <tf.Tensor: shape=(), dtype=float32, numpy=-0.0003528297>, <tf.Tensor: shape=(), dtype=float32, numpy=0.6747372>)\n",
      "\n",
      "(<tf.Tensor: shape=(), dtype=float32, numpy=0.31879455>, <tf.Tensor: shape=(), dtype=float32, numpy=1.0590725>, <tf.Tensor: shape=(), dtype=float32, numpy=0.69430983>)\n",
      "\n",
      "(<tf.Tensor: shape=(), dtype=float32, numpy=0.3954414>, <tf.Tensor: shape=(), dtype=float32, numpy=0.43944055>, <tf.Tensor: shape=(), dtype=float32, numpy=0.29136395>)\n",
      "\n",
      "(<tf.Tensor: shape=(), dtype=float32, numpy=-0.20612168>, <tf.Tensor: shape=(), dtype=float32, numpy=-0.6977317>, <tf.Tensor: shape=(), dtype=float32, numpy=0.4435355>)\n",
      "\n",
      "(<tf.Tensor: shape=(), dtype=float32, numpy=-0.8548541>, <tf.Tensor: shape=(), dtype=float32, numpy=-0.24571183>, <tf.Tensor: shape=(), dtype=float32, numpy=0.75547945>)\n",
      "\n",
      "(<tf.Tensor: shape=(), dtype=float32, numpy=0.6271496>, <tf.Tensor: shape=(), dtype=float32, numpy=-0.24464351>, <tf.Tensor: shape=(), dtype=float32, numpy=0.34187093>)\n",
      "\n",
      "(<tf.Tensor: shape=(), dtype=float32, numpy=0.12433949>, <tf.Tensor: shape=(), dtype=float32, numpy=-0.62320995>, <tf.Tensor: shape=(), dtype=float32, numpy=0.60444117>)\n",
      "\n",
      "(<tf.Tensor: shape=(), dtype=float32, numpy=-0.038469538>, <tf.Tensor: shape=(), dtype=float32, numpy=-0.5307747>, <tf.Tensor: shape=(), dtype=float32, numpy=0.12926415>)\n",
      "\n",
      "(<tf.Tensor: shape=(), dtype=float32, numpy=-0.32783836>, <tf.Tensor: shape=(), dtype=float32, numpy=0.80005306>, <tf.Tensor: shape=(), dtype=float32, numpy=0.8091725>)\n",
      "\n",
      "(<tf.Tensor: shape=(), dtype=float32, numpy=-0.27774656>, <tf.Tensor: shape=(), dtype=float32, numpy=0.480544>, <tf.Tensor: shape=(), dtype=float32, numpy=0.75760514>)\n",
      "\n",
      "(<tf.Tensor: shape=(), dtype=float32, numpy=-0.07191357>, <tf.Tensor: shape=(), dtype=float32, numpy=-0.14284495>, <tf.Tensor: shape=(), dtype=float32, numpy=0.3548919>)\n",
      "\n",
      "(<tf.Tensor: shape=(), dtype=float32, numpy=-0.12798473>, <tf.Tensor: shape=(), dtype=float32, numpy=-0.5466724>, <tf.Tensor: shape=(), dtype=float32, numpy=0.74683356>)\n",
      "\n",
      "(<tf.Tensor: shape=(), dtype=float32, numpy=0.0021013618>, <tf.Tensor: shape=(), dtype=float32, numpy=-0.32857227>, <tf.Tensor: shape=(), dtype=float32, numpy=0.34528992>)\n",
      "\n",
      "(<tf.Tensor: shape=(), dtype=float32, numpy=-0.22961167>, <tf.Tensor: shape=(), dtype=float32, numpy=-1.6622541>, <tf.Tensor: shape=(), dtype=float32, numpy=-0.20660847>)\n",
      "\n",
      "(<tf.Tensor: shape=(), dtype=float32, numpy=0.41377097>, <tf.Tensor: shape=(), dtype=float32, numpy=0.11377068>, <tf.Tensor: shape=(), dtype=float32, numpy=0.37723935>)\n",
      "\n",
      "(<tf.Tensor: shape=(), dtype=float32, numpy=1.1529667>, <tf.Tensor: shape=(), dtype=float32, numpy=0.73882264>, <tf.Tensor: shape=(), dtype=float32, numpy=0.5327349>)\n",
      "\n",
      "(<tf.Tensor: shape=(), dtype=float32, numpy=-0.6540498>, <tf.Tensor: shape=(), dtype=float32, numpy=-0.48128366>, <tf.Tensor: shape=(), dtype=float32, numpy=0.6682981>)\n",
      "\n",
      "(<tf.Tensor: shape=(), dtype=float32, numpy=-0.2697484>, <tf.Tensor: shape=(), dtype=float32, numpy=0.08989373>, <tf.Tensor: shape=(), dtype=float32, numpy=0.48544854>)\n",
      "\n",
      "(<tf.Tensor: shape=(), dtype=float32, numpy=-0.24787883>, <tf.Tensor: shape=(), dtype=float32, numpy=-0.23913269>, <tf.Tensor: shape=(), dtype=float32, numpy=0.3832581>)\n",
      "\n",
      "(<tf.Tensor: shape=(), dtype=float32, numpy=0.73067504>, <tf.Tensor: shape=(), dtype=float32, numpy=0.053358242>, <tf.Tensor: shape=(), dtype=float32, numpy=0.48715168>)\n",
      "\n",
      "(<tf.Tensor: shape=(), dtype=float32, numpy=-0.536333>, <tf.Tensor: shape=(), dtype=float32, numpy=-1.0944569>, <tf.Tensor: shape=(), dtype=float32, numpy=-0.30890763>)\n",
      "\n",
      "(<tf.Tensor: shape=(), dtype=float32, numpy=0.87980366>, <tf.Tensor: shape=(), dtype=float32, numpy=0.061888836>, <tf.Tensor: shape=(), dtype=float32, numpy=0.61879516>)\n",
      "\n",
      "(<tf.Tensor: shape=(), dtype=float32, numpy=0.18462737>, <tf.Tensor: shape=(), dtype=float32, numpy=-0.065424345>, <tf.Tensor: shape=(), dtype=float32, numpy=0.4416906>)\n",
      "\n",
      "(<tf.Tensor: shape=(), dtype=float32, numpy=-0.49357134>, <tf.Tensor: shape=(), dtype=float32, numpy=0.5311034>, <tf.Tensor: shape=(), dtype=float32, numpy=0.6644658>)\n",
      "\n",
      "(<tf.Tensor: shape=(), dtype=float32, numpy=0.19354062>, <tf.Tensor: shape=(), dtype=float32, numpy=-0.4339857>, <tf.Tensor: shape=(), dtype=float32, numpy=0.2876016>)\n",
      "\n",
      "(<tf.Tensor: shape=(), dtype=float32, numpy=0.5271821>, <tf.Tensor: shape=(), dtype=float32, numpy=-0.2848822>, <tf.Tensor: shape=(), dtype=float32, numpy=0.39912623>)\n",
      "\n",
      "(<tf.Tensor: shape=(), dtype=float32, numpy=-0.5242145>, <tf.Tensor: shape=(), dtype=float32, numpy=-1.4030597>, <tf.Tensor: shape=(), dtype=float32, numpy=-0.117520906>)\n",
      "\n",
      "(<tf.Tensor: shape=(), dtype=float32, numpy=0.21417353>, <tf.Tensor: shape=(), dtype=float32, numpy=0.23423623>, <tf.Tensor: shape=(), dtype=float32, numpy=0.3549783>)\n",
      "\n",
      "(<tf.Tensor: shape=(), dtype=float32, numpy=-0.17552266>, <tf.Tensor: shape=(), dtype=float32, numpy=-0.2642517>, <tf.Tensor: shape=(), dtype=float32, numpy=0.52371544>)\n",
      "\n",
      "(<tf.Tensor: shape=(), dtype=float32, numpy=0.43180394>, <tf.Tensor: shape=(), dtype=float32, numpy=0.49849272>, <tf.Tensor: shape=(), dtype=float32, numpy=0.96040183>)\n",
      "\n",
      "(<tf.Tensor: shape=(), dtype=float32, numpy=0.101767756>, <tf.Tensor: shape=(), dtype=float32, numpy=-0.5646223>, <tf.Tensor: shape=(), dtype=float32, numpy=-0.039717704>)\n",
      "\n",
      "(<tf.Tensor: shape=(), dtype=float32, numpy=0.36875734>, <tf.Tensor: shape=(), dtype=float32, numpy=0.08031404>, <tf.Tensor: shape=(), dtype=float32, numpy=0.3527192>)\n",
      "\n",
      "(<tf.Tensor: shape=(), dtype=float32, numpy=-0.15878665>, <tf.Tensor: shape=(), dtype=float32, numpy=-0.45122313>, <tf.Tensor: shape=(), dtype=float32, numpy=0.4217893>)\n",
      "\n",
      "(<tf.Tensor: shape=(), dtype=float32, numpy=-0.22855091>, <tf.Tensor: shape=(), dtype=float32, numpy=-0.045543104>, <tf.Tensor: shape=(), dtype=float32, numpy=0.5571754>)\n",
      "\n",
      "(<tf.Tensor: shape=(), dtype=float32, numpy=0.1366443>, <tf.Tensor: shape=(), dtype=float32, numpy=-0.2038348>, <tf.Tensor: shape=(), dtype=float32, numpy=0.0757121>)\n",
      "\n",
      "(<tf.Tensor: shape=(), dtype=float32, numpy=-0.54339504>, <tf.Tensor: shape=(), dtype=float32, numpy=-0.5008854>, <tf.Tensor: shape=(), dtype=float32, numpy=0.5225179>)\n",
      "\n",
      "(<tf.Tensor: shape=(), dtype=float32, numpy=0.30520335>, <tf.Tensor: shape=(), dtype=float32, numpy=1.0480688>, <tf.Tensor: shape=(), dtype=float32, numpy=1.3209642>)\n",
      "\n",
      "Mean squared error for step 50: 1.095\n",
      "(<tf.Tensor: shape=(), dtype=float32, numpy=0.12687826>, <tf.Tensor: shape=(), dtype=float32, numpy=-0.13118812>, <tf.Tensor: shape=(), dtype=float32, numpy=0.1438492>)\n",
      "\n",
      "(<tf.Tensor: shape=(), dtype=float32, numpy=0.39710996>, <tf.Tensor: shape=(), dtype=float32, numpy=-0.31387016>, <tf.Tensor: shape=(), dtype=float32, numpy=0.0062066317>)\n",
      "\n",
      "(<tf.Tensor: shape=(), dtype=float32, numpy=0.1998677>, <tf.Tensor: shape=(), dtype=float32, numpy=-0.693931>, <tf.Tensor: shape=(), dtype=float32, numpy=0.18424189>)\n",
      "\n",
      "(<tf.Tensor: shape=(), dtype=float32, numpy=-0.86396545>, <tf.Tensor: shape=(), dtype=float32, numpy=-1.3275169>, <tf.Tensor: shape=(), dtype=float32, numpy=0.046150982>)\n",
      "\n",
      "(<tf.Tensor: shape=(), dtype=float32, numpy=-0.19870925>, <tf.Tensor: shape=(), dtype=float32, numpy=-0.5219186>, <tf.Tensor: shape=(), dtype=float32, numpy=0.46373406>)\n",
      "\n",
      "(<tf.Tensor: shape=(), dtype=float32, numpy=-0.039624885>, <tf.Tensor: shape=(), dtype=float32, numpy=1.710459>, <tf.Tensor: shape=(), dtype=float32, numpy=1.2754883>)\n",
      "\n",
      "(<tf.Tensor: shape=(), dtype=float32, numpy=0.6837753>, <tf.Tensor: shape=(), dtype=float32, numpy=-0.6472122>, <tf.Tensor: shape=(), dtype=float32, numpy=-0.13837926>)\n",
      "\n",
      "(<tf.Tensor: shape=(), dtype=float32, numpy=-0.17694923>, <tf.Tensor: shape=(), dtype=float32, numpy=0.86666864>, <tf.Tensor: shape=(), dtype=float32, numpy=0.59942126>)\n",
      "\n",
      "(<tf.Tensor: shape=(), dtype=float32, numpy=-0.22946657>, <tf.Tensor: shape=(), dtype=float32, numpy=-1.1729952>, <tf.Tensor: shape=(), dtype=float32, numpy=-0.41356617>)\n",
      "\n",
      "(<tf.Tensor: shape=(), dtype=float32, numpy=-0.0058151186>, <tf.Tensor: shape=(), dtype=float32, numpy=-0.5812424>, <tf.Tensor: shape=(), dtype=float32, numpy=0.2582465>)\n",
      "\n",
      "(<tf.Tensor: shape=(), dtype=float32, numpy=-0.08568883>, <tf.Tensor: shape=(), dtype=float32, numpy=-0.23332499>, <tf.Tensor: shape=(), dtype=float32, numpy=0.30126095>)\n",
      "\n",
      "(<tf.Tensor: shape=(), dtype=float32, numpy=-0.040634245>, <tf.Tensor: shape=(), dtype=float32, numpy=-0.6356933>, <tf.Tensor: shape=(), dtype=float32, numpy=0.33572078>)\n",
      "\n",
      "(<tf.Tensor: shape=(), dtype=float32, numpy=0.22645223>, <tf.Tensor: shape=(), dtype=float32, numpy=0.70356154>, <tf.Tensor: shape=(), dtype=float32, numpy=0.95932704>)\n",
      "\n",
      "(<tf.Tensor: shape=(), dtype=float32, numpy=0.31576994>, <tf.Tensor: shape=(), dtype=float32, numpy=-0.8354624>, <tf.Tensor: shape=(), dtype=float32, numpy=-0.03750079>)\n",
      "\n",
      "(<tf.Tensor: shape=(), dtype=float32, numpy=0.87589025>, <tf.Tensor: shape=(), dtype=float32, numpy=1.122227>, <tf.Tensor: shape=(), dtype=float32, numpy=0.807091>)\n",
      "\n",
      "(<tf.Tensor: shape=(), dtype=float32, numpy=0.3141005>, <tf.Tensor: shape=(), dtype=float32, numpy=-0.85414565>, <tf.Tensor: shape=(), dtype=float32, numpy=-0.297912>)\n",
      "\n",
      "(<tf.Tensor: shape=(), dtype=float32, numpy=-0.59801877>, <tf.Tensor: shape=(), dtype=float32, numpy=-0.4335435>, <tf.Tensor: shape=(), dtype=float32, numpy=0.0657786>)\n",
      "\n",
      "(<tf.Tensor: shape=(), dtype=float32, numpy=-0.110702366>, <tf.Tensor: shape=(), dtype=float32, numpy=-0.11619595>, <tf.Tensor: shape=(), dtype=float32, numpy=0.38379866>)\n",
      "\n",
      "(<tf.Tensor: shape=(), dtype=float32, numpy=-0.6104736>, <tf.Tensor: shape=(), dtype=float32, numpy=-0.7273364>, <tf.Tensor: shape=(), dtype=float32, numpy=0.3942024>)\n",
      "\n",
      "(<tf.Tensor: shape=(), dtype=float32, numpy=-0.13069543>, <tf.Tensor: shape=(), dtype=float32, numpy=0.17752647>, <tf.Tensor: shape=(), dtype=float32, numpy=0.805064>)\n",
      "\n",
      "(<tf.Tensor: shape=(), dtype=float32, numpy=-0.20879358>, <tf.Tensor: shape=(), dtype=float32, numpy=-0.916196>, <tf.Tensor: shape=(), dtype=float32, numpy=-0.62725866>)\n",
      "\n",
      "(<tf.Tensor: shape=(), dtype=float32, numpy=-0.6359369>, <tf.Tensor: shape=(), dtype=float32, numpy=-1.2021322>, <tf.Tensor: shape=(), dtype=float32, numpy=-0.33274388>)\n",
      "\n",
      "(<tf.Tensor: shape=(), dtype=float32, numpy=0.46066254>, <tf.Tensor: shape=(), dtype=float32, numpy=0.9891865>, <tf.Tensor: shape=(), dtype=float32, numpy=0.90079236>)\n",
      "\n",
      "(<tf.Tensor: shape=(), dtype=float32, numpy=0.41754574>, <tf.Tensor: shape=(), dtype=float32, numpy=-0.48940015>, <tf.Tensor: shape=(), dtype=float32, numpy=0.1237071>)\n",
      "\n",
      "(<tf.Tensor: shape=(), dtype=float32, numpy=-0.38260823>, <tf.Tensor: shape=(), dtype=float32, numpy=0.08953142>, <tf.Tensor: shape=(), dtype=float32, numpy=0.3512486>)\n",
      "\n",
      "(<tf.Tensor: shape=(), dtype=float32, numpy=-0.0075456426>, <tf.Tensor: shape=(), dtype=float32, numpy=0.3988719>, <tf.Tensor: shape=(), dtype=float32, numpy=0.6107742>)\n",
      "\n",
      "(<tf.Tensor: shape=(), dtype=float32, numpy=0.018597081>, <tf.Tensor: shape=(), dtype=float32, numpy=-0.52499133>, <tf.Tensor: shape=(), dtype=float32, numpy=0.30303347>)\n",
      "\n",
      "(<tf.Tensor: shape=(), dtype=float32, numpy=0.029665709>, <tf.Tensor: shape=(), dtype=float32, numpy=1.2538997>, <tf.Tensor: shape=(), dtype=float32, numpy=0.82418203>)\n",
      "\n",
      "(<tf.Tensor: shape=(), dtype=float32, numpy=0.32866558>, <tf.Tensor: shape=(), dtype=float32, numpy=0.69530237>, <tf.Tensor: shape=(), dtype=float32, numpy=0.53963655>)\n",
      "\n",
      "(<tf.Tensor: shape=(), dtype=float32, numpy=0.12030509>, <tf.Tensor: shape=(), dtype=float32, numpy=0.2746359>, <tf.Tensor: shape=(), dtype=float32, numpy=0.48124114>)\n",
      "\n",
      "(<tf.Tensor: shape=(), dtype=float32, numpy=-0.31041184>, <tf.Tensor: shape=(), dtype=float32, numpy=-0.09499413>, <tf.Tensor: shape=(), dtype=float32, numpy=0.124591045>)\n",
      "\n",
      "(<tf.Tensor: shape=(), dtype=float32, numpy=0.5942936>, <tf.Tensor: shape=(), dtype=float32, numpy=-0.8016747>, <tf.Tensor: shape=(), dtype=float32, numpy=0.08984666>)\n",
      "\n",
      "(<tf.Tensor: shape=(), dtype=float32, numpy=-0.03728558>, <tf.Tensor: shape=(), dtype=float32, numpy=-0.14815688>, <tf.Tensor: shape=(), dtype=float32, numpy=0.32749626>)\n",
      "\n",
      "(<tf.Tensor: shape=(), dtype=float32, numpy=-1.0497224>, <tf.Tensor: shape=(), dtype=float32, numpy=-1.0438452>, <tf.Tensor: shape=(), dtype=float32, numpy=-0.07342319>)\n",
      "\n",
      "(<tf.Tensor: shape=(), dtype=float32, numpy=0.46551275>, <tf.Tensor: shape=(), dtype=float32, numpy=-1.3232094>, <tf.Tensor: shape=(), dtype=float32, numpy=0.2833938>)\n",
      "\n",
      "(<tf.Tensor: shape=(), dtype=float32, numpy=-0.9025638>, <tf.Tensor: shape=(), dtype=float32, numpy=-0.23890874>, <tf.Tensor: shape=(), dtype=float32, numpy=0.629204>)\n",
      "\n",
      "(<tf.Tensor: shape=(), dtype=float32, numpy=0.20073715>, <tf.Tensor: shape=(), dtype=float32, numpy=-0.052817494>, <tf.Tensor: shape=(), dtype=float32, numpy=0.30767506>)\n",
      "\n",
      "(<tf.Tensor: shape=(), dtype=float32, numpy=0.52616245>, <tf.Tensor: shape=(), dtype=float32, numpy=0.05911553>, <tf.Tensor: shape=(), dtype=float32, numpy=-0.0068542436>)\n",
      "\n",
      "(<tf.Tensor: shape=(), dtype=float32, numpy=-0.106253564>, <tf.Tensor: shape=(), dtype=float32, numpy=-0.39652717>, <tf.Tensor: shape=(), dtype=float32, numpy=0.11134486>)\n",
      "\n",
      "(<tf.Tensor: shape=(), dtype=float32, numpy=0.5798218>, <tf.Tensor: shape=(), dtype=float32, numpy=-0.74036294>, <tf.Tensor: shape=(), dtype=float32, numpy=-0.2276931>)\n",
      "\n",
      "(<tf.Tensor: shape=(), dtype=float32, numpy=-0.20503078>, <tf.Tensor: shape=(), dtype=float32, numpy=0.74618626>, <tf.Tensor: shape=(), dtype=float32, numpy=0.96842253>)\n",
      "\n",
      "(<tf.Tensor: shape=(), dtype=float32, numpy=-0.7542992>, <tf.Tensor: shape=(), dtype=float32, numpy=0.67424214>, <tf.Tensor: shape=(), dtype=float32, numpy=0.46875572>)\n",
      "\n",
      "(<tf.Tensor: shape=(), dtype=float32, numpy=-0.2663591>, <tf.Tensor: shape=(), dtype=float32, numpy=-0.6593504>, <tf.Tensor: shape=(), dtype=float32, numpy=-0.13781512>)\n",
      "\n",
      "(<tf.Tensor: shape=(), dtype=float32, numpy=0.39909226>, <tf.Tensor: shape=(), dtype=float32, numpy=0.37326372>, <tf.Tensor: shape=(), dtype=float32, numpy=0.45311216>)\n",
      "\n",
      "(<tf.Tensor: shape=(), dtype=float32, numpy=-0.4083851>, <tf.Tensor: shape=(), dtype=float32, numpy=-0.42473298>, <tf.Tensor: shape=(), dtype=float32, numpy=0.38789034>)\n",
      "\n",
      "(<tf.Tensor: shape=(), dtype=float32, numpy=-0.14475429>, <tf.Tensor: shape=(), dtype=float32, numpy=0.8233566>, <tf.Tensor: shape=(), dtype=float32, numpy=0.87057745>)\n",
      "\n",
      "(<tf.Tensor: shape=(), dtype=float32, numpy=-0.36922842>, <tf.Tensor: shape=(), dtype=float32, numpy=-0.74445236>, <tf.Tensor: shape=(), dtype=float32, numpy=-0.16454378>)\n",
      "\n",
      "(<tf.Tensor: shape=(), dtype=float32, numpy=0.6926279>, <tf.Tensor: shape=(), dtype=float32, numpy=0.08379632>, <tf.Tensor: shape=(), dtype=float32, numpy=0.30941412>)\n",
      "\n",
      "(<tf.Tensor: shape=(), dtype=float32, numpy=0.28480512>, <tf.Tensor: shape=(), dtype=float32, numpy=-1.0291901>, <tf.Tensor: shape=(), dtype=float32, numpy=-0.35502815>)\n",
      "\n",
      "(<tf.Tensor: shape=(), dtype=float32, numpy=0.34322798>, <tf.Tensor: shape=(), dtype=float32, numpy=-0.02382069>, <tf.Tensor: shape=(), dtype=float32, numpy=0.17538202>)\n",
      "\n",
      "(<tf.Tensor: shape=(), dtype=float32, numpy=-0.39591524>, <tf.Tensor: shape=(), dtype=float32, numpy=0.01943095>, <tf.Tensor: shape=(), dtype=float32, numpy=0.24964501>)\n",
      "\n",
      "(<tf.Tensor: shape=(), dtype=float32, numpy=0.28497005>, <tf.Tensor: shape=(), dtype=float32, numpy=0.080843955>, <tf.Tensor: shape=(), dtype=float32, numpy=0.19790563>)\n",
      "\n",
      "(<tf.Tensor: shape=(), dtype=float32, numpy=0.57388204>, <tf.Tensor: shape=(), dtype=float32, numpy=0.18183087>, <tf.Tensor: shape=(), dtype=float32, numpy=0.21780598>)\n",
      "\n",
      "(<tf.Tensor: shape=(), dtype=float32, numpy=-0.33017504>, <tf.Tensor: shape=(), dtype=float32, numpy=-0.6794481>, <tf.Tensor: shape=(), dtype=float32, numpy=0.070470236>)\n",
      "\n",
      "(<tf.Tensor: shape=(), dtype=float32, numpy=-0.5790145>, <tf.Tensor: shape=(), dtype=float32, numpy=-0.12500486>, <tf.Tensor: shape=(), dtype=float32, numpy=0.5633689>)\n",
      "\n",
      "(<tf.Tensor: shape=(), dtype=float32, numpy=-0.1426214>, <tf.Tensor: shape=(), dtype=float32, numpy=-0.026749142>, <tf.Tensor: shape=(), dtype=float32, numpy=0.715511>)\n",
      "\n",
      "(<tf.Tensor: shape=(), dtype=float32, numpy=0.38837314>, <tf.Tensor: shape=(), dtype=float32, numpy=-0.18973824>, <tf.Tensor: shape=(), dtype=float32, numpy=0.84888804>)\n",
      "\n",
      "(<tf.Tensor: shape=(), dtype=float32, numpy=0.25496778>, <tf.Tensor: shape=(), dtype=float32, numpy=-0.9575318>, <tf.Tensor: shape=(), dtype=float32, numpy=-0.28229195>)\n",
      "\n",
      "(<tf.Tensor: shape=(), dtype=float32, numpy=0.14656064>, <tf.Tensor: shape=(), dtype=float32, numpy=-0.12960537>, <tf.Tensor: shape=(), dtype=float32, numpy=0.04079935>)\n",
      "\n",
      "(<tf.Tensor: shape=(), dtype=float32, numpy=-0.19085336>, <tf.Tensor: shape=(), dtype=float32, numpy=-0.37094688>, <tf.Tensor: shape=(), dtype=float32, numpy=0.17891684>)\n",
      "\n",
      "(<tf.Tensor: shape=(), dtype=float32, numpy=-0.54727554>, <tf.Tensor: shape=(), dtype=float32, numpy=0.30006573>, <tf.Tensor: shape=(), dtype=float32, numpy=-0.061950065>)\n",
      "\n",
      "(<tf.Tensor: shape=(), dtype=float32, numpy=-0.46037906>, <tf.Tensor: shape=(), dtype=float32, numpy=1.0324374>, <tf.Tensor: shape=(), dtype=float32, numpy=0.79075116>)\n",
      "\n",
      "(<tf.Tensor: shape=(), dtype=float32, numpy=1.0376792>, <tf.Tensor: shape=(), dtype=float32, numpy=-0.15335238>, <tf.Tensor: shape=(), dtype=float32, numpy=0.43954912>)\n",
      "\n",
      "(<tf.Tensor: shape=(), dtype=float32, numpy=-0.6133064>, <tf.Tensor: shape=(), dtype=float32, numpy=-0.702644>, <tf.Tensor: shape=(), dtype=float32, numpy=-0.5357503>)\n",
      "\n",
      "(<tf.Tensor: shape=(), dtype=float32, numpy=0.9317504>, <tf.Tensor: shape=(), dtype=float32, numpy=0.0499084>, <tf.Tensor: shape=(), dtype=float32, numpy=0.36310464>)\n",
      "\n",
      "(<tf.Tensor: shape=(), dtype=float32, numpy=-0.3178624>, <tf.Tensor: shape=(), dtype=float32, numpy=0.4439844>, <tf.Tensor: shape=(), dtype=float32, numpy=0.6780474>)\n",
      "\n",
      "(<tf.Tensor: shape=(), dtype=float32, numpy=-0.3607561>, <tf.Tensor: shape=(), dtype=float32, numpy=-0.17898542>, <tf.Tensor: shape=(), dtype=float32, numpy=0.42095163>)\n",
      "\n",
      "(<tf.Tensor: shape=(), dtype=float32, numpy=-0.22996968>, <tf.Tensor: shape=(), dtype=float32, numpy=-0.036783874>, <tf.Tensor: shape=(), dtype=float32, numpy=0.22994974>)\n",
      "\n",
      "(<tf.Tensor: shape=(), dtype=float32, numpy=0.5995111>, <tf.Tensor: shape=(), dtype=float32, numpy=0.48523545>, <tf.Tensor: shape=(), dtype=float32, numpy=0.4973442>)\n",
      "\n",
      "(<tf.Tensor: shape=(), dtype=float32, numpy=-0.49858543>, <tf.Tensor: shape=(), dtype=float32, numpy=-2.4002995>, <tf.Tensor: shape=(), dtype=float32, numpy=-0.82110924>)\n",
      "\n",
      "Mean squared error for step 60: 1.023\n",
      "(<tf.Tensor: shape=(), dtype=float32, numpy=-0.006343633>, <tf.Tensor: shape=(), dtype=float32, numpy=-0.69792163>, <tf.Tensor: shape=(), dtype=float32, numpy=-0.63883543>)\n",
      "\n",
      "(<tf.Tensor: shape=(), dtype=float32, numpy=-0.2226684>, <tf.Tensor: shape=(), dtype=float32, numpy=0.29863918>, <tf.Tensor: shape=(), dtype=float32, numpy=0.6135732>)\n",
      "\n",
      "(<tf.Tensor: shape=(), dtype=float32, numpy=-0.5283401>, <tf.Tensor: shape=(), dtype=float32, numpy=-1.1569233>, <tf.Tensor: shape=(), dtype=float32, numpy=-0.3569746>)\n",
      "\n",
      "(<tf.Tensor: shape=(), dtype=float32, numpy=0.49433753>, <tf.Tensor: shape=(), dtype=float32, numpy=0.471062>, <tf.Tensor: shape=(), dtype=float32, numpy=0.80716497>)\n",
      "\n",
      "(<tf.Tensor: shape=(), dtype=float32, numpy=-0.21977305>, <tf.Tensor: shape=(), dtype=float32, numpy=0.2247535>, <tf.Tensor: shape=(), dtype=float32, numpy=0.5482787>)\n",
      "\n",
      "(<tf.Tensor: shape=(), dtype=float32, numpy=0.3900118>, <tf.Tensor: shape=(), dtype=float32, numpy=0.99468267>, <tf.Tensor: shape=(), dtype=float32, numpy=0.72564447>)\n",
      "\n",
      "(<tf.Tensor: shape=(), dtype=float32, numpy=0.29098666>, <tf.Tensor: shape=(), dtype=float32, numpy=0.65560573>, <tf.Tensor: shape=(), dtype=float32, numpy=0.31254905>)\n",
      "\n",
      "(<tf.Tensor: shape=(), dtype=float32, numpy=0.17936583>, <tf.Tensor: shape=(), dtype=float32, numpy=0.73848635>, <tf.Tensor: shape=(), dtype=float32, numpy=0.720237>)\n",
      "\n",
      "(<tf.Tensor: shape=(), dtype=float32, numpy=-0.4936253>, <tf.Tensor: shape=(), dtype=float32, numpy=-0.45397043>, <tf.Tensor: shape=(), dtype=float32, numpy=-0.33563042>)\n",
      "\n",
      "(<tf.Tensor: shape=(), dtype=float32, numpy=-0.011650786>, <tf.Tensor: shape=(), dtype=float32, numpy=-0.19929706>, <tf.Tensor: shape=(), dtype=float32, numpy=0.39402956>)\n",
      "\n",
      "(<tf.Tensor: shape=(), dtype=float32, numpy=-0.13414212>, <tf.Tensor: shape=(), dtype=float32, numpy=0.0015578307>, <tf.Tensor: shape=(), dtype=float32, numpy=-0.13373828>)\n",
      "\n",
      "(<tf.Tensor: shape=(), dtype=float32, numpy=-0.26737595>, <tf.Tensor: shape=(), dtype=float32, numpy=-0.3087374>, <tf.Tensor: shape=(), dtype=float32, numpy=0.31832987>)\n",
      "\n",
      "(<tf.Tensor: shape=(), dtype=float32, numpy=0.49480015>, <tf.Tensor: shape=(), dtype=float32, numpy=-0.7737174>, <tf.Tensor: shape=(), dtype=float32, numpy=0.07208744>)\n",
      "\n",
      "(<tf.Tensor: shape=(), dtype=float32, numpy=0.6407264>, <tf.Tensor: shape=(), dtype=float32, numpy=0.9412269>, <tf.Tensor: shape=(), dtype=float32, numpy=0.61283886>)\n",
      "\n",
      "(<tf.Tensor: shape=(), dtype=float32, numpy=0.040435135>, <tf.Tensor: shape=(), dtype=float32, numpy=0.17185187>, <tf.Tensor: shape=(), dtype=float32, numpy=0.21629268>)\n",
      "\n",
      "(<tf.Tensor: shape=(), dtype=float32, numpy=0.55239046>, <tf.Tensor: shape=(), dtype=float32, numpy=-0.7826427>, <tf.Tensor: shape=(), dtype=float32, numpy=0.19907029>)\n",
      "\n",
      "(<tf.Tensor: shape=(), dtype=float32, numpy=-0.6605391>, <tf.Tensor: shape=(), dtype=float32, numpy=-0.19119477>, <tf.Tensor: shape=(), dtype=float32, numpy=0.15754184>)\n",
      "\n",
      "(<tf.Tensor: shape=(), dtype=float32, numpy=-0.24520665>, <tf.Tensor: shape=(), dtype=float32, numpy=0.7038136>, <tf.Tensor: shape=(), dtype=float32, numpy=0.6113827>)\n",
      "\n",
      "(<tf.Tensor: shape=(), dtype=float32, numpy=-0.57648593>, <tf.Tensor: shape=(), dtype=float32, numpy=-0.8614778>, <tf.Tensor: shape=(), dtype=float32, numpy=0.05254771>)\n",
      "\n",
      "(<tf.Tensor: shape=(), dtype=float32, numpy=0.6354573>, <tf.Tensor: shape=(), dtype=float32, numpy=-0.27668285>, <tf.Tensor: shape=(), dtype=float32, numpy=-0.24769336>)\n",
      "\n",
      "(<tf.Tensor: shape=(), dtype=float32, numpy=0.27571684>, <tf.Tensor: shape=(), dtype=float32, numpy=1.5987171>, <tf.Tensor: shape=(), dtype=float32, numpy=0.38148654>)\n",
      "\n",
      "(<tf.Tensor: shape=(), dtype=float32, numpy=-0.20219862>, <tf.Tensor: shape=(), dtype=float32, numpy=-0.82907206>, <tf.Tensor: shape=(), dtype=float32, numpy=-0.49841806>)\n",
      "\n",
      "(<tf.Tensor: shape=(), dtype=float32, numpy=0.17823614>, <tf.Tensor: shape=(), dtype=float32, numpy=-0.22781557>, <tf.Tensor: shape=(), dtype=float32, numpy=0.58638453>)\n",
      "\n",
      "(<tf.Tensor: shape=(), dtype=float32, numpy=-0.36929625>, <tf.Tensor: shape=(), dtype=float32, numpy=0.07899806>, <tf.Tensor: shape=(), dtype=float32, numpy=0.16529757>)\n",
      "\n",
      "(<tf.Tensor: shape=(), dtype=float32, numpy=0.2577825>, <tf.Tensor: shape=(), dtype=float32, numpy=-0.4907467>, <tf.Tensor: shape=(), dtype=float32, numpy=-0.14944969>)\n",
      "\n",
      "(<tf.Tensor: shape=(), dtype=float32, numpy=0.0411274>, <tf.Tensor: shape=(), dtype=float32, numpy=0.51588607>, <tf.Tensor: shape=(), dtype=float32, numpy=0.44396323>)\n",
      "\n",
      "(<tf.Tensor: shape=(), dtype=float32, numpy=-0.09784055>, <tf.Tensor: shape=(), dtype=float32, numpy=0.110275194>, <tf.Tensor: shape=(), dtype=float32, numpy=0.45904368>)\n",
      "\n",
      "(<tf.Tensor: shape=(), dtype=float32, numpy=0.08626062>, <tf.Tensor: shape=(), dtype=float32, numpy=-0.16946106>, <tf.Tensor: shape=(), dtype=float32, numpy=-0.03587386>)\n",
      "\n",
      "(<tf.Tensor: shape=(), dtype=float32, numpy=0.50872326>, <tf.Tensor: shape=(), dtype=float32, numpy=0.4864418>, <tf.Tensor: shape=(), dtype=float32, numpy=0.6331048>)\n",
      "\n",
      "(<tf.Tensor: shape=(), dtype=float32, numpy=0.2713167>, <tf.Tensor: shape=(), dtype=float32, numpy=-0.0025768578>, <tf.Tensor: shape=(), dtype=float32, numpy=0.06843081>)\n",
      "\n",
      "(<tf.Tensor: shape=(), dtype=float32, numpy=-0.4457637>, <tf.Tensor: shape=(), dtype=float32, numpy=-0.3012326>, <tf.Tensor: shape=(), dtype=float32, numpy=-0.21060747>)\n",
      "\n",
      "(<tf.Tensor: shape=(), dtype=float32, numpy=0.105283245>, <tf.Tensor: shape=(), dtype=float32, numpy=0.16170144>, <tf.Tensor: shape=(), dtype=float32, numpy=0.5507574>)\n",
      "\n",
      "(<tf.Tensor: shape=(), dtype=float32, numpy=-0.65835017>, <tf.Tensor: shape=(), dtype=float32, numpy=-1.2217276>, <tf.Tensor: shape=(), dtype=float32, numpy=-0.005392194>)\n",
      "\n",
      "(<tf.Tensor: shape=(), dtype=float32, numpy=0.174141>, <tf.Tensor: shape=(), dtype=float32, numpy=-0.49424124>, <tf.Tensor: shape=(), dtype=float32, numpy=-0.37444893>)\n",
      "\n",
      "(<tf.Tensor: shape=(), dtype=float32, numpy=-0.5930594>, <tf.Tensor: shape=(), dtype=float32, numpy=0.94743246>, <tf.Tensor: shape=(), dtype=float32, numpy=0.58688074>)\n",
      "\n",
      "(<tf.Tensor: shape=(), dtype=float32, numpy=-0.6894453>, <tf.Tensor: shape=(), dtype=float32, numpy=0.35324743>, <tf.Tensor: shape=(), dtype=float32, numpy=0.5105629>)\n",
      "\n",
      "(<tf.Tensor: shape=(), dtype=float32, numpy=-0.23747402>, <tf.Tensor: shape=(), dtype=float32, numpy=-0.15857539>, <tf.Tensor: shape=(), dtype=float32, numpy=0.054191194>)\n",
      "\n",
      "(<tf.Tensor: shape=(), dtype=float32, numpy=0.8240787>, <tf.Tensor: shape=(), dtype=float32, numpy=1.0346749>, <tf.Tensor: shape=(), dtype=float32, numpy=0.7061794>)\n",
      "\n",
      "(<tf.Tensor: shape=(), dtype=float32, numpy=-0.024457157>, <tf.Tensor: shape=(), dtype=float32, numpy=-1.0392781>, <tf.Tensor: shape=(), dtype=float32, numpy=-0.05404304>)\n",
      "\n",
      "(<tf.Tensor: shape=(), dtype=float32, numpy=-0.36914432>, <tf.Tensor: shape=(), dtype=float32, numpy=-1.2361692>, <tf.Tensor: shape=(), dtype=float32, numpy=-0.2882538>)\n",
      "\n",
      "(<tf.Tensor: shape=(), dtype=float32, numpy=0.3735776>, <tf.Tensor: shape=(), dtype=float32, numpy=-0.4243586>, <tf.Tensor: shape=(), dtype=float32, numpy=-0.3065735>)\n",
      "\n",
      "(<tf.Tensor: shape=(), dtype=float32, numpy=0.5095178>, <tf.Tensor: shape=(), dtype=float32, numpy=0.8620839>, <tf.Tensor: shape=(), dtype=float32, numpy=0.31368902>)\n",
      "\n",
      "(<tf.Tensor: shape=(), dtype=float32, numpy=-0.088821545>, <tf.Tensor: shape=(), dtype=float32, numpy=0.23360905>, <tf.Tensor: shape=(), dtype=float32, numpy=0.41549784>)\n",
      "\n",
      "(<tf.Tensor: shape=(), dtype=float32, numpy=-1.0359992>, <tf.Tensor: shape=(), dtype=float32, numpy=-1.0474865>, <tf.Tensor: shape=(), dtype=float32, numpy=-0.37381703>)\n",
      "\n",
      "(<tf.Tensor: shape=(), dtype=float32, numpy=-0.01251103>, <tf.Tensor: shape=(), dtype=float32, numpy=0.18183655>, <tf.Tensor: shape=(), dtype=float32, numpy=0.3505866>)\n",
      "\n",
      "(<tf.Tensor: shape=(), dtype=float32, numpy=1.2617319>, <tf.Tensor: shape=(), dtype=float32, numpy=0.6279971>, <tf.Tensor: shape=(), dtype=float32, numpy=0.058462784>)\n",
      "\n",
      "(<tf.Tensor: shape=(), dtype=float32, numpy=-0.090059884>, <tf.Tensor: shape=(), dtype=float32, numpy=-0.98902154>, <tf.Tensor: shape=(), dtype=float32, numpy=0.013624191>)\n",
      "\n",
      "(<tf.Tensor: shape=(), dtype=float32, numpy=-0.001676172>, <tf.Tensor: shape=(), dtype=float32, numpy=0.24769717>, <tf.Tensor: shape=(), dtype=float32, numpy=0.4008169>)\n",
      "\n",
      "(<tf.Tensor: shape=(), dtype=float32, numpy=-0.4363925>, <tf.Tensor: shape=(), dtype=float32, numpy=-0.29273957>, <tf.Tensor: shape=(), dtype=float32, numpy=-0.07150308>)\n",
      "\n",
      "(<tf.Tensor: shape=(), dtype=float32, numpy=-0.10951494>, <tf.Tensor: shape=(), dtype=float32, numpy=0.8195095>, <tf.Tensor: shape=(), dtype=float32, numpy=0.55110884>)\n",
      "\n",
      "(<tf.Tensor: shape=(), dtype=float32, numpy=0.10325141>, <tf.Tensor: shape=(), dtype=float32, numpy=-0.4712575>, <tf.Tensor: shape=(), dtype=float32, numpy=-0.3956897>)\n",
      "\n",
      "(<tf.Tensor: shape=(), dtype=float32, numpy=0.6084552>, <tf.Tensor: shape=(), dtype=float32, numpy=-0.26532313>, <tf.Tensor: shape=(), dtype=float32, numpy=-0.19678262>)\n",
      "\n",
      "(<tf.Tensor: shape=(), dtype=float32, numpy=0.26668227>, <tf.Tensor: shape=(), dtype=float32, numpy=0.14307931>, <tf.Tensor: shape=(), dtype=float32, numpy=0.56348574>)\n",
      "\n",
      "(<tf.Tensor: shape=(), dtype=float32, numpy=-0.13084972>, <tf.Tensor: shape=(), dtype=float32, numpy=-0.9354757>, <tf.Tensor: shape=(), dtype=float32, numpy=-0.24154162>)\n",
      "\n",
      "(<tf.Tensor: shape=(), dtype=float32, numpy=-0.38193727>, <tf.Tensor: shape=(), dtype=float32, numpy=0.07836771>, <tf.Tensor: shape=(), dtype=float32, numpy=0.33887497>)\n",
      "\n",
      "(<tf.Tensor: shape=(), dtype=float32, numpy=-1.6592271>, <tf.Tensor: shape=(), dtype=float32, numpy=-0.3084941>, <tf.Tensor: shape=(), dtype=float32, numpy=0.7951917>)\n",
      "\n",
      "(<tf.Tensor: shape=(), dtype=float32, numpy=0.10363446>, <tf.Tensor: shape=(), dtype=float32, numpy=0.8533408>, <tf.Tensor: shape=(), dtype=float32, numpy=0.4092803>)\n",
      "\n",
      "(<tf.Tensor: shape=(), dtype=float32, numpy=0.17171454>, <tf.Tensor: shape=(), dtype=float32, numpy=0.3172666>, <tf.Tensor: shape=(), dtype=float32, numpy=0.66058743>)\n",
      "\n",
      "(<tf.Tensor: shape=(), dtype=float32, numpy=0.01240629>, <tf.Tensor: shape=(), dtype=float32, numpy=-0.8683541>, <tf.Tensor: shape=(), dtype=float32, numpy=-0.45898476>)\n",
      "\n",
      "(<tf.Tensor: shape=(), dtype=float32, numpy=0.35698336>, <tf.Tensor: shape=(), dtype=float32, numpy=-0.06877367>, <tf.Tensor: shape=(), dtype=float32, numpy=-0.021871567>)\n",
      "\n",
      "(<tf.Tensor: shape=(), dtype=float32, numpy=-0.12201622>, <tf.Tensor: shape=(), dtype=float32, numpy=-0.47039628>, <tf.Tensor: shape=(), dtype=float32, numpy=0.14513952>)\n",
      "\n",
      "(<tf.Tensor: shape=(), dtype=float32, numpy=-0.38268548>, <tf.Tensor: shape=(), dtype=float32, numpy=-0.4879104>, <tf.Tensor: shape=(), dtype=float32, numpy=0.09400207>)\n",
      "\n",
      "(<tf.Tensor: shape=(), dtype=float32, numpy=-0.11179936>, <tf.Tensor: shape=(), dtype=float32, numpy=-0.037555568>, <tf.Tensor: shape=(), dtype=float32, numpy=-0.29892212>)\n",
      "\n",
      "(<tf.Tensor: shape=(), dtype=float32, numpy=-0.17326197>, <tf.Tensor: shape=(), dtype=float32, numpy=-0.48079348>, <tf.Tensor: shape=(), dtype=float32, numpy=-0.041347824>)\n",
      "\n",
      "(<tf.Tensor: shape=(), dtype=float32, numpy=0.6967049>, <tf.Tensor: shape=(), dtype=float32, numpy=-0.094834656>, <tf.Tensor: shape=(), dtype=float32, numpy=-0.06244795>)\n",
      "\n",
      "(<tf.Tensor: shape=(), dtype=float32, numpy=-0.33019727>, <tf.Tensor: shape=(), dtype=float32, numpy=-0.16198137>, <tf.Tensor: shape=(), dtype=float32, numpy=0.23455897>)\n",
      "\n",
      "(<tf.Tensor: shape=(), dtype=float32, numpy=-0.4238602>, <tf.Tensor: shape=(), dtype=float32, numpy=0.92869234>, <tf.Tensor: shape=(), dtype=float32, numpy=0.44141215>)\n",
      "\n",
      "(<tf.Tensor: shape=(), dtype=float32, numpy=0.5325458>, <tf.Tensor: shape=(), dtype=float32, numpy=0.3660168>, <tf.Tensor: shape=(), dtype=float32, numpy=0.4040646>)\n",
      "\n",
      "(<tf.Tensor: shape=(), dtype=float32, numpy=-0.31469285>, <tf.Tensor: shape=(), dtype=float32, numpy=-1.1228051>, <tf.Tensor: shape=(), dtype=float32, numpy=-0.28888285>)\n",
      "\n",
      "(<tf.Tensor: shape=(), dtype=float32, numpy=0.48096368>, <tf.Tensor: shape=(), dtype=float32, numpy=1.2133319>, <tf.Tensor: shape=(), dtype=float32, numpy=0.90594435>)\n",
      "\n",
      "Mean squared error for step 70: 0.998\n",
      "(<tf.Tensor: shape=(), dtype=float32, numpy=0.53604347>, <tf.Tensor: shape=(), dtype=float32, numpy=-0.588182>, <tf.Tensor: shape=(), dtype=float32, numpy=-0.046860546>)\n",
      "\n",
      "(<tf.Tensor: shape=(), dtype=float32, numpy=0.025476582>, <tf.Tensor: shape=(), dtype=float32, numpy=-0.09381297>, <tf.Tensor: shape=(), dtype=float32, numpy=-0.078117505>)\n",
      "\n",
      "(<tf.Tensor: shape=(), dtype=float32, numpy=0.103753194>, <tf.Tensor: shape=(), dtype=float32, numpy=-0.2962455>, <tf.Tensor: shape=(), dtype=float32, numpy=0.08920905>)\n",
      "\n",
      "(<tf.Tensor: shape=(), dtype=float32, numpy=0.08649446>, <tf.Tensor: shape=(), dtype=float32, numpy=0.33715197>, <tf.Tensor: shape=(), dtype=float32, numpy=0.3954952>)\n",
      "\n",
      "(<tf.Tensor: shape=(), dtype=float32, numpy=-0.67533517>, <tf.Tensor: shape=(), dtype=float32, numpy=-0.52197045>, <tf.Tensor: shape=(), dtype=float32, numpy=-0.17941761>)\n",
      "\n",
      "(<tf.Tensor: shape=(), dtype=float32, numpy=0.017748564>, <tf.Tensor: shape=(), dtype=float32, numpy=0.48456112>, <tf.Tensor: shape=(), dtype=float32, numpy=0.6291217>)\n",
      "\n",
      "(<tf.Tensor: shape=(), dtype=float32, numpy=-0.32649106>, <tf.Tensor: shape=(), dtype=float32, numpy=0.4761689>, <tf.Tensor: shape=(), dtype=float32, numpy=-0.2871592>)\n",
      "\n",
      "(<tf.Tensor: shape=(), dtype=float32, numpy=-0.048480004>, <tf.Tensor: shape=(), dtype=float32, numpy=1.0934587>, <tf.Tensor: shape=(), dtype=float32, numpy=0.60202795>)\n",
      "\n",
      "(<tf.Tensor: shape=(), dtype=float32, numpy=0.462256>, <tf.Tensor: shape=(), dtype=float32, numpy=-0.821069>, <tf.Tensor: shape=(), dtype=float32, numpy=-0.32684284>)\n",
      "\n",
      "(<tf.Tensor: shape=(), dtype=float32, numpy=-0.45177376>, <tf.Tensor: shape=(), dtype=float32, numpy=-0.3796478>, <tf.Tensor: shape=(), dtype=float32, numpy=-0.37743852>)\n",
      "\n",
      "(<tf.Tensor: shape=(), dtype=float32, numpy=-0.102758914>, <tf.Tensor: shape=(), dtype=float32, numpy=-0.5933952>, <tf.Tensor: shape=(), dtype=float32, numpy=0.13726321>)\n",
      "\n",
      "(<tf.Tensor: shape=(), dtype=float32, numpy=-0.06842548>, <tf.Tensor: shape=(), dtype=float32, numpy=-0.32959938>, <tf.Tensor: shape=(), dtype=float32, numpy=0.17931795>)\n",
      "\n",
      "(<tf.Tensor: shape=(), dtype=float32, numpy=0.2946325>, <tf.Tensor: shape=(), dtype=float32, numpy=0.0527772>, <tf.Tensor: shape=(), dtype=float32, numpy=0.21661031>)\n",
      "\n",
      "(<tf.Tensor: shape=(), dtype=float32, numpy=0.18724787>, <tf.Tensor: shape=(), dtype=float32, numpy=0.82453036>, <tf.Tensor: shape=(), dtype=float32, numpy=0.63149786>)\n",
      "\n",
      "(<tf.Tensor: shape=(), dtype=float32, numpy=0.072021276>, <tf.Tensor: shape=(), dtype=float32, numpy=-0.18267608>, <tf.Tensor: shape=(), dtype=float32, numpy=0.48517197>)\n",
      "\n",
      "(<tf.Tensor: shape=(), dtype=float32, numpy=-0.8992144>, <tf.Tensor: shape=(), dtype=float32, numpy=-0.8401671>, <tf.Tensor: shape=(), dtype=float32, numpy=-0.42765924>)\n",
      "\n",
      "(<tf.Tensor: shape=(), dtype=float32, numpy=0.21358758>, <tf.Tensor: shape=(), dtype=float32, numpy=-0.031604975>, <tf.Tensor: shape=(), dtype=float32, numpy=0.012773842>)\n",
      "\n",
      "(<tf.Tensor: shape=(), dtype=float32, numpy=0.814799>, <tf.Tensor: shape=(), dtype=float32, numpy=-0.37031314>, <tf.Tensor: shape=(), dtype=float32, numpy=-0.50794065>)\n",
      "\n",
      "(<tf.Tensor: shape=(), dtype=float32, numpy=-0.16934535>, <tf.Tensor: shape=(), dtype=float32, numpy=-0.16458434>, <tf.Tensor: shape=(), dtype=float32, numpy=0.038979832>)\n",
      "\n",
      "(<tf.Tensor: shape=(), dtype=float32, numpy=0.14843537>, <tf.Tensor: shape=(), dtype=float32, numpy=0.8172388>, <tf.Tensor: shape=(), dtype=float32, numpy=1.0281911>)\n",
      "\n",
      "(<tf.Tensor: shape=(), dtype=float32, numpy=-0.23972096>, <tf.Tensor: shape=(), dtype=float32, numpy=0.49094594>, <tf.Tensor: shape=(), dtype=float32, numpy=-0.018381335>)\n",
      "\n",
      "(<tf.Tensor: shape=(), dtype=float32, numpy=0.19691798>, <tf.Tensor: shape=(), dtype=float32, numpy=-0.20883667>, <tf.Tensor: shape=(), dtype=float32, numpy=0.1528529>)\n",
      "\n",
      "(<tf.Tensor: shape=(), dtype=float32, numpy=-0.6545322>, <tf.Tensor: shape=(), dtype=float32, numpy=-0.42649683>, <tf.Tensor: shape=(), dtype=float32, numpy=0.340721>)\n",
      "\n",
      "(<tf.Tensor: shape=(), dtype=float32, numpy=-0.22169214>, <tf.Tensor: shape=(), dtype=float32, numpy=-1.2106633>, <tf.Tensor: shape=(), dtype=float32, numpy=-0.5721998>)\n",
      "\n",
      "(<tf.Tensor: shape=(), dtype=float32, numpy=0.21786249>, <tf.Tensor: shape=(), dtype=float32, numpy=0.04193528>, <tf.Tensor: shape=(), dtype=float32, numpy=-0.17580856>)\n",
      "\n",
      "(<tf.Tensor: shape=(), dtype=float32, numpy=0.36538106>, <tf.Tensor: shape=(), dtype=float32, numpy=1.2376728>, <tf.Tensor: shape=(), dtype=float32, numpy=0.6328949>)\n",
      "\n",
      "(<tf.Tensor: shape=(), dtype=float32, numpy=0.31265354>, <tf.Tensor: shape=(), dtype=float32, numpy=0.06990908>, <tf.Tensor: shape=(), dtype=float32, numpy=0.16755714>)\n",
      "\n",
      "(<tf.Tensor: shape=(), dtype=float32, numpy=-0.34252405>, <tf.Tensor: shape=(), dtype=float32, numpy=-0.38027683>, <tf.Tensor: shape=(), dtype=float32, numpy=0.12739143>)\n",
      "\n",
      "(<tf.Tensor: shape=(), dtype=float32, numpy=0.120266356>, <tf.Tensor: shape=(), dtype=float32, numpy=-0.80090773>, <tf.Tensor: shape=(), dtype=float32, numpy=0.3840913>)\n",
      "\n",
      "(<tf.Tensor: shape=(), dtype=float32, numpy=0.76273656>, <tf.Tensor: shape=(), dtype=float32, numpy=-1.041998>, <tf.Tensor: shape=(), dtype=float32, numpy=-0.40258455>)\n",
      "\n",
      "(<tf.Tensor: shape=(), dtype=float32, numpy=-0.03303497>, <tf.Tensor: shape=(), dtype=float32, numpy=0.87998956>, <tf.Tensor: shape=(), dtype=float32, numpy=0.20364563>)\n",
      "\n",
      "(<tf.Tensor: shape=(), dtype=float32, numpy=0.32061416>, <tf.Tensor: shape=(), dtype=float32, numpy=1.5200392>, <tf.Tensor: shape=(), dtype=float32, numpy=0.62882566>)\n",
      "\n",
      "(<tf.Tensor: shape=(), dtype=float32, numpy=-0.48766324>, <tf.Tensor: shape=(), dtype=float32, numpy=-0.9069882>, <tf.Tensor: shape=(), dtype=float32, numpy=-0.19417615>)\n",
      "\n",
      "(<tf.Tensor: shape=(), dtype=float32, numpy=-0.6045358>, <tf.Tensor: shape=(), dtype=float32, numpy=-0.75619197>, <tf.Tensor: shape=(), dtype=float32, numpy=-0.21516545>)\n",
      "\n",
      "(<tf.Tensor: shape=(), dtype=float32, numpy=-0.22241345>, <tf.Tensor: shape=(), dtype=float32, numpy=2.2791996>, <tf.Tensor: shape=(), dtype=float32, numpy=0.6509799>)\n",
      "\n",
      "(<tf.Tensor: shape=(), dtype=float32, numpy=0.32764488>, <tf.Tensor: shape=(), dtype=float32, numpy=-0.18439564>, <tf.Tensor: shape=(), dtype=float32, numpy=0.10229343>)\n",
      "\n",
      "(<tf.Tensor: shape=(), dtype=float32, numpy=0.23820625>, <tf.Tensor: shape=(), dtype=float32, numpy=0.5489946>, <tf.Tensor: shape=(), dtype=float32, numpy=0.61266816>)\n",
      "\n",
      "(<tf.Tensor: shape=(), dtype=float32, numpy=-0.17373201>, <tf.Tensor: shape=(), dtype=float32, numpy=-0.18345295>, <tf.Tensor: shape=(), dtype=float32, numpy=-0.063008115>)\n",
      "\n",
      "(<tf.Tensor: shape=(), dtype=float32, numpy=0.120905936>, <tf.Tensor: shape=(), dtype=float32, numpy=-1.2394279>, <tf.Tensor: shape=(), dtype=float32, numpy=-0.31069696>)\n",
      "\n",
      "(<tf.Tensor: shape=(), dtype=float32, numpy=-0.74611473>, <tf.Tensor: shape=(), dtype=float32, numpy=-0.53456104>, <tf.Tensor: shape=(), dtype=float32, numpy=0.034861416>)\n",
      "\n",
      "(<tf.Tensor: shape=(), dtype=float32, numpy=0.12996377>, <tf.Tensor: shape=(), dtype=float32, numpy=0.6048221>, <tf.Tensor: shape=(), dtype=float32, numpy=-0.06110753>)\n",
      "\n",
      "(<tf.Tensor: shape=(), dtype=float32, numpy=0.69580764>, <tf.Tensor: shape=(), dtype=float32, numpy=-0.7766837>, <tf.Tensor: shape=(), dtype=float32, numpy=-0.33748096>)\n",
      "\n",
      "(<tf.Tensor: shape=(), dtype=float32, numpy=-0.20262943>, <tf.Tensor: shape=(), dtype=float32, numpy=0.21507089>, <tf.Tensor: shape=(), dtype=float32, numpy=-0.06607385>)\n",
      "\n",
      "(<tf.Tensor: shape=(), dtype=float32, numpy=-0.27432376>, <tf.Tensor: shape=(), dtype=float32, numpy=-0.7040142>, <tf.Tensor: shape=(), dtype=float32, numpy=0.32606503>)\n",
      "\n",
      "(<tf.Tensor: shape=(), dtype=float32, numpy=0.8058924>, <tf.Tensor: shape=(), dtype=float32, numpy=0.17051059>, <tf.Tensor: shape=(), dtype=float32, numpy=0.33306178>)\n",
      "\n",
      "(<tf.Tensor: shape=(), dtype=float32, numpy=0.48662698>, <tf.Tensor: shape=(), dtype=float32, numpy=-0.18912792>, <tf.Tensor: shape=(), dtype=float32, numpy=-0.10590864>)\n",
      "\n",
      "(<tf.Tensor: shape=(), dtype=float32, numpy=-0.11881343>, <tf.Tensor: shape=(), dtype=float32, numpy=0.18141457>, <tf.Tensor: shape=(), dtype=float32, numpy=0.2493687>)\n",
      "\n",
      "(<tf.Tensor: shape=(), dtype=float32, numpy=-0.69639397>, <tf.Tensor: shape=(), dtype=float32, numpy=-0.21008301>, <tf.Tensor: shape=(), dtype=float32, numpy=-0.1087949>)\n",
      "\n",
      "(<tf.Tensor: shape=(), dtype=float32, numpy=-0.016351193>, <tf.Tensor: shape=(), dtype=float32, numpy=-0.038336232>, <tf.Tensor: shape=(), dtype=float32, numpy=-0.46346548>)\n",
      "\n",
      "(<tf.Tensor: shape=(), dtype=float32, numpy=0.24865605>, <tf.Tensor: shape=(), dtype=float32, numpy=-1.0535558>, <tf.Tensor: shape=(), dtype=float32, numpy=-0.4876665>)\n",
      "\n",
      "(<tf.Tensor: shape=(), dtype=float32, numpy=-0.06256211>, <tf.Tensor: shape=(), dtype=float32, numpy=-0.12273705>, <tf.Tensor: shape=(), dtype=float32, numpy=-0.034320086>)\n",
      "\n",
      "(<tf.Tensor: shape=(), dtype=float32, numpy=-0.31291097>, <tf.Tensor: shape=(), dtype=float32, numpy=0.1565187>, <tf.Tensor: shape=(), dtype=float32, numpy=0.05873826>)\n",
      "\n",
      "(<tf.Tensor: shape=(), dtype=float32, numpy=-0.3972476>, <tf.Tensor: shape=(), dtype=float32, numpy=0.8827705>, <tf.Tensor: shape=(), dtype=float32, numpy=0.8516618>)\n",
      "\n",
      "(<tf.Tensor: shape=(), dtype=float32, numpy=-0.17299305>, <tf.Tensor: shape=(), dtype=float32, numpy=0.08134985>, <tf.Tensor: shape=(), dtype=float32, numpy=0.39798114>)\n",
      "\n",
      "(<tf.Tensor: shape=(), dtype=float32, numpy=0.7156522>, <tf.Tensor: shape=(), dtype=float32, numpy=-0.083758906>, <tf.Tensor: shape=(), dtype=float32, numpy=0.07556209>)\n",
      "\n",
      "(<tf.Tensor: shape=(), dtype=float32, numpy=0.18888715>, <tf.Tensor: shape=(), dtype=float32, numpy=-0.2076531>, <tf.Tensor: shape=(), dtype=float32, numpy=-0.72328365>)\n",
      "\n",
      "(<tf.Tensor: shape=(), dtype=float32, numpy=0.16341826>, <tf.Tensor: shape=(), dtype=float32, numpy=-0.97438556>, <tf.Tensor: shape=(), dtype=float32, numpy=0.00050949305>)\n",
      "\n",
      "(<tf.Tensor: shape=(), dtype=float32, numpy=-0.057055704>, <tf.Tensor: shape=(), dtype=float32, numpy=0.2233786>, <tf.Tensor: shape=(), dtype=float32, numpy=0.29712537>)\n",
      "\n",
      "(<tf.Tensor: shape=(), dtype=float32, numpy=0.68049353>, <tf.Tensor: shape=(), dtype=float32, numpy=0.80490184>, <tf.Tensor: shape=(), dtype=float32, numpy=0.6012451>)\n",
      "\n",
      "(<tf.Tensor: shape=(), dtype=float32, numpy=-0.6522003>, <tf.Tensor: shape=(), dtype=float32, numpy=-0.64798397>, <tf.Tensor: shape=(), dtype=float32, numpy=-0.182875>)\n",
      "\n",
      "(<tf.Tensor: shape=(), dtype=float32, numpy=-0.6198704>, <tf.Tensor: shape=(), dtype=float32, numpy=1.560581>, <tf.Tensor: shape=(), dtype=float32, numpy=0.47950158>)\n",
      "\n",
      "(<tf.Tensor: shape=(), dtype=float32, numpy=0.45774746>, <tf.Tensor: shape=(), dtype=float32, numpy=-1.1780957>, <tf.Tensor: shape=(), dtype=float32, numpy=-0.47276935>)\n",
      "\n",
      "(<tf.Tensor: shape=(), dtype=float32, numpy=-0.00058221817>, <tf.Tensor: shape=(), dtype=float32, numpy=-0.07667194>, <tf.Tensor: shape=(), dtype=float32, numpy=-0.45315224>)\n",
      "\n",
      "(<tf.Tensor: shape=(), dtype=float32, numpy=-0.67469156>, <tf.Tensor: shape=(), dtype=float32, numpy=0.34052962>, <tf.Tensor: shape=(), dtype=float32, numpy=0.2995153>)\n",
      "\n",
      "(<tf.Tensor: shape=(), dtype=float32, numpy=0.5849654>, <tf.Tensor: shape=(), dtype=float32, numpy=-0.016203672>, <tf.Tensor: shape=(), dtype=float32, numpy=-0.07720691>)\n",
      "\n",
      "(<tf.Tensor: shape=(), dtype=float32, numpy=0.23418683>, <tf.Tensor: shape=(), dtype=float32, numpy=0.0079586655>, <tf.Tensor: shape=(), dtype=float32, numpy=0.016171515>)\n",
      "\n",
      "(<tf.Tensor: shape=(), dtype=float32, numpy=-0.11059563>, <tf.Tensor: shape=(), dtype=float32, numpy=-0.45545274>, <tf.Tensor: shape=(), dtype=float32, numpy=0.16632083>)\n",
      "\n",
      "(<tf.Tensor: shape=(), dtype=float32, numpy=-0.550285>, <tf.Tensor: shape=(), dtype=float32, numpy=-0.20186049>, <tf.Tensor: shape=(), dtype=float32, numpy=0.11378157>)\n",
      "\n",
      "(<tf.Tensor: shape=(), dtype=float32, numpy=0.5120151>, <tf.Tensor: shape=(), dtype=float32, numpy=-0.206916>, <tf.Tensor: shape=(), dtype=float32, numpy=-0.13761967>)\n",
      "\n",
      "(<tf.Tensor: shape=(), dtype=float32, numpy=0.13594484>, <tf.Tensor: shape=(), dtype=float32, numpy=0.9354817>, <tf.Tensor: shape=(), dtype=float32, numpy=0.7100371>)\n",
      "\n",
      "Mean squared error for step 80: 0.991\n",
      "(<tf.Tensor: shape=(), dtype=float32, numpy=-0.14885308>, <tf.Tensor: shape=(), dtype=float32, numpy=-0.27439785>, <tf.Tensor: shape=(), dtype=float32, numpy=0.03202776>)\n",
      "\n",
      "(<tf.Tensor: shape=(), dtype=float32, numpy=0.47533876>, <tf.Tensor: shape=(), dtype=float32, numpy=0.3457728>, <tf.Tensor: shape=(), dtype=float32, numpy=0.0015592352>)\n",
      "\n",
      "(<tf.Tensor: shape=(), dtype=float32, numpy=-0.03447847>, <tf.Tensor: shape=(), dtype=float32, numpy=-0.5718678>, <tf.Tensor: shape=(), dtype=float32, numpy=0.10267858>)\n",
      "\n",
      "(<tf.Tensor: shape=(), dtype=float32, numpy=0.04051286>, <tf.Tensor: shape=(), dtype=float32, numpy=0.35325265>, <tf.Tensor: shape=(), dtype=float32, numpy=0.40447593>)\n",
      "\n",
      "(<tf.Tensor: shape=(), dtype=float32, numpy=-0.29853806>, <tf.Tensor: shape=(), dtype=float32, numpy=-0.56131953>, <tf.Tensor: shape=(), dtype=float32, numpy=-0.3192814>)\n",
      "\n",
      "(<tf.Tensor: shape=(), dtype=float32, numpy=-0.17093357>, <tf.Tensor: shape=(), dtype=float32, numpy=-0.08116193>, <tf.Tensor: shape=(), dtype=float32, numpy=-0.016051374>)\n",
      "\n",
      "(<tf.Tensor: shape=(), dtype=float32, numpy=0.30201662>, <tf.Tensor: shape=(), dtype=float32, numpy=1.1720203>, <tf.Tensor: shape=(), dtype=float32, numpy=0.8620002>)\n",
      "\n",
      "(<tf.Tensor: shape=(), dtype=float32, numpy=0.10299409>, <tf.Tensor: shape=(), dtype=float32, numpy=-0.5190371>, <tf.Tensor: shape=(), dtype=float32, numpy=-0.11733046>)\n",
      "\n",
      "(<tf.Tensor: shape=(), dtype=float32, numpy=-0.4462867>, <tf.Tensor: shape=(), dtype=float32, numpy=0.14567626>, <tf.Tensor: shape=(), dtype=float32, numpy=0.1502749>)\n",
      "\n",
      "(<tf.Tensor: shape=(), dtype=float32, numpy=0.15902227>, <tf.Tensor: shape=(), dtype=float32, numpy=-0.6547509>, <tf.Tensor: shape=(), dtype=float32, numpy=-0.2712918>)\n",
      "\n",
      "(<tf.Tensor: shape=(), dtype=float32, numpy=-0.18786111>, <tf.Tensor: shape=(), dtype=float32, numpy=-0.91744816>, <tf.Tensor: shape=(), dtype=float32, numpy=-0.2833761>)\n",
      "\n",
      "(<tf.Tensor: shape=(), dtype=float32, numpy=0.19201827>, <tf.Tensor: shape=(), dtype=float32, numpy=0.6662886>, <tf.Tensor: shape=(), dtype=float32, numpy=0.07430275>)\n",
      "\n",
      "(<tf.Tensor: shape=(), dtype=float32, numpy=0.16640827>, <tf.Tensor: shape=(), dtype=float32, numpy=0.8661737>, <tf.Tensor: shape=(), dtype=float32, numpy=0.8755522>)\n",
      "\n",
      "(<tf.Tensor: shape=(), dtype=float32, numpy=-0.03258282>, <tf.Tensor: shape=(), dtype=float32, numpy=-0.042859018>, <tf.Tensor: shape=(), dtype=float32, numpy=-0.06983517>)\n",
      "\n",
      "(<tf.Tensor: shape=(), dtype=float32, numpy=0.22659278>, <tf.Tensor: shape=(), dtype=float32, numpy=-0.96133256>, <tf.Tensor: shape=(), dtype=float32, numpy=-0.0696474>)\n",
      "\n",
      "(<tf.Tensor: shape=(), dtype=float32, numpy=-0.46439117>, <tf.Tensor: shape=(), dtype=float32, numpy=-0.49932826>, <tf.Tensor: shape=(), dtype=float32, numpy=-0.10571754>)\n",
      "\n",
      "(<tf.Tensor: shape=(), dtype=float32, numpy=0.57922155>, <tf.Tensor: shape=(), dtype=float32, numpy=0.61953914>, <tf.Tensor: shape=(), dtype=float32, numpy=0.7554804>)\n",
      "\n",
      "(<tf.Tensor: shape=(), dtype=float32, numpy=-0.55977464>, <tf.Tensor: shape=(), dtype=float32, numpy=0.32655138>, <tf.Tensor: shape=(), dtype=float32, numpy=0.38889408>)\n",
      "\n",
      "(<tf.Tensor: shape=(), dtype=float32, numpy=0.12316189>, <tf.Tensor: shape=(), dtype=float32, numpy=0.75678164>, <tf.Tensor: shape=(), dtype=float32, numpy=0.21387196>)\n",
      "\n",
      "(<tf.Tensor: shape=(), dtype=float32, numpy=0.16090126>, <tf.Tensor: shape=(), dtype=float32, numpy=-0.8129142>, <tf.Tensor: shape=(), dtype=float32, numpy=-1.0236034>)\n",
      "\n",
      "(<tf.Tensor: shape=(), dtype=float32, numpy=-0.32288107>, <tf.Tensor: shape=(), dtype=float32, numpy=-0.123636395>, <tf.Tensor: shape=(), dtype=float32, numpy=0.49102607>)\n",
      "\n",
      "(<tf.Tensor: shape=(), dtype=float32, numpy=0.52929246>, <tf.Tensor: shape=(), dtype=float32, numpy=0.25557393>, <tf.Tensor: shape=(), dtype=float32, numpy=0.21131328>)\n",
      "\n",
      "(<tf.Tensor: shape=(), dtype=float32, numpy=-0.34074676>, <tf.Tensor: shape=(), dtype=float32, numpy=-0.037459135>, <tf.Tensor: shape=(), dtype=float32, numpy=0.29460984>)\n",
      "\n",
      "(<tf.Tensor: shape=(), dtype=float32, numpy=-1.4498992>, <tf.Tensor: shape=(), dtype=float32, numpy=-0.4492974>, <tf.Tensor: shape=(), dtype=float32, numpy=-0.07930654>)\n",
      "\n",
      "(<tf.Tensor: shape=(), dtype=float32, numpy=0.86789596>, <tf.Tensor: shape=(), dtype=float32, numpy=0.1719189>, <tf.Tensor: shape=(), dtype=float32, numpy=0.28208572>)\n",
      "\n",
      "(<tf.Tensor: shape=(), dtype=float32, numpy=0.19653061>, <tf.Tensor: shape=(), dtype=float32, numpy=-0.26407498>, <tf.Tensor: shape=(), dtype=float32, numpy=-0.23158205>)\n",
      "\n",
      "(<tf.Tensor: shape=(), dtype=float32, numpy=0.38440192>, <tf.Tensor: shape=(), dtype=float32, numpy=-0.077938735>, <tf.Tensor: shape=(), dtype=float32, numpy=-0.14126843>)\n",
      "\n",
      "(<tf.Tensor: shape=(), dtype=float32, numpy=-0.57713455>, <tf.Tensor: shape=(), dtype=float32, numpy=-0.8758196>, <tf.Tensor: shape=(), dtype=float32, numpy=-0.31955448>)\n",
      "\n",
      "(<tf.Tensor: shape=(), dtype=float32, numpy=-0.0068368614>, <tf.Tensor: shape=(), dtype=float32, numpy=-0.4902799>, <tf.Tensor: shape=(), dtype=float32, numpy=-0.09962931>)\n",
      "\n",
      "(<tf.Tensor: shape=(), dtype=float32, numpy=0.23588373>, <tf.Tensor: shape=(), dtype=float32, numpy=-0.5114044>, <tf.Tensor: shape=(), dtype=float32, numpy=-0.32945046>)\n",
      "\n",
      "(<tf.Tensor: shape=(), dtype=float32, numpy=0.67891365>, <tf.Tensor: shape=(), dtype=float32, numpy=0.6354243>, <tf.Tensor: shape=(), dtype=float32, numpy=0.344024>)\n",
      "\n",
      "(<tf.Tensor: shape=(), dtype=float32, numpy=-0.51076293>, <tf.Tensor: shape=(), dtype=float32, numpy=-0.34166843>, <tf.Tensor: shape=(), dtype=float32, numpy=0.19034104>)\n",
      "\n",
      "(<tf.Tensor: shape=(), dtype=float32, numpy=-0.07101317>, <tf.Tensor: shape=(), dtype=float32, numpy=0.16915375>, <tf.Tensor: shape=(), dtype=float32, numpy=0.45527232>)\n",
      "\n",
      "(<tf.Tensor: shape=(), dtype=float32, numpy=-0.3489573>, <tf.Tensor: shape=(), dtype=float32, numpy=0.16590324>, <tf.Tensor: shape=(), dtype=float32, numpy=0.10644077>)\n",
      "\n",
      "(<tf.Tensor: shape=(), dtype=float32, numpy=0.2104633>, <tf.Tensor: shape=(), dtype=float32, numpy=1.81985>, <tf.Tensor: shape=(), dtype=float32, numpy=-0.28435928>)\n",
      "\n",
      "(<tf.Tensor: shape=(), dtype=float32, numpy=0.12638307>, <tf.Tensor: shape=(), dtype=float32, numpy=-0.22284114>, <tf.Tensor: shape=(), dtype=float32, numpy=0.17013386>)\n",
      "\n",
      "(<tf.Tensor: shape=(), dtype=float32, numpy=-0.24230297>, <tf.Tensor: shape=(), dtype=float32, numpy=0.43745965>, <tf.Tensor: shape=(), dtype=float32, numpy=0.13695261>)\n",
      "\n",
      "(<tf.Tensor: shape=(), dtype=float32, numpy=0.6751951>, <tf.Tensor: shape=(), dtype=float32, numpy=-0.36186033>, <tf.Tensor: shape=(), dtype=float32, numpy=0.010877185>)\n",
      "\n",
      "(<tf.Tensor: shape=(), dtype=float32, numpy=0.100316055>, <tf.Tensor: shape=(), dtype=float32, numpy=0.7658262>, <tf.Tensor: shape=(), dtype=float32, numpy=0.17748982>)\n",
      "\n",
      "(<tf.Tensor: shape=(), dtype=float32, numpy=0.23508324>, <tf.Tensor: shape=(), dtype=float32, numpy=-0.545841>, <tf.Tensor: shape=(), dtype=float32, numpy=-0.21559842>)\n",
      "\n",
      "(<tf.Tensor: shape=(), dtype=float32, numpy=-0.566291>, <tf.Tensor: shape=(), dtype=float32, numpy=-1.1369156>, <tf.Tensor: shape=(), dtype=float32, numpy=-0.20373926>)\n",
      "\n",
      "(<tf.Tensor: shape=(), dtype=float32, numpy=-1.2072643>, <tf.Tensor: shape=(), dtype=float32, numpy=1.1188083>, <tf.Tensor: shape=(), dtype=float32, numpy=0.37277266>)\n",
      "\n",
      "(<tf.Tensor: shape=(), dtype=float32, numpy=0.10713363>, <tf.Tensor: shape=(), dtype=float32, numpy=0.24437715>, <tf.Tensor: shape=(), dtype=float32, numpy=0.36245206>)\n",
      "\n",
      "(<tf.Tensor: shape=(), dtype=float32, numpy=0.049562663>, <tf.Tensor: shape=(), dtype=float32, numpy=0.47095644>, <tf.Tensor: shape=(), dtype=float32, numpy=0.3594991>)\n",
      "\n",
      "(<tf.Tensor: shape=(), dtype=float32, numpy=-0.26054338>, <tf.Tensor: shape=(), dtype=float32, numpy=-0.81596416>, <tf.Tensor: shape=(), dtype=float32, numpy=-0.8035148>)\n",
      "\n",
      "(<tf.Tensor: shape=(), dtype=float32, numpy=-0.1399929>, <tf.Tensor: shape=(), dtype=float32, numpy=0.41634512>, <tf.Tensor: shape=(), dtype=float32, numpy=0.62144184>)\n",
      "\n",
      "(<tf.Tensor: shape=(), dtype=float32, numpy=-0.27167735>, <tf.Tensor: shape=(), dtype=float32, numpy=0.0011363178>, <tf.Tensor: shape=(), dtype=float32, numpy=0.26187548>)\n",
      "\n",
      "(<tf.Tensor: shape=(), dtype=float32, numpy=0.9623446>, <tf.Tensor: shape=(), dtype=float32, numpy=-0.91047126>, <tf.Tensor: shape=(), dtype=float32, numpy=-0.57705605>)\n",
      "\n",
      "(<tf.Tensor: shape=(), dtype=float32, numpy=-0.86401916>, <tf.Tensor: shape=(), dtype=float32, numpy=-1.3827592>, <tf.Tensor: shape=(), dtype=float32, numpy=-0.59302855>)\n",
      "\n",
      "(<tf.Tensor: shape=(), dtype=float32, numpy=-0.5737807>, <tf.Tensor: shape=(), dtype=float32, numpy=-0.95722055>, <tf.Tensor: shape=(), dtype=float32, numpy=-0.71305203>)\n",
      "\n",
      "(<tf.Tensor: shape=(), dtype=float32, numpy=-0.024941698>, <tf.Tensor: shape=(), dtype=float32, numpy=-0.47310823>, <tf.Tensor: shape=(), dtype=float32, numpy=-0.101989105>)\n",
      "\n",
      "(<tf.Tensor: shape=(), dtype=float32, numpy=-0.5469202>, <tf.Tensor: shape=(), dtype=float32, numpy=0.7844235>, <tf.Tensor: shape=(), dtype=float32, numpy=0.523214>)\n",
      "\n",
      "(<tf.Tensor: shape=(), dtype=float32, numpy=1.2769958>, <tf.Tensor: shape=(), dtype=float32, numpy=0.2661689>, <tf.Tensor: shape=(), dtype=float32, numpy=0.34311533>)\n",
      "\n",
      "(<tf.Tensor: shape=(), dtype=float32, numpy=-0.07333584>, <tf.Tensor: shape=(), dtype=float32, numpy=0.5578313>, <tf.Tensor: shape=(), dtype=float32, numpy=0.09991686>)\n",
      "\n",
      "(<tf.Tensor: shape=(), dtype=float32, numpy=0.2800836>, <tf.Tensor: shape=(), dtype=float32, numpy=-0.08055231>, <tf.Tensor: shape=(), dtype=float32, numpy=0.3264292>)\n",
      "\n",
      "(<tf.Tensor: shape=(), dtype=float32, numpy=-0.07427618>, <tf.Tensor: shape=(), dtype=float32, numpy=0.81242466>, <tf.Tensor: shape=(), dtype=float32, numpy=0.62162894>)\n",
      "\n",
      "(<tf.Tensor: shape=(), dtype=float32, numpy=-0.22292766>, <tf.Tensor: shape=(), dtype=float32, numpy=-0.27266482>, <tf.Tensor: shape=(), dtype=float32, numpy=0.032547235>)\n",
      "\n",
      "(<tf.Tensor: shape=(), dtype=float32, numpy=0.40525287>, <tf.Tensor: shape=(), dtype=float32, numpy=1.0732193>, <tf.Tensor: shape=(), dtype=float32, numpy=0.24642833>)\n",
      "\n",
      "(<tf.Tensor: shape=(), dtype=float32, numpy=0.084528774>, <tf.Tensor: shape=(), dtype=float32, numpy=-1.1393962>, <tf.Tensor: shape=(), dtype=float32, numpy=-0.47366956>)\n",
      "\n",
      "(<tf.Tensor: shape=(), dtype=float32, numpy=0.19780903>, <tf.Tensor: shape=(), dtype=float32, numpy=-0.14822349>, <tf.Tensor: shape=(), dtype=float32, numpy=0.25944087>)\n",
      "\n",
      "(<tf.Tensor: shape=(), dtype=float32, numpy=-0.13309643>, <tf.Tensor: shape=(), dtype=float32, numpy=-0.017321847>, <tf.Tensor: shape=(), dtype=float32, numpy=-0.0992026>)\n",
      "\n",
      "(<tf.Tensor: shape=(), dtype=float32, numpy=0.15695406>, <tf.Tensor: shape=(), dtype=float32, numpy=0.5190207>, <tf.Tensor: shape=(), dtype=float32, numpy=0.31282276>)\n",
      "\n",
      "(<tf.Tensor: shape=(), dtype=float32, numpy=-1.0970311>, <tf.Tensor: shape=(), dtype=float32, numpy=-1.599357>, <tf.Tensor: shape=(), dtype=float32, numpy=-0.076814756>)\n",
      "\n",
      "(<tf.Tensor: shape=(), dtype=float32, numpy=0.13249263>, <tf.Tensor: shape=(), dtype=float32, numpy=0.08626208>, <tf.Tensor: shape=(), dtype=float32, numpy=0.060530335>)\n",
      "\n",
      "(<tf.Tensor: shape=(), dtype=float32, numpy=-0.16509888>, <tf.Tensor: shape=(), dtype=float32, numpy=0.09647995>, <tf.Tensor: shape=(), dtype=float32, numpy=0.07388374>)\n",
      "\n",
      "(<tf.Tensor: shape=(), dtype=float32, numpy=0.59194064>, <tf.Tensor: shape=(), dtype=float32, numpy=0.6349713>, <tf.Tensor: shape=(), dtype=float32, numpy=0.1767334>)\n",
      "\n",
      "(<tf.Tensor: shape=(), dtype=float32, numpy=0.40378606>, <tf.Tensor: shape=(), dtype=float32, numpy=0.09178117>, <tf.Tensor: shape=(), dtype=float32, numpy=-0.11676405>)\n",
      "\n",
      "(<tf.Tensor: shape=(), dtype=float32, numpy=-0.41926673>, <tf.Tensor: shape=(), dtype=float32, numpy=-0.32937342>, <tf.Tensor: shape=(), dtype=float32, numpy=0.1751946>)\n",
      "\n",
      "(<tf.Tensor: shape=(), dtype=float32, numpy=-0.34650457>, <tf.Tensor: shape=(), dtype=float32, numpy=-0.59689987>, <tf.Tensor: shape=(), dtype=float32, numpy=-0.21651234>)\n",
      "\n",
      "(<tf.Tensor: shape=(), dtype=float32, numpy=0.19567192>, <tf.Tensor: shape=(), dtype=float32, numpy=-0.20569937>, <tf.Tensor: shape=(), dtype=float32, numpy=0.8473012>)\n",
      "\n",
      "Mean squared error for step 90: 0.986\n",
      "(<tf.Tensor: shape=(), dtype=float32, numpy=0.26997504>, <tf.Tensor: shape=(), dtype=float32, numpy=0.10387319>, <tf.Tensor: shape=(), dtype=float32, numpy=-0.124568045>)\n",
      "\n",
      "(<tf.Tensor: shape=(), dtype=float32, numpy=-0.6016559>, <tf.Tensor: shape=(), dtype=float32, numpy=0.3581972>, <tf.Tensor: shape=(), dtype=float32, numpy=0.5187659>)\n",
      "\n",
      "(<tf.Tensor: shape=(), dtype=float32, numpy=-0.056018084>, <tf.Tensor: shape=(), dtype=float32, numpy=0.025814608>, <tf.Tensor: shape=(), dtype=float32, numpy=-0.28988183>)\n",
      "\n",
      "(<tf.Tensor: shape=(), dtype=float32, numpy=0.034261793>, <tf.Tensor: shape=(), dtype=float32, numpy=0.25670636>, <tf.Tensor: shape=(), dtype=float32, numpy=0.15852967>)\n",
      "\n",
      "(<tf.Tensor: shape=(), dtype=float32, numpy=0.15110645>, <tf.Tensor: shape=(), dtype=float32, numpy=-0.96781874>, <tf.Tensor: shape=(), dtype=float32, numpy=-0.23625712>)\n",
      "\n",
      "(<tf.Tensor: shape=(), dtype=float32, numpy=0.41732252>, <tf.Tensor: shape=(), dtype=float32, numpy=0.4020048>, <tf.Tensor: shape=(), dtype=float32, numpy=0.55129695>)\n",
      "\n",
      "(<tf.Tensor: shape=(), dtype=float32, numpy=0.26365998>, <tf.Tensor: shape=(), dtype=float32, numpy=-0.9927849>, <tf.Tensor: shape=(), dtype=float32, numpy=-0.8768286>)\n",
      "\n",
      "(<tf.Tensor: shape=(), dtype=float32, numpy=0.2655633>, <tf.Tensor: shape=(), dtype=float32, numpy=-0.42565182>, <tf.Tensor: shape=(), dtype=float32, numpy=-0.08604668>)\n",
      "\n",
      "(<tf.Tensor: shape=(), dtype=float32, numpy=-0.50042003>, <tf.Tensor: shape=(), dtype=float32, numpy=0.0189434>, <tf.Tensor: shape=(), dtype=float32, numpy=0.06782491>)\n",
      "\n",
      "(<tf.Tensor: shape=(), dtype=float32, numpy=0.3919905>, <tf.Tensor: shape=(), dtype=float32, numpy=-0.07071012>, <tf.Tensor: shape=(), dtype=float32, numpy=-0.014834829>)\n",
      "\n",
      "(<tf.Tensor: shape=(), dtype=float32, numpy=0.06506604>, <tf.Tensor: shape=(), dtype=float32, numpy=0.43277895>, <tf.Tensor: shape=(), dtype=float32, numpy=0.31432062>)\n",
      "\n",
      "(<tf.Tensor: shape=(), dtype=float32, numpy=-0.6055991>, <tf.Tensor: shape=(), dtype=float32, numpy=0.11581954>, <tf.Tensor: shape=(), dtype=float32, numpy=-0.24343659>)\n",
      "\n",
      "(<tf.Tensor: shape=(), dtype=float32, numpy=0.0696128>, <tf.Tensor: shape=(), dtype=float32, numpy=-0.2191779>, <tf.Tensor: shape=(), dtype=float32, numpy=0.14534086>)\n",
      "\n",
      "(<tf.Tensor: shape=(), dtype=float32, numpy=1.7114704>, <tf.Tensor: shape=(), dtype=float32, numpy=2.1900282>, <tf.Tensor: shape=(), dtype=float32, numpy=1.438711>)\n",
      "\n",
      "(<tf.Tensor: shape=(), dtype=float32, numpy=0.2782799>, <tf.Tensor: shape=(), dtype=float32, numpy=-0.14103201>, <tf.Tensor: shape=(), dtype=float32, numpy=-0.0460968>)\n",
      "\n",
      "(<tf.Tensor: shape=(), dtype=float32, numpy=0.4286129>, <tf.Tensor: shape=(), dtype=float32, numpy=0.58802533>, <tf.Tensor: shape=(), dtype=float32, numpy=0.40759158>)\n",
      "\n",
      "(<tf.Tensor: shape=(), dtype=float32, numpy=0.032615304>, <tf.Tensor: shape=(), dtype=float32, numpy=-0.523401>, <tf.Tensor: shape=(), dtype=float32, numpy=-0.15918365>)\n",
      "\n",
      "(<tf.Tensor: shape=(), dtype=float32, numpy=-0.21700004>, <tf.Tensor: shape=(), dtype=float32, numpy=-0.7065462>, <tf.Tensor: shape=(), dtype=float32, numpy=-0.08046064>)\n",
      "\n",
      "(<tf.Tensor: shape=(), dtype=float32, numpy=-0.20565933>, <tf.Tensor: shape=(), dtype=float32, numpy=0.47568944>, <tf.Tensor: shape=(), dtype=float32, numpy=0.19712228>)\n",
      "\n",
      "(<tf.Tensor: shape=(), dtype=float32, numpy=-0.13824719>, <tf.Tensor: shape=(), dtype=float32, numpy=-0.31926033>, <tf.Tensor: shape=(), dtype=float32, numpy=-0.21875252>)\n",
      "\n",
      "(<tf.Tensor: shape=(), dtype=float32, numpy=-1.1408608>, <tf.Tensor: shape=(), dtype=float32, numpy=-0.06987047>, <tf.Tensor: shape=(), dtype=float32, numpy=-0.2628158>)\n",
      "\n",
      "(<tf.Tensor: shape=(), dtype=float32, numpy=0.3790947>, <tf.Tensor: shape=(), dtype=float32, numpy=-0.53353965>, <tf.Tensor: shape=(), dtype=float32, numpy=-0.29369843>)\n",
      "\n",
      "(<tf.Tensor: shape=(), dtype=float32, numpy=-0.19087872>, <tf.Tensor: shape=(), dtype=float32, numpy=1.2000792>, <tf.Tensor: shape=(), dtype=float32, numpy=0.36258993>)\n",
      "\n",
      "(<tf.Tensor: shape=(), dtype=float32, numpy=0.29902393>, <tf.Tensor: shape=(), dtype=float32, numpy=0.25240403>, <tf.Tensor: shape=(), dtype=float32, numpy=0.23347005>)\n",
      "\n",
      "(<tf.Tensor: shape=(), dtype=float32, numpy=-0.45300454>, <tf.Tensor: shape=(), dtype=float32, numpy=-1.2681918>, <tf.Tensor: shape=(), dtype=float32, numpy=-0.1316813>)\n",
      "\n",
      "(<tf.Tensor: shape=(), dtype=float32, numpy=0.00038843974>, <tf.Tensor: shape=(), dtype=float32, numpy=0.52358913>, <tf.Tensor: shape=(), dtype=float32, numpy=0.3761044>)\n",
      "\n",
      "(<tf.Tensor: shape=(), dtype=float32, numpy=-0.060094208>, <tf.Tensor: shape=(), dtype=float32, numpy=0.014245138>, <tf.Tensor: shape=(), dtype=float32, numpy=0.042063475>)\n",
      "\n",
      "(<tf.Tensor: shape=(), dtype=float32, numpy=0.28387034>, <tf.Tensor: shape=(), dtype=float32, numpy=-2.420817>, <tf.Tensor: shape=(), dtype=float32, numpy=-1.7339886>)\n",
      "\n",
      "(<tf.Tensor: shape=(), dtype=float32, numpy=0.14954078>, <tf.Tensor: shape=(), dtype=float32, numpy=0.25676033>, <tf.Tensor: shape=(), dtype=float32, numpy=-0.22084573>)\n",
      "\n",
      "(<tf.Tensor: shape=(), dtype=float32, numpy=0.7223474>, <tf.Tensor: shape=(), dtype=float32, numpy=0.12779614>, <tf.Tensor: shape=(), dtype=float32, numpy=0.41532794>)\n",
      "\n",
      "(<tf.Tensor: shape=(), dtype=float32, numpy=-0.07453492>, <tf.Tensor: shape=(), dtype=float32, numpy=-0.4690787>, <tf.Tensor: shape=(), dtype=float32, numpy=-0.08026275>)\n",
      "\n",
      "(<tf.Tensor: shape=(), dtype=float32, numpy=-0.11772475>, <tf.Tensor: shape=(), dtype=float32, numpy=0.4034807>, <tf.Tensor: shape=(), dtype=float32, numpy=0.16027257>)\n",
      "\n",
      "(<tf.Tensor: shape=(), dtype=float32, numpy=-0.57110435>, <tf.Tensor: shape=(), dtype=float32, numpy=0.032554716>, <tf.Tensor: shape=(), dtype=float32, numpy=0.30270922>)\n",
      "\n",
      "(<tf.Tensor: shape=(), dtype=float32, numpy=-0.4071667>, <tf.Tensor: shape=(), dtype=float32, numpy=0.56336987>, <tf.Tensor: shape=(), dtype=float32, numpy=0.25020087>)\n",
      "\n",
      "(<tf.Tensor: shape=(), dtype=float32, numpy=1.0583454>, <tf.Tensor: shape=(), dtype=float32, numpy=-1.0957922>, <tf.Tensor: shape=(), dtype=float32, numpy=-0.76242644>)\n",
      "\n",
      "(<tf.Tensor: shape=(), dtype=float32, numpy=-0.02013515>, <tf.Tensor: shape=(), dtype=float32, numpy=0.36347267>, <tf.Tensor: shape=(), dtype=float32, numpy=0.28962705>)\n",
      "\n",
      "(<tf.Tensor: shape=(), dtype=float32, numpy=-0.13287584>, <tf.Tensor: shape=(), dtype=float32, numpy=-0.64057267>, <tf.Tensor: shape=(), dtype=float32, numpy=-0.444089>)\n",
      "\n",
      "(<tf.Tensor: shape=(), dtype=float32, numpy=0.51315486>, <tf.Tensor: shape=(), dtype=float32, numpy=-0.2706868>, <tf.Tensor: shape=(), dtype=float32, numpy=-0.1049449>)\n",
      "\n",
      "(<tf.Tensor: shape=(), dtype=float32, numpy=-0.24520314>, <tf.Tensor: shape=(), dtype=float32, numpy=-0.15996923>, <tf.Tensor: shape=(), dtype=float32, numpy=-0.034245238>)\n",
      "\n",
      "(<tf.Tensor: shape=(), dtype=float32, numpy=0.1446642>, <tf.Tensor: shape=(), dtype=float32, numpy=0.63874304>, <tf.Tensor: shape=(), dtype=float32, numpy=0.40470478>)\n",
      "\n",
      "(<tf.Tensor: shape=(), dtype=float32, numpy=-0.11507241>, <tf.Tensor: shape=(), dtype=float32, numpy=0.41592973>, <tf.Tensor: shape=(), dtype=float32, numpy=0.28022867>)\n",
      "\n",
      "(<tf.Tensor: shape=(), dtype=float32, numpy=-0.840843>, <tf.Tensor: shape=(), dtype=float32, numpy=1.8361464>, <tf.Tensor: shape=(), dtype=float32, numpy=1.206361>)\n",
      "\n",
      "(<tf.Tensor: shape=(), dtype=float32, numpy=0.5541979>, <tf.Tensor: shape=(), dtype=float32, numpy=1.0172927>, <tf.Tensor: shape=(), dtype=float32, numpy=0.5187661>)\n",
      "\n",
      "(<tf.Tensor: shape=(), dtype=float32, numpy=-0.114188746>, <tf.Tensor: shape=(), dtype=float32, numpy=0.19357657>, <tf.Tensor: shape=(), dtype=float32, numpy=-0.089607894>)\n",
      "\n",
      "(<tf.Tensor: shape=(), dtype=float32, numpy=-0.64697456>, <tf.Tensor: shape=(), dtype=float32, numpy=-0.85201097>, <tf.Tensor: shape=(), dtype=float32, numpy=-0.19707425>)\n",
      "\n",
      "(<tf.Tensor: shape=(), dtype=float32, numpy=0.3543154>, <tf.Tensor: shape=(), dtype=float32, numpy=-0.43940902>, <tf.Tensor: shape=(), dtype=float32, numpy=0.109908>)\n",
      "\n",
      "(<tf.Tensor: shape=(), dtype=float32, numpy=-0.13975407>, <tf.Tensor: shape=(), dtype=float32, numpy=-0.5118022>, <tf.Tensor: shape=(), dtype=float32, numpy=-0.40749258>)\n",
      "\n",
      "(<tf.Tensor: shape=(), dtype=float32, numpy=-0.06351489>, <tf.Tensor: shape=(), dtype=float32, numpy=0.23528062>, <tf.Tensor: shape=(), dtype=float32, numpy=0.26947212>)\n",
      "\n",
      "(<tf.Tensor: shape=(), dtype=float32, numpy=0.2150231>, <tf.Tensor: shape=(), dtype=float32, numpy=-0.7978464>, <tf.Tensor: shape=(), dtype=float32, numpy=-0.5916498>)\n",
      "\n",
      "(<tf.Tensor: shape=(), dtype=float32, numpy=0.12612624>, <tf.Tensor: shape=(), dtype=float32, numpy=-0.39734167>, <tf.Tensor: shape=(), dtype=float32, numpy=-0.46411338>)\n",
      "\n",
      "(<tf.Tensor: shape=(), dtype=float32, numpy=-0.040082797>, <tf.Tensor: shape=(), dtype=float32, numpy=-0.1793564>, <tf.Tensor: shape=(), dtype=float32, numpy=-0.0787324>)\n",
      "\n",
      "(<tf.Tensor: shape=(), dtype=float32, numpy=-0.695626>, <tf.Tensor: shape=(), dtype=float32, numpy=0.70068586>, <tf.Tensor: shape=(), dtype=float32, numpy=0.30448806>)\n",
      "\n",
      "(<tf.Tensor: shape=(), dtype=float32, numpy=0.5544238>, <tf.Tensor: shape=(), dtype=float32, numpy=0.37223762>, <tf.Tensor: shape=(), dtype=float32, numpy=0.2254825>)\n",
      "\n",
      "(<tf.Tensor: shape=(), dtype=float32, numpy=0.27466404>, <tf.Tensor: shape=(), dtype=float32, numpy=0.62142473>, <tf.Tensor: shape=(), dtype=float32, numpy=0.5798296>)\n",
      "\n",
      "(<tf.Tensor: shape=(), dtype=float32, numpy=0.16473149>, <tf.Tensor: shape=(), dtype=float32, numpy=-0.42706275>, <tf.Tensor: shape=(), dtype=float32, numpy=-0.1738366>)\n",
      "\n",
      "(<tf.Tensor: shape=(), dtype=float32, numpy=-1.2365497>, <tf.Tensor: shape=(), dtype=float32, numpy=-1.9224237>, <tf.Tensor: shape=(), dtype=float32, numpy=-0.09352955>)\n",
      "\n",
      "(<tf.Tensor: shape=(), dtype=float32, numpy=-0.38439995>, <tf.Tensor: shape=(), dtype=float32, numpy=-0.9187322>, <tf.Tensor: shape=(), dtype=float32, numpy=-0.64050394>)\n",
      "\n",
      "(<tf.Tensor: shape=(), dtype=float32, numpy=-0.058445334>, <tf.Tensor: shape=(), dtype=float32, numpy=0.31162202>, <tf.Tensor: shape=(), dtype=float32, numpy=0.30823237>)\n",
      "\n",
      "(<tf.Tensor: shape=(), dtype=float32, numpy=0.11944097>, <tf.Tensor: shape=(), dtype=float32, numpy=-0.6238108>, <tf.Tensor: shape=(), dtype=float32, numpy=-0.008439034>)\n",
      "\n",
      "(<tf.Tensor: shape=(), dtype=float32, numpy=-0.19346255>, <tf.Tensor: shape=(), dtype=float32, numpy=-0.005436957>, <tf.Tensor: shape=(), dtype=float32, numpy=-0.17588037>)\n",
      "\n",
      "(<tf.Tensor: shape=(), dtype=float32, numpy=0.19406217>, <tf.Tensor: shape=(), dtype=float32, numpy=2.0453365>, <tf.Tensor: shape=(), dtype=float32, numpy=0.8229354>)\n",
      "\n",
      "(<tf.Tensor: shape=(), dtype=float32, numpy=0.72597647>, <tf.Tensor: shape=(), dtype=float32, numpy=-0.073821336>, <tf.Tensor: shape=(), dtype=float32, numpy=0.28429276>)\n",
      "\n",
      "(<tf.Tensor: shape=(), dtype=float32, numpy=-0.6278035>, <tf.Tensor: shape=(), dtype=float32, numpy=0.53425807>, <tf.Tensor: shape=(), dtype=float32, numpy=0.2382704>)\n",
      "\n",
      "\n",
      "\n"
     ]
    },
    {
     "data": {
      "image/png": "[encoded data removed]",
      "text/plain": [
       "<Figure size 900x600 with 1 Axes>"
      ]
     },
     "metadata": {},
     "output_type": "display_data"
    }
   ],
   "source": [
    "# Set training parameters\n",
    "epochs = 100\n",
    "learning_rate = 0.01\n",
    "losses = []\n",
    "\n",
    "# Format training loop\n",
    "for epoch in range(epochs):\n",
    "    for x_batch, y_batch in dataset:\n",
    "        with tf.GradientTape() as tape:\n",
    "            batch_loss = mse_loss(model(x_batch), y_batch)\n",
    "        # Update parameters with respect to the gradient calculations\n",
    "        grads = tape.gradient(batch_loss, model.variables)\n",
    "        print(grads,end=\"\\n\\n\")\n",
    "        for g,v in zip(grads, model.variables):\n",
    "            v.assign_sub(learning_rate*g)\n",
    "    # Keep track of model loss per epoch\n",
    "    loss = mse_loss(model(x), y)\n",
    "    losses.append(loss)\n",
    "    if epoch % 10 == 0:\n",
    "        print(f'Mean squared error for step {epoch}: {loss.numpy():0.3f}')\n",
    "\n",
    "# Plot model results\n",
    "print(\"\\n\")\n",
    "plt.plot(range(epochs), losses)\n",
    "plt.xlabel(\"Epoch\")\n",
    "plt.ylabel(\"Mean Squared Error (MSE)\")\n",
    "plt.title('MSE loss vs training iterations');"
   ]
  },
  {
   "cell_type": "code",
   "execution_count": 45,
   "metadata": {},
   "outputs": [
    {
     "data": {
      "image/png": "[encoded data removed]",
      "text/plain": [
       "<Figure size 900x600 with 1 Axes>"
      ]
     },
     "metadata": {},
     "output_type": "display_data"
    }
   ],
   "source": [
    "plot_preds(x, y, f, model, 'After training')\n"
   ]
  },
  {
   "cell_type": "code",
   "execution_count": 46,
   "metadata": {},
   "outputs": [
    {
     "data": {
      "text/plain": [
       "<tf.Tensor: shape=(201,), dtype=float32, numpy=\n",
       "array([-2.  , -1.98, -1.96, -1.94, -1.92, -1.9 , -1.88, -1.86, -1.84,\n",
       "       -1.82, -1.8 , -1.78, -1.76, -1.74, -1.72, -1.7 , -1.68, -1.66,\n",
       "       -1.64, -1.62, -1.6 , -1.58, -1.56, -1.54, -1.52, -1.5 , -1.48,\n",
       "       -1.46, -1.44, -1.42, -1.4 , -1.38, -1.36, -1.34, -1.32, -1.3 ,\n",
       "       -1.28, -1.26, -1.24, -1.22, -1.2 , -1.18, -1.16, -1.14, -1.12,\n",
       "       -1.1 , -1.08, -1.06, -1.04, -1.02, -1.  , -0.98, -0.96, -0.94,\n",
       "       -0.92, -0.9 , -0.88, -0.86, -0.84, -0.82, -0.8 , -0.78, -0.76,\n",
       "       -0.74, -0.72, -0.7 , -0.68, -0.66, -0.64, -0.62, -0.6 , -0.58,\n",
       "       -0.56, -0.54, -0.52, -0.5 , -0.48, -0.46, -0.44, -0.42, -0.4 ,\n",
       "       -0.38, -0.36, -0.34, -0.32, -0.3 , -0.28, -0.26, -0.24, -0.22,\n",
       "       -0.2 , -0.18, -0.16, -0.14, -0.12, -0.1 , -0.08, -0.06, -0.04,\n",
       "       -0.02,  0.  ,  0.02,  0.04,  0.06,  0.08,  0.1 ,  0.12,  0.14,\n",
       "        0.16,  0.18,  0.2 ,  0.22,  0.24,  0.26,  0.28,  0.3 ,  0.32,\n",
       "        0.34,  0.36,  0.38,  0.4 ,  0.42,  0.44,  0.46,  0.48,  0.5 ,\n",
       "        0.52,  0.54,  0.56,  0.58,  0.6 ,  0.62,  0.64,  0.66,  0.68,\n",
       "        0.7 ,  0.72,  0.74,  0.76,  0.78,  0.8 ,  0.82,  0.84,  0.86,\n",
       "        0.88,  0.9 ,  0.92,  0.94,  0.96,  0.98,  1.  ,  1.02,  1.04,\n",
       "        1.06,  1.08,  1.1 ,  1.12,  1.14,  1.16,  1.18,  1.2 ,  1.22,\n",
       "        1.24,  1.26,  1.28,  1.3 ,  1.32,  1.34,  1.36,  1.38,  1.4 ,\n",
       "        1.42,  1.44,  1.46,  1.48,  1.5 ,  1.52,  1.54,  1.56,  1.58,\n",
       "        1.6 ,  1.62,  1.64,  1.66,  1.68,  1.7 ,  1.72,  1.74,  1.76,\n",
       "        1.78,  1.8 ,  1.82,  1.84,  1.86,  1.88,  1.9 ,  1.92,  1.94,\n",
       "        1.96,  1.98,  2.  ], dtype=float32)>"
      ]
     },
     "execution_count": 46,
     "metadata": {},
     "output_type": "execute_result"
    }
   ],
   "source": [
    "x"
   ]
  },
  {
   "cell_type": "code",
   "execution_count": 47,
   "metadata": {},
   "outputs": [
    {
     "data": {
      "text/plain": [
       "array([-2.  , -1.98, -1.96, -1.94, -1.92, -1.9 , -1.88, -1.86, -1.84,\n",
       "       -1.82], dtype=float32)"
      ]
     },
     "execution_count": 47,
     "metadata": {},
     "output_type": "execute_result"
    }
   ],
   "source": [
    "np.array(x[:10])"
   ]
  },
  {
   "cell_type": "code",
   "execution_count": 48,
   "metadata": {},
   "outputs": [],
   "source": [
    "tensor_1 = tf.random.normal(shape=(2, 3, 3, 2))\n",
    "tensor_2 = tf.random.normal(shape=(2, 3, 2, 4))\n"
   ]
  },
  {
   "cell_type": "code",
   "execution_count": 49,
   "metadata": {},
   "outputs": [
    {
     "data": {
      "text/plain": [
       "<tf.Tensor: shape=(2, 3, 3, 2), dtype=float32, numpy=\n",
       "array([[[[-1.5430713 ,  0.63391876],\n",
       "         [-0.31189433, -1.4487908 ],\n",
       "         [-0.9819331 ,  1.4695954 ]],\n",
       "\n",
       "        [[ 1.4942557 , -0.6671765 ],\n",
       "         [ 0.7660322 ,  0.5578379 ],\n",
       "         [ 0.77341545,  1.03068   ]],\n",
       "\n",
       "        [[ 0.68735147,  0.9218918 ],\n",
       "         [ 1.2192019 , -0.90987104],\n",
       "         [-0.3464345 , -1.2885414 ]]],\n",
       "\n",
       "\n",
       "       [[[ 1.6446079 ,  0.53505546],\n",
       "         [ 0.35129416, -0.85805124],\n",
       "         [-0.4566626 , -1.9165037 ]],\n",
       "\n",
       "        [[ 1.7540315 ,  1.3715507 ],\n",
       "         [-0.16517895, -0.34130242],\n",
       "         [ 0.350135  , -1.4454892 ]],\n",
       "\n",
       "        [[ 0.5234815 , -1.592088  ],\n",
       "         [ 0.48026457, -0.49943045],\n",
       "         [ 1.2428749 ,  0.22887574]]]], dtype=float32)>"
      ]
     },
     "execution_count": 49,
     "metadata": {},
     "output_type": "execute_result"
    }
   ],
   "source": [
    "tensor_1"
   ]
  },
  {
   "cell_type": "code",
   "execution_count": 50,
   "metadata": {},
   "outputs": [
    {
     "data": {
      "text/plain": [
       "<tf.Tensor: shape=(2, 3, 2, 4), dtype=float32, numpy=\n",
       "array([[[[-0.93043256,  0.9973436 , -0.10196788,  0.53673404],\n",
       "         [ 0.09131712,  0.0296707 , -0.01833509, -0.09677274]],\n",
       "\n",
       "        [[ 0.01812445, -0.19503577,  0.45350513,  2.0079246 ],\n",
       "         [-0.30730072,  0.04668128,  1.2071707 , -0.28216812]],\n",
       "\n",
       "        [[-1.6818627 ,  1.4065757 , -0.41841972, -0.26822156],\n",
       "         [-1.7301921 , -1.3209286 ,  1.2013826 , -0.97809875]]],\n",
       "\n",
       "\n",
       "       [[[ 0.0435969 ,  0.14189692,  0.69492996,  0.50913304],\n",
       "         [-1.6804554 ,  1.5878141 ,  1.0080428 , -1.7146033 ]],\n",
       "\n",
       "        [[ 0.6254587 ,  1.3730172 ,  0.91100395,  0.5112079 ],\n",
       "         [-0.08806235, -1.931956  , -0.44497332,  0.3738041 ]],\n",
       "\n",
       "        [[-1.4415182 , -0.8408613 ,  0.1850991 ,  1.4785514 ],\n",
       "         [-1.1735915 , -0.53999555,  1.0684233 ,  1.3132429 ]]]],\n",
       "      dtype=float32)>"
      ]
     },
     "execution_count": 50,
     "metadata": {},
     "output_type": "execute_result"
    }
   ],
   "source": [
    "tensor_2"
   ]
  },
  {
   "cell_type": "code",
   "execution_count": 51,
   "metadata": {},
   "outputs": [
    {
     "data": {
      "text/plain": [
       "<tf.Tensor: shape=(2, 3, 3, 4), dtype=float32, numpy=\n",
       "array([[[[ 1.49361145e+00, -1.52016342e+00,  1.45720750e-01,\n",
       "          -8.89564931e-01],\n",
       "         [ 1.57897234e-01, -3.54052454e-01,  5.83669096e-02,\n",
       "          -2.72008628e-02],\n",
       "         [ 1.04782176e+00, -9.35720801e-01,  7.31804743e-02,\n",
       "          -6.69253707e-01]],\n",
       "\n",
       "        [[ 2.32106373e-01, -3.22577953e-01, -1.27743304e-01,\n",
       "           3.18860865e+00],\n",
       "         [-1.57540068e-01, -1.23363100e-01,  1.02080512e+00,\n",
       "           1.38073087e+00],\n",
       "         [-3.02710950e-01, -1.02730215e-01,  1.59495449e+00,\n",
       "           1.26213491e+00]],\n",
       "\n",
       "        [[-2.75108051e+00, -2.50941455e-01,  8.19943368e-01,\n",
       "          -1.08606374e+00],\n",
       "         [-4.76278543e-01,  2.91677427e+00, -1.60324144e+00,\n",
       "           5.62927485e-01],\n",
       "         [ 2.81207943e+00,  1.21478486e+00, -1.40307629e+00,\n",
       "           1.35324204e+00]]],\n",
       "\n",
       "\n",
       "       [[[-8.27437043e-01,  1.08293343e+00,  1.68224621e+00,\n",
       "          -8.00836682e-02],\n",
       "         [ 1.45723212e+00, -1.31257820e+00, -6.20827556e-01,\n",
       "           1.65007293e+00],\n",
       "         [ 3.20068979e+00, -3.10785055e+00, -2.24926639e+00,\n",
       "           3.05354142e+00]],\n",
       "\n",
       "        [[ 9.76292312e-01, -2.41460323e-01,  9.87626135e-01,\n",
       "           1.40936601e+00],\n",
       "         [-7.32567236e-02,  4.32587743e-01,  1.39179826e-03,\n",
       "          -2.12021023e-01],\n",
       "         [ 3.46288174e-01,  3.27336311e+00,  9.62178469e-01,\n",
       "          -3.61337990e-01]],\n",
       "\n",
       "        [[ 1.11385274e+00,  4.19545084e-01, -1.60412788e+00,\n",
       "          -1.31680417e+00],\n",
       "         [-1.06182754e-01, -1.34145677e-01, -4.44706589e-01,\n",
       "           5.42224050e-02],\n",
       "         [-2.06023335e+00, -1.16867733e+00,  4.74591196e-01,\n",
       "           2.13822389e+00]]]], dtype=float32)>"
      ]
     },
     "execution_count": 51,
     "metadata": {},
     "output_type": "execute_result"
    }
   ],
   "source": [
    "\n",
    "tensor_1 @ tensor_2"
   ]
  },
  {
   "cell_type": "code",
   "execution_count": 52,
   "metadata": {},
   "outputs": [
    {
     "data": {
      "text/plain": [
       "<tf.Tensor: shape=(2, 2), dtype=float32, numpy=\n",
       "array([[ 4.,  1.],\n",
       "       [10.,  5.]], dtype=float32)>"
      ]
     },
     "execution_count": 52,
     "metadata": {},
     "output_type": "execute_result"
    }
   ],
   "source": [
    "c = tf.constant([[4.0, 1.0], [10.0, 5.0]])\n",
    "c"
   ]
  },
  {
   "cell_type": "code",
   "execution_count": 53,
   "metadata": {},
   "outputs": [
    {
     "name": "stdout",
     "output_type": "stream",
     "text": [
      "tf.Tensor(10.0, shape=(), dtype=float32)\n",
      "tf.Tensor([1 1], shape=(2,), dtype=int64)\n",
      "tf.Tensor(\n",
      "[[0.95257413 0.04742588]\n",
      " [0.9933072  0.00669285]], shape=(2, 2), dtype=float32)\n"
     ]
    }
   ],
   "source": [
    "\n",
    "# Find the largest value\n",
    "print(tf.reduce_max(c))\n",
    "# Find the index of the largest value\n",
    "print(tf.math.argmax(c))\n",
    "# Compute the softmax\n",
    "print(tf.nn.softmax(c))"
   ]
  },
  {
   "cell_type": "code",
   "execution_count": 54,
   "metadata": {},
   "outputs": [
    {
     "data": {
      "text/plain": [
       "tensorflow.python.framework.tensor_shape.TensorShape"
      ]
     },
     "execution_count": 54,
     "metadata": {},
     "output_type": "execute_result"
    }
   ],
   "source": [
    "type(c.shape)"
   ]
  },
  {
   "cell_type": "code",
   "execution_count": 55,
   "metadata": {},
   "outputs": [
    {
     "data": {
      "text/plain": [
       "<tf.Tensor: shape=(2,), dtype=int32, numpy=array([2, 2])>"
      ]
     },
     "execution_count": 55,
     "metadata": {},
     "output_type": "execute_result"
    }
   ],
   "source": [
    "tf.convert_to_tensor(c.shape)"
   ]
  },
  {
   "cell_type": "code",
   "execution_count": 56,
   "metadata": {},
   "outputs": [
    {
     "data": {
      "text/plain": [
       "201"
      ]
     },
     "execution_count": 56,
     "metadata": {},
     "output_type": "execute_result"
    }
   ],
   "source": [
    "tf.size(x).numpy()"
   ]
  },
  {
   "cell_type": "code",
   "execution_count": 57,
   "metadata": {},
   "outputs": [
    {
     "data": {
      "text/plain": [
       "<tf.Tensor: shape=(2,), dtype=int32, numpy=array([2, 2])>"
      ]
     },
     "execution_count": 57,
     "metadata": {},
     "output_type": "execute_result"
    }
   ],
   "source": [
    "tf.shape(c)"
   ]
  },
  {
   "cell_type": "code",
   "execution_count": 58,
   "metadata": {},
   "outputs": [
    {
     "data": {
      "text/plain": [
       "<tf.Tensor: shape=(), dtype=int32, numpy=2>"
      ]
     },
     "execution_count": 58,
     "metadata": {},
     "output_type": "execute_result"
    }
   ],
   "source": [
    "tf.rank(c)"
   ]
  },
  {
   "cell_type": "code",
   "execution_count": 59,
   "metadata": {},
   "outputs": [
    {
     "data": {
      "text/plain": [
       "<tf.Tensor: shape=(4, 5), dtype=int32, numpy=\n",
       "array([[ 0,  1,  2,  3,  4],\n",
       "       [ 5,  6,  7,  8,  9],\n",
       "       [10, 11, 12, 13, 14],\n",
       "       [15, 16, 17, 18, 19]])>"
      ]
     },
     "execution_count": 59,
     "metadata": {},
     "output_type": "execute_result"
    }
   ],
   "source": [
    "t2 = tf.constant([[0, 1, 2, 3, 4],\n",
    "                    [5, 6, 7, 8, 9],\n",
    "                    [10, 11, 12, 13, 14],\n",
    "                    [15, 16, 17, 18, 19]])\n",
    "t2"
   ]
  },
  {
   "cell_type": "code",
   "execution_count": 60,
   "metadata": {},
   "outputs": [
    {
     "data": {
      "text/plain": [
       "<tf.Tensor: shape=(4, 2, 3, 2), dtype=float32, numpy=\n",
       "array([[[[0.02659631, 0.7220036 ],\n",
       "         [0.7165477 , 0.7148832 ],\n",
       "         [0.9481995 , 0.73631275]],\n",
       "\n",
       "        [[0.9025967 , 0.08151293],\n",
       "         [0.42447996, 0.5297668 ],\n",
       "         [0.32545054, 0.6695218 ]]],\n",
       "\n",
       "\n",
       "       [[[0.06683934, 0.04814267],\n",
       "         [0.33754325, 0.13187945],\n",
       "         [0.20473981, 0.8464159 ]],\n",
       "\n",
       "        [[0.17984498, 0.87240314],\n",
       "         [0.26472592, 0.607679  ],\n",
       "         [0.7543136 , 0.41618562]]],\n",
       "\n",
       "\n",
       "       [[[0.98169625, 0.908777  ],\n",
       "         [0.6563232 , 0.84028554],\n",
       "         [0.5995959 , 0.271837  ]],\n",
       "\n",
       "        [[0.3653792 , 0.80308604],\n",
       "         [0.2801082 , 0.46784544],\n",
       "         [0.3492217 , 0.05900037]]],\n",
       "\n",
       "\n",
       "       [[[0.9113442 , 0.9045634 ],\n",
       "         [0.60716903, 0.7562195 ],\n",
       "         [0.04432464, 0.5869651 ]],\n",
       "\n",
       "        [[0.07295012, 0.8567903 ],\n",
       "         [0.05860937, 0.54332733],\n",
       "         [0.97786784, 0.35404348]]]], dtype=float32)>"
      ]
     },
     "execution_count": 60,
     "metadata": {},
     "output_type": "execute_result"
    }
   ],
   "source": [
    "test = tf.random.uniform((4,2,3,2))\n",
    "test"
   ]
  },
  {
   "cell_type": "code",
   "execution_count": 61,
   "metadata": {},
   "outputs": [
    {
     "data": {
      "text/plain": [
       "<tf.Tensor: shape=(48, 1), dtype=float32, numpy=\n",
       "array([[0.02659631],\n",
       "       [0.7220036 ],\n",
       "       [0.7165477 ],\n",
       "       [0.7148832 ],\n",
       "       [0.9481995 ],\n",
       "       [0.73631275],\n",
       "       [0.9025967 ],\n",
       "       [0.08151293],\n",
       "       [0.42447996],\n",
       "       [0.5297668 ],\n",
       "       [0.32545054],\n",
       "       [0.6695218 ],\n",
       "       [0.06683934],\n",
       "       [0.04814267],\n",
       "       [0.33754325],\n",
       "       [0.13187945],\n",
       "       [0.20473981],\n",
       "       [0.8464159 ],\n",
       "       [0.17984498],\n",
       "       [0.87240314],\n",
       "       [0.26472592],\n",
       "       [0.607679  ],\n",
       "       [0.7543136 ],\n",
       "       [0.41618562],\n",
       "       [0.98169625],\n",
       "       [0.908777  ],\n",
       "       [0.6563232 ],\n",
       "       [0.84028554],\n",
       "       [0.5995959 ],\n",
       "       [0.271837  ],\n",
       "       [0.3653792 ],\n",
       "       [0.80308604],\n",
       "       [0.2801082 ],\n",
       "       [0.46784544],\n",
       "       [0.3492217 ],\n",
       "       [0.05900037],\n",
       "       [0.9113442 ],\n",
       "       [0.9045634 ],\n",
       "       [0.60716903],\n",
       "       [0.7562195 ],\n",
       "       [0.04432464],\n",
       "       [0.5869651 ],\n",
       "       [0.07295012],\n",
       "       [0.8567903 ],\n",
       "       [0.05860937],\n",
       "       [0.54332733],\n",
       "       [0.97786784],\n",
       "       [0.35404348]], dtype=float32)>"
      ]
     },
     "execution_count": 61,
     "metadata": {},
     "output_type": "execute_result"
    }
   ],
   "source": [
    "tf.reshape(test, (48,1))"
   ]
  },
  {
   "cell_type": "code",
   "execution_count": 62,
   "metadata": {},
   "outputs": [
    {
     "data": {
      "text/plain": [
       "<tf.Tensor: shape=(4, 2), dtype=float32, numpy=\n",
       "array([[0.07400775, 0.34476614],\n",
       "       [0.07400775, 0.34476614],\n",
       "       [0.07400775, 0.34476614],\n",
       "       [0.07400775, 0.34476614]], dtype=float32)>"
      ]
     },
     "execution_count": 62,
     "metadata": {},
     "output_type": "execute_result"
    }
   ],
   "source": [
    "tf.broadcast_to(tf.random.uniform([1,2]), (4,2,))"
   ]
  },
  {
   "cell_type": "code",
   "execution_count": 63,
   "metadata": {},
   "outputs": [
    {
     "name": "stdout",
     "output_type": "stream",
     "text": [
      "[5. 6.]\n",
      "[2. 3.]\n",
      "[7. 9.]\n",
      "[0. 0.]\n"
     ]
    }
   ],
   "source": [
    "a = tf.Variable([2.0, 3.0])\n",
    "# Create b based on the value of a\n",
    "b = tf.Variable(a)\n",
    "a.assign([5, 6])\n",
    "\n",
    "# a and b are different\n",
    "print(a.numpy())\n",
    "print(b.numpy())\n",
    "\n",
    "# There are other versions of assign\n",
    "print(a.assign_add([2,3]).numpy())  # [7. 9.]\n",
    "print(a.assign_sub([7,9]).numpy())  # [0. 0.]"
   ]
  },
  {
   "cell_type": "code",
   "execution_count": 64,
   "metadata": {},
   "outputs": [],
   "source": [
    "# Uncomment to see where your variables get placed (see below)\n",
    "tf.debugging.set_log_device_placement(True)"
   ]
  },
  {
   "cell_type": "code",
   "execution_count": 65,
   "metadata": {},
   "outputs": [
    {
     "data": {
      "text/plain": [
       "'/job:localhost/replica:0/task:0/device:CPU:0'"
      ]
     },
     "execution_count": 65,
     "metadata": {},
     "output_type": "execute_result"
    }
   ],
   "source": [
    "tf.Variable([1.0, 2.0, 3.0]).device"
   ]
  },
  {
   "cell_type": "code",
   "execution_count": 66,
   "metadata": {},
   "outputs": [
    {
     "name": "stdout",
     "output_type": "stream",
     "text": [
      "PhysicalDevice(name='/physical_device:CPU:0', device_type='CPU')\n"
     ]
    }
   ],
   "source": [
    "\n",
    "devices = tf.config.list_physical_devices()\n",
    "for device in devices:\n",
    "    print(device)\n"
   ]
  },
  {
   "cell_type": "code",
   "execution_count": 67,
   "metadata": {},
   "outputs": [
    {
     "name": "stdout",
     "output_type": "stream",
     "text": [
      "[2. 4. 6.]\n"
     ]
    },
    {
     "data": {
      "text/plain": [
       "array([[[2., 0., 0.],\n",
       "        [2., 1., 0.],\n",
       "        [3., 0., 1.]],\n",
       "\n",
       "       [[2., 1., 0.],\n",
       "        [0., 4., 0.],\n",
       "        [0., 3., 2.]],\n",
       "\n",
       "       [[3., 0., 1.],\n",
       "        [0., 3., 2.],\n",
       "        [0., 0., 6.]]], dtype=float32)"
      ]
     },
     "execution_count": 67,
     "metadata": {},
     "output_type": "execute_result"
    }
   ],
   "source": [
    "x = tf.Variable([1.0, 2.0, 3.0])\n",
    "with tf.GradientTape(persistent=True) as tape:\n",
    "    y0 = x**2\n",
    "    y1 = (tf.reshape(x, (3,1))) @ tf.reshape(x, (1,3))\n",
    "\n",
    "print(tape.gradient(y0, x).numpy())\n",
    "#tape.gradient(y1, x).numpy()\n",
    "tape.jacobian(y1, x).numpy()\n",
    "\n",
    "# print(tape.gradient([y0,y1], x))\n"
   ]
  },
  {
   "cell_type": "markdown",
   "metadata": {},
   "source": [
    "In your case, y1 is a 3x3 matrix and x is a vector of length 3. Therefore, the Jacobian is a 3x3x3 tensor, where the element at position (i, j, k) is the derivative of y1[i, j] with respect to x[k].\n",
    "\n",
    "Here's how the values are computed:\n",
    "\n",
    "The first row of the Jacobian for each element of y1 is [2, 0, 0] because y1[0, 0], y1[1, 0], and y1[2, 0] are x[0]**2, x[0] * x[1], and x[0] * x[2] respectively. The derivative of these expressions with respect to x[0] is 2x[0], x[1], and x[2], ...\n",
    "\n",
    "The second row of the Jacobian for each element of y1 is [2, 1, 0], [0, 4, 0], and [0, 3, 2] because y1[0, 1], y1[1, 1], and y1[2, 1] are x[0] * x[1], x[1]**2, and x[1] * x[2] respectively. The derivative of these expressions with respect to x[0] is x[1], 2x[1], and x[2], ...\n",
    "\n",
    "The third row of the Jacobian for each element of y1 is [3, 0, 1], [0, 3, 2], and [0, 0, 6] because y1[0, 2], y1[1, 2], and y1[2, 2] are x[0] * x[2], x[1] * x[2], and x[2]**2 respectively. The derivative of these expressions with respect to x[0] is x[2], 0, and 2x[2], ...\n",
    "\n",
    "So, the Jacobian of y1 with respect to x is indeed the 3x3x3 tensor you've printed."
   ]
  },
  {
   "cell_type": "code",
   "execution_count": 68,
   "metadata": {},
   "outputs": [
    {
     "data": {
      "text/plain": [
       "<tf.Tensor: shape=(3, 3), dtype=float32, numpy=\n",
       "array([[1., 2., 3.],\n",
       "       [2., 4., 6.],\n",
       "       [3., 6., 9.]], dtype=float32)>"
      ]
     },
     "execution_count": 68,
     "metadata": {},
     "output_type": "execute_result"
    }
   ],
   "source": [
    "tf.reshape(x, (3,1)) @ tf.reshape(x, (1,3))"
   ]
  },
  {
   "cell_type": "code",
   "execution_count": 69,
   "metadata": {},
   "outputs": [
    {
     "name": "stdout",
     "output_type": "stream",
     "text": [
      "tf.Tensor([6. 8.], shape=(2,), dtype=float32)\n",
      "7.0\n",
      "[3. 4.]\n"
     ]
    }
   ],
   "source": [
    "x = tf.Variable(2.)\n",
    "\n",
    "with tf.GradientTape(persistent=True) as tape:\n",
    "    y = x * [3., 4.]\n",
    "    print(y)\n",
    "\n",
    "print(tape.gradient(y, x).numpy())\n",
    "print(tape.jacobian(y, x).numpy())"
   ]
  },
  {
   "cell_type": "code",
   "execution_count": 70,
   "metadata": {},
   "outputs": [
    {
     "data": {
      "text/plain": [
       "<tf.Tensor: shape=(201,), dtype=float32, numpy=\n",
       "array([-10.        ,  -9.9       ,  -9.8       ,  -9.7       ,\n",
       "        -9.6       ,  -9.5       ,  -9.4       ,  -9.3       ,\n",
       "        -9.2       ,  -9.1       ,  -9.        ,  -8.9       ,\n",
       "        -8.8       ,  -8.7       ,  -8.6       ,  -8.5       ,\n",
       "        -8.4       ,  -8.3       ,  -8.2       ,  -8.1       ,\n",
       "        -8.        ,  -7.8999996 ,  -7.8       ,  -7.7       ,\n",
       "        -7.6       ,  -7.5       ,  -7.3999996 ,  -7.3       ,\n",
       "        -7.2       ,  -7.1       ,  -7.        ,  -6.8999996 ,\n",
       "        -6.8       ,  -6.7       ,  -6.6       ,  -6.5       ,\n",
       "        -6.3999996 ,  -6.3       ,  -6.2       ,  -6.1       ,\n",
       "        -6.        ,  -5.9       ,  -5.7999997 ,  -5.7       ,\n",
       "        -5.6       ,  -5.5       ,  -5.4       ,  -5.2999997 ,\n",
       "        -5.2       ,  -5.1       ,  -5.        ,  -4.9       ,\n",
       "        -4.7999997 ,  -4.7       ,  -4.6       ,  -4.5       ,\n",
       "        -4.4       ,  -4.2999997 ,  -4.2       ,  -4.1       ,\n",
       "        -4.        ,  -3.9       ,  -3.7999997 ,  -3.6999998 ,\n",
       "        -3.6       ,  -3.5       ,  -3.4       ,  -3.2999997 ,\n",
       "        -3.1999998 ,  -3.1       ,  -3.        ,  -2.9       ,\n",
       "        -2.7999997 ,  -2.6999998 ,  -2.6       ,  -2.5       ,\n",
       "        -2.4       ,  -2.2999997 ,  -2.1999998 ,  -2.1       ,\n",
       "        -2.        ,  -1.8999996 ,  -1.8000002 ,  -1.6999998 ,\n",
       "        -1.5999994 ,  -1.5       ,  -1.3999996 ,  -1.3000002 ,\n",
       "        -1.1999998 ,  -1.0999994 ,  -1.        ,  -0.8999996 ,\n",
       "        -0.8000002 ,  -0.6999998 ,  -0.5999994 ,  -0.5       ,\n",
       "        -0.39999962,  -0.3000002 ,  -0.19999981,  -0.09999943,\n",
       "         0.        ,   0.10000038,   0.19999981,   0.3000002 ,\n",
       "         0.40000057,   0.5       ,   0.6000004 ,   0.6999998 ,\n",
       "         0.8000002 ,   0.9000006 ,   1.        ,   1.1000004 ,\n",
       "         1.1999998 ,   1.3000002 ,   1.4000006 ,   1.5       ,\n",
       "         1.6000004 ,   1.6999998 ,   1.8000002 ,   1.9000006 ,\n",
       "         2.        ,   2.1000004 ,   2.1999998 ,   2.3000002 ,\n",
       "         2.4000006 ,   2.5       ,   2.6000004 ,   2.6999998 ,\n",
       "         2.8000002 ,   2.9000006 ,   3.        ,   3.1000004 ,\n",
       "         3.1999998 ,   3.3000002 ,   3.4000006 ,   3.5       ,\n",
       "         3.6000004 ,   3.6999998 ,   3.8000002 ,   3.9000006 ,\n",
       "         4.        ,   4.1000004 ,   4.2       ,   4.3       ,\n",
       "         4.4000006 ,   4.5       ,   4.6000004 ,   4.7       ,\n",
       "         4.8       ,   4.9000006 ,   5.        ,   5.1000004 ,\n",
       "         5.2       ,   5.3       ,   5.4000006 ,   5.5       ,\n",
       "         5.6000004 ,   5.7       ,   5.8       ,   5.9000006 ,\n",
       "         6.        ,   6.1000004 ,   6.200001  ,   6.300001  ,\n",
       "         6.3999996 ,   6.5       ,   6.6000004 ,   6.700001  ,\n",
       "         6.800001  ,   6.8999996 ,   7.        ,   7.1000004 ,\n",
       "         7.200001  ,   7.300001  ,   7.3999996 ,   7.5       ,\n",
       "         7.6000004 ,   7.700001  ,   7.800001  ,   7.8999996 ,\n",
       "         8.        ,   8.1       ,   8.200001  ,   8.300001  ,\n",
       "         8.4       ,   8.5       ,   8.6       ,   8.700001  ,\n",
       "         8.800001  ,   8.9       ,   9.        ,   9.1       ,\n",
       "         9.200001  ,   9.300001  ,   9.4       ,   9.5       ,\n",
       "         9.6       ,   9.700001  ,   9.800001  ,   9.9       ,\n",
       "        10.        ], dtype=float32)>"
      ]
     },
     "execution_count": 70,
     "metadata": {},
     "output_type": "execute_result"
    }
   ],
   "source": [
    "x = tf.linspace(-10.0, 10.0, 200+1)\n",
    "x"
   ]
  },
  {
   "cell_type": "code",
   "execution_count": 71,
   "metadata": {},
   "outputs": [
    {
     "data": {
      "text/plain": [
       "<tf.Tensor: shape=(201,), dtype=float32, numpy=\n",
       "array([4.53958055e-05, 5.01696668e-05, 5.54454418e-05, 6.12759977e-05,\n",
       "       6.77195421e-05, 7.48406237e-05, 8.27104086e-05, 9.14074990e-05,\n",
       "       1.01019003e-04, 1.11640831e-04, 1.23379359e-04, 1.36351780e-04,\n",
       "       1.50687614e-04, 1.66530372e-04, 1.84037970e-04, 2.03385585e-04,\n",
       "       2.24766336e-04, 2.48393306e-04, 2.74502818e-04, 3.03354871e-04,\n",
       "       3.35237681e-04, 3.70468944e-04, 4.09399363e-04, 4.52417444e-04,\n",
       "       4.99951013e-04, 5.52473008e-04, 6.10506395e-04, 6.74626906e-04,\n",
       "       7.45472440e-04, 8.23745097e-04, 9.10221192e-04, 1.00575748e-03,\n",
       "       1.11129810e-03, 1.22788746e-03, 1.35667447e-03, 1.49892876e-03,\n",
       "       1.65605021e-03, 1.82957889e-03, 2.02121888e-03, 2.23284075e-03,\n",
       "       2.46650935e-03, 2.72449688e-03, 3.00930650e-03, 3.32368701e-03,\n",
       "       3.67066660e-03, 4.05357219e-03, 4.47605597e-03, 4.94213402e-03,\n",
       "       5.45620080e-03, 6.02308102e-03, 6.64805667e-03, 7.33690662e-03,\n",
       "       8.09594616e-03, 8.93206056e-03, 9.85276420e-03, 1.08662304e-02,\n",
       "       1.19813345e-02, 1.32077131e-02, 1.45557625e-02, 1.60367284e-02,\n",
       "       1.76627059e-02, 1.94466673e-02, 2.14024857e-02, 2.35449132e-02,\n",
       "       2.58895941e-02, 2.84530222e-02, 3.12524661e-02, 3.43058892e-02,\n",
       "       3.76317762e-02, 4.12490219e-02, 4.51766625e-02, 4.94335666e-02,\n",
       "       5.40381297e-02, 5.90077192e-02, 6.43583089e-02, 7.01037124e-02,\n",
       "       7.62549937e-02, 8.28195885e-02, 8.98003429e-02, 9.71947163e-02,\n",
       "       1.04993582e-01, 1.13180295e-01, 1.21729329e-01, 1.30605757e-01,\n",
       "       1.39763847e-01, 1.49146453e-01, 1.58684939e-01, 1.68298349e-01,\n",
       "       1.77894458e-01, 1.87369928e-01, 1.96611941e-01, 2.05500335e-01,\n",
       "       2.13909671e-01, 2.21712887e-01, 2.28784278e-01, 2.35003710e-01,\n",
       "       2.40260765e-01, 2.44458303e-01, 2.47516572e-01, 2.49376029e-01,\n",
       "       2.50000000e-01, 2.49376029e-01, 2.47516587e-01, 2.44458303e-01,\n",
       "       2.40260705e-01, 2.35003710e-01, 2.28784218e-01, 2.21712887e-01,\n",
       "       2.13909671e-01, 2.05500260e-01, 1.96611926e-01, 1.87369838e-01,\n",
       "       1.77894443e-01, 1.68298304e-01, 1.58684835e-01, 1.49146438e-01,\n",
       "       1.39763758e-01, 1.30605742e-01, 1.21729344e-01, 1.13180213e-01,\n",
       "       1.04993574e-01, 9.71946642e-02, 8.98003504e-02, 8.28195363e-02,\n",
       "       7.62549862e-02, 7.01037124e-02, 6.43582866e-02, 5.90077341e-02,\n",
       "       5.40381111e-02, 4.94335368e-02, 4.51766551e-02, 4.12489809e-02,\n",
       "       3.76317799e-02, 3.43058519e-02, 3.12524699e-02, 2.84530446e-02,\n",
       "       2.58895643e-02, 2.35448945e-02, 2.14024913e-02, 1.94466617e-02,\n",
       "       1.76627338e-02, 1.60366967e-02, 1.45557523e-02, 1.32076964e-02,\n",
       "       1.19813140e-02, 1.08662117e-02, 9.85273253e-03, 8.93205591e-03,\n",
       "       8.09593033e-03, 7.33687775e-03, 6.64803293e-03, 6.02310384e-03,\n",
       "       5.45621011e-03, 4.94212657e-03, 4.47605969e-03, 4.05359641e-03,\n",
       "       3.67064914e-03, 3.32369935e-03, 3.00932792e-03, 2.72451527e-03,\n",
       "       2.46652518e-03, 2.23284843e-03, 2.02120445e-03, 1.82960229e-03,\n",
       "       1.65604567e-03, 1.49894902e-03, 1.35666353e-03, 1.22789398e-03,\n",
       "       1.11128297e-03, 1.00576843e-03, 9.10226954e-04, 8.23771697e-04,\n",
       "       7.45455211e-04, 6.74626499e-04, 6.10514835e-04, 5.52467944e-04,\n",
       "       4.99952002e-04, 4.52432781e-04, 4.09375789e-04, 3.70484311e-04,\n",
       "       3.35223274e-04, 3.03355162e-04, 2.74523190e-04, 2.48370430e-04,\n",
       "       2.24778167e-04, 2.03389267e-04, 1.84025266e-04, 1.66507642e-04,\n",
       "       1.50657841e-04, 1.36356830e-04, 1.23366393e-04, 1.11627036e-04,\n",
       "       1.01019665e-04, 9.14251650e-05, 8.27244003e-05, 7.48578314e-05,\n",
       "       6.77062926e-05, 6.12698204e-05, 5.54292455e-05, 5.01845934e-05,\n",
       "       4.54166766e-05], dtype=float32)>"
      ]
     },
     "execution_count": 71,
     "metadata": {},
     "output_type": "execute_result"
    }
   ],
   "source": [
    "\n",
    "with tf.GradientTape() as tape:\n",
    "    tape.watch(x)\n",
    "    y = tf.nn.sigmoid(x)\n",
    "\n",
    "dy_dx = tape.gradient(y, x)\n",
    "dy_dx"
   ]
  },
  {
   "cell_type": "code",
   "execution_count": 72,
   "metadata": {},
   "outputs": [
    {
     "data": {
      "image/png": "[encoded data removed]",
      "text/plain": [
       "<Figure size 900x600 with 1 Axes>"
      ]
     },
     "metadata": {},
     "output_type": "display_data"
    }
   ],
   "source": [
    "plt.plot(x, y, label='y')\n",
    "plt.plot(x, dy_dx, label='dy/dx')\n",
    "plt.legend()\n",
    "_ = plt.xlabel('x')"
   ]
  },
  {
   "cell_type": "code",
   "execution_count": 73,
   "metadata": {},
   "outputs": [
    {
     "name": "stdout",
     "output_type": "stream",
     "text": [
      "tf.Tensor(1.0, shape=(), dtype=float32)\n",
      "None\n",
      "None\n"
     ]
    }
   ],
   "source": [
    "x = tf.constant(3.0)\n",
    "\n",
    "v0 = tf.Variable(2.0)\n",
    "v1 = tf.Variable(2.0)\n",
    "\n",
    "with tf.GradientTape(persistent=True) as tape:\n",
    "    tape.watch(x)\n",
    "    if x > 0.0:\n",
    "        result = v0 \n",
    "    else: \n",
    "        result = v1**2 *x\n",
    "\n",
    "dv0, dv1,dvx = tape.gradient(result, [v0, v1,x])\n",
    "\n",
    "print(dv0)\n",
    "print(dv1)\n",
    "print(dvx)\n"
   ]
  },
  {
   "cell_type": "code",
   "execution_count": 74,
   "metadata": {},
   "outputs": [
    {
     "name": "stdout",
     "output_type": "stream",
     "text": [
      "ResourceVariable : tf.Tensor(1.0, shape=(), dtype=float32)\n",
      "EagerTensor : None\n"
     ]
    }
   ],
   "source": [
    "x = tf.Variable(2.0)\n",
    "\n",
    "for epoch in range(2):\n",
    "  with tf.GradientTape() as tape:\n",
    "    y = x+1\n",
    "\n",
    "  print(type(x).__name__, \":\", tape.gradient(y, x))\n",
    "  x = x + 1   # This should be `x.assign_add(1)`"
   ]
  },
  {
   "cell_type": "code",
   "execution_count": 75,
   "metadata": {},
   "outputs": [
    {
     "name": "stdout",
     "output_type": "stream",
     "text": [
      "tf.Tensor(\n",
      "[[0.5 1. ]\n",
      " [1.5 2. ]], shape=(2, 2), dtype=float32)\n"
     ]
    }
   ],
   "source": [
    "x = tf.Variable([[1.0, 2.0],\n",
    "                 [3.0, 4.0]], dtype=tf.float32)\n",
    "\n",
    "with tf.GradientTape() as tape:\n",
    "  x2 = x**2\n",
    "\n",
    "  # This step is calculated with NumPy\n",
    "  y = tf.reduce_mean(x2, axis=0)\n",
    "\n",
    "  # Like most ops, reduce_mean will cast the NumPy array to a constant tensor\n",
    "  # using `tf.convert_to_tensor`.\n",
    "  y = tf.reduce_mean(y, axis=0)\n",
    "\n",
    "print(tape.gradient(y, x))"
   ]
  },
  {
   "cell_type": "code",
   "execution_count": 76,
   "metadata": {},
   "outputs": [
    {
     "data": {
      "text/plain": [
       "array([ 5., 10.], dtype=float32)"
      ]
     },
     "execution_count": 76,
     "metadata": {},
     "output_type": "execute_result"
    }
   ],
   "source": [
    "np.mean(x2, axis=0)"
   ]
  },
  {
   "cell_type": "code",
   "execution_count": 77,
   "metadata": {},
   "outputs": [
    {
     "data": {
      "text/plain": [
       "<tf.Tensor: shape=(), dtype=float32, numpy=7.5>"
      ]
     },
     "execution_count": 77,
     "metadata": {},
     "output_type": "execute_result"
    }
   ],
   "source": [
    "tf.reduce_mean(np.mean(x2, axis=0), axis=0)"
   ]
  },
  {
   "cell_type": "code",
   "execution_count": 78,
   "metadata": {},
   "outputs": [
    {
     "data": {
      "text/plain": [
       "<tf.Tensor: shape=(2, 2), dtype=float32, numpy=\n",
       "array([[ 1.,  4.],\n",
       "       [ 9., 16.]], dtype=float32)>"
      ]
     },
     "execution_count": 78,
     "metadata": {},
     "output_type": "execute_result"
    }
   ],
   "source": [
    "x**2"
   ]
  },
  {
   "cell_type": "code",
   "execution_count": 79,
   "metadata": {},
   "outputs": [
    {
     "data": {
      "text/plain": [
       "<tf.Variable 'Variable:0' shape=(2,) dtype=float32, numpy=array([0., 0.], dtype=float32)>"
      ]
     },
     "execution_count": 79,
     "metadata": {},
     "output_type": "execute_result"
    }
   ],
   "source": [
    "a"
   ]
  },
  {
   "cell_type": "code",
   "execution_count": 80,
   "metadata": {},
   "outputs": [
    {
     "data": {
      "text/plain": [
       "<tf.Tensor: shape=(2, 2), dtype=float32, numpy=\n",
       "array([[1., 2.],\n",
       "       [3., 4.]], dtype=float32)>"
      ]
     },
     "execution_count": 80,
     "metadata": {},
     "output_type": "execute_result"
    }
   ],
   "source": [
    "x+a"
   ]
  },
  {
   "cell_type": "code",
   "execution_count": 81,
   "metadata": {},
   "outputs": [
    {
     "name": "stdout",
     "output_type": "stream",
     "text": [
      "tf.Tensor(28.0, shape=(), dtype=float32)\n",
      "(<tf.Variable 'Variable:0' shape=() dtype=float32, numpy=5.0>, <tf.Variable 'Variable:0' shape=() dtype=float32, numpy=1.0>)\n"
     ]
    }
   ],
   "source": [
    "x0 = tf.Variable(5.0)\n",
    "x1 = tf.Variable(1.0)\n",
    "\n",
    "with tf.GradientTape() as tape:\n",
    "    x3 = x1+x0+x1\n",
    "#   x1.assign_add(x0)\n",
    "  # The tape starts recording from x1.\n",
    "    y = x3**2   # y = (x1 + x0)**2\n",
    "\n",
    "# This doesn't work.\n",
    "print(tape.gradient(y, x1))   #dy/dx0 = 2*(x1 + x0)\n",
    "print(tape.watched_variables())"
   ]
  },
  {
   "cell_type": "code",
   "execution_count": 82,
   "metadata": {},
   "outputs": [],
   "source": [
    "class TestTFModule(tf.Module):\n",
    "    def __init__(self, name):\n",
    "        super().__init__(name=name)\n",
    "        self.v0 = tf.Variable(1.0)\n",
    "        self.v1 = tf.Variable(1.0, trainable=False)\n",
    "    \n",
    "    \n",
    "    def __call__(self, x):\n",
    "        return self.v0 * x + self.v1"
   ]
  },
  {
   "cell_type": "code",
   "execution_count": 83,
   "metadata": {},
   "outputs": [
    {
     "data": {
      "text/plain": [
       "<tf.Tensor: shape=(9,), dtype=float32, numpy=array([ 2.,  3.,  4.,  5.,  6.,  7.,  8.,  9., 10.], dtype=float32)>"
      ]
     },
     "execution_count": 83,
     "metadata": {},
     "output_type": "execute_result"
    }
   ],
   "source": [
    "m = TestTFModule('G')\n",
    "m(tf.Variable(np.arange(1,10).astype(np.float32)))\n",
    "\n"
   ]
  },
  {
   "cell_type": "code",
   "execution_count": 84,
   "metadata": {},
   "outputs": [
    {
     "name": "stdout",
     "output_type": "stream",
     "text": [
      "(<tf.Variable 'Variable:0' shape=() dtype=float32, numpy=1.0>,)\n",
      "(<tf.Variable 'Variable:0' shape=() dtype=float32, numpy=1.0>, <tf.Variable 'Variable:0' shape=() dtype=float32, numpy=1.0>)\n"
     ]
    }
   ],
   "source": [
    "print(m.trainable_variables)\n",
    "print(m.variables)"
   ]
  },
  {
   "cell_type": "code",
   "execution_count": 110,
   "metadata": {},
   "outputs": [],
   "source": [
    "class DenseLayer(tf.Module): \n",
    "    def __init__(self, out_dim, name):\n",
    "        super().__init__(name=name)\n",
    "        self.is_initialized = False\n",
    "        self._out_dim = out_dim\n",
    "        \n",
    "    def __call__(self, x):\n",
    "        if not self.is_initialized:\n",
    "            self.W = tf.Variable(tf.random.normal((x.shape[-1], self._out_dim)), name=f'{self.name}_' + 'W')\n",
    "            self.b = tf.Variable(tf.zeros((self._out_dim,)), name=f'{self.name}_'+'b')\n",
    "            self.is_initialized = True     \n",
    "        lin_res = tf.matmul(x, self.W) + self.b\n",
    "        relu_activated = tf.nn.relu(lin_res)\n",
    "        return relu_activated\n",
    "        "
   ]
  },
  {
   "cell_type": "code",
   "execution_count": 111,
   "metadata": {},
   "outputs": [],
   "source": [
    "from typing import Any\n",
    "\n",
    "class SequentialLayer(tf.Module):\n",
    "    def __init__(self, name=None, layers:list[DenseLayer]|None=None):\n",
    "        super().__init__(name=name)\n",
    "        self.layers = layers if layers is not None else []\n",
    "    \n",
    "    def __call__(self, x):\n",
    "        for layer in self.layers:\n",
    "            x = layer(x)\n",
    "        return x\n",
    "        "
   ]
  },
  {
   "cell_type": "code",
   "execution_count": 133,
   "metadata": {},
   "outputs": [
    {
     "name": "stdout",
     "output_type": "stream",
     "text": [
      "tf.Tensor(\n",
      "[[ 0.3123532   0.36518288  0.7278571 ]\n",
      " [-0.6753013   1.3298657  -0.97459507]], shape=(2, 3), dtype=float32)\n",
      "seq(x) tf.Tensor(\n",
      "[[0.]\n",
      " [0.]], shape=(2, 1), dtype=float32)\n"
     ]
    },
    {
     "data": {
      "text/plain": [
       "(<tf.Tensor: shape=(3, 3), dtype=float32, numpy=\n",
       " array([[0., 0., 0.],\n",
       "        [0., 0., 0.],\n",
       "        [0., 0., 0.]], dtype=float32)>,\n",
       " <tf.Tensor: shape=(3,), dtype=float32, numpy=array([0., 0., 0.], dtype=float32)>,\n",
       " <tf.Tensor: shape=(3, 1), dtype=float32, numpy=\n",
       " array([[0.],\n",
       "        [0.],\n",
       "        [0.]], dtype=float32)>,\n",
       " <tf.Tensor: shape=(1,), dtype=float32, numpy=array([0.], dtype=float32)>)"
      ]
     },
     "execution_count": 133,
     "metadata": {},
     "output_type": "execute_result"
    }
   ],
   "source": [
    "seq = SequentialLayer(layers=[DenseLayer(3, 'L1'), DenseLayer(1, 'L2')])\n",
    "x = tf.random.normal((2,3), seed=69)\n",
    "print(x)\n",
    "with tf.GradientTape() as tape:\n",
    "    y = seq(x)\n",
    "    \n",
    "print('seq(x)',seq(x), end='\\n')\n",
    "tape.gradient(y, seq.trainable_variables)"
   ]
  },
  {
   "cell_type": "code",
   "execution_count": 137,
   "metadata": {},
   "outputs": [
    {
     "data": {
      "text/plain": [
       "(<tf.Variable 'L1_W:0' shape=(3, 3) dtype=float32, numpy=\n",
       " array([[ 1.221811  , -1.2626694 ,  0.51721454],\n",
       "        [-0.09649384, -0.45591587, -0.37499148],\n",
       "        [-0.8518625 ,  0.79417574,  0.36546147]], dtype=float32)>,\n",
       " <tf.Variable 'L1_b:0' shape=(3,) dtype=float32, numpy=array([0., 0., 0.], dtype=float32)>,\n",
       " <tf.Variable 'L2_W:0' shape=(3, 1) dtype=float32, numpy=\n",
       " array([[ 0.39101645],\n",
       "        [ 0.7269956 ],\n",
       "        [-0.01815502]], dtype=float32)>,\n",
       " <tf.Variable 'L2_b:0' shape=(1,) dtype=float32, numpy=array([0.], dtype=float32)>)"
      ]
     },
     "execution_count": 137,
     "metadata": {},
     "output_type": "execute_result"
    }
   ],
   "source": [
    "seq.trainable_variables"
   ]
  },
  {
   "cell_type": "code",
   "execution_count": 121,
   "metadata": {},
   "outputs": [
    {
     "data": {
      "text/plain": [
       "'my_checkpoint'"
      ]
     },
     "execution_count": 121,
     "metadata": {},
     "output_type": "execute_result"
    }
   ],
   "source": [
    "# chkp_path = \"my_checkpoint\"\n",
    "# checkpoint = tf.train.Checkpoint(model=seq)\n",
    "# checkpoint.write(chkp_path)"
   ]
  },
  {
   "cell_type": "code",
   "execution_count": 122,
   "metadata": {},
   "outputs": [
    {
     "data": {
      "text/plain": [
       "[('_CHECKPOINTABLE_OBJECT_GRAPH', []),\n",
       " ('model/layers/0/W/.ATTRIBUTES/VARIABLE_VALUE', [3, 3]),\n",
       " ('model/layers/0/b/.ATTRIBUTES/VARIABLE_VALUE', [3]),\n",
       " ('model/layers/1/W/.ATTRIBUTES/VARIABLE_VALUE', [3, 1]),\n",
       " ('model/layers/1/b/.ATTRIBUTES/VARIABLE_VALUE', [1])]"
      ]
     },
     "execution_count": 122,
     "metadata": {},
     "output_type": "execute_result"
    }
   ],
   "source": [
    "# tf.train.list_variables(chkp_path)"
   ]
  },
  {
   "cell_type": "code",
   "execution_count": 135,
   "metadata": {},
   "outputs": [
    {
     "data": {
      "text/plain": [
       "<tensorflow.python.checkpoint.checkpoint.CheckpointLoadStatus at 0x18fb475b820>"
      ]
     },
     "execution_count": 135,
     "metadata": {},
     "output_type": "execute_result"
    }
   ],
   "source": [
    "checkpoint = tf.train.Checkpoint(model=seq)\n",
    "checkpoint.restore('my_checkpoint')"
   ]
  },
  {
   "cell_type": "code",
   "execution_count": 136,
   "metadata": {},
   "outputs": [
    {
     "data": {
      "text/plain": [
       "(<tf.Variable 'L1_W:0' shape=(3, 3) dtype=float32, numpy=\n",
       " array([[ 1.221811  , -1.2626694 ,  0.51721454],\n",
       "        [-0.09649384, -0.45591587, -0.37499148],\n",
       "        [-0.8518625 ,  0.79417574,  0.36546147]], dtype=float32)>,\n",
       " <tf.Variable 'L1_b:0' shape=(3,) dtype=float32, numpy=array([0., 0., 0.], dtype=float32)>,\n",
       " <tf.Variable 'L2_W:0' shape=(3, 1) dtype=float32, numpy=\n",
       " array([[ 0.39101645],\n",
       "        [ 0.7269956 ],\n",
       "        [-0.01815502]], dtype=float32)>,\n",
       " <tf.Variable 'L2_b:0' shape=(1,) dtype=float32, numpy=array([0.], dtype=float32)>)"
      ]
     },
     "execution_count": 136,
     "metadata": {},
     "output_type": "execute_result"
    }
   ],
   "source": [
    "seq.variables"
   ]
  },
  {
   "cell_type": "code",
   "execution_count": 138,
   "metadata": {},
   "outputs": [
    {
     "name": "stdout",
     "output_type": "stream",
     "text": [
      "INFO:tensorflow:Assets written to: my_model\\assets\n"
     ]
    }
   ],
   "source": [
    "tf.saved_model.save(seq, 'my_model')"
   ]
  },
  {
   "cell_type": "code",
   "execution_count": 139,
   "metadata": {},
   "outputs": [
    {
     "data": {
      "text/plain": [
       "(<__main__.DenseLayer at 0x18fb69e0be0>,\n",
       " <__main__.DenseLayer at 0x18fb69e0880>)"
      ]
     },
     "execution_count": 139,
     "metadata": {},
     "output_type": "execute_result"
    }
   ],
   "source": [
    "seq.submodules"
   ]
  },
  {
   "cell_type": "code",
   "execution_count": 150,
   "metadata": {},
   "outputs": [],
   "source": [
    "class KerasGDense(tf.keras.layers.Layer):\n",
    "    def __init__(self, out_dim, name):\n",
    "        super().__init__(name=name)\n",
    "        self._out_dim = out_dim\n",
    "        \n",
    "    def build(self, input_shape):\n",
    "        self.W = self.add_weight(shape=(input_shape[-1], self._out_dim), \n",
    "                                 initializer='random_normal', \n",
    "                                 trainable=True, name=f'{self.name}_' + 'W')\n",
    "        self.b = self.add_weight(shape=(self._out_dim,), \n",
    "                                 initializer='zeros', \n",
    "                                 trainable=True, name=f'{self.name}_' + 'b')\n",
    "        \n",
    "    def call(self, inputs: tf.Tensor, *args, **kwargs):\n",
    "        lin_res = tf.matmul(inputs, self.W) + self.b\n",
    "        relu_activated = tf.nn.relu(lin_res)\n",
    "        return relu_activated"
   ]
  },
  {
   "cell_type": "code",
   "execution_count": 151,
   "metadata": {},
   "outputs": [],
   "source": [
    "class KerasGSeqModel(tf.keras.models.Model):\n",
    "    def __init__(self, name=None, layers:list[KerasGDense]|None=None):\n",
    "        super().__init__(name=name)\n",
    "        self._layers = layers if layers is not None else []\n",
    "    \n",
    "    def call(self, inputs, *args, **kwargs):\n",
    "        for layer in self._layers:\n",
    "            inputs = layer(inputs)\n",
    "        return inputs"
   ]
  },
  {
   "cell_type": "code",
   "execution_count": 156,
   "metadata": {},
   "outputs": [
    {
     "name": "stdout",
     "output_type": "stream",
     "text": [
      "seqG(x) tf.Tensor(\n",
      "[[0.00037352]\n",
      " [0.        ]], shape=(2, 1), dtype=float32)\n",
      "grads [<tf.Tensor: shape=(3, 3), dtype=float32, numpy=\n",
      "array([[ 0.        , -0.01657092,  0.02018532],\n",
      "       [ 0.        , -0.01937363,  0.02359935],\n",
      "       [ 0.        , -0.03861418,  0.04703659]], dtype=float32)>, <tf.Tensor: shape=(3,), dtype=float32, numpy=array([ 0.        , -0.05305187,  0.06462339], dtype=float32)>, <tf.Tensor: shape=(3, 1), dtype=float32, numpy=\n",
      "array([[0.        ],\n",
      "       [0.00438328],\n",
      "       [0.00937829]], dtype=float32)>, <tf.Tensor: shape=(1,), dtype=float32, numpy=array([1.], dtype=float32)>]\n"
     ]
    }
   ],
   "source": [
    "seqG = KerasGSeqModel(layers=[KerasGDense(3, 'L1'), KerasGDense(1, 'L2')])\n",
    "with tf.GradientTape() as tape:\n",
    "    y = seqG(x)\n",
    "grads = tape.gradient(y, seqG.trainable_variables)\n",
    "print('seqG(x)',seqG(x), end='\\n')\n",
    "print('grads',grads, end='\\n')\n"
   ]
  },
  {
   "cell_type": "code",
   "execution_count": 154,
   "metadata": {},
   "outputs": [
    {
     "data": {
      "text/plain": [
       "[<tf.Variable 'keras_g_seq_model_3/L1/L1_W:0' shape=(3, 3) dtype=float32, numpy=\n",
       " array([[-0.06796854, -0.04784372,  0.04806585],\n",
       "        [-0.01440478, -0.00833392, -0.02262582],\n",
       "        [-0.1038169 ,  0.03195078, -0.004641  ]], dtype=float32)>,\n",
       " <tf.Variable 'keras_g_seq_model_3/L1/L1_b:0' shape=(3,) dtype=float32, numpy=array([0., 0., 0.], dtype=float32)>,\n",
       " <tf.Variable 'keras_g_seq_model_3/L2/L2_W:0' shape=(3, 1) dtype=float32, numpy=\n",
       " array([[-0.01346019],\n",
       "        [-0.05445735],\n",
       "        [ 0.05599511]], dtype=float32)>,\n",
       " <tf.Variable 'keras_g_seq_model_3/L2/L2_b:0' shape=(1,) dtype=float32, numpy=array([0.], dtype=float32)>]"
      ]
     },
     "execution_count": 154,
     "metadata": {},
     "output_type": "execute_result"
    }
   ],
   "source": [
    "seqG.variables"
   ]
  },
  {
   "cell_type": "code",
   "execution_count": 155,
   "metadata": {},
   "outputs": [
    {
     "data": {
      "text/plain": [
       "(<__main__.KerasGDense at 0x18fb9d68a60>,\n",
       " <__main__.KerasGDense at 0x18fb9d6bc70>)"
      ]
     },
     "execution_count": 155,
     "metadata": {},
     "output_type": "execute_result"
    }
   ],
   "source": [
    "seqG.submodules"
   ]
  },
  {
   "cell_type": "code",
   "execution_count": 157,
   "metadata": {},
   "outputs": [],
   "source": [
    "import matplotlib.pyplot as plt\n",
    "\n",
    "colors = plt.rcParams['axes.prop_cycle'].by_key()['color']"
   ]
  },
  {
   "cell_type": "code",
   "execution_count": 161,
   "metadata": {},
   "outputs": [
    {
     "data": {
      "text/plain": [
       "<tf.Tensor: shape=(5, 1), dtype=float32, numpy=\n",
       "array([[0. ],\n",
       "       [0.5],\n",
       "       [1. ],\n",
       "       [1.5],\n",
       "       [2. ]], dtype=float32)>"
      ]
     },
     "execution_count": 161,
     "metadata": {},
     "output_type": "execute_result"
    }
   ],
   "source": [
    "tf.linspace([0.0], [2.0], 5, axis=0)"
   ]
  },
  {
   "cell_type": "code",
   "execution_count": 162,
   "metadata": {},
   "outputs": [
    {
     "name": "stdout",
     "output_type": "stream",
     "text": [
      "Model: \"keras_g_seq_model_4\"\n",
      "_________________________________________________________________\n",
      " Layer (type)                Output Shape              Param #   \n",
      "=================================================================\n",
      " L1 (KerasGDense)            multiple                  12        \n",
      "                                                                 \n",
      " L2 (KerasGDense)            multiple                  4         \n",
      "                                                                 \n",
      "=================================================================\n",
      "Total params: 16 (64.00 Byte)\n",
      "Trainable params: 16 (64.00 Byte)\n",
      "Non-trainable params: 0 (0.00 Byte)\n",
      "_________________________________________________________________\n"
     ]
    }
   ],
   "source": [
    "seqG.summary()"
   ]
  },
  {
   "cell_type": "code",
   "execution_count": null,
   "metadata": {},
   "outputs": [],
   "source": []
  }
 ],
 "metadata": {
  "kernelspec": {
   "display_name": ".venv",
   "language": "python",
   "name": "python3"
  },
  "language_info": {
   "codemirror_mode": {
    "name": "ipython",
    "version": 3
   },
   "file_extension": ".py",
   "mimetype": "text/x-python",
   "name": "python",
   "nbconvert_exporter": "python",
   "pygments_lexer": "ipython3",
   "version": "3.10.11"
  }
 },
 "nbformat": 4,
 "nbformat_minor": 2
}
