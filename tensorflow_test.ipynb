{
 "cells": [
  {
   "cell_type": "code",
   "execution_count": 14,
   "metadata": {},
   "outputs": [],
   "source": [
    "import tensorflow as tf\n"
   ]
  },
  {
   "cell_type": "code",
   "execution_count": 6,
   "metadata": {},
   "outputs": [],
   "source": [
    "import numpy as np"
   ]
  },
  {
   "cell_type": "code",
   "execution_count": 7,
   "metadata": {},
   "outputs": [
    {
     "data": {
      "text/plain": [
       "array([[[0],\n",
       "        [1],\n",
       "        [2]],\n",
       "\n",
       "       [[3],\n",
       "        [4],\n",
       "        [5]],\n",
       "\n",
       "       [[6],\n",
       "        [7],\n",
       "        [8]]])"
      ]
     },
     "execution_count": 7,
     "metadata": {},
     "output_type": "execute_result"
    }
   ],
   "source": [
    "arr = np.arange(9).reshape(3,3,1)\n",
    "arr"
   ]
  },
  {
   "cell_type": "code",
   "execution_count": 8,
   "metadata": {},
   "outputs": [
    {
     "data": {
      "text/plain": [
       "<tf.Tensor: shape=(3, 3, 1), dtype=int32, numpy=\n",
       "array([[[0],\n",
       "        [1],\n",
       "        [2]],\n",
       "\n",
       "       [[3],\n",
       "        [4],\n",
       "        [5]],\n",
       "\n",
       "       [[6],\n",
       "        [7],\n",
       "        [8]]])>"
      ]
     },
     "execution_count": 8,
     "metadata": {},
     "output_type": "execute_result"
    }
   ],
   "source": [
    "x = tf.constant(arr)\n",
    "x"
   ]
  },
  {
   "cell_type": "code",
   "execution_count": 9,
   "metadata": {},
   "outputs": [
    {
     "data": {
      "text/plain": [
       "<tf.Tensor: shape=(3, 3, 1), dtype=int32, numpy=\n",
       "array([[[ 0],\n",
       "        [ 2],\n",
       "        [ 4]],\n",
       "\n",
       "       [[ 6],\n",
       "        [ 8],\n",
       "        [10]],\n",
       "\n",
       "       [[12],\n",
       "        [14],\n",
       "        [16]]])>"
      ]
     },
     "execution_count": 9,
     "metadata": {},
     "output_type": "execute_result"
    }
   ],
   "source": [
    "x+x"
   ]
  },
  {
   "cell_type": "code",
   "execution_count": 10,
   "metadata": {},
   "outputs": [
    {
     "data": {
      "text/plain": [
       "<tf.Tensor: shape=(3, 3, 1), dtype=int32, numpy=\n",
       "array([[[ 0],\n",
       "        [ 5],\n",
       "        [10]],\n",
       "\n",
       "       [[15],\n",
       "        [20],\n",
       "        [25]],\n",
       "\n",
       "       [[30],\n",
       "        [35],\n",
       "        [40]]])>"
      ]
     },
     "execution_count": 10,
     "metadata": {},
     "output_type": "execute_result"
    }
   ],
   "source": [
    "x*5"
   ]
  },
  {
   "cell_type": "code",
   "execution_count": 11,
   "metadata": {},
   "outputs": [
    {
     "data": {
      "text/plain": [
       "<tf.Tensor: shape=(3, 3, 1), dtype=int32, numpy=\n",
       "array([[[ 0],\n",
       "        [ 5],\n",
       "        [10]],\n",
       "\n",
       "       [[15],\n",
       "        [20],\n",
       "        [25]],\n",
       "\n",
       "       [[30],\n",
       "        [35],\n",
       "        [40]]])>"
      ]
     },
     "execution_count": 11,
     "metadata": {},
     "output_type": "execute_result"
    }
   ],
   "source": [
    "5*x"
   ]
  },
  {
   "cell_type": "code",
   "execution_count": 12,
   "metadata": {},
   "outputs": [
    {
     "data": {
      "text/plain": [
       "<tf.Tensor: shape=(1, 3, 3), dtype=int32, numpy=\n",
       "array([[[0, 3, 6],\n",
       "        [1, 4, 7],\n",
       "        [2, 5, 8]]])>"
      ]
     },
     "execution_count": 12,
     "metadata": {},
     "output_type": "execute_result"
    }
   ],
   "source": [
    "tf.transpose(x)"
   ]
  },
  {
   "cell_type": "code",
   "execution_count": 15,
   "metadata": {},
   "outputs": [
    {
     "data": {
      "text/plain": [
       "<tf.Tensor: shape=(3, 3, 2), dtype=int32, numpy=\n",
       "array([[[0, 0],\n",
       "        [1, 1],\n",
       "        [2, 2]],\n",
       "\n",
       "       [[3, 3],\n",
       "        [4, 4],\n",
       "        [5, 5]],\n",
       "\n",
       "       [[6, 6],\n",
       "        [7, 7],\n",
       "        [8, 8]]])>"
      ]
     },
     "execution_count": 15,
     "metadata": {},
     "output_type": "execute_result"
    }
   ],
   "source": [
    "tf.concat([x,x], axis=2)"
   ]
  },
  {
   "cell_type": "code",
   "execution_count": 16,
   "metadata": {},
   "outputs": [
    {
     "data": {
      "text/plain": [
       "<tf.Tensor: shape=(3,), dtype=int32, numpy=array([1, 4, 7])>"
      ]
     },
     "execution_count": 16,
     "metadata": {},
     "output_type": "execute_result"
    }
   ],
   "source": [
    "x[:,1,0]"
   ]
  },
  {
   "cell_type": "code",
   "execution_count": 17,
   "metadata": {},
   "outputs": [
    {
     "data": {
      "text/plain": [
       "<tf.Tensor: shape=(3,), dtype=float32, numpy=array([1., 4., 7.], dtype=float32)>"
      ]
     },
     "execution_count": 17,
     "metadata": {},
     "output_type": "execute_result"
    }
   ],
   "source": [
    "reshaped_tensor = tf.squeeze(x[:,1,0])\n",
    "reshaped_tensor = tf.cast(reshaped_tensor, dtype=tf.float32)\n",
    "reshaped_tensor\n"
   ]
  },
  {
   "cell_type": "code",
   "execution_count": 18,
   "metadata": {},
   "outputs": [
    {
     "data": {
      "text/plain": [
       "<tf.Tensor: shape=(3,), dtype=float32, numpy=array([0.00235563, 0.04731416, 0.95033026], dtype=float32)>"
      ]
     },
     "execution_count": 18,
     "metadata": {},
     "output_type": "execute_result"
    }
   ],
   "source": [
    "tf.nn.softmax(reshaped_tensor)"
   ]
  },
  {
   "cell_type": "code",
   "execution_count": 20,
   "metadata": {},
   "outputs": [
    {
     "data": {
      "text/plain": [
       "36"
      ]
     },
     "execution_count": 20,
     "metadata": {},
     "output_type": "execute_result"
    }
   ],
   "source": [
    "np.sum(np.arange(9))"
   ]
  },
  {
   "cell_type": "code",
   "execution_count": 21,
   "metadata": {},
   "outputs": [
    {
     "name": "stdout",
     "output_type": "stream",
     "text": [
      "TensorFlow **IS NOT** using the GPU\n"
     ]
    }
   ],
   "source": [
    "if tf.config.list_physical_devices('GPU'):\n",
    "  print(\"TensorFlow **IS** using the GPU\")\n",
    "else:\n",
    "  print(\"TensorFlow **IS NOT** using the GPU\")"
   ]
  },
  {
   "cell_type": "code",
   "execution_count": 22,
   "metadata": {},
   "outputs": [
    {
     "data": {
      "text/plain": [
       "tensorflow.python.framework.ops.EagerTensor"
      ]
     },
     "execution_count": 22,
     "metadata": {},
     "output_type": "execute_result"
    }
   ],
   "source": [
    "type(x)\n"
   ]
  },
  {
   "cell_type": "code",
   "execution_count": 23,
   "metadata": {},
   "outputs": [],
   "source": [
    "v = tf.Variable([1,2,3,3,3,3])"
   ]
  },
  {
   "cell_type": "code",
   "execution_count": 24,
   "metadata": {},
   "outputs": [
    {
     "data": {
      "text/plain": [
       "<tf.Variable 'UnreadVariable' shape=(6,) dtype=int32, numpy=array([1, 2, 3, 4, 5, 6])>"
      ]
     },
     "execution_count": 24,
     "metadata": {},
     "output_type": "execute_result"
    }
   ],
   "source": [
    "v.assign([1,2,3,4,5,6])"
   ]
  },
  {
   "cell_type": "code",
   "execution_count": 25,
   "metadata": {},
   "outputs": [
    {
     "data": {
      "text/plain": [
       "<tf.Variable 'Variable:0' shape=(6,) dtype=int32, numpy=array([1, 2, 3, 4, 5, 6])>"
      ]
     },
     "execution_count": 25,
     "metadata": {},
     "output_type": "execute_result"
    }
   ],
   "source": [
    "v"
   ]
  },
  {
   "cell_type": "code",
   "execution_count": 26,
   "metadata": {},
   "outputs": [
    {
     "data": {
      "text/plain": [
       "<tf.Variable 'UnreadVariable' shape=(6,) dtype=int32, numpy=array([0, 1, 2, 3, 4, 5])>"
      ]
     },
     "execution_count": 26,
     "metadata": {},
     "output_type": "execute_result"
    }
   ],
   "source": [
    "v.assign_sub([1,1,1,1,1,1])"
   ]
  },
  {
   "cell_type": "code",
   "execution_count": 27,
   "metadata": {},
   "outputs": [
    {
     "data": {
      "text/plain": [
       "<tf.Tensor: shape=(6,), dtype=int32, numpy=array([-1,  0,  1,  2,  3,  4])>"
      ]
     },
     "execution_count": 27,
     "metadata": {},
     "output_type": "execute_result"
    }
   ],
   "source": [
    "v - 1"
   ]
  },
  {
   "cell_type": "code",
   "execution_count": 28,
   "metadata": {},
   "outputs": [
    {
     "data": {
      "text/plain": [
       "<tf.Variable 'Variable:0' shape=(6,) dtype=int32, numpy=array([0, 1, 2, 3, 4, 5])>"
      ]
     },
     "execution_count": 28,
     "metadata": {},
     "output_type": "execute_result"
    }
   ],
   "source": [
    "v"
   ]
  },
  {
   "cell_type": "code",
   "execution_count": 29,
   "metadata": {},
   "outputs": [
    {
     "data": {
      "text/plain": [
       "<tf.Tensor: shape=(6,), dtype=int32, numpy=array([ 1,  5, 11, 19, 29, 41])>"
      ]
     },
     "execution_count": 29,
     "metadata": {},
     "output_type": "execute_result"
    }
   ],
   "source": [
    "y = v + 1 + 2*v + v**2\n",
    "y"
   ]
  },
  {
   "cell_type": "code",
   "execution_count": 30,
   "metadata": {},
   "outputs": [
    {
     "name": "stdout",
     "output_type": "stream",
     "text": [
      "tf.Tensor([5.4 7.  9.  9.  9.  9. ], shape=(6,), dtype=float32)\n"
     ]
    }
   ],
   "source": [
    "v = tf.Variable([1.2,2,3,3,3,3])\n",
    "# v = tf.cast(v, dtype=tf.float32)\n",
    "with tf.GradientTape() as tape:\n",
    "    z = v + 1 + 2*v + v**2\n",
    "dz_dv = tape.gradient(z, v)\n",
    "print(dz_dv)"
   ]
  },
  {
   "cell_type": "code",
   "execution_count": 31,
   "metadata": {},
   "outputs": [
    {
     "data": {
      "text/plain": [
       "<tf.Tensor: shape=(), dtype=float32, numpy=4.0>"
      ]
     },
     "execution_count": 31,
     "metadata": {},
     "output_type": "execute_result"
    }
   ],
   "source": [
    "x = tf.Variable(1.0)\n",
    "\n",
    "def f(x):\n",
    "    y = x**2 + 2*x - 5\n",
    "    return y\n",
    "with tf.GradientTape() as tape:\n",
    "    y = f(x)\n",
    "\n",
    "g_x = tape.gradient(y, x)  # g(x) = dy/dx\n",
    "\n",
    "g_x"
   ]
  },
  {
   "cell_type": "code",
   "execution_count": 32,
   "metadata": {},
   "outputs": [],
   "source": [
    "@tf.function\n",
    "def my_func(x):\n",
    "    print('Tracing.\\n')\n",
    "    return tf.reduce_sum(x)"
   ]
  },
  {
   "cell_type": "code",
   "execution_count": 33,
   "metadata": {},
   "outputs": [
    {
     "name": "stdout",
     "output_type": "stream",
     "text": [
      "Tracing.\n",
      "\n"
     ]
    },
    {
     "data": {
      "text/plain": [
       "<tf.Tensor: shape=(), dtype=int32, numpy=6>"
      ]
     },
     "execution_count": 33,
     "metadata": {},
     "output_type": "execute_result"
    }
   ],
   "source": [
    "x = tf.constant([1, 2, 3])\n",
    "my_func(x)"
   ]
  },
  {
   "cell_type": "code",
   "execution_count": 34,
   "metadata": {},
   "outputs": [
    {
     "name": "stdout",
     "output_type": "stream",
     "text": [
      "Tracing.\n",
      "\n"
     ]
    },
    {
     "data": {
      "text/plain": [
       "<tf.Tensor: shape=(), dtype=float32, numpy=27.3>"
      ]
     },
     "execution_count": 34,
     "metadata": {},
     "output_type": "execute_result"
    }
   ],
   "source": [
    "x = tf.constant([10.0, 9.1, 8.2], dtype=tf.float32)\n",
    "my_func(x)"
   ]
  },
  {
   "cell_type": "code",
   "execution_count": 35,
   "metadata": {},
   "outputs": [],
   "source": [
    "import matplotlib\n",
    "from matplotlib import pyplot as plt\n",
    "\n",
    "matplotlib.rcParams['figure.figsize'] = [9, 6]"
   ]
  },
  {
   "cell_type": "code",
   "execution_count": 36,
   "metadata": {},
   "outputs": [
    {
     "data": {
      "text/plain": [
       "[9.0, 6.0]"
      ]
     },
     "execution_count": 36,
     "metadata": {},
     "output_type": "execute_result"
    }
   ],
   "source": [
    "matplotlib.rcParams['figure.figsize']"
   ]
  },
  {
   "cell_type": "code",
   "execution_count": 37,
   "metadata": {},
   "outputs": [
    {
     "data": {
      "text/plain": [
       "array([[ 0.,  5.],\n",
       "       [10., 40.]], dtype=float32)"
      ]
     },
     "execution_count": 37,
     "metadata": {},
     "output_type": "execute_result"
    }
   ],
   "source": [
    "tf.constant([[0., 5.], [10., 40.]]).numpy()"
   ]
  },
  {
   "cell_type": "code",
   "execution_count": 38,
   "metadata": {},
   "outputs": [
    {
     "data": {
      "text/plain": [
       "<tf.Tensor: shape=(2, 3), dtype=float32, numpy=\n",
       "array([[ 0. ,  5. , 10. ],\n",
       "       [ 5. , 22.5, 40. ]], dtype=float32)>"
      ]
     },
     "execution_count": 38,
     "metadata": {},
     "output_type": "execute_result"
    }
   ],
   "source": [
    "tf.linspace([0., 5.], [10., 40.], 3, axis=1)"
   ]
  },
  {
   "cell_type": "code",
   "execution_count": 39,
   "metadata": {},
   "outputs": [
    {
     "data": {
      "text/plain": [
       "array([-0.53999645, -0.40971398,  1.2912939 ,  0.3756912 ,  1.2703466 ,\n",
       "        1.2018366 , -0.1253476 ,  1.5396154 ,  0.64013875,  0.8644688 ],\n",
       "      dtype=float32)"
      ]
     },
     "execution_count": 39,
     "metadata": {},
     "output_type": "execute_result"
    }
   ],
   "source": [
    "tf.transpose(tf.random.normal(shape=[10])).numpy()"
   ]
  },
  {
   "cell_type": "code",
   "execution_count": 40,
   "metadata": {},
   "outputs": [
    {
     "data": {
      "image/png": "[encoded data removed]",
      "text/plain": [
       "<Figure size 900x600 with 1 Axes>"
      ]
     },
     "metadata": {},
     "output_type": "display_data"
    }
   ],
   "source": [
    "x = tf.linspace(-2, 2, 201)\n",
    "x = tf.cast(x, tf.float32)\n",
    "\n",
    "def f(x):\n",
    "    y = x**2 + 2*x - 5\n",
    "    return y\n",
    "\n",
    "y = f(x) + tf.random.normal(shape=[201])\n",
    "\n",
    "plt.plot(x.numpy(), y.numpy(), '.', label='Data')\n",
    "plt.plot(x, f(x), label='Ground truth')\n",
    "plt.legend();"
   ]
  },
  {
   "cell_type": "code",
   "execution_count": 41,
   "metadata": {},
   "outputs": [
    {
     "data": {
      "text/plain": [
       "<tf.Tensor: shape=(3, 2, 4), dtype=float32, numpy=\n",
       "array([[[8.343498  , 9.240247  , 6.884856  , 3.6835456 ],\n",
       "        [5.094025  , 9.243534  , 6.711266  , 7.841281  ]],\n",
       "\n",
       "       [[5.789028  , 9.078823  , 0.73605895, 8.068071  ],\n",
       "        [0.46931148, 0.80753446, 8.944803  , 6.450554  ]],\n",
       "\n",
       "       [[3.9655006 , 9.422123  , 7.4107075 , 5.5619287 ],\n",
       "        [8.98131   , 6.066269  , 1.8558276 , 9.426723  ]]], dtype=float32)>"
      ]
     },
     "execution_count": 41,
     "metadata": {},
     "output_type": "execute_result"
    }
   ],
   "source": [
    "tf.random.uniform([3,2,4], 0, 10)"
   ]
  },
  {
   "cell_type": "code",
   "execution_count": 42,
   "metadata": {},
   "outputs": [],
   "source": [
    "class Model(tf.Module):\n",
    "    \n",
    "    def __init__(self):\n",
    "        random_init = tf.random.uniform([3], 0, 5, dtype=tf.float32, seed=69)\n",
    "        self.W_1 = tf.Variable(random_init[0], name='W_1')\n",
    "        self.W_2 = tf.Variable(random_init[1], name='W_2')\n",
    "        self.b = tf.Variable(random_init[2], name='b')\n",
    "        \n",
    "    def __call__(self, x):\n",
    "        return self.W_2 * x**2 + self.W_1 * x + self.b"
   ]
  },
  {
   "cell_type": "code",
   "execution_count": 43,
   "metadata": {},
   "outputs": [],
   "source": [
    "model = Model()"
   ]
  },
  {
   "cell_type": "code",
   "execution_count": 44,
   "metadata": {},
   "outputs": [],
   "source": [
    "def plot_preds(x, y, f, model, title):\n",
    "    plt.figure()\n",
    "    plt.plot(x, y, '.', label='Data')\n",
    "    plt.plot(x, f(x), label='Ground truth')\n",
    "    plt.plot(x, model(x), label='Predictions')\n",
    "    plt.title(title)\n",
    "    plt.legend()"
   ]
  },
  {
   "cell_type": "code",
   "execution_count": 45,
   "metadata": {},
   "outputs": [
    {
     "data": {
      "image/png": "[encoded data removed]",
      "text/plain": [
       "<Figure size 900x600 with 1 Axes>"
      ]
     },
     "metadata": {},
     "output_type": "display_data"
    }
   ],
   "source": [
    "plot_preds(x, y, f, model, 'Before training')"
   ]
  },
  {
   "cell_type": "code",
   "execution_count": 46,
   "metadata": {},
   "outputs": [],
   "source": [
    "def mse_loss(y_true, y_pred):\n",
    "    return tf.reduce_mean((y_true - y_pred)**2)"
   ]
  },
  {
   "cell_type": "code",
   "execution_count": 47,
   "metadata": {},
   "outputs": [
    {
     "data": {
      "text/plain": [
       "[(<tf.Tensor: shape=(), dtype=float32, numpy=-2.0>,\n",
       "  <tf.Tensor: shape=(), dtype=float32, numpy=-3.3836212>),\n",
       " (<tf.Tensor: shape=(), dtype=float32, numpy=-1.98>,\n",
       "  <tf.Tensor: shape=(), dtype=float32, numpy=-4.152987>),\n",
       " (<tf.Tensor: shape=(), dtype=float32, numpy=-1.96>,\n",
       "  <tf.Tensor: shape=(), dtype=float32, numpy=-5.3111124>),\n",
       " (<tf.Tensor: shape=(), dtype=float32, numpy=-1.94>,\n",
       "  <tf.Tensor: shape=(), dtype=float32, numpy=-5.306041>),\n",
       " (<tf.Tensor: shape=(), dtype=float32, numpy=-1.92>,\n",
       "  <tf.Tensor: shape=(), dtype=float32, numpy=-6.265407>),\n",
       " (<tf.Tensor: shape=(), dtype=float32, numpy=-1.9>,\n",
       "  <tf.Tensor: shape=(), dtype=float32, numpy=-5.311178>),\n",
       " (<tf.Tensor: shape=(), dtype=float32, numpy=-1.88>,\n",
       "  <tf.Tensor: shape=(), dtype=float32, numpy=-5.2052774>),\n",
       " (<tf.Tensor: shape=(), dtype=float32, numpy=-1.86>,\n",
       "  <tf.Tensor: shape=(), dtype=float32, numpy=-5.7161593>),\n",
       " (<tf.Tensor: shape=(), dtype=float32, numpy=-1.84>,\n",
       "  <tf.Tensor: shape=(), dtype=float32, numpy=-6.377887>),\n",
       " (<tf.Tensor: shape=(), dtype=float32, numpy=-1.82>,\n",
       "  <tf.Tensor: shape=(), dtype=float32, numpy=-6.5324593>),\n",
       " (<tf.Tensor: shape=(), dtype=float32, numpy=-1.8>,\n",
       "  <tf.Tensor: shape=(), dtype=float32, numpy=-5.3262644>),\n",
       " (<tf.Tensor: shape=(), dtype=float32, numpy=-1.78>,\n",
       "  <tf.Tensor: shape=(), dtype=float32, numpy=-5.4910173>),\n",
       " (<tf.Tensor: shape=(), dtype=float32, numpy=-1.76>,\n",
       "  <tf.Tensor: shape=(), dtype=float32, numpy=-4.630158>),\n",
       " (<tf.Tensor: shape=(), dtype=float32, numpy=-1.74>,\n",
       "  <tf.Tensor: shape=(), dtype=float32, numpy=-6.0909395>),\n",
       " (<tf.Tensor: shape=(), dtype=float32, numpy=-1.72>,\n",
       "  <tf.Tensor: shape=(), dtype=float32, numpy=-6.184988>),\n",
       " (<tf.Tensor: shape=(), dtype=float32, numpy=-1.7>,\n",
       "  <tf.Tensor: shape=(), dtype=float32, numpy=-5.4801526>),\n",
       " (<tf.Tensor: shape=(), dtype=float32, numpy=-1.68>,\n",
       "  <tf.Tensor: shape=(), dtype=float32, numpy=-5.1656384>),\n",
       " (<tf.Tensor: shape=(), dtype=float32, numpy=-1.66>,\n",
       "  <tf.Tensor: shape=(), dtype=float32, numpy=-6.537699>),\n",
       " (<tf.Tensor: shape=(), dtype=float32, numpy=-1.64>,\n",
       "  <tf.Tensor: shape=(), dtype=float32, numpy=-5.4421387>),\n",
       " (<tf.Tensor: shape=(), dtype=float32, numpy=-1.62>,\n",
       "  <tf.Tensor: shape=(), dtype=float32, numpy=-5.8112044>),\n",
       " (<tf.Tensor: shape=(), dtype=float32, numpy=-1.6>,\n",
       "  <tf.Tensor: shape=(), dtype=float32, numpy=-6.076124>),\n",
       " (<tf.Tensor: shape=(), dtype=float32, numpy=-1.58>,\n",
       "  <tf.Tensor: shape=(), dtype=float32, numpy=-4.578263>),\n",
       " (<tf.Tensor: shape=(), dtype=float32, numpy=-1.56>,\n",
       "  <tf.Tensor: shape=(), dtype=float32, numpy=-6.2012944>),\n",
       " (<tf.Tensor: shape=(), dtype=float32, numpy=-1.54>,\n",
       "  <tf.Tensor: shape=(), dtype=float32, numpy=-6.1529765>),\n",
       " (<tf.Tensor: shape=(), dtype=float32, numpy=-1.52>,\n",
       "  <tf.Tensor: shape=(), dtype=float32, numpy=-6.8192444>),\n",
       " (<tf.Tensor: shape=(), dtype=float32, numpy=-1.5>,\n",
       "  <tf.Tensor: shape=(), dtype=float32, numpy=-3.8877375>),\n",
       " (<tf.Tensor: shape=(), dtype=float32, numpy=-1.48>,\n",
       "  <tf.Tensor: shape=(), dtype=float32, numpy=-5.588205>),\n",
       " (<tf.Tensor: shape=(), dtype=float32, numpy=-1.46>,\n",
       "  <tf.Tensor: shape=(), dtype=float32, numpy=-6.9582853>),\n",
       " (<tf.Tensor: shape=(), dtype=float32, numpy=-1.44>,\n",
       "  <tf.Tensor: shape=(), dtype=float32, numpy=-7.163333>),\n",
       " (<tf.Tensor: shape=(), dtype=float32, numpy=-1.42>,\n",
       "  <tf.Tensor: shape=(), dtype=float32, numpy=-5.484013>),\n",
       " (<tf.Tensor: shape=(), dtype=float32, numpy=-1.4>,\n",
       "  <tf.Tensor: shape=(), dtype=float32, numpy=-8.694457>),\n",
       " (<tf.Tensor: shape=(), dtype=float32, numpy=-1.38>,\n",
       "  <tf.Tensor: shape=(), dtype=float32, numpy=-6.6192546>),\n",
       " (<tf.Tensor: shape=(), dtype=float32, numpy=-1.36>,\n",
       "  <tf.Tensor: shape=(), dtype=float32, numpy=-6.3111954>),\n",
       " (<tf.Tensor: shape=(), dtype=float32, numpy=-1.34>,\n",
       "  <tf.Tensor: shape=(), dtype=float32, numpy=-4.34219>),\n",
       " (<tf.Tensor: shape=(), dtype=float32, numpy=-1.32>,\n",
       "  <tf.Tensor: shape=(), dtype=float32, numpy=-6.420586>),\n",
       " (<tf.Tensor: shape=(), dtype=float32, numpy=-1.3>,\n",
       "  <tf.Tensor: shape=(), dtype=float32, numpy=-5.745872>),\n",
       " (<tf.Tensor: shape=(), dtype=float32, numpy=-1.28>,\n",
       "  <tf.Tensor: shape=(), dtype=float32, numpy=-5.395962>),\n",
       " (<tf.Tensor: shape=(), dtype=float32, numpy=-1.26>,\n",
       "  <tf.Tensor: shape=(), dtype=float32, numpy=-6.72832>),\n",
       " (<tf.Tensor: shape=(), dtype=float32, numpy=-1.24>,\n",
       "  <tf.Tensor: shape=(), dtype=float32, numpy=-4.1584325>),\n",
       " (<tf.Tensor: shape=(), dtype=float32, numpy=-1.22>,\n",
       "  <tf.Tensor: shape=(), dtype=float32, numpy=-3.5514777>),\n",
       " (<tf.Tensor: shape=(), dtype=float32, numpy=-1.2>,\n",
       "  <tf.Tensor: shape=(), dtype=float32, numpy=-6.818057>),\n",
       " (<tf.Tensor: shape=(), dtype=float32, numpy=-1.18>,\n",
       "  <tf.Tensor: shape=(), dtype=float32, numpy=-6.8987427>),\n",
       " (<tf.Tensor: shape=(), dtype=float32, numpy=-1.16>,\n",
       "  <tf.Tensor: shape=(), dtype=float32, numpy=-5.707592>),\n",
       " (<tf.Tensor: shape=(), dtype=float32, numpy=-1.14>,\n",
       "  <tf.Tensor: shape=(), dtype=float32, numpy=-4.5264473>),\n",
       " (<tf.Tensor: shape=(), dtype=float32, numpy=-1.12>,\n",
       "  <tf.Tensor: shape=(), dtype=float32, numpy=-6.8337126>),\n",
       " (<tf.Tensor: shape=(), dtype=float32, numpy=-1.1>,\n",
       "  <tf.Tensor: shape=(), dtype=float32, numpy=-5.419153>),\n",
       " (<tf.Tensor: shape=(), dtype=float32, numpy=-1.08>,\n",
       "  <tf.Tensor: shape=(), dtype=float32, numpy=-4.537998>),\n",
       " (<tf.Tensor: shape=(), dtype=float32, numpy=-1.06>,\n",
       "  <tf.Tensor: shape=(), dtype=float32, numpy=-6.159237>),\n",
       " (<tf.Tensor: shape=(), dtype=float32, numpy=-1.04>,\n",
       "  <tf.Tensor: shape=(), dtype=float32, numpy=-5.4175663>),\n",
       " (<tf.Tensor: shape=(), dtype=float32, numpy=-1.02>,\n",
       "  <tf.Tensor: shape=(), dtype=float32, numpy=-4.971873>),\n",
       " (<tf.Tensor: shape=(), dtype=float32, numpy=-1.0>,\n",
       "  <tf.Tensor: shape=(), dtype=float32, numpy=-6.615764>),\n",
       " (<tf.Tensor: shape=(), dtype=float32, numpy=-0.98>,\n",
       "  <tf.Tensor: shape=(), dtype=float32, numpy=-5.7446027>),\n",
       " (<tf.Tensor: shape=(), dtype=float32, numpy=-0.96>,\n",
       "  <tf.Tensor: shape=(), dtype=float32, numpy=-4.1152883>),\n",
       " (<tf.Tensor: shape=(), dtype=float32, numpy=-0.94>,\n",
       "  <tf.Tensor: shape=(), dtype=float32, numpy=-4.3662095>),\n",
       " (<tf.Tensor: shape=(), dtype=float32, numpy=-0.92>,\n",
       "  <tf.Tensor: shape=(), dtype=float32, numpy=-4.9075713>),\n",
       " (<tf.Tensor: shape=(), dtype=float32, numpy=-0.9>,\n",
       "  <tf.Tensor: shape=(), dtype=float32, numpy=-5.2852077>),\n",
       " (<tf.Tensor: shape=(), dtype=float32, numpy=-0.88>,\n",
       "  <tf.Tensor: shape=(), dtype=float32, numpy=-4.1903667>),\n",
       " (<tf.Tensor: shape=(), dtype=float32, numpy=-0.86>,\n",
       "  <tf.Tensor: shape=(), dtype=float32, numpy=-4.2281766>),\n",
       " (<tf.Tensor: shape=(), dtype=float32, numpy=-0.84>,\n",
       "  <tf.Tensor: shape=(), dtype=float32, numpy=-7.5277243>),\n",
       " (<tf.Tensor: shape=(), dtype=float32, numpy=-0.82>,\n",
       "  <tf.Tensor: shape=(), dtype=float32, numpy=-7.4406443>),\n",
       " (<tf.Tensor: shape=(), dtype=float32, numpy=-0.8>,\n",
       "  <tf.Tensor: shape=(), dtype=float32, numpy=-5.501754>),\n",
       " (<tf.Tensor: shape=(), dtype=float32, numpy=-0.78>,\n",
       "  <tf.Tensor: shape=(), dtype=float32, numpy=-7.189702>),\n",
       " (<tf.Tensor: shape=(), dtype=float32, numpy=-0.76>,\n",
       "  <tf.Tensor: shape=(), dtype=float32, numpy=-6.1309133>),\n",
       " (<tf.Tensor: shape=(), dtype=float32, numpy=-0.74>,\n",
       "  <tf.Tensor: shape=(), dtype=float32, numpy=-5.763543>),\n",
       " (<tf.Tensor: shape=(), dtype=float32, numpy=-0.72>,\n",
       "  <tf.Tensor: shape=(), dtype=float32, numpy=-5.3699675>),\n",
       " (<tf.Tensor: shape=(), dtype=float32, numpy=-0.7>,\n",
       "  <tf.Tensor: shape=(), dtype=float32, numpy=-5.735351>),\n",
       " (<tf.Tensor: shape=(), dtype=float32, numpy=-0.68>,\n",
       "  <tf.Tensor: shape=(), dtype=float32, numpy=-6.6520653>),\n",
       " (<tf.Tensor: shape=(), dtype=float32, numpy=-0.66>,\n",
       "  <tf.Tensor: shape=(), dtype=float32, numpy=-5.5983057>),\n",
       " (<tf.Tensor: shape=(), dtype=float32, numpy=-0.64>,\n",
       "  <tf.Tensor: shape=(), dtype=float32, numpy=-5.075121>),\n",
       " (<tf.Tensor: shape=(), dtype=float32, numpy=-0.62>,\n",
       "  <tf.Tensor: shape=(), dtype=float32, numpy=-5.5414524>),\n",
       " (<tf.Tensor: shape=(), dtype=float32, numpy=-0.6>,\n",
       "  <tf.Tensor: shape=(), dtype=float32, numpy=-4.9653645>),\n",
       " (<tf.Tensor: shape=(), dtype=float32, numpy=-0.58>,\n",
       "  <tf.Tensor: shape=(), dtype=float32, numpy=-5.6407146>),\n",
       " (<tf.Tensor: shape=(), dtype=float32, numpy=-0.56>,\n",
       "  <tf.Tensor: shape=(), dtype=float32, numpy=-5.216649>),\n",
       " (<tf.Tensor: shape=(), dtype=float32, numpy=-0.54>,\n",
       "  <tf.Tensor: shape=(), dtype=float32, numpy=-5.583628>),\n",
       " (<tf.Tensor: shape=(), dtype=float32, numpy=-0.52>,\n",
       "  <tf.Tensor: shape=(), dtype=float32, numpy=-6.6535497>),\n",
       " (<tf.Tensor: shape=(), dtype=float32, numpy=-0.5>,\n",
       "  <tf.Tensor: shape=(), dtype=float32, numpy=-5.640268>),\n",
       " (<tf.Tensor: shape=(), dtype=float32, numpy=-0.48>,\n",
       "  <tf.Tensor: shape=(), dtype=float32, numpy=-4.688924>),\n",
       " (<tf.Tensor: shape=(), dtype=float32, numpy=-0.46>,\n",
       "  <tf.Tensor: shape=(), dtype=float32, numpy=-6.642265>),\n",
       " (<tf.Tensor: shape=(), dtype=float32, numpy=-0.44>,\n",
       "  <tf.Tensor: shape=(), dtype=float32, numpy=-6.0350423>),\n",
       " (<tf.Tensor: shape=(), dtype=float32, numpy=-0.42>,\n",
       "  <tf.Tensor: shape=(), dtype=float32, numpy=-7.0466475>),\n",
       " (<tf.Tensor: shape=(), dtype=float32, numpy=-0.4>,\n",
       "  <tf.Tensor: shape=(), dtype=float32, numpy=-7.4821877>),\n",
       " (<tf.Tensor: shape=(), dtype=float32, numpy=-0.38>,\n",
       "  <tf.Tensor: shape=(), dtype=float32, numpy=-6.1677775>),\n",
       " (<tf.Tensor: shape=(), dtype=float32, numpy=-0.36>,\n",
       "  <tf.Tensor: shape=(), dtype=float32, numpy=-5.7453566>),\n",
       " (<tf.Tensor: shape=(), dtype=float32, numpy=-0.34>,\n",
       "  <tf.Tensor: shape=(), dtype=float32, numpy=-6.9002295>),\n",
       " (<tf.Tensor: shape=(), dtype=float32, numpy=-0.32>,\n",
       "  <tf.Tensor: shape=(), dtype=float32, numpy=-7.6451483>),\n",
       " (<tf.Tensor: shape=(), dtype=float32, numpy=-0.3>,\n",
       "  <tf.Tensor: shape=(), dtype=float32, numpy=-5.269426>),\n",
       " (<tf.Tensor: shape=(), dtype=float32, numpy=-0.28>,\n",
       "  <tf.Tensor: shape=(), dtype=float32, numpy=-4.3260503>),\n",
       " (<tf.Tensor: shape=(), dtype=float32, numpy=-0.26>,\n",
       "  <tf.Tensor: shape=(), dtype=float32, numpy=-4.728137>),\n",
       " (<tf.Tensor: shape=(), dtype=float32, numpy=-0.24>,\n",
       "  <tf.Tensor: shape=(), dtype=float32, numpy=-5.5683265>),\n",
       " (<tf.Tensor: shape=(), dtype=float32, numpy=-0.22>,\n",
       "  <tf.Tensor: shape=(), dtype=float32, numpy=-5.302577>),\n",
       " (<tf.Tensor: shape=(), dtype=float32, numpy=-0.2>,\n",
       "  <tf.Tensor: shape=(), dtype=float32, numpy=-6.8388653>),\n",
       " (<tf.Tensor: shape=(), dtype=float32, numpy=-0.18>,\n",
       "  <tf.Tensor: shape=(), dtype=float32, numpy=-6.4754786>),\n",
       " (<tf.Tensor: shape=(), dtype=float32, numpy=-0.16>,\n",
       "  <tf.Tensor: shape=(), dtype=float32, numpy=-4.2701693>),\n",
       " (<tf.Tensor: shape=(), dtype=float32, numpy=-0.14>,\n",
       "  <tf.Tensor: shape=(), dtype=float32, numpy=-4.1122217>),\n",
       " (<tf.Tensor: shape=(), dtype=float32, numpy=-0.12>,\n",
       "  <tf.Tensor: shape=(), dtype=float32, numpy=-5.491981>),\n",
       " (<tf.Tensor: shape=(), dtype=float32, numpy=-0.1>,\n",
       "  <tf.Tensor: shape=(), dtype=float32, numpy=-4.39007>),\n",
       " (<tf.Tensor: shape=(), dtype=float32, numpy=-0.08>,\n",
       "  <tf.Tensor: shape=(), dtype=float32, numpy=-5.6894817>),\n",
       " (<tf.Tensor: shape=(), dtype=float32, numpy=-0.06>,\n",
       "  <tf.Tensor: shape=(), dtype=float32, numpy=-4.8858356>),\n",
       " (<tf.Tensor: shape=(), dtype=float32, numpy=-0.04>,\n",
       "  <tf.Tensor: shape=(), dtype=float32, numpy=-4.3574677>),\n",
       " (<tf.Tensor: shape=(), dtype=float32, numpy=-0.02>,\n",
       "  <tf.Tensor: shape=(), dtype=float32, numpy=-5.5251303>),\n",
       " (<tf.Tensor: shape=(), dtype=float32, numpy=0.0>,\n",
       "  <tf.Tensor: shape=(), dtype=float32, numpy=-5.410824>),\n",
       " (<tf.Tensor: shape=(), dtype=float32, numpy=0.02>,\n",
       "  <tf.Tensor: shape=(), dtype=float32, numpy=-4.704821>),\n",
       " (<tf.Tensor: shape=(), dtype=float32, numpy=0.04>,\n",
       "  <tf.Tensor: shape=(), dtype=float32, numpy=-3.8559542>),\n",
       " (<tf.Tensor: shape=(), dtype=float32, numpy=0.06>,\n",
       "  <tf.Tensor: shape=(), dtype=float32, numpy=-5.7636204>),\n",
       " (<tf.Tensor: shape=(), dtype=float32, numpy=0.08>,\n",
       "  <tf.Tensor: shape=(), dtype=float32, numpy=-5.777771>),\n",
       " (<tf.Tensor: shape=(), dtype=float32, numpy=0.1>,\n",
       "  <tf.Tensor: shape=(), dtype=float32, numpy=-4.842278>),\n",
       " (<tf.Tensor: shape=(), dtype=float32, numpy=0.12>,\n",
       "  <tf.Tensor: shape=(), dtype=float32, numpy=-2.940331>),\n",
       " (<tf.Tensor: shape=(), dtype=float32, numpy=0.14>,\n",
       "  <tf.Tensor: shape=(), dtype=float32, numpy=-5.9238534>),\n",
       " (<tf.Tensor: shape=(), dtype=float32, numpy=0.16>,\n",
       "  <tf.Tensor: shape=(), dtype=float32, numpy=-5.2306805>),\n",
       " (<tf.Tensor: shape=(), dtype=float32, numpy=0.18>,\n",
       "  <tf.Tensor: shape=(), dtype=float32, numpy=-5.2280316>),\n",
       " (<tf.Tensor: shape=(), dtype=float32, numpy=0.2>,\n",
       "  <tf.Tensor: shape=(), dtype=float32, numpy=-4.2212296>),\n",
       " (<tf.Tensor: shape=(), dtype=float32, numpy=0.22>,\n",
       "  <tf.Tensor: shape=(), dtype=float32, numpy=-5.212446>),\n",
       " (<tf.Tensor: shape=(), dtype=float32, numpy=0.24>,\n",
       "  <tf.Tensor: shape=(), dtype=float32, numpy=-3.4914138>),\n",
       " (<tf.Tensor: shape=(), dtype=float32, numpy=0.26>,\n",
       "  <tf.Tensor: shape=(), dtype=float32, numpy=-3.949668>),\n",
       " (<tf.Tensor: shape=(), dtype=float32, numpy=0.28>,\n",
       "  <tf.Tensor: shape=(), dtype=float32, numpy=-5.48448>),\n",
       " (<tf.Tensor: shape=(), dtype=float32, numpy=0.3>,\n",
       "  <tf.Tensor: shape=(), dtype=float32, numpy=-5.522702>),\n",
       " (<tf.Tensor: shape=(), dtype=float32, numpy=0.32>,\n",
       "  <tf.Tensor: shape=(), dtype=float32, numpy=-5.25169>),\n",
       " (<tf.Tensor: shape=(), dtype=float32, numpy=0.34>,\n",
       "  <tf.Tensor: shape=(), dtype=float32, numpy=-4.400115>),\n",
       " (<tf.Tensor: shape=(), dtype=float32, numpy=0.36>,\n",
       "  <tf.Tensor: shape=(), dtype=float32, numpy=-4.4081273>),\n",
       " (<tf.Tensor: shape=(), dtype=float32, numpy=0.38>,\n",
       "  <tf.Tensor: shape=(), dtype=float32, numpy=-4.076313>),\n",
       " (<tf.Tensor: shape=(), dtype=float32, numpy=0.4>,\n",
       "  <tf.Tensor: shape=(), dtype=float32, numpy=-3.4934936>),\n",
       " (<tf.Tensor: shape=(), dtype=float32, numpy=0.42>,\n",
       "  <tf.Tensor: shape=(), dtype=float32, numpy=-4.6240606>),\n",
       " (<tf.Tensor: shape=(), dtype=float32, numpy=0.44>,\n",
       "  <tf.Tensor: shape=(), dtype=float32, numpy=-3.6793425>),\n",
       " (<tf.Tensor: shape=(), dtype=float32, numpy=0.46>,\n",
       "  <tf.Tensor: shape=(), dtype=float32, numpy=-5.3329897>),\n",
       " (<tf.Tensor: shape=(), dtype=float32, numpy=0.48>,\n",
       "  <tf.Tensor: shape=(), dtype=float32, numpy=-4.8329587>),\n",
       " (<tf.Tensor: shape=(), dtype=float32, numpy=0.5>,\n",
       "  <tf.Tensor: shape=(), dtype=float32, numpy=-3.466637>),\n",
       " (<tf.Tensor: shape=(), dtype=float32, numpy=0.52>,\n",
       "  <tf.Tensor: shape=(), dtype=float32, numpy=-3.922413>),\n",
       " (<tf.Tensor: shape=(), dtype=float32, numpy=0.54>,\n",
       "  <tf.Tensor: shape=(), dtype=float32, numpy=-4.65304>),\n",
       " (<tf.Tensor: shape=(), dtype=float32, numpy=0.56>,\n",
       "  <tf.Tensor: shape=(), dtype=float32, numpy=-3.1486022>),\n",
       " (<tf.Tensor: shape=(), dtype=float32, numpy=0.58>,\n",
       "  <tf.Tensor: shape=(), dtype=float32, numpy=-2.0562801>),\n",
       " (<tf.Tensor: shape=(), dtype=float32, numpy=0.6>,\n",
       "  <tf.Tensor: shape=(), dtype=float32, numpy=-1.6870545>),\n",
       " (<tf.Tensor: shape=(), dtype=float32, numpy=0.62>,\n",
       "  <tf.Tensor: shape=(), dtype=float32, numpy=-4.019901>),\n",
       " (<tf.Tensor: shape=(), dtype=float32, numpy=0.64>,\n",
       "  <tf.Tensor: shape=(), dtype=float32, numpy=-4.340967>),\n",
       " (<tf.Tensor: shape=(), dtype=float32, numpy=0.66>,\n",
       "  <tf.Tensor: shape=(), dtype=float32, numpy=-2.927617>),\n",
       " (<tf.Tensor: shape=(), dtype=float32, numpy=0.68>,\n",
       "  <tf.Tensor: shape=(), dtype=float32, numpy=-3.2093174>),\n",
       " (<tf.Tensor: shape=(), dtype=float32, numpy=0.7>,\n",
       "  <tf.Tensor: shape=(), dtype=float32, numpy=-5.1203604>),\n",
       " (<tf.Tensor: shape=(), dtype=float32, numpy=0.72>,\n",
       "  <tf.Tensor: shape=(), dtype=float32, numpy=-3.264905>),\n",
       " (<tf.Tensor: shape=(), dtype=float32, numpy=0.74>,\n",
       "  <tf.Tensor: shape=(), dtype=float32, numpy=-2.975455>),\n",
       " (<tf.Tensor: shape=(), dtype=float32, numpy=0.76>,\n",
       "  <tf.Tensor: shape=(), dtype=float32, numpy=-4.340218>),\n",
       " (<tf.Tensor: shape=(), dtype=float32, numpy=0.78>,\n",
       "  <tf.Tensor: shape=(), dtype=float32, numpy=-4.4655094>),\n",
       " (<tf.Tensor: shape=(), dtype=float32, numpy=0.8>,\n",
       "  <tf.Tensor: shape=(), dtype=float32, numpy=-2.0736332>),\n",
       " (<tf.Tensor: shape=(), dtype=float32, numpy=0.82>,\n",
       "  <tf.Tensor: shape=(), dtype=float32, numpy=-3.590218>),\n",
       " (<tf.Tensor: shape=(), dtype=float32, numpy=0.84>,\n",
       "  <tf.Tensor: shape=(), dtype=float32, numpy=-1.5057734>),\n",
       " (<tf.Tensor: shape=(), dtype=float32, numpy=0.86>,\n",
       "  <tf.Tensor: shape=(), dtype=float32, numpy=-3.529069>),\n",
       " (<tf.Tensor: shape=(), dtype=float32, numpy=0.88>,\n",
       "  <tf.Tensor: shape=(), dtype=float32, numpy=-4.1228914>),\n",
       " (<tf.Tensor: shape=(), dtype=float32, numpy=0.9>,\n",
       "  <tf.Tensor: shape=(), dtype=float32, numpy=-3.9624028>),\n",
       " (<tf.Tensor: shape=(), dtype=float32, numpy=0.92>,\n",
       "  <tf.Tensor: shape=(), dtype=float32, numpy=-2.7407565>),\n",
       " (<tf.Tensor: shape=(), dtype=float32, numpy=0.94>,\n",
       "  <tf.Tensor: shape=(), dtype=float32, numpy=-2.038997>),\n",
       " (<tf.Tensor: shape=(), dtype=float32, numpy=0.96>,\n",
       "  <tf.Tensor: shape=(), dtype=float32, numpy=-1.3908383>),\n",
       " (<tf.Tensor: shape=(), dtype=float32, numpy=0.98>,\n",
       "  <tf.Tensor: shape=(), dtype=float32, numpy=-1.8436847>),\n",
       " (<tf.Tensor: shape=(), dtype=float32, numpy=1.0>,\n",
       "  <tf.Tensor: shape=(), dtype=float32, numpy=-1.3068272>),\n",
       " (<tf.Tensor: shape=(), dtype=float32, numpy=1.02>,\n",
       "  <tf.Tensor: shape=(), dtype=float32, numpy=-2.1657007>),\n",
       " (<tf.Tensor: shape=(), dtype=float32, numpy=1.04>,\n",
       "  <tf.Tensor: shape=(), dtype=float32, numpy=-1.8659947>),\n",
       " (<tf.Tensor: shape=(), dtype=float32, numpy=1.06>,\n",
       "  <tf.Tensor: shape=(), dtype=float32, numpy=-1.0117471>),\n",
       " (<tf.Tensor: shape=(), dtype=float32, numpy=1.08>,\n",
       "  <tf.Tensor: shape=(), dtype=float32, numpy=-0.80992025>),\n",
       " (<tf.Tensor: shape=(), dtype=float32, numpy=1.1>,\n",
       "  <tf.Tensor: shape=(), dtype=float32, numpy=-1.4300045>),\n",
       " (<tf.Tensor: shape=(), dtype=float32, numpy=1.12>,\n",
       "  <tf.Tensor: shape=(), dtype=float32, numpy=-0.18962228>),\n",
       " (<tf.Tensor: shape=(), dtype=float32, numpy=1.14>,\n",
       "  <tf.Tensor: shape=(), dtype=float32, numpy=-1.7463391>),\n",
       " (<tf.Tensor: shape=(), dtype=float32, numpy=1.16>,\n",
       "  <tf.Tensor: shape=(), dtype=float32, numpy=-1.5639979>),\n",
       " (<tf.Tensor: shape=(), dtype=float32, numpy=1.18>,\n",
       "  <tf.Tensor: shape=(), dtype=float32, numpy=-2.5089722>),\n",
       " (<tf.Tensor: shape=(), dtype=float32, numpy=1.2>,\n",
       "  <tf.Tensor: shape=(), dtype=float32, numpy=-3.024188>),\n",
       " (<tf.Tensor: shape=(), dtype=float32, numpy=1.22>,\n",
       "  <tf.Tensor: shape=(), dtype=float32, numpy=0.22841322>),\n",
       " (<tf.Tensor: shape=(), dtype=float32, numpy=1.24>,\n",
       "  <tf.Tensor: shape=(), dtype=float32, numpy=1.3513834>),\n",
       " (<tf.Tensor: shape=(), dtype=float32, numpy=1.26>,\n",
       "  <tf.Tensor: shape=(), dtype=float32, numpy=-0.545769>),\n",
       " (<tf.Tensor: shape=(), dtype=float32, numpy=1.28>,\n",
       "  <tf.Tensor: shape=(), dtype=float32, numpy=0.33224487>),\n",
       " (<tf.Tensor: shape=(), dtype=float32, numpy=1.3>,\n",
       "  <tf.Tensor: shape=(), dtype=float32, numpy=1.5804901>),\n",
       " (<tf.Tensor: shape=(), dtype=float32, numpy=1.32>,\n",
       "  <tf.Tensor: shape=(), dtype=float32, numpy=-1.3654059>),\n",
       " (<tf.Tensor: shape=(), dtype=float32, numpy=1.34>,\n",
       "  <tf.Tensor: shape=(), dtype=float32, numpy=0.6190412>),\n",
       " (<tf.Tensor: shape=(), dtype=float32, numpy=1.36>,\n",
       "  <tf.Tensor: shape=(), dtype=float32, numpy=0.7824284>),\n",
       " (<tf.Tensor: shape=(), dtype=float32, numpy=1.38>,\n",
       "  <tf.Tensor: shape=(), dtype=float32, numpy=0.5183474>),\n",
       " (<tf.Tensor: shape=(), dtype=float32, numpy=1.4>,\n",
       "  <tf.Tensor: shape=(), dtype=float32, numpy=0.02775994>),\n",
       " (<tf.Tensor: shape=(), dtype=float32, numpy=1.42>,\n",
       "  <tf.Tensor: shape=(), dtype=float32, numpy=-1.1315917>),\n",
       " (<tf.Tensor: shape=(), dtype=float32, numpy=1.44>,\n",
       "  <tf.Tensor: shape=(), dtype=float32, numpy=1.2807921>),\n",
       " (<tf.Tensor: shape=(), dtype=float32, numpy=1.46>,\n",
       "  <tf.Tensor: shape=(), dtype=float32, numpy=-0.5175983>),\n",
       " (<tf.Tensor: shape=(), dtype=float32, numpy=1.48>,\n",
       "  <tf.Tensor: shape=(), dtype=float32, numpy=-0.45230508>),\n",
       " (<tf.Tensor: shape=(), dtype=float32, numpy=1.5>,\n",
       "  <tf.Tensor: shape=(), dtype=float32, numpy=-0.84505653>),\n",
       " (<tf.Tensor: shape=(), dtype=float32, numpy=1.52>,\n",
       "  <tf.Tensor: shape=(), dtype=float32, numpy=1.5567292>),\n",
       " (<tf.Tensor: shape=(), dtype=float32, numpy=1.54>,\n",
       "  <tf.Tensor: shape=(), dtype=float32, numpy=0.16314474>),\n",
       " (<tf.Tensor: shape=(), dtype=float32, numpy=1.56>,\n",
       "  <tf.Tensor: shape=(), dtype=float32, numpy=0.62281483>),\n",
       " (<tf.Tensor: shape=(), dtype=float32, numpy=1.58>,\n",
       "  <tf.Tensor: shape=(), dtype=float32, numpy=0.53465724>),\n",
       " (<tf.Tensor: shape=(), dtype=float32, numpy=1.6>,\n",
       "  <tf.Tensor: shape=(), dtype=float32, numpy=2.910815>),\n",
       " (<tf.Tensor: shape=(), dtype=float32, numpy=1.62>,\n",
       "  <tf.Tensor: shape=(), dtype=float32, numpy=0.31640625>),\n",
       " (<tf.Tensor: shape=(), dtype=float32, numpy=1.64>,\n",
       "  <tf.Tensor: shape=(), dtype=float32, numpy=-0.35517812>),\n",
       " (<tf.Tensor: shape=(), dtype=float32, numpy=1.66>,\n",
       "  <tf.Tensor: shape=(), dtype=float32, numpy=-0.36353767>),\n",
       " (<tf.Tensor: shape=(), dtype=float32, numpy=1.68>,\n",
       "  <tf.Tensor: shape=(), dtype=float32, numpy=1.1100779>),\n",
       " (<tf.Tensor: shape=(), dtype=float32, numpy=1.7>,\n",
       "  <tf.Tensor: shape=(), dtype=float32, numpy=1.9088973>),\n",
       " (<tf.Tensor: shape=(), dtype=float32, numpy=1.72>,\n",
       "  <tf.Tensor: shape=(), dtype=float32, numpy=0.9191616>),\n",
       " (<tf.Tensor: shape=(), dtype=float32, numpy=1.74>,\n",
       "  <tf.Tensor: shape=(), dtype=float32, numpy=2.306068>),\n",
       " (<tf.Tensor: shape=(), dtype=float32, numpy=1.76>,\n",
       "  <tf.Tensor: shape=(), dtype=float32, numpy=1.3921824>),\n",
       " (<tf.Tensor: shape=(), dtype=float32, numpy=1.78>,\n",
       "  <tf.Tensor: shape=(), dtype=float32, numpy=-0.2797737>),\n",
       " (<tf.Tensor: shape=(), dtype=float32, numpy=1.8>,\n",
       "  <tf.Tensor: shape=(), dtype=float32, numpy=0.07353628>),\n",
       " (<tf.Tensor: shape=(), dtype=float32, numpy=1.82>,\n",
       "  <tf.Tensor: shape=(), dtype=float32, numpy=3.5366726>),\n",
       " (<tf.Tensor: shape=(), dtype=float32, numpy=1.84>,\n",
       "  <tf.Tensor: shape=(), dtype=float32, numpy=2.9177732>),\n",
       " (<tf.Tensor: shape=(), dtype=float32, numpy=1.86>,\n",
       "  <tf.Tensor: shape=(), dtype=float32, numpy=0.89525425>),\n",
       " (<tf.Tensor: shape=(), dtype=float32, numpy=1.88>,\n",
       "  <tf.Tensor: shape=(), dtype=float32, numpy=2.176093>),\n",
       " (<tf.Tensor: shape=(), dtype=float32, numpy=1.9>,\n",
       "  <tf.Tensor: shape=(), dtype=float32, numpy=2.2668958>),\n",
       " (<tf.Tensor: shape=(), dtype=float32, numpy=1.92>,\n",
       "  <tf.Tensor: shape=(), dtype=float32, numpy=1.6989053>),\n",
       " (<tf.Tensor: shape=(), dtype=float32, numpy=1.94>,\n",
       "  <tf.Tensor: shape=(), dtype=float32, numpy=2.0876698>),\n",
       " (<tf.Tensor: shape=(), dtype=float32, numpy=1.96>,\n",
       "  <tf.Tensor: shape=(), dtype=float32, numpy=2.728179>),\n",
       " (<tf.Tensor: shape=(), dtype=float32, numpy=1.98>,\n",
       "  <tf.Tensor: shape=(), dtype=float32, numpy=2.0841262>),\n",
       " (<tf.Tensor: shape=(), dtype=float32, numpy=2.0>,\n",
       "  <tf.Tensor: shape=(), dtype=float32, numpy=2.3975728>)]"
      ]
     },
     "execution_count": 47,
     "metadata": {},
     "output_type": "execute_result"
    }
   ],
   "source": [
    "list(tf.data.Dataset.from_tensor_slices((x, y)))"
   ]
  },
  {
   "cell_type": "code",
   "execution_count": 48,
   "metadata": {},
   "outputs": [
    {
     "data": {
      "text/plain": [
       "<_BatchDataset element_spec=(TensorSpec(shape=(None,), dtype=tf.float32, name=None), TensorSpec(shape=(None,), dtype=tf.float32, name=None))>"
      ]
     },
     "execution_count": 48,
     "metadata": {},
     "output_type": "execute_result"
    }
   ],
   "source": [
    "batch_size = 32\n",
    "dataset = tf.data.Dataset.from_tensor_slices((x, y))\n",
    "dataset = dataset.shuffle(buffer_size=x.shape[0]).batch(batch_size)\n",
    "dataset"
   ]
  },
  {
   "cell_type": "code",
   "execution_count": 49,
   "metadata": {},
   "outputs": [
    {
     "data": {
      "text/plain": [
       "(<tf.Tensor: shape=(9,), dtype=float32, numpy=\n",
       " array([-0.14,  0.08, -1.58, -0.34,  0.12,  1.72,  0.4 ,  0.88, -1.  ],\n",
       "       dtype=float32)>,\n",
       " <tf.Tensor: shape=(9,), dtype=float32, numpy=\n",
       " array([-4.1122217, -5.777771 , -4.578263 , -6.9002295, -2.940331 ,\n",
       "         0.9191616, -3.4934936, -4.1228914, -6.615764 ], dtype=float32)>)"
      ]
     },
     "execution_count": 49,
     "metadata": {},
     "output_type": "execute_result"
    }
   ],
   "source": [
    "list(dataset)[-1]"
   ]
  },
  {
   "cell_type": "code",
   "execution_count": 50,
   "metadata": {},
   "outputs": [
    {
     "data": {
      "text/plain": [
       "(<tf.Variable 'W_1:0' shape=() dtype=float32, numpy=4.1439056>,\n",
       " <tf.Variable 'W_2:0' shape=() dtype=float32, numpy=3.9076905>,\n",
       " <tf.Variable 'b:0' shape=() dtype=float32, numpy=4.8737946>)"
      ]
     },
     "execution_count": 50,
     "metadata": {},
     "output_type": "execute_result"
    }
   ],
   "source": [
    "model.variables"
   ]
  },
  {
   "cell_type": "code",
   "execution_count": 51,
   "metadata": {},
   "outputs": [
    {
     "name": "stdout",
     "output_type": "stream",
     "text": [
      "(<tf.Tensor: shape=(), dtype=float32, numpy=-1.3030083>, <tf.Tensor: shape=(), dtype=float32, numpy=33.0432>, <tf.Tensor: shape=(), dtype=float32, numpy=25.65961>)\n",
      "\n",
      "(<tf.Tensor: shape=(), dtype=float32, numpy=22.09642>, <tf.Tensor: shape=(), dtype=float32, numpy=44.59726>, <tf.Tensor: shape=(), dtype=float32, numpy=28.255264>)\n",
      "\n",
      "(<tf.Tensor: shape=(), dtype=float32, numpy=-3.940842>, <tf.Tensor: shape=(), dtype=float32, numpy=49.14047>, <tf.Tensor: shape=(), dtype=float32, numpy=24.521534>)\n",
      "\n",
      "(<tf.Tensor: shape=(), dtype=float32, numpy=3.9683483>, <tf.Tensor: shape=(), dtype=float32, numpy=38.777924>, <tf.Tensor: shape=(), dtype=float32, numpy=22.477364>)\n",
      "\n",
      "(<tf.Tensor: shape=(), dtype=float32, numpy=10.568065>, <tf.Tensor: shape=(), dtype=float32, numpy=30.429287>, <tf.Tensor: shape=(), dtype=float32, numpy=22.164757>)\n",
      "\n",
      "(<tf.Tensor: shape=(), dtype=float32, numpy=4.551807>, <tf.Tensor: shape=(), dtype=float32, numpy=26.93372>, <tf.Tensor: shape=(), dtype=float32, numpy=19.561325>)\n",
      "\n",
      "(<tf.Tensor: shape=(), dtype=float32, numpy=-4.4896717>, <tf.Tensor: shape=(), dtype=float32, numpy=30.918232>, <tf.Tensor: shape=(), dtype=float32, numpy=17.258297>)\n",
      "\n",
      "Mean squared error for step 0: 83.687\n",
      "(<tf.Tensor: shape=(), dtype=float32, numpy=5.314391>, <tf.Tensor: shape=(), dtype=float32, numpy=24.917236>, <tf.Tensor: shape=(), dtype=float32, numpy=17.743652>)\n",
      "\n",
      "(<tf.Tensor: shape=(), dtype=float32, numpy=2.977059>, <tf.Tensor: shape=(), dtype=float32, numpy=15.901173>, <tf.Tensor: shape=(), dtype=float32, numpy=16.491407>)\n",
      "\n",
      "(<tf.Tensor: shape=(), dtype=float32, numpy=1.7366749>, <tf.Tensor: shape=(), dtype=float32, numpy=21.718235>, <tf.Tensor: shape=(), dtype=float32, numpy=14.523218>)\n",
      "\n",
      "(<tf.Tensor: shape=(), dtype=float32, numpy=0.86224365>, <tf.Tensor: shape=(), dtype=float32, numpy=16.475843>, <tf.Tensor: shape=(), dtype=float32, numpy=14.795885>)\n",
      "\n",
      "(<tf.Tensor: shape=(), dtype=float32, numpy=7.035983>, <tf.Tensor: shape=(), dtype=float32, numpy=19.25273>, <tf.Tensor: shape=(), dtype=float32, numpy=15.404982>)\n",
      "\n",
      "(<tf.Tensor: shape=(), dtype=float32, numpy=10.689055>, <tf.Tensor: shape=(), dtype=float32, numpy=24.136646>, <tf.Tensor: shape=(), dtype=float32, numpy=14.260029>)\n",
      "\n",
      "(<tf.Tensor: shape=(), dtype=float32, numpy=-2.1720748>, <tf.Tensor: shape=(), dtype=float32, numpy=8.623859>, <tf.Tensor: shape=(), dtype=float32, numpy=9.6116295>)\n",
      "\n",
      "(<tf.Tensor: shape=(), dtype=float32, numpy=4.9700947>, <tf.Tensor: shape=(), dtype=float32, numpy=14.012808>, <tf.Tensor: shape=(), dtype=float32, numpy=12.194785>)\n",
      "\n",
      "(<tf.Tensor: shape=(), dtype=float32, numpy=3.960213>, <tf.Tensor: shape=(), dtype=float32, numpy=14.294902>, <tf.Tensor: shape=(), dtype=float32, numpy=11.94124>)\n",
      "\n",
      "(<tf.Tensor: shape=(), dtype=float32, numpy=3.5152338>, <tf.Tensor: shape=(), dtype=float32, numpy=9.716346>, <tf.Tensor: shape=(), dtype=float32, numpy=11.1391735>)\n",
      "\n",
      "(<tf.Tensor: shape=(), dtype=float32, numpy=5.5561066>, <tf.Tensor: shape=(), dtype=float32, numpy=9.9243965>, <tf.Tensor: shape=(), dtype=float32, numpy=9.848472>)\n",
      "\n",
      "(<tf.Tensor: shape=(), dtype=float32, numpy=4.058993>, <tf.Tensor: shape=(), dtype=float32, numpy=8.713687>, <tf.Tensor: shape=(), dtype=float32, numpy=9.646454>)\n",
      "\n",
      "(<tf.Tensor: shape=(), dtype=float32, numpy=3.0209525>, <tf.Tensor: shape=(), dtype=float32, numpy=8.911514>, <tf.Tensor: shape=(), dtype=float32, numpy=8.748528>)\n",
      "\n",
      "(<tf.Tensor: shape=(), dtype=float32, numpy=1.7163756>, <tf.Tensor: shape=(), dtype=float32, numpy=6.308612>, <tf.Tensor: shape=(), dtype=float32, numpy=11.031253>)\n",
      "\n",
      "(<tf.Tensor: shape=(), dtype=float32, numpy=3.6947255>, <tf.Tensor: shape=(), dtype=float32, numpy=5.614895>, <tf.Tensor: shape=(), dtype=float32, numpy=8.886491>)\n",
      "\n",
      "(<tf.Tensor: shape=(), dtype=float32, numpy=2.7495947>, <tf.Tensor: shape=(), dtype=float32, numpy=5.63418>, <tf.Tensor: shape=(), dtype=float32, numpy=6.96037>)\n",
      "\n",
      "(<tf.Tensor: shape=(), dtype=float32, numpy=3.24249>, <tf.Tensor: shape=(), dtype=float32, numpy=3.921454>, <tf.Tensor: shape=(), dtype=float32, numpy=8.457196>)\n",
      "\n",
      "(<tf.Tensor: shape=(), dtype=float32, numpy=4.0351562>, <tf.Tensor: shape=(), dtype=float32, numpy=6.337907>, <tf.Tensor: shape=(), dtype=float32, numpy=8.408149>)\n",
      "\n",
      "(<tf.Tensor: shape=(), dtype=float32, numpy=2.233025>, <tf.Tensor: shape=(), dtype=float32, numpy=3.4043736>, <tf.Tensor: shape=(), dtype=float32, numpy=6.0947328>)\n",
      "\n",
      "(<tf.Tensor: shape=(), dtype=float32, numpy=3.2565746>, <tf.Tensor: shape=(), dtype=float32, numpy=6.000581>, <tf.Tensor: shape=(), dtype=float32, numpy=7.8622074>)\n",
      "\n",
      "(<tf.Tensor: shape=(), dtype=float32, numpy=4.72723>, <tf.Tensor: shape=(), dtype=float32, numpy=9.261557>, <tf.Tensor: shape=(), dtype=float32, numpy=8.731314>)\n",
      "\n",
      "(<tf.Tensor: shape=(), dtype=float32, numpy=3.994592>, <tf.Tensor: shape=(), dtype=float32, numpy=2.2103891>, <tf.Tensor: shape=(), dtype=float32, numpy=4.5376177>)\n",
      "\n",
      "(<tf.Tensor: shape=(), dtype=float32, numpy=1.1325382>, <tf.Tensor: shape=(), dtype=float32, numpy=2.4913063>, <tf.Tensor: shape=(), dtype=float32, numpy=6.885664>)\n",
      "\n",
      "(<tf.Tensor: shape=(), dtype=float32, numpy=2.916223>, <tf.Tensor: shape=(), dtype=float32, numpy=2.507235>, <tf.Tensor: shape=(), dtype=float32, numpy=6.753742>)\n",
      "\n",
      "(<tf.Tensor: shape=(), dtype=float32, numpy=3.4828024>, <tf.Tensor: shape=(), dtype=float32, numpy=1.727923>, <tf.Tensor: shape=(), dtype=float32, numpy=6.276929>)\n",
      "\n",
      "(<tf.Tensor: shape=(), dtype=float32, numpy=3.2636952>, <tf.Tensor: shape=(), dtype=float32, numpy=2.2522583>, <tf.Tensor: shape=(), dtype=float32, numpy=6.7161098>)\n",
      "\n",
      "(<tf.Tensor: shape=(), dtype=float32, numpy=1.7428886>, <tf.Tensor: shape=(), dtype=float32, numpy=0.5660919>, <tf.Tensor: shape=(), dtype=float32, numpy=4.611824>)\n",
      "\n",
      "(<tf.Tensor: shape=(), dtype=float32, numpy=3.5320387>, <tf.Tensor: shape=(), dtype=float32, numpy=3.4664917>, <tf.Tensor: shape=(), dtype=float32, numpy=6.4297276>)\n",
      "\n",
      "(<tf.Tensor: shape=(), dtype=float32, numpy=3.4554224>, <tf.Tensor: shape=(), dtype=float32, numpy=0.008140326>, <tf.Tensor: shape=(), dtype=float32, numpy=5.320303>)\n",
      "\n",
      "(<tf.Tensor: shape=(), dtype=float32, numpy=2.2981255>, <tf.Tensor: shape=(), dtype=float32, numpy=-1.2709236>, <tf.Tensor: shape=(), dtype=float32, numpy=4.355014>)\n",
      "\n",
      "(<tf.Tensor: shape=(), dtype=float32, numpy=2.3361392>, <tf.Tensor: shape=(), dtype=float32, numpy=1.0927596>, <tf.Tensor: shape=(), dtype=float32, numpy=4.9406066>)\n",
      "\n",
      "(<tf.Tensor: shape=(), dtype=float32, numpy=0.75269836>, <tf.Tensor: shape=(), dtype=float32, numpy=1.6334219>, <tf.Tensor: shape=(), dtype=float32, numpy=5.3318906>)\n",
      "\n",
      "(<tf.Tensor: shape=(), dtype=float32, numpy=1.8365659>, <tf.Tensor: shape=(), dtype=float32, numpy=0.5045025>, <tf.Tensor: shape=(), dtype=float32, numpy=6.281884>)\n",
      "\n",
      "(<tf.Tensor: shape=(), dtype=float32, numpy=2.3941483>, <tf.Tensor: shape=(), dtype=float32, numpy=0.49906904>, <tf.Tensor: shape=(), dtype=float32, numpy=3.9809313>)\n",
      "\n",
      "(<tf.Tensor: shape=(), dtype=float32, numpy=2.4594398>, <tf.Tensor: shape=(), dtype=float32, numpy=-4.455365>, <tf.Tensor: shape=(), dtype=float32, numpy=2.0499363>)\n",
      "\n",
      "(<tf.Tensor: shape=(), dtype=float32, numpy=2.5563035>, <tf.Tensor: shape=(), dtype=float32, numpy=-2.2200768>, <tf.Tensor: shape=(), dtype=float32, numpy=4.678843>)\n",
      "\n",
      "(<tf.Tensor: shape=(), dtype=float32, numpy=0.73383594>, <tf.Tensor: shape=(), dtype=float32, numpy=-0.4285357>, <tf.Tensor: shape=(), dtype=float32, numpy=3.7781587>)\n",
      "\n",
      "(<tf.Tensor: shape=(), dtype=float32, numpy=2.0591807>, <tf.Tensor: shape=(), dtype=float32, numpy=1.1669588>, <tf.Tensor: shape=(), dtype=float32, numpy=4.9579515>)\n",
      "\n",
      "(<tf.Tensor: shape=(), dtype=float32, numpy=2.8241768>, <tf.Tensor: shape=(), dtype=float32, numpy=-2.3118582>, <tf.Tensor: shape=(), dtype=float32, numpy=3.7908466>)\n",
      "\n",
      "(<tf.Tensor: shape=(), dtype=float32, numpy=2.0299664>, <tf.Tensor: shape=(), dtype=float32, numpy=1.2392874>, <tf.Tensor: shape=(), dtype=float32, numpy=5.020546>)\n",
      "\n",
      "(<tf.Tensor: shape=(), dtype=float32, numpy=0.6595267>, <tf.Tensor: shape=(), dtype=float32, numpy=0.90834534>, <tf.Tensor: shape=(), dtype=float32, numpy=4.6680775>)\n",
      "\n",
      "(<tf.Tensor: shape=(), dtype=float32, numpy=2.1580205>, <tf.Tensor: shape=(), dtype=float32, numpy=-1.1858467>, <tf.Tensor: shape=(), dtype=float32, numpy=2.9508727>)\n",
      "\n",
      "(<tf.Tensor: shape=(), dtype=float32, numpy=2.2767467>, <tf.Tensor: shape=(), dtype=float32, numpy=-1.3901312>, <tf.Tensor: shape=(), dtype=float32, numpy=3.1133652>)\n",
      "\n",
      "(<tf.Tensor: shape=(), dtype=float32, numpy=1.4168117>, <tf.Tensor: shape=(), dtype=float32, numpy=0.31158185>, <tf.Tensor: shape=(), dtype=float32, numpy=4.903535>)\n",
      "\n",
      "(<tf.Tensor: shape=(), dtype=float32, numpy=2.6147513>, <tf.Tensor: shape=(), dtype=float32, numpy=-3.639502>, <tf.Tensor: shape=(), dtype=float32, numpy=3.4115062>)\n",
      "\n",
      "(<tf.Tensor: shape=(), dtype=float32, numpy=1.9620402>, <tf.Tensor: shape=(), dtype=float32, numpy=-3.1480923>, <tf.Tensor: shape=(), dtype=float32, numpy=3.5907784>)\n",
      "\n",
      "(<tf.Tensor: shape=(), dtype=float32, numpy=1.0563755>, <tf.Tensor: shape=(), dtype=float32, numpy=0.876269>, <tf.Tensor: shape=(), dtype=float32, numpy=5.200922>)\n",
      "\n",
      "(<tf.Tensor: shape=(), dtype=float32, numpy=0.10016656>, <tf.Tensor: shape=(), dtype=float32, numpy=1.4803017>, <tf.Tensor: shape=(), dtype=float32, numpy=3.2556782>)\n",
      "\n",
      "(<tf.Tensor: shape=(), dtype=float32, numpy=-0.41856742>, <tf.Tensor: shape=(), dtype=float32, numpy=1.5552809>, <tf.Tensor: shape=(), dtype=float32, numpy=5.1446886>)\n",
      "\n",
      "(<tf.Tensor: shape=(), dtype=float32, numpy=1.3334541>, <tf.Tensor: shape=(), dtype=float32, numpy=-1.1777759>, <tf.Tensor: shape=(), dtype=float32, numpy=3.2984076>)\n",
      "\n",
      "(<tf.Tensor: shape=(), dtype=float32, numpy=2.4820015>, <tf.Tensor: shape=(), dtype=float32, numpy=-0.8097575>, <tf.Tensor: shape=(), dtype=float32, numpy=3.1789615>)\n",
      "\n",
      "(<tf.Tensor: shape=(), dtype=float32, numpy=0.38203573>, <tf.Tensor: shape=(), dtype=float32, numpy=-0.58824056>, <tf.Tensor: shape=(), dtype=float32, numpy=3.4659407>)\n",
      "\n",
      "(<tf.Tensor: shape=(), dtype=float32, numpy=1.2846943>, <tf.Tensor: shape=(), dtype=float32, numpy=-2.365247>, <tf.Tensor: shape=(), dtype=float32, numpy=3.5500624>)\n",
      "\n",
      "(<tf.Tensor: shape=(), dtype=float32, numpy=1.6693392>, <tf.Tensor: shape=(), dtype=float32, numpy=-2.028711>, <tf.Tensor: shape=(), dtype=float32, numpy=3.8017595>)\n",
      "\n",
      "(<tf.Tensor: shape=(), dtype=float32, numpy=-0.5001237>, <tf.Tensor: shape=(), dtype=float32, numpy=-0.3540768>, <tf.Tensor: shape=(), dtype=float32, numpy=4.0446095>)\n",
      "\n",
      "(<tf.Tensor: shape=(), dtype=float32, numpy=5.0394554>, <tf.Tensor: shape=(), dtype=float32, numpy=-2.74434>, <tf.Tensor: shape=(), dtype=float32, numpy=2.6326241>)\n",
      "\n",
      "(<tf.Tensor: shape=(), dtype=float32, numpy=-0.08890724>, <tf.Tensor: shape=(), dtype=float32, numpy=-1.1519303>, <tf.Tensor: shape=(), dtype=float32, numpy=3.8044338>)\n",
      "\n",
      "(<tf.Tensor: shape=(), dtype=float32, numpy=1.7938081>, <tf.Tensor: shape=(), dtype=float32, numpy=0.08011317>, <tf.Tensor: shape=(), dtype=float32, numpy=3.255531>)\n",
      "\n",
      "(<tf.Tensor: shape=(), dtype=float32, numpy=2.926199>, <tf.Tensor: shape=(), dtype=float32, numpy=-2.7826657>, <tf.Tensor: shape=(), dtype=float32, numpy=2.7214665>)\n",
      "\n",
      "(<tf.Tensor: shape=(), dtype=float32, numpy=0.4423889>, <tf.Tensor: shape=(), dtype=float32, numpy=-1.7511353>, <tf.Tensor: shape=(), dtype=float32, numpy=2.771059>)\n",
      "\n",
      "(<tf.Tensor: shape=(), dtype=float32, numpy=1.4276987>, <tf.Tensor: shape=(), dtype=float32, numpy=-0.7687582>, <tf.Tensor: shape=(), dtype=float32, numpy=4.118371>)\n",
      "\n",
      "(<tf.Tensor: shape=(), dtype=float32, numpy=-0.13313366>, <tf.Tensor: shape=(), dtype=float32, numpy=-2.2594965>, <tf.Tensor: shape=(), dtype=float32, numpy=2.9509416>)\n",
      "\n",
      "(<tf.Tensor: shape=(), dtype=float32, numpy=-0.7551771>, <tf.Tensor: shape=(), dtype=float32, numpy=2.0779212>, <tf.Tensor: shape=(), dtype=float32, numpy=4.1940484>)\n",
      "\n",
      "(<tf.Tensor: shape=(), dtype=float32, numpy=0.48912764>, <tf.Tensor: shape=(), dtype=float32, numpy=-1.4895458>, <tf.Tensor: shape=(), dtype=float32, numpy=2.579851>)\n",
      "\n",
      "(<tf.Tensor: shape=(), dtype=float32, numpy=0.52886665>, <tf.Tensor: shape=(), dtype=float32, numpy=-1.2440172>, <tf.Tensor: shape=(), dtype=float32, numpy=3.982155>)\n",
      "\n",
      "(<tf.Tensor: shape=(), dtype=float32, numpy=0.8023617>, <tf.Tensor: shape=(), dtype=float32, numpy=-1.6107907>, <tf.Tensor: shape=(), dtype=float32, numpy=3.2530856>)\n",
      "\n",
      "(<tf.Tensor: shape=(), dtype=float32, numpy=1.1398795>, <tf.Tensor: shape=(), dtype=float32, numpy=-3.0518992>, <tf.Tensor: shape=(), dtype=float32, numpy=1.8083549>)\n",
      "\n",
      "(<tf.Tensor: shape=(), dtype=float32, numpy=0.81221855>, <tf.Tensor: shape=(), dtype=float32, numpy=-0.038310513>, <tf.Tensor: shape=(), dtype=float32, numpy=3.7090216>)\n",
      "\n",
      "(<tf.Tensor: shape=(), dtype=float32, numpy=1.4742138>, <tf.Tensor: shape=(), dtype=float32, numpy=-1.9125376>, <tf.Tensor: shape=(), dtype=float32, numpy=2.6090016>)\n",
      "\n",
      "(<tf.Tensor: shape=(), dtype=float32, numpy=0.5905624>, <tf.Tensor: shape=(), dtype=float32, numpy=1.7248139>, <tf.Tensor: shape=(), dtype=float32, numpy=4.3434443>)\n",
      "\n",
      "Mean squared error for step 10: 8.200\n",
      "(<tf.Tensor: shape=(), dtype=float32, numpy=1.4948229>, <tf.Tensor: shape=(), dtype=float32, numpy=-3.392038>, <tf.Tensor: shape=(), dtype=float32, numpy=1.138179>)\n",
      "\n",
      "(<tf.Tensor: shape=(), dtype=float32, numpy=0.26248562>, <tf.Tensor: shape=(), dtype=float32, numpy=-2.4704723>, <tf.Tensor: shape=(), dtype=float32, numpy=1.9330553>)\n",
      "\n",
      "(<tf.Tensor: shape=(), dtype=float32, numpy=1.9192802>, <tf.Tensor: shape=(), dtype=float32, numpy=-2.6573553>, <tf.Tensor: shape=(), dtype=float32, numpy=2.7608905>)\n",
      "\n",
      "(<tf.Tensor: shape=(), dtype=float32, numpy=1.0494442>, <tf.Tensor: shape=(), dtype=float32, numpy=-1.8739607>, <tf.Tensor: shape=(), dtype=float32, numpy=3.2870455>)\n",
      "\n",
      "(<tf.Tensor: shape=(), dtype=float32, numpy=-0.22301319>, <tf.Tensor: shape=(), dtype=float32, numpy=0.933473>, <tf.Tensor: shape=(), dtype=float32, numpy=3.614336>)\n",
      "\n",
      "(<tf.Tensor: shape=(), dtype=float32, numpy=-0.28795472>, <tf.Tensor: shape=(), dtype=float32, numpy=0.5495166>, <tf.Tensor: shape=(), dtype=float32, numpy=4.396702>)\n",
      "\n",
      "(<tf.Tensor: shape=(), dtype=float32, numpy=0.40229517>, <tf.Tensor: shape=(), dtype=float32, numpy=1.7271823>, <tf.Tensor: shape=(), dtype=float32, numpy=3.9003134>)\n",
      "\n",
      "(<tf.Tensor: shape=(), dtype=float32, numpy=0.40341926>, <tf.Tensor: shape=(), dtype=float32, numpy=-1.935633>, <tf.Tensor: shape=(), dtype=float32, numpy=1.8549252>)\n",
      "\n",
      "(<tf.Tensor: shape=(), dtype=float32, numpy=0.33893883>, <tf.Tensor: shape=(), dtype=float32, numpy=0.26204956>, <tf.Tensor: shape=(), dtype=float32, numpy=2.8998823>)\n",
      "\n",
      "(<tf.Tensor: shape=(), dtype=float32, numpy=0.4575296>, <tf.Tensor: shape=(), dtype=float32, numpy=-0.71370554>, <tf.Tensor: shape=(), dtype=float32, numpy=3.4085958>)\n",
      "\n",
      "(<tf.Tensor: shape=(), dtype=float32, numpy=0.90188646>, <tf.Tensor: shape=(), dtype=float32, numpy=-0.15013331>, <tf.Tensor: shape=(), dtype=float32, numpy=3.6216931>)\n",
      "\n",
      "(<tf.Tensor: shape=(), dtype=float32, numpy=-0.69476736>, <tf.Tensor: shape=(), dtype=float32, numpy=-2.7935133>, <tf.Tensor: shape=(), dtype=float32, numpy=1.9686478>)\n",
      "\n",
      "(<tf.Tensor: shape=(), dtype=float32, numpy=2.366816>, <tf.Tensor: shape=(), dtype=float32, numpy=-5.061503>, <tf.Tensor: shape=(), dtype=float32, numpy=1.2328974>)\n",
      "\n",
      "(<tf.Tensor: shape=(), dtype=float32, numpy=0.008886963>, <tf.Tensor: shape=(), dtype=float32, numpy=-0.62790114>, <tf.Tensor: shape=(), dtype=float32, numpy=3.9840167>)\n",
      "\n",
      "(<tf.Tensor: shape=(), dtype=float32, numpy=-0.18216914>, <tf.Tensor: shape=(), dtype=float32, numpy=-0.94256985>, <tf.Tensor: shape=(), dtype=float32, numpy=2.5239289>)\n",
      "\n",
      "(<tf.Tensor: shape=(), dtype=float32, numpy=0.8329867>, <tf.Tensor: shape=(), dtype=float32, numpy=-1.4596024>, <tf.Tensor: shape=(), dtype=float32, numpy=3.3933887>)\n",
      "\n",
      "(<tf.Tensor: shape=(), dtype=float32, numpy=0.59298396>, <tf.Tensor: shape=(), dtype=float32, numpy=-3.294515>, <tf.Tensor: shape=(), dtype=float32, numpy=1.3452418>)\n",
      "\n",
      "(<tf.Tensor: shape=(), dtype=float32, numpy=0.30482802>, <tf.Tensor: shape=(), dtype=float32, numpy=-1.3796781>, <tf.Tensor: shape=(), dtype=float32, numpy=1.9120672>)\n",
      "\n",
      "(<tf.Tensor: shape=(), dtype=float32, numpy=1.2802349>, <tf.Tensor: shape=(), dtype=float32, numpy=-0.07428646>, <tf.Tensor: shape=(), dtype=float32, numpy=3.3981085>)\n",
      "\n",
      "(<tf.Tensor: shape=(), dtype=float32, numpy=0.54195845>, <tf.Tensor: shape=(), dtype=float32, numpy=-1.3734193>, <tf.Tensor: shape=(), dtype=float32, numpy=2.6936388>)\n",
      "\n",
      "(<tf.Tensor: shape=(), dtype=float32, numpy=-0.8586863>, <tf.Tensor: shape=(), dtype=float32, numpy=-0.20591938>, <tf.Tensor: shape=(), dtype=float32, numpy=2.2073226>)\n",
      "\n",
      "(<tf.Tensor: shape=(), dtype=float32, numpy=0.09954789>, <tf.Tensor: shape=(), dtype=float32, numpy=-2.5997314>, <tf.Tensor: shape=(), dtype=float32, numpy=1.479468>)\n",
      "\n",
      "(<tf.Tensor: shape=(), dtype=float32, numpy=-0.3561132>, <tf.Tensor: shape=(), dtype=float32, numpy=0.8849653>, <tf.Tensor: shape=(), dtype=float32, numpy=4.0681653>)\n",
      "\n",
      "(<tf.Tensor: shape=(), dtype=float32, numpy=0.6126852>, <tf.Tensor: shape=(), dtype=float32, numpy=-2.743068>, <tf.Tensor: shape=(), dtype=float32, numpy=1.5388006>)\n",
      "\n",
      "(<tf.Tensor: shape=(), dtype=float32, numpy=0.6107271>, <tf.Tensor: shape=(), dtype=float32, numpy=-0.4613324>, <tf.Tensor: shape=(), dtype=float32, numpy=1.8039734>)\n",
      "\n",
      "(<tf.Tensor: shape=(), dtype=float32, numpy=0.066482574>, <tf.Tensor: shape=(), dtype=float32, numpy=0.0648793>, <tf.Tensor: shape=(), dtype=float32, numpy=3.8444529>)\n",
      "\n",
      "(<tf.Tensor: shape=(), dtype=float32, numpy=0.72271335>, <tf.Tensor: shape=(), dtype=float32, numpy=-3.0421982>, <tf.Tensor: shape=(), dtype=float32, numpy=1.6193141>)\n",
      "\n",
      "(<tf.Tensor: shape=(), dtype=float32, numpy=3.5904903>, <tf.Tensor: shape=(), dtype=float32, numpy=-1.5979924>, <tf.Tensor: shape=(), dtype=float32, numpy=2.4459715>)\n",
      "\n",
      "(<tf.Tensor: shape=(), dtype=float32, numpy=-0.34471625>, <tf.Tensor: shape=(), dtype=float32, numpy=-1.1738992>, <tf.Tensor: shape=(), dtype=float32, numpy=2.9672685>)\n",
      "\n",
      "(<tf.Tensor: shape=(), dtype=float32, numpy=1.315329>, <tf.Tensor: shape=(), dtype=float32, numpy=-2.1283028>, <tf.Tensor: shape=(), dtype=float32, numpy=2.2821512>)\n",
      "\n",
      "(<tf.Tensor: shape=(), dtype=float32, numpy=0.3858934>, <tf.Tensor: shape=(), dtype=float32, numpy=-0.58665824>, <tf.Tensor: shape=(), dtype=float32, numpy=1.7034638>)\n",
      "\n",
      "(<tf.Tensor: shape=(), dtype=float32, numpy=-0.3456206>, <tf.Tensor: shape=(), dtype=float32, numpy=-0.69753873>, <tf.Tensor: shape=(), dtype=float32, numpy=1.5469561>)\n",
      "\n",
      "(<tf.Tensor: shape=(), dtype=float32, numpy=0.57991713>, <tf.Tensor: shape=(), dtype=float32, numpy=-0.2823096>, <tf.Tensor: shape=(), dtype=float32, numpy=3.28097>)\n",
      "\n",
      "(<tf.Tensor: shape=(), dtype=float32, numpy=0.25723627>, <tf.Tensor: shape=(), dtype=float32, numpy=-1.1551586>, <tf.Tensor: shape=(), dtype=float32, numpy=2.4295201>)\n",
      "\n",
      "(<tf.Tensor: shape=(), dtype=float32, numpy=-0.05477211>, <tf.Tensor: shape=(), dtype=float32, numpy=-4.4562497>, <tf.Tensor: shape=(), dtype=float32, numpy=1.1201577>)\n",
      "\n",
      "(<tf.Tensor: shape=(), dtype=float32, numpy=-0.26965082>, <tf.Tensor: shape=(), dtype=float32, numpy=-1.4268799>, <tf.Tensor: shape=(), dtype=float32, numpy=1.4316206>)\n",
      "\n",
      "(<tf.Tensor: shape=(), dtype=float32, numpy=0.2281982>, <tf.Tensor: shape=(), dtype=float32, numpy=-1.1625395>, <tf.Tensor: shape=(), dtype=float32, numpy=2.4684649>)\n",
      "\n",
      "(<tf.Tensor: shape=(), dtype=float32, numpy=0.58652246>, <tf.Tensor: shape=(), dtype=float32, numpy=-1.6963682>, <tf.Tensor: shape=(), dtype=float32, numpy=1.5652637>)\n",
      "\n",
      "(<tf.Tensor: shape=(), dtype=float32, numpy=0.1965341>, <tf.Tensor: shape=(), dtype=float32, numpy=-0.94096756>, <tf.Tensor: shape=(), dtype=float32, numpy=3.0108218>)\n",
      "\n",
      "(<tf.Tensor: shape=(), dtype=float32, numpy=0.8514162>, <tf.Tensor: shape=(), dtype=float32, numpy=-0.89853966>, <tf.Tensor: shape=(), dtype=float32, numpy=2.285007>)\n",
      "\n",
      "(<tf.Tensor: shape=(), dtype=float32, numpy=-0.07512518>, <tf.Tensor: shape=(), dtype=float32, numpy=0.3079073>, <tf.Tensor: shape=(), dtype=float32, numpy=2.9219065>)\n",
      "\n",
      "(<tf.Tensor: shape=(), dtype=float32, numpy=0.20593533>, <tf.Tensor: shape=(), dtype=float32, numpy=1.711318>, <tf.Tensor: shape=(), dtype=float32, numpy=2.9472697>)\n",
      "\n",
      "(<tf.Tensor: shape=(), dtype=float32, numpy=0.13255368>, <tf.Tensor: shape=(), dtype=float32, numpy=-1.8992304>, <tf.Tensor: shape=(), dtype=float32, numpy=1.5635347>)\n",
      "\n",
      "(<tf.Tensor: shape=(), dtype=float32, numpy=0.119622916>, <tf.Tensor: shape=(), dtype=float32, numpy=-0.05232814>, <tf.Tensor: shape=(), dtype=float32, numpy=2.5077112>)\n",
      "\n",
      "(<tf.Tensor: shape=(), dtype=float32, numpy=0.8580698>, <tf.Tensor: shape=(), dtype=float32, numpy=-1.6036074>, <tf.Tensor: shape=(), dtype=float32, numpy=2.149118>)\n",
      "\n",
      "(<tf.Tensor: shape=(), dtype=float32, numpy=-0.10838336>, <tf.Tensor: shape=(), dtype=float32, numpy=-1.2830914>, <tf.Tensor: shape=(), dtype=float32, numpy=1.8391991>)\n",
      "\n",
      "(<tf.Tensor: shape=(), dtype=float32, numpy=0.6966274>, <tf.Tensor: shape=(), dtype=float32, numpy=-0.22839597>, <tf.Tensor: shape=(), dtype=float32, numpy=2.655009>)\n",
      "\n",
      "(<tf.Tensor: shape=(), dtype=float32, numpy=-0.37383342>, <tf.Tensor: shape=(), dtype=float32, numpy=-1.5487368>, <tf.Tensor: shape=(), dtype=float32, numpy=1.2802982>)\n",
      "\n",
      "(<tf.Tensor: shape=(), dtype=float32, numpy=-0.20234346>, <tf.Tensor: shape=(), dtype=float32, numpy=-0.026383966>, <tf.Tensor: shape=(), dtype=float32, numpy=3.7968776>)\n",
      "\n",
      "(<tf.Tensor: shape=(), dtype=float32, numpy=0.16801679>, <tf.Tensor: shape=(), dtype=float32, numpy=-1.2120578>, <tf.Tensor: shape=(), dtype=float32, numpy=1.6985607>)\n",
      "\n",
      "(<tf.Tensor: shape=(), dtype=float32, numpy=-0.7437612>, <tf.Tensor: shape=(), dtype=float32, numpy=-1.6507888>, <tf.Tensor: shape=(), dtype=float32, numpy=1.8150442>)\n",
      "\n",
      "(<tf.Tensor: shape=(), dtype=float32, numpy=-0.19410181>, <tf.Tensor: shape=(), dtype=float32, numpy=-1.9986591>, <tf.Tensor: shape=(), dtype=float32, numpy=1.6690707>)\n",
      "\n",
      "(<tf.Tensor: shape=(), dtype=float32, numpy=0.72224796>, <tf.Tensor: shape=(), dtype=float32, numpy=-1.3479321>, <tf.Tensor: shape=(), dtype=float32, numpy=2.1253524>)\n",
      "\n",
      "(<tf.Tensor: shape=(), dtype=float32, numpy=1.6007133>, <tf.Tensor: shape=(), dtype=float32, numpy=0.13803843>, <tf.Tensor: shape=(), dtype=float32, numpy=1.850468>)\n",
      "\n",
      "(<tf.Tensor: shape=(), dtype=float32, numpy=-0.35778096>, <tf.Tensor: shape=(), dtype=float32, numpy=-0.71061903>, <tf.Tensor: shape=(), dtype=float32, numpy=2.1430488>)\n",
      "\n",
      "(<tf.Tensor: shape=(), dtype=float32, numpy=-0.28054598>, <tf.Tensor: shape=(), dtype=float32, numpy=2.0449183>, <tf.Tensor: shape=(), dtype=float32, numpy=3.9119165>)\n",
      "\n",
      "(<tf.Tensor: shape=(), dtype=float32, numpy=0.634243>, <tf.Tensor: shape=(), dtype=float32, numpy=0.07100126>, <tf.Tensor: shape=(), dtype=float32, numpy=2.6107595>)\n",
      "\n",
      "(<tf.Tensor: shape=(), dtype=float32, numpy=1.0357482>, <tf.Tensor: shape=(), dtype=float32, numpy=-0.8064693>, <tf.Tensor: shape=(), dtype=float32, numpy=1.914893>)\n",
      "\n",
      "(<tf.Tensor: shape=(), dtype=float32, numpy=-0.92873716>, <tf.Tensor: shape=(), dtype=float32, numpy=-0.3216831>, <tf.Tensor: shape=(), dtype=float32, numpy=1.7853012>)\n",
      "\n",
      "(<tf.Tensor: shape=(), dtype=float32, numpy=-0.5302141>, <tf.Tensor: shape=(), dtype=float32, numpy=-2.8722167>, <tf.Tensor: shape=(), dtype=float32, numpy=1.4711423>)\n",
      "\n",
      "(<tf.Tensor: shape=(), dtype=float32, numpy=0.95311636>, <tf.Tensor: shape=(), dtype=float32, numpy=-1.4044423>, <tf.Tensor: shape=(), dtype=float32, numpy=2.120241>)\n",
      "\n",
      "(<tf.Tensor: shape=(), dtype=float32, numpy=0.03395015>, <tf.Tensor: shape=(), dtype=float32, numpy=-1.5606701>, <tf.Tensor: shape=(), dtype=float32, numpy=1.154844>)\n",
      "\n",
      "(<tf.Tensor: shape=(), dtype=float32, numpy=-0.9582378>, <tf.Tensor: shape=(), dtype=float32, numpy=-2.0959787>, <tf.Tensor: shape=(), dtype=float32, numpy=-0.21636203>)\n",
      "\n",
      "(<tf.Tensor: shape=(), dtype=float32, numpy=0.0967485>, <tf.Tensor: shape=(), dtype=float32, numpy=-0.6675949>, <tf.Tensor: shape=(), dtype=float32, numpy=1.156091>)\n",
      "\n",
      "(<tf.Tensor: shape=(), dtype=float32, numpy=-0.20556307>, <tf.Tensor: shape=(), dtype=float32, numpy=-2.1782336>, <tf.Tensor: shape=(), dtype=float32, numpy=0.7451451>)\n",
      "\n",
      "(<tf.Tensor: shape=(), dtype=float32, numpy=0.6812053>, <tf.Tensor: shape=(), dtype=float32, numpy=-1.1607504>, <tf.Tensor: shape=(), dtype=float32, numpy=1.5716438>)\n",
      "\n",
      "(<tf.Tensor: shape=(), dtype=float32, numpy=-0.99487966>, <tf.Tensor: shape=(), dtype=float32, numpy=-0.049932256>, <tf.Tensor: shape=(), dtype=float32, numpy=2.2833593>)\n",
      "\n",
      "(<tf.Tensor: shape=(), dtype=float32, numpy=0.5453372>, <tf.Tensor: shape=(), dtype=float32, numpy=-0.56750894>, <tf.Tensor: shape=(), dtype=float32, numpy=2.2296019>)\n",
      "\n",
      "(<tf.Tensor: shape=(), dtype=float32, numpy=0.67290616>, <tf.Tensor: shape=(), dtype=float32, numpy=-0.34774166>, <tf.Tensor: shape=(), dtype=float32, numpy=2.6082246>)\n",
      "\n",
      "(<tf.Tensor: shape=(), dtype=float32, numpy=0.53284484>, <tf.Tensor: shape=(), dtype=float32, numpy=-0.5823264>, <tf.Tensor: shape=(), dtype=float32, numpy=2.9037247>)\n",
      "\n",
      "Mean squared error for step 20: 3.466\n",
      "(<tf.Tensor: shape=(), dtype=float32, numpy=-0.42458943>, <tf.Tensor: shape=(), dtype=float32, numpy=-0.2565498>, <tf.Tensor: shape=(), dtype=float32, numpy=1.550818>)\n",
      "\n",
      "(<tf.Tensor: shape=(), dtype=float32, numpy=1.1458118>, <tf.Tensor: shape=(), dtype=float32, numpy=-2.66678>, <tf.Tensor: shape=(), dtype=float32, numpy=1.4634694>)\n",
      "\n",
      "(<tf.Tensor: shape=(), dtype=float32, numpy=-0.15311898>, <tf.Tensor: shape=(), dtype=float32, numpy=0.18566895>, <tf.Tensor: shape=(), dtype=float32, numpy=2.5155916>)\n",
      "\n",
      "(<tf.Tensor: shape=(), dtype=float32, numpy=0.47462338>, <tf.Tensor: shape=(), dtype=float32, numpy=-1.089231>, <tf.Tensor: shape=(), dtype=float32, numpy=1.6203235>)\n",
      "\n",
      "(<tf.Tensor: shape=(), dtype=float32, numpy=0.20150965>, <tf.Tensor: shape=(), dtype=float32, numpy=-0.42978102>, <tf.Tensor: shape=(), dtype=float32, numpy=1.669005>)\n",
      "\n",
      "(<tf.Tensor: shape=(), dtype=float32, numpy=-0.3531902>, <tf.Tensor: shape=(), dtype=float32, numpy=-0.8109189>, <tf.Tensor: shape=(), dtype=float32, numpy=1.433177>)\n",
      "\n",
      "(<tf.Tensor: shape=(), dtype=float32, numpy=-0.5937835>, <tf.Tensor: shape=(), dtype=float32, numpy=-1.3520837>, <tf.Tensor: shape=(), dtype=float32, numpy=0.9375004>)\n",
      "\n",
      "(<tf.Tensor: shape=(), dtype=float32, numpy=0.39756194>, <tf.Tensor: shape=(), dtype=float32, numpy=0.044112444>, <tf.Tensor: shape=(), dtype=float32, numpy=1.9088987>)\n",
      "\n",
      "(<tf.Tensor: shape=(), dtype=float32, numpy=1.1914268>, <tf.Tensor: shape=(), dtype=float32, numpy=-0.9917032>, <tf.Tensor: shape=(), dtype=float32, numpy=1.4123169>)\n",
      "\n",
      "(<tf.Tensor: shape=(), dtype=float32, numpy=-0.9786095>, <tf.Tensor: shape=(), dtype=float32, numpy=-0.6343259>, <tf.Tensor: shape=(), dtype=float32, numpy=1.7176117>)\n",
      "\n",
      "(<tf.Tensor: shape=(), dtype=float32, numpy=0.93908334>, <tf.Tensor: shape=(), dtype=float32, numpy=-0.1168965>, <tf.Tensor: shape=(), dtype=float32, numpy=2.638242>)\n",
      "\n",
      "(<tf.Tensor: shape=(), dtype=float32, numpy=0.61998725>, <tf.Tensor: shape=(), dtype=float32, numpy=-1.5279256>, <tf.Tensor: shape=(), dtype=float32, numpy=0.8359282>)\n",
      "\n",
      "(<tf.Tensor: shape=(), dtype=float32, numpy=-1.2731249>, <tf.Tensor: shape=(), dtype=float32, numpy=-1.9358065>, <tf.Tensor: shape=(), dtype=float32, numpy=1.0183579>)\n",
      "\n",
      "(<tf.Tensor: shape=(), dtype=float32, numpy=-1.1970224>, <tf.Tensor: shape=(), dtype=float32, numpy=0.01723174>, <tf.Tensor: shape=(), dtype=float32, numpy=1.6938416>)\n",
      "\n",
      "(<tf.Tensor: shape=(), dtype=float32, numpy=0.5096865>, <tf.Tensor: shape=(), dtype=float32, numpy=-3.219731>, <tf.Tensor: shape=(), dtype=float32, numpy=0.543713>)\n",
      "\n",
      "(<tf.Tensor: shape=(), dtype=float32, numpy=0.60735804>, <tf.Tensor: shape=(), dtype=float32, numpy=1.0852224>, <tf.Tensor: shape=(), dtype=float32, numpy=1.8287268>)\n",
      "\n",
      "(<tf.Tensor: shape=(), dtype=float32, numpy=-0.45002547>, <tf.Tensor: shape=(), dtype=float32, numpy=0.3386762>, <tf.Tensor: shape=(), dtype=float32, numpy=2.618918>)\n",
      "\n",
      "(<tf.Tensor: shape=(), dtype=float32, numpy=-0.0465737>, <tf.Tensor: shape=(), dtype=float32, numpy=-0.8513423>, <tf.Tensor: shape=(), dtype=float32, numpy=1.5126998>)\n",
      "\n",
      "(<tf.Tensor: shape=(), dtype=float32, numpy=-0.21490502>, <tf.Tensor: shape=(), dtype=float32, numpy=-0.447148>, <tf.Tensor: shape=(), dtype=float32, numpy=1.6363378>)\n",
      "\n",
      "(<tf.Tensor: shape=(), dtype=float32, numpy=0.7628917>, <tf.Tensor: shape=(), dtype=float32, numpy=-0.42099714>, <tf.Tensor: shape=(), dtype=float32, numpy=1.5874183>)\n",
      "\n",
      "(<tf.Tensor: shape=(), dtype=float32, numpy=-1.7224052>, <tf.Tensor: shape=(), dtype=float32, numpy=-3.6132493>, <tf.Tensor: shape=(), dtype=float32, numpy=-0.19504887>)\n",
      "\n",
      "(<tf.Tensor: shape=(), dtype=float32, numpy=0.22879231>, <tf.Tensor: shape=(), dtype=float32, numpy=0.6647539>, <tf.Tensor: shape=(), dtype=float32, numpy=2.4635246>)\n",
      "\n",
      "(<tf.Tensor: shape=(), dtype=float32, numpy=0.39679015>, <tf.Tensor: shape=(), dtype=float32, numpy=-1.0846735>, <tf.Tensor: shape=(), dtype=float32, numpy=1.4207904>)\n",
      "\n",
      "(<tf.Tensor: shape=(), dtype=float32, numpy=-0.17360774>, <tf.Tensor: shape=(), dtype=float32, numpy=0.08393803>, <tf.Tensor: shape=(), dtype=float32, numpy=1.8734161>)\n",
      "\n",
      "(<tf.Tensor: shape=(), dtype=float32, numpy=0.01935789>, <tf.Tensor: shape=(), dtype=float32, numpy=-0.9317445>, <tf.Tensor: shape=(), dtype=float32, numpy=1.7545477>)\n",
      "\n",
      "(<tf.Tensor: shape=(), dtype=float32, numpy=-0.5826984>, <tf.Tensor: shape=(), dtype=float32, numpy=-0.9464854>, <tf.Tensor: shape=(), dtype=float32, numpy=1.4399847>)\n",
      "\n",
      "(<tf.Tensor: shape=(), dtype=float32, numpy=0.31384233>, <tf.Tensor: shape=(), dtype=float32, numpy=-1.023364>, <tf.Tensor: shape=(), dtype=float32, numpy=0.46621543>)\n",
      "\n",
      "(<tf.Tensor: shape=(), dtype=float32, numpy=2.1638365>, <tf.Tensor: shape=(), dtype=float32, numpy=-2.366501>, <tf.Tensor: shape=(), dtype=float32, numpy=-0.2276478>)\n",
      "\n",
      "(<tf.Tensor: shape=(), dtype=float32, numpy=0.47902864>, <tf.Tensor: shape=(), dtype=float32, numpy=0.7283216>, <tf.Tensor: shape=(), dtype=float32, numpy=2.0894246>)\n",
      "\n",
      "(<tf.Tensor: shape=(), dtype=float32, numpy=0.27986634>, <tf.Tensor: shape=(), dtype=float32, numpy=-0.178195>, <tf.Tensor: shape=(), dtype=float32, numpy=1.912796>)\n",
      "\n",
      "(<tf.Tensor: shape=(), dtype=float32, numpy=-0.68688595>, <tf.Tensor: shape=(), dtype=float32, numpy=-1.5973902>, <tf.Tensor: shape=(), dtype=float32, numpy=0.4200614>)\n",
      "\n",
      "(<tf.Tensor: shape=(), dtype=float32, numpy=0.37320673>, <tf.Tensor: shape=(), dtype=float32, numpy=0.019971415>, <tf.Tensor: shape=(), dtype=float32, numpy=1.7683594>)\n",
      "\n",
      "(<tf.Tensor: shape=(), dtype=float32, numpy=-0.096382916>, <tf.Tensor: shape=(), dtype=float32, numpy=-0.8766948>, <tf.Tensor: shape=(), dtype=float32, numpy=1.0580947>)\n",
      "\n",
      "(<tf.Tensor: shape=(), dtype=float32, numpy=-0.18504062>, <tf.Tensor: shape=(), dtype=float32, numpy=-1.3234855>, <tf.Tensor: shape=(), dtype=float32, numpy=1.619106>)\n",
      "\n",
      "(<tf.Tensor: shape=(), dtype=float32, numpy=0.793416>, <tf.Tensor: shape=(), dtype=float32, numpy=0.3783876>, <tf.Tensor: shape=(), dtype=float32, numpy=1.1709328>)\n",
      "\n",
      "(<tf.Tensor: shape=(), dtype=float32, numpy=-0.4107465>, <tf.Tensor: shape=(), dtype=float32, numpy=-0.47124878>, <tf.Tensor: shape=(), dtype=float32, numpy=1.6347795>)\n",
      "\n",
      "(<tf.Tensor: shape=(), dtype=float32, numpy=0.1368419>, <tf.Tensor: shape=(), dtype=float32, numpy=-0.9017183>, <tf.Tensor: shape=(), dtype=float32, numpy=1.1166471>)\n",
      "\n",
      "(<tf.Tensor: shape=(), dtype=float32, numpy=-0.5100701>, <tf.Tensor: shape=(), dtype=float32, numpy=-0.14263315>, <tf.Tensor: shape=(), dtype=float32, numpy=1.4946342>)\n",
      "\n",
      "(<tf.Tensor: shape=(), dtype=float32, numpy=-0.15389276>, <tf.Tensor: shape=(), dtype=float32, numpy=-1.1491582>, <tf.Tensor: shape=(), dtype=float32, numpy=1.0463254>)\n",
      "\n",
      "(<tf.Tensor: shape=(), dtype=float32, numpy=0.3207916>, <tf.Tensor: shape=(), dtype=float32, numpy=-0.4356106>, <tf.Tensor: shape=(), dtype=float32, numpy=1.8257225>)\n",
      "\n",
      "(<tf.Tensor: shape=(), dtype=float32, numpy=1.3261116>, <tf.Tensor: shape=(), dtype=float32, numpy=-0.263877>, <tf.Tensor: shape=(), dtype=float32, numpy=1.122834>)\n",
      "\n",
      "(<tf.Tensor: shape=(), dtype=float32, numpy=-1.2408887>, <tf.Tensor: shape=(), dtype=float32, numpy=0.7403466>, <tf.Tensor: shape=(), dtype=float32, numpy=1.4498386>)\n",
      "\n",
      "(<tf.Tensor: shape=(), dtype=float32, numpy=0.7455971>, <tf.Tensor: shape=(), dtype=float32, numpy=-0.35534614>, <tf.Tensor: shape=(), dtype=float32, numpy=1.746292>)\n",
      "\n",
      "(<tf.Tensor: shape=(), dtype=float32, numpy=-0.05781184>, <tf.Tensor: shape=(), dtype=float32, numpy=0.13567561>, <tf.Tensor: shape=(), dtype=float32, numpy=1.787349>)\n",
      "\n",
      "(<tf.Tensor: shape=(), dtype=float32, numpy=-1.113211>, <tf.Tensor: shape=(), dtype=float32, numpy=-0.6931181>, <tf.Tensor: shape=(), dtype=float32, numpy=1.2897805>)\n",
      "\n",
      "(<tf.Tensor: shape=(), dtype=float32, numpy=0.072246045>, <tf.Tensor: shape=(), dtype=float32, numpy=-1.7148485>, <tf.Tensor: shape=(), dtype=float32, numpy=0.8681418>)\n",
      "\n",
      "(<tf.Tensor: shape=(), dtype=float32, numpy=0.19772139>, <tf.Tensor: shape=(), dtype=float32, numpy=-0.7024474>, <tf.Tensor: shape=(), dtype=float32, numpy=0.62929124>)\n",
      "\n",
      "(<tf.Tensor: shape=(), dtype=float32, numpy=0.78138596>, <tf.Tensor: shape=(), dtype=float32, numpy=-0.5831448>, <tf.Tensor: shape=(), dtype=float32, numpy=1.187607>)\n",
      "\n",
      "(<tf.Tensor: shape=(), dtype=float32, numpy=-0.8867731>, <tf.Tensor: shape=(), dtype=float32, numpy=0.30928928>, <tf.Tensor: shape=(), dtype=float32, numpy=1.1644846>)\n",
      "\n",
      "(<tf.Tensor: shape=(), dtype=float32, numpy=-0.27772844>, <tf.Tensor: shape=(), dtype=float32, numpy=0.6468417>, <tf.Tensor: shape=(), dtype=float32, numpy=1.9529697>)\n",
      "\n",
      "(<tf.Tensor: shape=(), dtype=float32, numpy=0.62059546>, <tf.Tensor: shape=(), dtype=float32, numpy=-1.5943484>, <tf.Tensor: shape=(), dtype=float32, numpy=0.5691488>)\n",
      "\n",
      "(<tf.Tensor: shape=(), dtype=float32, numpy=-0.15792105>, <tf.Tensor: shape=(), dtype=float32, numpy=-0.415374>, <tf.Tensor: shape=(), dtype=float32, numpy=1.3673586>)\n",
      "\n",
      "(<tf.Tensor: shape=(), dtype=float32, numpy=0.40365106>, <tf.Tensor: shape=(), dtype=float32, numpy=-0.85903555>, <tf.Tensor: shape=(), dtype=float32, numpy=1.428241>)\n",
      "\n",
      "(<tf.Tensor: shape=(), dtype=float32, numpy=-0.038259923>, <tf.Tensor: shape=(), dtype=float32, numpy=0.06705105>, <tf.Tensor: shape=(), dtype=float32, numpy=1.1570781>)\n",
      "\n",
      "(<tf.Tensor: shape=(), dtype=float32, numpy=-0.23623821>, <tf.Tensor: shape=(), dtype=float32, numpy=-1.3610696>, <tf.Tensor: shape=(), dtype=float32, numpy=0.98290706>)\n",
      "\n",
      "(<tf.Tensor: shape=(), dtype=float32, numpy=0.31222743>, <tf.Tensor: shape=(), dtype=float32, numpy=-1.26991>, <tf.Tensor: shape=(), dtype=float32, numpy=-0.41938573>)\n",
      "\n",
      "(<tf.Tensor: shape=(), dtype=float32, numpy=0.18894246>, <tf.Tensor: shape=(), dtype=float32, numpy=-0.32997337>, <tf.Tensor: shape=(), dtype=float32, numpy=1.6358439>)\n",
      "\n",
      "(<tf.Tensor: shape=(), dtype=float32, numpy=-0.46117112>, <tf.Tensor: shape=(), dtype=float32, numpy=-0.77161443>, <tf.Tensor: shape=(), dtype=float32, numpy=0.9508513>)\n",
      "\n",
      "(<tf.Tensor: shape=(), dtype=float32, numpy=0.24862662>, <tf.Tensor: shape=(), dtype=float32, numpy=-0.14466155>, <tf.Tensor: shape=(), dtype=float32, numpy=0.9902009>)\n",
      "\n",
      "(<tf.Tensor: shape=(), dtype=float32, numpy=-0.0861277>, <tf.Tensor: shape=(), dtype=float32, numpy=0.22104359>, <tf.Tensor: shape=(), dtype=float32, numpy=1.8710082>)\n",
      "\n",
      "(<tf.Tensor: shape=(), dtype=float32, numpy=0.88444984>, <tf.Tensor: shape=(), dtype=float32, numpy=-1.5354584>, <tf.Tensor: shape=(), dtype=float32, numpy=0.7452377>)\n",
      "\n",
      "(<tf.Tensor: shape=(), dtype=float32, numpy=0.0819779>, <tf.Tensor: shape=(), dtype=float32, numpy=-1.0582027>, <tf.Tensor: shape=(), dtype=float32, numpy=0.75065184>)\n",
      "\n",
      "(<tf.Tensor: shape=(), dtype=float32, numpy=-1.8803294>, <tf.Tensor: shape=(), dtype=float32, numpy=2.038469>, <tf.Tensor: shape=(), dtype=float32, numpy=1.2551453>)\n",
      "\n",
      "(<tf.Tensor: shape=(), dtype=float32, numpy=0.28190058>, <tf.Tensor: shape=(), dtype=float32, numpy=-0.93099326>, <tf.Tensor: shape=(), dtype=float32, numpy=0.5377362>)\n",
      "\n",
      "(<tf.Tensor: shape=(), dtype=float32, numpy=-0.6247841>, <tf.Tensor: shape=(), dtype=float32, numpy=-1.1675026>, <tf.Tensor: shape=(), dtype=float32, numpy=0.9030399>)\n",
      "\n",
      "(<tf.Tensor: shape=(), dtype=float32, numpy=-0.37124178>, <tf.Tensor: shape=(), dtype=float32, numpy=0.08566046>, <tf.Tensor: shape=(), dtype=float32, numpy=0.9834957>)\n",
      "\n",
      "(<tf.Tensor: shape=(), dtype=float32, numpy=0.94822097>, <tf.Tensor: shape=(), dtype=float32, numpy=-0.7899845>, <tf.Tensor: shape=(), dtype=float32, numpy=0.993644>)\n",
      "\n",
      "(<tf.Tensor: shape=(), dtype=float32, numpy=0.053221047>, <tf.Tensor: shape=(), dtype=float32, numpy=-0.18411803>, <tf.Tensor: shape=(), dtype=float32, numpy=1.5751203>)\n",
      "\n",
      "(<tf.Tensor: shape=(), dtype=float32, numpy=-0.08784387>, <tf.Tensor: shape=(), dtype=float32, numpy=0.0029335022>, <tf.Tensor: shape=(), dtype=float32, numpy=1.6041762>)\n",
      "\n",
      "(<tf.Tensor: shape=(), dtype=float32, numpy=1.0874257>, <tf.Tensor: shape=(), dtype=float32, numpy=-1.3225725>, <tf.Tensor: shape=(), dtype=float32, numpy=0.57821405>)\n",
      "\n",
      "Mean squared error for step 30: 1.893\n",
      "(<tf.Tensor: shape=(), dtype=float32, numpy=-0.06426817>, <tf.Tensor: shape=(), dtype=float32, numpy=-1.3836448>, <tf.Tensor: shape=(), dtype=float32, numpy=0.7512859>)\n",
      "\n",
      "(<tf.Tensor: shape=(), dtype=float32, numpy=-0.058304057>, <tf.Tensor: shape=(), dtype=float32, numpy=-0.33105654>, <tf.Tensor: shape=(), dtype=float32, numpy=1.269697>)\n",
      "\n",
      "(<tf.Tensor: shape=(), dtype=float32, numpy=0.9232713>, <tf.Tensor: shape=(), dtype=float32, numpy=-0.02140224>, <tf.Tensor: shape=(), dtype=float32, numpy=0.92962664>)\n",
      "\n",
      "(<tf.Tensor: shape=(), dtype=float32, numpy=0.5036557>, <tf.Tensor: shape=(), dtype=float32, numpy=-0.13097915>, <tf.Tensor: shape=(), dtype=float32, numpy=0.9283347>)\n",
      "\n",
      "(<tf.Tensor: shape=(), dtype=float32, numpy=-0.3154172>, <tf.Tensor: shape=(), dtype=float32, numpy=-0.27994502>, <tf.Tensor: shape=(), dtype=float32, numpy=1.3947202>)\n",
      "\n",
      "(<tf.Tensor: shape=(), dtype=float32, numpy=-0.38236272>, <tf.Tensor: shape=(), dtype=float32, numpy=0.45398682>, <tf.Tensor: shape=(), dtype=float32, numpy=1.684568>)\n",
      "\n",
      "(<tf.Tensor: shape=(), dtype=float32, numpy=-1.4226362>, <tf.Tensor: shape=(), dtype=float32, numpy=-4.560936>, <tf.Tensor: shape=(), dtype=float32, numpy=-1.6485099>)\n",
      "\n",
      "(<tf.Tensor: shape=(), dtype=float32, numpy=-0.11962116>, <tf.Tensor: shape=(), dtype=float32, numpy=0.49177086>, <tf.Tensor: shape=(), dtype=float32, numpy=1.4740224>)\n",
      "\n",
      "(<tf.Tensor: shape=(), dtype=float32, numpy=0.5865776>, <tf.Tensor: shape=(), dtype=float32, numpy=0.29420674>, <tf.Tensor: shape=(), dtype=float32, numpy=1.1463935>)\n",
      "\n",
      "(<tf.Tensor: shape=(), dtype=float32, numpy=0.3637536>, <tf.Tensor: shape=(), dtype=float32, numpy=-0.9820737>, <tf.Tensor: shape=(), dtype=float32, numpy=0.7489921>)\n",
      "\n",
      "(<tf.Tensor: shape=(), dtype=float32, numpy=-0.55193865>, <tf.Tensor: shape=(), dtype=float32, numpy=-0.18710387>, <tf.Tensor: shape=(), dtype=float32, numpy=1.2091534>)\n",
      "\n",
      "(<tf.Tensor: shape=(), dtype=float32, numpy=-0.5044369>, <tf.Tensor: shape=(), dtype=float32, numpy=-0.8468021>, <tf.Tensor: shape=(), dtype=float32, numpy=0.5030215>)\n",
      "\n",
      "(<tf.Tensor: shape=(), dtype=float32, numpy=0.6546009>, <tf.Tensor: shape=(), dtype=float32, numpy=-0.69499475>, <tf.Tensor: shape=(), dtype=float32, numpy=1.1506213>)\n",
      "\n",
      "(<tf.Tensor: shape=(), dtype=float32, numpy=-0.16524985>, <tf.Tensor: shape=(), dtype=float32, numpy=0.0024949387>, <tf.Tensor: shape=(), dtype=float32, numpy=1.3874285>)\n",
      "\n",
      "(<tf.Tensor: shape=(), dtype=float32, numpy=0.24763395>, <tf.Tensor: shape=(), dtype=float32, numpy=-0.49457642>, <tf.Tensor: shape=(), dtype=float32, numpy=0.91667914>)\n",
      "\n",
      "(<tf.Tensor: shape=(), dtype=float32, numpy=0.16084492>, <tf.Tensor: shape=(), dtype=float32, numpy=-1.3226664>, <tf.Tensor: shape=(), dtype=float32, numpy=0.5942505>)\n",
      "\n",
      "(<tf.Tensor: shape=(), dtype=float32, numpy=-0.501127>, <tf.Tensor: shape=(), dtype=float32, numpy=0.113480866>, <tf.Tensor: shape=(), dtype=float32, numpy=0.8227962>)\n",
      "\n",
      "(<tf.Tensor: shape=(), dtype=float32, numpy=-0.60886407>, <tf.Tensor: shape=(), dtype=float32, numpy=0.42361605>, <tf.Tensor: shape=(), dtype=float32, numpy=1.5071418>)\n",
      "\n",
      "(<tf.Tensor: shape=(), dtype=float32, numpy=0.696732>, <tf.Tensor: shape=(), dtype=float32, numpy=-0.23739398>, <tf.Tensor: shape=(), dtype=float32, numpy=0.94018966>)\n",
      "\n",
      "(<tf.Tensor: shape=(), dtype=float32, numpy=0.0407231>, <tf.Tensor: shape=(), dtype=float32, numpy=-0.030396938>, <tf.Tensor: shape=(), dtype=float32, numpy=1.4879556>)\n",
      "\n",
      "(<tf.Tensor: shape=(), dtype=float32, numpy=1.1666487>, <tf.Tensor: shape=(), dtype=float32, numpy=-1.1723837>, <tf.Tensor: shape=(), dtype=float32, numpy=-0.10037148>)\n",
      "\n",
      "(<tf.Tensor: shape=(), dtype=float32, numpy=-0.113778204>, <tf.Tensor: shape=(), dtype=float32, numpy=0.208334>, <tf.Tensor: shape=(), dtype=float32, numpy=1.4816487>)\n",
      "\n",
      "(<tf.Tensor: shape=(), dtype=float32, numpy=0.31823683>, <tf.Tensor: shape=(), dtype=float32, numpy=-0.24800068>, <tf.Tensor: shape=(), dtype=float32, numpy=0.89127755>)\n",
      "\n",
      "(<tf.Tensor: shape=(), dtype=float32, numpy=-0.8108715>, <tf.Tensor: shape=(), dtype=float32, numpy=-1.4728125>, <tf.Tensor: shape=(), dtype=float32, numpy=0.23893094>)\n",
      "\n",
      "(<tf.Tensor: shape=(), dtype=float32, numpy=-0.1177319>, <tf.Tensor: shape=(), dtype=float32, numpy=-0.3880147>, <tf.Tensor: shape=(), dtype=float32, numpy=0.6723514>)\n",
      "\n",
      "(<tf.Tensor: shape=(), dtype=float32, numpy=0.61646616>, <tf.Tensor: shape=(), dtype=float32, numpy=-0.8249491>, <tf.Tensor: shape=(), dtype=float32, numpy=0.8166028>)\n",
      "\n",
      "(<tf.Tensor: shape=(), dtype=float32, numpy=0.3898788>, <tf.Tensor: shape=(), dtype=float32, numpy=0.81980336>, <tf.Tensor: shape=(), dtype=float32, numpy=1.5131295>)\n",
      "\n",
      "(<tf.Tensor: shape=(), dtype=float32, numpy=-0.29740348>, <tf.Tensor: shape=(), dtype=float32, numpy=0.38247433>, <tf.Tensor: shape=(), dtype=float32, numpy=1.1244766>)\n",
      "\n",
      "(<tf.Tensor: shape=(), dtype=float32, numpy=0.17474288>, <tf.Tensor: shape=(), dtype=float32, numpy=-1.1466513>, <tf.Tensor: shape=(), dtype=float32, numpy=0.4455793>)\n",
      "\n",
      "(<tf.Tensor: shape=(), dtype=float32, numpy=0.85598075>, <tf.Tensor: shape=(), dtype=float32, numpy=-0.4271028>, <tf.Tensor: shape=(), dtype=float32, numpy=0.7830485>)\n",
      "\n",
      "(<tf.Tensor: shape=(), dtype=float32, numpy=-0.34701568>, <tf.Tensor: shape=(), dtype=float32, numpy=-0.68680835>, <tf.Tensor: shape=(), dtype=float32, numpy=1.2437007>)\n",
      "\n",
      "(<tf.Tensor: shape=(), dtype=float32, numpy=-0.43883026>, <tf.Tensor: shape=(), dtype=float32, numpy=0.31161284>, <tf.Tensor: shape=(), dtype=float32, numpy=0.9887944>)\n",
      "\n",
      "(<tf.Tensor: shape=(), dtype=float32, numpy=-0.04719466>, <tf.Tensor: shape=(), dtype=float32, numpy=-0.14758264>, <tf.Tensor: shape=(), dtype=float32, numpy=0.90547323>)\n",
      "\n",
      "(<tf.Tensor: shape=(), dtype=float32, numpy=0.08695245>, <tf.Tensor: shape=(), dtype=float32, numpy=0.43005514>, <tf.Tensor: shape=(), dtype=float32, numpy=1.0360326>)\n",
      "\n",
      "(<tf.Tensor: shape=(), dtype=float32, numpy=-0.7174567>, <tf.Tensor: shape=(), dtype=float32, numpy=-1.7858603>, <tf.Tensor: shape=(), dtype=float32, numpy=0.08088019>)\n",
      "\n",
      "(<tf.Tensor: shape=(), dtype=float32, numpy=-0.5102125>, <tf.Tensor: shape=(), dtype=float32, numpy=0.7798856>, <tf.Tensor: shape=(), dtype=float32, numpy=1.4987226>)\n",
      "\n",
      "(<tf.Tensor: shape=(), dtype=float32, numpy=-0.15936811>, <tf.Tensor: shape=(), dtype=float32, numpy=-1.18422>, <tf.Tensor: shape=(), dtype=float32, numpy=0.5035192>)\n",
      "\n",
      "(<tf.Tensor: shape=(), dtype=float32, numpy=-0.056492236>, <tf.Tensor: shape=(), dtype=float32, numpy=-0.017547749>, <tf.Tensor: shape=(), dtype=float32, numpy=1.059686>)\n",
      "\n",
      "(<tf.Tensor: shape=(), dtype=float32, numpy=0.09667298>, <tf.Tensor: shape=(), dtype=float32, numpy=0.19604474>, <tf.Tensor: shape=(), dtype=float32, numpy=1.0179489>)\n",
      "\n",
      "(<tf.Tensor: shape=(), dtype=float32, numpy=0.15601486>, <tf.Tensor: shape=(), dtype=float32, numpy=-1.0136756>, <tf.Tensor: shape=(), dtype=float32, numpy=0.5506575>)\n",
      "\n",
      "(<tf.Tensor: shape=(), dtype=float32, numpy=0.5036732>, <tf.Tensor: shape=(), dtype=float32, numpy=-0.6869229>, <tf.Tensor: shape=(), dtype=float32, numpy=0.4398973>)\n",
      "\n",
      "(<tf.Tensor: shape=(), dtype=float32, numpy=1.0489129>, <tf.Tensor: shape=(), dtype=float32, numpy=-1.0724736>, <tf.Tensor: shape=(), dtype=float32, numpy=-0.010592967>)\n",
      "\n",
      "(<tf.Tensor: shape=(), dtype=float32, numpy=-0.033249676>, <tf.Tensor: shape=(), dtype=float32, numpy=-1.1678007>, <tf.Tensor: shape=(), dtype=float32, numpy=0.47066712>)\n",
      "\n",
      "(<tf.Tensor: shape=(), dtype=float32, numpy=-0.45459557>, <tf.Tensor: shape=(), dtype=float32, numpy=0.14037949>, <tf.Tensor: shape=(), dtype=float32, numpy=0.98132265>)\n",
      "\n",
      "(<tf.Tensor: shape=(), dtype=float32, numpy=0.056027055>, <tf.Tensor: shape=(), dtype=float32, numpy=-0.054854155>, <tf.Tensor: shape=(), dtype=float32, numpy=0.46008843>)\n",
      "\n",
      "(<tf.Tensor: shape=(), dtype=float32, numpy=-0.2666245>, <tf.Tensor: shape=(), dtype=float32, numpy=-0.00800243>, <tf.Tensor: shape=(), dtype=float32, numpy=1.1817613>)\n",
      "\n",
      "(<tf.Tensor: shape=(), dtype=float32, numpy=0.16580847>, <tf.Tensor: shape=(), dtype=float32, numpy=-0.0978995>, <tf.Tensor: shape=(), dtype=float32, numpy=0.7569923>)\n",
      "\n",
      "(<tf.Tensor: shape=(), dtype=float32, numpy=0.8178381>, <tf.Tensor: shape=(), dtype=float32, numpy=-0.092918575>, <tf.Tensor: shape=(), dtype=float32, numpy=1.1658068>)\n",
      "\n",
      "(<tf.Tensor: shape=(), dtype=float32, numpy=-0.7053473>, <tf.Tensor: shape=(), dtype=float32, numpy=-0.62317204>, <tf.Tensor: shape=(), dtype=float32, numpy=0.40358654>)\n",
      "\n",
      "(<tf.Tensor: shape=(), dtype=float32, numpy=0.14687356>, <tf.Tensor: shape=(), dtype=float32, numpy=-0.44205856>, <tf.Tensor: shape=(), dtype=float32, numpy=0.39265287>)\n",
      "\n",
      "(<tf.Tensor: shape=(), dtype=float32, numpy=-0.04411748>, <tf.Tensor: shape=(), dtype=float32, numpy=0.2968446>, <tf.Tensor: shape=(), dtype=float32, numpy=0.9937397>)\n",
      "\n",
      "(<tf.Tensor: shape=(), dtype=float32, numpy=-0.10856843>, <tf.Tensor: shape=(), dtype=float32, numpy=-0.6414643>, <tf.Tensor: shape=(), dtype=float32, numpy=0.77720284>)\n",
      "\n",
      "(<tf.Tensor: shape=(), dtype=float32, numpy=0.20313099>, <tf.Tensor: shape=(), dtype=float32, numpy=-0.9218164>, <tf.Tensor: shape=(), dtype=float32, numpy=0.8391343>)\n",
      "\n",
      "(<tf.Tensor: shape=(), dtype=float32, numpy=0.051486433>, <tf.Tensor: shape=(), dtype=float32, numpy=-0.061920896>, <tf.Tensor: shape=(), dtype=float32, numpy=1.004226>)\n",
      "\n",
      "(<tf.Tensor: shape=(), dtype=float32, numpy=0.051675662>, <tf.Tensor: shape=(), dtype=float32, numpy=0.018488407>, <tf.Tensor: shape=(), dtype=float32, numpy=0.29643732>)\n",
      "\n",
      "(<tf.Tensor: shape=(), dtype=float32, numpy=-0.6928572>, <tf.Tensor: shape=(), dtype=float32, numpy=0.41132885>, <tf.Tensor: shape=(), dtype=float32, numpy=1.5842564>)\n",
      "\n",
      "(<tf.Tensor: shape=(), dtype=float32, numpy=0.80252945>, <tf.Tensor: shape=(), dtype=float32, numpy=-0.42239118>, <tf.Tensor: shape=(), dtype=float32, numpy=0.1278002>)\n",
      "\n",
      "(<tf.Tensor: shape=(), dtype=float32, numpy=0.2580378>, <tf.Tensor: shape=(), dtype=float32, numpy=-0.04101087>, <tf.Tensor: shape=(), dtype=float32, numpy=1.1844469>)\n",
      "\n",
      "(<tf.Tensor: shape=(), dtype=float32, numpy=-0.34340334>, <tf.Tensor: shape=(), dtype=float32, numpy=-0.35986316>, <tf.Tensor: shape=(), dtype=float32, numpy=0.8343917>)\n",
      "\n",
      "(<tf.Tensor: shape=(), dtype=float32, numpy=-0.19004361>, <tf.Tensor: shape=(), dtype=float32, numpy=0.39929682>, <tf.Tensor: shape=(), dtype=float32, numpy=1.4271433>)\n",
      "\n",
      "(<tf.Tensor: shape=(), dtype=float32, numpy=0.30821875>, <tf.Tensor: shape=(), dtype=float32, numpy=-1.7423561>, <tf.Tensor: shape=(), dtype=float32, numpy=-0.027422816>)\n",
      "\n",
      "(<tf.Tensor: shape=(), dtype=float32, numpy=-0.44313458>, <tf.Tensor: shape=(), dtype=float32, numpy=0.025944978>, <tf.Tensor: shape=(), dtype=float32, numpy=0.47396338>)\n",
      "\n",
      "(<tf.Tensor: shape=(), dtype=float32, numpy=-1.0367239>, <tf.Tensor: shape=(), dtype=float32, numpy=0.1808846>, <tf.Tensor: shape=(), dtype=float32, numpy=0.78890014>)\n",
      "\n",
      "(<tf.Tensor: shape=(), dtype=float32, numpy=-1.1062365>, <tf.Tensor: shape=(), dtype=float32, numpy=0.075932205>, <tf.Tensor: shape=(), dtype=float32, numpy=1.0120353>)\n",
      "\n",
      "(<tf.Tensor: shape=(), dtype=float32, numpy=0.88430226>, <tf.Tensor: shape=(), dtype=float32, numpy=-0.32861143>, <tf.Tensor: shape=(), dtype=float32, numpy=0.555189>)\n",
      "\n",
      "(<tf.Tensor: shape=(), dtype=float32, numpy=-0.33006987>, <tf.Tensor: shape=(), dtype=float32, numpy=-0.4094706>, <tf.Tensor: shape=(), dtype=float32, numpy=0.5686213>)\n",
      "\n",
      "(<tf.Tensor: shape=(), dtype=float32, numpy=0.3966864>, <tf.Tensor: shape=(), dtype=float32, numpy=0.12180701>, <tf.Tensor: shape=(), dtype=float32, numpy=0.75561684>)\n",
      "\n",
      "(<tf.Tensor: shape=(), dtype=float32, numpy=0.66515076>, <tf.Tensor: shape=(), dtype=float32, numpy=-1.2798302>, <tf.Tensor: shape=(), dtype=float32, numpy=0.06779204>)\n",
      "\n",
      "(<tf.Tensor: shape=(), dtype=float32, numpy=-0.19429141>, <tf.Tensor: shape=(), dtype=float32, numpy=-0.565613>, <tf.Tensor: shape=(), dtype=float32, numpy=0.56631756>)\n",
      "\n",
      "(<tf.Tensor: shape=(), dtype=float32, numpy=0.21865791>, <tf.Tensor: shape=(), dtype=float32, numpy=0.50933796>, <tf.Tensor: shape=(), dtype=float32, numpy=1.3978834>)\n",
      "\n",
      "Mean squared error for step 40: 1.310\n",
      "(<tf.Tensor: shape=(), dtype=float32, numpy=-0.21875903>, <tf.Tensor: shape=(), dtype=float32, numpy=0.19814362>, <tf.Tensor: shape=(), dtype=float32, numpy=0.6765677>)\n",
      "\n",
      "(<tf.Tensor: shape=(), dtype=float32, numpy=-0.3066557>, <tf.Tensor: shape=(), dtype=float32, numpy=-1.0113175>, <tf.Tensor: shape=(), dtype=float32, numpy=-0.027085453>)\n",
      "\n",
      "(<tf.Tensor: shape=(), dtype=float32, numpy=-0.1653519>, <tf.Tensor: shape=(), dtype=float32, numpy=-0.012868345>, <tf.Tensor: shape=(), dtype=float32, numpy=1.039561>)\n",
      "\n",
      "(<tf.Tensor: shape=(), dtype=float32, numpy=0.6483003>, <tf.Tensor: shape=(), dtype=float32, numpy=0.10145323>, <tf.Tensor: shape=(), dtype=float32, numpy=0.7716478>)\n",
      "\n",
      "(<tf.Tensor: shape=(), dtype=float32, numpy=0.13826379>, <tf.Tensor: shape=(), dtype=float32, numpy=-0.64486015>, <tf.Tensor: shape=(), dtype=float32, numpy=0.47139728>)\n",
      "\n",
      "(<tf.Tensor: shape=(), dtype=float32, numpy=0.054386392>, <tf.Tensor: shape=(), dtype=float32, numpy=0.20765814>, <tf.Tensor: shape=(), dtype=float32, numpy=0.8205184>)\n",
      "\n",
      "(<tf.Tensor: shape=(), dtype=float32, numpy=0.35016218>, <tf.Tensor: shape=(), dtype=float32, numpy=-3.6734495>, <tf.Tensor: shape=(), dtype=float32, numpy=-0.27709657>)\n",
      "\n",
      "(<tf.Tensor: shape=(), dtype=float32, numpy=0.4292306>, <tf.Tensor: shape=(), dtype=float32, numpy=-0.98623574>, <tf.Tensor: shape=(), dtype=float32, numpy=0.60337675>)\n",
      "\n",
      "(<tf.Tensor: shape=(), dtype=float32, numpy=-0.077681705>, <tf.Tensor: shape=(), dtype=float32, numpy=-0.79236615>, <tf.Tensor: shape=(), dtype=float32, numpy=0.206525>)\n",
      "\n",
      "(<tf.Tensor: shape=(), dtype=float32, numpy=-0.13501242>, <tf.Tensor: shape=(), dtype=float32, numpy=1.0134704>, <tf.Tensor: shape=(), dtype=float32, numpy=1.3095951>)\n",
      "\n",
      "(<tf.Tensor: shape=(), dtype=float32, numpy=0.20111774>, <tf.Tensor: shape=(), dtype=float32, numpy=0.24953455>, <tf.Tensor: shape=(), dtype=float32, numpy=0.944039>)\n",
      "\n",
      "(<tf.Tensor: shape=(), dtype=float32, numpy=-0.7277889>, <tf.Tensor: shape=(), dtype=float32, numpy=-0.6726513>, <tf.Tensor: shape=(), dtype=float32, numpy=-0.1325199>)\n",
      "\n",
      "(<tf.Tensor: shape=(), dtype=float32, numpy=0.30133343>, <tf.Tensor: shape=(), dtype=float32, numpy=0.23136458>, <tf.Tensor: shape=(), dtype=float32, numpy=0.9481673>)\n",
      "\n",
      "(<tf.Tensor: shape=(), dtype=float32, numpy=0.39409602>, <tf.Tensor: shape=(), dtype=float32, numpy=0.7789092>, <tf.Tensor: shape=(), dtype=float32, numpy=0.7166015>)\n",
      "\n",
      "(<tf.Tensor: shape=(), dtype=float32, numpy=-0.059681>, <tf.Tensor: shape=(), dtype=float32, numpy=-0.66172826>, <tf.Tensor: shape=(), dtype=float32, numpy=0.068622835>)\n",
      "\n",
      "(<tf.Tensor: shape=(), dtype=float32, numpy=0.40534407>, <tf.Tensor: shape=(), dtype=float32, numpy=-1.0602641>, <tf.Tensor: shape=(), dtype=float32, numpy=0.65948355>)\n",
      "\n",
      "(<tf.Tensor: shape=(), dtype=float32, numpy=-0.3095613>, <tf.Tensor: shape=(), dtype=float32, numpy=0.0693454>, <tf.Tensor: shape=(), dtype=float32, numpy=0.5474795>)\n",
      "\n",
      "(<tf.Tensor: shape=(), dtype=float32, numpy=0.04384704>, <tf.Tensor: shape=(), dtype=float32, numpy=-0.16575736>, <tf.Tensor: shape=(), dtype=float32, numpy=0.35486865>)\n",
      "\n",
      "(<tf.Tensor: shape=(), dtype=float32, numpy=-0.3671745>, <tf.Tensor: shape=(), dtype=float32, numpy=0.860848>, <tf.Tensor: shape=(), dtype=float32, numpy=0.9399638>)\n",
      "\n",
      "(<tf.Tensor: shape=(), dtype=float32, numpy=0.13244817>, <tf.Tensor: shape=(), dtype=float32, numpy=0.2504406>, <tf.Tensor: shape=(), dtype=float32, numpy=0.9499087>)\n",
      "\n",
      "(<tf.Tensor: shape=(), dtype=float32, numpy=0.8170837>, <tf.Tensor: shape=(), dtype=float32, numpy=-1.9224432>, <tf.Tensor: shape=(), dtype=float32, numpy=0.42224723>)\n",
      "\n",
      "(<tf.Tensor: shape=(), dtype=float32, numpy=0.2645149>, <tf.Tensor: shape=(), dtype=float32, numpy=0.27109694>, <tf.Tensor: shape=(), dtype=float32, numpy=0.745245>)\n",
      "\n",
      "(<tf.Tensor: shape=(), dtype=float32, numpy=0.24228841>, <tf.Tensor: shape=(), dtype=float32, numpy=-1.2850696>, <tf.Tensor: shape=(), dtype=float32, numpy=0.47864664>)\n",
      "\n",
      "(<tf.Tensor: shape=(), dtype=float32, numpy=-0.029618561>, <tf.Tensor: shape=(), dtype=float32, numpy=-0.2572365>, <tf.Tensor: shape=(), dtype=float32, numpy=0.27107072>)\n",
      "\n",
      "(<tf.Tensor: shape=(), dtype=float32, numpy=0.18399297>, <tf.Tensor: shape=(), dtype=float32, numpy=-0.08537793>, <tf.Tensor: shape=(), dtype=float32, numpy=0.43701932>)\n",
      "\n",
      "(<tf.Tensor: shape=(), dtype=float32, numpy=-0.24005899>, <tf.Tensor: shape=(), dtype=float32, numpy=0.6730856>, <tf.Tensor: shape=(), dtype=float32, numpy=0.9894099>)\n",
      "\n",
      "(<tf.Tensor: shape=(), dtype=float32, numpy=-0.5323584>, <tf.Tensor: shape=(), dtype=float32, numpy=-0.7042488>, <tf.Tensor: shape=(), dtype=float32, numpy=0.2176963>)\n",
      "\n",
      "(<tf.Tensor: shape=(), dtype=float32, numpy=0.018235855>, <tf.Tensor: shape=(), dtype=float32, numpy=1.1415867>, <tf.Tensor: shape=(), dtype=float32, numpy=1.2151148>)\n",
      "\n",
      "(<tf.Tensor: shape=(), dtype=float32, numpy=-0.6098206>, <tf.Tensor: shape=(), dtype=float32, numpy=-1.0583985>, <tf.Tensor: shape=(), dtype=float32, numpy=0.35691777>)\n",
      "\n",
      "(<tf.Tensor: shape=(), dtype=float32, numpy=0.45196155>, <tf.Tensor: shape=(), dtype=float32, numpy=0.30359307>, <tf.Tensor: shape=(), dtype=float32, numpy=0.6692098>)\n",
      "\n",
      "(<tf.Tensor: shape=(), dtype=float32, numpy=0.55061483>, <tf.Tensor: shape=(), dtype=float32, numpy=-0.033077717>, <tf.Tensor: shape=(), dtype=float32, numpy=0.19431368>)\n",
      "\n",
      "(<tf.Tensor: shape=(), dtype=float32, numpy=-0.106695324>, <tf.Tensor: shape=(), dtype=float32, numpy=-0.14788404>, <tf.Tensor: shape=(), dtype=float32, numpy=0.7439273>)\n",
      "\n",
      "(<tf.Tensor: shape=(), dtype=float32, numpy=-0.20391363>, <tf.Tensor: shape=(), dtype=float32, numpy=-1.4879533>, <tf.Tensor: shape=(), dtype=float32, numpy=0.13275692>)\n",
      "\n",
      "(<tf.Tensor: shape=(), dtype=float32, numpy=-0.11831997>, <tf.Tensor: shape=(), dtype=float32, numpy=0.7107333>, <tf.Tensor: shape=(), dtype=float32, numpy=0.69765365>)\n",
      "\n",
      "(<tf.Tensor: shape=(), dtype=float32, numpy=0.04818005>, <tf.Tensor: shape=(), dtype=float32, numpy=0.7035311>, <tf.Tensor: shape=(), dtype=float32, numpy=0.954953>)\n",
      "\n",
      "(<tf.Tensor: shape=(), dtype=float32, numpy=0.0841573>, <tf.Tensor: shape=(), dtype=float32, numpy=0.2418094>, <tf.Tensor: shape=(), dtype=float32, numpy=0.70130455>)\n",
      "\n",
      "(<tf.Tensor: shape=(), dtype=float32, numpy=-0.16890815>, <tf.Tensor: shape=(), dtype=float32, numpy=-0.56827915>, <tf.Tensor: shape=(), dtype=float32, numpy=0.08633686>)\n",
      "\n",
      "(<tf.Tensor: shape=(), dtype=float32, numpy=0.103979886>, <tf.Tensor: shape=(), dtype=float32, numpy=-0.016088024>, <tf.Tensor: shape=(), dtype=float32, numpy=1.0133842>)\n",
      "\n",
      "(<tf.Tensor: shape=(), dtype=float32, numpy=-0.12675232>, <tf.Tensor: shape=(), dtype=float32, numpy=-0.95215>, <tf.Tensor: shape=(), dtype=float32, numpy=0.14384422>)\n",
      "\n",
      "(<tf.Tensor: shape=(), dtype=float32, numpy=-0.116845444>, <tf.Tensor: shape=(), dtype=float32, numpy=-1.1771884>, <tf.Tensor: shape=(), dtype=float32, numpy=-0.15445748>)\n",
      "\n",
      "(<tf.Tensor: shape=(), dtype=float32, numpy=0.038785726>, <tf.Tensor: shape=(), dtype=float32, numpy=0.4651948>, <tf.Tensor: shape=(), dtype=float32, numpy=0.79141945>)\n",
      "\n",
      "(<tf.Tensor: shape=(), dtype=float32, numpy=0.54394305>, <tf.Tensor: shape=(), dtype=float32, numpy=0.5129727>, <tf.Tensor: shape=(), dtype=float32, numpy=0.4682315>)\n",
      "\n",
      "(<tf.Tensor: shape=(), dtype=float32, numpy=-0.22340804>, <tf.Tensor: shape=(), dtype=float32, numpy=-0.21110812>, <tf.Tensor: shape=(), dtype=float32, numpy=0.48246598>)\n",
      "\n",
      "(<tf.Tensor: shape=(), dtype=float32, numpy=-0.48425877>, <tf.Tensor: shape=(), dtype=float32, numpy=0.80686957>, <tf.Tensor: shape=(), dtype=float32, numpy=1.1094003>)\n",
      "\n",
      "(<tf.Tensor: shape=(), dtype=float32, numpy=0.29189026>, <tf.Tensor: shape=(), dtype=float32, numpy=-1.2888651>, <tf.Tensor: shape=(), dtype=float32, numpy=-0.16788271>)\n",
      "\n",
      "(<tf.Tensor: shape=(), dtype=float32, numpy=0.4194123>, <tf.Tensor: shape=(), dtype=float32, numpy=-0.5665541>, <tf.Tensor: shape=(), dtype=float32, numpy=0.41937077>)\n",
      "\n",
      "(<tf.Tensor: shape=(), dtype=float32, numpy=-0.30077544>, <tf.Tensor: shape=(), dtype=float32, numpy=-1.5631977>, <tf.Tensor: shape=(), dtype=float32, numpy=-0.34308127>)\n",
      "\n",
      "(<tf.Tensor: shape=(), dtype=float32, numpy=-0.07367422>, <tf.Tensor: shape=(), dtype=float32, numpy=0.67274237>, <tf.Tensor: shape=(), dtype=float32, numpy=0.8801313>)\n",
      "\n",
      "(<tf.Tensor: shape=(), dtype=float32, numpy=1.0324045>, <tf.Tensor: shape=(), dtype=float32, numpy=1.3785503>, <tf.Tensor: shape=(), dtype=float32, numpy=0.7502153>)\n",
      "\n",
      "(<tf.Tensor: shape=(), dtype=float32, numpy=0.33484542>, <tf.Tensor: shape=(), dtype=float32, numpy=0.0937925>, <tf.Tensor: shape=(), dtype=float32, numpy=0.591609>)\n",
      "\n",
      "(<tf.Tensor: shape=(), dtype=float32, numpy=0.3640115>, <tf.Tensor: shape=(), dtype=float32, numpy=-1.1746527>, <tf.Tensor: shape=(), dtype=float32, numpy=0.0885068>)\n",
      "\n",
      "(<tf.Tensor: shape=(), dtype=float32, numpy=-0.6538322>, <tf.Tensor: shape=(), dtype=float32, numpy=-0.40395457>, <tf.Tensor: shape=(), dtype=float32, numpy=-0.060380697>)\n",
      "\n",
      "(<tf.Tensor: shape=(), dtype=float32, numpy=0.31880093>, <tf.Tensor: shape=(), dtype=float32, numpy=-0.16007292>, <tf.Tensor: shape=(), dtype=float32, numpy=0.2779956>)\n",
      "\n",
      "(<tf.Tensor: shape=(), dtype=float32, numpy=-0.15364936>, <tf.Tensor: shape=(), dtype=float32, numpy=-0.6157239>, <tf.Tensor: shape=(), dtype=float32, numpy=0.5351882>)\n",
      "\n",
      "(<tf.Tensor: shape=(), dtype=float32, numpy=-0.44737428>, <tf.Tensor: shape=(), dtype=float32, numpy=0.14767598>, <tf.Tensor: shape=(), dtype=float32, numpy=0.46027863>)\n",
      "\n",
      "(<tf.Tensor: shape=(), dtype=float32, numpy=0.03859526>, <tf.Tensor: shape=(), dtype=float32, numpy=1.2359571>, <tf.Tensor: shape=(), dtype=float32, numpy=1.9046612>)\n",
      "\n",
      "(<tf.Tensor: shape=(), dtype=float32, numpy=0.46112847>, <tf.Tensor: shape=(), dtype=float32, numpy=0.09407939>, <tf.Tensor: shape=(), dtype=float32, numpy=0.41314757>)\n",
      "\n",
      "(<tf.Tensor: shape=(), dtype=float32, numpy=0.31995726>, <tf.Tensor: shape=(), dtype=float32, numpy=-1.737428>, <tf.Tensor: shape=(), dtype=float32, numpy=-0.7236012>)\n",
      "\n",
      "(<tf.Tensor: shape=(), dtype=float32, numpy=-0.48892924>, <tf.Tensor: shape=(), dtype=float32, numpy=-0.47920412>, <tf.Tensor: shape=(), dtype=float32, numpy=0.032374024>)\n",
      "\n",
      "(<tf.Tensor: shape=(), dtype=float32, numpy=-0.017012656>, <tf.Tensor: shape=(), dtype=float32, numpy=0.2861452>, <tf.Tensor: shape=(), dtype=float32, numpy=0.9805445>)\n",
      "\n",
      "(<tf.Tensor: shape=(), dtype=float32, numpy=-0.37072897>, <tf.Tensor: shape=(), dtype=float32, numpy=-0.12560761>, <tf.Tensor: shape=(), dtype=float32, numpy=0.4408952>)\n",
      "\n",
      "(<tf.Tensor: shape=(), dtype=float32, numpy=-0.25028002>, <tf.Tensor: shape=(), dtype=float32, numpy=-0.34444964>, <tf.Tensor: shape=(), dtype=float32, numpy=0.82888776>)\n",
      "\n",
      "(<tf.Tensor: shape=(), dtype=float32, numpy=0.40893108>, <tf.Tensor: shape=(), dtype=float32, numpy=1.3539903>, <tf.Tensor: shape=(), dtype=float32, numpy=0.73196423>)\n",
      "\n",
      "(<tf.Tensor: shape=(), dtype=float32, numpy=-0.031973448>, <tf.Tensor: shape=(), dtype=float32, numpy=0.28065357>, <tf.Tensor: shape=(), dtype=float32, numpy=0.95152307>)\n",
      "\n",
      "(<tf.Tensor: shape=(), dtype=float32, numpy=-0.67083794>, <tf.Tensor: shape=(), dtype=float32, numpy=-0.9198303>, <tf.Tensor: shape=(), dtype=float32, numpy=-0.35841915>)\n",
      "\n",
      "(<tf.Tensor: shape=(), dtype=float32, numpy=0.62595075>, <tf.Tensor: shape=(), dtype=float32, numpy=-0.25345963>, <tf.Tensor: shape=(), dtype=float32, numpy=0.22573903>)\n",
      "\n",
      "(<tf.Tensor: shape=(), dtype=float32, numpy=-0.29850948>, <tf.Tensor: shape=(), dtype=float32, numpy=-0.71302146>, <tf.Tensor: shape=(), dtype=float32, numpy=-0.091309965>)\n",
      "\n",
      "(<tf.Tensor: shape=(), dtype=float32, numpy=0.02944225>, <tf.Tensor: shape=(), dtype=float32, numpy=-1.0855354>, <tf.Tensor: shape=(), dtype=float32, numpy=0.0490378>)\n",
      "\n",
      "(<tf.Tensor: shape=(), dtype=float32, numpy=0.4966964>, <tf.Tensor: shape=(), dtype=float32, numpy=0.3095494>, <tf.Tensor: shape=(), dtype=float32, numpy=0.8485596>)\n",
      "\n",
      "(<tf.Tensor: shape=(), dtype=float32, numpy=-1.0935133>, <tf.Tensor: shape=(), dtype=float32, numpy=0.8552189>, <tf.Tensor: shape=(), dtype=float32, numpy=1.0281144>)\n",
      "\n",
      "Mean squared error for step 50: 1.103\n",
      "(<tf.Tensor: shape=(), dtype=float32, numpy=-0.12963276>, <tf.Tensor: shape=(), dtype=float32, numpy=-0.41486597>, <tf.Tensor: shape=(), dtype=float32, numpy=0.09003985>)\n",
      "\n",
      "(<tf.Tensor: shape=(), dtype=float32, numpy=-0.030529082>, <tf.Tensor: shape=(), dtype=float32, numpy=0.0911836>, <tf.Tensor: shape=(), dtype=float32, numpy=0.4253448>)\n",
      "\n",
      "(<tf.Tensor: shape=(), dtype=float32, numpy=0.17061919>, <tf.Tensor: shape=(), dtype=float32, numpy=-1.3120959>, <tf.Tensor: shape=(), dtype=float32, numpy=-0.10695249>)\n",
      "\n",
      "(<tf.Tensor: shape=(), dtype=float32, numpy=0.29939735>, <tf.Tensor: shape=(), dtype=float32, numpy=0.1564109>, <tf.Tensor: shape=(), dtype=float32, numpy=0.5731618>)\n",
      "\n",
      "(<tf.Tensor: shape=(), dtype=float32, numpy=0.054355495>, <tf.Tensor: shape=(), dtype=float32, numpy=-0.50097895>, <tf.Tensor: shape=(), dtype=float32, numpy=0.19498593>)\n",
      "\n",
      "(<tf.Tensor: shape=(), dtype=float32, numpy=-0.24297328>, <tf.Tensor: shape=(), dtype=float32, numpy=0.20099802>, <tf.Tensor: shape=(), dtype=float32, numpy=0.51053977>)\n",
      "\n",
      "(<tf.Tensor: shape=(), dtype=float32, numpy=-0.5025308>, <tf.Tensor: shape=(), dtype=float32, numpy=-0.7198509>, <tf.Tensor: shape=(), dtype=float32, numpy=0.5609386>)\n",
      "\n",
      "(<tf.Tensor: shape=(), dtype=float32, numpy=-0.0939247>, <tf.Tensor: shape=(), dtype=float32, numpy=0.13847323>, <tf.Tensor: shape=(), dtype=float32, numpy=0.41905218>)\n",
      "\n",
      "(<tf.Tensor: shape=(), dtype=float32, numpy=0.44226792>, <tf.Tensor: shape=(), dtype=float32, numpy=-0.43909967>, <tf.Tensor: shape=(), dtype=float32, numpy=0.23543711>)\n",
      "\n",
      "(<tf.Tensor: shape=(), dtype=float32, numpy=-0.12751386>, <tf.Tensor: shape=(), dtype=float32, numpy=0.36948985>, <tf.Tensor: shape=(), dtype=float32, numpy=0.6612086>)\n",
      "\n",
      "(<tf.Tensor: shape=(), dtype=float32, numpy=0.547606>, <tf.Tensor: shape=(), dtype=float32, numpy=-0.32640398>, <tf.Tensor: shape=(), dtype=float32, numpy=0.37607992>)\n",
      "\n",
      "(<tf.Tensor: shape=(), dtype=float32, numpy=-0.68718374>, <tf.Tensor: shape=(), dtype=float32, numpy=-0.21481931>, <tf.Tensor: shape=(), dtype=float32, numpy=0.10502118>)\n",
      "\n",
      "(<tf.Tensor: shape=(), dtype=float32, numpy=-0.25386918>, <tf.Tensor: shape=(), dtype=float32, numpy=-0.7796917>, <tf.Tensor: shape=(), dtype=float32, numpy=-0.0050000474>)\n",
      "\n",
      "(<tf.Tensor: shape=(), dtype=float32, numpy=0.680324>, <tf.Tensor: shape=(), dtype=float32, numpy=-1.4994186>, <tf.Tensor: shape=(), dtype=float32, numpy=0.069166034>)\n",
      "\n",
      "(<tf.Tensor: shape=(), dtype=float32, numpy=-0.03740801>, <tf.Tensor: shape=(), dtype=float32, numpy=0.80834264>, <tf.Tensor: shape=(), dtype=float32, numpy=0.93730855>)\n",
      "\n",
      "(<tf.Tensor: shape=(), dtype=float32, numpy=-0.5697913>, <tf.Tensor: shape=(), dtype=float32, numpy=-0.99851024>, <tf.Tensor: shape=(), dtype=float32, numpy=-0.31663072>)\n",
      "\n",
      "(<tf.Tensor: shape=(), dtype=float32, numpy=-0.3081423>, <tf.Tensor: shape=(), dtype=float32, numpy=-0.4274347>, <tf.Tensor: shape=(), dtype=float32, numpy=0.3573353>)\n",
      "\n",
      "(<tf.Tensor: shape=(), dtype=float32, numpy=0.7193395>, <tf.Tensor: shape=(), dtype=float32, numpy=-0.73469985>, <tf.Tensor: shape=(), dtype=float32, numpy=-0.14352143>)\n",
      "\n",
      "(<tf.Tensor: shape=(), dtype=float32, numpy=0.13180067>, <tf.Tensor: shape=(), dtype=float32, numpy=0.42640823>, <tf.Tensor: shape=(), dtype=float32, numpy=0.5404185>)\n",
      "\n",
      "(<tf.Tensor: shape=(), dtype=float32, numpy=0.12916869>, <tf.Tensor: shape=(), dtype=float32, numpy=0.015754864>, <tf.Tensor: shape=(), dtype=float32, numpy=0.4148132>)\n",
      "\n",
      "(<tf.Tensor: shape=(), dtype=float32, numpy=-0.16387954>, <tf.Tensor: shape=(), dtype=float32, numpy=0.42595035>, <tf.Tensor: shape=(), dtype=float32, numpy=1.0487236>)\n",
      "\n",
      "(<tf.Tensor: shape=(), dtype=float32, numpy=0.54317266>, <tf.Tensor: shape=(), dtype=float32, numpy=0.013154358>, <tf.Tensor: shape=(), dtype=float32, numpy=0.49887824>)\n",
      "\n",
      "(<tf.Tensor: shape=(), dtype=float32, numpy=-0.47624248>, <tf.Tensor: shape=(), dtype=float32, numpy=-0.3841018>, <tf.Tensor: shape=(), dtype=float32, numpy=0.3607399>)\n",
      "\n",
      "(<tf.Tensor: shape=(), dtype=float32, numpy=-0.36145604>, <tf.Tensor: shape=(), dtype=float32, numpy=-0.9644216>, <tf.Tensor: shape=(), dtype=float32, numpy=-0.183359>)\n",
      "\n",
      "(<tf.Tensor: shape=(), dtype=float32, numpy=-0.057674132>, <tf.Tensor: shape=(), dtype=float32, numpy=0.106647395>, <tf.Tensor: shape=(), dtype=float32, numpy=0.16830567>)\n",
      "\n",
      "(<tf.Tensor: shape=(), dtype=float32, numpy=0.14588434>, <tf.Tensor: shape=(), dtype=float32, numpy=-0.13186373>, <tf.Tensor: shape=(), dtype=float32, numpy=0.14772688>)\n",
      "\n",
      "(<tf.Tensor: shape=(), dtype=float32, numpy=0.07295726>, <tf.Tensor: shape=(), dtype=float32, numpy=0.73366237>, <tf.Tensor: shape=(), dtype=float32, numpy=0.77924734>)\n",
      "\n",
      "(<tf.Tensor: shape=(), dtype=float32, numpy=0.49984294>, <tf.Tensor: shape=(), dtype=float32, numpy=-0.89632285>, <tf.Tensor: shape=(), dtype=float32, numpy=0.44976032>)\n",
      "\n",
      "(<tf.Tensor: shape=(), dtype=float32, numpy=-0.602338>, <tf.Tensor: shape=(), dtype=float32, numpy=0.32970703>, <tf.Tensor: shape=(), dtype=float32, numpy=0.7445117>)\n",
      "\n",
      "(<tf.Tensor: shape=(), dtype=float32, numpy=-0.15686323>, <tf.Tensor: shape=(), dtype=float32, numpy=-0.11238593>, <tf.Tensor: shape=(), dtype=float32, numpy=0.2767985>)\n",
      "\n",
      "(<tf.Tensor: shape=(), dtype=float32, numpy=0.0020067394>, <tf.Tensor: shape=(), dtype=float32, numpy=-0.60222214>, <tf.Tensor: shape=(), dtype=float32, numpy=0.2968219>)\n",
      "\n",
      "(<tf.Tensor: shape=(), dtype=float32, numpy=0.81171066>, <tf.Tensor: shape=(), dtype=float32, numpy=-0.3216862>, <tf.Tensor: shape=(), dtype=float32, numpy=0.11153078>)\n",
      "\n",
      "(<tf.Tensor: shape=(), dtype=float32, numpy=-0.3075943>, <tf.Tensor: shape=(), dtype=float32, numpy=0.26267618>, <tf.Tensor: shape=(), dtype=float32, numpy=0.08784667>)\n",
      "\n",
      "(<tf.Tensor: shape=(), dtype=float32, numpy=0.013166428>, <tf.Tensor: shape=(), dtype=float32, numpy=0.10918032>, <tf.Tensor: shape=(), dtype=float32, numpy=0.4698407>)\n",
      "\n",
      "(<tf.Tensor: shape=(), dtype=float32, numpy=0.75670457>, <tf.Tensor: shape=(), dtype=float32, numpy=-2.0921905>, <tf.Tensor: shape=(), dtype=float32, numpy=-0.8937295>)\n",
      "\n",
      "(<tf.Tensor: shape=(), dtype=float32, numpy=0.116333336>, <tf.Tensor: shape=(), dtype=float32, numpy=1.1331193>, <tf.Tensor: shape=(), dtype=float32, numpy=0.8035203>)\n",
      "\n",
      "(<tf.Tensor: shape=(), dtype=float32, numpy=0.06818676>, <tf.Tensor: shape=(), dtype=float32, numpy=-0.2851527>, <tf.Tensor: shape=(), dtype=float32, numpy=0.38263193>)\n",
      "\n",
      "(<tf.Tensor: shape=(), dtype=float32, numpy=0.12103014>, <tf.Tensor: shape=(), dtype=float32, numpy=-0.16364864>, <tf.Tensor: shape=(), dtype=float32, numpy=0.18778762>)\n",
      "\n",
      "(<tf.Tensor: shape=(), dtype=float32, numpy=0.18571034>, <tf.Tensor: shape=(), dtype=float32, numpy=-0.6841718>, <tf.Tensor: shape=(), dtype=float32, numpy=-0.28790036>)\n",
      "\n",
      "(<tf.Tensor: shape=(), dtype=float32, numpy=0.03595324>, <tf.Tensor: shape=(), dtype=float32, numpy=-0.71894574>, <tf.Tensor: shape=(), dtype=float32, numpy=0.07641001>)\n",
      "\n",
      "(<tf.Tensor: shape=(), dtype=float32, numpy=-0.5299317>, <tf.Tensor: shape=(), dtype=float32, numpy=0.5001312>, <tf.Tensor: shape=(), dtype=float32, numpy=0.8106669>)\n",
      "\n",
      "(<tf.Tensor: shape=(), dtype=float32, numpy=-0.7534909>, <tf.Tensor: shape=(), dtype=float32, numpy=-0.22631943>, <tf.Tensor: shape=(), dtype=float32, numpy=-0.09096098>)\n",
      "\n",
      "(<tf.Tensor: shape=(), dtype=float32, numpy=-0.20830962>, <tf.Tensor: shape=(), dtype=float32, numpy=-1.5915651>, <tf.Tensor: shape=(), dtype=float32, numpy=-0.78335625>)\n",
      "\n",
      "(<tf.Tensor: shape=(), dtype=float32, numpy=0.65991294>, <tf.Tensor: shape=(), dtype=float32, numpy=0.43895936>, <tf.Tensor: shape=(), dtype=float32, numpy=0.62018275>)\n",
      "\n",
      "(<tf.Tensor: shape=(), dtype=float32, numpy=0.014144823>, <tf.Tensor: shape=(), dtype=float32, numpy=0.7431245>, <tf.Tensor: shape=(), dtype=float32, numpy=0.76844025>)\n",
      "\n",
      "(<tf.Tensor: shape=(), dtype=float32, numpy=-0.27416608>, <tf.Tensor: shape=(), dtype=float32, numpy=-0.07499722>, <tf.Tensor: shape=(), dtype=float32, numpy=0.4489823>)\n",
      "\n",
      "(<tf.Tensor: shape=(), dtype=float32, numpy=-0.12271445>, <tf.Tensor: shape=(), dtype=float32, numpy=-0.20437258>, <tf.Tensor: shape=(), dtype=float32, numpy=0.26861632>)\n",
      "\n",
      "(<tf.Tensor: shape=(), dtype=float32, numpy=0.12532526>, <tf.Tensor: shape=(), dtype=float32, numpy=0.115229815>, <tf.Tensor: shape=(), dtype=float32, numpy=0.23396784>)\n",
      "\n",
      "(<tf.Tensor: shape=(), dtype=float32, numpy=-0.9365606>, <tf.Tensor: shape=(), dtype=float32, numpy=2.4695427>, <tf.Tensor: shape=(), dtype=float32, numpy=1.6769482>)\n",
      "\n",
      "(<tf.Tensor: shape=(), dtype=float32, numpy=-0.49201378>, <tf.Tensor: shape=(), dtype=float32, numpy=-0.3227586>, <tf.Tensor: shape=(), dtype=float32, numpy=0.123609796>)\n",
      "\n",
      "(<tf.Tensor: shape=(), dtype=float32, numpy=0.4969813>, <tf.Tensor: shape=(), dtype=float32, numpy=-0.35027432>, <tf.Tensor: shape=(), dtype=float32, numpy=0.41421014>)\n",
      "\n",
      "(<tf.Tensor: shape=(), dtype=float32, numpy=0.40360403>, <tf.Tensor: shape=(), dtype=float32, numpy=-0.383224>, <tf.Tensor: shape=(), dtype=float32, numpy=-0.12817758>)\n",
      "\n",
      "(<tf.Tensor: shape=(), dtype=float32, numpy=-0.42310154>, <tf.Tensor: shape=(), dtype=float32, numpy=-0.6084599>, <tf.Tensor: shape=(), dtype=float32, numpy=0.004639514>)\n",
      "\n",
      "(<tf.Tensor: shape=(), dtype=float32, numpy=0.04729472>, <tf.Tensor: shape=(), dtype=float32, numpy=-0.13675083>, <tf.Tensor: shape=(), dtype=float32, numpy=0.4516779>)\n",
      "\n",
      "(<tf.Tensor: shape=(), dtype=float32, numpy=-0.41996807>, <tf.Tensor: shape=(), dtype=float32, numpy=0.7384229>, <tf.Tensor: shape=(), dtype=float32, numpy=0.7829782>)\n",
      "\n",
      "(<tf.Tensor: shape=(), dtype=float32, numpy=1.8795336>, <tf.Tensor: shape=(), dtype=float32, numpy=-0.35282135>, <tf.Tensor: shape=(), dtype=float32, numpy=-1.1555846>)\n",
      "\n",
      "(<tf.Tensor: shape=(), dtype=float32, numpy=0.10301778>, <tf.Tensor: shape=(), dtype=float32, numpy=0.015919566>, <tf.Tensor: shape=(), dtype=float32, numpy=0.4484895>)\n",
      "\n",
      "(<tf.Tensor: shape=(), dtype=float32, numpy=-0.11858639>, <tf.Tensor: shape=(), dtype=float32, numpy=-1.8062714>, <tf.Tensor: shape=(), dtype=float32, numpy=-0.4305459>)\n",
      "\n",
      "(<tf.Tensor: shape=(), dtype=float32, numpy=-0.021554887>, <tf.Tensor: shape=(), dtype=float32, numpy=1.2919347>, <tf.Tensor: shape=(), dtype=float32, numpy=0.61379284>)\n",
      "\n",
      "(<tf.Tensor: shape=(), dtype=float32, numpy=-0.38758907>, <tf.Tensor: shape=(), dtype=float32, numpy=-0.29208165>, <tf.Tensor: shape=(), dtype=float32, numpy=0.32546645>)\n",
      "\n",
      "(<tf.Tensor: shape=(), dtype=float32, numpy=0.16472208>, <tf.Tensor: shape=(), dtype=float32, numpy=-0.36431313>, <tf.Tensor: shape=(), dtype=float32, numpy=-0.17186697>)\n",
      "\n",
      "(<tf.Tensor: shape=(), dtype=float32, numpy=-0.19803971>, <tf.Tensor: shape=(), dtype=float32, numpy=0.054715633>, <tf.Tensor: shape=(), dtype=float32, numpy=0.12333222>)\n",
      "\n",
      "(<tf.Tensor: shape=(), dtype=float32, numpy=1.068441>, <tf.Tensor: shape=(), dtype=float32, numpy=1.3822035>, <tf.Tensor: shape=(), dtype=float32, numpy=2.0126407>)\n",
      "\n",
      "(<tf.Tensor: shape=(), dtype=float32, numpy=0.00079134107>, <tf.Tensor: shape=(), dtype=float32, numpy=-0.99161124>, <tf.Tensor: shape=(), dtype=float32, numpy=-0.056616545>)\n",
      "\n",
      "(<tf.Tensor: shape=(), dtype=float32, numpy=0.07013079>, <tf.Tensor: shape=(), dtype=float32, numpy=-0.024848908>, <tf.Tensor: shape=(), dtype=float32, numpy=0.4097077>)\n",
      "\n",
      "(<tf.Tensor: shape=(), dtype=float32, numpy=0.20567614>, <tf.Tensor: shape=(), dtype=float32, numpy=0.2065238>, <tf.Tensor: shape=(), dtype=float32, numpy=0.34799784>)\n",
      "\n",
      "(<tf.Tensor: shape=(), dtype=float32, numpy=-0.39113384>, <tf.Tensor: shape=(), dtype=float32, numpy=-0.3372647>, <tf.Tensor: shape=(), dtype=float32, numpy=0.034432754>)\n",
      "\n",
      "(<tf.Tensor: shape=(), dtype=float32, numpy=-0.072665036>, <tf.Tensor: shape=(), dtype=float32, numpy=-0.32099617>, <tf.Tensor: shape=(), dtype=float32, numpy=-0.0060492754>)\n",
      "\n",
      "(<tf.Tensor: shape=(), dtype=float32, numpy=-0.035505176>, <tf.Tensor: shape=(), dtype=float32, numpy=0.25003695>, <tf.Tensor: shape=(), dtype=float32, numpy=0.18898529>)\n",
      "\n",
      "(<tf.Tensor: shape=(), dtype=float32, numpy=-0.20095804>, <tf.Tensor: shape=(), dtype=float32, numpy=-0.1627574>, <tf.Tensor: shape=(), dtype=float32, numpy=0.62050337>)\n",
      "\n",
      "Mean squared error for step 60: 1.028\n",
      "(<tf.Tensor: shape=(), dtype=float32, numpy=0.17694569>, <tf.Tensor: shape=(), dtype=float32, numpy=-0.26652843>, <tf.Tensor: shape=(), dtype=float32, numpy=0.6763222>)\n",
      "\n",
      "(<tf.Tensor: shape=(), dtype=float32, numpy=-0.42261508>, <tf.Tensor: shape=(), dtype=float32, numpy=-0.7135906>, <tf.Tensor: shape=(), dtype=float32, numpy=-0.18134128>)\n",
      "\n",
      "(<tf.Tensor: shape=(), dtype=float32, numpy=0.67944616>, <tf.Tensor: shape=(), dtype=float32, numpy=-0.034311533>, <tf.Tensor: shape=(), dtype=float32, numpy=0.20135537>)\n",
      "\n",
      "(<tf.Tensor: shape=(), dtype=float32, numpy=0.00061018765>, <tf.Tensor: shape=(), dtype=float32, numpy=0.1256654>, <tf.Tensor: shape=(), dtype=float32, numpy=0.23744608>)\n",
      "\n",
      "(<tf.Tensor: shape=(), dtype=float32, numpy=-0.2127822>, <tf.Tensor: shape=(), dtype=float32, numpy=0.12624891>, <tf.Tensor: shape=(), dtype=float32, numpy=0.40033546>)\n",
      "\n",
      "(<tf.Tensor: shape=(), dtype=float32, numpy=-0.48379725>, <tf.Tensor: shape=(), dtype=float32, numpy=-0.5674938>, <tf.Tensor: shape=(), dtype=float32, numpy=-0.27355212>)\n",
      "\n",
      "(<tf.Tensor: shape=(), dtype=float32, numpy=0.108020626>, <tf.Tensor: shape=(), dtype=float32, numpy=0.7864203>, <tf.Tensor: shape=(), dtype=float32, numpy=-0.025712714>)\n",
      "\n",
      "(<tf.Tensor: shape=(), dtype=float32, numpy=-0.5784726>, <tf.Tensor: shape=(), dtype=float32, numpy=-0.3583097>, <tf.Tensor: shape=(), dtype=float32, numpy=-0.05715149>)\n",
      "\n",
      "(<tf.Tensor: shape=(), dtype=float32, numpy=0.37630406>, <tf.Tensor: shape=(), dtype=float32, numpy=0.7114991>, <tf.Tensor: shape=(), dtype=float32, numpy=0.7390275>)\n",
      "\n",
      "(<tf.Tensor: shape=(), dtype=float32, numpy=0.14001581>, <tf.Tensor: shape=(), dtype=float32, numpy=-0.114041194>, <tf.Tensor: shape=(), dtype=float32, numpy=-0.11839547>)\n",
      "\n",
      "(<tf.Tensor: shape=(), dtype=float32, numpy=-0.16069505>, <tf.Tensor: shape=(), dtype=float32, numpy=-0.8672464>, <tf.Tensor: shape=(), dtype=float32, numpy=-0.39151523>)\n",
      "\n",
      "(<tf.Tensor: shape=(), dtype=float32, numpy=-0.040352628>, <tf.Tensor: shape=(), dtype=float32, numpy=-0.23643945>, <tf.Tensor: shape=(), dtype=float32, numpy=0.39234656>)\n",
      "\n",
      "(<tf.Tensor: shape=(), dtype=float32, numpy=-0.024828672>, <tf.Tensor: shape=(), dtype=float32, numpy=-0.34385604>, <tf.Tensor: shape=(), dtype=float32, numpy=0.3434943>)\n",
      "\n",
      "(<tf.Tensor: shape=(), dtype=float32, numpy=0.5317108>, <tf.Tensor: shape=(), dtype=float32, numpy=0.06479564>, <tf.Tensor: shape=(), dtype=float32, numpy=0.27238852>)\n",
      "\n",
      "(<tf.Tensor: shape=(), dtype=float32, numpy=-0.10706113>, <tf.Tensor: shape=(), dtype=float32, numpy=-0.25224015>, <tf.Tensor: shape=(), dtype=float32, numpy=0.48659727>)\n",
      "\n",
      "(<tf.Tensor: shape=(), dtype=float32, numpy=0.2655421>, <tf.Tensor: shape=(), dtype=float32, numpy=-1.0021902>, <tf.Tensor: shape=(), dtype=float32, numpy=-0.22181562>)\n",
      "\n",
      "(<tf.Tensor: shape=(), dtype=float32, numpy=-0.29351854>, <tf.Tensor: shape=(), dtype=float32, numpy=0.09492024>, <tf.Tensor: shape=(), dtype=float32, numpy=0.21273458>)\n",
      "\n",
      "(<tf.Tensor: shape=(), dtype=float32, numpy=-0.052888274>, <tf.Tensor: shape=(), dtype=float32, numpy=0.291038>, <tf.Tensor: shape=(), dtype=float32, numpy=0.54352075>)\n",
      "\n",
      "(<tf.Tensor: shape=(), dtype=float32, numpy=-0.13674322>, <tf.Tensor: shape=(), dtype=float32, numpy=-0.013484389>, <tf.Tensor: shape=(), dtype=float32, numpy=0.030790329>)\n",
      "\n",
      "(<tf.Tensor: shape=(), dtype=float32, numpy=0.6198288>, <tf.Tensor: shape=(), dtype=float32, numpy=-0.2334181>, <tf.Tensor: shape=(), dtype=float32, numpy=-0.24231458>)\n",
      "\n",
      "(<tf.Tensor: shape=(), dtype=float32, numpy=-1.7764533>, <tf.Tensor: shape=(), dtype=float32, numpy=1.3598391>, <tf.Tensor: shape=(), dtype=float32, numpy=1.0202934>)\n",
      "\n",
      "(<tf.Tensor: shape=(), dtype=float32, numpy=-0.65340275>, <tf.Tensor: shape=(), dtype=float32, numpy=-0.092576966>, <tf.Tensor: shape=(), dtype=float32, numpy=0.12311014>)\n",
      "\n",
      "(<tf.Tensor: shape=(), dtype=float32, numpy=-0.013108086>, <tf.Tensor: shape=(), dtype=float32, numpy=0.64444405>, <tf.Tensor: shape=(), dtype=float32, numpy=0.68827945>)\n",
      "\n",
      "(<tf.Tensor: shape=(), dtype=float32, numpy=0.21171543>, <tf.Tensor: shape=(), dtype=float32, numpy=-1.4029813>, <tf.Tensor: shape=(), dtype=float32, numpy=-0.536462>)\n",
      "\n",
      "(<tf.Tensor: shape=(), dtype=float32, numpy=0.049488172>, <tf.Tensor: shape=(), dtype=float32, numpy=0.39298317>, <tf.Tensor: shape=(), dtype=float32, numpy=0.19399038>)\n",
      "\n",
      "(<tf.Tensor: shape=(), dtype=float32, numpy=-0.15576921>, <tf.Tensor: shape=(), dtype=float32, numpy=0.3879082>, <tf.Tensor: shape=(), dtype=float32, numpy=0.32215726>)\n",
      "\n",
      "(<tf.Tensor: shape=(), dtype=float32, numpy=0.6657286>, <tf.Tensor: shape=(), dtype=float32, numpy=-0.90390253>, <tf.Tensor: shape=(), dtype=float32, numpy=-0.23409927>)\n",
      "\n",
      "(<tf.Tensor: shape=(), dtype=float32, numpy=0.07631616>, <tf.Tensor: shape=(), dtype=float32, numpy=-1.310882>, <tf.Tensor: shape=(), dtype=float32, numpy=0.67424643>)\n",
      "\n",
      "(<tf.Tensor: shape=(), dtype=float32, numpy=-0.1927969>, <tf.Tensor: shape=(), dtype=float32, numpy=0.49504113>, <tf.Tensor: shape=(), dtype=float32, numpy=0.50726223>)\n",
      "\n",
      "(<tf.Tensor: shape=(), dtype=float32, numpy=0.16522351>, <tf.Tensor: shape=(), dtype=float32, numpy=0.05758001>, <tf.Tensor: shape=(), dtype=float32, numpy=0.07284062>)\n",
      "\n",
      "(<tf.Tensor: shape=(), dtype=float32, numpy=-0.4171911>, <tf.Tensor: shape=(), dtype=float32, numpy=0.48170534>, <tf.Tensor: shape=(), dtype=float32, numpy=0.5680787>)\n",
      "\n",
      "(<tf.Tensor: shape=(), dtype=float32, numpy=0.12583123>, <tf.Tensor: shape=(), dtype=float32, numpy=-0.71263164>, <tf.Tensor: shape=(), dtype=float32, numpy=0.30523074>)\n",
      "\n",
      "(<tf.Tensor: shape=(), dtype=float32, numpy=0.15059155>, <tf.Tensor: shape=(), dtype=float32, numpy=-0.7047217>, <tf.Tensor: shape=(), dtype=float32, numpy=-0.39490694>)\n",
      "\n",
      "(<tf.Tensor: shape=(), dtype=float32, numpy=0.4212531>, <tf.Tensor: shape=(), dtype=float32, numpy=-0.06465745>, <tf.Tensor: shape=(), dtype=float32, numpy=-0.12673652>)\n",
      "\n",
      "(<tf.Tensor: shape=(), dtype=float32, numpy=-0.73141754>, <tf.Tensor: shape=(), dtype=float32, numpy=-1.5849671>, <tf.Tensor: shape=(), dtype=float32, numpy=-0.30309024>)\n",
      "\n",
      "(<tf.Tensor: shape=(), dtype=float32, numpy=-0.20112929>, <tf.Tensor: shape=(), dtype=float32, numpy=-0.9155972>, <tf.Tensor: shape=(), dtype=float32, numpy=-0.18447657>)\n",
      "\n",
      "(<tf.Tensor: shape=(), dtype=float32, numpy=0.032060802>, <tf.Tensor: shape=(), dtype=float32, numpy=0.28730702>, <tf.Tensor: shape=(), dtype=float32, numpy=-0.026163742>)\n",
      "\n",
      "(<tf.Tensor: shape=(), dtype=float32, numpy=-0.11095679>, <tf.Tensor: shape=(), dtype=float32, numpy=0.5331352>, <tf.Tensor: shape=(), dtype=float32, numpy=0.47752336>)\n",
      "\n",
      "(<tf.Tensor: shape=(), dtype=float32, numpy=-0.6437754>, <tf.Tensor: shape=(), dtype=float32, numpy=0.36944202>, <tf.Tensor: shape=(), dtype=float32, numpy=0.44546497>)\n",
      "\n",
      "(<tf.Tensor: shape=(), dtype=float32, numpy=0.5817025>, <tf.Tensor: shape=(), dtype=float32, numpy=0.7795149>, <tf.Tensor: shape=(), dtype=float32, numpy=0.782056>)\n",
      "\n",
      "(<tf.Tensor: shape=(), dtype=float32, numpy=-0.10192956>, <tf.Tensor: shape=(), dtype=float32, numpy=-1.5171695>, <tf.Tensor: shape=(), dtype=float32, numpy=-0.53027>)\n",
      "\n",
      "(<tf.Tensor: shape=(), dtype=float32, numpy=1.9871107>, <tf.Tensor: shape=(), dtype=float32, numpy=1.9472492>, <tf.Tensor: shape=(), dtype=float32, numpy=0.9528624>)\n",
      "\n",
      "(<tf.Tensor: shape=(), dtype=float32, numpy=-0.3266594>, <tf.Tensor: shape=(), dtype=float32, numpy=-0.58197683>, <tf.Tensor: shape=(), dtype=float32, numpy=-0.14924502>)\n",
      "\n",
      "(<tf.Tensor: shape=(), dtype=float32, numpy=-0.5529613>, <tf.Tensor: shape=(), dtype=float32, numpy=-0.5366179>, <tf.Tensor: shape=(), dtype=float32, numpy=-0.0644269>)\n",
      "\n",
      "(<tf.Tensor: shape=(), dtype=float32, numpy=0.042745262>, <tf.Tensor: shape=(), dtype=float32, numpy=-0.60204357>, <tf.Tensor: shape=(), dtype=float32, numpy=0.09547864>)\n",
      "\n",
      "(<tf.Tensor: shape=(), dtype=float32, numpy=0.63248503>, <tf.Tensor: shape=(), dtype=float32, numpy=1.2438489>, <tf.Tensor: shape=(), dtype=float32, numpy=0.6354884>)\n",
      "\n",
      "(<tf.Tensor: shape=(), dtype=float32, numpy=-0.16092396>, <tf.Tensor: shape=(), dtype=float32, numpy=1.1723603>, <tf.Tensor: shape=(), dtype=float32, numpy=0.69624543>)\n",
      "\n",
      "(<tf.Tensor: shape=(), dtype=float32, numpy=-0.096134126>, <tf.Tensor: shape=(), dtype=float32, numpy=-0.9599695>, <tf.Tensor: shape=(), dtype=float32, numpy=-0.11515613>)\n",
      "\n",
      "(<tf.Tensor: shape=(), dtype=float32, numpy=1.3322662>, <tf.Tensor: shape=(), dtype=float32, numpy=-1.2939321>, <tf.Tensor: shape=(), dtype=float32, numpy=-0.9167824>)\n",
      "\n",
      "(<tf.Tensor: shape=(), dtype=float32, numpy=-0.22979127>, <tf.Tensor: shape=(), dtype=float32, numpy=0.1168381>, <tf.Tensor: shape=(), dtype=float32, numpy=0.31976873>)\n",
      "\n",
      "(<tf.Tensor: shape=(), dtype=float32, numpy=0.28450888>, <tf.Tensor: shape=(), dtype=float32, numpy=-0.7408003>, <tf.Tensor: shape=(), dtype=float32, numpy=0.0621866>)\n",
      "\n",
      "(<tf.Tensor: shape=(), dtype=float32, numpy=0.052247256>, <tf.Tensor: shape=(), dtype=float32, numpy=-0.69562566>, <tf.Tensor: shape=(), dtype=float32, numpy=-0.052042298>)\n",
      "\n",
      "(<tf.Tensor: shape=(), dtype=float32, numpy=-0.57213485>, <tf.Tensor: shape=(), dtype=float32, numpy=1.0009896>, <tf.Tensor: shape=(), dtype=float32, numpy=0.7448195>)\n",
      "\n",
      "(<tf.Tensor: shape=(), dtype=float32, numpy=0.09955331>, <tf.Tensor: shape=(), dtype=float32, numpy=-0.08997035>, <tf.Tensor: shape=(), dtype=float32, numpy=-0.1488452>)\n",
      "\n",
      "(<tf.Tensor: shape=(), dtype=float32, numpy=-0.09952089>, <tf.Tensor: shape=(), dtype=float32, numpy=0.28321004>, <tf.Tensor: shape=(), dtype=float32, numpy=0.19394808>)\n",
      "\n",
      "(<tf.Tensor: shape=(), dtype=float32, numpy=0.54455805>, <tf.Tensor: shape=(), dtype=float32, numpy=-0.064616784>, <tf.Tensor: shape=(), dtype=float32, numpy=-0.36545092>)\n",
      "\n",
      "(<tf.Tensor: shape=(), dtype=float32, numpy=0.28318357>, <tf.Tensor: shape=(), dtype=float32, numpy=0.18117553>, <tf.Tensor: shape=(), dtype=float32, numpy=0.7781942>)\n",
      "\n",
      "(<tf.Tensor: shape=(), dtype=float32, numpy=-0.68096226>, <tf.Tensor: shape=(), dtype=float32, numpy=1.1616453>, <tf.Tensor: shape=(), dtype=float32, numpy=0.6171922>)\n",
      "\n",
      "(<tf.Tensor: shape=(), dtype=float32, numpy=-0.2973545>, <tf.Tensor: shape=(), dtype=float32, numpy=-0.5495381>, <tf.Tensor: shape=(), dtype=float32, numpy=-0.023987368>)\n",
      "\n",
      "(<tf.Tensor: shape=(), dtype=float32, numpy=-0.19860041>, <tf.Tensor: shape=(), dtype=float32, numpy=-1.5268562>, <tf.Tensor: shape=(), dtype=float32, numpy=-0.55353194>)\n",
      "\n",
      "(<tf.Tensor: shape=(), dtype=float32, numpy=0.6209564>, <tf.Tensor: shape=(), dtype=float32, numpy=0.64037484>, <tf.Tensor: shape=(), dtype=float32, numpy=0.18065432>)\n",
      "\n",
      "(<tf.Tensor: shape=(), dtype=float32, numpy=0.26906526>, <tf.Tensor: shape=(), dtype=float32, numpy=-0.34096363>, <tf.Tensor: shape=(), dtype=float32, numpy=-0.2456244>)\n",
      "\n",
      "(<tf.Tensor: shape=(), dtype=float32, numpy=-0.98486483>, <tf.Tensor: shape=(), dtype=float32, numpy=-0.18630797>, <tf.Tensor: shape=(), dtype=float32, numpy=0.19603987>)\n",
      "\n",
      "(<tf.Tensor: shape=(), dtype=float32, numpy=-0.22694978>, <tf.Tensor: shape=(), dtype=float32, numpy=0.74456125>, <tf.Tensor: shape=(), dtype=float32, numpy=0.65067905>)\n",
      "\n",
      "(<tf.Tensor: shape=(), dtype=float32, numpy=-0.09666452>, <tf.Tensor: shape=(), dtype=float32, numpy=-0.780115>, <tf.Tensor: shape=(), dtype=float32, numpy=-0.10633141>)\n",
      "\n",
      "(<tf.Tensor: shape=(), dtype=float32, numpy=-0.31671023>, <tf.Tensor: shape=(), dtype=float32, numpy=0.10831703>, <tf.Tensor: shape=(), dtype=float32, numpy=0.4058588>)\n",
      "\n",
      "(<tf.Tensor: shape=(), dtype=float32, numpy=-0.035414964>, <tf.Tensor: shape=(), dtype=float32, numpy=0.4262827>, <tf.Tensor: shape=(), dtype=float32, numpy=0.31286186>)\n",
      "\n",
      "(<tf.Tensor: shape=(), dtype=float32, numpy=0.10955536>, <tf.Tensor: shape=(), dtype=float32, numpy=-0.33991557>, <tf.Tensor: shape=(), dtype=float32, numpy=0.010941282>)\n",
      "\n",
      "(<tf.Tensor: shape=(), dtype=float32, numpy=0.7838823>, <tf.Tensor: shape=(), dtype=float32, numpy=-0.9790623>, <tf.Tensor: shape=(), dtype=float32, numpy=-0.5457383>)\n",
      "\n",
      "(<tf.Tensor: shape=(), dtype=float32, numpy=-1.1358355>, <tf.Tensor: shape=(), dtype=float32, numpy=1.5605903>, <tf.Tensor: shape=(), dtype=float32, numpy=0.28220898>)\n",
      "\n",
      "Mean squared error for step 70: 1.004\n",
      "(<tf.Tensor: shape=(), dtype=float32, numpy=-0.20316695>, <tf.Tensor: shape=(), dtype=float32, numpy=0.31071898>, <tf.Tensor: shape=(), dtype=float32, numpy=0.27648085>)\n",
      "\n",
      "(<tf.Tensor: shape=(), dtype=float32, numpy=0.18740529>, <tf.Tensor: shape=(), dtype=float32, numpy=-0.61777484>, <tf.Tensor: shape=(), dtype=float32, numpy=-0.33098644>)\n",
      "\n",
      "(<tf.Tensor: shape=(), dtype=float32, numpy=-0.15444207>, <tf.Tensor: shape=(), dtype=float32, numpy=1.0697712>, <tf.Tensor: shape=(), dtype=float32, numpy=0.7675311>)\n",
      "\n",
      "(<tf.Tensor: shape=(), dtype=float32, numpy=0.19386186>, <tf.Tensor: shape=(), dtype=float32, numpy=-1.1560345>, <tf.Tensor: shape=(), dtype=float32, numpy=-0.25938237>)\n",
      "\n",
      "(<tf.Tensor: shape=(), dtype=float32, numpy=-0.1082996>, <tf.Tensor: shape=(), dtype=float32, numpy=-1.6627893>, <tf.Tensor: shape=(), dtype=float32, numpy=-0.7271516>)\n",
      "\n",
      "(<tf.Tensor: shape=(), dtype=float32, numpy=0.46077907>, <tf.Tensor: shape=(), dtype=float32, numpy=1.1965384>, <tf.Tensor: shape=(), dtype=float32, numpy=0.9068249>)\n",
      "\n",
      "(<tf.Tensor: shape=(), dtype=float32, numpy=-1.3178747>, <tf.Tensor: shape=(), dtype=float32, numpy=1.1335343>, <tf.Tensor: shape=(), dtype=float32, numpy=0.29632357>)\n",
      "\n",
      "(<tf.Tensor: shape=(), dtype=float32, numpy=0.050683267>, <tf.Tensor: shape=(), dtype=float32, numpy=-0.19356635>, <tf.Tensor: shape=(), dtype=float32, numpy=0.1206313>)\n",
      "\n",
      "(<tf.Tensor: shape=(), dtype=float32, numpy=-0.048990056>, <tf.Tensor: shape=(), dtype=float32, numpy=0.64270914>, <tf.Tensor: shape=(), dtype=float32, numpy=0.43194604>)\n",
      "\n",
      "(<tf.Tensor: shape=(), dtype=float32, numpy=0.20081425>, <tf.Tensor: shape=(), dtype=float32, numpy=-0.2658937>, <tf.Tensor: shape=(), dtype=float32, numpy=0.31236276>)\n",
      "\n",
      "(<tf.Tensor: shape=(), dtype=float32, numpy=-0.3526444>, <tf.Tensor: shape=(), dtype=float32, numpy=0.2793376>, <tf.Tensor: shape=(), dtype=float32, numpy=0.22352833>)\n",
      "\n",
      "(<tf.Tensor: shape=(), dtype=float32, numpy=-0.5212271>, <tf.Tensor: shape=(), dtype=float32, numpy=-0.60730785>, <tf.Tensor: shape=(), dtype=float32, numpy=-0.3031053>)\n",
      "\n",
      "(<tf.Tensor: shape=(), dtype=float32, numpy=0.48465586>, <tf.Tensor: shape=(), dtype=float32, numpy=-0.11274819>, <tf.Tensor: shape=(), dtype=float32, numpy=-0.071026415>)\n",
      "\n",
      "(<tf.Tensor: shape=(), dtype=float32, numpy=1.1990774>, <tf.Tensor: shape=(), dtype=float32, numpy=-2.8495278>, <tf.Tensor: shape=(), dtype=float32, numpy=-1.0239828>)\n",
      "\n",
      "(<tf.Tensor: shape=(), dtype=float32, numpy=-0.3720843>, <tf.Tensor: shape=(), dtype=float32, numpy=0.23535797>, <tf.Tensor: shape=(), dtype=float32, numpy=0.5130602>)\n",
      "\n",
      "(<tf.Tensor: shape=(), dtype=float32, numpy=-0.16833562>, <tf.Tensor: shape=(), dtype=float32, numpy=-0.018447712>, <tf.Tensor: shape=(), dtype=float32, numpy=0.40517032>)\n",
      "\n",
      "(<tf.Tensor: shape=(), dtype=float32, numpy=0.09608695>, <tf.Tensor: shape=(), dtype=float32, numpy=0.6138682>, <tf.Tensor: shape=(), dtype=float32, numpy=0.36645344>)\n",
      "\n",
      "(<tf.Tensor: shape=(), dtype=float32, numpy=-0.026069164>, <tf.Tensor: shape=(), dtype=float32, numpy=0.04120058>, <tf.Tensor: shape=(), dtype=float32, numpy=0.12461838>)\n",
      "\n",
      "(<tf.Tensor: shape=(), dtype=float32, numpy=0.32646364>, <tf.Tensor: shape=(), dtype=float32, numpy=-0.50747824>, <tf.Tensor: shape=(), dtype=float32, numpy=-0.06324461>)\n",
      "\n",
      "(<tf.Tensor: shape=(), dtype=float32, numpy=0.39834154>, <tf.Tensor: shape=(), dtype=float32, numpy=0.7030381>, <tf.Tensor: shape=(), dtype=float32, numpy=-0.026163772>)\n",
      "\n",
      "(<tf.Tensor: shape=(), dtype=float32, numpy=-0.8326875>, <tf.Tensor: shape=(), dtype=float32, numpy=-3.6385903>, <tf.Tensor: shape=(), dtype=float32, numpy=-1.5327983>)\n",
      "\n",
      "(<tf.Tensor: shape=(), dtype=float32, numpy=0.02914454>, <tf.Tensor: shape=(), dtype=float32, numpy=0.890887>, <tf.Tensor: shape=(), dtype=float32, numpy=0.23822987>)\n",
      "\n",
      "(<tf.Tensor: shape=(), dtype=float32, numpy=0.0050395504>, <tf.Tensor: shape=(), dtype=float32, numpy=-0.5506942>, <tf.Tensor: shape=(), dtype=float32, numpy=-0.119613126>)\n",
      "\n",
      "(<tf.Tensor: shape=(), dtype=float32, numpy=0.24002616>, <tf.Tensor: shape=(), dtype=float32, numpy=0.48861793>, <tf.Tensor: shape=(), dtype=float32, numpy=0.16805309>)\n",
      "\n",
      "(<tf.Tensor: shape=(), dtype=float32, numpy=-0.0840351>, <tf.Tensor: shape=(), dtype=float32, numpy=0.7090543>, <tf.Tensor: shape=(), dtype=float32, numpy=0.3742012>)\n",
      "\n",
      "(<tf.Tensor: shape=(), dtype=float32, numpy=0.38406026>, <tf.Tensor: shape=(), dtype=float32, numpy=-1.0940799>, <tf.Tensor: shape=(), dtype=float32, numpy=-0.13099033>)\n",
      "\n",
      "(<tf.Tensor: shape=(), dtype=float32, numpy=-0.21030697>, <tf.Tensor: shape=(), dtype=float32, numpy=0.6073799>, <tf.Tensor: shape=(), dtype=float32, numpy=0.72884697>)\n",
      "\n",
      "(<tf.Tensor: shape=(), dtype=float32, numpy=-1.1376083>, <tf.Tensor: shape=(), dtype=float32, numpy=0.41686085>, <tf.Tensor: shape=(), dtype=float32, numpy=0.47281647>)\n",
      "\n",
      "(<tf.Tensor: shape=(), dtype=float32, numpy=-0.16641338>, <tf.Tensor: shape=(), dtype=float32, numpy=-0.73864686>, <tf.Tensor: shape=(), dtype=float32, numpy=-0.3088665>)\n",
      "\n",
      "(<tf.Tensor: shape=(), dtype=float32, numpy=0.73019576>, <tf.Tensor: shape=(), dtype=float32, numpy=0.26590234>, <tf.Tensor: shape=(), dtype=float32, numpy=0.10292685>)\n",
      "\n",
      "(<tf.Tensor: shape=(), dtype=float32, numpy=-0.036724277>, <tf.Tensor: shape=(), dtype=float32, numpy=0.467246>, <tf.Tensor: shape=(), dtype=float32, numpy=0.572527>)\n",
      "\n",
      "(<tf.Tensor: shape=(), dtype=float32, numpy=-0.20987217>, <tf.Tensor: shape=(), dtype=float32, numpy=0.1545313>, <tf.Tensor: shape=(), dtype=float32, numpy=0.31255275>)\n",
      "\n",
      "(<tf.Tensor: shape=(), dtype=float32, numpy=-0.09318822>, <tf.Tensor: shape=(), dtype=float32, numpy=0.06030336>, <tf.Tensor: shape=(), dtype=float32, numpy=0.07718999>)\n",
      "\n",
      "(<tf.Tensor: shape=(), dtype=float32, numpy=0.051696658>, <tf.Tensor: shape=(), dtype=float32, numpy=-0.015542418>, <tf.Tensor: shape=(), dtype=float32, numpy=-0.0017256588>)\n",
      "\n",
      "(<tf.Tensor: shape=(), dtype=float32, numpy=-0.4291424>, <tf.Tensor: shape=(), dtype=float32, numpy=1.4834272>, <tf.Tensor: shape=(), dtype=float32, numpy=1.1258851>)\n",
      "\n",
      "(<tf.Tensor: shape=(), dtype=float32, numpy=0.20819438>, <tf.Tensor: shape=(), dtype=float32, numpy=0.23135945>, <tf.Tensor: shape=(), dtype=float32, numpy=0.059513003>)\n",
      "\n",
      "(<tf.Tensor: shape=(), dtype=float32, numpy=-0.06752524>, <tf.Tensor: shape=(), dtype=float32, numpy=-0.43565512>, <tf.Tensor: shape=(), dtype=float32, numpy=0.08308018>)\n",
      "\n",
      "(<tf.Tensor: shape=(), dtype=float32, numpy=-0.048045307>, <tf.Tensor: shape=(), dtype=float32, numpy=0.6251985>, <tf.Tensor: shape=(), dtype=float32, numpy=0.11674999>)\n",
      "\n",
      "(<tf.Tensor: shape=(), dtype=float32, numpy=0.33734986>, <tf.Tensor: shape=(), dtype=float32, numpy=-0.6993171>, <tf.Tensor: shape=(), dtype=float32, numpy=-0.027611762>)\n",
      "\n",
      "(<tf.Tensor: shape=(), dtype=float32, numpy=-0.25783843>, <tf.Tensor: shape=(), dtype=float32, numpy=0.62748843>, <tf.Tensor: shape=(), dtype=float32, numpy=0.4023565>)\n",
      "\n",
      "(<tf.Tensor: shape=(), dtype=float32, numpy=0.24047768>, <tf.Tensor: shape=(), dtype=float32, numpy=-0.9765034>, <tf.Tensor: shape=(), dtype=float32, numpy=-0.28518665>)\n",
      "\n",
      "(<tf.Tensor: shape=(), dtype=float32, numpy=-0.7843348>, <tf.Tensor: shape=(), dtype=float32, numpy=0.47749728>, <tf.Tensor: shape=(), dtype=float32, numpy=0.59485656>)\n",
      "\n",
      "(<tf.Tensor: shape=(), dtype=float32, numpy=0.13610502>, <tf.Tensor: shape=(), dtype=float32, numpy=-0.19098777>, <tf.Tensor: shape=(), dtype=float32, numpy=0.14981872>)\n",
      "\n",
      "(<tf.Tensor: shape=(), dtype=float32, numpy=0.41573262>, <tf.Tensor: shape=(), dtype=float32, numpy=-0.69919837>, <tf.Tensor: shape=(), dtype=float32, numpy=-0.1885323>)\n",
      "\n",
      "(<tf.Tensor: shape=(), dtype=float32, numpy=-0.20430991>, <tf.Tensor: shape=(), dtype=float32, numpy=-0.33546543>, <tf.Tensor: shape=(), dtype=float32, numpy=-0.08175684>)\n",
      "\n",
      "(<tf.Tensor: shape=(), dtype=float32, numpy=0.14192>, <tf.Tensor: shape=(), dtype=float32, numpy=0.39892933>, <tf.Tensor: shape=(), dtype=float32, numpy=0.108027175>)\n",
      "\n",
      "(<tf.Tensor: shape=(), dtype=float32, numpy=0.06802821>, <tf.Tensor: shape=(), dtype=float32, numpy=0.7445773>, <tf.Tensor: shape=(), dtype=float32, numpy=0.5350727>)\n",
      "\n",
      "(<tf.Tensor: shape=(), dtype=float32, numpy=-0.44386327>, <tf.Tensor: shape=(), dtype=float32, numpy=-0.2400589>, <tf.Tensor: shape=(), dtype=float32, numpy=0.064566046>)\n",
      "\n",
      "(<tf.Tensor: shape=(), dtype=float32, numpy=0.45019132>, <tf.Tensor: shape=(), dtype=float32, numpy=0.13639516>, <tf.Tensor: shape=(), dtype=float32, numpy=-0.13945968>)\n",
      "\n",
      "(<tf.Tensor: shape=(), dtype=float32, numpy=-0.4020141>, <tf.Tensor: shape=(), dtype=float32, numpy=0.00449042>, <tf.Tensor: shape=(), dtype=float32, numpy=0.10807436>)\n",
      "\n",
      "(<tf.Tensor: shape=(), dtype=float32, numpy=0.22886303>, <tf.Tensor: shape=(), dtype=float32, numpy=0.43662792>, <tf.Tensor: shape=(), dtype=float32, numpy=-0.11277155>)\n",
      "\n",
      "(<tf.Tensor: shape=(), dtype=float32, numpy=-0.3260959>, <tf.Tensor: shape=(), dtype=float32, numpy=0.04648906>, <tf.Tensor: shape=(), dtype=float32, numpy=0.24973668>)\n",
      "\n",
      "(<tf.Tensor: shape=(), dtype=float32, numpy=0.5337922>, <tf.Tensor: shape=(), dtype=float32, numpy=0.22913295>, <tf.Tensor: shape=(), dtype=float32, numpy=0.47708255>)\n",
      "\n",
      "(<tf.Tensor: shape=(), dtype=float32, numpy=-0.68094754>, <tf.Tensor: shape=(), dtype=float32, numpy=-1.0034202>, <tf.Tensor: shape=(), dtype=float32, numpy=-0.33842704>)\n",
      "\n",
      "(<tf.Tensor: shape=(), dtype=float32, numpy=0.36458832>, <tf.Tensor: shape=(), dtype=float32, numpy=-0.4110601>, <tf.Tensor: shape=(), dtype=float32, numpy=-0.14848189>)\n",
      "\n",
      "(<tf.Tensor: shape=(), dtype=float32, numpy=1.832201>, <tf.Tensor: shape=(), dtype=float32, numpy=0.23974958>, <tf.Tensor: shape=(), dtype=float32, numpy=0.49638462>)\n",
      "\n",
      "(<tf.Tensor: shape=(), dtype=float32, numpy=0.086825594>, <tf.Tensor: shape=(), dtype=float32, numpy=-0.14750329>, <tf.Tensor: shape=(), dtype=float32, numpy=0.14970562>)\n",
      "\n",
      "(<tf.Tensor: shape=(), dtype=float32, numpy=-0.16125846>, <tf.Tensor: shape=(), dtype=float32, numpy=0.18314874>, <tf.Tensor: shape=(), dtype=float32, numpy=0.25455704>)\n",
      "\n",
      "(<tf.Tensor: shape=(), dtype=float32, numpy=0.109773114>, <tf.Tensor: shape=(), dtype=float32, numpy=-0.76439214>, <tf.Tensor: shape=(), dtype=float32, numpy=-0.043828398>)\n",
      "\n",
      "(<tf.Tensor: shape=(), dtype=float32, numpy=0.44227254>, <tf.Tensor: shape=(), dtype=float32, numpy=-0.724375>, <tf.Tensor: shape=(), dtype=float32, numpy=-0.35470045>)\n",
      "\n",
      "(<tf.Tensor: shape=(), dtype=float32, numpy=-0.8094632>, <tf.Tensor: shape=(), dtype=float32, numpy=1.0421044>, <tf.Tensor: shape=(), dtype=float32, numpy=0.17470507>)\n",
      "\n",
      "(<tf.Tensor: shape=(), dtype=float32, numpy=0.20021054>, <tf.Tensor: shape=(), dtype=float32, numpy=0.054341108>, <tf.Tensor: shape=(), dtype=float32, numpy=0.22682397>)\n",
      "\n",
      "(<tf.Tensor: shape=(), dtype=float32, numpy=0.13634175>, <tf.Tensor: shape=(), dtype=float32, numpy=0.39132845>, <tf.Tensor: shape=(), dtype=float32, numpy=0.29243487>)\n",
      "\n",
      "(<tf.Tensor: shape=(), dtype=float32, numpy=-0.4235286>, <tf.Tensor: shape=(), dtype=float32, numpy=-0.12654501>, <tf.Tensor: shape=(), dtype=float32, numpy=-0.11236626>)\n",
      "\n",
      "(<tf.Tensor: shape=(), dtype=float32, numpy=0.27827892>, <tf.Tensor: shape=(), dtype=float32, numpy=0.476077>, <tf.Tensor: shape=(), dtype=float32, numpy=0.3904417>)\n",
      "\n",
      "(<tf.Tensor: shape=(), dtype=float32, numpy=0.4628732>, <tf.Tensor: shape=(), dtype=float32, numpy=0.15723231>, <tf.Tensor: shape=(), dtype=float32, numpy=-0.01779607>)\n",
      "\n",
      "(<tf.Tensor: shape=(), dtype=float32, numpy=-0.34413>, <tf.Tensor: shape=(), dtype=float32, numpy=-0.25528654>, <tf.Tensor: shape=(), dtype=float32, numpy=0.31638554>)\n",
      "\n",
      "(<tf.Tensor: shape=(), dtype=float32, numpy=-0.38076168>, <tf.Tensor: shape=(), dtype=float32, numpy=-0.6123352>, <tf.Tensor: shape=(), dtype=float32, numpy=-0.19386694>)\n",
      "\n",
      "(<tf.Tensor: shape=(), dtype=float32, numpy=0.57516885>, <tf.Tensor: shape=(), dtype=float32, numpy=0.12681359>, <tf.Tensor: shape=(), dtype=float32, numpy=0.19822249>)\n",
      "\n",
      "(<tf.Tensor: shape=(), dtype=float32, numpy=-0.8069764>, <tf.Tensor: shape=(), dtype=float32, numpy=-1.5214338>, <tf.Tensor: shape=(), dtype=float32, numpy=-1.0500195>)\n",
      "\n",
      "Mean squared error for step 80: 0.995\n",
      "(<tf.Tensor: shape=(), dtype=float32, numpy=0.9184537>, <tf.Tensor: shape=(), dtype=float32, numpy=0.1725108>, <tf.Tensor: shape=(), dtype=float32, numpy=0.22732699>)\n",
      "\n",
      "(<tf.Tensor: shape=(), dtype=float32, numpy=-0.69612074>, <tf.Tensor: shape=(), dtype=float32, numpy=-0.8990457>, <tf.Tensor: shape=(), dtype=float32, numpy=-0.81893015>)\n",
      "\n",
      "(<tf.Tensor: shape=(), dtype=float32, numpy=0.17287996>, <tf.Tensor: shape=(), dtype=float32, numpy=0.62692106>, <tf.Tensor: shape=(), dtype=float32, numpy=0.515549>)\n",
      "\n",
      "(<tf.Tensor: shape=(), dtype=float32, numpy=-0.06994337>, <tf.Tensor: shape=(), dtype=float32, numpy=0.99397904>, <tf.Tensor: shape=(), dtype=float32, numpy=0.704977>)\n",
      "\n",
      "(<tf.Tensor: shape=(), dtype=float32, numpy=-0.13011943>, <tf.Tensor: shape=(), dtype=float32, numpy=-0.42186487>, <tf.Tensor: shape=(), dtype=float32, numpy=0.17865878>)\n",
      "\n",
      "(<tf.Tensor: shape=(), dtype=float32, numpy=-0.2698222>, <tf.Tensor: shape=(), dtype=float32, numpy=-0.43493938>, <tf.Tensor: shape=(), dtype=float32, numpy=-0.110866934>)\n",
      "\n",
      "(<tf.Tensor: shape=(), dtype=float32, numpy=0.18109581>, <tf.Tensor: shape=(), dtype=float32, numpy=0.38624892>, <tf.Tensor: shape=(), dtype=float32, numpy=-0.17727923>)\n",
      "\n",
      "(<tf.Tensor: shape=(), dtype=float32, numpy=-0.84612715>, <tf.Tensor: shape=(), dtype=float32, numpy=-0.6572504>, <tf.Tensor: shape=(), dtype=float32, numpy=-0.26049924>)\n",
      "\n",
      "(<tf.Tensor: shape=(), dtype=float32, numpy=-0.13698158>, <tf.Tensor: shape=(), dtype=float32, numpy=0.34946728>, <tf.Tensor: shape=(), dtype=float32, numpy=0.24389702>)\n",
      "\n",
      "(<tf.Tensor: shape=(), dtype=float32, numpy=0.74037325>, <tf.Tensor: shape=(), dtype=float32, numpy=0.39153773>, <tf.Tensor: shape=(), dtype=float32, numpy=0.5475585>)\n",
      "\n",
      "(<tf.Tensor: shape=(), dtype=float32, numpy=0.08659971>, <tf.Tensor: shape=(), dtype=float32, numpy=-0.7521913>, <tf.Tensor: shape=(), dtype=float32, numpy=-0.62093294>)\n",
      "\n",
      "(<tf.Tensor: shape=(), dtype=float32, numpy=-0.06029004>, <tf.Tensor: shape=(), dtype=float32, numpy=0.6069244>, <tf.Tensor: shape=(), dtype=float32, numpy=0.17116943>)\n",
      "\n",
      "(<tf.Tensor: shape=(), dtype=float32, numpy=0.5248523>, <tf.Tensor: shape=(), dtype=float32, numpy=-0.08771819>, <tf.Tensor: shape=(), dtype=float32, numpy=0.29345506>)\n",
      "\n",
      "(<tf.Tensor: shape=(), dtype=float32, numpy=-0.7621306>, <tf.Tensor: shape=(), dtype=float32, numpy=0.8060148>, <tf.Tensor: shape=(), dtype=float32, numpy=0.7776872>)\n",
      "\n",
      "(<tf.Tensor: shape=(), dtype=float32, numpy=-0.69814086>, <tf.Tensor: shape=(), dtype=float32, numpy=-0.58048725>, <tf.Tensor: shape=(), dtype=float32, numpy=-0.43135542>)\n",
      "\n",
      "(<tf.Tensor: shape=(), dtype=float32, numpy=-0.26058865>, <tf.Tensor: shape=(), dtype=float32, numpy=0.888762>, <tf.Tensor: shape=(), dtype=float32, numpy=0.8364157>)\n",
      "\n",
      "(<tf.Tensor: shape=(), dtype=float32, numpy=1.07554>, <tf.Tensor: shape=(), dtype=float32, numpy=0.041399762>, <tf.Tensor: shape=(), dtype=float32, numpy=0.29134277>)\n",
      "\n",
      "(<tf.Tensor: shape=(), dtype=float32, numpy=0.03739036>, <tf.Tensor: shape=(), dtype=float32, numpy=-1.3789983>, <tf.Tensor: shape=(), dtype=float32, numpy=-0.78186363>)\n",
      "\n",
      "(<tf.Tensor: shape=(), dtype=float32, numpy=-0.09359754>, <tf.Tensor: shape=(), dtype=float32, numpy=0.4023093>, <tf.Tensor: shape=(), dtype=float32, numpy=0.045799673>)\n",
      "\n",
      "(<tf.Tensor: shape=(), dtype=float32, numpy=0.21171963>, <tf.Tensor: shape=(), dtype=float32, numpy=0.33029884>, <tf.Tensor: shape=(), dtype=float32, numpy=0.365036>)\n",
      "\n",
      "(<tf.Tensor: shape=(), dtype=float32, numpy=-0.51430327>, <tf.Tensor: shape=(), dtype=float32, numpy=-0.52141446>, <tf.Tensor: shape=(), dtype=float32, numpy=-0.018588394>)\n",
      "\n",
      "(<tf.Tensor: shape=(), dtype=float32, numpy=0.27806258>, <tf.Tensor: shape=(), dtype=float32, numpy=0.015683264>, <tf.Tensor: shape=(), dtype=float32, numpy=0.17742327>)\n",
      "\n",
      "(<tf.Tensor: shape=(), dtype=float32, numpy=-0.097331285>, <tf.Tensor: shape=(), dtype=float32, numpy=-0.29764885>, <tf.Tensor: shape=(), dtype=float32, numpy=-0.18993141>)\n",
      "\n",
      "(<tf.Tensor: shape=(), dtype=float32, numpy=0.2659557>, <tf.Tensor: shape=(), dtype=float32, numpy=0.54913837>, <tf.Tensor: shape=(), dtype=float32, numpy=0.46585009>)\n",
      "\n",
      "(<tf.Tensor: shape=(), dtype=float32, numpy=-0.26299477>, <tf.Tensor: shape=(), dtype=float32, numpy=-0.5807395>, <tf.Tensor: shape=(), dtype=float32, numpy=-0.06446797>)\n",
      "\n",
      "(<tf.Tensor: shape=(), dtype=float32, numpy=0.2736528>, <tf.Tensor: shape=(), dtype=float32, numpy=-0.38167778>, <tf.Tensor: shape=(), dtype=float32, numpy=-0.22869769>)\n",
      "\n",
      "(<tf.Tensor: shape=(), dtype=float32, numpy=-0.1496568>, <tf.Tensor: shape=(), dtype=float32, numpy=0.38367957>, <tf.Tensor: shape=(), dtype=float32, numpy=0.026111916>)\n",
      "\n",
      "(<tf.Tensor: shape=(), dtype=float32, numpy=-0.748439>, <tf.Tensor: shape=(), dtype=float32, numpy=0.40549904>, <tf.Tensor: shape=(), dtype=float32, numpy=0.7478>)\n",
      "\n",
      "(<tf.Tensor: shape=(), dtype=float32, numpy=0.57649434>, <tf.Tensor: shape=(), dtype=float32, numpy=1.8220993>, <tf.Tensor: shape=(), dtype=float32, numpy=0.62878525>)\n",
      "\n",
      "(<tf.Tensor: shape=(), dtype=float32, numpy=-0.5656386>, <tf.Tensor: shape=(), dtype=float32, numpy=-0.026520014>, <tf.Tensor: shape=(), dtype=float32, numpy=0.43095726>)\n",
      "\n",
      "(<tf.Tensor: shape=(), dtype=float32, numpy=-0.44319803>, <tf.Tensor: shape=(), dtype=float32, numpy=-0.5723233>, <tf.Tensor: shape=(), dtype=float32, numpy=-0.06694041>)\n",
      "\n",
      "(<tf.Tensor: shape=(), dtype=float32, numpy=-0.20528142>, <tf.Tensor: shape=(), dtype=float32, numpy=-0.75902236>, <tf.Tensor: shape=(), dtype=float32, numpy=-0.32280245>)\n",
      "\n",
      "(<tf.Tensor: shape=(), dtype=float32, numpy=0.6764351>, <tf.Tensor: shape=(), dtype=float32, numpy=-1.0012136>, <tf.Tensor: shape=(), dtype=float32, numpy=-0.52895224>)\n",
      "\n",
      "(<tf.Tensor: shape=(), dtype=float32, numpy=0.0736317>, <tf.Tensor: shape=(), dtype=float32, numpy=-0.52060807>, <tf.Tensor: shape=(), dtype=float32, numpy=-0.13490972>)\n",
      "\n",
      "(<tf.Tensor: shape=(), dtype=float32, numpy=0.52209914>, <tf.Tensor: shape=(), dtype=float32, numpy=0.6874024>, <tf.Tensor: shape=(), dtype=float32, numpy=0.17370352>)\n",
      "\n",
      "(<tf.Tensor: shape=(), dtype=float32, numpy=0.3974784>, <tf.Tensor: shape=(), dtype=float32, numpy=-0.7946836>, <tf.Tensor: shape=(), dtype=float32, numpy=0.19582169>)\n",
      "\n",
      "(<tf.Tensor: shape=(), dtype=float32, numpy=0.13069227>, <tf.Tensor: shape=(), dtype=float32, numpy=1.0774769>, <tf.Tensor: shape=(), dtype=float32, numpy=0.4340039>)\n",
      "\n",
      "(<tf.Tensor: shape=(), dtype=float32, numpy=-0.42268103>, <tf.Tensor: shape=(), dtype=float32, numpy=-0.309592>, <tf.Tensor: shape=(), dtype=float32, numpy=-0.18012069>)\n",
      "\n",
      "(<tf.Tensor: shape=(), dtype=float32, numpy=0.2657652>, <tf.Tensor: shape=(), dtype=float32, numpy=-0.6964882>, <tf.Tensor: shape=(), dtype=float32, numpy=0.1594021>)\n",
      "\n",
      "(<tf.Tensor: shape=(), dtype=float32, numpy=0.46903667>, <tf.Tensor: shape=(), dtype=float32, numpy=0.6126785>, <tf.Tensor: shape=(), dtype=float32, numpy=-0.101604536>)\n",
      "\n",
      "(<tf.Tensor: shape=(), dtype=float32, numpy=-0.7652284>, <tf.Tensor: shape=(), dtype=float32, numpy=-0.5256254>, <tf.Tensor: shape=(), dtype=float32, numpy=-0.2902066>)\n",
      "\n",
      "(<tf.Tensor: shape=(), dtype=float32, numpy=-0.08814472>, <tf.Tensor: shape=(), dtype=float32, numpy=1.3965975>, <tf.Tensor: shape=(), dtype=float32, numpy=0.2864503>)\n",
      "\n",
      "(<tf.Tensor: shape=(), dtype=float32, numpy=-0.31010383>, <tf.Tensor: shape=(), dtype=float32, numpy=-0.068070166>, <tf.Tensor: shape=(), dtype=float32, numpy=0.016698942>)\n",
      "\n",
      "(<tf.Tensor: shape=(), dtype=float32, numpy=0.48438776>, <tf.Tensor: shape=(), dtype=float32, numpy=-0.13675983>, <tf.Tensor: shape=(), dtype=float32, numpy=0.12980814>)\n",
      "\n",
      "(<tf.Tensor: shape=(), dtype=float32, numpy=-0.26514181>, <tf.Tensor: shape=(), dtype=float32, numpy=-0.16013527>, <tf.Tensor: shape=(), dtype=float32, numpy=-0.05912617>)\n",
      "\n",
      "(<tf.Tensor: shape=(), dtype=float32, numpy=-0.3791819>, <tf.Tensor: shape=(), dtype=float32, numpy=0.19481763>, <tf.Tensor: shape=(), dtype=float32, numpy=0.16607991>)\n",
      "\n",
      "(<tf.Tensor: shape=(), dtype=float32, numpy=0.87408113>, <tf.Tensor: shape=(), dtype=float32, numpy=-0.24828589>, <tf.Tensor: shape=(), dtype=float32, numpy=0.00097070634>)\n",
      "\n",
      "(<tf.Tensor: shape=(), dtype=float32, numpy=-0.014565624>, <tf.Tensor: shape=(), dtype=float32, numpy=-0.011424959>, <tf.Tensor: shape=(), dtype=float32, numpy=0.08821802>)\n",
      "\n",
      "(<tf.Tensor: shape=(), dtype=float32, numpy=-0.9750964>, <tf.Tensor: shape=(), dtype=float32, numpy=-0.6436751>, <tf.Tensor: shape=(), dtype=float32, numpy=-0.7398009>)\n",
      "\n",
      "(<tf.Tensor: shape=(), dtype=float32, numpy=-0.44892022>, <tf.Tensor: shape=(), dtype=float32, numpy=-1.1883252>, <tf.Tensor: shape=(), dtype=float32, numpy=-0.8734257>)\n",
      "\n",
      "(<tf.Tensor: shape=(), dtype=float32, numpy=-0.21745585>, <tf.Tensor: shape=(), dtype=float32, numpy=1.1883214>, <tf.Tensor: shape=(), dtype=float32, numpy=0.7659247>)\n",
      "\n",
      "(<tf.Tensor: shape=(), dtype=float32, numpy=0.6778388>, <tf.Tensor: shape=(), dtype=float32, numpy=-0.7735797>, <tf.Tensor: shape=(), dtype=float32, numpy=-0.076205015>)\n",
      "\n",
      "(<tf.Tensor: shape=(), dtype=float32, numpy=0.05172062>, <tf.Tensor: shape=(), dtype=float32, numpy=0.64907265>, <tf.Tensor: shape=(), dtype=float32, numpy=0.46617588>)\n",
      "\n",
      "(<tf.Tensor: shape=(), dtype=float32, numpy=0.048222475>, <tf.Tensor: shape=(), dtype=float32, numpy=-0.35244954>, <tf.Tensor: shape=(), dtype=float32, numpy=0.21887961>)\n",
      "\n",
      "(<tf.Tensor: shape=(), dtype=float32, numpy=0.022855021>, <tf.Tensor: shape=(), dtype=float32, numpy=0.08485559>, <tf.Tensor: shape=(), dtype=float32, numpy=-0.29758084>)\n",
      "\n",
      "(<tf.Tensor: shape=(), dtype=float32, numpy=0.37087217>, <tf.Tensor: shape=(), dtype=float32, numpy=1.3632462>, <tf.Tensor: shape=(), dtype=float32, numpy=0.77678025>)\n",
      "\n",
      "(<tf.Tensor: shape=(), dtype=float32, numpy=-0.060729846>, <tf.Tensor: shape=(), dtype=float32, numpy=-0.82854754>, <tf.Tensor: shape=(), dtype=float32, numpy=-0.33123374>)\n",
      "\n",
      "(<tf.Tensor: shape=(), dtype=float32, numpy=0.33539113>, <tf.Tensor: shape=(), dtype=float32, numpy=-0.27883175>, <tf.Tensor: shape=(), dtype=float32, numpy=-0.19003585>)\n",
      "\n",
      "(<tf.Tensor: shape=(), dtype=float32, numpy=-0.54390574>, <tf.Tensor: shape=(), dtype=float32, numpy=0.46283677>, <tf.Tensor: shape=(), dtype=float32, numpy=0.4528696>)\n",
      "\n",
      "(<tf.Tensor: shape=(), dtype=float32, numpy=-0.42991728>, <tf.Tensor: shape=(), dtype=float32, numpy=0.111485854>, <tf.Tensor: shape=(), dtype=float32, numpy=0.07825403>)\n",
      "\n",
      "(<tf.Tensor: shape=(), dtype=float32, numpy=0.5911715>, <tf.Tensor: shape=(), dtype=float32, numpy=-0.5615516>, <tf.Tensor: shape=(), dtype=float32, numpy=-0.42718816>)\n",
      "\n",
      "(<tf.Tensor: shape=(), dtype=float32, numpy=0.09394531>, <tf.Tensor: shape=(), dtype=float32, numpy=0.66029966>, <tf.Tensor: shape=(), dtype=float32, numpy=0.46205798>)\n",
      "\n",
      "(<tf.Tensor: shape=(), dtype=float32, numpy=0.5975673>, <tf.Tensor: shape=(), dtype=float32, numpy=-0.02317211>, <tf.Tensor: shape=(), dtype=float32, numpy=0.53055453>)\n",
      "\n",
      "(<tf.Tensor: shape=(), dtype=float32, numpy=-0.11686234>, <tf.Tensor: shape=(), dtype=float32, numpy=0.61574286>, <tf.Tensor: shape=(), dtype=float32, numpy=0.4842922>)\n",
      "\n",
      "(<tf.Tensor: shape=(), dtype=float32, numpy=-0.8204549>, <tf.Tensor: shape=(), dtype=float32, numpy=0.22714236>, <tf.Tensor: shape=(), dtype=float32, numpy=-0.13579494>)\n",
      "\n",
      "(<tf.Tensor: shape=(), dtype=float32, numpy=0.528155>, <tf.Tensor: shape=(), dtype=float32, numpy=-0.32174575>, <tf.Tensor: shape=(), dtype=float32, numpy=-0.02649843>)\n",
      "\n",
      "(<tf.Tensor: shape=(), dtype=float32, numpy=0.1481739>, <tf.Tensor: shape=(), dtype=float32, numpy=-0.40102607>, <tf.Tensor: shape=(), dtype=float32, numpy=-0.042706817>)\n",
      "\n",
      "(<tf.Tensor: shape=(), dtype=float32, numpy=-0.05937323>, <tf.Tensor: shape=(), dtype=float32, numpy=-0.5238228>, <tf.Tensor: shape=(), dtype=float32, numpy=-0.72995335>)\n",
      "\n",
      "(<tf.Tensor: shape=(), dtype=float32, numpy=0.33942774>, <tf.Tensor: shape=(), dtype=float32, numpy=0.318946>, <tf.Tensor: shape=(), dtype=float32, numpy=0.60297465>)\n",
      "\n",
      "(<tf.Tensor: shape=(), dtype=float32, numpy=0.24415442>, <tf.Tensor: shape=(), dtype=float32, numpy=-2.4556286>, <tf.Tensor: shape=(), dtype=float32, numpy=-0.55189025>)\n",
      "\n",
      "Mean squared error for step 90: 0.992\n",
      "(<tf.Tensor: shape=(), dtype=float32, numpy=-0.11714234>, <tf.Tensor: shape=(), dtype=float32, numpy=0.28010523>, <tf.Tensor: shape=(), dtype=float32, numpy=0.3079254>)\n",
      "\n",
      "(<tf.Tensor: shape=(), dtype=float32, numpy=-0.40427735>, <tf.Tensor: shape=(), dtype=float32, numpy=0.4766424>, <tf.Tensor: shape=(), dtype=float32, numpy=0.001188837>)\n",
      "\n",
      "(<tf.Tensor: shape=(), dtype=float32, numpy=0.28850347>, <tf.Tensor: shape=(), dtype=float32, numpy=-1.668664>, <tf.Tensor: shape=(), dtype=float32, numpy=-0.4471135>)\n",
      "\n",
      "(<tf.Tensor: shape=(), dtype=float32, numpy=-0.5772871>, <tf.Tensor: shape=(), dtype=float32, numpy=1.0966523>, <tf.Tensor: shape=(), dtype=float32, numpy=0.44688296>)\n",
      "\n",
      "(<tf.Tensor: shape=(), dtype=float32, numpy=-0.14426306>, <tf.Tensor: shape=(), dtype=float32, numpy=0.902555>, <tf.Tensor: shape=(), dtype=float32, numpy=0.40808198>)\n",
      "\n",
      "(<tf.Tensor: shape=(), dtype=float32, numpy=0.7939564>, <tf.Tensor: shape=(), dtype=float32, numpy=-0.5764915>, <tf.Tensor: shape=(), dtype=float32, numpy=-0.35706413>)\n",
      "\n",
      "(<tf.Tensor: shape=(), dtype=float32, numpy=0.7692877>, <tf.Tensor: shape=(), dtype=float32, numpy=-0.5586095>, <tf.Tensor: shape=(), dtype=float32, numpy=0.4123116>)\n",
      "\n",
      "(<tf.Tensor: shape=(), dtype=float32, numpy=-0.019569427>, <tf.Tensor: shape=(), dtype=float32, numpy=-0.9187748>, <tf.Tensor: shape=(), dtype=float32, numpy=0.04645276>)\n",
      "\n",
      "(<tf.Tensor: shape=(), dtype=float32, numpy=-0.10234721>, <tf.Tensor: shape=(), dtype=float32, numpy=-0.122710355>, <tf.Tensor: shape=(), dtype=float32, numpy=-0.4568144>)\n",
      "\n",
      "(<tf.Tensor: shape=(), dtype=float32, numpy=-0.00051783025>, <tf.Tensor: shape=(), dtype=float32, numpy=-0.046411812>, <tf.Tensor: shape=(), dtype=float32, numpy=0.06684383>)\n",
      "\n",
      "(<tf.Tensor: shape=(), dtype=float32, numpy=-0.270589>, <tf.Tensor: shape=(), dtype=float32, numpy=1.0902059>, <tf.Tensor: shape=(), dtype=float32, numpy=0.53628206>)\n",
      "\n",
      "(<tf.Tensor: shape=(), dtype=float32, numpy=-0.06385572>, <tf.Tensor: shape=(), dtype=float32, numpy=-0.341263>, <tf.Tensor: shape=(), dtype=float32, numpy=-0.036159143>)\n",
      "\n",
      "(<tf.Tensor: shape=(), dtype=float32, numpy=0.40672493>, <tf.Tensor: shape=(), dtype=float32, numpy=0.5351652>, <tf.Tensor: shape=(), dtype=float32, numpy=0.24592677>)\n",
      "\n",
      "(<tf.Tensor: shape=(), dtype=float32, numpy=-0.1863173>, <tf.Tensor: shape=(), dtype=float32, numpy=1.3881779>, <tf.Tensor: shape=(), dtype=float32, numpy=0.53359634>)\n",
      "\n",
      "(<tf.Tensor: shape=(), dtype=float32, numpy=0.044325262>, <tf.Tensor: shape=(), dtype=float32, numpy=0.19495761>, <tf.Tensor: shape=(), dtype=float32, numpy=0.21548629>)\n",
      "\n",
      "(<tf.Tensor: shape=(), dtype=float32, numpy=0.5795193>, <tf.Tensor: shape=(), dtype=float32, numpy=-0.48742366>, <tf.Tensor: shape=(), dtype=float32, numpy=-0.55208707>)\n",
      "\n",
      "(<tf.Tensor: shape=(), dtype=float32, numpy=-0.16150719>, <tf.Tensor: shape=(), dtype=float32, numpy=-0.79088247>, <tf.Tensor: shape=(), dtype=float32, numpy=-0.069645524>)\n",
      "\n",
      "(<tf.Tensor: shape=(), dtype=float32, numpy=-0.47529677>, <tf.Tensor: shape=(), dtype=float32, numpy=-0.17327213>, <tf.Tensor: shape=(), dtype=float32, numpy=0.04901035>)\n",
      "\n",
      "(<tf.Tensor: shape=(), dtype=float32, numpy=0.05976083>, <tf.Tensor: shape=(), dtype=float32, numpy=0.19737522>, <tf.Tensor: shape=(), dtype=float32, numpy=0.2476813>)\n",
      "\n",
      "(<tf.Tensor: shape=(), dtype=float32, numpy=-0.31214496>, <tf.Tensor: shape=(), dtype=float32, numpy=0.71831644>, <tf.Tensor: shape=(), dtype=float32, numpy=0.24045172>)\n",
      "\n",
      "(<tf.Tensor: shape=(), dtype=float32, numpy=0.5577423>, <tf.Tensor: shape=(), dtype=float32, numpy=0.579743>, <tf.Tensor: shape=(), dtype=float32, numpy=0.22692552>)\n",
      "\n",
      "(<tf.Tensor: shape=(), dtype=float32, numpy=-0.2903783>, <tf.Tensor: shape=(), dtype=float32, numpy=-1.1541126>, <tf.Tensor: shape=(), dtype=float32, numpy=-0.7614105>)\n",
      "\n",
      "(<tf.Tensor: shape=(), dtype=float32, numpy=-0.4690476>, <tf.Tensor: shape=(), dtype=float32, numpy=0.12950729>, <tf.Tensor: shape=(), dtype=float32, numpy=-0.13203822>)\n",
      "\n",
      "(<tf.Tensor: shape=(), dtype=float32, numpy=0.67572284>, <tf.Tensor: shape=(), dtype=float32, numpy=0.3306669>, <tf.Tensor: shape=(), dtype=float32, numpy=0.056019694>)\n",
      "\n",
      "(<tf.Tensor: shape=(), dtype=float32, numpy=0.022560567>, <tf.Tensor: shape=(), dtype=float32, numpy=0.6988689>, <tf.Tensor: shape=(), dtype=float32, numpy=0.6594597>)\n",
      "\n",
      "(<tf.Tensor: shape=(), dtype=float32, numpy=-0.011144498>, <tf.Tensor: shape=(), dtype=float32, numpy=0.36820978>, <tf.Tensor: shape=(), dtype=float32, numpy=0.11269583>)\n",
      "\n",
      "(<tf.Tensor: shape=(), dtype=float32, numpy=-0.34677812>, <tf.Tensor: shape=(), dtype=float32, numpy=-0.62141>, <tf.Tensor: shape=(), dtype=float32, numpy=0.15141365>)\n",
      "\n",
      "(<tf.Tensor: shape=(), dtype=float32, numpy=1.1373358>, <tf.Tensor: shape=(), dtype=float32, numpy=-0.4329127>, <tf.Tensor: shape=(), dtype=float32, numpy=0.07782896>)\n",
      "\n",
      "(<tf.Tensor: shape=(), dtype=float32, numpy=-0.20462759>, <tf.Tensor: shape=(), dtype=float32, numpy=0.5646875>, <tf.Tensor: shape=(), dtype=float32, numpy=0.49768358>)\n",
      "\n",
      "(<tf.Tensor: shape=(), dtype=float32, numpy=0.057435572>, <tf.Tensor: shape=(), dtype=float32, numpy=0.49994332>, <tf.Tensor: shape=(), dtype=float32, numpy=0.3766766>)\n",
      "\n",
      "(<tf.Tensor: shape=(), dtype=float32, numpy=0.055954054>, <tf.Tensor: shape=(), dtype=float32, numpy=-0.86907315>, <tf.Tensor: shape=(), dtype=float32, numpy=-0.25270024>)\n",
      "\n",
      "(<tf.Tensor: shape=(), dtype=float32, numpy=0.20040172>, <tf.Tensor: shape=(), dtype=float32, numpy=0.3619746>, <tf.Tensor: shape=(), dtype=float32, numpy=0.24666435>)\n",
      "\n",
      "(<tf.Tensor: shape=(), dtype=float32, numpy=0.046753258>, <tf.Tensor: shape=(), dtype=float32, numpy=-0.9261298>, <tf.Tensor: shape=(), dtype=float32, numpy=-0.7421661>)\n",
      "\n",
      "(<tf.Tensor: shape=(), dtype=float32, numpy=-0.33151057>, <tf.Tensor: shape=(), dtype=float32, numpy=-0.6279149>, <tf.Tensor: shape=(), dtype=float32, numpy=-0.3845716>)\n",
      "\n",
      "(<tf.Tensor: shape=(), dtype=float32, numpy=-0.2607654>, <tf.Tensor: shape=(), dtype=float32, numpy=1.5267913>, <tf.Tensor: shape=(), dtype=float32, numpy=0.81684995>)\n",
      "\n",
      "(<tf.Tensor: shape=(), dtype=float32, numpy=-0.3867935>, <tf.Tensor: shape=(), dtype=float32, numpy=-0.736397>, <tf.Tensor: shape=(), dtype=float32, numpy=-0.4286519>)\n",
      "\n",
      "(<tf.Tensor: shape=(), dtype=float32, numpy=0.5753837>, <tf.Tensor: shape=(), dtype=float32, numpy=0.45599484>, <tf.Tensor: shape=(), dtype=float32, numpy=0.40432966>)\n",
      "\n",
      "(<tf.Tensor: shape=(), dtype=float32, numpy=-0.33942854>, <tf.Tensor: shape=(), dtype=float32, numpy=-0.88774073>, <tf.Tensor: shape=(), dtype=float32, numpy=-0.30755436>)\n",
      "\n",
      "(<tf.Tensor: shape=(), dtype=float32, numpy=-0.13463>, <tf.Tensor: shape=(), dtype=float32, numpy=-0.2811041>, <tf.Tensor: shape=(), dtype=float32, numpy=-0.5662003>)\n",
      "\n",
      "(<tf.Tensor: shape=(), dtype=float32, numpy=-0.122247815>, <tf.Tensor: shape=(), dtype=float32, numpy=0.41740337>, <tf.Tensor: shape=(), dtype=float32, numpy=0.5353371>)\n",
      "\n",
      "(<tf.Tensor: shape=(), dtype=float32, numpy=0.41703916>, <tf.Tensor: shape=(), dtype=float32, numpy=0.364246>, <tf.Tensor: shape=(), dtype=float32, numpy=0.18450573>)\n",
      "\n",
      "(<tf.Tensor: shape=(), dtype=float32, numpy=-0.608654>, <tf.Tensor: shape=(), dtype=float32, numpy=1.079263>, <tf.Tensor: shape=(), dtype=float32, numpy=0.90776074>)\n",
      "\n",
      "(<tf.Tensor: shape=(), dtype=float32, numpy=-0.31553927>, <tf.Tensor: shape=(), dtype=float32, numpy=-0.1902648>, <tf.Tensor: shape=(), dtype=float32, numpy=-0.2803586>)\n",
      "\n",
      "(<tf.Tensor: shape=(), dtype=float32, numpy=-0.15830195>, <tf.Tensor: shape=(), dtype=float32, numpy=-0.3904675>, <tf.Tensor: shape=(), dtype=float32, numpy=-0.3983661>)\n",
      "\n",
      "(<tf.Tensor: shape=(), dtype=float32, numpy=0.014066443>, <tf.Tensor: shape=(), dtype=float32, numpy=-0.3611316>, <tf.Tensor: shape=(), dtype=float32, numpy=-0.03140843>)\n",
      "\n",
      "(<tf.Tensor: shape=(), dtype=float32, numpy=0.6299789>, <tf.Tensor: shape=(), dtype=float32, numpy=0.17267102>, <tf.Tensor: shape=(), dtype=float32, numpy=0.4306363>)\n",
      "\n",
      "(<tf.Tensor: shape=(), dtype=float32, numpy=0.3606878>, <tf.Tensor: shape=(), dtype=float32, numpy=-0.20134342>, <tf.Tensor: shape=(), dtype=float32, numpy=-0.08875185>)\n",
      "\n",
      "(<tf.Tensor: shape=(), dtype=float32, numpy=-0.3299644>, <tf.Tensor: shape=(), dtype=float32, numpy=0.5326906>, <tf.Tensor: shape=(), dtype=float32, numpy=0.40187946>)\n",
      "\n",
      "(<tf.Tensor: shape=(), dtype=float32, numpy=-0.9442878>, <tf.Tensor: shape=(), dtype=float32, numpy=-0.75528526>, <tf.Tensor: shape=(), dtype=float32, numpy=-0.45095077>)\n",
      "\n",
      "(<tf.Tensor: shape=(), dtype=float32, numpy=-0.6380962>, <tf.Tensor: shape=(), dtype=float32, numpy=-0.1395719>, <tf.Tensor: shape=(), dtype=float32, numpy=-0.133279>)\n",
      "\n",
      "(<tf.Tensor: shape=(), dtype=float32, numpy=0.42477092>, <tf.Tensor: shape=(), dtype=float32, numpy=-0.50728583>, <tf.Tensor: shape=(), dtype=float32, numpy=-0.63264644>)\n",
      "\n",
      "(<tf.Tensor: shape=(), dtype=float32, numpy=-0.025491804>, <tf.Tensor: shape=(), dtype=float32, numpy=-0.22087306>, <tf.Tensor: shape=(), dtype=float32, numpy=0.28230757>)\n",
      "\n",
      "(<tf.Tensor: shape=(), dtype=float32, numpy=-0.31722525>, <tf.Tensor: shape=(), dtype=float32, numpy=0.47115895>, <tf.Tensor: shape=(), dtype=float32, numpy=0.5500829>)\n",
      "\n",
      "(<tf.Tensor: shape=(), dtype=float32, numpy=0.3234479>, <tf.Tensor: shape=(), dtype=float32, numpy=0.9389025>, <tf.Tensor: shape=(), dtype=float32, numpy=0.3815184>)\n",
      "\n",
      "(<tf.Tensor: shape=(), dtype=float32, numpy=-0.054787375>, <tf.Tensor: shape=(), dtype=float32, numpy=-0.69107664>, <tf.Tensor: shape=(), dtype=float32, numpy=-0.3004739>)\n",
      "\n",
      "(<tf.Tensor: shape=(), dtype=float32, numpy=1.3060378>, <tf.Tensor: shape=(), dtype=float32, numpy=-0.46642563>, <tf.Tensor: shape=(), dtype=float32, numpy=-0.28888574>)\n",
      "\n",
      "(<tf.Tensor: shape=(), dtype=float32, numpy=0.3551282>, <tf.Tensor: shape=(), dtype=float32, numpy=0.16514441>, <tf.Tensor: shape=(), dtype=float32, numpy=0.18634886>)\n",
      "\n",
      "(<tf.Tensor: shape=(), dtype=float32, numpy=0.084880814>, <tf.Tensor: shape=(), dtype=float32, numpy=-0.8402924>, <tf.Tensor: shape=(), dtype=float32, numpy=-0.30422685>)\n",
      "\n",
      "(<tf.Tensor: shape=(), dtype=float32, numpy=-0.19691312>, <tf.Tensor: shape=(), dtype=float32, numpy=-0.5185617>, <tf.Tensor: shape=(), dtype=float32, numpy=-0.36771765>)\n",
      "\n",
      "(<tf.Tensor: shape=(), dtype=float32, numpy=-0.14895801>, <tf.Tensor: shape=(), dtype=float32, numpy=0.2104465>, <tf.Tensor: shape=(), dtype=float32, numpy=0.07915194>)\n",
      "\n",
      "(<tf.Tensor: shape=(), dtype=float32, numpy=-0.16805391>, <tf.Tensor: shape=(), dtype=float32, numpy=0.42182443>, <tf.Tensor: shape=(), dtype=float32, numpy=0.30185753>)\n",
      "\n",
      "(<tf.Tensor: shape=(), dtype=float32, numpy=-0.39732188>, <tf.Tensor: shape=(), dtype=float32, numpy=0.75625175>, <tf.Tensor: shape=(), dtype=float32, numpy=0.4869846>)\n",
      "\n",
      "(<tf.Tensor: shape=(), dtype=float32, numpy=1.1590493>, <tf.Tensor: shape=(), dtype=float32, numpy=-0.46319547>, <tf.Tensor: shape=(), dtype=float32, numpy=-0.5530781>)\n",
      "\n",
      "\n",
      "\n"
     ]
    },
    {
     "data": {
      "image/png": "[encoded data removed]",
      "text/plain": [
       "<Figure size 900x600 with 1 Axes>"
      ]
     },
     "metadata": {},
     "output_type": "display_data"
    }
   ],
   "source": [
    "# Set training parameters\n",
    "epochs = 100\n",
    "learning_rate = 0.01\n",
    "losses = []\n",
    "\n",
    "# Format training loop\n",
    "for epoch in range(epochs):\n",
    "    for x_batch, y_batch in dataset:\n",
    "        with tf.GradientTape() as tape:\n",
    "            batch_loss = mse_loss(model(x_batch), y_batch)\n",
    "        # Update parameters with respect to the gradient calculations\n",
    "        grads = tape.gradient(batch_loss, model.variables)\n",
    "        print(grads,end=\"\\n\\n\")\n",
    "        for g,v in zip(grads, model.variables):\n",
    "            v.assign_sub(learning_rate*g)\n",
    "    # Keep track of model loss per epoch\n",
    "    loss = mse_loss(model(x), y)\n",
    "    losses.append(loss)\n",
    "    if epoch % 10 == 0:\n",
    "        print(f'Mean squared error for step {epoch}: {loss.numpy():0.3f}')\n",
    "\n",
    "# Plot model results\n",
    "print(\"\\n\")\n",
    "plt.plot(range(epochs), losses)\n",
    "plt.xlabel(\"Epoch\")\n",
    "plt.ylabel(\"Mean Squared Error (MSE)\")\n",
    "plt.title('MSE loss vs training iterations');"
   ]
  },
  {
   "cell_type": "code",
   "execution_count": 52,
   "metadata": {},
   "outputs": [
    {
     "data": {
      "image/png": "[encoded data removed]",
      "text/plain": [
       "<Figure size 900x600 with 1 Axes>"
      ]
     },
     "metadata": {},
     "output_type": "display_data"
    }
   ],
   "source": [
    "plot_preds(x, y, f, model, 'After training')\n"
   ]
  },
  {
   "cell_type": "code",
   "execution_count": 53,
   "metadata": {},
   "outputs": [
    {
     "data": {
      "text/plain": [
       "<tf.Tensor: shape=(201,), dtype=float32, numpy=\n",
       "array([-2.  , -1.98, -1.96, -1.94, -1.92, -1.9 , -1.88, -1.86, -1.84,\n",
       "       -1.82, -1.8 , -1.78, -1.76, -1.74, -1.72, -1.7 , -1.68, -1.66,\n",
       "       -1.64, -1.62, -1.6 , -1.58, -1.56, -1.54, -1.52, -1.5 , -1.48,\n",
       "       -1.46, -1.44, -1.42, -1.4 , -1.38, -1.36, -1.34, -1.32, -1.3 ,\n",
       "       -1.28, -1.26, -1.24, -1.22, -1.2 , -1.18, -1.16, -1.14, -1.12,\n",
       "       -1.1 , -1.08, -1.06, -1.04, -1.02, -1.  , -0.98, -0.96, -0.94,\n",
       "       -0.92, -0.9 , -0.88, -0.86, -0.84, -0.82, -0.8 , -0.78, -0.76,\n",
       "       -0.74, -0.72, -0.7 , -0.68, -0.66, -0.64, -0.62, -0.6 , -0.58,\n",
       "       -0.56, -0.54, -0.52, -0.5 , -0.48, -0.46, -0.44, -0.42, -0.4 ,\n",
       "       -0.38, -0.36, -0.34, -0.32, -0.3 , -0.28, -0.26, -0.24, -0.22,\n",
       "       -0.2 , -0.18, -0.16, -0.14, -0.12, -0.1 , -0.08, -0.06, -0.04,\n",
       "       -0.02,  0.  ,  0.02,  0.04,  0.06,  0.08,  0.1 ,  0.12,  0.14,\n",
       "        0.16,  0.18,  0.2 ,  0.22,  0.24,  0.26,  0.28,  0.3 ,  0.32,\n",
       "        0.34,  0.36,  0.38,  0.4 ,  0.42,  0.44,  0.46,  0.48,  0.5 ,\n",
       "        0.52,  0.54,  0.56,  0.58,  0.6 ,  0.62,  0.64,  0.66,  0.68,\n",
       "        0.7 ,  0.72,  0.74,  0.76,  0.78,  0.8 ,  0.82,  0.84,  0.86,\n",
       "        0.88,  0.9 ,  0.92,  0.94,  0.96,  0.98,  1.  ,  1.02,  1.04,\n",
       "        1.06,  1.08,  1.1 ,  1.12,  1.14,  1.16,  1.18,  1.2 ,  1.22,\n",
       "        1.24,  1.26,  1.28,  1.3 ,  1.32,  1.34,  1.36,  1.38,  1.4 ,\n",
       "        1.42,  1.44,  1.46,  1.48,  1.5 ,  1.52,  1.54,  1.56,  1.58,\n",
       "        1.6 ,  1.62,  1.64,  1.66,  1.68,  1.7 ,  1.72,  1.74,  1.76,\n",
       "        1.78,  1.8 ,  1.82,  1.84,  1.86,  1.88,  1.9 ,  1.92,  1.94,\n",
       "        1.96,  1.98,  2.  ], dtype=float32)>"
      ]
     },
     "execution_count": 53,
     "metadata": {},
     "output_type": "execute_result"
    }
   ],
   "source": [
    "x"
   ]
  },
  {
   "cell_type": "code",
   "execution_count": 54,
   "metadata": {},
   "outputs": [
    {
     "data": {
      "text/plain": [
       "array([-2.  , -1.98, -1.96, -1.94, -1.92, -1.9 , -1.88, -1.86, -1.84,\n",
       "       -1.82], dtype=float32)"
      ]
     },
     "execution_count": 54,
     "metadata": {},
     "output_type": "execute_result"
    }
   ],
   "source": [
    "np.array(x[:10])"
   ]
  },
  {
   "cell_type": "code",
   "execution_count": 55,
   "metadata": {},
   "outputs": [],
   "source": [
    "tensor_1 = tf.random.normal(shape=(2, 3, 3, 2))\n",
    "tensor_2 = tf.random.normal(shape=(2, 3, 2, 4))\n"
   ]
  },
  {
   "cell_type": "code",
   "execution_count": 56,
   "metadata": {},
   "outputs": [
    {
     "data": {
      "text/plain": [
       "<tf.Tensor: shape=(2, 3, 3, 2), dtype=float32, numpy=\n",
       "array([[[[ 0.05452649, -1.1765611 ],\n",
       "         [ 0.07634619, -1.3578233 ],\n",
       "         [ 1.2604065 ,  2.1619024 ]],\n",
       "\n",
       "        [[-0.46659973, -0.05190522],\n",
       "         [-0.6705971 ,  0.8665701 ],\n",
       "         [-2.0134697 , -1.4264826 ]],\n",
       "\n",
       "        [[ 0.32316294,  0.1751282 ],\n",
       "         [ 1.5953087 ,  1.2173895 ],\n",
       "         [-0.17606759,  0.976821  ]]],\n",
       "\n",
       "\n",
       "       [[[ 0.2188622 ,  1.2192837 ],\n",
       "         [-0.74039656, -0.17280677],\n",
       "         [-1.7130225 , -0.42853376]],\n",
       "\n",
       "        [[ 0.19903843, -0.35816568],\n",
       "         [ 0.01683895,  1.3675845 ],\n",
       "         [-0.2468591 , -0.42328405]],\n",
       "\n",
       "        [[ 1.7717439 , -0.3253727 ],\n",
       "         [ 0.09006997,  1.5060983 ],\n",
       "         [-2.6048527 , -0.67899317]]]], dtype=float32)>"
      ]
     },
     "execution_count": 56,
     "metadata": {},
     "output_type": "execute_result"
    }
   ],
   "source": [
    "tensor_1"
   ]
  },
  {
   "cell_type": "code",
   "execution_count": 57,
   "metadata": {},
   "outputs": [
    {
     "data": {
      "text/plain": [
       "<tf.Tensor: shape=(2, 3, 2, 4), dtype=float32, numpy=\n",
       "array([[[[ 1.188929  ,  0.02157709, -0.9849405 , -1.5472889 ],\n",
       "         [ 0.49326885,  0.27409706,  0.7997807 ,  0.5873172 ]],\n",
       "\n",
       "        [[-0.13600813,  1.1703802 ,  1.4148077 ,  0.14265989],\n",
       "         [ 1.2319802 , -0.9268141 , -1.4324133 ,  0.70916694]],\n",
       "\n",
       "        [[-1.8728211 ,  2.0004425 , -0.19693205,  0.07989715],\n",
       "         [-0.82242626,  1.852535  , -1.1873343 ,  0.9649277 ]]],\n",
       "\n",
       "\n",
       "       [[[-1.1900535 ,  1.2626369 , -1.4716756 , -1.1278157 ],\n",
       "         [ 1.0338515 , -1.5736271 , -1.6866748 , -0.36858442]],\n",
       "\n",
       "        [[ 0.97294205,  1.2610594 ,  0.86902475, -0.20394857],\n",
       "         [-0.62756073, -0.6093461 , -0.16408567, -0.37565607]],\n",
       "\n",
       "        [[-1.9344311 , -0.392811  ,  0.14720903, -0.01025101],\n",
       "         [ 1.7282252 ,  0.88417196,  0.8934259 , -0.22677651]]]],\n",
       "      dtype=float32)>"
      ]
     },
     "execution_count": 57,
     "metadata": {},
     "output_type": "execute_result"
    }
   ],
   "source": [
    "tensor_2"
   ]
  },
  {
   "cell_type": "code",
   "execution_count": 58,
   "metadata": {},
   "outputs": [
    {
     "data": {
      "text/plain": [
       "<tf.Tensor: shape=(2, 3, 3, 4), dtype=float32, numpy=\n",
       "array([[[[-5.1553285e-01, -3.2131541e-01, -9.9469626e-01,\n",
       "          -7.7538282e-01],\n",
       "         [-5.7900172e-01, -3.7052801e-01, -1.1611574e+00,\n",
       "          -9.1560262e-01],\n",
       "         [ 2.5649328e+00,  6.1976701e-01,  4.8762250e-01,\n",
       "          -6.8049043e-01]],\n",
       "\n",
       "        [[-4.8485043e-04, -4.9799263e-01, -5.8579910e-01,\n",
       "          -1.0337453e-01],\n",
       "         [ 1.1588039e+00, -1.5880029e+00, -2.1900525e+00,\n",
       "           5.1887560e-01],\n",
       "         [-1.4835501e+00, -1.0344411e+00, -8.0535972e-01,\n",
       "          -1.2988557e+00]],\n",
       "\n",
       "        [[-7.4925643e-01,  9.7090000e-01, -2.7157685e-01,\n",
       "           1.9480585e-01],\n",
       "         [-3.9889407e+00,  5.4465799e+00, -1.7596157e+00,\n",
       "           1.3021533e+00],\n",
       "         [-4.7362015e-01,  1.4573821e+00, -1.1251397e+00,\n",
       "           9.2849433e-01]]],\n",
       "\n",
       "\n",
       "       [[[ 1.0001006e+00, -1.6423544e+00, -2.3786292e+00,\n",
       "          -6.9624519e-01],\n",
       "         [ 7.0245498e-01, -6.6291857e-01,  1.3810924e+00,\n",
       "           8.9872473e-01],\n",
       "         [ 1.5955480e+00, -1.4885731e+00,  3.2438107e+00,\n",
       "           2.0899246e+00]],\n",
       "\n",
       "        [[ 4.1842356e-01,  4.6924612e-01,  2.3173918e-01,\n",
       "           9.3953505e-02],\n",
       "         [-8.4185898e-01, -8.1209731e-01, -2.0976755e-01,\n",
       "          -5.1717567e-01],\n",
       "         [ 2.5456853e-02, -5.3377520e-02, -1.4507182e-01,\n",
       "           2.0935579e-01]],\n",
       "\n",
       "        [[-3.9896338e+00, -9.8364586e-01, -2.9879695e-02,\n",
       "           5.5624723e-02],\n",
       "         [ 2.4286430e+00,  1.2962694e+00,  1.3588463e+00,\n",
       "          -3.4247100e-01],\n",
       "         [ 3.8654549e+00,  4.2286810e-01, -9.9008793e-01,\n",
       "           1.8068206e-01]]]], dtype=float32)>"
      ]
     },
     "execution_count": 58,
     "metadata": {},
     "output_type": "execute_result"
    }
   ],
   "source": [
    "\n",
    "tensor_1 @ tensor_2"
   ]
  },
  {
   "cell_type": "code",
   "execution_count": 59,
   "metadata": {},
   "outputs": [
    {
     "data": {
      "text/plain": [
       "<tf.Tensor: shape=(2, 2), dtype=float32, numpy=\n",
       "array([[ 4.,  1.],\n",
       "       [10.,  5.]], dtype=float32)>"
      ]
     },
     "execution_count": 59,
     "metadata": {},
     "output_type": "execute_result"
    }
   ],
   "source": [
    "c = tf.constant([[4.0, 1.0], [10.0, 5.0]])\n",
    "c"
   ]
  },
  {
   "cell_type": "code",
   "execution_count": 60,
   "metadata": {},
   "outputs": [
    {
     "name": "stdout",
     "output_type": "stream",
     "text": [
      "tf.Tensor(10.0, shape=(), dtype=float32)\n",
      "tf.Tensor([1 1], shape=(2,), dtype=int64)\n",
      "tf.Tensor(\n",
      "[[0.95257413 0.04742587]\n",
      " [0.9933072  0.00669285]], shape=(2, 2), dtype=float32)\n"
     ]
    }
   ],
   "source": [
    "\n",
    "# Find the largest value\n",
    "print(tf.reduce_max(c))\n",
    "# Find the index of the largest value\n",
    "print(tf.math.argmax(c))\n",
    "# Compute the softmax\n",
    "print(tf.nn.softmax(c))"
   ]
  },
  {
   "cell_type": "code",
   "execution_count": 61,
   "metadata": {},
   "outputs": [
    {
     "data": {
      "text/plain": [
       "tensorflow.python.framework.tensor_shape.TensorShape"
      ]
     },
     "execution_count": 61,
     "metadata": {},
     "output_type": "execute_result"
    }
   ],
   "source": [
    "type(c.shape)"
   ]
  },
  {
   "cell_type": "code",
   "execution_count": 62,
   "metadata": {},
   "outputs": [
    {
     "data": {
      "text/plain": [
       "<tf.Tensor: shape=(2,), dtype=int32, numpy=array([2, 2])>"
      ]
     },
     "execution_count": 62,
     "metadata": {},
     "output_type": "execute_result"
    }
   ],
   "source": [
    "tf.convert_to_tensor(c.shape)"
   ]
  },
  {
   "cell_type": "code",
   "execution_count": 63,
   "metadata": {},
   "outputs": [
    {
     "data": {
      "text/plain": [
       "201"
      ]
     },
     "execution_count": 63,
     "metadata": {},
     "output_type": "execute_result"
    }
   ],
   "source": [
    "tf.size(x).numpy()"
   ]
  },
  {
   "cell_type": "code",
   "execution_count": 64,
   "metadata": {},
   "outputs": [
    {
     "data": {
      "text/plain": [
       "<tf.Tensor: shape=(2,), dtype=int32, numpy=array([2, 2])>"
      ]
     },
     "execution_count": 64,
     "metadata": {},
     "output_type": "execute_result"
    }
   ],
   "source": [
    "tf.shape(c)"
   ]
  },
  {
   "cell_type": "code",
   "execution_count": 65,
   "metadata": {},
   "outputs": [
    {
     "data": {
      "text/plain": [
       "<tf.Tensor: shape=(), dtype=int32, numpy=2>"
      ]
     },
     "execution_count": 65,
     "metadata": {},
     "output_type": "execute_result"
    }
   ],
   "source": [
    "tf.rank(c)"
   ]
  },
  {
   "cell_type": "code",
   "execution_count": 66,
   "metadata": {},
   "outputs": [
    {
     "data": {
      "text/plain": [
       "<tf.Tensor: shape=(4, 5), dtype=int32, numpy=\n",
       "array([[ 0,  1,  2,  3,  4],\n",
       "       [ 5,  6,  7,  8,  9],\n",
       "       [10, 11, 12, 13, 14],\n",
       "       [15, 16, 17, 18, 19]])>"
      ]
     },
     "execution_count": 66,
     "metadata": {},
     "output_type": "execute_result"
    }
   ],
   "source": [
    "t2 = tf.constant([[0, 1, 2, 3, 4],\n",
    "                    [5, 6, 7, 8, 9],\n",
    "                    [10, 11, 12, 13, 14],\n",
    "                    [15, 16, 17, 18, 19]])\n",
    "t2"
   ]
  },
  {
   "cell_type": "code",
   "execution_count": 72,
   "metadata": {},
   "outputs": [
    {
     "data": {
      "text/plain": [
       "<tf.Tensor: shape=(4, 2, 3, 2), dtype=float32, numpy=\n",
       "array([[[[0.08625233, 0.4061849 ],\n",
       "         [0.65552914, 0.07730126],\n",
       "         [0.637063  , 0.1451236 ]],\n",
       "\n",
       "        [[0.57024884, 0.4421817 ],\n",
       "         [0.75497663, 0.5710076 ],\n",
       "         [0.3599075 , 0.81935096]]],\n",
       "\n",
       "\n",
       "       [[[0.45919573, 0.74812937],\n",
       "         [0.65013814, 0.60215807],\n",
       "         [0.7350291 , 0.26422703]],\n",
       "\n",
       "        [[0.09411073, 0.67996585],\n",
       "         [0.7514638 , 0.5254272 ],\n",
       "         [0.44127166, 0.96240175]]],\n",
       "\n",
       "\n",
       "       [[[0.9119222 , 0.3499508 ],\n",
       "         [0.03861904, 0.93332744],\n",
       "         [0.19111991, 0.07868588]],\n",
       "\n",
       "        [[0.97547376, 0.9144392 ],\n",
       "         [0.23383117, 0.12469423],\n",
       "         [0.41991925, 0.8912289 ]]],\n",
       "\n",
       "\n",
       "       [[[0.0010463 , 0.6195513 ],\n",
       "         [0.47203612, 0.2132535 ],\n",
       "         [0.66966736, 0.9906169 ]],\n",
       "\n",
       "        [[0.5893023 , 0.5751871 ],\n",
       "         [0.85714495, 0.16045463],\n",
       "         [0.8476691 , 0.9468216 ]]]], dtype=float32)>"
      ]
     },
     "execution_count": 72,
     "metadata": {},
     "output_type": "execute_result"
    }
   ],
   "source": [
    "test = tf.random.uniform((4,2,3,2))\n",
    "test"
   ]
  },
  {
   "cell_type": "code",
   "execution_count": 77,
   "metadata": {},
   "outputs": [
    {
     "data": {
      "text/plain": [
       "<tf.Tensor: shape=(48, 1), dtype=float32, numpy=\n",
       "array([[0.08625233],\n",
       "       [0.4061849 ],\n",
       "       [0.65552914],\n",
       "       [0.07730126],\n",
       "       [0.637063  ],\n",
       "       [0.1451236 ],\n",
       "       [0.57024884],\n",
       "       [0.4421817 ],\n",
       "       [0.75497663],\n",
       "       [0.5710076 ],\n",
       "       [0.3599075 ],\n",
       "       [0.81935096],\n",
       "       [0.45919573],\n",
       "       [0.74812937],\n",
       "       [0.65013814],\n",
       "       [0.60215807],\n",
       "       [0.7350291 ],\n",
       "       [0.26422703],\n",
       "       [0.09411073],\n",
       "       [0.67996585],\n",
       "       [0.7514638 ],\n",
       "       [0.5254272 ],\n",
       "       [0.44127166],\n",
       "       [0.96240175],\n",
       "       [0.9119222 ],\n",
       "       [0.3499508 ],\n",
       "       [0.03861904],\n",
       "       [0.93332744],\n",
       "       [0.19111991],\n",
       "       [0.07868588],\n",
       "       [0.97547376],\n",
       "       [0.9144392 ],\n",
       "       [0.23383117],\n",
       "       [0.12469423],\n",
       "       [0.41991925],\n",
       "       [0.8912289 ],\n",
       "       [0.0010463 ],\n",
       "       [0.6195513 ],\n",
       "       [0.47203612],\n",
       "       [0.2132535 ],\n",
       "       [0.66966736],\n",
       "       [0.9906169 ],\n",
       "       [0.5893023 ],\n",
       "       [0.5751871 ],\n",
       "       [0.85714495],\n",
       "       [0.16045463],\n",
       "       [0.8476691 ],\n",
       "       [0.9468216 ]], dtype=float32)>"
      ]
     },
     "execution_count": 77,
     "metadata": {},
     "output_type": "execute_result"
    }
   ],
   "source": [
    "tf.reshape(test, (48,1))"
   ]
  },
  {
   "cell_type": "code",
   "execution_count": 79,
   "metadata": {},
   "outputs": [
    {
     "data": {
      "text/plain": [
       "<tf.Tensor: shape=(4, 2), dtype=float32, numpy=\n",
       "array([[0.708503 , 0.8876878],\n",
       "       [0.708503 , 0.8876878],\n",
       "       [0.708503 , 0.8876878],\n",
       "       [0.708503 , 0.8876878]], dtype=float32)>"
      ]
     },
     "execution_count": 79,
     "metadata": {},
     "output_type": "execute_result"
    }
   ],
   "source": [
    "tf.broadcast_to(tf.random.uniform([1,2]), (4,2,))"
   ]
  },
  {
   "cell_type": "code",
   "execution_count": null,
   "metadata": {},
   "outputs": [],
   "source": []
  }
 ],
 "metadata": {
  "kernelspec": {
   "display_name": ".venv",
   "language": "python",
   "name": "python3"
  },
  "language_info": {
   "codemirror_mode": {
    "name": "ipython",
    "version": 3
   },
   "file_extension": ".py",
   "mimetype": "text/x-python",
   "name": "python",
   "nbconvert_exporter": "python",
   "pygments_lexer": "ipython3",
   "version": "3.11.8"
  }
 },
 "nbformat": 4,
 "nbformat_minor": 2
}
