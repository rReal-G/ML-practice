{
 "cells": [
  {
   "cell_type": "code",
   "execution_count": 1,
   "metadata": {},
   "outputs": [
    {
     "name": "stderr",
     "output_type": "stream",
     "text": [
      "2024-03-04 23:35:30.446176: E external/local_xla/xla/stream_executor/cuda/cuda_dnn.cc:9261] Unable to register cuDNN factory: Attempting to register factory for plugin cuDNN when one has already been registered\n",
      "2024-03-04 23:35:30.446284: E external/local_xla/xla/stream_executor/cuda/cuda_fft.cc:607] Unable to register cuFFT factory: Attempting to register factory for plugin cuFFT when one has already been registered\n",
      "2024-03-04 23:35:30.448107: E external/local_xla/xla/stream_executor/cuda/cuda_blas.cc:1515] Unable to register cuBLAS factory: Attempting to register factory for plugin cuBLAS when one has already been registered\n",
      "2024-03-04 23:35:30.456272: I tensorflow/core/platform/cpu_feature_guard.cc:182] This TensorFlow binary is optimized to use available CPU instructions in performance-critical operations.\n",
      "To enable the following instructions: AVX2 FMA, in other operations, rebuild TensorFlow with the appropriate compiler flags.\n",
      "2024-03-04 23:35:31.532975: W tensorflow/compiler/tf2tensorrt/utils/py_utils.cc:38] TF-TRT Warning: Could not find TensorRT\n"
     ]
    }
   ],
   "source": [
    "import tensorflow as tf\n"
   ]
  },
  {
   "cell_type": "code",
   "execution_count": 2,
   "metadata": {},
   "outputs": [],
   "source": [
    "import numpy as np"
   ]
  },
  {
   "cell_type": "code",
   "execution_count": 3,
   "metadata": {},
   "outputs": [
    {
     "data": {
      "text/plain": [
       "array([[[0],\n",
       "        [1],\n",
       "        [2]],\n",
       "\n",
       "       [[3],\n",
       "        [4],\n",
       "        [5]],\n",
       "\n",
       "       [[6],\n",
       "        [7],\n",
       "        [8]]])"
      ]
     },
     "execution_count": 3,
     "metadata": {},
     "output_type": "execute_result"
    }
   ],
   "source": [
    "arr = np.arange(9).reshape(3,3,1)\n",
    "arr"
   ]
  },
  {
   "cell_type": "code",
   "execution_count": 4,
   "metadata": {},
   "outputs": [
    {
     "name": "stderr",
     "output_type": "stream",
     "text": [
      "2024-03-04 23:35:32.751199: I external/local_xla/xla/stream_executor/cuda/cuda_executor.cc:887] could not open file to read NUMA node: /sys/bus/pci/devices/0000:01:00.0/numa_node\n",
      "Your kernel may have been built without NUMA support.\n",
      "2024-03-04 23:35:32.798898: I external/local_xla/xla/stream_executor/cuda/cuda_executor.cc:887] could not open file to read NUMA node: /sys/bus/pci/devices/0000:01:00.0/numa_node\n",
      "Your kernel may have been built without NUMA support.\n",
      "2024-03-04 23:35:32.798969: I external/local_xla/xla/stream_executor/cuda/cuda_executor.cc:887] could not open file to read NUMA node: /sys/bus/pci/devices/0000:01:00.0/numa_node\n",
      "Your kernel may have been built without NUMA support.\n",
      "2024-03-04 23:35:32.802360: I external/local_xla/xla/stream_executor/cuda/cuda_executor.cc:887] could not open file to read NUMA node: /sys/bus/pci/devices/0000:01:00.0/numa_node\n",
      "Your kernel may have been built without NUMA support.\n",
      "2024-03-04 23:35:32.802449: I external/local_xla/xla/stream_executor/cuda/cuda_executor.cc:887] could not open file to read NUMA node: /sys/bus/pci/devices/0000:01:00.0/numa_node\n",
      "Your kernel may have been built without NUMA support.\n",
      "2024-03-04 23:35:32.802484: I external/local_xla/xla/stream_executor/cuda/cuda_executor.cc:887] could not open file to read NUMA node: /sys/bus/pci/devices/0000:01:00.0/numa_node\n",
      "Your kernel may have been built without NUMA support.\n",
      "2024-03-04 23:35:33.058457: I external/local_xla/xla/stream_executor/cuda/cuda_executor.cc:887] could not open file to read NUMA node: /sys/bus/pci/devices/0000:01:00.0/numa_node\n",
      "Your kernel may have been built without NUMA support.\n",
      "2024-03-04 23:35:33.058553: I external/local_xla/xla/stream_executor/cuda/cuda_executor.cc:887] could not open file to read NUMA node: /sys/bus/pci/devices/0000:01:00.0/numa_node\n",
      "Your kernel may have been built without NUMA support.\n",
      "2024-03-04 23:35:33.058567: I tensorflow/core/common_runtime/gpu/gpu_device.cc:2022] Could not identify NUMA node of platform GPU id 0, defaulting to 0.  Your kernel may not have been built with NUMA support.\n",
      "2024-03-04 23:35:33.058613: I external/local_xla/xla/stream_executor/cuda/cuda_executor.cc:887] could not open file to read NUMA node: /sys/bus/pci/devices/0000:01:00.0/numa_node\n",
      "Your kernel may have been built without NUMA support.\n",
      "2024-03-04 23:35:33.058639: I tensorflow/core/common_runtime/gpu/gpu_device.cc:1929] Created device /job:localhost/replica:0/task:0/device:GPU:0 with 2870 MB memory:  -> device: 0, name: NVIDIA GeForce GTX 1050 Ti, pci bus id: 0000:01:00.0, compute capability: 6.1\n"
     ]
    },
    {
     "data": {
      "text/plain": [
       "<tf.Tensor: shape=(3, 3, 1), dtype=int64, numpy=\n",
       "array([[[0],\n",
       "        [1],\n",
       "        [2]],\n",
       "\n",
       "       [[3],\n",
       "        [4],\n",
       "        [5]],\n",
       "\n",
       "       [[6],\n",
       "        [7],\n",
       "        [8]]])>"
      ]
     },
     "execution_count": 4,
     "metadata": {},
     "output_type": "execute_result"
    }
   ],
   "source": [
    "x = tf.constant(arr)\n",
    "x"
   ]
  },
  {
   "cell_type": "code",
   "execution_count": 5,
   "metadata": {},
   "outputs": [
    {
     "data": {
      "text/plain": [
       "<tf.Tensor: shape=(3, 3, 1), dtype=int64, numpy=\n",
       "array([[[ 0],\n",
       "        [ 2],\n",
       "        [ 4]],\n",
       "\n",
       "       [[ 6],\n",
       "        [ 8],\n",
       "        [10]],\n",
       "\n",
       "       [[12],\n",
       "        [14],\n",
       "        [16]]])>"
      ]
     },
     "execution_count": 5,
     "metadata": {},
     "output_type": "execute_result"
    }
   ],
   "source": [
    "x+x"
   ]
  },
  {
   "cell_type": "code",
   "execution_count": 6,
   "metadata": {},
   "outputs": [
    {
     "data": {
      "text/plain": [
       "<tf.Tensor: shape=(3, 3, 1), dtype=int64, numpy=\n",
       "array([[[ 0],\n",
       "        [ 5],\n",
       "        [10]],\n",
       "\n",
       "       [[15],\n",
       "        [20],\n",
       "        [25]],\n",
       "\n",
       "       [[30],\n",
       "        [35],\n",
       "        [40]]])>"
      ]
     },
     "execution_count": 6,
     "metadata": {},
     "output_type": "execute_result"
    }
   ],
   "source": [
    "x*5"
   ]
  },
  {
   "cell_type": "code",
   "execution_count": 7,
   "metadata": {},
   "outputs": [
    {
     "data": {
      "text/plain": [
       "<tf.Tensor: shape=(3, 3, 1), dtype=int64, numpy=\n",
       "array([[[ 0],\n",
       "        [ 5],\n",
       "        [10]],\n",
       "\n",
       "       [[15],\n",
       "        [20],\n",
       "        [25]],\n",
       "\n",
       "       [[30],\n",
       "        [35],\n",
       "        [40]]])>"
      ]
     },
     "execution_count": 7,
     "metadata": {},
     "output_type": "execute_result"
    }
   ],
   "source": [
    "5*x"
   ]
  },
  {
   "cell_type": "code",
   "execution_count": 8,
   "metadata": {},
   "outputs": [
    {
     "data": {
      "text/plain": [
       "<tf.Tensor: shape=(1, 3, 3), dtype=int64, numpy=\n",
       "array([[[0, 3, 6],\n",
       "        [1, 4, 7],\n",
       "        [2, 5, 8]]])>"
      ]
     },
     "execution_count": 8,
     "metadata": {},
     "output_type": "execute_result"
    }
   ],
   "source": [
    "tf.transpose(x)"
   ]
  },
  {
   "cell_type": "code",
   "execution_count": 9,
   "metadata": {},
   "outputs": [
    {
     "data": {
      "text/plain": [
       "<tf.Tensor: shape=(3, 3, 2), dtype=int64, numpy=\n",
       "array([[[0, 0],\n",
       "        [1, 1],\n",
       "        [2, 2]],\n",
       "\n",
       "       [[3, 3],\n",
       "        [4, 4],\n",
       "        [5, 5]],\n",
       "\n",
       "       [[6, 6],\n",
       "        [7, 7],\n",
       "        [8, 8]]])>"
      ]
     },
     "execution_count": 9,
     "metadata": {},
     "output_type": "execute_result"
    }
   ],
   "source": [
    "tf.concat([x,x], axis=2)"
   ]
  },
  {
   "cell_type": "code",
   "execution_count": 10,
   "metadata": {},
   "outputs": [
    {
     "data": {
      "text/plain": [
       "<tf.Tensor: shape=(3,), dtype=int64, numpy=array([1, 4, 7])>"
      ]
     },
     "execution_count": 10,
     "metadata": {},
     "output_type": "execute_result"
    }
   ],
   "source": [
    "x[:,1,0]"
   ]
  },
  {
   "cell_type": "code",
   "execution_count": 11,
   "metadata": {},
   "outputs": [
    {
     "data": {
      "text/plain": [
       "<tf.Tensor: shape=(3,), dtype=float32, numpy=array([1., 4., 7.], dtype=float32)>"
      ]
     },
     "execution_count": 11,
     "metadata": {},
     "output_type": "execute_result"
    }
   ],
   "source": [
    "reshaped_tensor = tf.squeeze(x[:,1,0])\n",
    "reshaped_tensor = tf.cast(reshaped_tensor, dtype=tf.float32)\n",
    "reshaped_tensor\n"
   ]
  },
  {
   "cell_type": "code",
   "execution_count": 12,
   "metadata": {},
   "outputs": [
    {
     "data": {
      "text/plain": [
       "<tf.Tensor: shape=(3,), dtype=float32, numpy=array([0.00235563, 0.04731416, 0.95033026], dtype=float32)>"
      ]
     },
     "execution_count": 12,
     "metadata": {},
     "output_type": "execute_result"
    }
   ],
   "source": [
    "tf.nn.softmax(reshaped_tensor)"
   ]
  },
  {
   "cell_type": "code",
   "execution_count": 13,
   "metadata": {},
   "outputs": [
    {
     "data": {
      "text/plain": [
       "36"
      ]
     },
     "execution_count": 13,
     "metadata": {},
     "output_type": "execute_result"
    }
   ],
   "source": [
    "np.sum(np.arange(9))"
   ]
  },
  {
   "cell_type": "code",
   "execution_count": 14,
   "metadata": {},
   "outputs": [
    {
     "name": "stdout",
     "output_type": "stream",
     "text": [
      "TensorFlow **IS** using the GPU\n"
     ]
    }
   ],
   "source": [
    "if tf.config.list_physical_devices('GPU'):\n",
    "  print(\"TensorFlow **IS** using the GPU\")\n",
    "else:\n",
    "  print(\"TensorFlow **IS NOT** using the GPU\")"
   ]
  },
  {
   "cell_type": "code",
   "execution_count": 15,
   "metadata": {},
   "outputs": [
    {
     "data": {
      "text/plain": [
       "tensorflow.python.framework.ops.EagerTensor"
      ]
     },
     "execution_count": 15,
     "metadata": {},
     "output_type": "execute_result"
    }
   ],
   "source": [
    "type(x)\n"
   ]
  },
  {
   "cell_type": "code",
   "execution_count": 16,
   "metadata": {},
   "outputs": [],
   "source": [
    "v = tf.Variable([1,2,3,3,3,3])"
   ]
  },
  {
   "cell_type": "code",
   "execution_count": 17,
   "metadata": {},
   "outputs": [
    {
     "data": {
      "text/plain": [
       "<tf.Variable 'UnreadVariable' shape=(6,) dtype=int32, numpy=array([1, 2, 3, 4, 5, 6], dtype=int32)>"
      ]
     },
     "execution_count": 17,
     "metadata": {},
     "output_type": "execute_result"
    }
   ],
   "source": [
    "v.assign([1,2,3,4,5,6])"
   ]
  },
  {
   "cell_type": "code",
   "execution_count": 18,
   "metadata": {},
   "outputs": [
    {
     "data": {
      "text/plain": [
       "<tf.Variable 'Variable:0' shape=(6,) dtype=int32, numpy=array([1, 2, 3, 4, 5, 6], dtype=int32)>"
      ]
     },
     "execution_count": 18,
     "metadata": {},
     "output_type": "execute_result"
    }
   ],
   "source": [
    "v"
   ]
  },
  {
   "cell_type": "code",
   "execution_count": 19,
   "metadata": {},
   "outputs": [
    {
     "data": {
      "text/plain": [
       "<tf.Variable 'UnreadVariable' shape=(6,) dtype=int32, numpy=array([0, 1, 2, 3, 4, 5], dtype=int32)>"
      ]
     },
     "execution_count": 19,
     "metadata": {},
     "output_type": "execute_result"
    }
   ],
   "source": [
    "v.assign_sub([1,1,1,1,1,1])"
   ]
  },
  {
   "cell_type": "code",
   "execution_count": 20,
   "metadata": {},
   "outputs": [
    {
     "data": {
      "text/plain": [
       "<tf.Tensor: shape=(6,), dtype=int32, numpy=array([-1,  0,  1,  2,  3,  4], dtype=int32)>"
      ]
     },
     "execution_count": 20,
     "metadata": {},
     "output_type": "execute_result"
    }
   ],
   "source": [
    "v - 1"
   ]
  },
  {
   "cell_type": "code",
   "execution_count": 21,
   "metadata": {},
   "outputs": [
    {
     "data": {
      "text/plain": [
       "<tf.Variable 'Variable:0' shape=(6,) dtype=int32, numpy=array([0, 1, 2, 3, 4, 5], dtype=int32)>"
      ]
     },
     "execution_count": 21,
     "metadata": {},
     "output_type": "execute_result"
    }
   ],
   "source": [
    "v"
   ]
  },
  {
   "cell_type": "code",
   "execution_count": 22,
   "metadata": {},
   "outputs": [
    {
     "data": {
      "text/plain": [
       "<tf.Tensor: shape=(6,), dtype=int32, numpy=array([ 1,  5, 11, 19, 29, 41], dtype=int32)>"
      ]
     },
     "execution_count": 22,
     "metadata": {},
     "output_type": "execute_result"
    }
   ],
   "source": [
    "y = v + 1 + 2*v + v**2\n",
    "y"
   ]
  },
  {
   "cell_type": "code",
   "execution_count": 23,
   "metadata": {},
   "outputs": [
    {
     "name": "stderr",
     "output_type": "stream",
     "text": [
      "2024-03-04 23:35:34.110791: I external/local_tsl/tsl/platform/default/subprocess.cc:304] Start cannot spawn child process: No such file or directory\n"
     ]
    },
    {
     "name": "stdout",
     "output_type": "stream",
     "text": [
      "tf.Tensor([5.4 7.  9.  9.  9.  9. ], shape=(6,), dtype=float32)\n"
     ]
    }
   ],
   "source": [
    "v = tf.Variable([1.2,2,3,3,3,3])\n",
    "# v = tf.cast(v, dtype=tf.float32)\n",
    "with tf.GradientTape() as tape:\n",
    "    z = v + 1 + 2*v + v**2\n",
    "dz_dv = tape.gradient(z, v)\n",
    "print(dz_dv)"
   ]
  },
  {
   "cell_type": "code",
   "execution_count": 24,
   "metadata": {},
   "outputs": [
    {
     "data": {
      "text/plain": [
       "<tf.Tensor: shape=(), dtype=float32, numpy=4.0>"
      ]
     },
     "execution_count": 24,
     "metadata": {},
     "output_type": "execute_result"
    }
   ],
   "source": [
    "x = tf.Variable(1.0)\n",
    "\n",
    "def f(x):\n",
    "    y = x**2 + 2*x - 5\n",
    "    return y\n",
    "with tf.GradientTape() as tape:\n",
    "    y = f(x)\n",
    "\n",
    "g_x = tape.gradient(y, x)  # g(x) = dy/dx\n",
    "\n",
    "g_x"
   ]
  },
  {
   "cell_type": "code",
   "execution_count": 25,
   "metadata": {},
   "outputs": [],
   "source": [
    "@tf.function\n",
    "def my_func(x):\n",
    "    print('Tracing.\\n')\n",
    "    return tf.reduce_sum(x)"
   ]
  },
  {
   "cell_type": "code",
   "execution_count": 26,
   "metadata": {},
   "outputs": [
    {
     "name": "stdout",
     "output_type": "stream",
     "text": [
      "Tracing.\n",
      "\n"
     ]
    },
    {
     "data": {
      "text/plain": [
       "<tf.Tensor: shape=(), dtype=int32, numpy=6>"
      ]
     },
     "execution_count": 26,
     "metadata": {},
     "output_type": "execute_result"
    }
   ],
   "source": [
    "x = tf.constant([1, 2, 3])\n",
    "my_func(x)"
   ]
  },
  {
   "cell_type": "code",
   "execution_count": 27,
   "metadata": {},
   "outputs": [
    {
     "name": "stdout",
     "output_type": "stream",
     "text": [
      "Tracing.\n",
      "\n"
     ]
    },
    {
     "data": {
      "text/plain": [
       "<tf.Tensor: shape=(), dtype=float32, numpy=27.3>"
      ]
     },
     "execution_count": 27,
     "metadata": {},
     "output_type": "execute_result"
    }
   ],
   "source": [
    "x = tf.constant([10.0, 9.1, 8.2], dtype=tf.float32)\n",
    "my_func(x)"
   ]
  },
  {
   "cell_type": "code",
   "execution_count": 28,
   "metadata": {},
   "outputs": [],
   "source": [
    "import matplotlib\n",
    "from matplotlib import pyplot as plt\n",
    "\n",
    "matplotlib.rcParams['figure.figsize'] = [9, 6]"
   ]
  },
  {
   "cell_type": "code",
   "execution_count": 29,
   "metadata": {},
   "outputs": [
    {
     "data": {
      "text/plain": [
       "[9.0, 6.0]"
      ]
     },
     "execution_count": 29,
     "metadata": {},
     "output_type": "execute_result"
    }
   ],
   "source": [
    "matplotlib.rcParams['figure.figsize']"
   ]
  },
  {
   "cell_type": "code",
   "execution_count": 30,
   "metadata": {},
   "outputs": [
    {
     "data": {
      "text/plain": [
       "array([[ 0.,  5.],\n",
       "       [10., 40.]], dtype=float32)"
      ]
     },
     "execution_count": 30,
     "metadata": {},
     "output_type": "execute_result"
    }
   ],
   "source": [
    "tf.constant([[0., 5.], [10., 40.]]).numpy()"
   ]
  },
  {
   "cell_type": "code",
   "execution_count": 31,
   "metadata": {},
   "outputs": [
    {
     "data": {
      "text/plain": [
       "<tf.Tensor: shape=(2, 3), dtype=float32, numpy=\n",
       "array([[ 0. ,  5. , 10. ],\n",
       "       [ 5. , 22.5, 40. ]], dtype=float32)>"
      ]
     },
     "execution_count": 31,
     "metadata": {},
     "output_type": "execute_result"
    }
   ],
   "source": [
    "tf.linspace([0., 5.], [10., 40.], 3, axis=1)"
   ]
  },
  {
   "cell_type": "code",
   "execution_count": 32,
   "metadata": {},
   "outputs": [
    {
     "data": {
      "text/plain": [
       "array([-0.4731883 ,  0.9417041 ,  1.0625082 ,  0.08883014, -0.78774065,\n",
       "        0.31477836,  0.31095353,  0.16215901,  1.930585  , -0.96116126],\n",
       "      dtype=float32)"
      ]
     },
     "execution_count": 32,
     "metadata": {},
     "output_type": "execute_result"
    }
   ],
   "source": [
    "tf.transpose(tf.random.normal(shape=[10])).numpy()"
   ]
  },
  {
   "cell_type": "code",
   "execution_count": 33,
   "metadata": {},
   "outputs": [
    {
     "data": {
      "image/png": "[encoded data removed]",
      "text/plain": [
       "<Figure size 900x600 with 1 Axes>"
      ]
     },
     "metadata": {},
     "output_type": "display_data"
    }
   ],
   "source": [
    "x = tf.linspace(-2, 2, 201)\n",
    "x = tf.cast(x, tf.float32)\n",
    "\n",
    "def f(x):\n",
    "    y = x**2 + 2*x - 5\n",
    "    return y\n",
    "\n",
    "y = f(x) + tf.random.normal(shape=[201])\n",
    "\n",
    "plt.plot(x.numpy(), y.numpy(), '.', label='Data')\n",
    "plt.plot(x, f(x), label='Ground truth')\n",
    "plt.legend();"
   ]
  },
  {
   "cell_type": "code",
   "execution_count": 34,
   "metadata": {},
   "outputs": [
    {
     "data": {
      "text/plain": [
       "<tf.Tensor: shape=(3, 2, 4), dtype=float32, numpy=\n",
       "array([[[3.7171328 , 1.9361615 , 2.9492867 , 3.8791203 ],\n",
       "        [2.9696393 , 2.3572695 , 5.3195286 , 5.462451  ]],\n",
       "\n",
       "       [[7.5271044 , 6.134999  , 6.576023  , 0.26628375],\n",
       "        [8.135871  , 3.3013558 , 1.5512383 , 5.2545834 ]],\n",
       "\n",
       "       [[2.9756272 , 3.913505  , 4.871011  , 2.8026664 ],\n",
       "        [1.1719716 , 3.5831642 , 3.1767356 , 7.543192  ]]], dtype=float32)>"
      ]
     },
     "execution_count": 34,
     "metadata": {},
     "output_type": "execute_result"
    }
   ],
   "source": [
    "tf.random.uniform([3,2,4], 0, 10)"
   ]
  },
  {
   "cell_type": "code",
   "execution_count": 35,
   "metadata": {},
   "outputs": [],
   "source": [
    "class Model(tf.Module):\n",
    "    \n",
    "    def __init__(self):\n",
    "        random_init = tf.random.uniform([3], 0, 5, dtype=tf.float32, seed=69)\n",
    "        self.W_1 = tf.Variable(random_init[0], name='W_1')\n",
    "        self.W_2 = tf.Variable(random_init[1], name='W_2')\n",
    "        self.b = tf.Variable(random_init[2], name='b')\n",
    "        \n",
    "    def __call__(self, x):\n",
    "        return self.W_2 * x**2 + self.W_1 * x + self.b"
   ]
  },
  {
   "cell_type": "code",
   "execution_count": 36,
   "metadata": {},
   "outputs": [],
   "source": [
    "model = Model()"
   ]
  },
  {
   "cell_type": "code",
   "execution_count": 37,
   "metadata": {},
   "outputs": [],
   "source": [
    "def plot_preds(x, y, f, model, title):\n",
    "    plt.figure()\n",
    "    plt.plot(x, y, '.', label='Data')\n",
    "    plt.plot(x, f(x), label='Ground truth')\n",
    "    plt.plot(x, model(x), label='Predictions')\n",
    "    plt.title(title)\n",
    "    plt.legend()"
   ]
  },
  {
   "cell_type": "code",
   "execution_count": 38,
   "metadata": {},
   "outputs": [
    {
     "data": {
      "image/png": "[encoded data removed]",
      "text/plain": [
       "<Figure size 900x600 with 1 Axes>"
      ]
     },
     "metadata": {},
     "output_type": "display_data"
    }
   ],
   "source": [
    "plot_preds(x, y, f, model, 'Before training')"
   ]
  },
  {
   "cell_type": "code",
   "execution_count": 39,
   "metadata": {},
   "outputs": [],
   "source": [
    "def mse_loss(y_true, y_pred):\n",
    "    return tf.reduce_mean((y_true - y_pred)**2)"
   ]
  },
  {
   "cell_type": "code",
   "execution_count": 40,
   "metadata": {},
   "outputs": [
    {
     "data": {
      "text/plain": [
       "[(<tf.Tensor: shape=(), dtype=float32, numpy=-2.0>,\n",
       "  <tf.Tensor: shape=(), dtype=float32, numpy=-5.571368>),\n",
       " (<tf.Tensor: shape=(), dtype=float32, numpy=-1.98>,\n",
       "  <tf.Tensor: shape=(), dtype=float32, numpy=-5.31647>),\n",
       " (<tf.Tensor: shape=(), dtype=float32, numpy=-1.96>,\n",
       "  <tf.Tensor: shape=(), dtype=float32, numpy=-6.2093663>),\n",
       " (<tf.Tensor: shape=(), dtype=float32, numpy=-1.94>,\n",
       "  <tf.Tensor: shape=(), dtype=float32, numpy=-4.6562586>),\n",
       " (<tf.Tensor: shape=(), dtype=float32, numpy=-1.92>,\n",
       "  <tf.Tensor: shape=(), dtype=float32, numpy=-6.4621997>),\n",
       " (<tf.Tensor: shape=(), dtype=float32, numpy=-1.9>,\n",
       "  <tf.Tensor: shape=(), dtype=float32, numpy=-5.1452274>),\n",
       " (<tf.Tensor: shape=(), dtype=float32, numpy=-1.88>,\n",
       "  <tf.Tensor: shape=(), dtype=float32, numpy=-6.2956486>),\n",
       " (<tf.Tensor: shape=(), dtype=float32, numpy=-1.86>,\n",
       "  <tf.Tensor: shape=(), dtype=float32, numpy=-5.923109>),\n",
       " (<tf.Tensor: shape=(), dtype=float32, numpy=-1.84>,\n",
       "  <tf.Tensor: shape=(), dtype=float32, numpy=-4.879923>),\n",
       " (<tf.Tensor: shape=(), dtype=float32, numpy=-1.82>,\n",
       "  <tf.Tensor: shape=(), dtype=float32, numpy=-5.272043>),\n",
       " (<tf.Tensor: shape=(), dtype=float32, numpy=-1.8>,\n",
       "  <tf.Tensor: shape=(), dtype=float32, numpy=-3.9472775>),\n",
       " (<tf.Tensor: shape=(), dtype=float32, numpy=-1.78>,\n",
       "  <tf.Tensor: shape=(), dtype=float32, numpy=-5.287518>),\n",
       " (<tf.Tensor: shape=(), dtype=float32, numpy=-1.76>,\n",
       "  <tf.Tensor: shape=(), dtype=float32, numpy=-6.0264688>),\n",
       " (<tf.Tensor: shape=(), dtype=float32, numpy=-1.74>,\n",
       "  <tf.Tensor: shape=(), dtype=float32, numpy=-4.245956>),\n",
       " (<tf.Tensor: shape=(), dtype=float32, numpy=-1.72>,\n",
       "  <tf.Tensor: shape=(), dtype=float32, numpy=-7.3085003>),\n",
       " (<tf.Tensor: shape=(), dtype=float32, numpy=-1.7>,\n",
       "  <tf.Tensor: shape=(), dtype=float32, numpy=-5.0684857>),\n",
       " (<tf.Tensor: shape=(), dtype=float32, numpy=-1.68>,\n",
       "  <tf.Tensor: shape=(), dtype=float32, numpy=-5.88051>),\n",
       " (<tf.Tensor: shape=(), dtype=float32, numpy=-1.66>,\n",
       "  <tf.Tensor: shape=(), dtype=float32, numpy=-5.485826>),\n",
       " (<tf.Tensor: shape=(), dtype=float32, numpy=-1.64>,\n",
       "  <tf.Tensor: shape=(), dtype=float32, numpy=-4.052928>),\n",
       " (<tf.Tensor: shape=(), dtype=float32, numpy=-1.62>,\n",
       "  <tf.Tensor: shape=(), dtype=float32, numpy=-5.7119327>),\n",
       " (<tf.Tensor: shape=(), dtype=float32, numpy=-1.6>,\n",
       "  <tf.Tensor: shape=(), dtype=float32, numpy=-5.78749>),\n",
       " (<tf.Tensor: shape=(), dtype=float32, numpy=-1.58>,\n",
       "  <tf.Tensor: shape=(), dtype=float32, numpy=-4.9535947>),\n",
       " (<tf.Tensor: shape=(), dtype=float32, numpy=-1.56>,\n",
       "  <tf.Tensor: shape=(), dtype=float32, numpy=-5.9273334>),\n",
       " (<tf.Tensor: shape=(), dtype=float32, numpy=-1.54>,\n",
       "  <tf.Tensor: shape=(), dtype=float32, numpy=-7.1087456>),\n",
       " (<tf.Tensor: shape=(), dtype=float32, numpy=-1.52>,\n",
       "  <tf.Tensor: shape=(), dtype=float32, numpy=-6.1805186>),\n",
       " (<tf.Tensor: shape=(), dtype=float32, numpy=-1.5>,\n",
       "  <tf.Tensor: shape=(), dtype=float32, numpy=-4.8652964>),\n",
       " (<tf.Tensor: shape=(), dtype=float32, numpy=-1.48>,\n",
       "  <tf.Tensor: shape=(), dtype=float32, numpy=-4.5218387>),\n",
       " (<tf.Tensor: shape=(), dtype=float32, numpy=-1.46>,\n",
       "  <tf.Tensor: shape=(), dtype=float32, numpy=-5.9859376>),\n",
       " (<tf.Tensor: shape=(), dtype=float32, numpy=-1.44>,\n",
       "  <tf.Tensor: shape=(), dtype=float32, numpy=-6.7995415>),\n",
       " (<tf.Tensor: shape=(), dtype=float32, numpy=-1.42>,\n",
       "  <tf.Tensor: shape=(), dtype=float32, numpy=-5.3104105>),\n",
       " (<tf.Tensor: shape=(), dtype=float32, numpy=-1.4>,\n",
       "  <tf.Tensor: shape=(), dtype=float32, numpy=-6.129962>),\n",
       " (<tf.Tensor: shape=(), dtype=float32, numpy=-1.38>,\n",
       "  <tf.Tensor: shape=(), dtype=float32, numpy=-6.0920315>),\n",
       " (<tf.Tensor: shape=(), dtype=float32, numpy=-1.36>,\n",
       "  <tf.Tensor: shape=(), dtype=float32, numpy=-6.8302174>),\n",
       " (<tf.Tensor: shape=(), dtype=float32, numpy=-1.34>,\n",
       "  <tf.Tensor: shape=(), dtype=float32, numpy=-4.2078896>),\n",
       " (<tf.Tensor: shape=(), dtype=float32, numpy=-1.32>,\n",
       "  <tf.Tensor: shape=(), dtype=float32, numpy=-7.062655>),\n",
       " (<tf.Tensor: shape=(), dtype=float32, numpy=-1.3>,\n",
       "  <tf.Tensor: shape=(), dtype=float32, numpy=-5.823267>),\n",
       " (<tf.Tensor: shape=(), dtype=float32, numpy=-1.28>,\n",
       "  <tf.Tensor: shape=(), dtype=float32, numpy=-7.3202963>),\n",
       " (<tf.Tensor: shape=(), dtype=float32, numpy=-1.26>,\n",
       "  <tf.Tensor: shape=(), dtype=float32, numpy=-6.211276>),\n",
       " (<tf.Tensor: shape=(), dtype=float32, numpy=-1.24>,\n",
       "  <tf.Tensor: shape=(), dtype=float32, numpy=-5.8887506>),\n",
       " (<tf.Tensor: shape=(), dtype=float32, numpy=-1.22>,\n",
       "  <tf.Tensor: shape=(), dtype=float32, numpy=-7.2440834>),\n",
       " (<tf.Tensor: shape=(), dtype=float32, numpy=-1.2>,\n",
       "  <tf.Tensor: shape=(), dtype=float32, numpy=-6.5435905>),\n",
       " (<tf.Tensor: shape=(), dtype=float32, numpy=-1.18>,\n",
       "  <tf.Tensor: shape=(), dtype=float32, numpy=-5.0293226>),\n",
       " (<tf.Tensor: shape=(), dtype=float32, numpy=-1.16>,\n",
       "  <tf.Tensor: shape=(), dtype=float32, numpy=-6.9336433>),\n",
       " (<tf.Tensor: shape=(), dtype=float32, numpy=-1.14>,\n",
       "  <tf.Tensor: shape=(), dtype=float32, numpy=-6.1942077>),\n",
       " (<tf.Tensor: shape=(), dtype=float32, numpy=-1.12>,\n",
       "  <tf.Tensor: shape=(), dtype=float32, numpy=-5.814846>),\n",
       " (<tf.Tensor: shape=(), dtype=float32, numpy=-1.1>,\n",
       "  <tf.Tensor: shape=(), dtype=float32, numpy=-6.106104>),\n",
       " (<tf.Tensor: shape=(), dtype=float32, numpy=-1.08>,\n",
       "  <tf.Tensor: shape=(), dtype=float32, numpy=-4.703808>),\n",
       " (<tf.Tensor: shape=(), dtype=float32, numpy=-1.06>,\n",
       "  <tf.Tensor: shape=(), dtype=float32, numpy=-4.6278167>),\n",
       " (<tf.Tensor: shape=(), dtype=float32, numpy=-1.04>,\n",
       "  <tf.Tensor: shape=(), dtype=float32, numpy=-7.7748504>),\n",
       " (<tf.Tensor: shape=(), dtype=float32, numpy=-1.02>,\n",
       "  <tf.Tensor: shape=(), dtype=float32, numpy=-6.7281632>),\n",
       " (<tf.Tensor: shape=(), dtype=float32, numpy=-1.0>,\n",
       "  <tf.Tensor: shape=(), dtype=float32, numpy=-5.6699944>),\n",
       " (<tf.Tensor: shape=(), dtype=float32, numpy=-0.98>,\n",
       "  <tf.Tensor: shape=(), dtype=float32, numpy=-6.165876>),\n",
       " (<tf.Tensor: shape=(), dtype=float32, numpy=-0.96>,\n",
       "  <tf.Tensor: shape=(), dtype=float32, numpy=-7.2957697>),\n",
       " (<tf.Tensor: shape=(), dtype=float32, numpy=-0.94>,\n",
       "  <tf.Tensor: shape=(), dtype=float32, numpy=-6.423877>),\n",
       " (<tf.Tensor: shape=(), dtype=float32, numpy=-0.92>,\n",
       "  <tf.Tensor: shape=(), dtype=float32, numpy=-7.1905084>),\n",
       " (<tf.Tensor: shape=(), dtype=float32, numpy=-0.9>,\n",
       "  <tf.Tensor: shape=(), dtype=float32, numpy=-7.794548>),\n",
       " (<tf.Tensor: shape=(), dtype=float32, numpy=-0.88>,\n",
       "  <tf.Tensor: shape=(), dtype=float32, numpy=-6.857789>),\n",
       " (<tf.Tensor: shape=(), dtype=float32, numpy=-0.86>,\n",
       "  <tf.Tensor: shape=(), dtype=float32, numpy=-6.359096>),\n",
       " (<tf.Tensor: shape=(), dtype=float32, numpy=-0.84>,\n",
       "  <tf.Tensor: shape=(), dtype=float32, numpy=-6.1968236>),\n",
       " (<tf.Tensor: shape=(), dtype=float32, numpy=-0.82>,\n",
       "  <tf.Tensor: shape=(), dtype=float32, numpy=-8.40696>),\n",
       " (<tf.Tensor: shape=(), dtype=float32, numpy=-0.8>,\n",
       "  <tf.Tensor: shape=(), dtype=float32, numpy=-7.7508664>),\n",
       " (<tf.Tensor: shape=(), dtype=float32, numpy=-0.78>,\n",
       "  <tf.Tensor: shape=(), dtype=float32, numpy=-5.184226>),\n",
       " (<tf.Tensor: shape=(), dtype=float32, numpy=-0.76>,\n",
       "  <tf.Tensor: shape=(), dtype=float32, numpy=-6.1312146>),\n",
       " (<tf.Tensor: shape=(), dtype=float32, numpy=-0.74>,\n",
       "  <tf.Tensor: shape=(), dtype=float32, numpy=-5.625163>),\n",
       " (<tf.Tensor: shape=(), dtype=float32, numpy=-0.72>,\n",
       "  <tf.Tensor: shape=(), dtype=float32, numpy=-6.2486367>),\n",
       " (<tf.Tensor: shape=(), dtype=float32, numpy=-0.7>,\n",
       "  <tf.Tensor: shape=(), dtype=float32, numpy=-5.5402846>),\n",
       " (<tf.Tensor: shape=(), dtype=float32, numpy=-0.68>,\n",
       "  <tf.Tensor: shape=(), dtype=float32, numpy=-5.2166357>),\n",
       " (<tf.Tensor: shape=(), dtype=float32, numpy=-0.66>,\n",
       "  <tf.Tensor: shape=(), dtype=float32, numpy=-6.5809417>),\n",
       " (<tf.Tensor: shape=(), dtype=float32, numpy=-0.64>,\n",
       "  <tf.Tensor: shape=(), dtype=float32, numpy=-4.897485>),\n",
       " (<tf.Tensor: shape=(), dtype=float32, numpy=-0.62>,\n",
       "  <tf.Tensor: shape=(), dtype=float32, numpy=-5.5584354>),\n",
       " (<tf.Tensor: shape=(), dtype=float32, numpy=-0.6>,\n",
       "  <tf.Tensor: shape=(), dtype=float32, numpy=-6.6065097>),\n",
       " (<tf.Tensor: shape=(), dtype=float32, numpy=-0.58>,\n",
       "  <tf.Tensor: shape=(), dtype=float32, numpy=-6.2957344>),\n",
       " (<tf.Tensor: shape=(), dtype=float32, numpy=-0.56>,\n",
       "  <tf.Tensor: shape=(), dtype=float32, numpy=-5.5464125>),\n",
       " (<tf.Tensor: shape=(), dtype=float32, numpy=-0.54>,\n",
       "  <tf.Tensor: shape=(), dtype=float32, numpy=-8.130316>),\n",
       " (<tf.Tensor: shape=(), dtype=float32, numpy=-0.52>,\n",
       "  <tf.Tensor: shape=(), dtype=float32, numpy=-7.1976023>),\n",
       " (<tf.Tensor: shape=(), dtype=float32, numpy=-0.5>,\n",
       "  <tf.Tensor: shape=(), dtype=float32, numpy=-5.616311>),\n",
       " (<tf.Tensor: shape=(), dtype=float32, numpy=-0.48>,\n",
       "  <tf.Tensor: shape=(), dtype=float32, numpy=-3.0765707>),\n",
       " (<tf.Tensor: shape=(), dtype=float32, numpy=-0.46>,\n",
       "  <tf.Tensor: shape=(), dtype=float32, numpy=-4.833493>),\n",
       " (<tf.Tensor: shape=(), dtype=float32, numpy=-0.44>,\n",
       "  <tf.Tensor: shape=(), dtype=float32, numpy=-5.0311527>),\n",
       " (<tf.Tensor: shape=(), dtype=float32, numpy=-0.42>,\n",
       "  <tf.Tensor: shape=(), dtype=float32, numpy=-3.6642976>),\n",
       " (<tf.Tensor: shape=(), dtype=float32, numpy=-0.4>,\n",
       "  <tf.Tensor: shape=(), dtype=float32, numpy=-5.309155>),\n",
       " (<tf.Tensor: shape=(), dtype=float32, numpy=-0.38>,\n",
       "  <tf.Tensor: shape=(), dtype=float32, numpy=-6.153168>),\n",
       " (<tf.Tensor: shape=(), dtype=float32, numpy=-0.36>,\n",
       "  <tf.Tensor: shape=(), dtype=float32, numpy=-3.3005757>),\n",
       " (<tf.Tensor: shape=(), dtype=float32, numpy=-0.34>,\n",
       "  <tf.Tensor: shape=(), dtype=float32, numpy=-3.7047749>),\n",
       " (<tf.Tensor: shape=(), dtype=float32, numpy=-0.32>,\n",
       "  <tf.Tensor: shape=(), dtype=float32, numpy=-4.7029595>),\n",
       " (<tf.Tensor: shape=(), dtype=float32, numpy=-0.3>,\n",
       "  <tf.Tensor: shape=(), dtype=float32, numpy=-4.820498>),\n",
       " (<tf.Tensor: shape=(), dtype=float32, numpy=-0.28>,\n",
       "  <tf.Tensor: shape=(), dtype=float32, numpy=-5.205174>),\n",
       " (<tf.Tensor: shape=(), dtype=float32, numpy=-0.26>,\n",
       "  <tf.Tensor: shape=(), dtype=float32, numpy=-4.445326>),\n",
       " (<tf.Tensor: shape=(), dtype=float32, numpy=-0.24>,\n",
       "  <tf.Tensor: shape=(), dtype=float32, numpy=-5.804976>),\n",
       " (<tf.Tensor: shape=(), dtype=float32, numpy=-0.22>,\n",
       "  <tf.Tensor: shape=(), dtype=float32, numpy=-4.9100533>),\n",
       " (<tf.Tensor: shape=(), dtype=float32, numpy=-0.2>,\n",
       "  <tf.Tensor: shape=(), dtype=float32, numpy=-4.382418>),\n",
       " (<tf.Tensor: shape=(), dtype=float32, numpy=-0.18>,\n",
       "  <tf.Tensor: shape=(), dtype=float32, numpy=-5.03021>),\n",
       " (<tf.Tensor: shape=(), dtype=float32, numpy=-0.16>,\n",
       "  <tf.Tensor: shape=(), dtype=float32, numpy=-5.1089387>),\n",
       " (<tf.Tensor: shape=(), dtype=float32, numpy=-0.14>,\n",
       "  <tf.Tensor: shape=(), dtype=float32, numpy=-4.2395444>),\n",
       " (<tf.Tensor: shape=(), dtype=float32, numpy=-0.12>,\n",
       "  <tf.Tensor: shape=(), dtype=float32, numpy=-3.5564344>),\n",
       " (<tf.Tensor: shape=(), dtype=float32, numpy=-0.1>,\n",
       "  <tf.Tensor: shape=(), dtype=float32, numpy=-5.0427303>),\n",
       " (<tf.Tensor: shape=(), dtype=float32, numpy=-0.08>,\n",
       "  <tf.Tensor: shape=(), dtype=float32, numpy=-5.001613>),\n",
       " (<tf.Tensor: shape=(), dtype=float32, numpy=-0.06>,\n",
       "  <tf.Tensor: shape=(), dtype=float32, numpy=-4.560461>),\n",
       " (<tf.Tensor: shape=(), dtype=float32, numpy=-0.04>,\n",
       "  <tf.Tensor: shape=(), dtype=float32, numpy=-4.7487516>),\n",
       " (<tf.Tensor: shape=(), dtype=float32, numpy=-0.02>,\n",
       "  <tf.Tensor: shape=(), dtype=float32, numpy=-4.5322986>),\n",
       " (<tf.Tensor: shape=(), dtype=float32, numpy=0.0>,\n",
       "  <tf.Tensor: shape=(), dtype=float32, numpy=-4.979963>),\n",
       " (<tf.Tensor: shape=(), dtype=float32, numpy=0.02>,\n",
       "  <tf.Tensor: shape=(), dtype=float32, numpy=-3.4335537>),\n",
       " (<tf.Tensor: shape=(), dtype=float32, numpy=0.04>,\n",
       "  <tf.Tensor: shape=(), dtype=float32, numpy=-5.8983703>),\n",
       " (<tf.Tensor: shape=(), dtype=float32, numpy=0.06>,\n",
       "  <tf.Tensor: shape=(), dtype=float32, numpy=-4.484111>),\n",
       " (<tf.Tensor: shape=(), dtype=float32, numpy=0.08>,\n",
       "  <tf.Tensor: shape=(), dtype=float32, numpy=-2.659554>),\n",
       " (<tf.Tensor: shape=(), dtype=float32, numpy=0.1>,\n",
       "  <tf.Tensor: shape=(), dtype=float32, numpy=-4.888567>),\n",
       " (<tf.Tensor: shape=(), dtype=float32, numpy=0.12>,\n",
       "  <tf.Tensor: shape=(), dtype=float32, numpy=-3.926362>),\n",
       " (<tf.Tensor: shape=(), dtype=float32, numpy=0.14>,\n",
       "  <tf.Tensor: shape=(), dtype=float32, numpy=-2.862208>),\n",
       " (<tf.Tensor: shape=(), dtype=float32, numpy=0.16>,\n",
       "  <tf.Tensor: shape=(), dtype=float32, numpy=-4.9297>),\n",
       " (<tf.Tensor: shape=(), dtype=float32, numpy=0.18>,\n",
       "  <tf.Tensor: shape=(), dtype=float32, numpy=-5.3021674>),\n",
       " (<tf.Tensor: shape=(), dtype=float32, numpy=0.2>,\n",
       "  <tf.Tensor: shape=(), dtype=float32, numpy=-3.1339722>),\n",
       " (<tf.Tensor: shape=(), dtype=float32, numpy=0.22>,\n",
       "  <tf.Tensor: shape=(), dtype=float32, numpy=-4.969742>),\n",
       " (<tf.Tensor: shape=(), dtype=float32, numpy=0.24>,\n",
       "  <tf.Tensor: shape=(), dtype=float32, numpy=-3.8099167>),\n",
       " (<tf.Tensor: shape=(), dtype=float32, numpy=0.26>,\n",
       "  <tf.Tensor: shape=(), dtype=float32, numpy=-4.1906295>),\n",
       " (<tf.Tensor: shape=(), dtype=float32, numpy=0.28>,\n",
       "  <tf.Tensor: shape=(), dtype=float32, numpy=-3.7280056>),\n",
       " (<tf.Tensor: shape=(), dtype=float32, numpy=0.3>,\n",
       "  <tf.Tensor: shape=(), dtype=float32, numpy=-5.5673237>),\n",
       " (<tf.Tensor: shape=(), dtype=float32, numpy=0.32>,\n",
       "  <tf.Tensor: shape=(), dtype=float32, numpy=-4.458699>),\n",
       " (<tf.Tensor: shape=(), dtype=float32, numpy=0.34>,\n",
       "  <tf.Tensor: shape=(), dtype=float32, numpy=-5.8069115>),\n",
       " (<tf.Tensor: shape=(), dtype=float32, numpy=0.36>,\n",
       "  <tf.Tensor: shape=(), dtype=float32, numpy=-3.8005493>),\n",
       " (<tf.Tensor: shape=(), dtype=float32, numpy=0.38>,\n",
       "  <tf.Tensor: shape=(), dtype=float32, numpy=-3.9971824>),\n",
       " (<tf.Tensor: shape=(), dtype=float32, numpy=0.4>,\n",
       "  <tf.Tensor: shape=(), dtype=float32, numpy=-3.7453568>),\n",
       " (<tf.Tensor: shape=(), dtype=float32, numpy=0.42>,\n",
       "  <tf.Tensor: shape=(), dtype=float32, numpy=-6.271865>),\n",
       " (<tf.Tensor: shape=(), dtype=float32, numpy=0.44>,\n",
       "  <tf.Tensor: shape=(), dtype=float32, numpy=-2.5985527>),\n",
       " (<tf.Tensor: shape=(), dtype=float32, numpy=0.46>,\n",
       "  <tf.Tensor: shape=(), dtype=float32, numpy=-4.272193>),\n",
       " (<tf.Tensor: shape=(), dtype=float32, numpy=0.48>,\n",
       "  <tf.Tensor: shape=(), dtype=float32, numpy=-4.892533>),\n",
       " (<tf.Tensor: shape=(), dtype=float32, numpy=0.5>,\n",
       "  <tf.Tensor: shape=(), dtype=float32, numpy=-4.2715807>),\n",
       " (<tf.Tensor: shape=(), dtype=float32, numpy=0.52>,\n",
       "  <tf.Tensor: shape=(), dtype=float32, numpy=-4.6030307>),\n",
       " (<tf.Tensor: shape=(), dtype=float32, numpy=0.54>,\n",
       "  <tf.Tensor: shape=(), dtype=float32, numpy=-2.6474087>),\n",
       " (<tf.Tensor: shape=(), dtype=float32, numpy=0.56>,\n",
       "  <tf.Tensor: shape=(), dtype=float32, numpy=-3.0448618>),\n",
       " (<tf.Tensor: shape=(), dtype=float32, numpy=0.58>,\n",
       "  <tf.Tensor: shape=(), dtype=float32, numpy=-1.6233102>),\n",
       " (<tf.Tensor: shape=(), dtype=float32, numpy=0.6>,\n",
       "  <tf.Tensor: shape=(), dtype=float32, numpy=-5.7708416>),\n",
       " (<tf.Tensor: shape=(), dtype=float32, numpy=0.62>,\n",
       "  <tf.Tensor: shape=(), dtype=float32, numpy=-2.8936393>),\n",
       " (<tf.Tensor: shape=(), dtype=float32, numpy=0.64>,\n",
       "  <tf.Tensor: shape=(), dtype=float32, numpy=-2.933107>),\n",
       " (<tf.Tensor: shape=(), dtype=float32, numpy=0.66>,\n",
       "  <tf.Tensor: shape=(), dtype=float32, numpy=-4.0719023>),\n",
       " (<tf.Tensor: shape=(), dtype=float32, numpy=0.68>,\n",
       "  <tf.Tensor: shape=(), dtype=float32, numpy=-2.2678409>),\n",
       " (<tf.Tensor: shape=(), dtype=float32, numpy=0.7>,\n",
       "  <tf.Tensor: shape=(), dtype=float32, numpy=-1.9904374>),\n",
       " (<tf.Tensor: shape=(), dtype=float32, numpy=0.72>,\n",
       "  <tf.Tensor: shape=(), dtype=float32, numpy=-3.4821792>),\n",
       " (<tf.Tensor: shape=(), dtype=float32, numpy=0.74>,\n",
       "  <tf.Tensor: shape=(), dtype=float32, numpy=-4.171062>),\n",
       " (<tf.Tensor: shape=(), dtype=float32, numpy=0.76>,\n",
       "  <tf.Tensor: shape=(), dtype=float32, numpy=-2.5185368>),\n",
       " (<tf.Tensor: shape=(), dtype=float32, numpy=0.78>,\n",
       "  <tf.Tensor: shape=(), dtype=float32, numpy=-1.1514668>),\n",
       " (<tf.Tensor: shape=(), dtype=float32, numpy=0.8>,\n",
       "  <tf.Tensor: shape=(), dtype=float32, numpy=-3.2384467>),\n",
       " (<tf.Tensor: shape=(), dtype=float32, numpy=0.82>,\n",
       "  <tf.Tensor: shape=(), dtype=float32, numpy=-3.2751508>),\n",
       " (<tf.Tensor: shape=(), dtype=float32, numpy=0.84>,\n",
       "  <tf.Tensor: shape=(), dtype=float32, numpy=-3.8626556>),\n",
       " (<tf.Tensor: shape=(), dtype=float32, numpy=0.86>,\n",
       "  <tf.Tensor: shape=(), dtype=float32, numpy=-2.5846937>),\n",
       " (<tf.Tensor: shape=(), dtype=float32, numpy=0.88>,\n",
       "  <tf.Tensor: shape=(), dtype=float32, numpy=-2.1719093>),\n",
       " (<tf.Tensor: shape=(), dtype=float32, numpy=0.9>,\n",
       "  <tf.Tensor: shape=(), dtype=float32, numpy=0.012194157>),\n",
       " (<tf.Tensor: shape=(), dtype=float32, numpy=0.92>,\n",
       "  <tf.Tensor: shape=(), dtype=float32, numpy=-3.0247903>),\n",
       " (<tf.Tensor: shape=(), dtype=float32, numpy=0.94>,\n",
       "  <tf.Tensor: shape=(), dtype=float32, numpy=-3.1875863>),\n",
       " (<tf.Tensor: shape=(), dtype=float32, numpy=0.96>,\n",
       "  <tf.Tensor: shape=(), dtype=float32, numpy=-1.3716667>),\n",
       " (<tf.Tensor: shape=(), dtype=float32, numpy=0.98>,\n",
       "  <tf.Tensor: shape=(), dtype=float32, numpy=0.67763066>),\n",
       " (<tf.Tensor: shape=(), dtype=float32, numpy=1.0>,\n",
       "  <tf.Tensor: shape=(), dtype=float32, numpy=-1.2260966>),\n",
       " (<tf.Tensor: shape=(), dtype=float32, numpy=1.02>,\n",
       "  <tf.Tensor: shape=(), dtype=float32, numpy=-0.09621251>),\n",
       " (<tf.Tensor: shape=(), dtype=float32, numpy=1.04>,\n",
       "  <tf.Tensor: shape=(), dtype=float32, numpy=-2.2325718>),\n",
       " (<tf.Tensor: shape=(), dtype=float32, numpy=1.06>,\n",
       "  <tf.Tensor: shape=(), dtype=float32, numpy=-1.1099365>),\n",
       " (<tf.Tensor: shape=(), dtype=float32, numpy=1.08>,\n",
       "  <tf.Tensor: shape=(), dtype=float32, numpy=-2.3413043>),\n",
       " (<tf.Tensor: shape=(), dtype=float32, numpy=1.1>,\n",
       "  <tf.Tensor: shape=(), dtype=float32, numpy=-2.4529142>),\n",
       " (<tf.Tensor: shape=(), dtype=float32, numpy=1.12>,\n",
       "  <tf.Tensor: shape=(), dtype=float32, numpy=-1.8693131>),\n",
       " (<tf.Tensor: shape=(), dtype=float32, numpy=1.14>,\n",
       "  <tf.Tensor: shape=(), dtype=float32, numpy=-0.0227983>),\n",
       " (<tf.Tensor: shape=(), dtype=float32, numpy=1.16>,\n",
       "  <tf.Tensor: shape=(), dtype=float32, numpy=-1.5161207>),\n",
       " (<tf.Tensor: shape=(), dtype=float32, numpy=1.18>,\n",
       "  <tf.Tensor: shape=(), dtype=float32, numpy=-1.853735>),\n",
       " (<tf.Tensor: shape=(), dtype=float32, numpy=1.2>,\n",
       "  <tf.Tensor: shape=(), dtype=float32, numpy=-2.6965618>),\n",
       " (<tf.Tensor: shape=(), dtype=float32, numpy=1.22>,\n",
       "  <tf.Tensor: shape=(), dtype=float32, numpy=-1.5126776>),\n",
       " (<tf.Tensor: shape=(), dtype=float32, numpy=1.24>,\n",
       "  <tf.Tensor: shape=(), dtype=float32, numpy=-0.5447835>),\n",
       " (<tf.Tensor: shape=(), dtype=float32, numpy=1.26>,\n",
       "  <tf.Tensor: shape=(), dtype=float32, numpy=0.0027136803>),\n",
       " (<tf.Tensor: shape=(), dtype=float32, numpy=1.28>,\n",
       "  <tf.Tensor: shape=(), dtype=float32, numpy=-1.5385425>),\n",
       " (<tf.Tensor: shape=(), dtype=float32, numpy=1.3>,\n",
       "  <tf.Tensor: shape=(), dtype=float32, numpy=0.12754363>),\n",
       " (<tf.Tensor: shape=(), dtype=float32, numpy=1.32>,\n",
       "  <tf.Tensor: shape=(), dtype=float32, numpy=0.0032005906>),\n",
       " (<tf.Tensor: shape=(), dtype=float32, numpy=1.34>,\n",
       "  <tf.Tensor: shape=(), dtype=float32, numpy=-0.61126846>),\n",
       " (<tf.Tensor: shape=(), dtype=float32, numpy=1.36>,\n",
       "  <tf.Tensor: shape=(), dtype=float32, numpy=1.6853333>),\n",
       " (<tf.Tensor: shape=(), dtype=float32, numpy=1.38>,\n",
       "  <tf.Tensor: shape=(), dtype=float32, numpy=-0.17943531>),\n",
       " (<tf.Tensor: shape=(), dtype=float32, numpy=1.4>,\n",
       "  <tf.Tensor: shape=(), dtype=float32, numpy=-1.4293638>),\n",
       " (<tf.Tensor: shape=(), dtype=float32, numpy=1.42>,\n",
       "  <tf.Tensor: shape=(), dtype=float32, numpy=0.7948843>),\n",
       " (<tf.Tensor: shape=(), dtype=float32, numpy=1.44>,\n",
       "  <tf.Tensor: shape=(), dtype=float32, numpy=-1.4037052>),\n",
       " (<tf.Tensor: shape=(), dtype=float32, numpy=1.46>,\n",
       "  <tf.Tensor: shape=(), dtype=float32, numpy=-0.26917553>),\n",
       " (<tf.Tensor: shape=(), dtype=float32, numpy=1.48>,\n",
       "  <tf.Tensor: shape=(), dtype=float32, numpy=1.5893406>),\n",
       " (<tf.Tensor: shape=(), dtype=float32, numpy=1.5>,\n",
       "  <tf.Tensor: shape=(), dtype=float32, numpy=-0.27515167>),\n",
       " (<tf.Tensor: shape=(), dtype=float32, numpy=1.52>,\n",
       "  <tf.Tensor: shape=(), dtype=float32, numpy=1.1857784>),\n",
       " (<tf.Tensor: shape=(), dtype=float32, numpy=1.54>,\n",
       "  <tf.Tensor: shape=(), dtype=float32, numpy=1.8366466>),\n",
       " (<tf.Tensor: shape=(), dtype=float32, numpy=1.56>,\n",
       "  <tf.Tensor: shape=(), dtype=float32, numpy=0.0060204864>),\n",
       " (<tf.Tensor: shape=(), dtype=float32, numpy=1.58>,\n",
       "  <tf.Tensor: shape=(), dtype=float32, numpy=1.5080414>),\n",
       " (<tf.Tensor: shape=(), dtype=float32, numpy=1.6>,\n",
       "  <tf.Tensor: shape=(), dtype=float32, numpy=1.636238>),\n",
       " (<tf.Tensor: shape=(), dtype=float32, numpy=1.62>,\n",
       "  <tf.Tensor: shape=(), dtype=float32, numpy=-0.32743192>),\n",
       " (<tf.Tensor: shape=(), dtype=float32, numpy=1.64>,\n",
       "  <tf.Tensor: shape=(), dtype=float32, numpy=1.9275806>),\n",
       " (<tf.Tensor: shape=(), dtype=float32, numpy=1.66>,\n",
       "  <tf.Tensor: shape=(), dtype=float32, numpy=0.21093684>),\n",
       " (<tf.Tensor: shape=(), dtype=float32, numpy=1.68>,\n",
       "  <tf.Tensor: shape=(), dtype=float32, numpy=-0.0985055>),\n",
       " (<tf.Tensor: shape=(), dtype=float32, numpy=1.7>,\n",
       "  <tf.Tensor: shape=(), dtype=float32, numpy=0.19516397>),\n",
       " (<tf.Tensor: shape=(), dtype=float32, numpy=1.72>,\n",
       "  <tf.Tensor: shape=(), dtype=float32, numpy=2.840858>),\n",
       " (<tf.Tensor: shape=(), dtype=float32, numpy=1.74>,\n",
       "  <tf.Tensor: shape=(), dtype=float32, numpy=1.1674745>),\n",
       " (<tf.Tensor: shape=(), dtype=float32, numpy=1.76>,\n",
       "  <tf.Tensor: shape=(), dtype=float32, numpy=1.7861395>),\n",
       " (<tf.Tensor: shape=(), dtype=float32, numpy=1.78>,\n",
       "  <tf.Tensor: shape=(), dtype=float32, numpy=3.9820564>),\n",
       " (<tf.Tensor: shape=(), dtype=float32, numpy=1.8>,\n",
       "  <tf.Tensor: shape=(), dtype=float32, numpy=0.9151412>),\n",
       " (<tf.Tensor: shape=(), dtype=float32, numpy=1.82>,\n",
       "  <tf.Tensor: shape=(), dtype=float32, numpy=1.653635>),\n",
       " (<tf.Tensor: shape=(), dtype=float32, numpy=1.84>,\n",
       "  <tf.Tensor: shape=(), dtype=float32, numpy=2.3264823>),\n",
       " (<tf.Tensor: shape=(), dtype=float32, numpy=1.86>,\n",
       "  <tf.Tensor: shape=(), dtype=float32, numpy=0.92201734>),\n",
       " (<tf.Tensor: shape=(), dtype=float32, numpy=1.88>,\n",
       "  <tf.Tensor: shape=(), dtype=float32, numpy=2.0537236>),\n",
       " (<tf.Tensor: shape=(), dtype=float32, numpy=1.9>,\n",
       "  <tf.Tensor: shape=(), dtype=float32, numpy=2.3994372>),\n",
       " (<tf.Tensor: shape=(), dtype=float32, numpy=1.92>,\n",
       "  <tf.Tensor: shape=(), dtype=float32, numpy=2.3206975>),\n",
       " (<tf.Tensor: shape=(), dtype=float32, numpy=1.94>,\n",
       "  <tf.Tensor: shape=(), dtype=float32, numpy=1.7704681>),\n",
       " (<tf.Tensor: shape=(), dtype=float32, numpy=1.96>,\n",
       "  <tf.Tensor: shape=(), dtype=float32, numpy=2.345063>),\n",
       " (<tf.Tensor: shape=(), dtype=float32, numpy=1.98>,\n",
       "  <tf.Tensor: shape=(), dtype=float32, numpy=3.2350295>),\n",
       " (<tf.Tensor: shape=(), dtype=float32, numpy=2.0>,\n",
       "  <tf.Tensor: shape=(), dtype=float32, numpy=2.515862>)]"
      ]
     },
     "execution_count": 40,
     "metadata": {},
     "output_type": "execute_result"
    }
   ],
   "source": [
    "list(tf.data.Dataset.from_tensor_slices((x, y)))"
   ]
  },
  {
   "cell_type": "code",
   "execution_count": 41,
   "metadata": {},
   "outputs": [
    {
     "data": {
      "text/plain": [
       "<_BatchDataset element_spec=(TensorSpec(shape=(None,), dtype=tf.float32, name=None), TensorSpec(shape=(None,), dtype=tf.float32, name=None))>"
      ]
     },
     "execution_count": 41,
     "metadata": {},
     "output_type": "execute_result"
    }
   ],
   "source": [
    "batch_size = 32\n",
    "dataset = tf.data.Dataset.from_tensor_slices((x, y))\n",
    "dataset = dataset.shuffle(buffer_size=x.shape[0]).batch(batch_size)\n",
    "dataset"
   ]
  },
  {
   "cell_type": "code",
   "execution_count": 42,
   "metadata": {},
   "outputs": [
    {
     "data": {
      "text/plain": [
       "(<tf.Tensor: shape=(9,), dtype=float32, numpy=\n",
       " array([-1.4 ,  0.18, -1.24,  0.16,  0.82,  1.08, -0.72, -0.8 ,  0.72],\n",
       "       dtype=float32)>,\n",
       " <tf.Tensor: shape=(9,), dtype=float32, numpy=\n",
       " array([-6.129962 , -5.3021674, -5.8887506, -4.9297   , -3.2751508,\n",
       "        -2.3413043, -6.2486367, -7.7508664, -3.4821792], dtype=float32)>)"
      ]
     },
     "execution_count": 42,
     "metadata": {},
     "output_type": "execute_result"
    }
   ],
   "source": [
    "list(dataset)[-1]"
   ]
  },
  {
   "cell_type": "code",
   "execution_count": 43,
   "metadata": {},
   "outputs": [
    {
     "data": {
      "text/plain": [
       "(<tf.Variable 'W_1:0' shape=() dtype=float32, numpy=4.1439056>,\n",
       " <tf.Variable 'W_2:0' shape=() dtype=float32, numpy=3.9076905>,\n",
       " <tf.Variable 'b:0' shape=() dtype=float32, numpy=4.8737946>)"
      ]
     },
     "execution_count": 43,
     "metadata": {},
     "output_type": "execute_result"
    }
   ],
   "source": [
    "model.variables"
   ]
  },
  {
   "cell_type": "code",
   "execution_count": 44,
   "metadata": {},
   "outputs": [
    {
     "name": "stdout",
     "output_type": "stream",
     "text": [
      "(<tf.Tensor: shape=(), dtype=float32, numpy=6.597108>, <tf.Tensor: shape=(), dtype=float32, numpy=47.247208>, <tf.Tensor: shape=(), dtype=float32, numpy=27.904003>)\n",
      "\n",
      "(<tf.Tensor: shape=(), dtype=float32, numpy=13.393969>, <tf.Tensor: shape=(), dtype=float32, numpy=35.30021>, <tf.Tensor: shape=(), dtype=float32, numpy=25.882847>)\n",
      "\n",
      "(<tf.Tensor: shape=(), dtype=float32, numpy=3.221352>, <tf.Tensor: shape=(), dtype=float32, numpy=38.32599>, <tf.Tensor: shape=(), dtype=float32, numpy=23.766161>)\n",
      "\n",
      "(<tf.Tensor: shape=(), dtype=float32, numpy=8.493671>, <tf.Tensor: shape=(), dtype=float32, numpy=44.742657>, <tf.Tensor: shape=(), dtype=float32, numpy=24.206415>)\n",
      "\n",
      "(<tf.Tensor: shape=(), dtype=float32, numpy=-0.7999513>, <tf.Tensor: shape=(), dtype=float32, numpy=32.523502>, <tf.Tensor: shape=(), dtype=float32, numpy=20.314842>)\n",
      "\n",
      "(<tf.Tensor: shape=(), dtype=float32, numpy=-0.5367487>, <tf.Tensor: shape=(), dtype=float32, numpy=27.132751>, <tf.Tensor: shape=(), dtype=float32, numpy=18.79535>)\n",
      "\n",
      "(<tf.Tensor: shape=(), dtype=float32, numpy=10.423386>, <tf.Tensor: shape=(), dtype=float32, numpy=22.550114>, <tf.Tensor: shape=(), dtype=float32, numpy=18.597425>)\n",
      "\n",
      "Mean squared error for step 0: 82.887\n",
      "(<tf.Tensor: shape=(), dtype=float32, numpy=7.2475123>, <tf.Tensor: shape=(), dtype=float32, numpy=19.756771>, <tf.Tensor: shape=(), dtype=float32, numpy=17.691942>)\n",
      "\n",
      "(<tf.Tensor: shape=(), dtype=float32, numpy=5.7488976>, <tf.Tensor: shape=(), dtype=float32, numpy=30.152317>, <tf.Tensor: shape=(), dtype=float32, numpy=17.299007>)\n",
      "\n",
      "(<tf.Tensor: shape=(), dtype=float32, numpy=5.342613>, <tf.Tensor: shape=(), dtype=float32, numpy=16.848595>, <tf.Tensor: shape=(), dtype=float32, numpy=16.589153>)\n",
      "\n",
      "(<tf.Tensor: shape=(), dtype=float32, numpy=2.7932372>, <tf.Tensor: shape=(), dtype=float32, numpy=18.967926>, <tf.Tensor: shape=(), dtype=float32, numpy=13.96895>)\n",
      "\n",
      "(<tf.Tensor: shape=(), dtype=float32, numpy=5.629788>, <tf.Tensor: shape=(), dtype=float32, numpy=23.51621>, <tf.Tensor: shape=(), dtype=float32, numpy=14.2222>)\n",
      "\n",
      "(<tf.Tensor: shape=(), dtype=float32, numpy=-0.008479059>, <tf.Tensor: shape=(), dtype=float32, numpy=14.162704>, <tf.Tensor: shape=(), dtype=float32, numpy=12.034047>)\n",
      "\n",
      "(<tf.Tensor: shape=(), dtype=float32, numpy=1.3314075>, <tf.Tensor: shape=(), dtype=float32, numpy=10.907309>, <tf.Tensor: shape=(), dtype=float32, numpy=12.167611>)\n",
      "\n",
      "(<tf.Tensor: shape=(), dtype=float32, numpy=0.5376049>, <tf.Tensor: shape=(), dtype=float32, numpy=9.442275>, <tf.Tensor: shape=(), dtype=float32, numpy=11.790106>)\n",
      "\n",
      "(<tf.Tensor: shape=(), dtype=float32, numpy=8.216>, <tf.Tensor: shape=(), dtype=float32, numpy=16.516132>, <tf.Tensor: shape=(), dtype=float32, numpy=12.229275>)\n",
      "\n",
      "(<tf.Tensor: shape=(), dtype=float32, numpy=3.3057566>, <tf.Tensor: shape=(), dtype=float32, numpy=11.516258>, <tf.Tensor: shape=(), dtype=float32, numpy=10.845787>)\n",
      "\n",
      "(<tf.Tensor: shape=(), dtype=float32, numpy=-1.1219296>, <tf.Tensor: shape=(), dtype=float32, numpy=7.970152>, <tf.Tensor: shape=(), dtype=float32, numpy=9.478765>)\n",
      "\n",
      "(<tf.Tensor: shape=(), dtype=float32, numpy=4.848236>, <tf.Tensor: shape=(), dtype=float32, numpy=8.850812>, <tf.Tensor: shape=(), dtype=float32, numpy=8.559549>)\n",
      "\n",
      "(<tf.Tensor: shape=(), dtype=float32, numpy=4.5009894>, <tf.Tensor: shape=(), dtype=float32, numpy=11.606689>, <tf.Tensor: shape=(), dtype=float32, numpy=10.418425>)\n",
      "\n",
      "(<tf.Tensor: shape=(), dtype=float32, numpy=3.9700215>, <tf.Tensor: shape=(), dtype=float32, numpy=9.484241>, <tf.Tensor: shape=(), dtype=float32, numpy=9.425716>)\n",
      "\n",
      "(<tf.Tensor: shape=(), dtype=float32, numpy=2.5067945>, <tf.Tensor: shape=(), dtype=float32, numpy=6.9241753>, <tf.Tensor: shape=(), dtype=float32, numpy=8.383638>)\n",
      "\n",
      "(<tf.Tensor: shape=(), dtype=float32, numpy=4.604134>, <tf.Tensor: shape=(), dtype=float32, numpy=7.071309>, <tf.Tensor: shape=(), dtype=float32, numpy=8.222454>)\n",
      "\n",
      "(<tf.Tensor: shape=(), dtype=float32, numpy=3.2673836>, <tf.Tensor: shape=(), dtype=float32, numpy=3.255124>, <tf.Tensor: shape=(), dtype=float32, numpy=6.425937>)\n",
      "\n",
      "(<tf.Tensor: shape=(), dtype=float32, numpy=2.1657403>, <tf.Tensor: shape=(), dtype=float32, numpy=4.7896585>, <tf.Tensor: shape=(), dtype=float32, numpy=8.057877>)\n",
      "\n",
      "(<tf.Tensor: shape=(), dtype=float32, numpy=2.9014215>, <tf.Tensor: shape=(), dtype=float32, numpy=4.1661654>, <tf.Tensor: shape=(), dtype=float32, numpy=7.9542885>)\n",
      "\n",
      "(<tf.Tensor: shape=(), dtype=float32, numpy=1.9897748>, <tf.Tensor: shape=(), dtype=float32, numpy=6.540246>, <tf.Tensor: shape=(), dtype=float32, numpy=7.267914>)\n",
      "\n",
      "(<tf.Tensor: shape=(), dtype=float32, numpy=1.5712276>, <tf.Tensor: shape=(), dtype=float32, numpy=2.2889488>, <tf.Tensor: shape=(), dtype=float32, numpy=5.5915966>)\n",
      "\n",
      "(<tf.Tensor: shape=(), dtype=float32, numpy=2.4113503>, <tf.Tensor: shape=(), dtype=float32, numpy=4.113743>, <tf.Tensor: shape=(), dtype=float32, numpy=6.711319>)\n",
      "\n",
      "(<tf.Tensor: shape=(), dtype=float32, numpy=3.1878552>, <tf.Tensor: shape=(), dtype=float32, numpy=2.9830012>, <tf.Tensor: shape=(), dtype=float32, numpy=6.6692777>)\n",
      "\n",
      "(<tf.Tensor: shape=(), dtype=float32, numpy=2.2306428>, <tf.Tensor: shape=(), dtype=float32, numpy=0.80903804>, <tf.Tensor: shape=(), dtype=float32, numpy=5.461694>)\n",
      "\n",
      "(<tf.Tensor: shape=(), dtype=float32, numpy=2.5115075>, <tf.Tensor: shape=(), dtype=float32, numpy=2.9198527>, <tf.Tensor: shape=(), dtype=float32, numpy=5.8381634>)\n",
      "\n",
      "(<tf.Tensor: shape=(), dtype=float32, numpy=-0.32127726>, <tf.Tensor: shape=(), dtype=float32, numpy=2.66243>, <tf.Tensor: shape=(), dtype=float32, numpy=6.737466>)\n",
      "\n",
      "(<tf.Tensor: shape=(), dtype=float32, numpy=5.0737476>, <tf.Tensor: shape=(), dtype=float32, numpy=-0.943095>, <tf.Tensor: shape=(), dtype=float32, numpy=3.837604>)\n",
      "\n",
      "(<tf.Tensor: shape=(), dtype=float32, numpy=-0.06660259>, <tf.Tensor: shape=(), dtype=float32, numpy=4.5436316>, <tf.Tensor: shape=(), dtype=float32, numpy=7.027546>)\n",
      "\n",
      "(<tf.Tensor: shape=(), dtype=float32, numpy=0.39965218>, <tf.Tensor: shape=(), dtype=float32, numpy=1.9356918>, <tf.Tensor: shape=(), dtype=float32, numpy=4.9245243>)\n",
      "\n",
      "(<tf.Tensor: shape=(), dtype=float32, numpy=2.266693>, <tf.Tensor: shape=(), dtype=float32, numpy=2.6107736>, <tf.Tensor: shape=(), dtype=float32, numpy=4.4282036>)\n",
      "\n",
      "(<tf.Tensor: shape=(), dtype=float32, numpy=3.3467026>, <tf.Tensor: shape=(), dtype=float32, numpy=-2.237923>, <tf.Tensor: shape=(), dtype=float32, numpy=3.8909938>)\n",
      "\n",
      "(<tf.Tensor: shape=(), dtype=float32, numpy=3.3756964>, <tf.Tensor: shape=(), dtype=float32, numpy=2.3013175>, <tf.Tensor: shape=(), dtype=float32, numpy=6.6211753>)\n",
      "\n",
      "(<tf.Tensor: shape=(), dtype=float32, numpy=0.3990295>, <tf.Tensor: shape=(), dtype=float32, numpy=-0.83402205>, <tf.Tensor: shape=(), dtype=float32, numpy=4.2806306>)\n",
      "\n",
      "(<tf.Tensor: shape=(), dtype=float32, numpy=2.5963862>, <tf.Tensor: shape=(), dtype=float32, numpy=-0.4278794>, <tf.Tensor: shape=(), dtype=float32, numpy=4.672951>)\n",
      "\n",
      "(<tf.Tensor: shape=(), dtype=float32, numpy=2.1228383>, <tf.Tensor: shape=(), dtype=float32, numpy=-2.0863702>, <tf.Tensor: shape=(), dtype=float32, numpy=5.6043253>)\n",
      "\n",
      "(<tf.Tensor: shape=(), dtype=float32, numpy=0.5847307>, <tf.Tensor: shape=(), dtype=float32, numpy=2.6306512>, <tf.Tensor: shape=(), dtype=float32, numpy=6.046573>)\n",
      "\n",
      "(<tf.Tensor: shape=(), dtype=float32, numpy=-0.45717853>, <tf.Tensor: shape=(), dtype=float32, numpy=-0.20763004>, <tf.Tensor: shape=(), dtype=float32, numpy=4.577374>)\n",
      "\n",
      "(<tf.Tensor: shape=(), dtype=float32, numpy=2.4419405>, <tf.Tensor: shape=(), dtype=float32, numpy=-0.045710087>, <tf.Tensor: shape=(), dtype=float32, numpy=4.6899414>)\n",
      "\n",
      "(<tf.Tensor: shape=(), dtype=float32, numpy=2.9478538>, <tf.Tensor: shape=(), dtype=float32, numpy=-1.9191904>, <tf.Tensor: shape=(), dtype=float32, numpy=2.9723573>)\n",
      "\n",
      "(<tf.Tensor: shape=(), dtype=float32, numpy=1.0859976>, <tf.Tensor: shape=(), dtype=float32, numpy=-0.36371106>, <tf.Tensor: shape=(), dtype=float32, numpy=4.2084365>)\n",
      "\n",
      "(<tf.Tensor: shape=(), dtype=float32, numpy=2.8402286>, <tf.Tensor: shape=(), dtype=float32, numpy=-3.253193>, <tf.Tensor: shape=(), dtype=float32, numpy=3.0123022>)\n",
      "\n",
      "(<tf.Tensor: shape=(), dtype=float32, numpy=4.2703905>, <tf.Tensor: shape=(), dtype=float32, numpy=-0.49509066>, <tf.Tensor: shape=(), dtype=float32, numpy=2.124909>)\n",
      "\n",
      "(<tf.Tensor: shape=(), dtype=float32, numpy=3.708682>, <tf.Tensor: shape=(), dtype=float32, numpy=-2.064144>, <tf.Tensor: shape=(), dtype=float32, numpy=3.339632>)\n",
      "\n",
      "(<tf.Tensor: shape=(), dtype=float32, numpy=2.0518165>, <tf.Tensor: shape=(), dtype=float32, numpy=-1.6875644>, <tf.Tensor: shape=(), dtype=float32, numpy=3.210649>)\n",
      "\n",
      "(<tf.Tensor: shape=(), dtype=float32, numpy=0.91730607>, <tf.Tensor: shape=(), dtype=float32, numpy=-0.42122847>, <tf.Tensor: shape=(), dtype=float32, numpy=4.3703203>)\n",
      "\n",
      "(<tf.Tensor: shape=(), dtype=float32, numpy=0.78098893>, <tf.Tensor: shape=(), dtype=float32, numpy=1.1427017>, <tf.Tensor: shape=(), dtype=float32, numpy=3.788096>)\n",
      "\n",
      "(<tf.Tensor: shape=(), dtype=float32, numpy=-0.016906887>, <tf.Tensor: shape=(), dtype=float32, numpy=-0.7901141>, <tf.Tensor: shape=(), dtype=float32, numpy=4.716524>)\n",
      "\n",
      "(<tf.Tensor: shape=(), dtype=float32, numpy=0.39668456>, <tf.Tensor: shape=(), dtype=float32, numpy=-0.26671413>, <tf.Tensor: shape=(), dtype=float32, numpy=3.6896775>)\n",
      "\n",
      "(<tf.Tensor: shape=(), dtype=float32, numpy=0.30955654>, <tf.Tensor: shape=(), dtype=float32, numpy=-1.0298867>, <tf.Tensor: shape=(), dtype=float32, numpy=3.97631>)\n",
      "\n",
      "(<tf.Tensor: shape=(), dtype=float32, numpy=-0.1048117>, <tf.Tensor: shape=(), dtype=float32, numpy=0.41793436>, <tf.Tensor: shape=(), dtype=float32, numpy=3.4497027>)\n",
      "\n",
      "(<tf.Tensor: shape=(), dtype=float32, numpy=0.61806536>, <tf.Tensor: shape=(), dtype=float32, numpy=-2.9061472>, <tf.Tensor: shape=(), dtype=float32, numpy=2.829548>)\n",
      "\n",
      "(<tf.Tensor: shape=(), dtype=float32, numpy=2.9179063>, <tf.Tensor: shape=(), dtype=float32, numpy=-1.1000478>, <tf.Tensor: shape=(), dtype=float32, numpy=3.6761112>)\n",
      "\n",
      "(<tf.Tensor: shape=(), dtype=float32, numpy=1.2165712>, <tf.Tensor: shape=(), dtype=float32, numpy=-1.1280693>, <tf.Tensor: shape=(), dtype=float32, numpy=4.22972>)\n",
      "\n",
      "(<tf.Tensor: shape=(), dtype=float32, numpy=0.7376009>, <tf.Tensor: shape=(), dtype=float32, numpy=0.27130225>, <tf.Tensor: shape=(), dtype=float32, numpy=3.8193758>)\n",
      "\n",
      "(<tf.Tensor: shape=(), dtype=float32, numpy=0.4572546>, <tf.Tensor: shape=(), dtype=float32, numpy=-1.6634257>, <tf.Tensor: shape=(), dtype=float32, numpy=3.011245>)\n",
      "\n",
      "(<tf.Tensor: shape=(), dtype=float32, numpy=4.1562257>, <tf.Tensor: shape=(), dtype=float32, numpy=-2.1039252>, <tf.Tensor: shape=(), dtype=float32, numpy=2.7367668>)\n",
      "\n",
      "(<tf.Tensor: shape=(), dtype=float32, numpy=1.2833028>, <tf.Tensor: shape=(), dtype=float32, numpy=-0.8392385>, <tf.Tensor: shape=(), dtype=float32, numpy=4.3949604>)\n",
      "\n",
      "(<tf.Tensor: shape=(), dtype=float32, numpy=2.4169755>, <tf.Tensor: shape=(), dtype=float32, numpy=0.6007449>, <tf.Tensor: shape=(), dtype=float32, numpy=4.666994>)\n",
      "\n",
      "(<tf.Tensor: shape=(), dtype=float32, numpy=1.0256867>, <tf.Tensor: shape=(), dtype=float32, numpy=-3.226701>, <tf.Tensor: shape=(), dtype=float32, numpy=1.1760825>)\n",
      "\n",
      "(<tf.Tensor: shape=(), dtype=float32, numpy=0.681474>, <tf.Tensor: shape=(), dtype=float32, numpy=-1.8755355>, <tf.Tensor: shape=(), dtype=float32, numpy=3.7453496>)\n",
      "\n",
      "(<tf.Tensor: shape=(), dtype=float32, numpy=-0.106564656>, <tf.Tensor: shape=(), dtype=float32, numpy=-2.0544806>, <tf.Tensor: shape=(), dtype=float32, numpy=2.663338>)\n",
      "\n",
      "(<tf.Tensor: shape=(), dtype=float32, numpy=0.09512964>, <tf.Tensor: shape=(), dtype=float32, numpy=-0.36370778>, <tf.Tensor: shape=(), dtype=float32, numpy=2.6668665>)\n",
      "\n",
      "(<tf.Tensor: shape=(), dtype=float32, numpy=-0.6241594>, <tf.Tensor: shape=(), dtype=float32, numpy=1.6495982>, <tf.Tensor: shape=(), dtype=float32, numpy=3.3927104>)\n",
      "\n",
      "(<tf.Tensor: shape=(), dtype=float32, numpy=-0.07450259>, <tf.Tensor: shape=(), dtype=float32, numpy=-2.6082911>, <tf.Tensor: shape=(), dtype=float32, numpy=2.6416512>)\n",
      "\n",
      "(<tf.Tensor: shape=(), dtype=float32, numpy=0.45507276>, <tf.Tensor: shape=(), dtype=float32, numpy=-0.073518574>, <tf.Tensor: shape=(), dtype=float32, numpy=3.5490885>)\n",
      "\n",
      "(<tf.Tensor: shape=(), dtype=float32, numpy=1.9736538>, <tf.Tensor: shape=(), dtype=float32, numpy=-2.7222762>, <tf.Tensor: shape=(), dtype=float32, numpy=2.74149>)\n",
      "\n",
      "(<tf.Tensor: shape=(), dtype=float32, numpy=0.34997702>, <tf.Tensor: shape=(), dtype=float32, numpy=-1.3719443>, <tf.Tensor: shape=(), dtype=float32, numpy=2.3188384>)\n",
      "\n",
      "(<tf.Tensor: shape=(), dtype=float32, numpy=1.4394938>, <tf.Tensor: shape=(), dtype=float32, numpy=0.863546>, <tf.Tensor: shape=(), dtype=float32, numpy=4.326497>)\n",
      "\n",
      "(<tf.Tensor: shape=(), dtype=float32, numpy=0.7191276>, <tf.Tensor: shape=(), dtype=float32, numpy=-2.0568469>, <tf.Tensor: shape=(), dtype=float32, numpy=2.491231>)\n",
      "\n",
      "(<tf.Tensor: shape=(), dtype=float32, numpy=-0.686568>, <tf.Tensor: shape=(), dtype=float32, numpy=0.17377856>, <tf.Tensor: shape=(), dtype=float32, numpy=2.4989755>)\n",
      "\n",
      "Mean squared error for step 10: 7.720\n",
      "(<tf.Tensor: shape=(), dtype=float32, numpy=-0.89981365>, <tf.Tensor: shape=(), dtype=float32, numpy=0.27564853>, <tf.Tensor: shape=(), dtype=float32, numpy=3.6515>)\n",
      "\n",
      "(<tf.Tensor: shape=(), dtype=float32, numpy=1.4065685>, <tf.Tensor: shape=(), dtype=float32, numpy=-1.4693941>, <tf.Tensor: shape=(), dtype=float32, numpy=3.0949512>)\n",
      "\n",
      "(<tf.Tensor: shape=(), dtype=float32, numpy=-0.08839375>, <tf.Tensor: shape=(), dtype=float32, numpy=-1.9961164>, <tf.Tensor: shape=(), dtype=float32, numpy=2.0778718>)\n",
      "\n",
      "(<tf.Tensor: shape=(), dtype=float32, numpy=0.40578973>, <tf.Tensor: shape=(), dtype=float32, numpy=-1.5403957>, <tf.Tensor: shape=(), dtype=float32, numpy=2.9987178>)\n",
      "\n",
      "(<tf.Tensor: shape=(), dtype=float32, numpy=0.59285975>, <tf.Tensor: shape=(), dtype=float32, numpy=-1.3073238>, <tf.Tensor: shape=(), dtype=float32, numpy=2.636423>)\n",
      "\n",
      "(<tf.Tensor: shape=(), dtype=float32, numpy=2.1388218>, <tf.Tensor: shape=(), dtype=float32, numpy=-3.85426>, <tf.Tensor: shape=(), dtype=float32, numpy=1.3239652>)\n",
      "\n",
      "(<tf.Tensor: shape=(), dtype=float32, numpy=1.8634342>, <tf.Tensor: shape=(), dtype=float32, numpy=4.416613>, <tf.Tensor: shape=(), dtype=float32, numpy=5.4866138>)\n",
      "\n",
      "(<tf.Tensor: shape=(), dtype=float32, numpy=1.5580813>, <tf.Tensor: shape=(), dtype=float32, numpy=-1.9953573>, <tf.Tensor: shape=(), dtype=float32, numpy=2.9120378>)\n",
      "\n",
      "(<tf.Tensor: shape=(), dtype=float32, numpy=0.26133227>, <tf.Tensor: shape=(), dtype=float32, numpy=-0.9607195>, <tf.Tensor: shape=(), dtype=float32, numpy=2.2785754>)\n",
      "\n",
      "(<tf.Tensor: shape=(), dtype=float32, numpy=-1.6105087>, <tf.Tensor: shape=(), dtype=float32, numpy=-1.0388503>, <tf.Tensor: shape=(), dtype=float32, numpy=2.7408352>)\n",
      "\n",
      "(<tf.Tensor: shape=(), dtype=float32, numpy=1.0565997>, <tf.Tensor: shape=(), dtype=float32, numpy=0.049271807>, <tf.Tensor: shape=(), dtype=float32, numpy=3.2800465>)\n",
      "\n",
      "(<tf.Tensor: shape=(), dtype=float32, numpy=0.108053684>, <tf.Tensor: shape=(), dtype=float32, numpy=-1.8090112>, <tf.Tensor: shape=(), dtype=float32, numpy=2.3922617>)\n",
      "\n",
      "(<tf.Tensor: shape=(), dtype=float32, numpy=1.0315499>, <tf.Tensor: shape=(), dtype=float32, numpy=-2.8943996>, <tf.Tensor: shape=(), dtype=float32, numpy=1.5614374>)\n",
      "\n",
      "(<tf.Tensor: shape=(), dtype=float32, numpy=2.3991246>, <tf.Tensor: shape=(), dtype=float32, numpy=-3.6686287>, <tf.Tensor: shape=(), dtype=float32, numpy=2.093722>)\n",
      "\n",
      "(<tf.Tensor: shape=(), dtype=float32, numpy=0.16005263>, <tf.Tensor: shape=(), dtype=float32, numpy=0.17503682>, <tf.Tensor: shape=(), dtype=float32, numpy=3.038056>)\n",
      "\n",
      "(<tf.Tensor: shape=(), dtype=float32, numpy=0.9753921>, <tf.Tensor: shape=(), dtype=float32, numpy=-1.1966834>, <tf.Tensor: shape=(), dtype=float32, numpy=2.2724938>)\n",
      "\n",
      "(<tf.Tensor: shape=(), dtype=float32, numpy=0.28283867>, <tf.Tensor: shape=(), dtype=float32, numpy=-1.2917058>, <tf.Tensor: shape=(), dtype=float32, numpy=2.0430925>)\n",
      "\n",
      "(<tf.Tensor: shape=(), dtype=float32, numpy=0.25701627>, <tf.Tensor: shape=(), dtype=float32, numpy=-0.9528374>, <tf.Tensor: shape=(), dtype=float32, numpy=2.6072426>)\n",
      "\n",
      "(<tf.Tensor: shape=(), dtype=float32, numpy=0.8070671>, <tf.Tensor: shape=(), dtype=float32, numpy=-2.5503693>, <tf.Tensor: shape=(), dtype=float32, numpy=2.877832>)\n",
      "\n",
      "(<tf.Tensor: shape=(), dtype=float32, numpy=-0.6191501>, <tf.Tensor: shape=(), dtype=float32, numpy=-1.8286419>, <tf.Tensor: shape=(), dtype=float32, numpy=1.6643454>)\n",
      "\n",
      "(<tf.Tensor: shape=(), dtype=float32, numpy=1.5894411>, <tf.Tensor: shape=(), dtype=float32, numpy=-1.0691214>, <tf.Tensor: shape=(), dtype=float32, numpy=3.5768437>)\n",
      "\n",
      "(<tf.Tensor: shape=(), dtype=float32, numpy=0.3602727>, <tf.Tensor: shape=(), dtype=float32, numpy=-3.6045728>, <tf.Tensor: shape=(), dtype=float32, numpy=1.3571448>)\n",
      "\n",
      "(<tf.Tensor: shape=(), dtype=float32, numpy=0.79519045>, <tf.Tensor: shape=(), dtype=float32, numpy=1.4100809>, <tf.Tensor: shape=(), dtype=float32, numpy=3.3832164>)\n",
      "\n",
      "(<tf.Tensor: shape=(), dtype=float32, numpy=1.1118506>, <tf.Tensor: shape=(), dtype=float32, numpy=-2.779051>, <tf.Tensor: shape=(), dtype=float32, numpy=1.6559356>)\n",
      "\n",
      "(<tf.Tensor: shape=(), dtype=float32, numpy=-0.222719>, <tf.Tensor: shape=(), dtype=float32, numpy=-0.82178754>, <tf.Tensor: shape=(), dtype=float32, numpy=2.310148>)\n",
      "\n",
      "(<tf.Tensor: shape=(), dtype=float32, numpy=-0.8687875>, <tf.Tensor: shape=(), dtype=float32, numpy=0.38589233>, <tf.Tensor: shape=(), dtype=float32, numpy=3.6233282>)\n",
      "\n",
      "(<tf.Tensor: shape=(), dtype=float32, numpy=0.7655807>, <tf.Tensor: shape=(), dtype=float32, numpy=-1.3817425>, <tf.Tensor: shape=(), dtype=float32, numpy=2.2425869>)\n",
      "\n",
      "(<tf.Tensor: shape=(), dtype=float32, numpy=-0.73133993>, <tf.Tensor: shape=(), dtype=float32, numpy=-0.082479715>, <tf.Tensor: shape=(), dtype=float32, numpy=1.6783986>)\n",
      "\n",
      "(<tf.Tensor: shape=(), dtype=float32, numpy=0.23606357>, <tf.Tensor: shape=(), dtype=float32, numpy=0.3933167>, <tf.Tensor: shape=(), dtype=float32, numpy=3.3736932>)\n",
      "\n",
      "(<tf.Tensor: shape=(), dtype=float32, numpy=0.44796497>, <tf.Tensor: shape=(), dtype=float32, numpy=-1.1579138>, <tf.Tensor: shape=(), dtype=float32, numpy=1.749229>)\n",
      "\n",
      "(<tf.Tensor: shape=(), dtype=float32, numpy=-0.9245112>, <tf.Tensor: shape=(), dtype=float32, numpy=-1.104049>, <tf.Tensor: shape=(), dtype=float32, numpy=2.6573799>)\n",
      "\n",
      "(<tf.Tensor: shape=(), dtype=float32, numpy=0.9361395>, <tf.Tensor: shape=(), dtype=float32, numpy=-2.6253881>, <tf.Tensor: shape=(), dtype=float32, numpy=0.8682119>)\n",
      "\n",
      "(<tf.Tensor: shape=(), dtype=float32, numpy=0.8709984>, <tf.Tensor: shape=(), dtype=float32, numpy=-0.9892635>, <tf.Tensor: shape=(), dtype=float32, numpy=2.5335588>)\n",
      "\n",
      "(<tf.Tensor: shape=(), dtype=float32, numpy=0.1259417>, <tf.Tensor: shape=(), dtype=float32, numpy=-1.5273716>, <tf.Tensor: shape=(), dtype=float32, numpy=2.1097734>)\n",
      "\n",
      "(<tf.Tensor: shape=(), dtype=float32, numpy=0.011291213>, <tf.Tensor: shape=(), dtype=float32, numpy=-1.1692331>, <tf.Tensor: shape=(), dtype=float32, numpy=2.0916219>)\n",
      "\n",
      "(<tf.Tensor: shape=(), dtype=float32, numpy=-0.7821312>, <tf.Tensor: shape=(), dtype=float32, numpy=-1.0760305>, <tf.Tensor: shape=(), dtype=float32, numpy=1.8664503>)\n",
      "\n",
      "(<tf.Tensor: shape=(), dtype=float32, numpy=0.5675706>, <tf.Tensor: shape=(), dtype=float32, numpy=-1.1907815>, <tf.Tensor: shape=(), dtype=float32, numpy=2.0594258>)\n",
      "\n",
      "(<tf.Tensor: shape=(), dtype=float32, numpy=0.45654702>, <tf.Tensor: shape=(), dtype=float32, numpy=0.100844875>, <tf.Tensor: shape=(), dtype=float32, numpy=3.2480645>)\n",
      "\n",
      "(<tf.Tensor: shape=(), dtype=float32, numpy=0.85409915>, <tf.Tensor: shape=(), dtype=float32, numpy=-0.46898007>, <tf.Tensor: shape=(), dtype=float32, numpy=2.1804996>)\n",
      "\n",
      "(<tf.Tensor: shape=(), dtype=float32, numpy=-0.29936743>, <tf.Tensor: shape=(), dtype=float32, numpy=-1.6498325>, <tf.Tensor: shape=(), dtype=float32, numpy=2.3456125>)\n",
      "\n",
      "(<tf.Tensor: shape=(), dtype=float32, numpy=0.39618644>, <tf.Tensor: shape=(), dtype=float32, numpy=-1.9988908>, <tf.Tensor: shape=(), dtype=float32, numpy=0.88427734>)\n",
      "\n",
      "(<tf.Tensor: shape=(), dtype=float32, numpy=0.52057856>, <tf.Tensor: shape=(), dtype=float32, numpy=-0.7087834>, <tf.Tensor: shape=(), dtype=float32, numpy=2.878375>)\n",
      "\n",
      "(<tf.Tensor: shape=(), dtype=float32, numpy=-0.026690409>, <tf.Tensor: shape=(), dtype=float32, numpy=-1.0958782>, <tf.Tensor: shape=(), dtype=float32, numpy=1.1750733>)\n",
      "\n",
      "(<tf.Tensor: shape=(), dtype=float32, numpy=0.120002225>, <tf.Tensor: shape=(), dtype=float32, numpy=0.8487221>, <tf.Tensor: shape=(), dtype=float32, numpy=2.7987876>)\n",
      "\n",
      "(<tf.Tensor: shape=(), dtype=float32, numpy=0.6088508>, <tf.Tensor: shape=(), dtype=float32, numpy=-2.1575923>, <tf.Tensor: shape=(), dtype=float32, numpy=1.2167362>)\n",
      "\n",
      "(<tf.Tensor: shape=(), dtype=float32, numpy=0.34285814>, <tf.Tensor: shape=(), dtype=float32, numpy=-2.214099>, <tf.Tensor: shape=(), dtype=float32, numpy=1.6884359>)\n",
      "\n",
      "(<tf.Tensor: shape=(), dtype=float32, numpy=-0.06098613>, <tf.Tensor: shape=(), dtype=float32, numpy=-1.4546354>, <tf.Tensor: shape=(), dtype=float32, numpy=1.5003266>)\n",
      "\n",
      "(<tf.Tensor: shape=(), dtype=float32, numpy=0.3523783>, <tf.Tensor: shape=(), dtype=float32, numpy=-0.21932101>, <tf.Tensor: shape=(), dtype=float32, numpy=3.4001951>)\n",
      "\n",
      "(<tf.Tensor: shape=(), dtype=float32, numpy=-1.0784682>, <tf.Tensor: shape=(), dtype=float32, numpy=1.3827698>, <tf.Tensor: shape=(), dtype=float32, numpy=3.6938872>)\n",
      "\n",
      "(<tf.Tensor: shape=(), dtype=float32, numpy=-1.137588>, <tf.Tensor: shape=(), dtype=float32, numpy=-1.212004>, <tf.Tensor: shape=(), dtype=float32, numpy=1.4540076>)\n",
      "\n",
      "(<tf.Tensor: shape=(), dtype=float32, numpy=-0.33905205>, <tf.Tensor: shape=(), dtype=float32, numpy=0.38653496>, <tf.Tensor: shape=(), dtype=float32, numpy=2.200683>)\n",
      "\n",
      "(<tf.Tensor: shape=(), dtype=float32, numpy=0.3249597>, <tf.Tensor: shape=(), dtype=float32, numpy=-0.17154114>, <tf.Tensor: shape=(), dtype=float32, numpy=2.3498254>)\n",
      "\n",
      "(<tf.Tensor: shape=(), dtype=float32, numpy=0.064802915>, <tf.Tensor: shape=(), dtype=float32, numpy=-2.5758348>, <tf.Tensor: shape=(), dtype=float32, numpy=1.0380806>)\n",
      "\n",
      "(<tf.Tensor: shape=(), dtype=float32, numpy=0.09970613>, <tf.Tensor: shape=(), dtype=float32, numpy=-1.3097708>, <tf.Tensor: shape=(), dtype=float32, numpy=1.991441>)\n",
      "\n",
      "(<tf.Tensor: shape=(), dtype=float32, numpy=2.5187001>, <tf.Tensor: shape=(), dtype=float32, numpy=-1.9328363>, <tf.Tensor: shape=(), dtype=float32, numpy=1.6094122>)\n",
      "\n",
      "(<tf.Tensor: shape=(), dtype=float32, numpy=-1.2400995>, <tf.Tensor: shape=(), dtype=float32, numpy=0.35849673>, <tf.Tensor: shape=(), dtype=float32, numpy=3.5108948>)\n",
      "\n",
      "(<tf.Tensor: shape=(), dtype=float32, numpy=0.42004934>, <tf.Tensor: shape=(), dtype=float32, numpy=-0.68194044>, <tf.Tensor: shape=(), dtype=float32, numpy=2.3837972>)\n",
      "\n",
      "(<tf.Tensor: shape=(), dtype=float32, numpy=-0.06384738>, <tf.Tensor: shape=(), dtype=float32, numpy=0.8977287>, <tf.Tensor: shape=(), dtype=float32, numpy=2.0374994>)\n",
      "\n",
      "(<tf.Tensor: shape=(), dtype=float32, numpy=0.01905346>, <tf.Tensor: shape=(), dtype=float32, numpy=-1.5095149>, <tf.Tensor: shape=(), dtype=float32, numpy=1.0391605>)\n",
      "\n",
      "(<tf.Tensor: shape=(), dtype=float32, numpy=-1.0649066>, <tf.Tensor: shape=(), dtype=float32, numpy=0.054504752>, <tf.Tensor: shape=(), dtype=float32, numpy=2.812802>)\n",
      "\n",
      "(<tf.Tensor: shape=(), dtype=float32, numpy=0.8122468>, <tf.Tensor: shape=(), dtype=float32, numpy=-2.100211>, <tf.Tensor: shape=(), dtype=float32, numpy=1.1810356>)\n",
      "\n",
      "(<tf.Tensor: shape=(), dtype=float32, numpy=1.377672>, <tf.Tensor: shape=(), dtype=float32, numpy=-1.4075466>, <tf.Tensor: shape=(), dtype=float32, numpy=1.6746176>)\n",
      "\n",
      "(<tf.Tensor: shape=(), dtype=float32, numpy=-1.8236982>, <tf.Tensor: shape=(), dtype=float32, numpy=-7.601394>, <tf.Tensor: shape=(), dtype=float32, numpy=-1.3353202>)\n",
      "\n",
      "(<tf.Tensor: shape=(), dtype=float32, numpy=0.10184115>, <tf.Tensor: shape=(), dtype=float32, numpy=-0.20790966>, <tf.Tensor: shape=(), dtype=float32, numpy=2.025472>)\n",
      "\n",
      "(<tf.Tensor: shape=(), dtype=float32, numpy=0.25921595>, <tf.Tensor: shape=(), dtype=float32, numpy=-0.5513438>, <tf.Tensor: shape=(), dtype=float32, numpy=1.9754946>)\n",
      "\n",
      "(<tf.Tensor: shape=(), dtype=float32, numpy=0.8302036>, <tf.Tensor: shape=(), dtype=float32, numpy=-1.8000244>, <tf.Tensor: shape=(), dtype=float32, numpy=1.065356>)\n",
      "\n",
      "(<tf.Tensor: shape=(), dtype=float32, numpy=-0.7601236>, <tf.Tensor: shape=(), dtype=float32, numpy=-0.48234>, <tf.Tensor: shape=(), dtype=float32, numpy=2.4333649>)\n",
      "\n",
      "(<tf.Tensor: shape=(), dtype=float32, numpy=0.896677>, <tf.Tensor: shape=(), dtype=float32, numpy=0.76185155>, <tf.Tensor: shape=(), dtype=float32, numpy=2.4659023>)\n",
      "\n",
      "(<tf.Tensor: shape=(), dtype=float32, numpy=0.24396896>, <tf.Tensor: shape=(), dtype=float32, numpy=-0.1568996>, <tf.Tensor: shape=(), dtype=float32, numpy=1.3562768>)\n",
      "\n",
      "(<tf.Tensor: shape=(), dtype=float32, numpy=-2.1008239>, <tf.Tensor: shape=(), dtype=float32, numpy=-3.339823>, <tf.Tensor: shape=(), dtype=float32, numpy=1.2090198>)\n",
      "\n",
      "Mean squared error for step 20: 3.311\n",
      "(<tf.Tensor: shape=(), dtype=float32, numpy=0.24267235>, <tf.Tensor: shape=(), dtype=float32, numpy=-0.752362>, <tf.Tensor: shape=(), dtype=float32, numpy=1.6830689>)\n",
      "\n",
      "(<tf.Tensor: shape=(), dtype=float32, numpy=0.276402>, <tf.Tensor: shape=(), dtype=float32, numpy=-2.5093691>, <tf.Tensor: shape=(), dtype=float32, numpy=0.66907126>)\n",
      "\n",
      "(<tf.Tensor: shape=(), dtype=float32, numpy=-0.19389707>, <tf.Tensor: shape=(), dtype=float32, numpy=-0.3818515>, <tf.Tensor: shape=(), dtype=float32, numpy=1.8374202>)\n",
      "\n",
      "(<tf.Tensor: shape=(), dtype=float32, numpy=0.25695384>, <tf.Tensor: shape=(), dtype=float32, numpy=0.33189633>, <tf.Tensor: shape=(), dtype=float32, numpy=2.1229682>)\n",
      "\n",
      "(<tf.Tensor: shape=(), dtype=float32, numpy=-1.0228678>, <tf.Tensor: shape=(), dtype=float32, numpy=0.82093734>, <tf.Tensor: shape=(), dtype=float32, numpy=2.7218351>)\n",
      "\n",
      "(<tf.Tensor: shape=(), dtype=float32, numpy=1.4067094>, <tf.Tensor: shape=(), dtype=float32, numpy=0.5928365>, <tf.Tensor: shape=(), dtype=float32, numpy=2.393611>)\n",
      "\n",
      "(<tf.Tensor: shape=(), dtype=float32, numpy=0.68599415>, <tf.Tensor: shape=(), dtype=float32, numpy=-2.8430543>, <tf.Tensor: shape=(), dtype=float32, numpy=-0.5016242>)\n",
      "\n",
      "(<tf.Tensor: shape=(), dtype=float32, numpy=0.41333872>, <tf.Tensor: shape=(), dtype=float32, numpy=-2.0884404>, <tf.Tensor: shape=(), dtype=float32, numpy=1.3775039>)\n",
      "\n",
      "(<tf.Tensor: shape=(), dtype=float32, numpy=0.900698>, <tf.Tensor: shape=(), dtype=float32, numpy=-1.3833987>, <tf.Tensor: shape=(), dtype=float32, numpy=1.1421478>)\n",
      "\n",
      "(<tf.Tensor: shape=(), dtype=float32, numpy=0.17990148>, <tf.Tensor: shape=(), dtype=float32, numpy=-0.2010919>, <tf.Tensor: shape=(), dtype=float32, numpy=1.8074093>)\n",
      "\n",
      "(<tf.Tensor: shape=(), dtype=float32, numpy=-0.49006844>, <tf.Tensor: shape=(), dtype=float32, numpy=-0.15881717>, <tf.Tensor: shape=(), dtype=float32, numpy=1.9043336>)\n",
      "\n",
      "(<tf.Tensor: shape=(), dtype=float32, numpy=0.27703327>, <tf.Tensor: shape=(), dtype=float32, numpy=0.18638214>, <tf.Tensor: shape=(), dtype=float32, numpy=1.385176>)\n",
      "\n",
      "(<tf.Tensor: shape=(), dtype=float32, numpy=-0.42353377>, <tf.Tensor: shape=(), dtype=float32, numpy=0.5121694>, <tf.Tensor: shape=(), dtype=float32, numpy=2.1017027>)\n",
      "\n",
      "(<tf.Tensor: shape=(), dtype=float32, numpy=-0.23411086>, <tf.Tensor: shape=(), dtype=float32, numpy=2.9657006>, <tf.Tensor: shape=(), dtype=float32, numpy=4.007668>)\n",
      "\n",
      "(<tf.Tensor: shape=(), dtype=float32, numpy=-0.042114854>, <tf.Tensor: shape=(), dtype=float32, numpy=-1.0776905>, <tf.Tensor: shape=(), dtype=float32, numpy=1.1590343>)\n",
      "\n",
      "(<tf.Tensor: shape=(), dtype=float32, numpy=0.2516546>, <tf.Tensor: shape=(), dtype=float32, numpy=-1.3150076>, <tf.Tensor: shape=(), dtype=float32, numpy=0.42298475>)\n",
      "\n",
      "(<tf.Tensor: shape=(), dtype=float32, numpy=0.74334955>, <tf.Tensor: shape=(), dtype=float32, numpy=-0.58285177>, <tf.Tensor: shape=(), dtype=float32, numpy=1.9325795>)\n",
      "\n",
      "(<tf.Tensor: shape=(), dtype=float32, numpy=-0.35843456>, <tf.Tensor: shape=(), dtype=float32, numpy=0.48371923>, <tf.Tensor: shape=(), dtype=float32, numpy=2.0816576>)\n",
      "\n",
      "(<tf.Tensor: shape=(), dtype=float32, numpy=0.15633398>, <tf.Tensor: shape=(), dtype=float32, numpy=0.44836533>, <tf.Tensor: shape=(), dtype=float32, numpy=2.5375338>)\n",
      "\n",
      "(<tf.Tensor: shape=(), dtype=float32, numpy=-0.5302786>, <tf.Tensor: shape=(), dtype=float32, numpy=-1.6143701>, <tf.Tensor: shape=(), dtype=float32, numpy=1.0332156>)\n",
      "\n",
      "(<tf.Tensor: shape=(), dtype=float32, numpy=1.7030909>, <tf.Tensor: shape=(), dtype=float32, numpy=-4.320644>, <tf.Tensor: shape=(), dtype=float32, numpy=-0.4466847>)\n",
      "\n",
      "(<tf.Tensor: shape=(), dtype=float32, numpy=0.62840545>, <tf.Tensor: shape=(), dtype=float32, numpy=-1.9643825>, <tf.Tensor: shape=(), dtype=float32, numpy=1.0484672>)\n",
      "\n",
      "(<tf.Tensor: shape=(), dtype=float32, numpy=0.24771579>, <tf.Tensor: shape=(), dtype=float32, numpy=-1.7976346>, <tf.Tensor: shape=(), dtype=float32, numpy=0.5664213>)\n",
      "\n",
      "(<tf.Tensor: shape=(), dtype=float32, numpy=0.2399059>, <tf.Tensor: shape=(), dtype=float32, numpy=0.982889>, <tf.Tensor: shape=(), dtype=float32, numpy=2.4393892>)\n",
      "\n",
      "(<tf.Tensor: shape=(), dtype=float32, numpy=0.22254573>, <tf.Tensor: shape=(), dtype=float32, numpy=0.7938477>, <tf.Tensor: shape=(), dtype=float32, numpy=1.9997618>)\n",
      "\n",
      "(<tf.Tensor: shape=(), dtype=float32, numpy=-0.79933196>, <tf.Tensor: shape=(), dtype=float32, numpy=-0.19936757>, <tf.Tensor: shape=(), dtype=float32, numpy=1.6116399>)\n",
      "\n",
      "(<tf.Tensor: shape=(), dtype=float32, numpy=-0.1549097>, <tf.Tensor: shape=(), dtype=float32, numpy=-0.4578837>, <tf.Tensor: shape=(), dtype=float32, numpy=1.414586>)\n",
      "\n",
      "(<tf.Tensor: shape=(), dtype=float32, numpy=-0.067166224>, <tf.Tensor: shape=(), dtype=float32, numpy=-1.3667743>, <tf.Tensor: shape=(), dtype=float32, numpy=0.8810257>)\n",
      "\n",
      "(<tf.Tensor: shape=(), dtype=float32, numpy=0.28595918>, <tf.Tensor: shape=(), dtype=float32, numpy=-1.2479103>, <tf.Tensor: shape=(), dtype=float32, numpy=1.074058>)\n",
      "\n",
      "(<tf.Tensor: shape=(), dtype=float32, numpy=-0.6062838>, <tf.Tensor: shape=(), dtype=float32, numpy=-0.105504245>, <tf.Tensor: shape=(), dtype=float32, numpy=1.5754185>)\n",
      "\n",
      "(<tf.Tensor: shape=(), dtype=float32, numpy=0.7212665>, <tf.Tensor: shape=(), dtype=float32, numpy=0.219661>, <tf.Tensor: shape=(), dtype=float32, numpy=1.892567>)\n",
      "\n",
      "(<tf.Tensor: shape=(), dtype=float32, numpy=0.008820638>, <tf.Tensor: shape=(), dtype=float32, numpy=-0.48267937>, <tf.Tensor: shape=(), dtype=float32, numpy=1.2727883>)\n",
      "\n",
      "(<tf.Tensor: shape=(), dtype=float32, numpy=-0.6980876>, <tf.Tensor: shape=(), dtype=float32, numpy=-1.1258452>, <tf.Tensor: shape=(), dtype=float32, numpy=0.88354874>)\n",
      "\n",
      "(<tf.Tensor: shape=(), dtype=float32, numpy=0.44137955>, <tf.Tensor: shape=(), dtype=float32, numpy=-0.3813113>, <tf.Tensor: shape=(), dtype=float32, numpy=1.4380232>)\n",
      "\n",
      "(<tf.Tensor: shape=(), dtype=float32, numpy=0.8648425>, <tf.Tensor: shape=(), dtype=float32, numpy=-0.59044033>, <tf.Tensor: shape=(), dtype=float32, numpy=1.8115757>)\n",
      "\n",
      "(<tf.Tensor: shape=(), dtype=float32, numpy=-0.3269313>, <tf.Tensor: shape=(), dtype=float32, numpy=-1.435364>, <tf.Tensor: shape=(), dtype=float32, numpy=0.8880196>)\n",
      "\n",
      "(<tf.Tensor: shape=(), dtype=float32, numpy=0.3937257>, <tf.Tensor: shape=(), dtype=float32, numpy=0.09892501>, <tf.Tensor: shape=(), dtype=float32, numpy=1.9185225>)\n",
      "\n",
      "(<tf.Tensor: shape=(), dtype=float32, numpy=0.052545294>, <tf.Tensor: shape=(), dtype=float32, numpy=0.416475>, <tf.Tensor: shape=(), dtype=float32, numpy=1.4606786>)\n",
      "\n",
      "(<tf.Tensor: shape=(), dtype=float32, numpy=1.0012386>, <tf.Tensor: shape=(), dtype=float32, numpy=-2.3186514>, <tf.Tensor: shape=(), dtype=float32, numpy=0.9578022>)\n",
      "\n",
      "(<tf.Tensor: shape=(), dtype=float32, numpy=-0.70424473>, <tf.Tensor: shape=(), dtype=float32, numpy=-0.022776343>, <tf.Tensor: shape=(), dtype=float32, numpy=1.1944335>)\n",
      "\n",
      "(<tf.Tensor: shape=(), dtype=float32, numpy=-0.53014874>, <tf.Tensor: shape=(), dtype=float32, numpy=0.21828428>, <tf.Tensor: shape=(), dtype=float32, numpy=1.1697894>)\n",
      "\n",
      "(<tf.Tensor: shape=(), dtype=float32, numpy=1.2313766>, <tf.Tensor: shape=(), dtype=float32, numpy=-1.0438449>, <tf.Tensor: shape=(), dtype=float32, numpy=1.8059692>)\n",
      "\n",
      "(<tf.Tensor: shape=(), dtype=float32, numpy=0.19950965>, <tf.Tensor: shape=(), dtype=float32, numpy=-1.1100368>, <tf.Tensor: shape=(), dtype=float32, numpy=0.7871001>)\n",
      "\n",
      "(<tf.Tensor: shape=(), dtype=float32, numpy=-0.20493196>, <tf.Tensor: shape=(), dtype=float32, numpy=0.25672597>, <tf.Tensor: shape=(), dtype=float32, numpy=1.6867745>)\n",
      "\n",
      "(<tf.Tensor: shape=(), dtype=float32, numpy=0.27797088>, <tf.Tensor: shape=(), dtype=float32, numpy=-0.12734213>, <tf.Tensor: shape=(), dtype=float32, numpy=0.9933565>)\n",
      "\n",
      "(<tf.Tensor: shape=(), dtype=float32, numpy=-0.59936655>, <tf.Tensor: shape=(), dtype=float32, numpy=-1.2750157>, <tf.Tensor: shape=(), dtype=float32, numpy=1.1349204>)\n",
      "\n",
      "(<tf.Tensor: shape=(), dtype=float32, numpy=-0.47226778>, <tf.Tensor: shape=(), dtype=float32, numpy=0.31324053>, <tf.Tensor: shape=(), dtype=float32, numpy=2.1862292>)\n",
      "\n",
      "(<tf.Tensor: shape=(), dtype=float32, numpy=0.50364506>, <tf.Tensor: shape=(), dtype=float32, numpy=-0.77112514>, <tf.Tensor: shape=(), dtype=float32, numpy=0.87261456>)\n",
      "\n",
      "(<tf.Tensor: shape=(), dtype=float32, numpy=1.3983347>, <tf.Tensor: shape=(), dtype=float32, numpy=-2.3798552>, <tf.Tensor: shape=(), dtype=float32, numpy=-0.32527527>)\n",
      "\n",
      "(<tf.Tensor: shape=(), dtype=float32, numpy=-0.05471587>, <tf.Tensor: shape=(), dtype=float32, numpy=-1.0271374>, <tf.Tensor: shape=(), dtype=float32, numpy=1.0393257>)\n",
      "\n",
      "(<tf.Tensor: shape=(), dtype=float32, numpy=0.8823173>, <tf.Tensor: shape=(), dtype=float32, numpy=-0.14405292>, <tf.Tensor: shape=(), dtype=float32, numpy=1.4272176>)\n",
      "\n",
      "(<tf.Tensor: shape=(), dtype=float32, numpy=-0.22125074>, <tf.Tensor: shape=(), dtype=float32, numpy=-1.047611>, <tf.Tensor: shape=(), dtype=float32, numpy=1.0695206>)\n",
      "\n",
      "(<tf.Tensor: shape=(), dtype=float32, numpy=-0.48138046>, <tf.Tensor: shape=(), dtype=float32, numpy=0.48931575>, <tf.Tensor: shape=(), dtype=float32, numpy=1.3509208>)\n",
      "\n",
      "(<tf.Tensor: shape=(), dtype=float32, numpy=-0.4475061>, <tf.Tensor: shape=(), dtype=float32, numpy=-0.86469376>, <tf.Tensor: shape=(), dtype=float32, numpy=0.662081>)\n",
      "\n",
      "(<tf.Tensor: shape=(), dtype=float32, numpy=0.17504445>, <tf.Tensor: shape=(), dtype=float32, numpy=0.43119138>, <tf.Tensor: shape=(), dtype=float32, numpy=1.6858408>)\n",
      "\n",
      "(<tf.Tensor: shape=(), dtype=float32, numpy=-0.047917113>, <tf.Tensor: shape=(), dtype=float32, numpy=-0.9434796>, <tf.Tensor: shape=(), dtype=float32, numpy=1.1189249>)\n",
      "\n",
      "(<tf.Tensor: shape=(), dtype=float32, numpy=-0.18833618>, <tf.Tensor: shape=(), dtype=float32, numpy=-1.1087613>, <tf.Tensor: shape=(), dtype=float32, numpy=0.8504381>)\n",
      "\n",
      "(<tf.Tensor: shape=(), dtype=float32, numpy=0.118778616>, <tf.Tensor: shape=(), dtype=float32, numpy=-0.107895404>, <tf.Tensor: shape=(), dtype=float32, numpy=1.3932941>)\n",
      "\n",
      "(<tf.Tensor: shape=(), dtype=float32, numpy=0.2327539>, <tf.Tensor: shape=(), dtype=float32, numpy=-0.596514>, <tf.Tensor: shape=(), dtype=float32, numpy=1.3891177>)\n",
      "\n",
      "(<tf.Tensor: shape=(), dtype=float32, numpy=0.9198979>, <tf.Tensor: shape=(), dtype=float32, numpy=-0.85779333>, <tf.Tensor: shape=(), dtype=float32, numpy=0.75535524>)\n",
      "\n",
      "(<tf.Tensor: shape=(), dtype=float32, numpy=-0.66046673>, <tf.Tensor: shape=(), dtype=float32, numpy=0.22143081>, <tf.Tensor: shape=(), dtype=float32, numpy=1.3765413>)\n",
      "\n",
      "(<tf.Tensor: shape=(), dtype=float32, numpy=-0.3552758>, <tf.Tensor: shape=(), dtype=float32, numpy=-0.28421003>, <tf.Tensor: shape=(), dtype=float32, numpy=0.8473986>)\n",
      "\n",
      "(<tf.Tensor: shape=(), dtype=float32, numpy=-0.68497974>, <tf.Tensor: shape=(), dtype=float32, numpy=0.9899743>, <tf.Tensor: shape=(), dtype=float32, numpy=1.642141>)\n",
      "\n",
      "(<tf.Tensor: shape=(), dtype=float32, numpy=-0.135135>, <tf.Tensor: shape=(), dtype=float32, numpy=0.81597805>, <tf.Tensor: shape=(), dtype=float32, numpy=1.8385319>)\n",
      "\n",
      "(<tf.Tensor: shape=(), dtype=float32, numpy=-0.923658>, <tf.Tensor: shape=(), dtype=float32, numpy=-1.296133>, <tf.Tensor: shape=(), dtype=float32, numpy=0.83511215>)\n",
      "\n",
      "(<tf.Tensor: shape=(), dtype=float32, numpy=-0.051495075>, <tf.Tensor: shape=(), dtype=float32, numpy=-0.44118428>, <tf.Tensor: shape=(), dtype=float32, numpy=1.1541343>)\n",
      "\n",
      "(<tf.Tensor: shape=(), dtype=float32, numpy=-0.11640197>, <tf.Tensor: shape=(), dtype=float32, numpy=-0.0017011762>, <tf.Tensor: shape=(), dtype=float32, numpy=0.8414626>)\n",
      "\n",
      "(<tf.Tensor: shape=(), dtype=float32, numpy=-0.096183166>, <tf.Tensor: shape=(), dtype=float32, numpy=-0.97276175>, <tf.Tensor: shape=(), dtype=float32, numpy=0.7695744>)\n",
      "\n",
      "(<tf.Tensor: shape=(), dtype=float32, numpy=1.1070232>, <tf.Tensor: shape=(), dtype=float32, numpy=-0.9573311>, <tf.Tensor: shape=(), dtype=float32, numpy=0.6838672>)\n",
      "\n",
      "(<tf.Tensor: shape=(), dtype=float32, numpy=1.0640655>, <tf.Tensor: shape=(), dtype=float32, numpy=-2.4729514>, <tf.Tensor: shape=(), dtype=float32, numpy=0.10470611>)\n",
      "\n",
      "Mean squared error for step 30: 1.814\n",
      "(<tf.Tensor: shape=(), dtype=float32, numpy=-0.5752097>, <tf.Tensor: shape=(), dtype=float32, numpy=-0.17538363>, <tf.Tensor: shape=(), dtype=float32, numpy=1.1091758>)\n",
      "\n",
      "(<tf.Tensor: shape=(), dtype=float32, numpy=-0.22369686>, <tf.Tensor: shape=(), dtype=float32, numpy=0.27770102>, <tf.Tensor: shape=(), dtype=float32, numpy=1.2391251>)\n",
      "\n",
      "(<tf.Tensor: shape=(), dtype=float32, numpy=0.23752397>, <tf.Tensor: shape=(), dtype=float32, numpy=-0.073681146>, <tf.Tensor: shape=(), dtype=float32, numpy=1.389785>)\n",
      "\n",
      "(<tf.Tensor: shape=(), dtype=float32, numpy=0.7167051>, <tf.Tensor: shape=(), dtype=float32, numpy=-0.68715084>, <tf.Tensor: shape=(), dtype=float32, numpy=0.4473468>)\n",
      "\n",
      "(<tf.Tensor: shape=(), dtype=float32, numpy=-0.32654893>, <tf.Tensor: shape=(), dtype=float32, numpy=-0.6467602>, <tf.Tensor: shape=(), dtype=float32, numpy=0.7177472>)\n",
      "\n",
      "(<tf.Tensor: shape=(), dtype=float32, numpy=-0.02760727>, <tf.Tensor: shape=(), dtype=float32, numpy=-0.5880586>, <tf.Tensor: shape=(), dtype=float32, numpy=1.3595797>)\n",
      "\n",
      "(<tf.Tensor: shape=(), dtype=float32, numpy=0.4202384>, <tf.Tensor: shape=(), dtype=float32, numpy=-2.1712315>, <tf.Tensor: shape=(), dtype=float32, numpy=-0.007830348>)\n",
      "\n",
      "(<tf.Tensor: shape=(), dtype=float32, numpy=-0.38129416>, <tf.Tensor: shape=(), dtype=float32, numpy=0.48507714>, <tf.Tensor: shape=(), dtype=float32, numpy=1.0642056>)\n",
      "\n",
      "(<tf.Tensor: shape=(), dtype=float32, numpy=0.78098816>, <tf.Tensor: shape=(), dtype=float32, numpy=-1.8418624>, <tf.Tensor: shape=(), dtype=float32, numpy=0.49177483>)\n",
      "\n",
      "(<tf.Tensor: shape=(), dtype=float32, numpy=-0.4271819>, <tf.Tensor: shape=(), dtype=float32, numpy=-0.122467026>, <tf.Tensor: shape=(), dtype=float32, numpy=1.6370385>)\n",
      "\n",
      "(<tf.Tensor: shape=(), dtype=float32, numpy=0.7902223>, <tf.Tensor: shape=(), dtype=float32, numpy=0.4338706>, <tf.Tensor: shape=(), dtype=float32, numpy=1.5631421>)\n",
      "\n",
      "(<tf.Tensor: shape=(), dtype=float32, numpy=-0.7855592>, <tf.Tensor: shape=(), dtype=float32, numpy=-1.1804409>, <tf.Tensor: shape=(), dtype=float32, numpy=0.233306>)\n",
      "\n",
      "(<tf.Tensor: shape=(), dtype=float32, numpy=-0.059325308>, <tf.Tensor: shape=(), dtype=float32, numpy=0.40622592>, <tf.Tensor: shape=(), dtype=float32, numpy=0.81649506>)\n",
      "\n",
      "(<tf.Tensor: shape=(), dtype=float32, numpy=-0.34964353>, <tf.Tensor: shape=(), dtype=float32, numpy=0.56988406>, <tf.Tensor: shape=(), dtype=float32, numpy=1.6175562>)\n",
      "\n",
      "(<tf.Tensor: shape=(), dtype=float32, numpy=0.43464762>, <tf.Tensor: shape=(), dtype=float32, numpy=0.52099025>, <tf.Tensor: shape=(), dtype=float32, numpy=1.4593931>)\n",
      "\n",
      "(<tf.Tensor: shape=(), dtype=float32, numpy=-0.10546106>, <tf.Tensor: shape=(), dtype=float32, numpy=-1.5005349>, <tf.Tensor: shape=(), dtype=float32, numpy=0.7211814>)\n",
      "\n",
      "(<tf.Tensor: shape=(), dtype=float32, numpy=0.18912178>, <tf.Tensor: shape=(), dtype=float32, numpy=-0.93979263>, <tf.Tensor: shape=(), dtype=float32, numpy=0.41043547>)\n",
      "\n",
      "(<tf.Tensor: shape=(), dtype=float32, numpy=-0.12012863>, <tf.Tensor: shape=(), dtype=float32, numpy=-0.020410895>, <tf.Tensor: shape=(), dtype=float32, numpy=1.0567851>)\n",
      "\n",
      "(<tf.Tensor: shape=(), dtype=float32, numpy=-0.4368328>, <tf.Tensor: shape=(), dtype=float32, numpy=-0.093502074>, <tf.Tensor: shape=(), dtype=float32, numpy=1.1422914>)\n",
      "\n",
      "(<tf.Tensor: shape=(), dtype=float32, numpy=-0.13547623>, <tf.Tensor: shape=(), dtype=float32, numpy=-0.17568213>, <tf.Tensor: shape=(), dtype=float32, numpy=0.7282128>)\n",
      "\n",
      "(<tf.Tensor: shape=(), dtype=float32, numpy=0.14221486>, <tf.Tensor: shape=(), dtype=float32, numpy=-0.3365999>, <tf.Tensor: shape=(), dtype=float32, numpy=0.24037567>)\n",
      "\n",
      "(<tf.Tensor: shape=(), dtype=float32, numpy=-0.059062555>, <tf.Tensor: shape=(), dtype=float32, numpy=-0.6466219>, <tf.Tensor: shape=(), dtype=float32, numpy=0.48851168>)\n",
      "\n",
      "(<tf.Tensor: shape=(), dtype=float32, numpy=0.6858899>, <tf.Tensor: shape=(), dtype=float32, numpy=-0.39606902>, <tf.Tensor: shape=(), dtype=float32, numpy=1.0236338>)\n",
      "\n",
      "(<tf.Tensor: shape=(), dtype=float32, numpy=-0.5864784>, <tf.Tensor: shape=(), dtype=float32, numpy=0.06389936>, <tf.Tensor: shape=(), dtype=float32, numpy=1.3074279>)\n",
      "\n",
      "(<tf.Tensor: shape=(), dtype=float32, numpy=0.109885596>, <tf.Tensor: shape=(), dtype=float32, numpy=0.7295283>, <tf.Tensor: shape=(), dtype=float32, numpy=1.208245>)\n",
      "\n",
      "(<tf.Tensor: shape=(), dtype=float32, numpy=0.14826098>, <tf.Tensor: shape=(), dtype=float32, numpy=-1.88463>, <tf.Tensor: shape=(), dtype=float32, numpy=-0.11146423>)\n",
      "\n",
      "(<tf.Tensor: shape=(), dtype=float32, numpy=-0.33477306>, <tf.Tensor: shape=(), dtype=float32, numpy=0.1101719>, <tf.Tensor: shape=(), dtype=float32, numpy=1.2048767>)\n",
      "\n",
      "(<tf.Tensor: shape=(), dtype=float32, numpy=-0.25608182>, <tf.Tensor: shape=(), dtype=float32, numpy=-1.0267674>, <tf.Tensor: shape=(), dtype=float32, numpy=0.5709756>)\n",
      "\n",
      "(<tf.Tensor: shape=(), dtype=float32, numpy=0.39110106>, <tf.Tensor: shape=(), dtype=float32, numpy=-0.7903336>, <tf.Tensor: shape=(), dtype=float32, numpy=0.4301675>)\n",
      "\n",
      "(<tf.Tensor: shape=(), dtype=float32, numpy=-0.34528184>, <tf.Tensor: shape=(), dtype=float32, numpy=-0.6122911>, <tf.Tensor: shape=(), dtype=float32, numpy=1.2450757>)\n",
      "\n",
      "(<tf.Tensor: shape=(), dtype=float32, numpy=0.097591266>, <tf.Tensor: shape=(), dtype=float32, numpy=-0.2814151>, <tf.Tensor: shape=(), dtype=float32, numpy=0.9048139>)\n",
      "\n",
      "(<tf.Tensor: shape=(), dtype=float32, numpy=0.051551998>, <tf.Tensor: shape=(), dtype=float32, numpy=-0.023630321>, <tf.Tensor: shape=(), dtype=float32, numpy=0.76507604>)\n",
      "\n",
      "(<tf.Tensor: shape=(), dtype=float32, numpy=-0.41470596>, <tf.Tensor: shape=(), dtype=float32, numpy=-0.41770172>, <tf.Tensor: shape=(), dtype=float32, numpy=1.3248549>)\n",
      "\n",
      "(<tf.Tensor: shape=(), dtype=float32, numpy=0.2628759>, <tf.Tensor: shape=(), dtype=float32, numpy=-0.15722471>, <tf.Tensor: shape=(), dtype=float32, numpy=0.19873887>)\n",
      "\n",
      "(<tf.Tensor: shape=(), dtype=float32, numpy=-0.37956113>, <tf.Tensor: shape=(), dtype=float32, numpy=1.777721>, <tf.Tensor: shape=(), dtype=float32, numpy=1.1065867>)\n",
      "\n",
      "(<tf.Tensor: shape=(), dtype=float32, numpy=-0.3344174>, <tf.Tensor: shape=(), dtype=float32, numpy=-1.5405257>, <tf.Tensor: shape=(), dtype=float32, numpy=-0.11293435>)\n",
      "\n",
      "(<tf.Tensor: shape=(), dtype=float32, numpy=-0.17238426>, <tf.Tensor: shape=(), dtype=float32, numpy=-0.25125918>, <tf.Tensor: shape=(), dtype=float32, numpy=0.51738906>)\n",
      "\n",
      "(<tf.Tensor: shape=(), dtype=float32, numpy=0.14428718>, <tf.Tensor: shape=(), dtype=float32, numpy=0.05715555>, <tf.Tensor: shape=(), dtype=float32, numpy=1.0937086>)\n",
      "\n",
      "(<tf.Tensor: shape=(), dtype=float32, numpy=0.33870816>, <tf.Tensor: shape=(), dtype=float32, numpy=-0.84447813>, <tf.Tensor: shape=(), dtype=float32, numpy=0.36103967>)\n",
      "\n",
      "(<tf.Tensor: shape=(), dtype=float32, numpy=-0.50327146>, <tf.Tensor: shape=(), dtype=float32, numpy=-0.26538444>, <tf.Tensor: shape=(), dtype=float32, numpy=1.5404267>)\n",
      "\n",
      "(<tf.Tensor: shape=(), dtype=float32, numpy=0.3960417>, <tf.Tensor: shape=(), dtype=float32, numpy=0.5143507>, <tf.Tensor: shape=(), dtype=float32, numpy=1.2353835>)\n",
      "\n",
      "(<tf.Tensor: shape=(), dtype=float32, numpy=0.5682625>, <tf.Tensor: shape=(), dtype=float32, numpy=0.2916155>, <tf.Tensor: shape=(), dtype=float32, numpy=0.25444764>)\n",
      "\n",
      "(<tf.Tensor: shape=(), dtype=float32, numpy=0.6007597>, <tf.Tensor: shape=(), dtype=float32, numpy=0.027144417>, <tf.Tensor: shape=(), dtype=float32, numpy=0.9244995>)\n",
      "\n",
      "(<tf.Tensor: shape=(), dtype=float32, numpy=0.16520697>, <tf.Tensor: shape=(), dtype=float32, numpy=-0.43247157>, <tf.Tensor: shape=(), dtype=float32, numpy=0.7718032>)\n",
      "\n",
      "(<tf.Tensor: shape=(), dtype=float32, numpy=0.04973927>, <tf.Tensor: shape=(), dtype=float32, numpy=-0.0902262>, <tf.Tensor: shape=(), dtype=float32, numpy=0.66797864>)\n",
      "\n",
      "(<tf.Tensor: shape=(), dtype=float32, numpy=-0.41210407>, <tf.Tensor: shape=(), dtype=float32, numpy=-0.5316944>, <tf.Tensor: shape=(), dtype=float32, numpy=0.38546723>)\n",
      "\n",
      "(<tf.Tensor: shape=(), dtype=float32, numpy=-0.6781311>, <tf.Tensor: shape=(), dtype=float32, numpy=-1.289901>, <tf.Tensor: shape=(), dtype=float32, numpy=0.3106749>)\n",
      "\n",
      "(<tf.Tensor: shape=(), dtype=float32, numpy=0.23347604>, <tf.Tensor: shape=(), dtype=float32, numpy=-0.45558363>, <tf.Tensor: shape=(), dtype=float32, numpy=0.94370496>)\n",
      "\n",
      "(<tf.Tensor: shape=(), dtype=float32, numpy=-0.24407819>, <tf.Tensor: shape=(), dtype=float32, numpy=0.16127385>, <tf.Tensor: shape=(), dtype=float32, numpy=0.7110378>)\n",
      "\n",
      "(<tf.Tensor: shape=(), dtype=float32, numpy=-0.7055617>, <tf.Tensor: shape=(), dtype=float32, numpy=-0.8214175>, <tf.Tensor: shape=(), dtype=float32, numpy=0.29403841>)\n",
      "\n",
      "(<tf.Tensor: shape=(), dtype=float32, numpy=0.16767421>, <tf.Tensor: shape=(), dtype=float32, numpy=0.06327726>, <tf.Tensor: shape=(), dtype=float32, numpy=0.50856847>)\n",
      "\n",
      "(<tf.Tensor: shape=(), dtype=float32, numpy=0.30865553>, <tf.Tensor: shape=(), dtype=float32, numpy=-0.24430946>, <tf.Tensor: shape=(), dtype=float32, numpy=0.7885244>)\n",
      "\n",
      "(<tf.Tensor: shape=(), dtype=float32, numpy=-0.05474335>, <tf.Tensor: shape=(), dtype=float32, numpy=0.36106747>, <tf.Tensor: shape=(), dtype=float32, numpy=1.3580506>)\n",
      "\n",
      "(<tf.Tensor: shape=(), dtype=float32, numpy=0.27712196>, <tf.Tensor: shape=(), dtype=float32, numpy=-0.72987145>, <tf.Tensor: shape=(), dtype=float32, numpy=0.59900117>)\n",
      "\n",
      "(<tf.Tensor: shape=(), dtype=float32, numpy=-0.43188065>, <tf.Tensor: shape=(), dtype=float32, numpy=-0.18640193>, <tf.Tensor: shape=(), dtype=float32, numpy=0.63120973>)\n",
      "\n",
      "(<tf.Tensor: shape=(), dtype=float32, numpy=1.7097347>, <tf.Tensor: shape=(), dtype=float32, numpy=-2.978684>, <tf.Tensor: shape=(), dtype=float32, numpy=-0.32654983>)\n",
      "\n",
      "(<tf.Tensor: shape=(), dtype=float32, numpy=0.12573051>, <tf.Tensor: shape=(), dtype=float32, numpy=0.15696211>, <tf.Tensor: shape=(), dtype=float32, numpy=1.0422888>)\n",
      "\n",
      "(<tf.Tensor: shape=(), dtype=float32, numpy=-0.43395424>, <tf.Tensor: shape=(), dtype=float32, numpy=-0.34676856>, <tf.Tensor: shape=(), dtype=float32, numpy=0.5421772>)\n",
      "\n",
      "(<tf.Tensor: shape=(), dtype=float32, numpy=0.6383354>, <tf.Tensor: shape=(), dtype=float32, numpy=0.3040182>, <tf.Tensor: shape=(), dtype=float32, numpy=1.1724981>)\n",
      "\n",
      "(<tf.Tensor: shape=(), dtype=float32, numpy=0.2652565>, <tf.Tensor: shape=(), dtype=float32, numpy=-0.66501236>, <tf.Tensor: shape=(), dtype=float32, numpy=0.54163766>)\n",
      "\n",
      "(<tf.Tensor: shape=(), dtype=float32, numpy=-0.58931917>, <tf.Tensor: shape=(), dtype=float32, numpy=-0.28199494>, <tf.Tensor: shape=(), dtype=float32, numpy=0.42119825>)\n",
      "\n",
      "(<tf.Tensor: shape=(), dtype=float32, numpy=-0.4321642>, <tf.Tensor: shape=(), dtype=float32, numpy=-0.93078506>, <tf.Tensor: shape=(), dtype=float32, numpy=0.13562104>)\n",
      "\n",
      "(<tf.Tensor: shape=(), dtype=float32, numpy=0.6132902>, <tf.Tensor: shape=(), dtype=float32, numpy=0.9426542>, <tf.Tensor: shape=(), dtype=float32, numpy=1.3136356>)\n",
      "\n",
      "(<tf.Tensor: shape=(), dtype=float32, numpy=-0.5176404>, <tf.Tensor: shape=(), dtype=float32, numpy=-0.42100555>, <tf.Tensor: shape=(), dtype=float32, numpy=0.4649254>)\n",
      "\n",
      "(<tf.Tensor: shape=(), dtype=float32, numpy=0.56508553>, <tf.Tensor: shape=(), dtype=float32, numpy=-1.0938537>, <tf.Tensor: shape=(), dtype=float32, numpy=0.2729117>)\n",
      "\n",
      "(<tf.Tensor: shape=(), dtype=float32, numpy=-0.1960158>, <tf.Tensor: shape=(), dtype=float32, numpy=-0.12713112>, <tf.Tensor: shape=(), dtype=float32, numpy=1.4231849>)\n",
      "\n",
      "(<tf.Tensor: shape=(), dtype=float32, numpy=-0.43566957>, <tf.Tensor: shape=(), dtype=float32, numpy=-0.11726865>, <tf.Tensor: shape=(), dtype=float32, numpy=0.33564496>)\n",
      "\n",
      "(<tf.Tensor: shape=(), dtype=float32, numpy=0.3592649>, <tf.Tensor: shape=(), dtype=float32, numpy=-0.0060570836>, <tf.Tensor: shape=(), dtype=float32, numpy=0.6611433>)\n",
      "\n",
      "(<tf.Tensor: shape=(), dtype=float32, numpy=-0.2223364>, <tf.Tensor: shape=(), dtype=float32, numpy=-0.01713973>, <tf.Tensor: shape=(), dtype=float32, numpy=0.5683725>)\n",
      "\n",
      "(<tf.Tensor: shape=(), dtype=float32, numpy=0.7767451>, <tf.Tensor: shape=(), dtype=float32, numpy=0.8305648>, <tf.Tensor: shape=(), dtype=float32, numpy=0.75813514>)\n",
      "\n",
      "Mean squared error for step 40: 1.303\n",
      "(<tf.Tensor: shape=(), dtype=float32, numpy=-0.024711184>, <tf.Tensor: shape=(), dtype=float32, numpy=-0.25272352>, <tf.Tensor: shape=(), dtype=float32, numpy=0.4866579>)\n",
      "\n",
      "(<tf.Tensor: shape=(), dtype=float32, numpy=0.25213027>, <tf.Tensor: shape=(), dtype=float32, numpy=0.13555622>, <tf.Tensor: shape=(), dtype=float32, numpy=0.94852555>)\n",
      "\n",
      "(<tf.Tensor: shape=(), dtype=float32, numpy=0.040898174>, <tf.Tensor: shape=(), dtype=float32, numpy=-0.85408545>, <tf.Tensor: shape=(), dtype=float32, numpy=-0.060976684>)\n",
      "\n",
      "(<tf.Tensor: shape=(), dtype=float32, numpy=0.11255743>, <tf.Tensor: shape=(), dtype=float32, numpy=0.6951679>, <tf.Tensor: shape=(), dtype=float32, numpy=1.3295503>)\n",
      "\n",
      "(<tf.Tensor: shape=(), dtype=float32, numpy=0.045957565>, <tf.Tensor: shape=(), dtype=float32, numpy=-0.83199686>, <tf.Tensor: shape=(), dtype=float32, numpy=0.44952837>)\n",
      "\n",
      "(<tf.Tensor: shape=(), dtype=float32, numpy=-0.3378392>, <tf.Tensor: shape=(), dtype=float32, numpy=-0.5877111>, <tf.Tensor: shape=(), dtype=float32, numpy=0.5383679>)\n",
      "\n",
      "(<tf.Tensor: shape=(), dtype=float32, numpy=-1.573439>, <tf.Tensor: shape=(), dtype=float32, numpy=-1.9351836>, <tf.Tensor: shape=(), dtype=float32, numpy=-1.0453045>)\n",
      "\n",
      "(<tf.Tensor: shape=(), dtype=float32, numpy=-0.073202305>, <tf.Tensor: shape=(), dtype=float32, numpy=0.34682083>, <tf.Tensor: shape=(), dtype=float32, numpy=0.6602627>)\n",
      "\n",
      "(<tf.Tensor: shape=(), dtype=float32, numpy=1.0924069>, <tf.Tensor: shape=(), dtype=float32, numpy=-1.8403323>, <tf.Tensor: shape=(), dtype=float32, numpy=0.24621585>)\n",
      "\n",
      "(<tf.Tensor: shape=(), dtype=float32, numpy=-0.17194998>, <tf.Tensor: shape=(), dtype=float32, numpy=-0.10134873>, <tf.Tensor: shape=(), dtype=float32, numpy=0.80678785>)\n",
      "\n",
      "(<tf.Tensor: shape=(), dtype=float32, numpy=0.4735484>, <tf.Tensor: shape=(), dtype=float32, numpy=0.14313987>, <tf.Tensor: shape=(), dtype=float32, numpy=0.4493227>)\n",
      "\n",
      "(<tf.Tensor: shape=(), dtype=float32, numpy=-0.42634463>, <tf.Tensor: shape=(), dtype=float32, numpy=-0.31547695>, <tf.Tensor: shape=(), dtype=float32, numpy=0.5314095>)\n",
      "\n",
      "(<tf.Tensor: shape=(), dtype=float32, numpy=-0.7253802>, <tf.Tensor: shape=(), dtype=float32, numpy=0.8983831>, <tf.Tensor: shape=(), dtype=float32, numpy=0.850201>)\n",
      "\n",
      "(<tf.Tensor: shape=(), dtype=float32, numpy=-1.1987935>, <tf.Tensor: shape=(), dtype=float32, numpy=-0.40343913>, <tf.Tensor: shape=(), dtype=float32, numpy=0.88750994>)\n",
      "\n",
      "(<tf.Tensor: shape=(), dtype=float32, numpy=0.25043368>, <tf.Tensor: shape=(), dtype=float32, numpy=-0.42077833>, <tf.Tensor: shape=(), dtype=float32, numpy=0.7279711>)\n",
      "\n",
      "(<tf.Tensor: shape=(), dtype=float32, numpy=-0.32546985>, <tf.Tensor: shape=(), dtype=float32, numpy=0.5213252>, <tf.Tensor: shape=(), dtype=float32, numpy=1.1185981>)\n",
      "\n",
      "(<tf.Tensor: shape=(), dtype=float32, numpy=0.21772885>, <tf.Tensor: shape=(), dtype=float32, numpy=-1.0956683>, <tf.Tensor: shape=(), dtype=float32, numpy=0.2854289>)\n",
      "\n",
      "(<tf.Tensor: shape=(), dtype=float32, numpy=0.18402182>, <tf.Tensor: shape=(), dtype=float32, numpy=-0.4099754>, <tf.Tensor: shape=(), dtype=float32, numpy=0.1547624>)\n",
      "\n",
      "(<tf.Tensor: shape=(), dtype=float32, numpy=-0.27031684>, <tf.Tensor: shape=(), dtype=float32, numpy=-0.5148279>, <tf.Tensor: shape=(), dtype=float32, numpy=0.33515912>)\n",
      "\n",
      "(<tf.Tensor: shape=(), dtype=float32, numpy=-0.11749089>, <tf.Tensor: shape=(), dtype=float32, numpy=0.33694935>, <tf.Tensor: shape=(), dtype=float32, numpy=0.5502055>)\n",
      "\n",
      "(<tf.Tensor: shape=(), dtype=float32, numpy=0.52103627>, <tf.Tensor: shape=(), dtype=float32, numpy=0.83482325>, <tf.Tensor: shape=(), dtype=float32, numpy=0.73302746>)\n",
      "\n",
      "(<tf.Tensor: shape=(), dtype=float32, numpy=0.31942523>, <tf.Tensor: shape=(), dtype=float32, numpy=0.5001883>, <tf.Tensor: shape=(), dtype=float32, numpy=0.63037753>)\n",
      "\n",
      "(<tf.Tensor: shape=(), dtype=float32, numpy=-0.45164472>, <tf.Tensor: shape=(), dtype=float32, numpy=-1.5581542>, <tf.Tensor: shape=(), dtype=float32, numpy=-0.19131625>)\n",
      "\n",
      "(<tf.Tensor: shape=(), dtype=float32, numpy=-0.36428934>, <tf.Tensor: shape=(), dtype=float32, numpy=0.0965215>, <tf.Tensor: shape=(), dtype=float32, numpy=0.7723118>)\n",
      "\n",
      "(<tf.Tensor: shape=(), dtype=float32, numpy=-0.07388748>, <tf.Tensor: shape=(), dtype=float32, numpy=0.10256717>, <tf.Tensor: shape=(), dtype=float32, numpy=1.0217321>)\n",
      "\n",
      "(<tf.Tensor: shape=(), dtype=float32, numpy=0.45264393>, <tf.Tensor: shape=(), dtype=float32, numpy=-0.23195797>, <tf.Tensor: shape=(), dtype=float32, numpy=0.6038041>)\n",
      "\n",
      "(<tf.Tensor: shape=(), dtype=float32, numpy=0.060630113>, <tf.Tensor: shape=(), dtype=float32, numpy=-0.41921026>, <tf.Tensor: shape=(), dtype=float32, numpy=0.102486655>)\n",
      "\n",
      "(<tf.Tensor: shape=(), dtype=float32, numpy=0.38501477>, <tf.Tensor: shape=(), dtype=float32, numpy=-0.6218725>, <tf.Tensor: shape=(), dtype=float32, numpy=0.33923918>)\n",
      "\n",
      "(<tf.Tensor: shape=(), dtype=float32, numpy=0.41936144>, <tf.Tensor: shape=(), dtype=float32, numpy=-0.11637922>, <tf.Tensor: shape=(), dtype=float32, numpy=0.5638043>)\n",
      "\n",
      "(<tf.Tensor: shape=(), dtype=float32, numpy=0.04327771>, <tf.Tensor: shape=(), dtype=float32, numpy=-1.1096938>, <tf.Tensor: shape=(), dtype=float32, numpy=0.13666332>)\n",
      "\n",
      "(<tf.Tensor: shape=(), dtype=float32, numpy=-0.47160923>, <tf.Tensor: shape=(), dtype=float32, numpy=0.47741>, <tf.Tensor: shape=(), dtype=float32, numpy=1.0945365>)\n",
      "\n",
      "(<tf.Tensor: shape=(), dtype=float32, numpy=-0.028740577>, <tf.Tensor: shape=(), dtype=float32, numpy=-0.52594155>, <tf.Tensor: shape=(), dtype=float32, numpy=-0.05561471>)\n",
      "\n",
      "(<tf.Tensor: shape=(), dtype=float32, numpy=-0.16246352>, <tf.Tensor: shape=(), dtype=float32, numpy=0.20786205>, <tf.Tensor: shape=(), dtype=float32, numpy=0.60250795>)\n",
      "\n",
      "(<tf.Tensor: shape=(), dtype=float32, numpy=0.014438301>, <tf.Tensor: shape=(), dtype=float32, numpy=-0.1618685>, <tf.Tensor: shape=(), dtype=float32, numpy=0.68492776>)\n",
      "\n",
      "(<tf.Tensor: shape=(), dtype=float32, numpy=0.46838176>, <tf.Tensor: shape=(), dtype=float32, numpy=-0.23019236>, <tf.Tensor: shape=(), dtype=float32, numpy=-0.029629558>)\n",
      "\n",
      "(<tf.Tensor: shape=(), dtype=float32, numpy=0.6553922>, <tf.Tensor: shape=(), dtype=float32, numpy=-0.8930994>, <tf.Tensor: shape=(), dtype=float32, numpy=0.26706466>)\n",
      "\n",
      "(<tf.Tensor: shape=(), dtype=float32, numpy=-0.342908>, <tf.Tensor: shape=(), dtype=float32, numpy=0.3946733>, <tf.Tensor: shape=(), dtype=float32, numpy=0.51361567>)\n",
      "\n",
      "(<tf.Tensor: shape=(), dtype=float32, numpy=-0.38781992>, <tf.Tensor: shape=(), dtype=float32, numpy=-0.62571>, <tf.Tensor: shape=(), dtype=float32, numpy=-0.05469668>)\n",
      "\n",
      "(<tf.Tensor: shape=(), dtype=float32, numpy=-0.5396139>, <tf.Tensor: shape=(), dtype=float32, numpy=0.44959366>, <tf.Tensor: shape=(), dtype=float32, numpy=0.7780815>)\n",
      "\n",
      "(<tf.Tensor: shape=(), dtype=float32, numpy=0.3898307>, <tf.Tensor: shape=(), dtype=float32, numpy=0.77133846>, <tf.Tensor: shape=(), dtype=float32, numpy=1.2204826>)\n",
      "\n",
      "(<tf.Tensor: shape=(), dtype=float32, numpy=0.28559655>, <tf.Tensor: shape=(), dtype=float32, numpy=-0.62263584>, <tf.Tensor: shape=(), dtype=float32, numpy=0.40846735>)\n",
      "\n",
      "(<tf.Tensor: shape=(), dtype=float32, numpy=-0.5167508>, <tf.Tensor: shape=(), dtype=float32, numpy=-2.6535583>, <tf.Tensor: shape=(), dtype=float32, numpy=-0.90792227>)\n",
      "\n",
      "(<tf.Tensor: shape=(), dtype=float32, numpy=0.36165679>, <tf.Tensor: shape=(), dtype=float32, numpy=0.38735494>, <tf.Tensor: shape=(), dtype=float32, numpy=1.1465957>)\n",
      "\n",
      "(<tf.Tensor: shape=(), dtype=float32, numpy=-0.3958224>, <tf.Tensor: shape=(), dtype=float32, numpy=0.2880739>, <tf.Tensor: shape=(), dtype=float32, numpy=0.8056751>)\n",
      "\n",
      "(<tf.Tensor: shape=(), dtype=float32, numpy=-0.0740969>, <tf.Tensor: shape=(), dtype=float32, numpy=-0.64620245>, <tf.Tensor: shape=(), dtype=float32, numpy=-0.019921347>)\n",
      "\n",
      "(<tf.Tensor: shape=(), dtype=float32, numpy=0.0050075054>, <tf.Tensor: shape=(), dtype=float32, numpy=-0.7940482>, <tf.Tensor: shape=(), dtype=float32, numpy=-0.38797933>)\n",
      "\n",
      "(<tf.Tensor: shape=(), dtype=float32, numpy=0.11015651>, <tf.Tensor: shape=(), dtype=float32, numpy=-0.18534034>, <tf.Tensor: shape=(), dtype=float32, numpy=0.3713705>)\n",
      "\n",
      "(<tf.Tensor: shape=(), dtype=float32, numpy=0.08086263>, <tf.Tensor: shape=(), dtype=float32, numpy=-0.049520016>, <tf.Tensor: shape=(), dtype=float32, numpy=0.49715412>)\n",
      "\n",
      "(<tf.Tensor: shape=(), dtype=float32, numpy=-0.362174>, <tf.Tensor: shape=(), dtype=float32, numpy=1.5293245>, <tf.Tensor: shape=(), dtype=float32, numpy=2.1559854>)\n",
      "\n",
      "(<tf.Tensor: shape=(), dtype=float32, numpy=-0.6678386>, <tf.Tensor: shape=(), dtype=float32, numpy=-0.29538316>, <tf.Tensor: shape=(), dtype=float32, numpy=0.17490292>)\n",
      "\n",
      "(<tf.Tensor: shape=(), dtype=float32, numpy=0.022777826>, <tf.Tensor: shape=(), dtype=float32, numpy=0.31601393>, <tf.Tensor: shape=(), dtype=float32, numpy=0.57302797>)\n",
      "\n",
      "(<tf.Tensor: shape=(), dtype=float32, numpy=0.53232574>, <tf.Tensor: shape=(), dtype=float32, numpy=0.34871405>, <tf.Tensor: shape=(), dtype=float32, numpy=0.42680606>)\n",
      "\n",
      "(<tf.Tensor: shape=(), dtype=float32, numpy=0.11622417>, <tf.Tensor: shape=(), dtype=float32, numpy=-0.6053628>, <tf.Tensor: shape=(), dtype=float32, numpy=0.30223835>)\n",
      "\n",
      "(<tf.Tensor: shape=(), dtype=float32, numpy=-0.18326157>, <tf.Tensor: shape=(), dtype=float32, numpy=-0.12422067>, <tf.Tensor: shape=(), dtype=float32, numpy=0.42239675>)\n",
      "\n",
      "(<tf.Tensor: shape=(), dtype=float32, numpy=0.61439216>, <tf.Tensor: shape=(), dtype=float32, numpy=-0.5025094>, <tf.Tensor: shape=(), dtype=float32, numpy=0.63161874>)\n",
      "\n",
      "(<tf.Tensor: shape=(), dtype=float32, numpy=-1.2774084>, <tf.Tensor: shape=(), dtype=float32, numpy=-2.1479554>, <tf.Tensor: shape=(), dtype=float32, numpy=-0.41973776>)\n",
      "\n",
      "(<tf.Tensor: shape=(), dtype=float32, numpy=-0.35198617>, <tf.Tensor: shape=(), dtype=float32, numpy=-0.8847011>, <tf.Tensor: shape=(), dtype=float32, numpy=0.095271885>)\n",
      "\n",
      "(<tf.Tensor: shape=(), dtype=float32, numpy=-0.10192251>, <tf.Tensor: shape=(), dtype=float32, numpy=0.5384215>, <tf.Tensor: shape=(), dtype=float32, numpy=1.1869755>)\n",
      "\n",
      "(<tf.Tensor: shape=(), dtype=float32, numpy=0.5469442>, <tf.Tensor: shape=(), dtype=float32, numpy=-0.17141497>, <tf.Tensor: shape=(), dtype=float32, numpy=0.038143963>)\n",
      "\n",
      "(<tf.Tensor: shape=(), dtype=float32, numpy=0.36647898>, <tf.Tensor: shape=(), dtype=float32, numpy=0.33710325>, <tf.Tensor: shape=(), dtype=float32, numpy=0.18994378>)\n",
      "\n",
      "(<tf.Tensor: shape=(), dtype=float32, numpy=0.17552613>, <tf.Tensor: shape=(), dtype=float32, numpy=-0.5211034>, <tf.Tensor: shape=(), dtype=float32, numpy=0.26031503>)\n",
      "\n",
      "(<tf.Tensor: shape=(), dtype=float32, numpy=-0.30607027>, <tf.Tensor: shape=(), dtype=float32, numpy=-0.23746419>, <tf.Tensor: shape=(), dtype=float32, numpy=0.3065047>)\n",
      "\n",
      "(<tf.Tensor: shape=(), dtype=float32, numpy=-0.52717376>, <tf.Tensor: shape=(), dtype=float32, numpy=1.6531823>, <tf.Tensor: shape=(), dtype=float32, numpy=2.2349136>)\n",
      "\n",
      "(<tf.Tensor: shape=(), dtype=float32, numpy=0.10257903>, <tf.Tensor: shape=(), dtype=float32, numpy=-0.38664734>, <tf.Tensor: shape=(), dtype=float32, numpy=0.51654696>)\n",
      "\n",
      "(<tf.Tensor: shape=(), dtype=float32, numpy=-0.28830788>, <tf.Tensor: shape=(), dtype=float32, numpy=-0.16504493>, <tf.Tensor: shape=(), dtype=float32, numpy=0.41794693>)\n",
      "\n",
      "(<tf.Tensor: shape=(), dtype=float32, numpy=-0.522819>, <tf.Tensor: shape=(), dtype=float32, numpy=0.23177731>, <tf.Tensor: shape=(), dtype=float32, numpy=0.24617675>)\n",
      "\n",
      "(<tf.Tensor: shape=(), dtype=float32, numpy=0.03575655>, <tf.Tensor: shape=(), dtype=float32, numpy=0.053378537>, <tf.Tensor: shape=(), dtype=float32, numpy=0.18330067>)\n",
      "\n",
      "(<tf.Tensor: shape=(), dtype=float32, numpy=0.58512914>, <tf.Tensor: shape=(), dtype=float32, numpy=-0.31111395>, <tf.Tensor: shape=(), dtype=float32, numpy=0.60284925>)\n",
      "\n",
      "(<tf.Tensor: shape=(), dtype=float32, numpy=0.139913>, <tf.Tensor: shape=(), dtype=float32, numpy=-1.0192556>, <tf.Tensor: shape=(), dtype=float32, numpy=-0.00538826>)\n",
      "\n",
      "(<tf.Tensor: shape=(), dtype=float32, numpy=0.7751158>, <tf.Tensor: shape=(), dtype=float32, numpy=0.40275374>, <tf.Tensor: shape=(), dtype=float32, numpy=0.28941703>)\n",
      "\n",
      "Mean squared error for step 50: 1.114\n",
      "(<tf.Tensor: shape=(), dtype=float32, numpy=0.014937818>, <tf.Tensor: shape=(), dtype=float32, numpy=0.48574787>, <tf.Tensor: shape=(), dtype=float32, numpy=0.5392377>)\n",
      "\n",
      "(<tf.Tensor: shape=(), dtype=float32, numpy=0.2518715>, <tf.Tensor: shape=(), dtype=float32, numpy=0.3122265>, <tf.Tensor: shape=(), dtype=float32, numpy=1.0451365>)\n",
      "\n",
      "(<tf.Tensor: shape=(), dtype=float32, numpy=-0.58339095>, <tf.Tensor: shape=(), dtype=float32, numpy=-1.5340074>, <tf.Tensor: shape=(), dtype=float32, numpy=-0.29594773>)\n",
      "\n",
      "(<tf.Tensor: shape=(), dtype=float32, numpy=0.4282422>, <tf.Tensor: shape=(), dtype=float32, numpy=-1.4238752>, <tf.Tensor: shape=(), dtype=float32, numpy=-0.3915385>)\n",
      "\n",
      "(<tf.Tensor: shape=(), dtype=float32, numpy=-0.16329312>, <tf.Tensor: shape=(), dtype=float32, numpy=0.60732377>, <tf.Tensor: shape=(), dtype=float32, numpy=0.2561151>)\n",
      "\n",
      "(<tf.Tensor: shape=(), dtype=float32, numpy=-0.08746013>, <tf.Tensor: shape=(), dtype=float32, numpy=-0.058157973>, <tf.Tensor: shape=(), dtype=float32, numpy=0.7509346>)\n",
      "\n",
      "(<tf.Tensor: shape=(), dtype=float32, numpy=0.7514795>, <tf.Tensor: shape=(), dtype=float32, numpy=1.032356>, <tf.Tensor: shape=(), dtype=float32, numpy=0.36183095>)\n",
      "\n",
      "(<tf.Tensor: shape=(), dtype=float32, numpy=-0.2135278>, <tf.Tensor: shape=(), dtype=float32, numpy=-0.20792726>, <tf.Tensor: shape=(), dtype=float32, numpy=0.03205356>)\n",
      "\n",
      "(<tf.Tensor: shape=(), dtype=float32, numpy=0.21417224>, <tf.Tensor: shape=(), dtype=float32, numpy=0.49896133>, <tf.Tensor: shape=(), dtype=float32, numpy=0.58769345>)\n",
      "\n",
      "(<tf.Tensor: shape=(), dtype=float32, numpy=0.15737788>, <tf.Tensor: shape=(), dtype=float32, numpy=-0.713831>, <tf.Tensor: shape=(), dtype=float32, numpy=0.14912999>)\n",
      "\n",
      "(<tf.Tensor: shape=(), dtype=float32, numpy=0.21296027>, <tf.Tensor: shape=(), dtype=float32, numpy=-0.5793056>, <tf.Tensor: shape=(), dtype=float32, numpy=0.12874028>)\n",
      "\n",
      "(<tf.Tensor: shape=(), dtype=float32, numpy=-0.25794148>, <tf.Tensor: shape=(), dtype=float32, numpy=0.41805068>, <tf.Tensor: shape=(), dtype=float32, numpy=0.6519463>)\n",
      "\n",
      "(<tf.Tensor: shape=(), dtype=float32, numpy=-0.3176939>, <tf.Tensor: shape=(), dtype=float32, numpy=-1.0783995>, <tf.Tensor: shape=(), dtype=float32, numpy=-0.014411718>)\n",
      "\n",
      "(<tf.Tensor: shape=(), dtype=float32, numpy=0.6664234>, <tf.Tensor: shape=(), dtype=float32, numpy=0.5317475>, <tf.Tensor: shape=(), dtype=float32, numpy=0.95340204>)\n",
      "\n",
      "(<tf.Tensor: shape=(), dtype=float32, numpy=-0.10616389>, <tf.Tensor: shape=(), dtype=float32, numpy=-0.97850037>, <tf.Tensor: shape=(), dtype=float32, numpy=-0.16039866>)\n",
      "\n",
      "(<tf.Tensor: shape=(), dtype=float32, numpy=0.08336419>, <tf.Tensor: shape=(), dtype=float32, numpy=-0.26372105>, <tf.Tensor: shape=(), dtype=float32, numpy=0.24244396>)\n",
      "\n",
      "(<tf.Tensor: shape=(), dtype=float32, numpy=0.3324013>, <tf.Tensor: shape=(), dtype=float32, numpy=0.75975025>, <tf.Tensor: shape=(), dtype=float32, numpy=0.8793088>)\n",
      "\n",
      "(<tf.Tensor: shape=(), dtype=float32, numpy=0.49431086>, <tf.Tensor: shape=(), dtype=float32, numpy=-0.5315024>, <tf.Tensor: shape=(), dtype=float32, numpy=-0.12671769>)\n",
      "\n",
      "(<tf.Tensor: shape=(), dtype=float32, numpy=-0.1037039>, <tf.Tensor: shape=(), dtype=float32, numpy=-0.8150754>, <tf.Tensor: shape=(), dtype=float32, numpy=-0.23288397>)\n",
      "\n",
      "(<tf.Tensor: shape=(), dtype=float32, numpy=-0.57618755>, <tf.Tensor: shape=(), dtype=float32, numpy=0.65884566>, <tf.Tensor: shape=(), dtype=float32, numpy=1.2115991>)\n",
      "\n",
      "(<tf.Tensor: shape=(), dtype=float32, numpy=-0.88032186>, <tf.Tensor: shape=(), dtype=float32, numpy=-0.05183331>, <tf.Tensor: shape=(), dtype=float32, numpy=0.002539754>)\n",
      "\n",
      "(<tf.Tensor: shape=(), dtype=float32, numpy=0.18619874>, <tf.Tensor: shape=(), dtype=float32, numpy=0.105085015>, <tf.Tensor: shape=(), dtype=float32, numpy=-0.02259913>)\n",
      "\n",
      "(<tf.Tensor: shape=(), dtype=float32, numpy=0.011003748>, <tf.Tensor: shape=(), dtype=float32, numpy=-0.3980791>, <tf.Tensor: shape=(), dtype=float32, numpy=0.47213894>)\n",
      "\n",
      "(<tf.Tensor: shape=(), dtype=float32, numpy=-0.15166783>, <tf.Tensor: shape=(), dtype=float32, numpy=0.20995945>, <tf.Tensor: shape=(), dtype=float32, numpy=0.6719406>)\n",
      "\n",
      "(<tf.Tensor: shape=(), dtype=float32, numpy=-0.44148406>, <tf.Tensor: shape=(), dtype=float32, numpy=0.07392603>, <tf.Tensor: shape=(), dtype=float32, numpy=0.13243183>)\n",
      "\n",
      "(<tf.Tensor: shape=(), dtype=float32, numpy=-0.37666062>, <tf.Tensor: shape=(), dtype=float32, numpy=-0.9542774>, <tf.Tensor: shape=(), dtype=float32, numpy=-0.28903118>)\n",
      "\n",
      "(<tf.Tensor: shape=(), dtype=float32, numpy=0.73570734>, <tf.Tensor: shape=(), dtype=float32, numpy=-0.29153407>, <tf.Tensor: shape=(), dtype=float32, numpy=0.49405605>)\n",
      "\n",
      "(<tf.Tensor: shape=(), dtype=float32, numpy=0.2501985>, <tf.Tensor: shape=(), dtype=float32, numpy=-0.22752419>, <tf.Tensor: shape=(), dtype=float32, numpy=0.6702305>)\n",
      "\n",
      "(<tf.Tensor: shape=(), dtype=float32, numpy=0.25021476>, <tf.Tensor: shape=(), dtype=float32, numpy=0.41957763>, <tf.Tensor: shape=(), dtype=float32, numpy=0.7290478>)\n",
      "\n",
      "(<tf.Tensor: shape=(), dtype=float32, numpy=0.13943961>, <tf.Tensor: shape=(), dtype=float32, numpy=-1.0481248>, <tf.Tensor: shape=(), dtype=float32, numpy=0.108376294>)\n",
      "\n",
      "(<tf.Tensor: shape=(), dtype=float32, numpy=-0.5961203>, <tf.Tensor: shape=(), dtype=float32, numpy=0.010288581>, <tf.Tensor: shape=(), dtype=float32, numpy=0.6413735>)\n",
      "\n",
      "(<tf.Tensor: shape=(), dtype=float32, numpy=-0.16533005>, <tf.Tensor: shape=(), dtype=float32, numpy=0.5602392>, <tf.Tensor: shape=(), dtype=float32, numpy=0.35542944>)\n",
      "\n",
      "(<tf.Tensor: shape=(), dtype=float32, numpy=-0.0424809>, <tf.Tensor: shape=(), dtype=float32, numpy=-0.4723227>, <tf.Tensor: shape=(), dtype=float32, numpy=-0.30700666>)\n",
      "\n",
      "(<tf.Tensor: shape=(), dtype=float32, numpy=0.40629756>, <tf.Tensor: shape=(), dtype=float32, numpy=-0.587672>, <tf.Tensor: shape=(), dtype=float32, numpy=0.028031886>)\n",
      "\n",
      "(<tf.Tensor: shape=(), dtype=float32, numpy=0.06751076>, <tf.Tensor: shape=(), dtype=float32, numpy=-0.034177043>, <tf.Tensor: shape=(), dtype=float32, numpy=0.08316267>)\n",
      "\n",
      "(<tf.Tensor: shape=(), dtype=float32, numpy=0.07576474>, <tf.Tensor: shape=(), dtype=float32, numpy=0.56505024>, <tf.Tensor: shape=(), dtype=float32, numpy=0.9167785>)\n",
      "\n",
      "(<tf.Tensor: shape=(), dtype=float32, numpy=-0.30701298>, <tf.Tensor: shape=(), dtype=float32, numpy=-0.3580925>, <tf.Tensor: shape=(), dtype=float32, numpy=0.5125125>)\n",
      "\n",
      "(<tf.Tensor: shape=(), dtype=float32, numpy=-0.10046102>, <tf.Tensor: shape=(), dtype=float32, numpy=-1.9742808>, <tf.Tensor: shape=(), dtype=float32, numpy=-0.9393407>)\n",
      "\n",
      "(<tf.Tensor: shape=(), dtype=float32, numpy=-0.030253869>, <tf.Tensor: shape=(), dtype=float32, numpy=0.6339717>, <tf.Tensor: shape=(), dtype=float32, numpy=0.7464411>)\n",
      "\n",
      "(<tf.Tensor: shape=(), dtype=float32, numpy=-0.07290888>, <tf.Tensor: shape=(), dtype=float32, numpy=-0.4610094>, <tf.Tensor: shape=(), dtype=float32, numpy=0.009663671>)\n",
      "\n",
      "(<tf.Tensor: shape=(), dtype=float32, numpy=0.31739396>, <tf.Tensor: shape=(), dtype=float32, numpy=0.7048538>, <tf.Tensor: shape=(), dtype=float32, numpy=0.36816168>)\n",
      "\n",
      "(<tf.Tensor: shape=(), dtype=float32, numpy=0.5114729>, <tf.Tensor: shape=(), dtype=float32, numpy=0.29296678>, <tf.Tensor: shape=(), dtype=float32, numpy=0.09754896>)\n",
      "\n",
      "(<tf.Tensor: shape=(), dtype=float32, numpy=0.39212614>, <tf.Tensor: shape=(), dtype=float32, numpy=-0.24360137>, <tf.Tensor: shape=(), dtype=float32, numpy=-0.025501609>)\n",
      "\n",
      "(<tf.Tensor: shape=(), dtype=float32, numpy=0.081558764>, <tf.Tensor: shape=(), dtype=float32, numpy=0.0768567>, <tf.Tensor: shape=(), dtype=float32, numpy=0.4430563>)\n",
      "\n",
      "(<tf.Tensor: shape=(), dtype=float32, numpy=0.28613976>, <tf.Tensor: shape=(), dtype=float32, numpy=-0.14526753>, <tf.Tensor: shape=(), dtype=float32, numpy=0.05435303>)\n",
      "\n",
      "(<tf.Tensor: shape=(), dtype=float32, numpy=-0.0058574528>, <tf.Tensor: shape=(), dtype=float32, numpy=0.3599627>, <tf.Tensor: shape=(), dtype=float32, numpy=0.36659932>)\n",
      "\n",
      "(<tf.Tensor: shape=(), dtype=float32, numpy=-0.5950406>, <tf.Tensor: shape=(), dtype=float32, numpy=-0.9485989>, <tf.Tensor: shape=(), dtype=float32, numpy=0.010108188>)\n",
      "\n",
      "(<tf.Tensor: shape=(), dtype=float32, numpy=-0.1238015>, <tf.Tensor: shape=(), dtype=float32, numpy=-0.3867002>, <tf.Tensor: shape=(), dtype=float32, numpy=0.5422811>)\n",
      "\n",
      "(<tf.Tensor: shape=(), dtype=float32, numpy=-0.7271929>, <tf.Tensor: shape=(), dtype=float32, numpy=1.4750667>, <tf.Tensor: shape=(), dtype=float32, numpy=0.51450324>)\n",
      "\n",
      "(<tf.Tensor: shape=(), dtype=float32, numpy=0.27894408>, <tf.Tensor: shape=(), dtype=float32, numpy=0.66273016>, <tf.Tensor: shape=(), dtype=float32, numpy=0.85764575>)\n",
      "\n",
      "(<tf.Tensor: shape=(), dtype=float32, numpy=-0.37737918>, <tf.Tensor: shape=(), dtype=float32, numpy=-0.81014025>, <tf.Tensor: shape=(), dtype=float32, numpy=-0.34062007>)\n",
      "\n",
      "(<tf.Tensor: shape=(), dtype=float32, numpy=-0.1165383>, <tf.Tensor: shape=(), dtype=float32, numpy=0.021114647>, <tf.Tensor: shape=(), dtype=float32, numpy=0.1464113>)\n",
      "\n",
      "(<tf.Tensor: shape=(), dtype=float32, numpy=0.39586318>, <tf.Tensor: shape=(), dtype=float32, numpy=-0.42109278>, <tf.Tensor: shape=(), dtype=float32, numpy=0.005827591>)\n",
      "\n",
      "(<tf.Tensor: shape=(), dtype=float32, numpy=-0.29748774>, <tf.Tensor: shape=(), dtype=float32, numpy=-0.27156192>, <tf.Tensor: shape=(), dtype=float32, numpy=0.1283691>)\n",
      "\n",
      "(<tf.Tensor: shape=(), dtype=float32, numpy=0.25535962>, <tf.Tensor: shape=(), dtype=float32, numpy=-0.7410054>, <tf.Tensor: shape=(), dtype=float32, numpy=0.29866642>)\n",
      "\n",
      "(<tf.Tensor: shape=(), dtype=float32, numpy=-0.44386205>, <tf.Tensor: shape=(), dtype=float32, numpy=0.93544185>, <tf.Tensor: shape=(), dtype=float32, numpy=0.51867086>)\n",
      "\n",
      "(<tf.Tensor: shape=(), dtype=float32, numpy=-0.09349428>, <tf.Tensor: shape=(), dtype=float32, numpy=-0.017906636>, <tf.Tensor: shape=(), dtype=float32, numpy=0.33390865>)\n",
      "\n",
      "(<tf.Tensor: shape=(), dtype=float32, numpy=0.35200357>, <tf.Tensor: shape=(), dtype=float32, numpy=-0.8757958>, <tf.Tensor: shape=(), dtype=float32, numpy=-0.26536372>)\n",
      "\n",
      "(<tf.Tensor: shape=(), dtype=float32, numpy=0.1421004>, <tf.Tensor: shape=(), dtype=float32, numpy=-0.055805385>, <tf.Tensor: shape=(), dtype=float32, numpy=0.49164385>)\n",
      "\n",
      "(<tf.Tensor: shape=(), dtype=float32, numpy=0.07601154>, <tf.Tensor: shape=(), dtype=float32, numpy=0.37368834>, <tf.Tensor: shape=(), dtype=float32, numpy=0.520932>)\n",
      "\n",
      "(<tf.Tensor: shape=(), dtype=float32, numpy=0.3351774>, <tf.Tensor: shape=(), dtype=float32, numpy=-0.5624856>, <tf.Tensor: shape=(), dtype=float32, numpy=0.0059442967>)\n",
      "\n",
      "(<tf.Tensor: shape=(), dtype=float32, numpy=-0.4903418>, <tf.Tensor: shape=(), dtype=float32, numpy=0.14106132>, <tf.Tensor: shape=(), dtype=float32, numpy=-0.052513003>)\n",
      "\n",
      "(<tf.Tensor: shape=(), dtype=float32, numpy=-0.9144634>, <tf.Tensor: shape=(), dtype=float32, numpy=-0.64935684>, <tf.Tensor: shape=(), dtype=float32, numpy=0.6148459>)\n",
      "\n",
      "(<tf.Tensor: shape=(), dtype=float32, numpy=0.04470426>, <tf.Tensor: shape=(), dtype=float32, numpy=0.85445654>, <tf.Tensor: shape=(), dtype=float32, numpy=0.64599156>)\n",
      "\n",
      "(<tf.Tensor: shape=(), dtype=float32, numpy=0.1927928>, <tf.Tensor: shape=(), dtype=float32, numpy=-1.4680969>, <tf.Tensor: shape=(), dtype=float32, numpy=-0.6373547>)\n",
      "\n",
      "(<tf.Tensor: shape=(), dtype=float32, numpy=-0.15945415>, <tf.Tensor: shape=(), dtype=float32, numpy=-0.02785647>, <tf.Tensor: shape=(), dtype=float32, numpy=0.41542923>)\n",
      "\n",
      "(<tf.Tensor: shape=(), dtype=float32, numpy=0.09500394>, <tf.Tensor: shape=(), dtype=float32, numpy=-0.081382945>, <tf.Tensor: shape=(), dtype=float32, numpy=0.53635365>)\n",
      "\n",
      "(<tf.Tensor: shape=(), dtype=float32, numpy=-0.017769627>, <tf.Tensor: shape=(), dtype=float32, numpy=0.12593311>, <tf.Tensor: shape=(), dtype=float32, numpy=0.043123737>)\n",
      "\n",
      "(<tf.Tensor: shape=(), dtype=float32, numpy=0.20378482>, <tf.Tensor: shape=(), dtype=float32, numpy=-0.2912315>, <tf.Tensor: shape=(), dtype=float32, numpy=0.24239817>)\n",
      "\n",
      "(<tf.Tensor: shape=(), dtype=float32, numpy=-0.6967014>, <tf.Tensor: shape=(), dtype=float32, numpy=-0.074058056>, <tf.Tensor: shape=(), dtype=float32, numpy=-0.062224627>)\n",
      "\n",
      "Mean squared error for step 60: 1.051\n",
      "(<tf.Tensor: shape=(), dtype=float32, numpy=-0.12141446>, <tf.Tensor: shape=(), dtype=float32, numpy=0.30501458>, <tf.Tensor: shape=(), dtype=float32, numpy=0.406256>)\n",
      "\n",
      "(<tf.Tensor: shape=(), dtype=float32, numpy=0.9170385>, <tf.Tensor: shape=(), dtype=float32, numpy=-0.047317296>, <tf.Tensor: shape=(), dtype=float32, numpy=0.4860128>)\n",
      "\n",
      "(<tf.Tensor: shape=(), dtype=float32, numpy=-0.049961634>, <tf.Tensor: shape=(), dtype=float32, numpy=-0.6676395>, <tf.Tensor: shape=(), dtype=float32, numpy=-0.20894697>)\n",
      "\n",
      "(<tf.Tensor: shape=(), dtype=float32, numpy=-0.30367368>, <tf.Tensor: shape=(), dtype=float32, numpy=0.73603463>, <tf.Tensor: shape=(), dtype=float32, numpy=0.88832486>)\n",
      "\n",
      "(<tf.Tensor: shape=(), dtype=float32, numpy=-0.15840471>, <tf.Tensor: shape=(), dtype=float32, numpy=-0.56818855>, <tf.Tensor: shape=(), dtype=float32, numpy=-0.3979873>)\n",
      "\n",
      "(<tf.Tensor: shape=(), dtype=float32, numpy=-0.057799086>, <tf.Tensor: shape=(), dtype=float32, numpy=-0.4427646>, <tf.Tensor: shape=(), dtype=float32, numpy=0.026233777>)\n",
      "\n",
      "(<tf.Tensor: shape=(), dtype=float32, numpy=-0.11692676>, <tf.Tensor: shape=(), dtype=float32, numpy=-0.6162723>, <tf.Tensor: shape=(), dtype=float32, numpy=-0.12982076>)\n",
      "\n",
      "(<tf.Tensor: shape=(), dtype=float32, numpy=-0.32987905>, <tf.Tensor: shape=(), dtype=float32, numpy=0.1799517>, <tf.Tensor: shape=(), dtype=float32, numpy=0.33124673>)\n",
      "\n",
      "(<tf.Tensor: shape=(), dtype=float32, numpy=0.58827853>, <tf.Tensor: shape=(), dtype=float32, numpy=-0.42523375>, <tf.Tensor: shape=(), dtype=float32, numpy=0.16960685>)\n",
      "\n",
      "(<tf.Tensor: shape=(), dtype=float32, numpy=-0.20752311>, <tf.Tensor: shape=(), dtype=float32, numpy=0.13741787>, <tf.Tensor: shape=(), dtype=float32, numpy=0.18221788>)\n",
      "\n",
      "(<tf.Tensor: shape=(), dtype=float32, numpy=0.3391627>, <tf.Tensor: shape=(), dtype=float32, numpy=-0.19245677>, <tf.Tensor: shape=(), dtype=float32, numpy=0.061040975>)\n",
      "\n",
      "(<tf.Tensor: shape=(), dtype=float32, numpy=0.037999973>, <tf.Tensor: shape=(), dtype=float32, numpy=-0.5534251>, <tf.Tensor: shape=(), dtype=float32, numpy=0.19698776>)\n",
      "\n",
      "(<tf.Tensor: shape=(), dtype=float32, numpy=0.1426985>, <tf.Tensor: shape=(), dtype=float32, numpy=-0.08781946>, <tf.Tensor: shape=(), dtype=float32, numpy=0.16639045>)\n",
      "\n",
      "(<tf.Tensor: shape=(), dtype=float32, numpy=-1.3363509>, <tf.Tensor: shape=(), dtype=float32, numpy=2.0687764>, <tf.Tensor: shape=(), dtype=float32, numpy=0.7830885>)\n",
      "\n",
      "(<tf.Tensor: shape=(), dtype=float32, numpy=0.34278327>, <tf.Tensor: shape=(), dtype=float32, numpy=-0.037363768>, <tf.Tensor: shape=(), dtype=float32, numpy=0.02419781>)\n",
      "\n",
      "(<tf.Tensor: shape=(), dtype=float32, numpy=-0.3522597>, <tf.Tensor: shape=(), dtype=float32, numpy=0.23231806>, <tf.Tensor: shape=(), dtype=float32, numpy=0.28263938>)\n",
      "\n",
      "(<tf.Tensor: shape=(), dtype=float32, numpy=-0.30399352>, <tf.Tensor: shape=(), dtype=float32, numpy=-0.48599565>, <tf.Tensor: shape=(), dtype=float32, numpy=-0.17581728>)\n",
      "\n",
      "(<tf.Tensor: shape=(), dtype=float32, numpy=-0.4453498>, <tf.Tensor: shape=(), dtype=float32, numpy=-0.5961181>, <tf.Tensor: shape=(), dtype=float32, numpy=0.1276323>)\n",
      "\n",
      "(<tf.Tensor: shape=(), dtype=float32, numpy=0.83736295>, <tf.Tensor: shape=(), dtype=float32, numpy=-0.5373634>, <tf.Tensor: shape=(), dtype=float32, numpy=0.2829513>)\n",
      "\n",
      "(<tf.Tensor: shape=(), dtype=float32, numpy=0.08488975>, <tf.Tensor: shape=(), dtype=float32, numpy=0.12880805>, <tf.Tensor: shape=(), dtype=float32, numpy=0.27105296>)\n",
      "\n",
      "(<tf.Tensor: shape=(), dtype=float32, numpy=0.7308274>, <tf.Tensor: shape=(), dtype=float32, numpy=1.0095356>, <tf.Tensor: shape=(), dtype=float32, numpy=0.5442414>)\n",
      "\n",
      "(<tf.Tensor: shape=(), dtype=float32, numpy=0.54410803>, <tf.Tensor: shape=(), dtype=float32, numpy=-0.4596604>, <tf.Tensor: shape=(), dtype=float32, numpy=0.118086725>)\n",
      "\n",
      "(<tf.Tensor: shape=(), dtype=float32, numpy=0.3019231>, <tf.Tensor: shape=(), dtype=float32, numpy=0.39297688>, <tf.Tensor: shape=(), dtype=float32, numpy=0.595943>)\n",
      "\n",
      "(<tf.Tensor: shape=(), dtype=float32, numpy=-0.91535664>, <tf.Tensor: shape=(), dtype=float32, numpy=-0.474158>, <tf.Tensor: shape=(), dtype=float32, numpy=-0.3631476>)\n",
      "\n",
      "(<tf.Tensor: shape=(), dtype=float32, numpy=-0.6687331>, <tf.Tensor: shape=(), dtype=float32, numpy=-0.9548862>, <tf.Tensor: shape=(), dtype=float32, numpy=-0.10896059>)\n",
      "\n",
      "(<tf.Tensor: shape=(), dtype=float32, numpy=0.23728952>, <tf.Tensor: shape=(), dtype=float32, numpy=-0.06495851>, <tf.Tensor: shape=(), dtype=float32, numpy=-0.01001358>)\n",
      "\n",
      "(<tf.Tensor: shape=(), dtype=float32, numpy=0.7106942>, <tf.Tensor: shape=(), dtype=float32, numpy=0.59996116>, <tf.Tensor: shape=(), dtype=float32, numpy=0.57449603>)\n",
      "\n",
      "(<tf.Tensor: shape=(), dtype=float32, numpy=-0.09407257>, <tf.Tensor: shape=(), dtype=float32, numpy=-0.4375158>, <tf.Tensor: shape=(), dtype=float32, numpy=0.20605572>)\n",
      "\n",
      "(<tf.Tensor: shape=(), dtype=float32, numpy=-0.3324862>, <tf.Tensor: shape=(), dtype=float32, numpy=-0.9991328>, <tf.Tensor: shape=(), dtype=float32, numpy=-0.5666177>)\n",
      "\n",
      "(<tf.Tensor: shape=(), dtype=float32, numpy=0.052632473>, <tf.Tensor: shape=(), dtype=float32, numpy=-0.19531396>, <tf.Tensor: shape=(), dtype=float32, numpy=-0.039747126>)\n",
      "\n",
      "(<tf.Tensor: shape=(), dtype=float32, numpy=0.31138813>, <tf.Tensor: shape=(), dtype=float32, numpy=0.3122592>, <tf.Tensor: shape=(), dtype=float32, numpy=0.859127>)\n",
      "\n",
      "(<tf.Tensor: shape=(), dtype=float32, numpy=0.37953666>, <tf.Tensor: shape=(), dtype=float32, numpy=0.6112383>, <tf.Tensor: shape=(), dtype=float32, numpy=0.5006321>)\n",
      "\n",
      "(<tf.Tensor: shape=(), dtype=float32, numpy=0.37168404>, <tf.Tensor: shape=(), dtype=float32, numpy=-0.188443>, <tf.Tensor: shape=(), dtype=float32, numpy=0.10917452>)\n",
      "\n",
      "(<tf.Tensor: shape=(), dtype=float32, numpy=-0.5722425>, <tf.Tensor: shape=(), dtype=float32, numpy=-0.14133534>, <tf.Tensor: shape=(), dtype=float32, numpy=0.16528681>)\n",
      "\n",
      "(<tf.Tensor: shape=(), dtype=float32, numpy=-0.15451875>, <tf.Tensor: shape=(), dtype=float32, numpy=-0.1721133>, <tf.Tensor: shape=(), dtype=float32, numpy=-0.12037798>)\n",
      "\n",
      "(<tf.Tensor: shape=(), dtype=float32, numpy=0.058060378>, <tf.Tensor: shape=(), dtype=float32, numpy=-0.38635343>, <tf.Tensor: shape=(), dtype=float32, numpy=0.059124038>)\n",
      "\n",
      "(<tf.Tensor: shape=(), dtype=float32, numpy=0.05097784>, <tf.Tensor: shape=(), dtype=float32, numpy=-0.56894565>, <tf.Tensor: shape=(), dtype=float32, numpy=-0.059253067>)\n",
      "\n",
      "(<tf.Tensor: shape=(), dtype=float32, numpy=0.041214824>, <tf.Tensor: shape=(), dtype=float32, numpy=0.16200268>, <tf.Tensor: shape=(), dtype=float32, numpy=0.2257919>)\n",
      "\n",
      "(<tf.Tensor: shape=(), dtype=float32, numpy=-0.0006129667>, <tf.Tensor: shape=(), dtype=float32, numpy=-0.0605599>, <tf.Tensor: shape=(), dtype=float32, numpy=0.38958168>)\n",
      "\n",
      "(<tf.Tensor: shape=(), dtype=float32, numpy=-0.10457887>, <tf.Tensor: shape=(), dtype=float32, numpy=-0.36939654>, <tf.Tensor: shape=(), dtype=float32, numpy=0.06848397>)\n",
      "\n",
      "(<tf.Tensor: shape=(), dtype=float32, numpy=0.32882243>, <tf.Tensor: shape=(), dtype=float32, numpy=0.8757231>, <tf.Tensor: shape=(), dtype=float32, numpy=0.31775397>)\n",
      "\n",
      "(<tf.Tensor: shape=(), dtype=float32, numpy=-0.7546398>, <tf.Tensor: shape=(), dtype=float32, numpy=-0.32413414>, <tf.Tensor: shape=(), dtype=float32, numpy=0.038496528>)\n",
      "\n",
      "(<tf.Tensor: shape=(), dtype=float32, numpy=0.39716583>, <tf.Tensor: shape=(), dtype=float32, numpy=0.5210693>, <tf.Tensor: shape=(), dtype=float32, numpy=0.18775308>)\n",
      "\n",
      "(<tf.Tensor: shape=(), dtype=float32, numpy=-0.14085159>, <tf.Tensor: shape=(), dtype=float32, numpy=-0.20603806>, <tf.Tensor: shape=(), dtype=float32, numpy=-0.12081137>)\n",
      "\n",
      "(<tf.Tensor: shape=(), dtype=float32, numpy=0.64131784>, <tf.Tensor: shape=(), dtype=float32, numpy=-0.12622762>, <tf.Tensor: shape=(), dtype=float32, numpy=0.13717498>)\n",
      "\n",
      "(<tf.Tensor: shape=(), dtype=float32, numpy=-0.61940885>, <tf.Tensor: shape=(), dtype=float32, numpy=-0.92387784>, <tf.Tensor: shape=(), dtype=float32, numpy=-0.014420807>)\n",
      "\n",
      "(<tf.Tensor: shape=(), dtype=float32, numpy=-0.045855343>, <tf.Tensor: shape=(), dtype=float32, numpy=0.069337726>, <tf.Tensor: shape=(), dtype=float32, numpy=0.56689894>)\n",
      "\n",
      "(<tf.Tensor: shape=(), dtype=float32, numpy=-0.16444622>, <tf.Tensor: shape=(), dtype=float32, numpy=-0.19300908>, <tf.Tensor: shape=(), dtype=float32, numpy=0.05919282>)\n",
      "\n",
      "(<tf.Tensor: shape=(), dtype=float32, numpy=0.37419844>, <tf.Tensor: shape=(), dtype=float32, numpy=0.8915783>, <tf.Tensor: shape=(), dtype=float32, numpy=0.2729958>)\n",
      "\n",
      "(<tf.Tensor: shape=(), dtype=float32, numpy=0.18627235>, <tf.Tensor: shape=(), dtype=float32, numpy=-0.0792841>, <tf.Tensor: shape=(), dtype=float32, numpy=0.4099834>)\n",
      "\n",
      "(<tf.Tensor: shape=(), dtype=float32, numpy=0.2698091>, <tf.Tensor: shape=(), dtype=float32, numpy=0.0061007626>, <tf.Tensor: shape=(), dtype=float32, numpy=0.155875>)\n",
      "\n",
      "(<tf.Tensor: shape=(), dtype=float32, numpy=-0.30197805>, <tf.Tensor: shape=(), dtype=float32, numpy=-1.0455523>, <tf.Tensor: shape=(), dtype=float32, numpy=-0.2866895>)\n",
      "\n",
      "(<tf.Tensor: shape=(), dtype=float32, numpy=-0.10054226>, <tf.Tensor: shape=(), dtype=float32, numpy=0.0931209>, <tf.Tensor: shape=(), dtype=float32, numpy=0.3804844>)\n",
      "\n",
      "(<tf.Tensor: shape=(), dtype=float32, numpy=-0.04468055>, <tf.Tensor: shape=(), dtype=float32, numpy=0.25159973>, <tf.Tensor: shape=(), dtype=float32, numpy=0.51976436>)\n",
      "\n",
      "(<tf.Tensor: shape=(), dtype=float32, numpy=-0.18316627>, <tf.Tensor: shape=(), dtype=float32, numpy=0.17523992>, <tf.Tensor: shape=(), dtype=float32, numpy=-0.19282871>)\n",
      "\n",
      "(<tf.Tensor: shape=(), dtype=float32, numpy=1.1375219>, <tf.Tensor: shape=(), dtype=float32, numpy=-0.31167877>, <tf.Tensor: shape=(), dtype=float32, numpy=-0.7132869>)\n",
      "\n",
      "(<tf.Tensor: shape=(), dtype=float32, numpy=0.10383238>, <tf.Tensor: shape=(), dtype=float32, numpy=-0.20632756>, <tf.Tensor: shape=(), dtype=float32, numpy=0.17226335>)\n",
      "\n",
      "(<tf.Tensor: shape=(), dtype=float32, numpy=0.07256591>, <tf.Tensor: shape=(), dtype=float32, numpy=0.44472206>, <tf.Tensor: shape=(), dtype=float32, numpy=0.60156345>)\n",
      "\n",
      "(<tf.Tensor: shape=(), dtype=float32, numpy=0.18260287>, <tf.Tensor: shape=(), dtype=float32, numpy=0.88441783>, <tf.Tensor: shape=(), dtype=float32, numpy=0.8609574>)\n",
      "\n",
      "(<tf.Tensor: shape=(), dtype=float32, numpy=-0.34685814>, <tf.Tensor: shape=(), dtype=float32, numpy=-0.49822804>, <tf.Tensor: shape=(), dtype=float32, numpy=-0.1667828>)\n",
      "\n",
      "(<tf.Tensor: shape=(), dtype=float32, numpy=0.1890083>, <tf.Tensor: shape=(), dtype=float32, numpy=-1.3030201>, <tf.Tensor: shape=(), dtype=float32, numpy=-0.8041891>)\n",
      "\n",
      "(<tf.Tensor: shape=(), dtype=float32, numpy=0.00035090744>, <tf.Tensor: shape=(), dtype=float32, numpy=0.33716258>, <tf.Tensor: shape=(), dtype=float32, numpy=0.45696574>)\n",
      "\n",
      "(<tf.Tensor: shape=(), dtype=float32, numpy=-0.9574258>, <tf.Tensor: shape=(), dtype=float32, numpy=-1.2882534>, <tf.Tensor: shape=(), dtype=float32, numpy=-1.3026491>)\n",
      "\n",
      "(<tf.Tensor: shape=(), dtype=float32, numpy=0.39973074>, <tf.Tensor: shape=(), dtype=float32, numpy=0.4002898>, <tf.Tensor: shape=(), dtype=float32, numpy=0.22119442>)\n",
      "\n",
      "(<tf.Tensor: shape=(), dtype=float32, numpy=-0.71473676>, <tf.Tensor: shape=(), dtype=float32, numpy=-0.3462771>, <tf.Tensor: shape=(), dtype=float32, numpy=-0.16554448>)\n",
      "\n",
      "(<tf.Tensor: shape=(), dtype=float32, numpy=-0.06534221>, <tf.Tensor: shape=(), dtype=float32, numpy=0.70879805>, <tf.Tensor: shape=(), dtype=float32, numpy=0.43046936>)\n",
      "\n",
      "(<tf.Tensor: shape=(), dtype=float32, numpy=-0.3566963>, <tf.Tensor: shape=(), dtype=float32, numpy=-0.5970497>, <tf.Tensor: shape=(), dtype=float32, numpy=0.16829614>)\n",
      "\n",
      "(<tf.Tensor: shape=(), dtype=float32, numpy=0.47440737>, <tf.Tensor: shape=(), dtype=float32, numpy=-0.35850763>, <tf.Tensor: shape=(), dtype=float32, numpy=0.2697752>)\n",
      "\n",
      "(<tf.Tensor: shape=(), dtype=float32, numpy=0.45222175>, <tf.Tensor: shape=(), dtype=float32, numpy=0.5743174>, <tf.Tensor: shape=(), dtype=float32, numpy=0.193038>)\n",
      "\n",
      "(<tf.Tensor: shape=(), dtype=float32, numpy=-0.12274678>, <tf.Tensor: shape=(), dtype=float32, numpy=-1.0826328>, <tf.Tensor: shape=(), dtype=float32, numpy=-0.064805895>)\n",
      "\n",
      "Mean squared error for step 70: 1.030\n",
      "(<tf.Tensor: shape=(), dtype=float32, numpy=0.15595591>, <tf.Tensor: shape=(), dtype=float32, numpy=0.52580225>, <tf.Tensor: shape=(), dtype=float32, numpy=0.62604773>)\n",
      "\n",
      "(<tf.Tensor: shape=(), dtype=float32, numpy=0.3352529>, <tf.Tensor: shape=(), dtype=float32, numpy=-0.107022956>, <tf.Tensor: shape=(), dtype=float32, numpy=-0.06992024>)\n",
      "\n",
      "(<tf.Tensor: shape=(), dtype=float32, numpy=0.1982934>, <tf.Tensor: shape=(), dtype=float32, numpy=0.56956095>, <tf.Tensor: shape=(), dtype=float32, numpy=0.35438463>)\n",
      "\n",
      "(<tf.Tensor: shape=(), dtype=float32, numpy=-0.0013973117>, <tf.Tensor: shape=(), dtype=float32, numpy=-0.11845267>, <tf.Tensor: shape=(), dtype=float32, numpy=-0.029611886>)\n",
      "\n",
      "(<tf.Tensor: shape=(), dtype=float32, numpy=-0.75887734>, <tf.Tensor: shape=(), dtype=float32, numpy=-0.4185226>, <tf.Tensor: shape=(), dtype=float32, numpy=-0.3981994>)\n",
      "\n",
      "(<tf.Tensor: shape=(), dtype=float32, numpy=-0.14837706>, <tf.Tensor: shape=(), dtype=float32, numpy=-0.3007426>, <tf.Tensor: shape=(), dtype=float32, numpy=0.4268026>)\n",
      "\n",
      "(<tf.Tensor: shape=(), dtype=float32, numpy=0.9232311>, <tf.Tensor: shape=(), dtype=float32, numpy=-0.52890545>, <tf.Tensor: shape=(), dtype=float32, numpy=0.32927346>)\n",
      "\n",
      "(<tf.Tensor: shape=(), dtype=float32, numpy=0.1566872>, <tf.Tensor: shape=(), dtype=float32, numpy=1.2418826>, <tf.Tensor: shape=(), dtype=float32, numpy=0.7431033>)\n",
      "\n",
      "(<tf.Tensor: shape=(), dtype=float32, numpy=-0.34543288>, <tf.Tensor: shape=(), dtype=float32, numpy=-0.32554424>, <tf.Tensor: shape=(), dtype=float32, numpy=0.051223457>)\n",
      "\n",
      "(<tf.Tensor: shape=(), dtype=float32, numpy=-0.19982824>, <tf.Tensor: shape=(), dtype=float32, numpy=-0.9701912>, <tf.Tensor: shape=(), dtype=float32, numpy=-0.21606196>)\n",
      "\n",
      "(<tf.Tensor: shape=(), dtype=float32, numpy=-0.30459976>, <tf.Tensor: shape=(), dtype=float32, numpy=0.45798564>, <tf.Tensor: shape=(), dtype=float32, numpy=0.13601209>)\n",
      "\n",
      "(<tf.Tensor: shape=(), dtype=float32, numpy=-0.117709145>, <tf.Tensor: shape=(), dtype=float32, numpy=-0.14049917>, <tf.Tensor: shape=(), dtype=float32, numpy=-0.09437829>)\n",
      "\n",
      "(<tf.Tensor: shape=(), dtype=float32, numpy=0.44603676>, <tf.Tensor: shape=(), dtype=float32, numpy=0.07964439>, <tf.Tensor: shape=(), dtype=float32, numpy=0.33035916>)\n",
      "\n",
      "(<tf.Tensor: shape=(), dtype=float32, numpy=1.5254008>, <tf.Tensor: shape=(), dtype=float32, numpy=-1.3117427>, <tf.Tensor: shape=(), dtype=float32, numpy=-0.08000259>)\n",
      "\n",
      "(<tf.Tensor: shape=(), dtype=float32, numpy=-0.22720255>, <tf.Tensor: shape=(), dtype=float32, numpy=0.4495793>, <tf.Tensor: shape=(), dtype=float32, numpy=0.61076003>)\n",
      "\n",
      "(<tf.Tensor: shape=(), dtype=float32, numpy=-0.41818196>, <tf.Tensor: shape=(), dtype=float32, numpy=-0.19666784>, <tf.Tensor: shape=(), dtype=float32, numpy=-0.16173622>)\n",
      "\n",
      "(<tf.Tensor: shape=(), dtype=float32, numpy=0.21442911>, <tf.Tensor: shape=(), dtype=float32, numpy=0.12136987>, <tf.Tensor: shape=(), dtype=float32, numpy=0.21623029>)\n",
      "\n",
      "(<tf.Tensor: shape=(), dtype=float32, numpy=-0.23758191>, <tf.Tensor: shape=(), dtype=float32, numpy=0.107145905>, <tf.Tensor: shape=(), dtype=float32, numpy=0.09367788>)\n",
      "\n",
      "(<tf.Tensor: shape=(), dtype=float32, numpy=0.171924>, <tf.Tensor: shape=(), dtype=float32, numpy=-0.2606638>, <tf.Tensor: shape=(), dtype=float32, numpy=-0.28385842>)\n",
      "\n",
      "(<tf.Tensor: shape=(), dtype=float32, numpy=-0.015083149>, <tf.Tensor: shape=(), dtype=float32, numpy=0.5165354>, <tf.Tensor: shape=(), dtype=float32, numpy=0.6876529>)\n",
      "\n",
      "(<tf.Tensor: shape=(), dtype=float32, numpy=1.4053923>, <tf.Tensor: shape=(), dtype=float32, numpy=-1.5036725>, <tf.Tensor: shape=(), dtype=float32, numpy=-0.52362806>)\n",
      "\n",
      "(<tf.Tensor: shape=(), dtype=float32, numpy=-0.42300543>, <tf.Tensor: shape=(), dtype=float32, numpy=0.12363001>, <tf.Tensor: shape=(), dtype=float32, numpy=0.49553144>)\n",
      "\n",
      "(<tf.Tensor: shape=(), dtype=float32, numpy=-0.45928514>, <tf.Tensor: shape=(), dtype=float32, numpy=0.41879556>, <tf.Tensor: shape=(), dtype=float32, numpy=0.67134005>)\n",
      "\n",
      "(<tf.Tensor: shape=(), dtype=float32, numpy=0.32919368>, <tf.Tensor: shape=(), dtype=float32, numpy=0.15140073>, <tf.Tensor: shape=(), dtype=float32, numpy=0.323462>)\n",
      "\n",
      "(<tf.Tensor: shape=(), dtype=float32, numpy=0.31956345>, <tf.Tensor: shape=(), dtype=float32, numpy=-0.05635278>, <tf.Tensor: shape=(), dtype=float32, numpy=-0.46052507>)\n",
      "\n",
      "(<tf.Tensor: shape=(), dtype=float32, numpy=-0.32480225>, <tf.Tensor: shape=(), dtype=float32, numpy=0.087576136>, <tf.Tensor: shape=(), dtype=float32, numpy=0.0956645>)\n",
      "\n",
      "(<tf.Tensor: shape=(), dtype=float32, numpy=0.36629763>, <tf.Tensor: shape=(), dtype=float32, numpy=-0.11635944>, <tf.Tensor: shape=(), dtype=float32, numpy=-0.002625838>)\n",
      "\n",
      "(<tf.Tensor: shape=(), dtype=float32, numpy=-0.27129257>, <tf.Tensor: shape=(), dtype=float32, numpy=-0.7542453>, <tf.Tensor: shape=(), dtype=float32, numpy=-0.4639993>)\n",
      "\n",
      "(<tf.Tensor: shape=(), dtype=float32, numpy=0.10357429>, <tf.Tensor: shape=(), dtype=float32, numpy=-0.6959793>, <tf.Tensor: shape=(), dtype=float32, numpy=-0.08299939>)\n",
      "\n",
      "(<tf.Tensor: shape=(), dtype=float32, numpy=-0.01578693>, <tf.Tensor: shape=(), dtype=float32, numpy=0.33355764>, <tf.Tensor: shape=(), dtype=float32, numpy=-0.04009889>)\n",
      "\n",
      "(<tf.Tensor: shape=(), dtype=float32, numpy=-0.052055806>, <tf.Tensor: shape=(), dtype=float32, numpy=0.9091996>, <tf.Tensor: shape=(), dtype=float32, numpy=0.62920094>)\n",
      "\n",
      "(<tf.Tensor: shape=(), dtype=float32, numpy=0.11201872>, <tf.Tensor: shape=(), dtype=float32, numpy=0.5697748>, <tf.Tensor: shape=(), dtype=float32, numpy=0.7240337>)\n",
      "\n",
      "(<tf.Tensor: shape=(), dtype=float32, numpy=-0.33721733>, <tf.Tensor: shape=(), dtype=float32, numpy=-1.6309237>, <tf.Tensor: shape=(), dtype=float32, numpy=-0.45268962>)\n",
      "\n",
      "(<tf.Tensor: shape=(), dtype=float32, numpy=-0.14830819>, <tf.Tensor: shape=(), dtype=float32, numpy=0.88039076>, <tf.Tensor: shape=(), dtype=float32, numpy=0.34519255>)\n",
      "\n",
      "(<tf.Tensor: shape=(), dtype=float32, numpy=0.26792955>, <tf.Tensor: shape=(), dtype=float32, numpy=0.9383962>, <tf.Tensor: shape=(), dtype=float32, numpy=-0.17235327>)\n",
      "\n",
      "(<tf.Tensor: shape=(), dtype=float32, numpy=0.06649275>, <tf.Tensor: shape=(), dtype=float32, numpy=-0.42277646>, <tf.Tensor: shape=(), dtype=float32, numpy=-0.01386565>)\n",
      "\n",
      "(<tf.Tensor: shape=(), dtype=float32, numpy=-0.37421104>, <tf.Tensor: shape=(), dtype=float32, numpy=-0.6345538>, <tf.Tensor: shape=(), dtype=float32, numpy=-0.06918432>)\n",
      "\n",
      "(<tf.Tensor: shape=(), dtype=float32, numpy=0.4487324>, <tf.Tensor: shape=(), dtype=float32, numpy=0.69581616>, <tf.Tensor: shape=(), dtype=float32, numpy=-0.12145868>)\n",
      "\n",
      "(<tf.Tensor: shape=(), dtype=float32, numpy=0.098390594>, <tf.Tensor: shape=(), dtype=float32, numpy=-0.6226481>, <tf.Tensor: shape=(), dtype=float32, numpy=-0.3582921>)\n",
      "\n",
      "(<tf.Tensor: shape=(), dtype=float32, numpy=-0.35213786>, <tf.Tensor: shape=(), dtype=float32, numpy=1.1250001>, <tf.Tensor: shape=(), dtype=float32, numpy=0.74051857>)\n",
      "\n",
      "(<tf.Tensor: shape=(), dtype=float32, numpy=-0.043327115>, <tf.Tensor: shape=(), dtype=float32, numpy=0.31999093>, <tf.Tensor: shape=(), dtype=float32, numpy=0.60933983>)\n",
      "\n",
      "(<tf.Tensor: shape=(), dtype=float32, numpy=-0.24094202>, <tf.Tensor: shape=(), dtype=float32, numpy=-0.9806525>, <tf.Tensor: shape=(), dtype=float32, numpy=0.29302877>)\n",
      "\n",
      "(<tf.Tensor: shape=(), dtype=float32, numpy=-0.3371631>, <tf.Tensor: shape=(), dtype=float32, numpy=-0.29525977>, <tf.Tensor: shape=(), dtype=float32, numpy=0.09114042>)\n",
      "\n",
      "(<tf.Tensor: shape=(), dtype=float32, numpy=0.66698116>, <tf.Tensor: shape=(), dtype=float32, numpy=-0.6430336>, <tf.Tensor: shape=(), dtype=float32, numpy=-0.22280774>)\n",
      "\n",
      "(<tf.Tensor: shape=(), dtype=float32, numpy=-0.9138388>, <tf.Tensor: shape=(), dtype=float32, numpy=0.16371042>, <tf.Tensor: shape=(), dtype=float32, numpy=-0.029568076>)\n",
      "\n",
      "(<tf.Tensor: shape=(), dtype=float32, numpy=0.6164701>, <tf.Tensor: shape=(), dtype=float32, numpy=1.0628448>, <tf.Tensor: shape=(), dtype=float32, numpy=0.8053707>)\n",
      "\n",
      "(<tf.Tensor: shape=(), dtype=float32, numpy=0.20459001>, <tf.Tensor: shape=(), dtype=float32, numpy=-0.72455525>, <tf.Tensor: shape=(), dtype=float32, numpy=-0.53663146>)\n",
      "\n",
      "(<tf.Tensor: shape=(), dtype=float32, numpy=-0.43220812>, <tf.Tensor: shape=(), dtype=float32, numpy=0.45231012>, <tf.Tensor: shape=(), dtype=float32, numpy=0.4722711>)\n",
      "\n",
      "(<tf.Tensor: shape=(), dtype=float32, numpy=-0.017959073>, <tf.Tensor: shape=(), dtype=float32, numpy=0.32725975>, <tf.Tensor: shape=(), dtype=float32, numpy=0.69201654>)\n",
      "\n",
      "(<tf.Tensor: shape=(), dtype=float32, numpy=0.038024068>, <tf.Tensor: shape=(), dtype=float32, numpy=0.53463906>, <tf.Tensor: shape=(), dtype=float32, numpy=0.34696147>)\n",
      "\n",
      "(<tf.Tensor: shape=(), dtype=float32, numpy=-0.32130235>, <tf.Tensor: shape=(), dtype=float32, numpy=-0.018546581>, <tf.Tensor: shape=(), dtype=float32, numpy=0.042018473>)\n",
      "\n",
      "(<tf.Tensor: shape=(), dtype=float32, numpy=0.16568108>, <tf.Tensor: shape=(), dtype=float32, numpy=-0.6562495>, <tf.Tensor: shape=(), dtype=float32, numpy=-0.35171664>)\n",
      "\n",
      "(<tf.Tensor: shape=(), dtype=float32, numpy=-0.31599063>, <tf.Tensor: shape=(), dtype=float32, numpy=-0.29771113>, <tf.Tensor: shape=(), dtype=float32, numpy=0.25204757>)\n",
      "\n",
      "(<tf.Tensor: shape=(), dtype=float32, numpy=0.13410386>, <tf.Tensor: shape=(), dtype=float32, numpy=-0.4946624>, <tf.Tensor: shape=(), dtype=float32, numpy=-0.018006086>)\n",
      "\n",
      "(<tf.Tensor: shape=(), dtype=float32, numpy=0.35999474>, <tf.Tensor: shape=(), dtype=float32, numpy=0.54255307>, <tf.Tensor: shape=(), dtype=float32, numpy=0.21234721>)\n",
      "\n",
      "(<tf.Tensor: shape=(), dtype=float32, numpy=-0.5987869>, <tf.Tensor: shape=(), dtype=float32, numpy=0.2949535>, <tf.Tensor: shape=(), dtype=float32, numpy=0.10367777>)\n",
      "\n",
      "(<tf.Tensor: shape=(), dtype=float32, numpy=0.5354383>, <tf.Tensor: shape=(), dtype=float32, numpy=-0.030114114>, <tf.Tensor: shape=(), dtype=float32, numpy=0.2928024>)\n",
      "\n",
      "(<tf.Tensor: shape=(), dtype=float32, numpy=0.6379452>, <tf.Tensor: shape=(), dtype=float32, numpy=0.10548785>, <tf.Tensor: shape=(), dtype=float32, numpy=0.13736537>)\n",
      "\n",
      "(<tf.Tensor: shape=(), dtype=float32, numpy=-0.27575952>, <tf.Tensor: shape=(), dtype=float32, numpy=-0.2511044>, <tf.Tensor: shape=(), dtype=float32, numpy=-0.11351606>)\n",
      "\n",
      "(<tf.Tensor: shape=(), dtype=float32, numpy=-0.32838017>, <tf.Tensor: shape=(), dtype=float32, numpy=-0.12412955>, <tf.Tensor: shape=(), dtype=float32, numpy=0.03430356>)\n",
      "\n",
      "(<tf.Tensor: shape=(), dtype=float32, numpy=-0.22379619>, <tf.Tensor: shape=(), dtype=float32, numpy=-0.44637603>, <tf.Tensor: shape=(), dtype=float32, numpy=-0.0138013065>)\n",
      "\n",
      "(<tf.Tensor: shape=(), dtype=float32, numpy=-0.20673227>, <tf.Tensor: shape=(), dtype=float32, numpy=0.9310005>, <tf.Tensor: shape=(), dtype=float32, numpy=0.40991023>)\n",
      "\n",
      "(<tf.Tensor: shape=(), dtype=float32, numpy=-1.0743608>, <tf.Tensor: shape=(), dtype=float32, numpy=-1.9726703>, <tf.Tensor: shape=(), dtype=float32, numpy=-1.0387149>)\n",
      "\n",
      "(<tf.Tensor: shape=(), dtype=float32, numpy=-0.33957338>, <tf.Tensor: shape=(), dtype=float32, numpy=0.16986293>, <tf.Tensor: shape=(), dtype=float32, numpy=-0.22633934>)\n",
      "\n",
      "(<tf.Tensor: shape=(), dtype=float32, numpy=0.52955747>, <tf.Tensor: shape=(), dtype=float32, numpy=0.5836283>, <tf.Tensor: shape=(), dtype=float32, numpy=0.40390784>)\n",
      "\n",
      "(<tf.Tensor: shape=(), dtype=float32, numpy=-0.229051>, <tf.Tensor: shape=(), dtype=float32, numpy=-0.23174891>, <tf.Tensor: shape=(), dtype=float32, numpy=-0.16431081>)\n",
      "\n",
      "(<tf.Tensor: shape=(), dtype=float32, numpy=-0.35044762>, <tf.Tensor: shape=(), dtype=float32, numpy=0.35832235>, <tf.Tensor: shape=(), dtype=float32, numpy=0.77208555>)\n",
      "\n",
      "(<tf.Tensor: shape=(), dtype=float32, numpy=0.18988222>, <tf.Tensor: shape=(), dtype=float32, numpy=-0.60966706>, <tf.Tensor: shape=(), dtype=float32, numpy=-0.21400341>)\n",
      "\n",
      "(<tf.Tensor: shape=(), dtype=float32, numpy=0.5627518>, <tf.Tensor: shape=(), dtype=float32, numpy=-0.09685366>, <tf.Tensor: shape=(), dtype=float32, numpy=0.17776798>)\n",
      "\n",
      "(<tf.Tensor: shape=(), dtype=float32, numpy=-0.87073374>, <tf.Tensor: shape=(), dtype=float32, numpy=0.048847765>, <tf.Tensor: shape=(), dtype=float32, numpy=-0.16323331>)\n",
      "\n",
      "Mean squared error for step 80: 1.020\n",
      "(<tf.Tensor: shape=(), dtype=float32, numpy=0.116292834>, <tf.Tensor: shape=(), dtype=float32, numpy=0.1416822>, <tf.Tensor: shape=(), dtype=float32, numpy=-0.12826316>)\n",
      "\n",
      "(<tf.Tensor: shape=(), dtype=float32, numpy=0.3699753>, <tf.Tensor: shape=(), dtype=float32, numpy=0.24631315>, <tf.Tensor: shape=(), dtype=float32, numpy=0.42833924>)\n",
      "\n",
      "(<tf.Tensor: shape=(), dtype=float32, numpy=-0.6350745>, <tf.Tensor: shape=(), dtype=float32, numpy=-0.009557009>, <tf.Tensor: shape=(), dtype=float32, numpy=-0.12216776>)\n",
      "\n",
      "(<tf.Tensor: shape=(), dtype=float32, numpy=-0.56166077>, <tf.Tensor: shape=(), dtype=float32, numpy=0.056102782>, <tf.Tensor: shape=(), dtype=float32, numpy=0.6110248>)\n",
      "\n",
      "(<tf.Tensor: shape=(), dtype=float32, numpy=1.2983319>, <tf.Tensor: shape=(), dtype=float32, numpy=-0.797697>, <tf.Tensor: shape=(), dtype=float32, numpy=-0.12671031>)\n",
      "\n",
      "(<tf.Tensor: shape=(), dtype=float32, numpy=-0.23682952>, <tf.Tensor: shape=(), dtype=float32, numpy=0.52945125>, <tf.Tensor: shape=(), dtype=float32, numpy=0.10171328>)\n",
      "\n",
      "(<tf.Tensor: shape=(), dtype=float32, numpy=-0.6406404>, <tf.Tensor: shape=(), dtype=float32, numpy=-0.28136522>, <tf.Tensor: shape=(), dtype=float32, numpy=-0.48865372>)\n",
      "\n",
      "(<tf.Tensor: shape=(), dtype=float32, numpy=0.10460797>, <tf.Tensor: shape=(), dtype=float32, numpy=-0.34756285>, <tf.Tensor: shape=(), dtype=float32, numpy=0.040193312>)\n",
      "\n",
      "(<tf.Tensor: shape=(), dtype=float32, numpy=0.52023417>, <tf.Tensor: shape=(), dtype=float32, numpy=-0.3749287>, <tf.Tensor: shape=(), dtype=float32, numpy=-0.35544568>)\n",
      "\n",
      "(<tf.Tensor: shape=(), dtype=float32, numpy=-0.1307973>, <tf.Tensor: shape=(), dtype=float32, numpy=-0.029654652>, <tf.Tensor: shape=(), dtype=float32, numpy=0.11615822>)\n",
      "\n",
      "(<tf.Tensor: shape=(), dtype=float32, numpy=0.20535773>, <tf.Tensor: shape=(), dtype=float32, numpy=0.07080826>, <tf.Tensor: shape=(), dtype=float32, numpy=0.45735613>)\n",
      "\n",
      "(<tf.Tensor: shape=(), dtype=float32, numpy=-0.080584764>, <tf.Tensor: shape=(), dtype=float32, numpy=0.75632113>, <tf.Tensor: shape=(), dtype=float32, numpy=0.31637847>)\n",
      "\n",
      "(<tf.Tensor: shape=(), dtype=float32, numpy=-0.5278901>, <tf.Tensor: shape=(), dtype=float32, numpy=0.3862961>, <tf.Tensor: shape=(), dtype=float32, numpy=0.16787624>)\n",
      "\n",
      "(<tf.Tensor: shape=(), dtype=float32, numpy=0.30530986>, <tf.Tensor: shape=(), dtype=float32, numpy=-0.5019187>, <tf.Tensor: shape=(), dtype=float32, numpy=-0.06011635>)\n",
      "\n",
      "(<tf.Tensor: shape=(), dtype=float32, numpy=-0.16258678>, <tf.Tensor: shape=(), dtype=float32, numpy=-0.9221202>, <tf.Tensor: shape=(), dtype=float32, numpy=-0.44280642>)\n",
      "\n",
      "(<tf.Tensor: shape=(), dtype=float32, numpy=0.32194462>, <tf.Tensor: shape=(), dtype=float32, numpy=1.2495512>, <tf.Tensor: shape=(), dtype=float32, numpy=0.79930925>)\n",
      "\n",
      "(<tf.Tensor: shape=(), dtype=float32, numpy=0.05386646>, <tf.Tensor: shape=(), dtype=float32, numpy=0.2771641>, <tf.Tensor: shape=(), dtype=float32, numpy=0.009405926>)\n",
      "\n",
      "(<tf.Tensor: shape=(), dtype=float32, numpy=-0.02620387>, <tf.Tensor: shape=(), dtype=float32, numpy=0.5245562>, <tf.Tensor: shape=(), dtype=float32, numpy=0.66340697>)\n",
      "\n",
      "(<tf.Tensor: shape=(), dtype=float32, numpy=0.06849535>, <tf.Tensor: shape=(), dtype=float32, numpy=-0.25530386>, <tf.Tensor: shape=(), dtype=float32, numpy=-0.09321818>)\n",
      "\n",
      "(<tf.Tensor: shape=(), dtype=float32, numpy=-0.6035432>, <tf.Tensor: shape=(), dtype=float32, numpy=-0.6187601>, <tf.Tensor: shape=(), dtype=float32, numpy=-0.6396899>)\n",
      "\n",
      "(<tf.Tensor: shape=(), dtype=float32, numpy=1.721794>, <tf.Tensor: shape=(), dtype=float32, numpy=-1.1512178>, <tf.Tensor: shape=(), dtype=float32, numpy=0.72256726>)\n",
      "\n",
      "(<tf.Tensor: shape=(), dtype=float32, numpy=0.7686378>, <tf.Tensor: shape=(), dtype=float32, numpy=0.7526823>, <tf.Tensor: shape=(), dtype=float32, numpy=0.61456615>)\n",
      "\n",
      "(<tf.Tensor: shape=(), dtype=float32, numpy=-0.54527926>, <tf.Tensor: shape=(), dtype=float32, numpy=-0.3226837>, <tf.Tensor: shape=(), dtype=float32, numpy=0.31777292>)\n",
      "\n",
      "(<tf.Tensor: shape=(), dtype=float32, numpy=-0.25277597>, <tf.Tensor: shape=(), dtype=float32, numpy=-0.45797625>, <tf.Tensor: shape=(), dtype=float32, numpy=0.015496507>)\n",
      "\n",
      "(<tf.Tensor: shape=(), dtype=float32, numpy=-0.044609632>, <tf.Tensor: shape=(), dtype=float32, numpy=-0.07465329>, <tf.Tensor: shape=(), dtype=float32, numpy=-0.119501755>)\n",
      "\n",
      "(<tf.Tensor: shape=(), dtype=float32, numpy=0.35503852>, <tf.Tensor: shape=(), dtype=float32, numpy=0.4119923>, <tf.Tensor: shape=(), dtype=float32, numpy=-0.050069526>)\n",
      "\n",
      "(<tf.Tensor: shape=(), dtype=float32, numpy=-0.4792436>, <tf.Tensor: shape=(), dtype=float32, numpy=0.13718024>, <tf.Tensor: shape=(), dtype=float32, numpy=-0.13949789>)\n",
      "\n",
      "(<tf.Tensor: shape=(), dtype=float32, numpy=0.33661765>, <tf.Tensor: shape=(), dtype=float32, numpy=-1.2592812>, <tf.Tensor: shape=(), dtype=float32, numpy=-0.5078429>)\n",
      "\n",
      "(<tf.Tensor: shape=(), dtype=float32, numpy=-0.24673298>, <tf.Tensor: shape=(), dtype=float32, numpy=-0.22045767>, <tf.Tensor: shape=(), dtype=float32, numpy=-0.43112782>)\n",
      "\n",
      "(<tf.Tensor: shape=(), dtype=float32, numpy=-0.5415746>, <tf.Tensor: shape=(), dtype=float32, numpy=0.29214123>, <tf.Tensor: shape=(), dtype=float32, numpy=0.31849992>)\n",
      "\n",
      "(<tf.Tensor: shape=(), dtype=float32, numpy=-0.3507222>, <tf.Tensor: shape=(), dtype=float32, numpy=-0.30100614>, <tf.Tensor: shape=(), dtype=float32, numpy=-0.34277448>)\n",
      "\n",
      "(<tf.Tensor: shape=(), dtype=float32, numpy=-0.17171419>, <tf.Tensor: shape=(), dtype=float32, numpy=0.12615627>, <tf.Tensor: shape=(), dtype=float32, numpy=0.12642905>)\n",
      "\n",
      "(<tf.Tensor: shape=(), dtype=float32, numpy=0.34000278>, <tf.Tensor: shape=(), dtype=float32, numpy=-0.08157343>, <tf.Tensor: shape=(), dtype=float32, numpy=0.6774674>)\n",
      "\n",
      "(<tf.Tensor: shape=(), dtype=float32, numpy=0.5839461>, <tf.Tensor: shape=(), dtype=float32, numpy=1.1426265>, <tf.Tensor: shape=(), dtype=float32, numpy=0.6616856>)\n",
      "\n",
      "(<tf.Tensor: shape=(), dtype=float32, numpy=1.4876856>, <tf.Tensor: shape=(), dtype=float32, numpy=-0.9919018>, <tf.Tensor: shape=(), dtype=float32, numpy=-0.83314633>)\n",
      "\n",
      "(<tf.Tensor: shape=(), dtype=float32, numpy=0.22276977>, <tf.Tensor: shape=(), dtype=float32, numpy=-0.52540916>, <tf.Tensor: shape=(), dtype=float32, numpy=-0.28930032>)\n",
      "\n",
      "(<tf.Tensor: shape=(), dtype=float32, numpy=0.13860583>, <tf.Tensor: shape=(), dtype=float32, numpy=0.37146696>, <tf.Tensor: shape=(), dtype=float32, numpy=0.3417955>)\n",
      "\n",
      "(<tf.Tensor: shape=(), dtype=float32, numpy=-0.39445347>, <tf.Tensor: shape=(), dtype=float32, numpy=-0.00757356>, <tf.Tensor: shape=(), dtype=float32, numpy=0.14269194>)\n",
      "\n",
      "(<tf.Tensor: shape=(), dtype=float32, numpy=-0.4818014>, <tf.Tensor: shape=(), dtype=float32, numpy=0.4398117>, <tf.Tensor: shape=(), dtype=float32, numpy=0.6673808>)\n",
      "\n",
      "(<tf.Tensor: shape=(), dtype=float32, numpy=-0.31798017>, <tf.Tensor: shape=(), dtype=float32, numpy=0.90144014>, <tf.Tensor: shape=(), dtype=float32, numpy=0.369191>)\n",
      "\n",
      "(<tf.Tensor: shape=(), dtype=float32, numpy=0.5972985>, <tf.Tensor: shape=(), dtype=float32, numpy=-0.41351426>, <tf.Tensor: shape=(), dtype=float32, numpy=-0.5015946>)\n",
      "\n",
      "(<tf.Tensor: shape=(), dtype=float32, numpy=-0.07944201>, <tf.Tensor: shape=(), dtype=float32, numpy=-1.0388484>, <tf.Tensor: shape=(), dtype=float32, numpy=-0.25490308>)\n",
      "\n",
      "(<tf.Tensor: shape=(), dtype=float32, numpy=-0.17397985>, <tf.Tensor: shape=(), dtype=float32, numpy=0.29887247>, <tf.Tensor: shape=(), dtype=float32, numpy=0.5043882>)\n",
      "\n",
      "(<tf.Tensor: shape=(), dtype=float32, numpy=-0.059290994>, <tf.Tensor: shape=(), dtype=float32, numpy=0.5129434>, <tf.Tensor: shape=(), dtype=float32, numpy=0.26754376>)\n",
      "\n",
      "(<tf.Tensor: shape=(), dtype=float32, numpy=-0.29955402>, <tf.Tensor: shape=(), dtype=float32, numpy=0.71104753>, <tf.Tensor: shape=(), dtype=float32, numpy=-0.0009184629>)\n",
      "\n",
      "(<tf.Tensor: shape=(), dtype=float32, numpy=-0.31854433>, <tf.Tensor: shape=(), dtype=float32, numpy=-0.7185501>, <tf.Tensor: shape=(), dtype=float32, numpy=-0.27439958>)\n",
      "\n",
      "(<tf.Tensor: shape=(), dtype=float32, numpy=0.30059674>, <tf.Tensor: shape=(), dtype=float32, numpy=-0.6872959>, <tf.Tensor: shape=(), dtype=float32, numpy=-0.3817891>)\n",
      "\n",
      "(<tf.Tensor: shape=(), dtype=float32, numpy=0.44499665>, <tf.Tensor: shape=(), dtype=float32, numpy=0.49529815>, <tf.Tensor: shape=(), dtype=float32, numpy=0.67491865>)\n",
      "\n",
      "(<tf.Tensor: shape=(), dtype=float32, numpy=-0.26694378>, <tf.Tensor: shape=(), dtype=float32, numpy=-1.0027307>, <tf.Tensor: shape=(), dtype=float32, numpy=-0.80759776>)\n",
      "\n",
      "(<tf.Tensor: shape=(), dtype=float32, numpy=0.3966388>, <tf.Tensor: shape=(), dtype=float32, numpy=0.35392922>, <tf.Tensor: shape=(), dtype=float32, numpy=0.3649293>)\n",
      "\n",
      "(<tf.Tensor: shape=(), dtype=float32, numpy=0.33803117>, <tf.Tensor: shape=(), dtype=float32, numpy=0.13925768>, <tf.Tensor: shape=(), dtype=float32, numpy=0.24760164>)\n",
      "\n",
      "(<tf.Tensor: shape=(), dtype=float32, numpy=-0.5610169>, <tf.Tensor: shape=(), dtype=float32, numpy=0.26215833>, <tf.Tensor: shape=(), dtype=float32, numpy=0.022226214>)\n",
      "\n",
      "(<tf.Tensor: shape=(), dtype=float32, numpy=-0.83784395>, <tf.Tensor: shape=(), dtype=float32, numpy=0.07909134>, <tf.Tensor: shape=(), dtype=float32, numpy=0.109733194>)\n",
      "\n",
      "(<tf.Tensor: shape=(), dtype=float32, numpy=0.15124366>, <tf.Tensor: shape=(), dtype=float32, numpy=-0.15872505>, <tf.Tensor: shape=(), dtype=float32, numpy=0.07761593>)\n",
      "\n",
      "(<tf.Tensor: shape=(), dtype=float32, numpy=0.5761725>, <tf.Tensor: shape=(), dtype=float32, numpy=0.24882229>, <tf.Tensor: shape=(), dtype=float32, numpy=0.038982898>)\n",
      "\n",
      "(<tf.Tensor: shape=(), dtype=float32, numpy=-0.86890095>, <tf.Tensor: shape=(), dtype=float32, numpy=-1.5638615>, <tf.Tensor: shape=(), dtype=float32, numpy=-0.8207079>)\n",
      "\n",
      "(<tf.Tensor: shape=(), dtype=float32, numpy=-0.08084732>, <tf.Tensor: shape=(), dtype=float32, numpy=-0.307535>, <tf.Tensor: shape=(), dtype=float32, numpy=0.35562688>)\n",
      "\n",
      "(<tf.Tensor: shape=(), dtype=float32, numpy=0.28202298>, <tf.Tensor: shape=(), dtype=float32, numpy=0.07939261>, <tf.Tensor: shape=(), dtype=float32, numpy=-0.32332665>)\n",
      "\n",
      "(<tf.Tensor: shape=(), dtype=float32, numpy=0.1522347>, <tf.Tensor: shape=(), dtype=float32, numpy=-0.18661356>, <tf.Tensor: shape=(), dtype=float32, numpy=-0.32238027>)\n",
      "\n",
      "(<tf.Tensor: shape=(), dtype=float32, numpy=0.25108755>, <tf.Tensor: shape=(), dtype=float32, numpy=1.473341>, <tf.Tensor: shape=(), dtype=float32, numpy=0.8155811>)\n",
      "\n",
      "(<tf.Tensor: shape=(), dtype=float32, numpy=-0.0139635205>, <tf.Tensor: shape=(), dtype=float32, numpy=0.8702722>, <tf.Tensor: shape=(), dtype=float32, numpy=0.6844812>)\n",
      "\n",
      "(<tf.Tensor: shape=(), dtype=float32, numpy=-0.50919896>, <tf.Tensor: shape=(), dtype=float32, numpy=-1.2960657>, <tf.Tensor: shape=(), dtype=float32, numpy=-0.62531483>)\n",
      "\n",
      "(<tf.Tensor: shape=(), dtype=float32, numpy=-0.43561238>, <tf.Tensor: shape=(), dtype=float32, numpy=0.68426895>, <tf.Tensor: shape=(), dtype=float32, numpy=0.6893233>)\n",
      "\n",
      "(<tf.Tensor: shape=(), dtype=float32, numpy=-0.07455625>, <tf.Tensor: shape=(), dtype=float32, numpy=0.5362686>, <tf.Tensor: shape=(), dtype=float32, numpy=0.2818124>)\n",
      "\n",
      "(<tf.Tensor: shape=(), dtype=float32, numpy=0.6707804>, <tf.Tensor: shape=(), dtype=float32, numpy=-0.45608762>, <tf.Tensor: shape=(), dtype=float32, numpy=0.043118447>)\n",
      "\n",
      "(<tf.Tensor: shape=(), dtype=float32, numpy=-0.2425318>, <tf.Tensor: shape=(), dtype=float32, numpy=0.7537989>, <tf.Tensor: shape=(), dtype=float32, numpy=0.2080619>)\n",
      "\n",
      "(<tf.Tensor: shape=(), dtype=float32, numpy=0.16333121>, <tf.Tensor: shape=(), dtype=float32, numpy=0.35413808>, <tf.Tensor: shape=(), dtype=float32, numpy=0.3982535>)\n",
      "\n",
      "(<tf.Tensor: shape=(), dtype=float32, numpy=0.13290899>, <tf.Tensor: shape=(), dtype=float32, numpy=0.0059930384>, <tf.Tensor: shape=(), dtype=float32, numpy=-0.028604448>)\n",
      "\n",
      "(<tf.Tensor: shape=(), dtype=float32, numpy=-0.44250727>, <tf.Tensor: shape=(), dtype=float32, numpy=-1.0217441>, <tf.Tensor: shape=(), dtype=float32, numpy=-0.48256767>)\n",
      "\n",
      "(<tf.Tensor: shape=(), dtype=float32, numpy=-0.8235218>, <tf.Tensor: shape=(), dtype=float32, numpy=-0.7975691>, <tf.Tensor: shape=(), dtype=float32, numpy=-0.3003247>)\n",
      "\n",
      "Mean squared error for step 90: 1.018\n",
      "(<tf.Tensor: shape=(), dtype=float32, numpy=0.3676494>, <tf.Tensor: shape=(), dtype=float32, numpy=0.26873964>, <tf.Tensor: shape=(), dtype=float32, numpy=0.14511043>)\n",
      "\n",
      "(<tf.Tensor: shape=(), dtype=float32, numpy=0.22362933>, <tf.Tensor: shape=(), dtype=float32, numpy=0.06627864>, <tf.Tensor: shape=(), dtype=float32, numpy=-0.18855193>)\n",
      "\n",
      "(<tf.Tensor: shape=(), dtype=float32, numpy=-0.38787508>, <tf.Tensor: shape=(), dtype=float32, numpy=0.17137587>, <tf.Tensor: shape=(), dtype=float32, numpy=0.3401934>)\n",
      "\n",
      "(<tf.Tensor: shape=(), dtype=float32, numpy=0.08769183>, <tf.Tensor: shape=(), dtype=float32, numpy=-0.12507421>, <tf.Tensor: shape=(), dtype=float32, numpy=0.00694222>)\n",
      "\n",
      "(<tf.Tensor: shape=(), dtype=float32, numpy=-0.18569031>, <tf.Tensor: shape=(), dtype=float32, numpy=-0.10639885>, <tf.Tensor: shape=(), dtype=float32, numpy=0.23046727>)\n",
      "\n",
      "(<tf.Tensor: shape=(), dtype=float32, numpy=0.07736501>, <tf.Tensor: shape=(), dtype=float32, numpy=0.30897474>, <tf.Tensor: shape=(), dtype=float32, numpy=0.23847592>)\n",
      "\n",
      "(<tf.Tensor: shape=(), dtype=float32, numpy=-0.30965692>, <tf.Tensor: shape=(), dtype=float32, numpy=-0.807071>, <tf.Tensor: shape=(), dtype=float32, numpy=-0.93742806>)\n",
      "\n",
      "(<tf.Tensor: shape=(), dtype=float32, numpy=-0.035422698>, <tf.Tensor: shape=(), dtype=float32, numpy=1.1639644>, <tf.Tensor: shape=(), dtype=float32, numpy=0.20147634>)\n",
      "\n",
      "(<tf.Tensor: shape=(), dtype=float32, numpy=-0.062399745>, <tf.Tensor: shape=(), dtype=float32, numpy=-0.04730439>, <tf.Tensor: shape=(), dtype=float32, numpy=0.098788604>)\n",
      "\n",
      "(<tf.Tensor: shape=(), dtype=float32, numpy=0.6387443>, <tf.Tensor: shape=(), dtype=float32, numpy=0.8115907>, <tf.Tensor: shape=(), dtype=float32, numpy=0.57653475>)\n",
      "\n",
      "(<tf.Tensor: shape=(), dtype=float32, numpy=0.4943211>, <tf.Tensor: shape=(), dtype=float32, numpy=-1.3527353>, <tf.Tensor: shape=(), dtype=float32, numpy=-0.47993562>)\n",
      "\n",
      "(<tf.Tensor: shape=(), dtype=float32, numpy=-0.0746948>, <tf.Tensor: shape=(), dtype=float32, numpy=-0.31919897>, <tf.Tensor: shape=(), dtype=float32, numpy=-0.013600439>)\n",
      "\n",
      "(<tf.Tensor: shape=(), dtype=float32, numpy=-0.8743792>, <tf.Tensor: shape=(), dtype=float32, numpy=-0.121435195>, <tf.Tensor: shape=(), dtype=float32, numpy=-0.1259823>)\n",
      "\n",
      "(<tf.Tensor: shape=(), dtype=float32, numpy=0.14412592>, <tf.Tensor: shape=(), dtype=float32, numpy=0.35467038>, <tf.Tensor: shape=(), dtype=float32, numpy=0.7294476>)\n",
      "\n",
      "(<tf.Tensor: shape=(), dtype=float32, numpy=-0.40341103>, <tf.Tensor: shape=(), dtype=float32, numpy=0.2319518>, <tf.Tensor: shape=(), dtype=float32, numpy=0.1693251>)\n",
      "\n",
      "(<tf.Tensor: shape=(), dtype=float32, numpy=0.09924806>, <tf.Tensor: shape=(), dtype=float32, numpy=-0.2905782>, <tf.Tensor: shape=(), dtype=float32, numpy=-0.021357417>)\n",
      "\n",
      "(<tf.Tensor: shape=(), dtype=float32, numpy=-0.078228585>, <tf.Tensor: shape=(), dtype=float32, numpy=0.07733138>, <tf.Tensor: shape=(), dtype=float32, numpy=0.08791551>)\n",
      "\n",
      "(<tf.Tensor: shape=(), dtype=float32, numpy=-0.08913074>, <tf.Tensor: shape=(), dtype=float32, numpy=0.37600613>, <tf.Tensor: shape=(), dtype=float32, numpy=0.0031752884>)\n",
      "\n",
      "(<tf.Tensor: shape=(), dtype=float32, numpy=-0.11768772>, <tf.Tensor: shape=(), dtype=float32, numpy=-0.7839285>, <tf.Tensor: shape=(), dtype=float32, numpy=-0.2877678>)\n",
      "\n",
      "(<tf.Tensor: shape=(), dtype=float32, numpy=0.51760954>, <tf.Tensor: shape=(), dtype=float32, numpy=0.47114915>, <tf.Tensor: shape=(), dtype=float32, numpy=0.29781777>)\n",
      "\n",
      "(<tf.Tensor: shape=(), dtype=float32, numpy=0.88635916>, <tf.Tensor: shape=(), dtype=float32, numpy=0.5218471>, <tf.Tensor: shape=(), dtype=float32, numpy=0.5968319>)\n",
      "\n",
      "(<tf.Tensor: shape=(), dtype=float32, numpy=0.23736988>, <tf.Tensor: shape=(), dtype=float32, numpy=0.72422874>, <tf.Tensor: shape=(), dtype=float32, numpy=0.52723265>)\n",
      "\n",
      "(<tf.Tensor: shape=(), dtype=float32, numpy=-0.75321543>, <tf.Tensor: shape=(), dtype=float32, numpy=0.52343345>, <tf.Tensor: shape=(), dtype=float32, numpy=-0.16055688>)\n",
      "\n",
      "(<tf.Tensor: shape=(), dtype=float32, numpy=0.29017994>, <tf.Tensor: shape=(), dtype=float32, numpy=-0.96147144>, <tf.Tensor: shape=(), dtype=float32, numpy=-0.33469057>)\n",
      "\n",
      "(<tf.Tensor: shape=(), dtype=float32, numpy=-0.20948307>, <tf.Tensor: shape=(), dtype=float32, numpy=-0.26800776>, <tf.Tensor: shape=(), dtype=float32, numpy=-0.1874286>)\n",
      "\n",
      "(<tf.Tensor: shape=(), dtype=float32, numpy=0.11779523>, <tf.Tensor: shape=(), dtype=float32, numpy=-0.15877351>, <tf.Tensor: shape=(), dtype=float32, numpy=0.2252114>)\n",
      "\n",
      "(<tf.Tensor: shape=(), dtype=float32, numpy=0.30858028>, <tf.Tensor: shape=(), dtype=float32, numpy=-0.50169796>, <tf.Tensor: shape=(), dtype=float32, numpy=-0.28205448>)\n",
      "\n",
      "(<tf.Tensor: shape=(), dtype=float32, numpy=0.17619425>, <tf.Tensor: shape=(), dtype=float32, numpy=1.4426832>, <tf.Tensor: shape=(), dtype=float32, numpy=1.3673558>)\n",
      "\n",
      "(<tf.Tensor: shape=(), dtype=float32, numpy=-0.2704503>, <tf.Tensor: shape=(), dtype=float32, numpy=-0.8572484>, <tf.Tensor: shape=(), dtype=float32, numpy=-0.40301818>)\n",
      "\n",
      "(<tf.Tensor: shape=(), dtype=float32, numpy=0.14232275>, <tf.Tensor: shape=(), dtype=float32, numpy=0.10657197>, <tf.Tensor: shape=(), dtype=float32, numpy=-0.08511108>)\n",
      "\n",
      "(<tf.Tensor: shape=(), dtype=float32, numpy=-0.51698744>, <tf.Tensor: shape=(), dtype=float32, numpy=-0.24178335>, <tf.Tensor: shape=(), dtype=float32, numpy=0.1907758>)\n",
      "\n",
      "(<tf.Tensor: shape=(), dtype=float32, numpy=0.21997635>, <tf.Tensor: shape=(), dtype=float32, numpy=0.27218163>, <tf.Tensor: shape=(), dtype=float32, numpy=0.42815>)\n",
      "\n",
      "(<tf.Tensor: shape=(), dtype=float32, numpy=0.10892159>, <tf.Tensor: shape=(), dtype=float32, numpy=-0.28769916>, <tf.Tensor: shape=(), dtype=float32, numpy=-0.44760484>)\n",
      "\n",
      "(<tf.Tensor: shape=(), dtype=float32, numpy=0.41267747>, <tf.Tensor: shape=(), dtype=float32, numpy=0.41995353>, <tf.Tensor: shape=(), dtype=float32, numpy=0.4119>)\n",
      "\n",
      "(<tf.Tensor: shape=(), dtype=float32, numpy=-0.43016547>, <tf.Tensor: shape=(), dtype=float32, numpy=0.98295295>, <tf.Tensor: shape=(), dtype=float32, numpy=0.015588313>)\n",
      "\n",
      "(<tf.Tensor: shape=(), dtype=float32, numpy=-0.29237145>, <tf.Tensor: shape=(), dtype=float32, numpy=-0.7039974>, <tf.Tensor: shape=(), dtype=float32, numpy=-0.29051596>)\n",
      "\n",
      "(<tf.Tensor: shape=(), dtype=float32, numpy=0.1921275>, <tf.Tensor: shape=(), dtype=float32, numpy=-0.14038955>, <tf.Tensor: shape=(), dtype=float32, numpy=0.59231853>)\n",
      "\n",
      "(<tf.Tensor: shape=(), dtype=float32, numpy=-0.37678486>, <tf.Tensor: shape=(), dtype=float32, numpy=-0.47577107>, <tf.Tensor: shape=(), dtype=float32, numpy=-0.3520099>)\n",
      "\n",
      "(<tf.Tensor: shape=(), dtype=float32, numpy=0.33946344>, <tf.Tensor: shape=(), dtype=float32, numpy=0.21641526>, <tf.Tensor: shape=(), dtype=float32, numpy=0.06508986>)\n",
      "\n",
      "(<tf.Tensor: shape=(), dtype=float32, numpy=0.290433>, <tf.Tensor: shape=(), dtype=float32, numpy=1.0284865>, <tf.Tensor: shape=(), dtype=float32, numpy=0.6826738>)\n",
      "\n",
      "(<tf.Tensor: shape=(), dtype=float32, numpy=0.106128424>, <tf.Tensor: shape=(), dtype=float32, numpy=0.29374704>, <tf.Tensor: shape=(), dtype=float32, numpy=-0.3416782>)\n",
      "\n",
      "(<tf.Tensor: shape=(), dtype=float32, numpy=-0.7697407>, <tf.Tensor: shape=(), dtype=float32, numpy=-2.8484674>, <tf.Tensor: shape=(), dtype=float32, numpy=-1.3851421>)\n",
      "\n",
      "(<tf.Tensor: shape=(), dtype=float32, numpy=-0.04355237>, <tf.Tensor: shape=(), dtype=float32, numpy=-0.065286025>, <tf.Tensor: shape=(), dtype=float32, numpy=0.14258635>)\n",
      "\n",
      "(<tf.Tensor: shape=(), dtype=float32, numpy=-0.14275408>, <tf.Tensor: shape=(), dtype=float32, numpy=0.19009432>, <tf.Tensor: shape=(), dtype=float32, numpy=0.015528355>)\n",
      "\n",
      "(<tf.Tensor: shape=(), dtype=float32, numpy=0.56486535>, <tf.Tensor: shape=(), dtype=float32, numpy=0.25206217>, <tf.Tensor: shape=(), dtype=float32, numpy=-0.153559>)\n",
      "\n",
      "(<tf.Tensor: shape=(), dtype=float32, numpy=-0.7095202>, <tf.Tensor: shape=(), dtype=float32, numpy=0.39249814>, <tf.Tensor: shape=(), dtype=float32, numpy=0.2493273>)\n",
      "\n",
      "(<tf.Tensor: shape=(), dtype=float32, numpy=-0.05480817>, <tf.Tensor: shape=(), dtype=float32, numpy=-0.24883321>, <tf.Tensor: shape=(), dtype=float32, numpy=-0.36659813>)\n",
      "\n",
      "(<tf.Tensor: shape=(), dtype=float32, numpy=0.48660517>, <tf.Tensor: shape=(), dtype=float32, numpy=-0.45725277>, <tf.Tensor: shape=(), dtype=float32, numpy=0.13944636>)\n",
      "\n",
      "(<tf.Tensor: shape=(), dtype=float32, numpy=-0.001563035>, <tf.Tensor: shape=(), dtype=float32, numpy=0.9463354>, <tf.Tensor: shape=(), dtype=float32, numpy=1.319784>)\n",
      "\n",
      "(<tf.Tensor: shape=(), dtype=float32, numpy=-0.040344>, <tf.Tensor: shape=(), dtype=float32, numpy=-0.57096326>, <tf.Tensor: shape=(), dtype=float32, numpy=-0.25343663>)\n",
      "\n",
      "(<tf.Tensor: shape=(), dtype=float32, numpy=0.17323352>, <tf.Tensor: shape=(), dtype=float32, numpy=-0.8363578>, <tf.Tensor: shape=(), dtype=float32, numpy=-0.074978635>)\n",
      "\n",
      "(<tf.Tensor: shape=(), dtype=float32, numpy=0.017413557>, <tf.Tensor: shape=(), dtype=float32, numpy=0.2571104>, <tf.Tensor: shape=(), dtype=float32, numpy=0.20375974>)\n",
      "\n",
      "(<tf.Tensor: shape=(), dtype=float32, numpy=0.025194913>, <tf.Tensor: shape=(), dtype=float32, numpy=-0.40745598>, <tf.Tensor: shape=(), dtype=float32, numpy=0.16353221>)\n",
      "\n",
      "(<tf.Tensor: shape=(), dtype=float32, numpy=-0.3543666>, <tf.Tensor: shape=(), dtype=float32, numpy=0.5278395>, <tf.Tensor: shape=(), dtype=float32, numpy=0.120568186>)\n",
      "\n",
      "(<tf.Tensor: shape=(), dtype=float32, numpy=-0.013518974>, <tf.Tensor: shape=(), dtype=float32, numpy=0.8597609>, <tf.Tensor: shape=(), dtype=float32, numpy=0.09051682>)\n",
      "\n",
      "(<tf.Tensor: shape=(), dtype=float32, numpy=0.9078319>, <tf.Tensor: shape=(), dtype=float32, numpy=1.2399937>, <tf.Tensor: shape=(), dtype=float32, numpy=0.07784605>)\n",
      "\n",
      "(<tf.Tensor: shape=(), dtype=float32, numpy=0.21489279>, <tf.Tensor: shape=(), dtype=float32, numpy=-0.03632267>, <tf.Tensor: shape=(), dtype=float32, numpy=0.30729693>)\n",
      "\n",
      "(<tf.Tensor: shape=(), dtype=float32, numpy=-0.7253295>, <tf.Tensor: shape=(), dtype=float32, numpy=-0.0845224>, <tf.Tensor: shape=(), dtype=float32, numpy=-0.24568468>)\n",
      "\n",
      "(<tf.Tensor: shape=(), dtype=float32, numpy=0.1149573>, <tf.Tensor: shape=(), dtype=float32, numpy=-0.28910768>, <tf.Tensor: shape=(), dtype=float32, numpy=0.083888516>)\n",
      "\n",
      "(<tf.Tensor: shape=(), dtype=float32, numpy=-0.3027411>, <tf.Tensor: shape=(), dtype=float32, numpy=-0.25808528>, <tf.Tensor: shape=(), dtype=float32, numpy=-0.3298116>)\n",
      "\n",
      "(<tf.Tensor: shape=(), dtype=float32, numpy=0.7633934>, <tf.Tensor: shape=(), dtype=float32, numpy=-0.27680445>, <tf.Tensor: shape=(), dtype=float32, numpy=0.17664155>)\n",
      "\n",
      "(<tf.Tensor: shape=(), dtype=float32, numpy=-0.24401163>, <tf.Tensor: shape=(), dtype=float32, numpy=0.3166643>, <tf.Tensor: shape=(), dtype=float32, numpy=-0.020641625>)\n",
      "\n",
      "(<tf.Tensor: shape=(), dtype=float32, numpy=0.55996156>, <tf.Tensor: shape=(), dtype=float32, numpy=0.2545179>, <tf.Tensor: shape=(), dtype=float32, numpy=-0.0943259>)\n",
      "\n",
      "\n",
      "\n"
     ]
    },
    {
     "data": {
      "image/png": "[encoded data removed]",
      "text/plain": [
       "<Figure size 900x600 with 1 Axes>"
      ]
     },
     "metadata": {},
     "output_type": "display_data"
    }
   ],
   "source": [
    "# Set training parameters\n",
    "epochs = 100\n",
    "learning_rate = 0.01\n",
    "losses = []\n",
    "\n",
    "# Format training loop\n",
    "for epoch in range(epochs):\n",
    "    for x_batch, y_batch in dataset:\n",
    "        with tf.GradientTape() as tape:\n",
    "            batch_loss = mse_loss(model(x_batch), y_batch)\n",
    "        # Update parameters with respect to the gradient calculations\n",
    "        grads = tape.gradient(batch_loss, model.variables)\n",
    "        print(grads,end=\"\\n\\n\")\n",
    "        for g,v in zip(grads, model.variables):\n",
    "            v.assign_sub(learning_rate*g)\n",
    "    # Keep track of model loss per epoch\n",
    "    loss = mse_loss(model(x), y)\n",
    "    losses.append(loss)\n",
    "    if epoch % 10 == 0:\n",
    "        print(f'Mean squared error for step {epoch}: {loss.numpy():0.3f}')\n",
    "\n",
    "# Plot model results\n",
    "print(\"\\n\")\n",
    "plt.plot(range(epochs), losses)\n",
    "plt.xlabel(\"Epoch\")\n",
    "plt.ylabel(\"Mean Squared Error (MSE)\")\n",
    "plt.title('MSE loss vs training iterations');"
   ]
  },
  {
   "cell_type": "code",
   "execution_count": 45,
   "metadata": {},
   "outputs": [
    {
     "data": {
      "image/png": "[encoded data removed]",
      "text/plain": [
       "<Figure size 900x600 with 1 Axes>"
      ]
     },
     "metadata": {},
     "output_type": "display_data"
    }
   ],
   "source": [
    "plot_preds(x, y, f, model, 'After training')\n"
   ]
  },
  {
   "cell_type": "code",
   "execution_count": 46,
   "metadata": {},
   "outputs": [
    {
     "data": {
      "text/plain": [
       "<tf.Tensor: shape=(201,), dtype=float32, numpy=\n",
       "array([-2.  , -1.98, -1.96, -1.94, -1.92, -1.9 , -1.88, -1.86, -1.84,\n",
       "       -1.82, -1.8 , -1.78, -1.76, -1.74, -1.72, -1.7 , -1.68, -1.66,\n",
       "       -1.64, -1.62, -1.6 , -1.58, -1.56, -1.54, -1.52, -1.5 , -1.48,\n",
       "       -1.46, -1.44, -1.42, -1.4 , -1.38, -1.36, -1.34, -1.32, -1.3 ,\n",
       "       -1.28, -1.26, -1.24, -1.22, -1.2 , -1.18, -1.16, -1.14, -1.12,\n",
       "       -1.1 , -1.08, -1.06, -1.04, -1.02, -1.  , -0.98, -0.96, -0.94,\n",
       "       -0.92, -0.9 , -0.88, -0.86, -0.84, -0.82, -0.8 , -0.78, -0.76,\n",
       "       -0.74, -0.72, -0.7 , -0.68, -0.66, -0.64, -0.62, -0.6 , -0.58,\n",
       "       -0.56, -0.54, -0.52, -0.5 , -0.48, -0.46, -0.44, -0.42, -0.4 ,\n",
       "       -0.38, -0.36, -0.34, -0.32, -0.3 , -0.28, -0.26, -0.24, -0.22,\n",
       "       -0.2 , -0.18, -0.16, -0.14, -0.12, -0.1 , -0.08, -0.06, -0.04,\n",
       "       -0.02,  0.  ,  0.02,  0.04,  0.06,  0.08,  0.1 ,  0.12,  0.14,\n",
       "        0.16,  0.18,  0.2 ,  0.22,  0.24,  0.26,  0.28,  0.3 ,  0.32,\n",
       "        0.34,  0.36,  0.38,  0.4 ,  0.42,  0.44,  0.46,  0.48,  0.5 ,\n",
       "        0.52,  0.54,  0.56,  0.58,  0.6 ,  0.62,  0.64,  0.66,  0.68,\n",
       "        0.7 ,  0.72,  0.74,  0.76,  0.78,  0.8 ,  0.82,  0.84,  0.86,\n",
       "        0.88,  0.9 ,  0.92,  0.94,  0.96,  0.98,  1.  ,  1.02,  1.04,\n",
       "        1.06,  1.08,  1.1 ,  1.12,  1.14,  1.16,  1.18,  1.2 ,  1.22,\n",
       "        1.24,  1.26,  1.28,  1.3 ,  1.32,  1.34,  1.36,  1.38,  1.4 ,\n",
       "        1.42,  1.44,  1.46,  1.48,  1.5 ,  1.52,  1.54,  1.56,  1.58,\n",
       "        1.6 ,  1.62,  1.64,  1.66,  1.68,  1.7 ,  1.72,  1.74,  1.76,\n",
       "        1.78,  1.8 ,  1.82,  1.84,  1.86,  1.88,  1.9 ,  1.92,  1.94,\n",
       "        1.96,  1.98,  2.  ], dtype=float32)>"
      ]
     },
     "execution_count": 46,
     "metadata": {},
     "output_type": "execute_result"
    }
   ],
   "source": [
    "x"
   ]
  },
  {
   "cell_type": "code",
   "execution_count": 47,
   "metadata": {},
   "outputs": [
    {
     "data": {
      "text/plain": [
       "array([-2.  , -1.98, -1.96, -1.94, -1.92, -1.9 , -1.88, -1.86, -1.84,\n",
       "       -1.82], dtype=float32)"
      ]
     },
     "execution_count": 47,
     "metadata": {},
     "output_type": "execute_result"
    }
   ],
   "source": [
    "np.array(x[:10])"
   ]
  },
  {
   "cell_type": "code",
   "execution_count": 48,
   "metadata": {},
   "outputs": [],
   "source": [
    "tensor_1 = tf.random.normal(shape=(2, 3, 3, 2))\n",
    "tensor_2 = tf.random.normal(shape=(2, 3, 2, 4))\n"
   ]
  },
  {
   "cell_type": "code",
   "execution_count": 49,
   "metadata": {},
   "outputs": [
    {
     "data": {
      "text/plain": [
       "<tf.Tensor: shape=(2, 3, 3, 2), dtype=float32, numpy=\n",
       "array([[[[ 0.06480846, -0.8595003 ],\n",
       "         [ 2.5708497 ,  1.205727  ],\n",
       "         [-0.11815628, -1.7515967 ]],\n",
       "\n",
       "        [[ 0.12630624,  0.9930398 ],\n",
       "         [ 0.8115047 , -1.2102257 ],\n",
       "         [-0.09108324, -0.23203284]],\n",
       "\n",
       "        [[ 0.4344537 , -2.3293731 ],\n",
       "         [-0.07721136, -1.6331713 ],\n",
       "         [-1.6380389 ,  0.5196037 ]]],\n",
       "\n",
       "\n",
       "       [[[ 0.783134  ,  0.4063585 ],\n",
       "         [ 0.3250108 , -0.12103881],\n",
       "         [ 0.41500282, -0.11546139]],\n",
       "\n",
       "        [[-0.97452605, -1.5480261 ],\n",
       "         [-0.9323806 , -0.32643837],\n",
       "         [ 0.9432716 ,  1.0664709 ]],\n",
       "\n",
       "        [[ 0.724925  , -0.96096295],\n",
       "         [ 0.7199119 ,  0.74198395],\n",
       "         [ 0.4173043 , -0.2491333 ]]]], dtype=float32)>"
      ]
     },
     "execution_count": 49,
     "metadata": {},
     "output_type": "execute_result"
    }
   ],
   "source": [
    "tensor_1"
   ]
  },
  {
   "cell_type": "code",
   "execution_count": 50,
   "metadata": {},
   "outputs": [
    {
     "data": {
      "text/plain": [
       "<tf.Tensor: shape=(2, 3, 2, 4), dtype=float32, numpy=\n",
       "array([[[[ 2.3594215 , -0.0530103 ,  2.3938258 , -1.5055194 ],\n",
       "         [-2.0522866 , -1.1382831 , -0.9176793 , -0.37976682]],\n",
       "\n",
       "        [[-0.8707528 , -0.5319873 , -0.52734447, -0.1938464 ],\n",
       "         [ 0.784721  , -0.9999267 ,  0.55919635,  1.4138149 ]],\n",
       "\n",
       "        [[-0.40702984, -1.352975  , -0.36585093, -0.76533836],\n",
       "         [-0.93541205, -0.9519881 ,  0.45736694,  0.30470374]]],\n",
       "\n",
       "\n",
       "       [[[-0.75186425,  1.8464589 ,  0.43657073, -0.55520207],\n",
       "         [-0.1098896 , -1.0086123 , -0.43581134, -0.23714584]],\n",
       "\n",
       "        [[ 2.0109885 ,  0.7216475 ,  0.20023715,  0.5114955 ],\n",
       "         [-1.0906982 , -0.7306307 , -0.3999729 ,  0.45719108]],\n",
       "\n",
       "        [[ 1.4439087 , -1.5157272 , -1.3727067 ,  1.7786933 ],\n",
       "         [ 0.27617657,  0.5345636 , -0.83994466,  0.56073296]]]],\n",
       "      dtype=float32)>"
      ]
     },
     "execution_count": 50,
     "metadata": {},
     "output_type": "execute_result"
    }
   ],
   "source": [
    "tensor_2"
   ]
  },
  {
   "cell_type": "code",
   "execution_count": 51,
   "metadata": {},
   "outputs": [
    {
     "data": {
      "text/plain": [
       "<tf.Tensor: shape=(2, 3, 3, 4), dtype=float32, numpy=\n",
       "array([[[[ 1.9168514 ,  0.9749192 ,  0.9438858 ,  0.22883931],\n",
       "         [ 3.5912204 , -1.5087402 ,  5.0476956 , -4.328359  ],\n",
       "         [ 3.315998  ,  2.0000765 ,  1.3245585 ,  0.8430849 ]],\n",
       "\n",
       "        [[ 0.66927767, -1.0601603 ,  0.48869735,  1.3794904 ],\n",
       "         [-1.6563096 ,  0.77842677, -1.1046963 , -1.8683424 ],\n",
       "         [-0.10277005,  0.28047094, -0.08171968, -0.31039533]],\n",
       "\n",
       "        [[ 2.002088  ,  1.6297305 , -1.2243236 , -1.0422728 ],\n",
       "         [ 1.5591155 ,  1.6592246 , -0.7187107 , -0.4385406 ],\n",
       "         [ 0.1806871 ,  1.7215691 ,  0.8369276 ,  1.4119792 ]]],\n",
       "\n",
       "\n",
       "       [[[-0.633465  ,  1.0361667 ,  0.16479772, -0.5311639 ],\n",
       "         [-0.2310631 ,  0.72220033,  0.1946403 , -0.15174282],\n",
       "         [-0.29933777,  0.88274145,  0.23149747, -0.20302925]],\n",
       "\n",
       "        [[-0.2713313 ,  0.42777103,  0.42403215, -1.2062094 ],\n",
       "         [-1.518961  , -0.43434423, -0.05613075, -0.6261532 ],\n",
       "         [ 0.7337104 , -0.09848672, -0.2376814 ,  0.9700601 ]],\n",
       "\n",
       "        [[ 0.78133005, -1.6124843 , -0.18795359,  0.7505756 ],\n",
       "         [ 1.2444056 , -0.69455236, -1.6114533 ,  1.6965573 ],\n",
       "         [ 0.5337445 , -0.76569706, -0.3635782 ,  0.60255915]]]],\n",
       "      dtype=float32)>"
      ]
     },
     "execution_count": 51,
     "metadata": {},
     "output_type": "execute_result"
    }
   ],
   "source": [
    "\n",
    "tensor_1 @ tensor_2"
   ]
  },
  {
   "cell_type": "code",
   "execution_count": 52,
   "metadata": {},
   "outputs": [
    {
     "data": {
      "text/plain": [
       "<tf.Tensor: shape=(2, 2), dtype=float32, numpy=\n",
       "array([[ 4.,  1.],\n",
       "       [10.,  5.]], dtype=float32)>"
      ]
     },
     "execution_count": 52,
     "metadata": {},
     "output_type": "execute_result"
    }
   ],
   "source": [
    "c = tf.constant([[4.0, 1.0], [10.0, 5.0]])\n",
    "c"
   ]
  },
  {
   "cell_type": "code",
   "execution_count": 53,
   "metadata": {},
   "outputs": [
    {
     "name": "stdout",
     "output_type": "stream",
     "text": [
      "tf.Tensor(10.0, shape=(), dtype=float32)\n",
      "tf.Tensor([1 1], shape=(2,), dtype=int64)\n",
      "tf.Tensor(\n",
      "[[0.95257413 0.04742587]\n",
      " [0.9933072  0.00669285]], shape=(2, 2), dtype=float32)\n"
     ]
    }
   ],
   "source": [
    "\n",
    "# Find the largest value\n",
    "print(tf.reduce_max(c))\n",
    "# Find the index of the largest value\n",
    "print(tf.math.argmax(c))\n",
    "# Compute the softmax\n",
    "print(tf.nn.softmax(c))"
   ]
  },
  {
   "cell_type": "code",
   "execution_count": 54,
   "metadata": {},
   "outputs": [
    {
     "data": {
      "text/plain": [
       "tensorflow.python.framework.tensor_shape.TensorShape"
      ]
     },
     "execution_count": 54,
     "metadata": {},
     "output_type": "execute_result"
    }
   ],
   "source": [
    "type(c.shape)"
   ]
  },
  {
   "cell_type": "code",
   "execution_count": 55,
   "metadata": {},
   "outputs": [
    {
     "data": {
      "text/plain": [
       "<tf.Tensor: shape=(2,), dtype=int32, numpy=array([2, 2], dtype=int32)>"
      ]
     },
     "execution_count": 55,
     "metadata": {},
     "output_type": "execute_result"
    }
   ],
   "source": [
    "tf.convert_to_tensor(c.shape)"
   ]
  },
  {
   "cell_type": "code",
   "execution_count": 56,
   "metadata": {},
   "outputs": [
    {
     "data": {
      "text/plain": [
       "201"
      ]
     },
     "execution_count": 56,
     "metadata": {},
     "output_type": "execute_result"
    }
   ],
   "source": [
    "tf.size(x).numpy()"
   ]
  },
  {
   "cell_type": "code",
   "execution_count": 57,
   "metadata": {},
   "outputs": [
    {
     "data": {
      "text/plain": [
       "<tf.Tensor: shape=(2,), dtype=int32, numpy=array([2, 2], dtype=int32)>"
      ]
     },
     "execution_count": 57,
     "metadata": {},
     "output_type": "execute_result"
    }
   ],
   "source": [
    "tf.shape(c)"
   ]
  },
  {
   "cell_type": "code",
   "execution_count": 58,
   "metadata": {},
   "outputs": [
    {
     "data": {
      "text/plain": [
       "<tf.Tensor: shape=(), dtype=int32, numpy=2>"
      ]
     },
     "execution_count": 58,
     "metadata": {},
     "output_type": "execute_result"
    }
   ],
   "source": [
    "tf.rank(c)"
   ]
  },
  {
   "cell_type": "code",
   "execution_count": 59,
   "metadata": {},
   "outputs": [
    {
     "data": {
      "text/plain": [
       "<tf.Tensor: shape=(4, 5), dtype=int32, numpy=\n",
       "array([[ 0,  1,  2,  3,  4],\n",
       "       [ 5,  6,  7,  8,  9],\n",
       "       [10, 11, 12, 13, 14],\n",
       "       [15, 16, 17, 18, 19]], dtype=int32)>"
      ]
     },
     "execution_count": 59,
     "metadata": {},
     "output_type": "execute_result"
    }
   ],
   "source": [
    "t2 = tf.constant([[0, 1, 2, 3, 4],\n",
    "                    [5, 6, 7, 8, 9],\n",
    "                    [10, 11, 12, 13, 14],\n",
    "                    [15, 16, 17, 18, 19]])\n",
    "t2"
   ]
  },
  {
   "cell_type": "code",
   "execution_count": 60,
   "metadata": {},
   "outputs": [
    {
     "data": {
      "text/plain": [
       "<tf.Tensor: shape=(4, 2, 3, 2), dtype=float32, numpy=\n",
       "array([[[[5.2217066e-01, 8.0515516e-01],\n",
       "         [8.5390806e-02, 7.0947850e-01],\n",
       "         [9.1560435e-01, 4.6035779e-01]],\n",
       "\n",
       "        [[1.2569642e-01, 7.6191568e-01],\n",
       "         [8.4142041e-01, 8.2983613e-01],\n",
       "         [7.3566592e-01, 4.0072370e-01]]],\n",
       "\n",
       "\n",
       "       [[[7.8401923e-01, 3.2170200e-01],\n",
       "         [2.6103699e-01, 1.9228637e-01],\n",
       "         [9.7849238e-01, 5.7815313e-01]],\n",
       "\n",
       "        [[5.3200459e-01, 2.7039444e-01],\n",
       "         [9.8264956e-01, 8.8784146e-01],\n",
       "         [5.3738141e-01, 1.4053345e-02]]],\n",
       "\n",
       "\n",
       "       [[[3.7835908e-01, 4.7747350e-01],\n",
       "         [6.9111848e-01, 4.1787410e-01],\n",
       "         [2.1990418e-01, 3.5342109e-01]],\n",
       "\n",
       "        [[4.4906414e-01, 4.3708587e-01],\n",
       "         [5.8753324e-01, 4.3473184e-01],\n",
       "         [1.9362319e-01, 5.3629506e-01]]],\n",
       "\n",
       "\n",
       "       [[[5.6086934e-01, 5.9861386e-01],\n",
       "         [4.7895575e-01, 1.8520546e-01],\n",
       "         [2.4085236e-01, 6.5377152e-01]],\n",
       "\n",
       "        [[8.0700052e-01, 6.5368986e-01],\n",
       "         [3.2569242e-01, 9.1426480e-01],\n",
       "         [9.3951106e-01, 7.5876713e-04]]]], dtype=float32)>"
      ]
     },
     "execution_count": 60,
     "metadata": {},
     "output_type": "execute_result"
    }
   ],
   "source": [
    "test = tf.random.uniform((4,2,3,2))\n",
    "test"
   ]
  },
  {
   "cell_type": "code",
   "execution_count": 61,
   "metadata": {},
   "outputs": [
    {
     "data": {
      "text/plain": [
       "<tf.Tensor: shape=(48, 1), dtype=float32, numpy=\n",
       "array([[5.2217066e-01],\n",
       "       [8.0515516e-01],\n",
       "       [8.5390806e-02],\n",
       "       [7.0947850e-01],\n",
       "       [9.1560435e-01],\n",
       "       [4.6035779e-01],\n",
       "       [1.2569642e-01],\n",
       "       [7.6191568e-01],\n",
       "       [8.4142041e-01],\n",
       "       [8.2983613e-01],\n",
       "       [7.3566592e-01],\n",
       "       [4.0072370e-01],\n",
       "       [7.8401923e-01],\n",
       "       [3.2170200e-01],\n",
       "       [2.6103699e-01],\n",
       "       [1.9228637e-01],\n",
       "       [9.7849238e-01],\n",
       "       [5.7815313e-01],\n",
       "       [5.3200459e-01],\n",
       "       [2.7039444e-01],\n",
       "       [9.8264956e-01],\n",
       "       [8.8784146e-01],\n",
       "       [5.3738141e-01],\n",
       "       [1.4053345e-02],\n",
       "       [3.7835908e-01],\n",
       "       [4.7747350e-01],\n",
       "       [6.9111848e-01],\n",
       "       [4.1787410e-01],\n",
       "       [2.1990418e-01],\n",
       "       [3.5342109e-01],\n",
       "       [4.4906414e-01],\n",
       "       [4.3708587e-01],\n",
       "       [5.8753324e-01],\n",
       "       [4.3473184e-01],\n",
       "       [1.9362319e-01],\n",
       "       [5.3629506e-01],\n",
       "       [5.6086934e-01],\n",
       "       [5.9861386e-01],\n",
       "       [4.7895575e-01],\n",
       "       [1.8520546e-01],\n",
       "       [2.4085236e-01],\n",
       "       [6.5377152e-01],\n",
       "       [8.0700052e-01],\n",
       "       [6.5368986e-01],\n",
       "       [3.2569242e-01],\n",
       "       [9.1426480e-01],\n",
       "       [9.3951106e-01],\n",
       "       [7.5876713e-04]], dtype=float32)>"
      ]
     },
     "execution_count": 61,
     "metadata": {},
     "output_type": "execute_result"
    }
   ],
   "source": [
    "tf.reshape(test, (48,1))"
   ]
  },
  {
   "cell_type": "code",
   "execution_count": 62,
   "metadata": {},
   "outputs": [
    {
     "data": {
      "text/plain": [
       "<tf.Tensor: shape=(4, 2), dtype=float32, numpy=\n",
       "array([[0.7457899 , 0.19910395],\n",
       "       [0.7457899 , 0.19910395],\n",
       "       [0.7457899 , 0.19910395],\n",
       "       [0.7457899 , 0.19910395]], dtype=float32)>"
      ]
     },
     "execution_count": 62,
     "metadata": {},
     "output_type": "execute_result"
    }
   ],
   "source": [
    "tf.broadcast_to(tf.random.uniform([1,2]), (4,2,))"
   ]
  },
  {
   "cell_type": "code",
   "execution_count": 63,
   "metadata": {},
   "outputs": [
    {
     "name": "stdout",
     "output_type": "stream",
     "text": [
      "[5. 6.]\n",
      "[2. 3.]\n",
      "[7. 9.]\n",
      "[0. 0.]\n"
     ]
    }
   ],
   "source": [
    "a = tf.Variable([2.0, 3.0])\n",
    "# Create b based on the value of a\n",
    "b = tf.Variable(a)\n",
    "a.assign([5, 6])\n",
    "\n",
    "# a and b are different\n",
    "print(a.numpy())\n",
    "print(b.numpy())\n",
    "\n",
    "# There are other versions of assign\n",
    "print(a.assign_add([2,3]).numpy())  # [7. 9.]\n",
    "print(a.assign_sub([7,9]).numpy())  # [0. 0.]"
   ]
  },
  {
   "cell_type": "code",
   "execution_count": 64,
   "metadata": {},
   "outputs": [],
   "source": [
    "# Uncomment to see where your variables get placed (see below)\n",
    "tf.debugging.set_log_device_placement(True)"
   ]
  },
  {
   "cell_type": "code",
   "execution_count": 65,
   "metadata": {},
   "outputs": [
    {
     "data": {
      "text/plain": [
       "'/job:localhost/replica:0/task:0/device:GPU:0'"
      ]
     },
     "execution_count": 65,
     "metadata": {},
     "output_type": "execute_result"
    }
   ],
   "source": [
    "tf.Variable([1.0, 2.0, 3.0]).device"
   ]
  },
  {
   "cell_type": "code",
   "execution_count": 66,
   "metadata": {},
   "outputs": [
    {
     "name": "stdout",
     "output_type": "stream",
     "text": [
      "PhysicalDevice(name='/physical_device:CPU:0', device_type='CPU')\n",
      "PhysicalDevice(name='/physical_device:GPU:0', device_type='GPU')\n"
     ]
    }
   ],
   "source": [
    "\n",
    "devices = tf.config.list_physical_devices()\n",
    "for device in devices:\n",
    "    print(device)\n"
   ]
  },
  {
   "cell_type": "code",
   "execution_count": 96,
   "metadata": {},
   "outputs": [
    {
     "name": "stdout",
     "output_type": "stream",
     "text": [
      "[2. 4. 6.]\n",
      "WARNING:tensorflow:6 out of the last 6 calls to <function pfor.<locals>.f at 0x7f02181c8940> triggered tf.function retracing. Tracing is expensive and the excessive number of tracings could be due to (1) creating @tf.function repeatedly in a loop, (2) passing tensors with different shapes, (3) passing Python objects instead of tensors. For (1), please define your @tf.function outside of the loop. For (2), @tf.function has reduce_retracing=True option that can avoid unnecessary retracing. For (3), please refer to https://www.tensorflow.org/guide/function#controlling_retracing and https://www.tensorflow.org/api_docs/python/tf/function for  more details.\n"
     ]
    },
    {
     "data": {
      "text/plain": [
       "array([[[2., 0., 0.],\n",
       "        [2., 1., 0.],\n",
       "        [3., 0., 1.]],\n",
       "\n",
       "       [[2., 1., 0.],\n",
       "        [0., 4., 0.],\n",
       "        [0., 3., 2.]],\n",
       "\n",
       "       [[3., 0., 1.],\n",
       "        [0., 3., 2.],\n",
       "        [0., 0., 6.]]], dtype=float32)"
      ]
     },
     "execution_count": 96,
     "metadata": {},
     "output_type": "execute_result"
    }
   ],
   "source": [
    "x = tf.Variable([1.0, 2.0, 3.0])\n",
    "with tf.GradientTape(persistent=True) as tape:\n",
    "    y0 = x**2\n",
    "    y1 = (tf.reshape(x, (3,1))) @ tf.reshape(x, (1,3))\n",
    "\n",
    "print(tape.gradient(y0, x).numpy())\n",
    "#tape.gradient(y1, x).numpy()\n",
    "tape.jacobian(y1, x).numpy()\n",
    "\n",
    "# print(tape.gradient([y0,y1], x))\n"
   ]
  },
  {
   "cell_type": "markdown",
   "metadata": {},
   "source": [
    "In your case, y1 is a 3x3 matrix and x is a vector of length 3. Therefore, the Jacobian is a 3x3x3 tensor, where the element at position (i, j, k) is the derivative of y1[i, j] with respect to x[k].\n",
    "\n",
    "Here's how the values are computed:\n",
    "\n",
    "The first row of the Jacobian for each element of y1 is [2, 0, 0] because y1[0, 0], y1[1, 0], and y1[2, 0] are x[0]**2, x[0] * x[1], and x[0] * x[2] respectively. The derivative of these expressions with respect to x[0] is 2x[0], x[1], and x[2], ...\n",
    "\n",
    "The second row of the Jacobian for each element of y1 is [2, 1, 0], [0, 4, 0], and [0, 3, 2] because y1[0, 1], y1[1, 1], and y1[2, 1] are x[0] * x[1], x[1]**2, and x[1] * x[2] respectively. The derivative of these expressions with respect to x[0] is x[1], 2x[1], and x[2], ...\n",
    "\n",
    "The third row of the Jacobian for each element of y1 is [3, 0, 1], [0, 3, 2], and [0, 0, 6] because y1[0, 2], y1[1, 2], and y1[2, 2] are x[0] * x[2], x[1] * x[2], and x[2]**2 respectively. The derivative of these expressions with respect to x[0] is x[2], 0, and 2x[2], ...\n",
    "\n",
    "So, the Jacobian of y1 with respect to x is indeed the 3x3x3 tensor you've printed."
   ]
  },
  {
   "cell_type": "code",
   "execution_count": 88,
   "metadata": {},
   "outputs": [
    {
     "data": {
      "text/plain": [
       "<tf.Tensor: shape=(3, 3), dtype=float32, numpy=\n",
       "array([[1., 2., 3.],\n",
       "       [2., 4., 6.],\n",
       "       [3., 6., 9.]], dtype=float32)>"
      ]
     },
     "execution_count": 88,
     "metadata": {},
     "output_type": "execute_result"
    }
   ],
   "source": [
    "tf.reshape(x, (3,1)) @ tf.reshape(x, (1,3))"
   ]
  },
  {
   "cell_type": "code",
   "execution_count": 75,
   "metadata": {},
   "outputs": [
    {
     "name": "stdout",
     "output_type": "stream",
     "text": [
      "tf.Tensor([6. 8.], shape=(2,), dtype=float32)\n",
      "7.0\n",
      "[3. 4.]\n"
     ]
    }
   ],
   "source": [
    "x = tf.Variable(2.)\n",
    "\n",
    "with tf.GradientTape(persistent=True) as tape:\n",
    "    y = x * [3., 4.]\n",
    "    print(y)\n",
    "\n",
    "print(tape.gradient(y, x).numpy())\n",
    "print(tape.jacobian(y, x).numpy())"
   ]
  },
  {
   "cell_type": "code",
   "execution_count": 80,
   "metadata": {},
   "outputs": [
    {
     "data": {
      "text/plain": [
       "<tf.Tensor: shape=(201,), dtype=float32, numpy=\n",
       "array([-10.        ,  -9.9       ,  -9.8       ,  -9.7       ,\n",
       "        -9.6       ,  -9.5       ,  -9.4       ,  -9.3       ,\n",
       "        -9.2       ,  -9.1       ,  -9.        ,  -8.9       ,\n",
       "        -8.8       ,  -8.7       ,  -8.6       ,  -8.5       ,\n",
       "        -8.4       ,  -8.3       ,  -8.2       ,  -8.1       ,\n",
       "        -8.        ,  -7.8999996 ,  -7.8       ,  -7.7       ,\n",
       "        -7.6       ,  -7.5       ,  -7.3999996 ,  -7.3       ,\n",
       "        -7.2       ,  -7.1       ,  -7.        ,  -6.8999996 ,\n",
       "        -6.8       ,  -6.7       ,  -6.6       ,  -6.5       ,\n",
       "        -6.3999996 ,  -6.3       ,  -6.2       ,  -6.1       ,\n",
       "        -6.        ,  -5.9       ,  -5.7999997 ,  -5.7       ,\n",
       "        -5.6       ,  -5.5       ,  -5.4       ,  -5.2999997 ,\n",
       "        -5.2       ,  -5.1       ,  -5.        ,  -4.9       ,\n",
       "        -4.7999997 ,  -4.7       ,  -4.6       ,  -4.5       ,\n",
       "        -4.4       ,  -4.2999997 ,  -4.2       ,  -4.1       ,\n",
       "        -4.        ,  -3.9       ,  -3.7999997 ,  -3.6999998 ,\n",
       "        -3.6       ,  -3.5       ,  -3.4       ,  -3.2999997 ,\n",
       "        -3.1999998 ,  -3.1       ,  -3.        ,  -2.9       ,\n",
       "        -2.7999997 ,  -2.6999998 ,  -2.6       ,  -2.5       ,\n",
       "        -2.4       ,  -2.2999997 ,  -2.1999998 ,  -2.1       ,\n",
       "        -2.        ,  -1.8999996 ,  -1.8000002 ,  -1.6999998 ,\n",
       "        -1.5999994 ,  -1.5       ,  -1.3999996 ,  -1.3000002 ,\n",
       "        -1.1999998 ,  -1.0999994 ,  -1.        ,  -0.8999996 ,\n",
       "        -0.8000002 ,  -0.6999998 ,  -0.5999994 ,  -0.5       ,\n",
       "        -0.39999962,  -0.3000002 ,  -0.19999981,  -0.09999943,\n",
       "         0.        ,   0.10000038,   0.19999981,   0.3000002 ,\n",
       "         0.40000057,   0.5       ,   0.6000004 ,   0.6999998 ,\n",
       "         0.8000002 ,   0.9000006 ,   1.        ,   1.1000004 ,\n",
       "         1.1999998 ,   1.3000002 ,   1.4000006 ,   1.5       ,\n",
       "         1.6000004 ,   1.6999998 ,   1.8000002 ,   1.9000006 ,\n",
       "         2.        ,   2.1000004 ,   2.1999998 ,   2.3000002 ,\n",
       "         2.4000006 ,   2.5       ,   2.6000004 ,   2.6999998 ,\n",
       "         2.8000002 ,   2.9000006 ,   3.        ,   3.1000004 ,\n",
       "         3.1999998 ,   3.3000002 ,   3.4000006 ,   3.5       ,\n",
       "         3.6000004 ,   3.6999998 ,   3.8000002 ,   3.9000006 ,\n",
       "         4.        ,   4.1000004 ,   4.2       ,   4.3       ,\n",
       "         4.4000006 ,   4.5       ,   4.6000004 ,   4.7       ,\n",
       "         4.8       ,   4.9000006 ,   5.        ,   5.1000004 ,\n",
       "         5.2       ,   5.3       ,   5.4000006 ,   5.5       ,\n",
       "         5.6000004 ,   5.7       ,   5.8       ,   5.9000006 ,\n",
       "         6.        ,   6.1000004 ,   6.200001  ,   6.300001  ,\n",
       "         6.3999996 ,   6.5       ,   6.6000004 ,   6.700001  ,\n",
       "         6.800001  ,   6.8999996 ,   7.        ,   7.1000004 ,\n",
       "         7.200001  ,   7.300001  ,   7.3999996 ,   7.5       ,\n",
       "         7.6000004 ,   7.700001  ,   7.800001  ,   7.8999996 ,\n",
       "         8.        ,   8.1       ,   8.200001  ,   8.300001  ,\n",
       "         8.4       ,   8.5       ,   8.6       ,   8.700001  ,\n",
       "         8.800001  ,   8.9       ,   9.        ,   9.1       ,\n",
       "         9.200001  ,   9.300001  ,   9.4       ,   9.5       ,\n",
       "         9.6       ,   9.700001  ,   9.800001  ,   9.9       ,\n",
       "        10.        ], dtype=float32)>"
      ]
     },
     "execution_count": 80,
     "metadata": {},
     "output_type": "execute_result"
    }
   ],
   "source": [
    "x = tf.linspace(-10.0, 10.0, 200+1)\n",
    "x"
   ]
  },
  {
   "cell_type": "code",
   "execution_count": 81,
   "metadata": {},
   "outputs": [
    {
     "data": {
      "text/plain": [
       "<tf.Tensor: shape=(201,), dtype=float32, numpy=\n",
       "array([4.53958055e-05, 5.01696704e-05, 5.54454418e-05, 6.12759977e-05,\n",
       "       6.77195349e-05, 7.48406237e-05, 8.27104013e-05, 9.14074917e-05,\n",
       "       1.01019010e-04, 1.11640838e-04, 1.23379359e-04, 1.36351780e-04,\n",
       "       1.50687600e-04, 1.66530357e-04, 1.84037955e-04, 2.03385600e-04,\n",
       "       2.24766321e-04, 2.48393306e-04, 2.74502789e-04, 3.03354813e-04,\n",
       "       3.35237681e-04, 3.70468944e-04, 4.09399334e-04, 4.52417444e-04,\n",
       "       4.99951013e-04, 5.52473066e-04, 6.10506453e-04, 6.74626906e-04,\n",
       "       7.45472440e-04, 8.23745097e-04, 9.10221133e-04, 1.00575760e-03,\n",
       "       1.11129810e-03, 1.22788735e-03, 1.35667447e-03, 1.49892876e-03,\n",
       "       1.65605021e-03, 1.82957877e-03, 2.02121865e-03, 2.23284075e-03,\n",
       "       2.46650912e-03, 2.72449665e-03, 3.00930603e-03, 3.32368701e-03,\n",
       "       3.67066660e-03, 4.05357173e-03, 4.47605597e-03, 4.94213449e-03,\n",
       "       5.45620080e-03, 6.02308055e-03, 6.64805667e-03, 7.33690569e-03,\n",
       "       8.09594523e-03, 8.93206056e-03, 9.85276420e-03, 1.08662294e-02,\n",
       "       1.19813355e-02, 1.32077113e-02, 1.45557625e-02, 1.60367284e-02,\n",
       "       1.76627059e-02, 1.94466654e-02, 2.14024857e-02, 2.35449132e-02,\n",
       "       2.58895941e-02, 2.84530222e-02, 3.12524661e-02, 3.43058892e-02,\n",
       "       3.76317725e-02, 4.12490219e-02, 4.51766588e-02, 4.94335666e-02,\n",
       "       5.40381297e-02, 5.90077192e-02, 6.43583015e-02, 7.01037124e-02,\n",
       "       7.62550011e-02, 8.28195885e-02, 8.98003429e-02, 9.71947163e-02,\n",
       "       1.04993582e-01, 1.13180295e-01, 1.21729314e-01, 1.30605757e-01,\n",
       "       1.39763847e-01, 1.49146467e-01, 1.58684939e-01, 1.68298349e-01,\n",
       "       1.77894473e-01, 1.87369928e-01, 1.96611941e-01, 2.05500335e-01,\n",
       "       2.13909686e-01, 2.21712902e-01, 2.28784278e-01, 2.35003710e-01,\n",
       "       2.40260750e-01, 2.44458318e-01, 2.47516587e-01, 2.49376029e-01,\n",
       "       2.50000000e-01, 2.49376029e-01, 2.47516572e-01, 2.44458303e-01,\n",
       "       2.40260720e-01, 2.35003710e-01, 2.28784218e-01, 2.21712887e-01,\n",
       "       2.13909701e-01, 2.05500260e-01, 1.96611956e-01, 1.87369838e-01,\n",
       "       1.77894413e-01, 1.68298334e-01, 1.58684835e-01, 1.49146467e-01,\n",
       "       1.39763758e-01, 1.30605787e-01, 1.21729299e-01, 1.13180213e-01,\n",
       "       1.04993626e-01, 9.71947089e-02, 8.98003057e-02, 8.28195363e-02,\n",
       "       7.62549862e-02, 7.01037124e-02, 6.43582866e-02, 5.90077341e-02,\n",
       "       5.40381111e-02, 4.94335368e-02, 4.51766551e-02, 4.12490331e-02,\n",
       "       3.76317799e-02, 3.43058519e-02, 3.12524140e-02, 2.84530446e-02,\n",
       "       2.58896220e-02, 2.35448945e-02, 2.14025490e-02, 1.94466058e-02,\n",
       "       1.76627338e-02, 1.60367545e-02, 1.45557523e-02, 1.32076964e-02,\n",
       "       1.19813727e-02, 1.08662117e-02, 9.85279121e-03, 8.93211458e-03,\n",
       "       8.09593033e-03, 7.33687775e-03, 6.64803293e-03, 6.02304516e-03,\n",
       "       5.45615098e-03, 4.94218525e-03, 4.47605969e-03, 4.05353727e-03,\n",
       "       3.67064914e-03, 3.32369935e-03, 3.00932792e-03, 2.72445590e-03,\n",
       "       2.46646581e-03, 2.23290781e-03, 2.02120445e-03, 1.82960229e-03,\n",
       "       1.65604567e-03, 1.49894902e-03, 1.35672290e-03, 1.22795347e-03,\n",
       "       1.11128297e-03, 1.00576843e-03, 9.10167466e-04, 8.23712209e-04,\n",
       "       7.45514699e-04, 6.74626499e-04, 6.10574323e-04, 5.52527432e-04,\n",
       "       4.99952002e-04, 4.52492328e-04, 4.09375789e-04, 3.70484311e-04,\n",
       "       3.35223274e-04, 3.03295586e-04, 2.74523190e-04, 2.48430006e-04,\n",
       "       2.24718591e-04, 2.03389267e-04, 1.83965676e-04, 1.66507642e-04,\n",
       "       1.50657841e-04, 1.36356830e-04, 1.23366393e-04, 1.11686626e-04,\n",
       "       1.01079262e-04, 9.14251650e-05, 8.27244003e-05, 7.48578314e-05,\n",
       "       6.77062926e-05, 6.12698204e-05, 5.54292455e-05, 5.01845934e-05,\n",
       "       4.54166766e-05], dtype=float32)>"
      ]
     },
     "execution_count": 81,
     "metadata": {},
     "output_type": "execute_result"
    }
   ],
   "source": [
    "\n",
    "with tf.GradientTape() as tape:\n",
    "    tape.watch(x)\n",
    "    y = tf.nn.sigmoid(x)\n",
    "\n",
    "dy_dx = tape.gradient(y, x)\n",
    "dy_dx"
   ]
  },
  {
   "cell_type": "code",
   "execution_count": 78,
   "metadata": {},
   "outputs": [
    {
     "data": {
      "image/png": "[encoded data removed]",
      "text/plain": [
       "<Figure size 900x600 with 1 Axes>"
      ]
     },
     "metadata": {},
     "output_type": "display_data"
    }
   ],
   "source": [
    "plt.plot(x, y, label='y')\n",
    "plt.plot(x, dy_dx, label='dy/dx')\n",
    "plt.legend()\n",
    "_ = plt.xlabel('x')"
   ]
  },
  {
   "cell_type": "code",
   "execution_count": 107,
   "metadata": {},
   "outputs": [
    {
     "name": "stdout",
     "output_type": "stream",
     "text": [
      "tf.Tensor(1.0, shape=(), dtype=float32)\n",
      "None\n",
      "None\n"
     ]
    }
   ],
   "source": [
    "x = tf.constant(3.0)\n",
    "\n",
    "v0 = tf.Variable(2.0)\n",
    "v1 = tf.Variable(2.0)\n",
    "\n",
    "with tf.GradientTape(persistent=True) as tape:\n",
    "    tape.watch(x)\n",
    "    if x > 0.0:\n",
    "        result = v0 \n",
    "    else: \n",
    "        result = v1**2 *x\n",
    "\n",
    "dv0, dv1,dvx = tape.gradient(result, [v0, v1,x])\n",
    "\n",
    "print(dv0)\n",
    "print(dv1)\n",
    "print(dvx)\n"
   ]
  },
  {
   "cell_type": "code",
   "execution_count": 108,
   "metadata": {},
   "outputs": [
    {
     "name": "stdout",
     "output_type": "stream",
     "text": [
      "ResourceVariable : tf.Tensor(1.0, shape=(), dtype=float32)\n",
      "EagerTensor : None\n"
     ]
    }
   ],
   "source": [
    "x = tf.Variable(2.0)\n",
    "\n",
    "for epoch in range(2):\n",
    "  with tf.GradientTape() as tape:\n",
    "    y = x+1\n",
    "\n",
    "  print(type(x).__name__, \":\", tape.gradient(y, x))\n",
    "  x = x + 1   # This should be `x.assign_add(1)`"
   ]
  },
  {
   "cell_type": "code",
   "execution_count": 120,
   "metadata": {},
   "outputs": [
    {
     "name": "stdout",
     "output_type": "stream",
     "text": [
      "tf.Tensor(\n",
      "[[0.5 1. ]\n",
      " [1.5 2. ]], shape=(2, 2), dtype=float32)\n"
     ]
    }
   ],
   "source": [
    "x = tf.Variable([[1.0, 2.0],\n",
    "                 [3.0, 4.0]], dtype=tf.float32)\n",
    "\n",
    "with tf.GradientTape() as tape:\n",
    "  x2 = x**2\n",
    "\n",
    "  # This step is calculated with NumPy\n",
    "  y = tf.reduce_mean(x2, axis=0)\n",
    "\n",
    "  # Like most ops, reduce_mean will cast the NumPy array to a constant tensor\n",
    "  # using `tf.convert_to_tensor`.\n",
    "  y = tf.reduce_mean(y, axis=0)\n",
    "\n",
    "print(tape.gradient(y, x))"
   ]
  },
  {
   "cell_type": "code",
   "execution_count": 116,
   "metadata": {},
   "outputs": [
    {
     "data": {
      "text/plain": [
       "array([ 5., 10.], dtype=float32)"
      ]
     },
     "execution_count": 116,
     "metadata": {},
     "output_type": "execute_result"
    }
   ],
   "source": [
    "np.mean(x2, axis=0)"
   ]
  },
  {
   "cell_type": "code",
   "execution_count": 117,
   "metadata": {},
   "outputs": [
    {
     "data": {
      "text/plain": [
       "<tf.Tensor: shape=(), dtype=float32, numpy=7.5>"
      ]
     },
     "execution_count": 117,
     "metadata": {},
     "output_type": "execute_result"
    }
   ],
   "source": [
    "tf.reduce_mean(np.mean(x2, axis=0), axis=0)"
   ]
  },
  {
   "cell_type": "code",
   "execution_count": 123,
   "metadata": {},
   "outputs": [
    {
     "data": {
      "text/plain": [
       "<tf.Tensor: shape=(2, 2), dtype=float32, numpy=\n",
       "array([[ 1.,  4.],\n",
       "       [ 9., 16.]], dtype=float32)>"
      ]
     },
     "execution_count": 123,
     "metadata": {},
     "output_type": "execute_result"
    }
   ],
   "source": [
    "x**2"
   ]
  },
  {
   "cell_type": "code",
   "execution_count": 124,
   "metadata": {},
   "outputs": [
    {
     "data": {
      "text/plain": [
       "<tf.Variable 'Variable:0' shape=(2,) dtype=float32, numpy=array([0., 0.], dtype=float32)>"
      ]
     },
     "execution_count": 124,
     "metadata": {},
     "output_type": "execute_result"
    }
   ],
   "source": [
    "a"
   ]
  },
  {
   "cell_type": "code",
   "execution_count": 125,
   "metadata": {},
   "outputs": [
    {
     "data": {
      "text/plain": [
       "<tf.Tensor: shape=(2, 2), dtype=float32, numpy=\n",
       "array([[1., 2.],\n",
       "       [3., 4.]], dtype=float32)>"
      ]
     },
     "execution_count": 125,
     "metadata": {},
     "output_type": "execute_result"
    }
   ],
   "source": [
    "x+a"
   ]
  },
  {
   "cell_type": "code",
   "execution_count": 149,
   "metadata": {},
   "outputs": [
    {
     "name": "stdout",
     "output_type": "stream",
     "text": [
      "tf.Tensor(28.0, shape=(), dtype=float32)\n",
      "(<tf.Variable 'Variable:0' shape=() dtype=float32, numpy=5.0>, <tf.Variable 'Variable:0' shape=() dtype=float32, numpy=1.0>)\n"
     ]
    }
   ],
   "source": [
    "x0 = tf.Variable(5.0)\n",
    "x1 = tf.Variable(1.0)\n",
    "\n",
    "with tf.GradientTape() as tape:\n",
    "    x3 = x1+x0+x1\n",
    "#   x1.assign_add(x0)\n",
    "  # The tape starts recording from x1.\n",
    "    y = x3**2   # y = (x1 + x0)**2\n",
    "\n",
    "# This doesn't work.\n",
    "print(tape.gradient(y, x1))   #dy/dx0 = 2*(x1 + x0)\n",
    "print(tape.watched_variables())"
   ]
  },
  {
   "cell_type": "code",
   "execution_count": null,
   "metadata": {},
   "outputs": [],
   "source": []
  }
 ],
 "metadata": {
  "kernelspec": {
   "display_name": ".venv",
   "language": "python",
   "name": "python3"
  },
  "language_info": {
   "codemirror_mode": {
    "name": "ipython",
    "version": 3
   },
   "file_extension": ".py",
   "mimetype": "text/x-python",
   "name": "python",
   "nbconvert_exporter": "python",
   "pygments_lexer": "ipython3",
   "version": "3.10.12"
  }
 },
 "nbformat": 4,
 "nbformat_minor": 2
}
