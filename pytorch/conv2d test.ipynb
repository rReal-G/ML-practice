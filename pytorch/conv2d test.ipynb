{
 "cells": [
  {
   "cell_type": "code",
   "execution_count": 1,
   "metadata": {},
   "outputs": [],
   "source": [
    "import torch\n",
    "import torch.nn as nn"
   ]
  },
  {
   "cell_type": "code",
   "execution_count": 2,
   "metadata": {},
   "outputs": [
    {
     "data": {
      "text/plain": [
       "Conv2d(3, 16, kernel_size=(3, 3), stride=(1, 1))"
      ]
     },
     "execution_count": 2,
     "metadata": {},
     "output_type": "execute_result"
    }
   ],
   "source": [
    "conv2d_layer = nn.Conv2d(3, 16, kernel_size=3)\n",
    "conv2d_layer"
   ]
  },
  {
   "cell_type": "code",
   "execution_count": 3,
   "metadata": {},
   "outputs": [],
   "source": [
    "# import torchvision\n",
    "# transform_pipeline = torchvision.transforms.Compose([\n",
    "#     torchvision.transforms.ToTensor(),\n",
    "#     torchvision.transforms.Normalize((0.5, 0.5, 0.5), (0.5, 0.5, 0.5))\n",
    "#     ])"
   ]
  },
  {
   "cell_type": "code",
   "execution_count": 4,
   "metadata": {},
   "outputs": [
    {
     "name": "stdout",
     "output_type": "stream",
     "text": [
      "Files already downloaded and verified\n",
      "Files already downloaded and verified\n"
     ]
    }
   ],
   "source": [
    "from torchvision import datasets\n",
    "cifar10 = datasets.CIFAR10(root='./misc_data', train=True, download=True)\n",
    "cifar10_val = datasets.CIFAR10(root='./misc_data', train=False, download=True)\n"
   ]
  },
  {
   "cell_type": "code",
   "execution_count": 5,
   "metadata": {},
   "outputs": [],
   "source": [
    "from torchvision import transforms\n",
    "to_tensor = transforms.ToTensor()\n",
    "cifar10 = torch.stack([to_tensor(img) for img, _ in cifar10], dim=0)\n"
   ]
  },
  {
   "cell_type": "code",
   "execution_count": 6,
   "metadata": {},
   "outputs": [
    {
     "data": {
      "text/plain": [
       "torch.Size([50000, 3, 32, 32])"
      ]
     },
     "execution_count": 6,
     "metadata": {},
     "output_type": "execute_result"
    }
   ],
   "source": [
    "cifar10.shape"
   ]
  },
  {
   "cell_type": "code",
   "execution_count": 7,
   "metadata": {},
   "outputs": [],
   "source": [
    "cifar101 = cifar10.permute(1,2,3,0)"
   ]
  },
  {
   "cell_type": "code",
   "execution_count": 8,
   "metadata": {},
   "outputs": [
    {
     "data": {
      "text/plain": [
       "torch.Size([3, 32, 32, 50000])"
      ]
     },
     "execution_count": 8,
     "metadata": {},
     "output_type": "execute_result"
    }
   ],
   "source": [
    "cifar101.shape"
   ]
  },
  {
   "cell_type": "code",
   "execution_count": 9,
   "metadata": {},
   "outputs": [
    {
     "data": {
      "text/plain": [
       "torch.Size([3, 51200000])"
      ]
     },
     "execution_count": 9,
     "metadata": {},
     "output_type": "execute_result"
    }
   ],
   "source": [
    "cifar101.contiguous().view(3, -1).shape"
   ]
  },
  {
   "cell_type": "code",
   "execution_count": 10,
   "metadata": {},
   "outputs": [
    {
     "data": {
      "text/plain": [
       "(tensor([0.4914, 0.4822, 0.4465]), tensor([0.2470, 0.2435, 0.2616]))"
      ]
     },
     "execution_count": 10,
     "metadata": {},
     "output_type": "execute_result"
    }
   ],
   "source": [
    "means = cifar101.contiguous().view(3, -1).mean(1)\n",
    "std = cifar101.contiguous().view(3, -1).std(1)\n",
    "means, std"
   ]
  },
  {
   "cell_type": "code",
   "execution_count": 11,
   "metadata": {},
   "outputs": [],
   "source": [
    "norm_trans = transforms.Normalize(means, std)"
   ]
  },
  {
   "cell_type": "code",
   "execution_count": 12,
   "metadata": {},
   "outputs": [],
   "source": [
    "trans = transforms.Compose([to_tensor, norm_trans])"
   ]
  },
  {
   "cell_type": "code",
   "execution_count": 13,
   "metadata": {},
   "outputs": [
    {
     "name": "stdout",
     "output_type": "stream",
     "text": [
      "Files already downloaded and verified\n",
      "Files already downloaded and verified\n"
     ]
    }
   ],
   "source": [
    "cifar10 = datasets.CIFAR10(root='./misc_data', train=True, download=True,transform=trans)\n",
    "cifar10_val = datasets.CIFAR10(root='./misc_data', train=False, download=True, transform=trans)\n",
    "label_map = {0: 0, 2: 1}\n",
    "label_classes = ['airplane', 'bird']\n",
    "cifar2 = [(img, label_map[label]) for img, label in cifar10 if label in [0,2]]\n",
    "cifar2_val = [(img, label_map[label]) for img, label in cifar10_val if label in [0,2]]"
   ]
  },
  {
   "cell_type": "code",
   "execution_count": 14,
   "metadata": {},
   "outputs": [
    {
     "data": {
      "text/plain": [
       "torch.Size([1, 16, 30, 30])"
      ]
     },
     "execution_count": 14,
     "metadata": {},
     "output_type": "execute_result"
    }
   ],
   "source": [
    "test_output = conv2d_layer(cifar2[0][0].unsqueeze(0))\n",
    "test_output.shape"
   ]
  },
  {
   "cell_type": "code",
   "execution_count": 15,
   "metadata": {},
   "outputs": [
    {
     "data": {
      "text/plain": [
       "torch.Size([1, 3, 32, 32])"
      ]
     },
     "execution_count": 15,
     "metadata": {},
     "output_type": "execute_result"
    }
   ],
   "source": [
    "cifar2[0][0].unsqueeze(0).shape"
   ]
  },
  {
   "cell_type": "code",
   "execution_count": 16,
   "metadata": {},
   "outputs": [
    {
     "data": {
      "text/plain": [
       "torch.Size([1, 1, 30, 30])"
      ]
     },
     "execution_count": 16,
     "metadata": {},
     "output_type": "execute_result"
    }
   ],
   "source": [
    "z = nn.Conv2d(3,1,3)(cifar2[0][0].unsqueeze(0))\n",
    "z.shape"
   ]
  },
  {
   "cell_type": "code",
   "execution_count": 17,
   "metadata": {},
   "outputs": [
    {
     "data": {
      "text/plain": [
       "torch.Size([1, 1, 15, 15])"
      ]
     },
     "execution_count": 17,
     "metadata": {},
     "output_type": "execute_result"
    }
   ],
   "source": [
    "nn.MaxPool2d(2)(z).shape"
   ]
  },
  {
   "cell_type": "code",
   "execution_count": 18,
   "metadata": {},
   "outputs": [
    {
     "data": {
      "text/plain": [
       "<matplotlib.image.AxesImage at 0x103efab15d0>"
      ]
     },
     "execution_count": 18,
     "metadata": {},
     "output_type": "execute_result"
    },
    {
     "data": {
      "image/png": "[encoded data removed]",
      "text/plain": [
       "<Figure size 640x480 with 1 Axes>"
      ]
     },
     "metadata": {},
     "output_type": "display_data"
    }
   ],
   "source": [
    "import matplotlib.pyplot as plt\n",
    "plt.imshow(test_output[0,0].unsqueeze(2).detach(), cmap='gray')"
   ]
  },
  {
   "cell_type": "code",
   "execution_count": 19,
   "metadata": {},
   "outputs": [],
   "source": [
    "with torch.no_grad():\n",
    "    conv2d_layer.bias.zero_()\n",
    "    conv2d_layer.weight.fill_(1.0 / 9.0)"
   ]
  },
  {
   "cell_type": "code",
   "execution_count": 20,
   "metadata": {},
   "outputs": [
    {
     "data": {
      "text/plain": [
       "torch.Size([3, 32, 32])"
      ]
     },
     "execution_count": 20,
     "metadata": {},
     "output_type": "execute_result"
    }
   ],
   "source": [
    "cifar2[0][0].shape"
   ]
  },
  {
   "cell_type": "code",
   "execution_count": 21,
   "metadata": {},
   "outputs": [
    {
     "data": {
      "text/plain": [
       "<matplotlib.image.AxesImage at 0x103ef9ff010>"
      ]
     },
     "execution_count": 21,
     "metadata": {},
     "output_type": "execute_result"
    },
    {
     "data": {
      "image/png": "[encoded data removed]",
      "text/plain": [
       "<Figure size 640x480 with 2 Axes>"
      ]
     },
     "metadata": {},
     "output_type": "display_data"
    }
   ],
   "source": [
    "out = conv2d_layer(cifar2[0][0].unsqueeze(0))\n",
    "fig, axs = plt.subplots(1, 2)\n",
    "axs[0].imshow(out[0, 0].detach(), cmap='gray')\n",
    "axs[1].imshow(cifar2[0][0][0].unsqueeze(2), cmap='gray')\n"
   ]
  },
  {
   "cell_type": "code",
   "execution_count": 56,
   "metadata": {},
   "outputs": [],
   "source": [
    "import torch.nn.functional as F\n",
    "\n",
    "class ResidualBlock(nn.Module):\n",
    "    def __init__(self, n):\n",
    "        super().__init__()\n",
    "        self.conv1 = nn.Conv2d(n, n, kernel_size=3, padding=1)\n",
    "        self.bacthnorm2d_1 = nn.BatchNorm2d(n)\n",
    "        self.conv2 = nn.Conv2d(n, n, kernel_size=3, padding=1)\n",
    "        self.bacthnorm2d_2  = nn.BatchNorm2d(n)\n",
    "        torch.nn.init.kaiming_normal_(self.conv1.weight, nonlinearity='relu')\n",
    "        torch.nn.init.constant_(self.bacthnorm2d_1.weight, 0.5)\n",
    "        torch.nn.init.zeros_(self.bacthnorm2d_1.bias)\n",
    "        \n",
    "    def forward(self, x):\n",
    "        out = self.bacthnorm2d_1(self.conv1(x))\n",
    "        out = F.relu(out)\n",
    "        out = self.bacthnorm2d_2(self.conv2(out))\n",
    "        return F.relu(out + x)\n",
    "\n",
    "class GNet(nn.Module):\n",
    "    def __init__(self):\n",
    "        super().__init__()\n",
    "        self.conv1 = nn.Conv2d(3, 32, 3, padding=1)\n",
    "        self.batchnorm2d_1 = nn.BatchNorm2d(32)\n",
    "        # self.tanh1 = nn.Tanh()\n",
    "        # self.maxpool1 = nn.MaxPool2d(2)\n",
    "        self.conv2 = nn.Conv2d(32, 15, 3, padding=1)\n",
    "        self.batchnorm2d_2 = nn.BatchNorm2d(15)\n",
    "        # self.tanh2 = nn.Tanh()\n",
    "        # self.maxpool2 = nn.MaxPool2d(2)\n",
    "        self.resblocks = nn.Sequential(*(50 * [ResidualBlock(15)]))\n",
    "        self.conv3 = nn.Conv2d(15, 10, 3, padding=1)\n",
    "        self.lin1 = nn.Linear(10*4*4, 60)\n",
    "        # self.tanh3 = nn.Tanh()\n",
    "        self.lin2 = nn.Linear(60, 2)\n",
    "        \n",
    "    def forward(self, x):\n",
    "        out = self.batchnorm2d_1(self.conv1(x))\n",
    "        out = F.max_pool2d(torch.tanh(out), 2)\n",
    "        # out = F.dropout2d(out, p=0.1)\n",
    "        out = self.batchnorm2d_2(self.conv2(out))\n",
    "        out = F.max_pool2d(torch.tanh(out), 2)\n",
    "        out = F.dropout2d(out, p=0.2)\n",
    "        out = F.max_pool2d(torch.tanh(self.conv3(out)), 2)\n",
    "        out = out.view(-1, 10*4*4)\n",
    "        out = torch.tanh(self.lin1(out))\n",
    "        # out = F.dropout(out, p=0.1)\n",
    "        out = self.lin2(out)\n",
    "        return out"
   ]
  },
  {
   "cell_type": "code",
   "execution_count": 57,
   "metadata": {},
   "outputs": [
    {
     "data": {
      "text/plain": [
       "GNet(\n",
       "  (conv1): Conv2d(3, 32, kernel_size=(3, 3), stride=(1, 1), padding=(1, 1))\n",
       "  (batchnorm2d_1): BatchNorm2d(32, eps=1e-05, momentum=0.1, affine=True, track_running_stats=True)\n",
       "  (conv2): Conv2d(32, 15, kernel_size=(3, 3), stride=(1, 1), padding=(1, 1))\n",
       "  (batchnorm2d_2): BatchNorm2d(15, eps=1e-05, momentum=0.1, affine=True, track_running_stats=True)\n",
       "  (resblocks): Sequential(\n",
       "    (0): ResidualBlock(\n",
       "      (conv1): Conv2d(15, 15, kernel_size=(3, 3), stride=(1, 1), padding=(1, 1))\n",
       "      (bacthnorm2d_1): BatchNorm2d(15, eps=1e-05, momentum=0.1, affine=True, track_running_stats=True)\n",
       "      (conv2): Conv2d(15, 15, kernel_size=(3, 3), stride=(1, 1), padding=(1, 1))\n",
       "      (bacthnorm2d_2): BatchNorm2d(15, eps=1e-05, momentum=0.1, affine=True, track_running_stats=True)\n",
       "    )\n",
       "    (1): ResidualBlock(\n",
       "      (conv1): Conv2d(15, 15, kernel_size=(3, 3), stride=(1, 1), padding=(1, 1))\n",
       "      (bacthnorm2d_1): BatchNorm2d(15, eps=1e-05, momentum=0.1, affine=True, track_running_stats=True)\n",
       "      (conv2): Conv2d(15, 15, kernel_size=(3, 3), stride=(1, 1), padding=(1, 1))\n",
       "      (bacthnorm2d_2): BatchNorm2d(15, eps=1e-05, momentum=0.1, affine=True, track_running_stats=True)\n",
       "    )\n",
       "    (2): ResidualBlock(\n",
       "      (conv1): Conv2d(15, 15, kernel_size=(3, 3), stride=(1, 1), padding=(1, 1))\n",
       "      (bacthnorm2d_1): BatchNorm2d(15, eps=1e-05, momentum=0.1, affine=True, track_running_stats=True)\n",
       "      (conv2): Conv2d(15, 15, kernel_size=(3, 3), stride=(1, 1), padding=(1, 1))\n",
       "      (bacthnorm2d_2): BatchNorm2d(15, eps=1e-05, momentum=0.1, affine=True, track_running_stats=True)\n",
       "    )\n",
       "    (3): ResidualBlock(\n",
       "      (conv1): Conv2d(15, 15, kernel_size=(3, 3), stride=(1, 1), padding=(1, 1))\n",
       "      (bacthnorm2d_1): BatchNorm2d(15, eps=1e-05, momentum=0.1, affine=True, track_running_stats=True)\n",
       "      (conv2): Conv2d(15, 15, kernel_size=(3, 3), stride=(1, 1), padding=(1, 1))\n",
       "      (bacthnorm2d_2): BatchNorm2d(15, eps=1e-05, momentum=0.1, affine=True, track_running_stats=True)\n",
       "    )\n",
       "    (4): ResidualBlock(\n",
       "      (conv1): Conv2d(15, 15, kernel_size=(3, 3), stride=(1, 1), padding=(1, 1))\n",
       "      (bacthnorm2d_1): BatchNorm2d(15, eps=1e-05, momentum=0.1, affine=True, track_running_stats=True)\n",
       "      (conv2): Conv2d(15, 15, kernel_size=(3, 3), stride=(1, 1), padding=(1, 1))\n",
       "      (bacthnorm2d_2): BatchNorm2d(15, eps=1e-05, momentum=0.1, affine=True, track_running_stats=True)\n",
       "    )\n",
       "    (5): ResidualBlock(\n",
       "      (conv1): Conv2d(15, 15, kernel_size=(3, 3), stride=(1, 1), padding=(1, 1))\n",
       "      (bacthnorm2d_1): BatchNorm2d(15, eps=1e-05, momentum=0.1, affine=True, track_running_stats=True)\n",
       "      (conv2): Conv2d(15, 15, kernel_size=(3, 3), stride=(1, 1), padding=(1, 1))\n",
       "      (bacthnorm2d_2): BatchNorm2d(15, eps=1e-05, momentum=0.1, affine=True, track_running_stats=True)\n",
       "    )\n",
       "    (6): ResidualBlock(\n",
       "      (conv1): Conv2d(15, 15, kernel_size=(3, 3), stride=(1, 1), padding=(1, 1))\n",
       "      (bacthnorm2d_1): BatchNorm2d(15, eps=1e-05, momentum=0.1, affine=True, track_running_stats=True)\n",
       "      (conv2): Conv2d(15, 15, kernel_size=(3, 3), stride=(1, 1), padding=(1, 1))\n",
       "      (bacthnorm2d_2): BatchNorm2d(15, eps=1e-05, momentum=0.1, affine=True, track_running_stats=True)\n",
       "    )\n",
       "    (7): ResidualBlock(\n",
       "      (conv1): Conv2d(15, 15, kernel_size=(3, 3), stride=(1, 1), padding=(1, 1))\n",
       "      (bacthnorm2d_1): BatchNorm2d(15, eps=1e-05, momentum=0.1, affine=True, track_running_stats=True)\n",
       "      (conv2): Conv2d(15, 15, kernel_size=(3, 3), stride=(1, 1), padding=(1, 1))\n",
       "      (bacthnorm2d_2): BatchNorm2d(15, eps=1e-05, momentum=0.1, affine=True, track_running_stats=True)\n",
       "    )\n",
       "    (8): ResidualBlock(\n",
       "      (conv1): Conv2d(15, 15, kernel_size=(3, 3), stride=(1, 1), padding=(1, 1))\n",
       "      (bacthnorm2d_1): BatchNorm2d(15, eps=1e-05, momentum=0.1, affine=True, track_running_stats=True)\n",
       "      (conv2): Conv2d(15, 15, kernel_size=(3, 3), stride=(1, 1), padding=(1, 1))\n",
       "      (bacthnorm2d_2): BatchNorm2d(15, eps=1e-05, momentum=0.1, affine=True, track_running_stats=True)\n",
       "    )\n",
       "    (9): ResidualBlock(\n",
       "      (conv1): Conv2d(15, 15, kernel_size=(3, 3), stride=(1, 1), padding=(1, 1))\n",
       "      (bacthnorm2d_1): BatchNorm2d(15, eps=1e-05, momentum=0.1, affine=True, track_running_stats=True)\n",
       "      (conv2): Conv2d(15, 15, kernel_size=(3, 3), stride=(1, 1), padding=(1, 1))\n",
       "      (bacthnorm2d_2): BatchNorm2d(15, eps=1e-05, momentum=0.1, affine=True, track_running_stats=True)\n",
       "    )\n",
       "    (10): ResidualBlock(\n",
       "      (conv1): Conv2d(15, 15, kernel_size=(3, 3), stride=(1, 1), padding=(1, 1))\n",
       "      (bacthnorm2d_1): BatchNorm2d(15, eps=1e-05, momentum=0.1, affine=True, track_running_stats=True)\n",
       "      (conv2): Conv2d(15, 15, kernel_size=(3, 3), stride=(1, 1), padding=(1, 1))\n",
       "      (bacthnorm2d_2): BatchNorm2d(15, eps=1e-05, momentum=0.1, affine=True, track_running_stats=True)\n",
       "    )\n",
       "    (11): ResidualBlock(\n",
       "      (conv1): Conv2d(15, 15, kernel_size=(3, 3), stride=(1, 1), padding=(1, 1))\n",
       "      (bacthnorm2d_1): BatchNorm2d(15, eps=1e-05, momentum=0.1, affine=True, track_running_stats=True)\n",
       "      (conv2): Conv2d(15, 15, kernel_size=(3, 3), stride=(1, 1), padding=(1, 1))\n",
       "      (bacthnorm2d_2): BatchNorm2d(15, eps=1e-05, momentum=0.1, affine=True, track_running_stats=True)\n",
       "    )\n",
       "    (12): ResidualBlock(\n",
       "      (conv1): Conv2d(15, 15, kernel_size=(3, 3), stride=(1, 1), padding=(1, 1))\n",
       "      (bacthnorm2d_1): BatchNorm2d(15, eps=1e-05, momentum=0.1, affine=True, track_running_stats=True)\n",
       "      (conv2): Conv2d(15, 15, kernel_size=(3, 3), stride=(1, 1), padding=(1, 1))\n",
       "      (bacthnorm2d_2): BatchNorm2d(15, eps=1e-05, momentum=0.1, affine=True, track_running_stats=True)\n",
       "    )\n",
       "    (13): ResidualBlock(\n",
       "      (conv1): Conv2d(15, 15, kernel_size=(3, 3), stride=(1, 1), padding=(1, 1))\n",
       "      (bacthnorm2d_1): BatchNorm2d(15, eps=1e-05, momentum=0.1, affine=True, track_running_stats=True)\n",
       "      (conv2): Conv2d(15, 15, kernel_size=(3, 3), stride=(1, 1), padding=(1, 1))\n",
       "      (bacthnorm2d_2): BatchNorm2d(15, eps=1e-05, momentum=0.1, affine=True, track_running_stats=True)\n",
       "    )\n",
       "    (14): ResidualBlock(\n",
       "      (conv1): Conv2d(15, 15, kernel_size=(3, 3), stride=(1, 1), padding=(1, 1))\n",
       "      (bacthnorm2d_1): BatchNorm2d(15, eps=1e-05, momentum=0.1, affine=True, track_running_stats=True)\n",
       "      (conv2): Conv2d(15, 15, kernel_size=(3, 3), stride=(1, 1), padding=(1, 1))\n",
       "      (bacthnorm2d_2): BatchNorm2d(15, eps=1e-05, momentum=0.1, affine=True, track_running_stats=True)\n",
       "    )\n",
       "    (15): ResidualBlock(\n",
       "      (conv1): Conv2d(15, 15, kernel_size=(3, 3), stride=(1, 1), padding=(1, 1))\n",
       "      (bacthnorm2d_1): BatchNorm2d(15, eps=1e-05, momentum=0.1, affine=True, track_running_stats=True)\n",
       "      (conv2): Conv2d(15, 15, kernel_size=(3, 3), stride=(1, 1), padding=(1, 1))\n",
       "      (bacthnorm2d_2): BatchNorm2d(15, eps=1e-05, momentum=0.1, affine=True, track_running_stats=True)\n",
       "    )\n",
       "    (16): ResidualBlock(\n",
       "      (conv1): Conv2d(15, 15, kernel_size=(3, 3), stride=(1, 1), padding=(1, 1))\n",
       "      (bacthnorm2d_1): BatchNorm2d(15, eps=1e-05, momentum=0.1, affine=True, track_running_stats=True)\n",
       "      (conv2): Conv2d(15, 15, kernel_size=(3, 3), stride=(1, 1), padding=(1, 1))\n",
       "      (bacthnorm2d_2): BatchNorm2d(15, eps=1e-05, momentum=0.1, affine=True, track_running_stats=True)\n",
       "    )\n",
       "    (17): ResidualBlock(\n",
       "      (conv1): Conv2d(15, 15, kernel_size=(3, 3), stride=(1, 1), padding=(1, 1))\n",
       "      (bacthnorm2d_1): BatchNorm2d(15, eps=1e-05, momentum=0.1, affine=True, track_running_stats=True)\n",
       "      (conv2): Conv2d(15, 15, kernel_size=(3, 3), stride=(1, 1), padding=(1, 1))\n",
       "      (bacthnorm2d_2): BatchNorm2d(15, eps=1e-05, momentum=0.1, affine=True, track_running_stats=True)\n",
       "    )\n",
       "    (18): ResidualBlock(\n",
       "      (conv1): Conv2d(15, 15, kernel_size=(3, 3), stride=(1, 1), padding=(1, 1))\n",
       "      (bacthnorm2d_1): BatchNorm2d(15, eps=1e-05, momentum=0.1, affine=True, track_running_stats=True)\n",
       "      (conv2): Conv2d(15, 15, kernel_size=(3, 3), stride=(1, 1), padding=(1, 1))\n",
       "      (bacthnorm2d_2): BatchNorm2d(15, eps=1e-05, momentum=0.1, affine=True, track_running_stats=True)\n",
       "    )\n",
       "    (19): ResidualBlock(\n",
       "      (conv1): Conv2d(15, 15, kernel_size=(3, 3), stride=(1, 1), padding=(1, 1))\n",
       "      (bacthnorm2d_1): BatchNorm2d(15, eps=1e-05, momentum=0.1, affine=True, track_running_stats=True)\n",
       "      (conv2): Conv2d(15, 15, kernel_size=(3, 3), stride=(1, 1), padding=(1, 1))\n",
       "      (bacthnorm2d_2): BatchNorm2d(15, eps=1e-05, momentum=0.1, affine=True, track_running_stats=True)\n",
       "    )\n",
       "    (20): ResidualBlock(\n",
       "      (conv1): Conv2d(15, 15, kernel_size=(3, 3), stride=(1, 1), padding=(1, 1))\n",
       "      (bacthnorm2d_1): BatchNorm2d(15, eps=1e-05, momentum=0.1, affine=True, track_running_stats=True)\n",
       "      (conv2): Conv2d(15, 15, kernel_size=(3, 3), stride=(1, 1), padding=(1, 1))\n",
       "      (bacthnorm2d_2): BatchNorm2d(15, eps=1e-05, momentum=0.1, affine=True, track_running_stats=True)\n",
       "    )\n",
       "    (21): ResidualBlock(\n",
       "      (conv1): Conv2d(15, 15, kernel_size=(3, 3), stride=(1, 1), padding=(1, 1))\n",
       "      (bacthnorm2d_1): BatchNorm2d(15, eps=1e-05, momentum=0.1, affine=True, track_running_stats=True)\n",
       "      (conv2): Conv2d(15, 15, kernel_size=(3, 3), stride=(1, 1), padding=(1, 1))\n",
       "      (bacthnorm2d_2): BatchNorm2d(15, eps=1e-05, momentum=0.1, affine=True, track_running_stats=True)\n",
       "    )\n",
       "    (22): ResidualBlock(\n",
       "      (conv1): Conv2d(15, 15, kernel_size=(3, 3), stride=(1, 1), padding=(1, 1))\n",
       "      (bacthnorm2d_1): BatchNorm2d(15, eps=1e-05, momentum=0.1, affine=True, track_running_stats=True)\n",
       "      (conv2): Conv2d(15, 15, kernel_size=(3, 3), stride=(1, 1), padding=(1, 1))\n",
       "      (bacthnorm2d_2): BatchNorm2d(15, eps=1e-05, momentum=0.1, affine=True, track_running_stats=True)\n",
       "    )\n",
       "    (23): ResidualBlock(\n",
       "      (conv1): Conv2d(15, 15, kernel_size=(3, 3), stride=(1, 1), padding=(1, 1))\n",
       "      (bacthnorm2d_1): BatchNorm2d(15, eps=1e-05, momentum=0.1, affine=True, track_running_stats=True)\n",
       "      (conv2): Conv2d(15, 15, kernel_size=(3, 3), stride=(1, 1), padding=(1, 1))\n",
       "      (bacthnorm2d_2): BatchNorm2d(15, eps=1e-05, momentum=0.1, affine=True, track_running_stats=True)\n",
       "    )\n",
       "    (24): ResidualBlock(\n",
       "      (conv1): Conv2d(15, 15, kernel_size=(3, 3), stride=(1, 1), padding=(1, 1))\n",
       "      (bacthnorm2d_1): BatchNorm2d(15, eps=1e-05, momentum=0.1, affine=True, track_running_stats=True)\n",
       "      (conv2): Conv2d(15, 15, kernel_size=(3, 3), stride=(1, 1), padding=(1, 1))\n",
       "      (bacthnorm2d_2): BatchNorm2d(15, eps=1e-05, momentum=0.1, affine=True, track_running_stats=True)\n",
       "    )\n",
       "    (25): ResidualBlock(\n",
       "      (conv1): Conv2d(15, 15, kernel_size=(3, 3), stride=(1, 1), padding=(1, 1))\n",
       "      (bacthnorm2d_1): BatchNorm2d(15, eps=1e-05, momentum=0.1, affine=True, track_running_stats=True)\n",
       "      (conv2): Conv2d(15, 15, kernel_size=(3, 3), stride=(1, 1), padding=(1, 1))\n",
       "      (bacthnorm2d_2): BatchNorm2d(15, eps=1e-05, momentum=0.1, affine=True, track_running_stats=True)\n",
       "    )\n",
       "    (26): ResidualBlock(\n",
       "      (conv1): Conv2d(15, 15, kernel_size=(3, 3), stride=(1, 1), padding=(1, 1))\n",
       "      (bacthnorm2d_1): BatchNorm2d(15, eps=1e-05, momentum=0.1, affine=True, track_running_stats=True)\n",
       "      (conv2): Conv2d(15, 15, kernel_size=(3, 3), stride=(1, 1), padding=(1, 1))\n",
       "      (bacthnorm2d_2): BatchNorm2d(15, eps=1e-05, momentum=0.1, affine=True, track_running_stats=True)\n",
       "    )\n",
       "    (27): ResidualBlock(\n",
       "      (conv1): Conv2d(15, 15, kernel_size=(3, 3), stride=(1, 1), padding=(1, 1))\n",
       "      (bacthnorm2d_1): BatchNorm2d(15, eps=1e-05, momentum=0.1, affine=True, track_running_stats=True)\n",
       "      (conv2): Conv2d(15, 15, kernel_size=(3, 3), stride=(1, 1), padding=(1, 1))\n",
       "      (bacthnorm2d_2): BatchNorm2d(15, eps=1e-05, momentum=0.1, affine=True, track_running_stats=True)\n",
       "    )\n",
       "    (28): ResidualBlock(\n",
       "      (conv1): Conv2d(15, 15, kernel_size=(3, 3), stride=(1, 1), padding=(1, 1))\n",
       "      (bacthnorm2d_1): BatchNorm2d(15, eps=1e-05, momentum=0.1, affine=True, track_running_stats=True)\n",
       "      (conv2): Conv2d(15, 15, kernel_size=(3, 3), stride=(1, 1), padding=(1, 1))\n",
       "      (bacthnorm2d_2): BatchNorm2d(15, eps=1e-05, momentum=0.1, affine=True, track_running_stats=True)\n",
       "    )\n",
       "    (29): ResidualBlock(\n",
       "      (conv1): Conv2d(15, 15, kernel_size=(3, 3), stride=(1, 1), padding=(1, 1))\n",
       "      (bacthnorm2d_1): BatchNorm2d(15, eps=1e-05, momentum=0.1, affine=True, track_running_stats=True)\n",
       "      (conv2): Conv2d(15, 15, kernel_size=(3, 3), stride=(1, 1), padding=(1, 1))\n",
       "      (bacthnorm2d_2): BatchNorm2d(15, eps=1e-05, momentum=0.1, affine=True, track_running_stats=True)\n",
       "    )\n",
       "    (30): ResidualBlock(\n",
       "      (conv1): Conv2d(15, 15, kernel_size=(3, 3), stride=(1, 1), padding=(1, 1))\n",
       "      (bacthnorm2d_1): BatchNorm2d(15, eps=1e-05, momentum=0.1, affine=True, track_running_stats=True)\n",
       "      (conv2): Conv2d(15, 15, kernel_size=(3, 3), stride=(1, 1), padding=(1, 1))\n",
       "      (bacthnorm2d_2): BatchNorm2d(15, eps=1e-05, momentum=0.1, affine=True, track_running_stats=True)\n",
       "    )\n",
       "    (31): ResidualBlock(\n",
       "      (conv1): Conv2d(15, 15, kernel_size=(3, 3), stride=(1, 1), padding=(1, 1))\n",
       "      (bacthnorm2d_1): BatchNorm2d(15, eps=1e-05, momentum=0.1, affine=True, track_running_stats=True)\n",
       "      (conv2): Conv2d(15, 15, kernel_size=(3, 3), stride=(1, 1), padding=(1, 1))\n",
       "      (bacthnorm2d_2): BatchNorm2d(15, eps=1e-05, momentum=0.1, affine=True, track_running_stats=True)\n",
       "    )\n",
       "    (32): ResidualBlock(\n",
       "      (conv1): Conv2d(15, 15, kernel_size=(3, 3), stride=(1, 1), padding=(1, 1))\n",
       "      (bacthnorm2d_1): BatchNorm2d(15, eps=1e-05, momentum=0.1, affine=True, track_running_stats=True)\n",
       "      (conv2): Conv2d(15, 15, kernel_size=(3, 3), stride=(1, 1), padding=(1, 1))\n",
       "      (bacthnorm2d_2): BatchNorm2d(15, eps=1e-05, momentum=0.1, affine=True, track_running_stats=True)\n",
       "    )\n",
       "    (33): ResidualBlock(\n",
       "      (conv1): Conv2d(15, 15, kernel_size=(3, 3), stride=(1, 1), padding=(1, 1))\n",
       "      (bacthnorm2d_1): BatchNorm2d(15, eps=1e-05, momentum=0.1, affine=True, track_running_stats=True)\n",
       "      (conv2): Conv2d(15, 15, kernel_size=(3, 3), stride=(1, 1), padding=(1, 1))\n",
       "      (bacthnorm2d_2): BatchNorm2d(15, eps=1e-05, momentum=0.1, affine=True, track_running_stats=True)\n",
       "    )\n",
       "    (34): ResidualBlock(\n",
       "      (conv1): Conv2d(15, 15, kernel_size=(3, 3), stride=(1, 1), padding=(1, 1))\n",
       "      (bacthnorm2d_1): BatchNorm2d(15, eps=1e-05, momentum=0.1, affine=True, track_running_stats=True)\n",
       "      (conv2): Conv2d(15, 15, kernel_size=(3, 3), stride=(1, 1), padding=(1, 1))\n",
       "      (bacthnorm2d_2): BatchNorm2d(15, eps=1e-05, momentum=0.1, affine=True, track_running_stats=True)\n",
       "    )\n",
       "    (35): ResidualBlock(\n",
       "      (conv1): Conv2d(15, 15, kernel_size=(3, 3), stride=(1, 1), padding=(1, 1))\n",
       "      (bacthnorm2d_1): BatchNorm2d(15, eps=1e-05, momentum=0.1, affine=True, track_running_stats=True)\n",
       "      (conv2): Conv2d(15, 15, kernel_size=(3, 3), stride=(1, 1), padding=(1, 1))\n",
       "      (bacthnorm2d_2): BatchNorm2d(15, eps=1e-05, momentum=0.1, affine=True, track_running_stats=True)\n",
       "    )\n",
       "    (36): ResidualBlock(\n",
       "      (conv1): Conv2d(15, 15, kernel_size=(3, 3), stride=(1, 1), padding=(1, 1))\n",
       "      (bacthnorm2d_1): BatchNorm2d(15, eps=1e-05, momentum=0.1, affine=True, track_running_stats=True)\n",
       "      (conv2): Conv2d(15, 15, kernel_size=(3, 3), stride=(1, 1), padding=(1, 1))\n",
       "      (bacthnorm2d_2): BatchNorm2d(15, eps=1e-05, momentum=0.1, affine=True, track_running_stats=True)\n",
       "    )\n",
       "    (37): ResidualBlock(\n",
       "      (conv1): Conv2d(15, 15, kernel_size=(3, 3), stride=(1, 1), padding=(1, 1))\n",
       "      (bacthnorm2d_1): BatchNorm2d(15, eps=1e-05, momentum=0.1, affine=True, track_running_stats=True)\n",
       "      (conv2): Conv2d(15, 15, kernel_size=(3, 3), stride=(1, 1), padding=(1, 1))\n",
       "      (bacthnorm2d_2): BatchNorm2d(15, eps=1e-05, momentum=0.1, affine=True, track_running_stats=True)\n",
       "    )\n",
       "    (38): ResidualBlock(\n",
       "      (conv1): Conv2d(15, 15, kernel_size=(3, 3), stride=(1, 1), padding=(1, 1))\n",
       "      (bacthnorm2d_1): BatchNorm2d(15, eps=1e-05, momentum=0.1, affine=True, track_running_stats=True)\n",
       "      (conv2): Conv2d(15, 15, kernel_size=(3, 3), stride=(1, 1), padding=(1, 1))\n",
       "      (bacthnorm2d_2): BatchNorm2d(15, eps=1e-05, momentum=0.1, affine=True, track_running_stats=True)\n",
       "    )\n",
       "    (39): ResidualBlock(\n",
       "      (conv1): Conv2d(15, 15, kernel_size=(3, 3), stride=(1, 1), padding=(1, 1))\n",
       "      (bacthnorm2d_1): BatchNorm2d(15, eps=1e-05, momentum=0.1, affine=True, track_running_stats=True)\n",
       "      (conv2): Conv2d(15, 15, kernel_size=(3, 3), stride=(1, 1), padding=(1, 1))\n",
       "      (bacthnorm2d_2): BatchNorm2d(15, eps=1e-05, momentum=0.1, affine=True, track_running_stats=True)\n",
       "    )\n",
       "    (40): ResidualBlock(\n",
       "      (conv1): Conv2d(15, 15, kernel_size=(3, 3), stride=(1, 1), padding=(1, 1))\n",
       "      (bacthnorm2d_1): BatchNorm2d(15, eps=1e-05, momentum=0.1, affine=True, track_running_stats=True)\n",
       "      (conv2): Conv2d(15, 15, kernel_size=(3, 3), stride=(1, 1), padding=(1, 1))\n",
       "      (bacthnorm2d_2): BatchNorm2d(15, eps=1e-05, momentum=0.1, affine=True, track_running_stats=True)\n",
       "    )\n",
       "    (41): ResidualBlock(\n",
       "      (conv1): Conv2d(15, 15, kernel_size=(3, 3), stride=(1, 1), padding=(1, 1))\n",
       "      (bacthnorm2d_1): BatchNorm2d(15, eps=1e-05, momentum=0.1, affine=True, track_running_stats=True)\n",
       "      (conv2): Conv2d(15, 15, kernel_size=(3, 3), stride=(1, 1), padding=(1, 1))\n",
       "      (bacthnorm2d_2): BatchNorm2d(15, eps=1e-05, momentum=0.1, affine=True, track_running_stats=True)\n",
       "    )\n",
       "    (42): ResidualBlock(\n",
       "      (conv1): Conv2d(15, 15, kernel_size=(3, 3), stride=(1, 1), padding=(1, 1))\n",
       "      (bacthnorm2d_1): BatchNorm2d(15, eps=1e-05, momentum=0.1, affine=True, track_running_stats=True)\n",
       "      (conv2): Conv2d(15, 15, kernel_size=(3, 3), stride=(1, 1), padding=(1, 1))\n",
       "      (bacthnorm2d_2): BatchNorm2d(15, eps=1e-05, momentum=0.1, affine=True, track_running_stats=True)\n",
       "    )\n",
       "    (43): ResidualBlock(\n",
       "      (conv1): Conv2d(15, 15, kernel_size=(3, 3), stride=(1, 1), padding=(1, 1))\n",
       "      (bacthnorm2d_1): BatchNorm2d(15, eps=1e-05, momentum=0.1, affine=True, track_running_stats=True)\n",
       "      (conv2): Conv2d(15, 15, kernel_size=(3, 3), stride=(1, 1), padding=(1, 1))\n",
       "      (bacthnorm2d_2): BatchNorm2d(15, eps=1e-05, momentum=0.1, affine=True, track_running_stats=True)\n",
       "    )\n",
       "    (44): ResidualBlock(\n",
       "      (conv1): Conv2d(15, 15, kernel_size=(3, 3), stride=(1, 1), padding=(1, 1))\n",
       "      (bacthnorm2d_1): BatchNorm2d(15, eps=1e-05, momentum=0.1, affine=True, track_running_stats=True)\n",
       "      (conv2): Conv2d(15, 15, kernel_size=(3, 3), stride=(1, 1), padding=(1, 1))\n",
       "      (bacthnorm2d_2): BatchNorm2d(15, eps=1e-05, momentum=0.1, affine=True, track_running_stats=True)\n",
       "    )\n",
       "    (45): ResidualBlock(\n",
       "      (conv1): Conv2d(15, 15, kernel_size=(3, 3), stride=(1, 1), padding=(1, 1))\n",
       "      (bacthnorm2d_1): BatchNorm2d(15, eps=1e-05, momentum=0.1, affine=True, track_running_stats=True)\n",
       "      (conv2): Conv2d(15, 15, kernel_size=(3, 3), stride=(1, 1), padding=(1, 1))\n",
       "      (bacthnorm2d_2): BatchNorm2d(15, eps=1e-05, momentum=0.1, affine=True, track_running_stats=True)\n",
       "    )\n",
       "    (46): ResidualBlock(\n",
       "      (conv1): Conv2d(15, 15, kernel_size=(3, 3), stride=(1, 1), padding=(1, 1))\n",
       "      (bacthnorm2d_1): BatchNorm2d(15, eps=1e-05, momentum=0.1, affine=True, track_running_stats=True)\n",
       "      (conv2): Conv2d(15, 15, kernel_size=(3, 3), stride=(1, 1), padding=(1, 1))\n",
       "      (bacthnorm2d_2): BatchNorm2d(15, eps=1e-05, momentum=0.1, affine=True, track_running_stats=True)\n",
       "    )\n",
       "    (47): ResidualBlock(\n",
       "      (conv1): Conv2d(15, 15, kernel_size=(3, 3), stride=(1, 1), padding=(1, 1))\n",
       "      (bacthnorm2d_1): BatchNorm2d(15, eps=1e-05, momentum=0.1, affine=True, track_running_stats=True)\n",
       "      (conv2): Conv2d(15, 15, kernel_size=(3, 3), stride=(1, 1), padding=(1, 1))\n",
       "      (bacthnorm2d_2): BatchNorm2d(15, eps=1e-05, momentum=0.1, affine=True, track_running_stats=True)\n",
       "    )\n",
       "    (48): ResidualBlock(\n",
       "      (conv1): Conv2d(15, 15, kernel_size=(3, 3), stride=(1, 1), padding=(1, 1))\n",
       "      (bacthnorm2d_1): BatchNorm2d(15, eps=1e-05, momentum=0.1, affine=True, track_running_stats=True)\n",
       "      (conv2): Conv2d(15, 15, kernel_size=(3, 3), stride=(1, 1), padding=(1, 1))\n",
       "      (bacthnorm2d_2): BatchNorm2d(15, eps=1e-05, momentum=0.1, affine=True, track_running_stats=True)\n",
       "    )\n",
       "    (49): ResidualBlock(\n",
       "      (conv1): Conv2d(15, 15, kernel_size=(3, 3), stride=(1, 1), padding=(1, 1))\n",
       "      (bacthnorm2d_1): BatchNorm2d(15, eps=1e-05, momentum=0.1, affine=True, track_running_stats=True)\n",
       "      (conv2): Conv2d(15, 15, kernel_size=(3, 3), stride=(1, 1), padding=(1, 1))\n",
       "      (bacthnorm2d_2): BatchNorm2d(15, eps=1e-05, momentum=0.1, affine=True, track_running_stats=True)\n",
       "    )\n",
       "  )\n",
       "  (conv3): Conv2d(15, 10, kernel_size=(3, 3), stride=(1, 1), padding=(1, 1))\n",
       "  (lin1): Linear(in_features=160, out_features=60, bias=True)\n",
       "  (lin2): Linear(in_features=60, out_features=2, bias=True)\n",
       ")"
      ]
     },
     "execution_count": 57,
     "metadata": {},
     "output_type": "execute_result"
    }
   ],
   "source": [
    "gnet = GNet()\n",
    "gnet"
   ]
  },
  {
   "cell_type": "code",
   "execution_count": 58,
   "metadata": {},
   "outputs": [],
   "source": [
    "device = torch.device('cuda' if torch.cuda.is_available() else 'cpu')\n",
    "gnet = gnet.to(device)"
   ]
  },
  {
   "cell_type": "code",
   "execution_count": 59,
   "metadata": {},
   "outputs": [],
   "source": [
    "cifar2_gpu = [(img.to(device), torch.tensor(label).to(device)) for img, label in cifar2]\n",
    "cifar2_val_gpu = [(img.to(device), torch.tensor(label).to(device)) for img, label in cifar2_val]"
   ]
  },
  {
   "cell_type": "code",
   "execution_count": 60,
   "metadata": {},
   "outputs": [],
   "source": [
    "from torch.utils.data import DataLoader\n",
    "\n",
    "val_loader = DataLoader(cifar2_val_gpu, batch_size=64, shuffle=False)\n",
    "train_loader = DataLoader(cifar2_gpu, batch_size=64, shuffle=True)\n"
   ]
  },
  {
   "cell_type": "code",
   "execution_count": 68,
   "metadata": {},
   "outputs": [
    {
     "name": "stdout",
     "output_type": "stream",
     "text": [
      "2024-03-16 03:28:08.392352 -- Epoch: 1, Loss/batch: 0.4690724715685389\n",
      "2024-03-16 03:28:16.141799 -- Epoch: 10, Loss/batch: 0.28843584400453387\n",
      "2024-03-16 03:28:24.666278 -- Epoch: 20, Loss/batch: 0.24157491316840907\n",
      "2024-03-16 03:28:33.125925 -- Epoch: 30, Loss/batch: 0.23042928356273917\n",
      "2024-03-16 03:28:41.603413 -- Epoch: 40, Loss/batch: 0.21820198825210524\n",
      "2024-03-16 03:28:50.078440 -- Epoch: 50, Loss/batch: 0.21424253318150333\n",
      "2024-03-16 03:28:58.551871 -- Epoch: 60, Loss/batch: 0.2064610776627899\n",
      "2024-03-16 03:29:07.030812 -- Epoch: 70, Loss/batch: 0.19368545174788518\n",
      "2024-03-16 03:29:15.517899 -- Epoch: 80, Loss/batch: 0.20163624107268205\n",
      "2024-03-16 03:29:24.028117 -- Epoch: 90, Loss/batch: 0.19430569673229933\n"
     ]
    }
   ],
   "source": [
    "import datetime\n",
    "gnet = GNet().to(device)\n",
    "n_epochs = 90\n",
    "loss_fn = nn.CrossEntropyLoss()\n",
    "optimizer = torch.optim.SGD(gnet.parameters(), lr=0.01, \n",
    "                            weight_decay=0.005, momentum=0.9)\n",
    "gnet.train()\n",
    "for epoch in range(1, 1 + n_epochs):\n",
    "    loss_total = 0\n",
    "    for imgs, labels in train_loader:\n",
    "        outputs = gnet(imgs)\n",
    "        loss = loss_fn(outputs, labels)\n",
    "        # l2_lambda = 0.001\n",
    "        # l2_norm = sum(p.pow(2.0).sum() for p in gnet.parameters())\n",
    "        # loss += l2_lambda * l2_norm\n",
    "        optimizer.zero_grad()\n",
    "        loss.backward()\n",
    "        optimizer.step()\n",
    "        loss_total += loss.item()\n",
    "    if (epoch % 10 == 0 or epoch == 1):\n",
    "        print(f\"{datetime.datetime.now()} -- Epoch: {epoch}, Loss/batch: {loss_total/len(train_loader)}\")"
   ]
  },
  {
   "cell_type": "code",
   "execution_count": 69,
   "metadata": {},
   "outputs": [
    {
     "name": "stdout",
     "output_type": "stream",
     "text": [
      "Train Accuracy: 91.05%\n",
      "Validation Accuracy: 87.7%\n"
     ]
    }
   ],
   "source": [
    "def calculate_accuracy(loader):\n",
    "    correct = 0\n",
    "    total = 0\n",
    "    gnet.eval()\n",
    "    with torch.no_grad():\n",
    "        for data in loader:\n",
    "            inputs, labels = data\n",
    "            # inputs = inputs.to(device)\n",
    "            # labels = labels.to(device)\n",
    "\n",
    "            outputs = gnet(inputs)\n",
    "            # print(F.softmax(outputs[10].unsqueeze(0), dim=1))\n",
    "            _, predicted = torch.max(outputs.data, 1)\n",
    "\n",
    "            total += labels.size(0)\n",
    "            correct += (predicted == labels).sum().item()\n",
    "\n",
    "    accuracy = 100 * correct / total\n",
    "    return accuracy\n",
    "\n",
    "train_accuracy = calculate_accuracy(train_loader)\n",
    "val_accuracy = calculate_accuracy(val_loader)\n",
    "\n",
    "print(f\"Train Accuracy: {train_accuracy}%\")\n",
    "print(f\"Validation Accuracy: {val_accuracy}%\")\n"
   ]
  },
  {
   "cell_type": "code",
   "execution_count": 70,
   "metadata": {},
   "outputs": [],
   "source": [
    "# torch.save(gnet.state_dict(), 'gnet.pth')"
   ]
  },
  {
   "cell_type": "code",
   "execution_count": 71,
   "metadata": {},
   "outputs": [
    {
     "data": {
      "text/plain": [
       "(torch.Size([32]), torch.Size([32, 3, 3, 3]))"
      ]
     },
     "execution_count": 71,
     "metadata": {},
     "output_type": "execute_result"
    }
   ],
   "source": [
    "list(gnet.parameters())[2].shape,list(gnet.parameters())[0].shape"
   ]
  },
  {
   "cell_type": "code",
   "execution_count": 72,
   "metadata": {},
   "outputs": [
    {
     "data": {
      "text/plain": [
       "odict_keys(['conv1.weight', 'conv1.bias', 'batchnorm2d_1.weight', 'batchnorm2d_1.bias', 'batchnorm2d_1.running_mean', 'batchnorm2d_1.running_var', 'batchnorm2d_1.num_batches_tracked', 'conv2.weight', 'conv2.bias', 'batchnorm2d_2.weight', 'batchnorm2d_2.bias', 'batchnorm2d_2.running_mean', 'batchnorm2d_2.running_var', 'batchnorm2d_2.num_batches_tracked', 'resblocks.0.conv1.weight', 'resblocks.0.conv1.bias', 'resblocks.0.bacthnorm2d_1.weight', 'resblocks.0.bacthnorm2d_1.bias', 'resblocks.0.bacthnorm2d_1.running_mean', 'resblocks.0.bacthnorm2d_1.running_var', 'resblocks.0.bacthnorm2d_1.num_batches_tracked', 'resblocks.0.conv2.weight', 'resblocks.0.conv2.bias', 'resblocks.0.bacthnorm2d_2.weight', 'resblocks.0.bacthnorm2d_2.bias', 'resblocks.0.bacthnorm2d_2.running_mean', 'resblocks.0.bacthnorm2d_2.running_var', 'resblocks.0.bacthnorm2d_2.num_batches_tracked', 'resblocks.1.conv1.weight', 'resblocks.1.conv1.bias', 'resblocks.1.bacthnorm2d_1.weight', 'resblocks.1.bacthnorm2d_1.bias', 'resblocks.1.bacthnorm2d_1.running_mean', 'resblocks.1.bacthnorm2d_1.running_var', 'resblocks.1.bacthnorm2d_1.num_batches_tracked', 'resblocks.1.conv2.weight', 'resblocks.1.conv2.bias', 'resblocks.1.bacthnorm2d_2.weight', 'resblocks.1.bacthnorm2d_2.bias', 'resblocks.1.bacthnorm2d_2.running_mean', 'resblocks.1.bacthnorm2d_2.running_var', 'resblocks.1.bacthnorm2d_2.num_batches_tracked', 'resblocks.2.conv1.weight', 'resblocks.2.conv1.bias', 'resblocks.2.bacthnorm2d_1.weight', 'resblocks.2.bacthnorm2d_1.bias', 'resblocks.2.bacthnorm2d_1.running_mean', 'resblocks.2.bacthnorm2d_1.running_var', 'resblocks.2.bacthnorm2d_1.num_batches_tracked', 'resblocks.2.conv2.weight', 'resblocks.2.conv2.bias', 'resblocks.2.bacthnorm2d_2.weight', 'resblocks.2.bacthnorm2d_2.bias', 'resblocks.2.bacthnorm2d_2.running_mean', 'resblocks.2.bacthnorm2d_2.running_var', 'resblocks.2.bacthnorm2d_2.num_batches_tracked', 'resblocks.3.conv1.weight', 'resblocks.3.conv1.bias', 'resblocks.3.bacthnorm2d_1.weight', 'resblocks.3.bacthnorm2d_1.bias', 'resblocks.3.bacthnorm2d_1.running_mean', 'resblocks.3.bacthnorm2d_1.running_var', 'resblocks.3.bacthnorm2d_1.num_batches_tracked', 'resblocks.3.conv2.weight', 'resblocks.3.conv2.bias', 'resblocks.3.bacthnorm2d_2.weight', 'resblocks.3.bacthnorm2d_2.bias', 'resblocks.3.bacthnorm2d_2.running_mean', 'resblocks.3.bacthnorm2d_2.running_var', 'resblocks.3.bacthnorm2d_2.num_batches_tracked', 'resblocks.4.conv1.weight', 'resblocks.4.conv1.bias', 'resblocks.4.bacthnorm2d_1.weight', 'resblocks.4.bacthnorm2d_1.bias', 'resblocks.4.bacthnorm2d_1.running_mean', 'resblocks.4.bacthnorm2d_1.running_var', 'resblocks.4.bacthnorm2d_1.num_batches_tracked', 'resblocks.4.conv2.weight', 'resblocks.4.conv2.bias', 'resblocks.4.bacthnorm2d_2.weight', 'resblocks.4.bacthnorm2d_2.bias', 'resblocks.4.bacthnorm2d_2.running_mean', 'resblocks.4.bacthnorm2d_2.running_var', 'resblocks.4.bacthnorm2d_2.num_batches_tracked', 'resblocks.5.conv1.weight', 'resblocks.5.conv1.bias', 'resblocks.5.bacthnorm2d_1.weight', 'resblocks.5.bacthnorm2d_1.bias', 'resblocks.5.bacthnorm2d_1.running_mean', 'resblocks.5.bacthnorm2d_1.running_var', 'resblocks.5.bacthnorm2d_1.num_batches_tracked', 'resblocks.5.conv2.weight', 'resblocks.5.conv2.bias', 'resblocks.5.bacthnorm2d_2.weight', 'resblocks.5.bacthnorm2d_2.bias', 'resblocks.5.bacthnorm2d_2.running_mean', 'resblocks.5.bacthnorm2d_2.running_var', 'resblocks.5.bacthnorm2d_2.num_batches_tracked', 'resblocks.6.conv1.weight', 'resblocks.6.conv1.bias', 'resblocks.6.bacthnorm2d_1.weight', 'resblocks.6.bacthnorm2d_1.bias', 'resblocks.6.bacthnorm2d_1.running_mean', 'resblocks.6.bacthnorm2d_1.running_var', 'resblocks.6.bacthnorm2d_1.num_batches_tracked', 'resblocks.6.conv2.weight', 'resblocks.6.conv2.bias', 'resblocks.6.bacthnorm2d_2.weight', 'resblocks.6.bacthnorm2d_2.bias', 'resblocks.6.bacthnorm2d_2.running_mean', 'resblocks.6.bacthnorm2d_2.running_var', 'resblocks.6.bacthnorm2d_2.num_batches_tracked', 'resblocks.7.conv1.weight', 'resblocks.7.conv1.bias', 'resblocks.7.bacthnorm2d_1.weight', 'resblocks.7.bacthnorm2d_1.bias', 'resblocks.7.bacthnorm2d_1.running_mean', 'resblocks.7.bacthnorm2d_1.running_var', 'resblocks.7.bacthnorm2d_1.num_batches_tracked', 'resblocks.7.conv2.weight', 'resblocks.7.conv2.bias', 'resblocks.7.bacthnorm2d_2.weight', 'resblocks.7.bacthnorm2d_2.bias', 'resblocks.7.bacthnorm2d_2.running_mean', 'resblocks.7.bacthnorm2d_2.running_var', 'resblocks.7.bacthnorm2d_2.num_batches_tracked', 'resblocks.8.conv1.weight', 'resblocks.8.conv1.bias', 'resblocks.8.bacthnorm2d_1.weight', 'resblocks.8.bacthnorm2d_1.bias', 'resblocks.8.bacthnorm2d_1.running_mean', 'resblocks.8.bacthnorm2d_1.running_var', 'resblocks.8.bacthnorm2d_1.num_batches_tracked', 'resblocks.8.conv2.weight', 'resblocks.8.conv2.bias', 'resblocks.8.bacthnorm2d_2.weight', 'resblocks.8.bacthnorm2d_2.bias', 'resblocks.8.bacthnorm2d_2.running_mean', 'resblocks.8.bacthnorm2d_2.running_var', 'resblocks.8.bacthnorm2d_2.num_batches_tracked', 'resblocks.9.conv1.weight', 'resblocks.9.conv1.bias', 'resblocks.9.bacthnorm2d_1.weight', 'resblocks.9.bacthnorm2d_1.bias', 'resblocks.9.bacthnorm2d_1.running_mean', 'resblocks.9.bacthnorm2d_1.running_var', 'resblocks.9.bacthnorm2d_1.num_batches_tracked', 'resblocks.9.conv2.weight', 'resblocks.9.conv2.bias', 'resblocks.9.bacthnorm2d_2.weight', 'resblocks.9.bacthnorm2d_2.bias', 'resblocks.9.bacthnorm2d_2.running_mean', 'resblocks.9.bacthnorm2d_2.running_var', 'resblocks.9.bacthnorm2d_2.num_batches_tracked', 'resblocks.10.conv1.weight', 'resblocks.10.conv1.bias', 'resblocks.10.bacthnorm2d_1.weight', 'resblocks.10.bacthnorm2d_1.bias', 'resblocks.10.bacthnorm2d_1.running_mean', 'resblocks.10.bacthnorm2d_1.running_var', 'resblocks.10.bacthnorm2d_1.num_batches_tracked', 'resblocks.10.conv2.weight', 'resblocks.10.conv2.bias', 'resblocks.10.bacthnorm2d_2.weight', 'resblocks.10.bacthnorm2d_2.bias', 'resblocks.10.bacthnorm2d_2.running_mean', 'resblocks.10.bacthnorm2d_2.running_var', 'resblocks.10.bacthnorm2d_2.num_batches_tracked', 'resblocks.11.conv1.weight', 'resblocks.11.conv1.bias', 'resblocks.11.bacthnorm2d_1.weight', 'resblocks.11.bacthnorm2d_1.bias', 'resblocks.11.bacthnorm2d_1.running_mean', 'resblocks.11.bacthnorm2d_1.running_var', 'resblocks.11.bacthnorm2d_1.num_batches_tracked', 'resblocks.11.conv2.weight', 'resblocks.11.conv2.bias', 'resblocks.11.bacthnorm2d_2.weight', 'resblocks.11.bacthnorm2d_2.bias', 'resblocks.11.bacthnorm2d_2.running_mean', 'resblocks.11.bacthnorm2d_2.running_var', 'resblocks.11.bacthnorm2d_2.num_batches_tracked', 'resblocks.12.conv1.weight', 'resblocks.12.conv1.bias', 'resblocks.12.bacthnorm2d_1.weight', 'resblocks.12.bacthnorm2d_1.bias', 'resblocks.12.bacthnorm2d_1.running_mean', 'resblocks.12.bacthnorm2d_1.running_var', 'resblocks.12.bacthnorm2d_1.num_batches_tracked', 'resblocks.12.conv2.weight', 'resblocks.12.conv2.bias', 'resblocks.12.bacthnorm2d_2.weight', 'resblocks.12.bacthnorm2d_2.bias', 'resblocks.12.bacthnorm2d_2.running_mean', 'resblocks.12.bacthnorm2d_2.running_var', 'resblocks.12.bacthnorm2d_2.num_batches_tracked', 'resblocks.13.conv1.weight', 'resblocks.13.conv1.bias', 'resblocks.13.bacthnorm2d_1.weight', 'resblocks.13.bacthnorm2d_1.bias', 'resblocks.13.bacthnorm2d_1.running_mean', 'resblocks.13.bacthnorm2d_1.running_var', 'resblocks.13.bacthnorm2d_1.num_batches_tracked', 'resblocks.13.conv2.weight', 'resblocks.13.conv2.bias', 'resblocks.13.bacthnorm2d_2.weight', 'resblocks.13.bacthnorm2d_2.bias', 'resblocks.13.bacthnorm2d_2.running_mean', 'resblocks.13.bacthnorm2d_2.running_var', 'resblocks.13.bacthnorm2d_2.num_batches_tracked', 'resblocks.14.conv1.weight', 'resblocks.14.conv1.bias', 'resblocks.14.bacthnorm2d_1.weight', 'resblocks.14.bacthnorm2d_1.bias', 'resblocks.14.bacthnorm2d_1.running_mean', 'resblocks.14.bacthnorm2d_1.running_var', 'resblocks.14.bacthnorm2d_1.num_batches_tracked', 'resblocks.14.conv2.weight', 'resblocks.14.conv2.bias', 'resblocks.14.bacthnorm2d_2.weight', 'resblocks.14.bacthnorm2d_2.bias', 'resblocks.14.bacthnorm2d_2.running_mean', 'resblocks.14.bacthnorm2d_2.running_var', 'resblocks.14.bacthnorm2d_2.num_batches_tracked', 'resblocks.15.conv1.weight', 'resblocks.15.conv1.bias', 'resblocks.15.bacthnorm2d_1.weight', 'resblocks.15.bacthnorm2d_1.bias', 'resblocks.15.bacthnorm2d_1.running_mean', 'resblocks.15.bacthnorm2d_1.running_var', 'resblocks.15.bacthnorm2d_1.num_batches_tracked', 'resblocks.15.conv2.weight', 'resblocks.15.conv2.bias', 'resblocks.15.bacthnorm2d_2.weight', 'resblocks.15.bacthnorm2d_2.bias', 'resblocks.15.bacthnorm2d_2.running_mean', 'resblocks.15.bacthnorm2d_2.running_var', 'resblocks.15.bacthnorm2d_2.num_batches_tracked', 'resblocks.16.conv1.weight', 'resblocks.16.conv1.bias', 'resblocks.16.bacthnorm2d_1.weight', 'resblocks.16.bacthnorm2d_1.bias', 'resblocks.16.bacthnorm2d_1.running_mean', 'resblocks.16.bacthnorm2d_1.running_var', 'resblocks.16.bacthnorm2d_1.num_batches_tracked', 'resblocks.16.conv2.weight', 'resblocks.16.conv2.bias', 'resblocks.16.bacthnorm2d_2.weight', 'resblocks.16.bacthnorm2d_2.bias', 'resblocks.16.bacthnorm2d_2.running_mean', 'resblocks.16.bacthnorm2d_2.running_var', 'resblocks.16.bacthnorm2d_2.num_batches_tracked', 'resblocks.17.conv1.weight', 'resblocks.17.conv1.bias', 'resblocks.17.bacthnorm2d_1.weight', 'resblocks.17.bacthnorm2d_1.bias', 'resblocks.17.bacthnorm2d_1.running_mean', 'resblocks.17.bacthnorm2d_1.running_var', 'resblocks.17.bacthnorm2d_1.num_batches_tracked', 'resblocks.17.conv2.weight', 'resblocks.17.conv2.bias', 'resblocks.17.bacthnorm2d_2.weight', 'resblocks.17.bacthnorm2d_2.bias', 'resblocks.17.bacthnorm2d_2.running_mean', 'resblocks.17.bacthnorm2d_2.running_var', 'resblocks.17.bacthnorm2d_2.num_batches_tracked', 'resblocks.18.conv1.weight', 'resblocks.18.conv1.bias', 'resblocks.18.bacthnorm2d_1.weight', 'resblocks.18.bacthnorm2d_1.bias', 'resblocks.18.bacthnorm2d_1.running_mean', 'resblocks.18.bacthnorm2d_1.running_var', 'resblocks.18.bacthnorm2d_1.num_batches_tracked', 'resblocks.18.conv2.weight', 'resblocks.18.conv2.bias', 'resblocks.18.bacthnorm2d_2.weight', 'resblocks.18.bacthnorm2d_2.bias', 'resblocks.18.bacthnorm2d_2.running_mean', 'resblocks.18.bacthnorm2d_2.running_var', 'resblocks.18.bacthnorm2d_2.num_batches_tracked', 'resblocks.19.conv1.weight', 'resblocks.19.conv1.bias', 'resblocks.19.bacthnorm2d_1.weight', 'resblocks.19.bacthnorm2d_1.bias', 'resblocks.19.bacthnorm2d_1.running_mean', 'resblocks.19.bacthnorm2d_1.running_var', 'resblocks.19.bacthnorm2d_1.num_batches_tracked', 'resblocks.19.conv2.weight', 'resblocks.19.conv2.bias', 'resblocks.19.bacthnorm2d_2.weight', 'resblocks.19.bacthnorm2d_2.bias', 'resblocks.19.bacthnorm2d_2.running_mean', 'resblocks.19.bacthnorm2d_2.running_var', 'resblocks.19.bacthnorm2d_2.num_batches_tracked', 'resblocks.20.conv1.weight', 'resblocks.20.conv1.bias', 'resblocks.20.bacthnorm2d_1.weight', 'resblocks.20.bacthnorm2d_1.bias', 'resblocks.20.bacthnorm2d_1.running_mean', 'resblocks.20.bacthnorm2d_1.running_var', 'resblocks.20.bacthnorm2d_1.num_batches_tracked', 'resblocks.20.conv2.weight', 'resblocks.20.conv2.bias', 'resblocks.20.bacthnorm2d_2.weight', 'resblocks.20.bacthnorm2d_2.bias', 'resblocks.20.bacthnorm2d_2.running_mean', 'resblocks.20.bacthnorm2d_2.running_var', 'resblocks.20.bacthnorm2d_2.num_batches_tracked', 'resblocks.21.conv1.weight', 'resblocks.21.conv1.bias', 'resblocks.21.bacthnorm2d_1.weight', 'resblocks.21.bacthnorm2d_1.bias', 'resblocks.21.bacthnorm2d_1.running_mean', 'resblocks.21.bacthnorm2d_1.running_var', 'resblocks.21.bacthnorm2d_1.num_batches_tracked', 'resblocks.21.conv2.weight', 'resblocks.21.conv2.bias', 'resblocks.21.bacthnorm2d_2.weight', 'resblocks.21.bacthnorm2d_2.bias', 'resblocks.21.bacthnorm2d_2.running_mean', 'resblocks.21.bacthnorm2d_2.running_var', 'resblocks.21.bacthnorm2d_2.num_batches_tracked', 'resblocks.22.conv1.weight', 'resblocks.22.conv1.bias', 'resblocks.22.bacthnorm2d_1.weight', 'resblocks.22.bacthnorm2d_1.bias', 'resblocks.22.bacthnorm2d_1.running_mean', 'resblocks.22.bacthnorm2d_1.running_var', 'resblocks.22.bacthnorm2d_1.num_batches_tracked', 'resblocks.22.conv2.weight', 'resblocks.22.conv2.bias', 'resblocks.22.bacthnorm2d_2.weight', 'resblocks.22.bacthnorm2d_2.bias', 'resblocks.22.bacthnorm2d_2.running_mean', 'resblocks.22.bacthnorm2d_2.running_var', 'resblocks.22.bacthnorm2d_2.num_batches_tracked', 'resblocks.23.conv1.weight', 'resblocks.23.conv1.bias', 'resblocks.23.bacthnorm2d_1.weight', 'resblocks.23.bacthnorm2d_1.bias', 'resblocks.23.bacthnorm2d_1.running_mean', 'resblocks.23.bacthnorm2d_1.running_var', 'resblocks.23.bacthnorm2d_1.num_batches_tracked', 'resblocks.23.conv2.weight', 'resblocks.23.conv2.bias', 'resblocks.23.bacthnorm2d_2.weight', 'resblocks.23.bacthnorm2d_2.bias', 'resblocks.23.bacthnorm2d_2.running_mean', 'resblocks.23.bacthnorm2d_2.running_var', 'resblocks.23.bacthnorm2d_2.num_batches_tracked', 'resblocks.24.conv1.weight', 'resblocks.24.conv1.bias', 'resblocks.24.bacthnorm2d_1.weight', 'resblocks.24.bacthnorm2d_1.bias', 'resblocks.24.bacthnorm2d_1.running_mean', 'resblocks.24.bacthnorm2d_1.running_var', 'resblocks.24.bacthnorm2d_1.num_batches_tracked', 'resblocks.24.conv2.weight', 'resblocks.24.conv2.bias', 'resblocks.24.bacthnorm2d_2.weight', 'resblocks.24.bacthnorm2d_2.bias', 'resblocks.24.bacthnorm2d_2.running_mean', 'resblocks.24.bacthnorm2d_2.running_var', 'resblocks.24.bacthnorm2d_2.num_batches_tracked', 'resblocks.25.conv1.weight', 'resblocks.25.conv1.bias', 'resblocks.25.bacthnorm2d_1.weight', 'resblocks.25.bacthnorm2d_1.bias', 'resblocks.25.bacthnorm2d_1.running_mean', 'resblocks.25.bacthnorm2d_1.running_var', 'resblocks.25.bacthnorm2d_1.num_batches_tracked', 'resblocks.25.conv2.weight', 'resblocks.25.conv2.bias', 'resblocks.25.bacthnorm2d_2.weight', 'resblocks.25.bacthnorm2d_2.bias', 'resblocks.25.bacthnorm2d_2.running_mean', 'resblocks.25.bacthnorm2d_2.running_var', 'resblocks.25.bacthnorm2d_2.num_batches_tracked', 'resblocks.26.conv1.weight', 'resblocks.26.conv1.bias', 'resblocks.26.bacthnorm2d_1.weight', 'resblocks.26.bacthnorm2d_1.bias', 'resblocks.26.bacthnorm2d_1.running_mean', 'resblocks.26.bacthnorm2d_1.running_var', 'resblocks.26.bacthnorm2d_1.num_batches_tracked', 'resblocks.26.conv2.weight', 'resblocks.26.conv2.bias', 'resblocks.26.bacthnorm2d_2.weight', 'resblocks.26.bacthnorm2d_2.bias', 'resblocks.26.bacthnorm2d_2.running_mean', 'resblocks.26.bacthnorm2d_2.running_var', 'resblocks.26.bacthnorm2d_2.num_batches_tracked', 'resblocks.27.conv1.weight', 'resblocks.27.conv1.bias', 'resblocks.27.bacthnorm2d_1.weight', 'resblocks.27.bacthnorm2d_1.bias', 'resblocks.27.bacthnorm2d_1.running_mean', 'resblocks.27.bacthnorm2d_1.running_var', 'resblocks.27.bacthnorm2d_1.num_batches_tracked', 'resblocks.27.conv2.weight', 'resblocks.27.conv2.bias', 'resblocks.27.bacthnorm2d_2.weight', 'resblocks.27.bacthnorm2d_2.bias', 'resblocks.27.bacthnorm2d_2.running_mean', 'resblocks.27.bacthnorm2d_2.running_var', 'resblocks.27.bacthnorm2d_2.num_batches_tracked', 'resblocks.28.conv1.weight', 'resblocks.28.conv1.bias', 'resblocks.28.bacthnorm2d_1.weight', 'resblocks.28.bacthnorm2d_1.bias', 'resblocks.28.bacthnorm2d_1.running_mean', 'resblocks.28.bacthnorm2d_1.running_var', 'resblocks.28.bacthnorm2d_1.num_batches_tracked', 'resblocks.28.conv2.weight', 'resblocks.28.conv2.bias', 'resblocks.28.bacthnorm2d_2.weight', 'resblocks.28.bacthnorm2d_2.bias', 'resblocks.28.bacthnorm2d_2.running_mean', 'resblocks.28.bacthnorm2d_2.running_var', 'resblocks.28.bacthnorm2d_2.num_batches_tracked', 'resblocks.29.conv1.weight', 'resblocks.29.conv1.bias', 'resblocks.29.bacthnorm2d_1.weight', 'resblocks.29.bacthnorm2d_1.bias', 'resblocks.29.bacthnorm2d_1.running_mean', 'resblocks.29.bacthnorm2d_1.running_var', 'resblocks.29.bacthnorm2d_1.num_batches_tracked', 'resblocks.29.conv2.weight', 'resblocks.29.conv2.bias', 'resblocks.29.bacthnorm2d_2.weight', 'resblocks.29.bacthnorm2d_2.bias', 'resblocks.29.bacthnorm2d_2.running_mean', 'resblocks.29.bacthnorm2d_2.running_var', 'resblocks.29.bacthnorm2d_2.num_batches_tracked', 'resblocks.30.conv1.weight', 'resblocks.30.conv1.bias', 'resblocks.30.bacthnorm2d_1.weight', 'resblocks.30.bacthnorm2d_1.bias', 'resblocks.30.bacthnorm2d_1.running_mean', 'resblocks.30.bacthnorm2d_1.running_var', 'resblocks.30.bacthnorm2d_1.num_batches_tracked', 'resblocks.30.conv2.weight', 'resblocks.30.conv2.bias', 'resblocks.30.bacthnorm2d_2.weight', 'resblocks.30.bacthnorm2d_2.bias', 'resblocks.30.bacthnorm2d_2.running_mean', 'resblocks.30.bacthnorm2d_2.running_var', 'resblocks.30.bacthnorm2d_2.num_batches_tracked', 'resblocks.31.conv1.weight', 'resblocks.31.conv1.bias', 'resblocks.31.bacthnorm2d_1.weight', 'resblocks.31.bacthnorm2d_1.bias', 'resblocks.31.bacthnorm2d_1.running_mean', 'resblocks.31.bacthnorm2d_1.running_var', 'resblocks.31.bacthnorm2d_1.num_batches_tracked', 'resblocks.31.conv2.weight', 'resblocks.31.conv2.bias', 'resblocks.31.bacthnorm2d_2.weight', 'resblocks.31.bacthnorm2d_2.bias', 'resblocks.31.bacthnorm2d_2.running_mean', 'resblocks.31.bacthnorm2d_2.running_var', 'resblocks.31.bacthnorm2d_2.num_batches_tracked', 'resblocks.32.conv1.weight', 'resblocks.32.conv1.bias', 'resblocks.32.bacthnorm2d_1.weight', 'resblocks.32.bacthnorm2d_1.bias', 'resblocks.32.bacthnorm2d_1.running_mean', 'resblocks.32.bacthnorm2d_1.running_var', 'resblocks.32.bacthnorm2d_1.num_batches_tracked', 'resblocks.32.conv2.weight', 'resblocks.32.conv2.bias', 'resblocks.32.bacthnorm2d_2.weight', 'resblocks.32.bacthnorm2d_2.bias', 'resblocks.32.bacthnorm2d_2.running_mean', 'resblocks.32.bacthnorm2d_2.running_var', 'resblocks.32.bacthnorm2d_2.num_batches_tracked', 'resblocks.33.conv1.weight', 'resblocks.33.conv1.bias', 'resblocks.33.bacthnorm2d_1.weight', 'resblocks.33.bacthnorm2d_1.bias', 'resblocks.33.bacthnorm2d_1.running_mean', 'resblocks.33.bacthnorm2d_1.running_var', 'resblocks.33.bacthnorm2d_1.num_batches_tracked', 'resblocks.33.conv2.weight', 'resblocks.33.conv2.bias', 'resblocks.33.bacthnorm2d_2.weight', 'resblocks.33.bacthnorm2d_2.bias', 'resblocks.33.bacthnorm2d_2.running_mean', 'resblocks.33.bacthnorm2d_2.running_var', 'resblocks.33.bacthnorm2d_2.num_batches_tracked', 'resblocks.34.conv1.weight', 'resblocks.34.conv1.bias', 'resblocks.34.bacthnorm2d_1.weight', 'resblocks.34.bacthnorm2d_1.bias', 'resblocks.34.bacthnorm2d_1.running_mean', 'resblocks.34.bacthnorm2d_1.running_var', 'resblocks.34.bacthnorm2d_1.num_batches_tracked', 'resblocks.34.conv2.weight', 'resblocks.34.conv2.bias', 'resblocks.34.bacthnorm2d_2.weight', 'resblocks.34.bacthnorm2d_2.bias', 'resblocks.34.bacthnorm2d_2.running_mean', 'resblocks.34.bacthnorm2d_2.running_var', 'resblocks.34.bacthnorm2d_2.num_batches_tracked', 'resblocks.35.conv1.weight', 'resblocks.35.conv1.bias', 'resblocks.35.bacthnorm2d_1.weight', 'resblocks.35.bacthnorm2d_1.bias', 'resblocks.35.bacthnorm2d_1.running_mean', 'resblocks.35.bacthnorm2d_1.running_var', 'resblocks.35.bacthnorm2d_1.num_batches_tracked', 'resblocks.35.conv2.weight', 'resblocks.35.conv2.bias', 'resblocks.35.bacthnorm2d_2.weight', 'resblocks.35.bacthnorm2d_2.bias', 'resblocks.35.bacthnorm2d_2.running_mean', 'resblocks.35.bacthnorm2d_2.running_var', 'resblocks.35.bacthnorm2d_2.num_batches_tracked', 'resblocks.36.conv1.weight', 'resblocks.36.conv1.bias', 'resblocks.36.bacthnorm2d_1.weight', 'resblocks.36.bacthnorm2d_1.bias', 'resblocks.36.bacthnorm2d_1.running_mean', 'resblocks.36.bacthnorm2d_1.running_var', 'resblocks.36.bacthnorm2d_1.num_batches_tracked', 'resblocks.36.conv2.weight', 'resblocks.36.conv2.bias', 'resblocks.36.bacthnorm2d_2.weight', 'resblocks.36.bacthnorm2d_2.bias', 'resblocks.36.bacthnorm2d_2.running_mean', 'resblocks.36.bacthnorm2d_2.running_var', 'resblocks.36.bacthnorm2d_2.num_batches_tracked', 'resblocks.37.conv1.weight', 'resblocks.37.conv1.bias', 'resblocks.37.bacthnorm2d_1.weight', 'resblocks.37.bacthnorm2d_1.bias', 'resblocks.37.bacthnorm2d_1.running_mean', 'resblocks.37.bacthnorm2d_1.running_var', 'resblocks.37.bacthnorm2d_1.num_batches_tracked', 'resblocks.37.conv2.weight', 'resblocks.37.conv2.bias', 'resblocks.37.bacthnorm2d_2.weight', 'resblocks.37.bacthnorm2d_2.bias', 'resblocks.37.bacthnorm2d_2.running_mean', 'resblocks.37.bacthnorm2d_2.running_var', 'resblocks.37.bacthnorm2d_2.num_batches_tracked', 'resblocks.38.conv1.weight', 'resblocks.38.conv1.bias', 'resblocks.38.bacthnorm2d_1.weight', 'resblocks.38.bacthnorm2d_1.bias', 'resblocks.38.bacthnorm2d_1.running_mean', 'resblocks.38.bacthnorm2d_1.running_var', 'resblocks.38.bacthnorm2d_1.num_batches_tracked', 'resblocks.38.conv2.weight', 'resblocks.38.conv2.bias', 'resblocks.38.bacthnorm2d_2.weight', 'resblocks.38.bacthnorm2d_2.bias', 'resblocks.38.bacthnorm2d_2.running_mean', 'resblocks.38.bacthnorm2d_2.running_var', 'resblocks.38.bacthnorm2d_2.num_batches_tracked', 'resblocks.39.conv1.weight', 'resblocks.39.conv1.bias', 'resblocks.39.bacthnorm2d_1.weight', 'resblocks.39.bacthnorm2d_1.bias', 'resblocks.39.bacthnorm2d_1.running_mean', 'resblocks.39.bacthnorm2d_1.running_var', 'resblocks.39.bacthnorm2d_1.num_batches_tracked', 'resblocks.39.conv2.weight', 'resblocks.39.conv2.bias', 'resblocks.39.bacthnorm2d_2.weight', 'resblocks.39.bacthnorm2d_2.bias', 'resblocks.39.bacthnorm2d_2.running_mean', 'resblocks.39.bacthnorm2d_2.running_var', 'resblocks.39.bacthnorm2d_2.num_batches_tracked', 'resblocks.40.conv1.weight', 'resblocks.40.conv1.bias', 'resblocks.40.bacthnorm2d_1.weight', 'resblocks.40.bacthnorm2d_1.bias', 'resblocks.40.bacthnorm2d_1.running_mean', 'resblocks.40.bacthnorm2d_1.running_var', 'resblocks.40.bacthnorm2d_1.num_batches_tracked', 'resblocks.40.conv2.weight', 'resblocks.40.conv2.bias', 'resblocks.40.bacthnorm2d_2.weight', 'resblocks.40.bacthnorm2d_2.bias', 'resblocks.40.bacthnorm2d_2.running_mean', 'resblocks.40.bacthnorm2d_2.running_var', 'resblocks.40.bacthnorm2d_2.num_batches_tracked', 'resblocks.41.conv1.weight', 'resblocks.41.conv1.bias', 'resblocks.41.bacthnorm2d_1.weight', 'resblocks.41.bacthnorm2d_1.bias', 'resblocks.41.bacthnorm2d_1.running_mean', 'resblocks.41.bacthnorm2d_1.running_var', 'resblocks.41.bacthnorm2d_1.num_batches_tracked', 'resblocks.41.conv2.weight', 'resblocks.41.conv2.bias', 'resblocks.41.bacthnorm2d_2.weight', 'resblocks.41.bacthnorm2d_2.bias', 'resblocks.41.bacthnorm2d_2.running_mean', 'resblocks.41.bacthnorm2d_2.running_var', 'resblocks.41.bacthnorm2d_2.num_batches_tracked', 'resblocks.42.conv1.weight', 'resblocks.42.conv1.bias', 'resblocks.42.bacthnorm2d_1.weight', 'resblocks.42.bacthnorm2d_1.bias', 'resblocks.42.bacthnorm2d_1.running_mean', 'resblocks.42.bacthnorm2d_1.running_var', 'resblocks.42.bacthnorm2d_1.num_batches_tracked', 'resblocks.42.conv2.weight', 'resblocks.42.conv2.bias', 'resblocks.42.bacthnorm2d_2.weight', 'resblocks.42.bacthnorm2d_2.bias', 'resblocks.42.bacthnorm2d_2.running_mean', 'resblocks.42.bacthnorm2d_2.running_var', 'resblocks.42.bacthnorm2d_2.num_batches_tracked', 'resblocks.43.conv1.weight', 'resblocks.43.conv1.bias', 'resblocks.43.bacthnorm2d_1.weight', 'resblocks.43.bacthnorm2d_1.bias', 'resblocks.43.bacthnorm2d_1.running_mean', 'resblocks.43.bacthnorm2d_1.running_var', 'resblocks.43.bacthnorm2d_1.num_batches_tracked', 'resblocks.43.conv2.weight', 'resblocks.43.conv2.bias', 'resblocks.43.bacthnorm2d_2.weight', 'resblocks.43.bacthnorm2d_2.bias', 'resblocks.43.bacthnorm2d_2.running_mean', 'resblocks.43.bacthnorm2d_2.running_var', 'resblocks.43.bacthnorm2d_2.num_batches_tracked', 'resblocks.44.conv1.weight', 'resblocks.44.conv1.bias', 'resblocks.44.bacthnorm2d_1.weight', 'resblocks.44.bacthnorm2d_1.bias', 'resblocks.44.bacthnorm2d_1.running_mean', 'resblocks.44.bacthnorm2d_1.running_var', 'resblocks.44.bacthnorm2d_1.num_batches_tracked', 'resblocks.44.conv2.weight', 'resblocks.44.conv2.bias', 'resblocks.44.bacthnorm2d_2.weight', 'resblocks.44.bacthnorm2d_2.bias', 'resblocks.44.bacthnorm2d_2.running_mean', 'resblocks.44.bacthnorm2d_2.running_var', 'resblocks.44.bacthnorm2d_2.num_batches_tracked', 'resblocks.45.conv1.weight', 'resblocks.45.conv1.bias', 'resblocks.45.bacthnorm2d_1.weight', 'resblocks.45.bacthnorm2d_1.bias', 'resblocks.45.bacthnorm2d_1.running_mean', 'resblocks.45.bacthnorm2d_1.running_var', 'resblocks.45.bacthnorm2d_1.num_batches_tracked', 'resblocks.45.conv2.weight', 'resblocks.45.conv2.bias', 'resblocks.45.bacthnorm2d_2.weight', 'resblocks.45.bacthnorm2d_2.bias', 'resblocks.45.bacthnorm2d_2.running_mean', 'resblocks.45.bacthnorm2d_2.running_var', 'resblocks.45.bacthnorm2d_2.num_batches_tracked', 'resblocks.46.conv1.weight', 'resblocks.46.conv1.bias', 'resblocks.46.bacthnorm2d_1.weight', 'resblocks.46.bacthnorm2d_1.bias', 'resblocks.46.bacthnorm2d_1.running_mean', 'resblocks.46.bacthnorm2d_1.running_var', 'resblocks.46.bacthnorm2d_1.num_batches_tracked', 'resblocks.46.conv2.weight', 'resblocks.46.conv2.bias', 'resblocks.46.bacthnorm2d_2.weight', 'resblocks.46.bacthnorm2d_2.bias', 'resblocks.46.bacthnorm2d_2.running_mean', 'resblocks.46.bacthnorm2d_2.running_var', 'resblocks.46.bacthnorm2d_2.num_batches_tracked', 'resblocks.47.conv1.weight', 'resblocks.47.conv1.bias', 'resblocks.47.bacthnorm2d_1.weight', 'resblocks.47.bacthnorm2d_1.bias', 'resblocks.47.bacthnorm2d_1.running_mean', 'resblocks.47.bacthnorm2d_1.running_var', 'resblocks.47.bacthnorm2d_1.num_batches_tracked', 'resblocks.47.conv2.weight', 'resblocks.47.conv2.bias', 'resblocks.47.bacthnorm2d_2.weight', 'resblocks.47.bacthnorm2d_2.bias', 'resblocks.47.bacthnorm2d_2.running_mean', 'resblocks.47.bacthnorm2d_2.running_var', 'resblocks.47.bacthnorm2d_2.num_batches_tracked', 'resblocks.48.conv1.weight', 'resblocks.48.conv1.bias', 'resblocks.48.bacthnorm2d_1.weight', 'resblocks.48.bacthnorm2d_1.bias', 'resblocks.48.bacthnorm2d_1.running_mean', 'resblocks.48.bacthnorm2d_1.running_var', 'resblocks.48.bacthnorm2d_1.num_batches_tracked', 'resblocks.48.conv2.weight', 'resblocks.48.conv2.bias', 'resblocks.48.bacthnorm2d_2.weight', 'resblocks.48.bacthnorm2d_2.bias', 'resblocks.48.bacthnorm2d_2.running_mean', 'resblocks.48.bacthnorm2d_2.running_var', 'resblocks.48.bacthnorm2d_2.num_batches_tracked', 'resblocks.49.conv1.weight', 'resblocks.49.conv1.bias', 'resblocks.49.bacthnorm2d_1.weight', 'resblocks.49.bacthnorm2d_1.bias', 'resblocks.49.bacthnorm2d_1.running_mean', 'resblocks.49.bacthnorm2d_1.running_var', 'resblocks.49.bacthnorm2d_1.num_batches_tracked', 'resblocks.49.conv2.weight', 'resblocks.49.conv2.bias', 'resblocks.49.bacthnorm2d_2.weight', 'resblocks.49.bacthnorm2d_2.bias', 'resblocks.49.bacthnorm2d_2.running_mean', 'resblocks.49.bacthnorm2d_2.running_var', 'resblocks.49.bacthnorm2d_2.num_batches_tracked', 'conv3.weight', 'conv3.bias', 'lin1.weight', 'lin1.bias', 'lin2.weight', 'lin2.bias'])"
      ]
     },
     "execution_count": 72,
     "metadata": {},
     "output_type": "execute_result"
    }
   ],
   "source": [
    "gnet.state_dict().keys()"
   ]
  },
  {
   "cell_type": "code",
   "execution_count": 73,
   "metadata": {},
   "outputs": [
    {
     "data": {
      "text/plain": [
       "GNet(\n",
       "  (conv1): Conv2d(3, 32, kernel_size=(3, 3), stride=(1, 1), padding=(1, 1))\n",
       "  (batchnorm2d_1): BatchNorm2d(32, eps=1e-05, momentum=0.1, affine=True, track_running_stats=True)\n",
       "  (conv2): Conv2d(32, 15, kernel_size=(3, 3), stride=(1, 1), padding=(1, 1))\n",
       "  (batchnorm2d_2): BatchNorm2d(15, eps=1e-05, momentum=0.1, affine=True, track_running_stats=True)\n",
       "  (resblocks): Sequential(\n",
       "    (0): ResidualBlock(\n",
       "      (conv1): Conv2d(15, 15, kernel_size=(3, 3), stride=(1, 1), padding=(1, 1))\n",
       "      (bacthnorm2d_1): BatchNorm2d(15, eps=1e-05, momentum=0.1, affine=True, track_running_stats=True)\n",
       "      (conv2): Conv2d(15, 15, kernel_size=(3, 3), stride=(1, 1), padding=(1, 1))\n",
       "      (bacthnorm2d_2): BatchNorm2d(15, eps=1e-05, momentum=0.1, affine=True, track_running_stats=True)\n",
       "    )\n",
       "    (1): ResidualBlock(\n",
       "      (conv1): Conv2d(15, 15, kernel_size=(3, 3), stride=(1, 1), padding=(1, 1))\n",
       "      (bacthnorm2d_1): BatchNorm2d(15, eps=1e-05, momentum=0.1, affine=True, track_running_stats=True)\n",
       "      (conv2): Conv2d(15, 15, kernel_size=(3, 3), stride=(1, 1), padding=(1, 1))\n",
       "      (bacthnorm2d_2): BatchNorm2d(15, eps=1e-05, momentum=0.1, affine=True, track_running_stats=True)\n",
       "    )\n",
       "    (2): ResidualBlock(\n",
       "      (conv1): Conv2d(15, 15, kernel_size=(3, 3), stride=(1, 1), padding=(1, 1))\n",
       "      (bacthnorm2d_1): BatchNorm2d(15, eps=1e-05, momentum=0.1, affine=True, track_running_stats=True)\n",
       "      (conv2): Conv2d(15, 15, kernel_size=(3, 3), stride=(1, 1), padding=(1, 1))\n",
       "      (bacthnorm2d_2): BatchNorm2d(15, eps=1e-05, momentum=0.1, affine=True, track_running_stats=True)\n",
       "    )\n",
       "    (3): ResidualBlock(\n",
       "      (conv1): Conv2d(15, 15, kernel_size=(3, 3), stride=(1, 1), padding=(1, 1))\n",
       "      (bacthnorm2d_1): BatchNorm2d(15, eps=1e-05, momentum=0.1, affine=True, track_running_stats=True)\n",
       "      (conv2): Conv2d(15, 15, kernel_size=(3, 3), stride=(1, 1), padding=(1, 1))\n",
       "      (bacthnorm2d_2): BatchNorm2d(15, eps=1e-05, momentum=0.1, affine=True, track_running_stats=True)\n",
       "    )\n",
       "    (4): ResidualBlock(\n",
       "      (conv1): Conv2d(15, 15, kernel_size=(3, 3), stride=(1, 1), padding=(1, 1))\n",
       "      (bacthnorm2d_1): BatchNorm2d(15, eps=1e-05, momentum=0.1, affine=True, track_running_stats=True)\n",
       "      (conv2): Conv2d(15, 15, kernel_size=(3, 3), stride=(1, 1), padding=(1, 1))\n",
       "      (bacthnorm2d_2): BatchNorm2d(15, eps=1e-05, momentum=0.1, affine=True, track_running_stats=True)\n",
       "    )\n",
       "    (5): ResidualBlock(\n",
       "      (conv1): Conv2d(15, 15, kernel_size=(3, 3), stride=(1, 1), padding=(1, 1))\n",
       "      (bacthnorm2d_1): BatchNorm2d(15, eps=1e-05, momentum=0.1, affine=True, track_running_stats=True)\n",
       "      (conv2): Conv2d(15, 15, kernel_size=(3, 3), stride=(1, 1), padding=(1, 1))\n",
       "      (bacthnorm2d_2): BatchNorm2d(15, eps=1e-05, momentum=0.1, affine=True, track_running_stats=True)\n",
       "    )\n",
       "    (6): ResidualBlock(\n",
       "      (conv1): Conv2d(15, 15, kernel_size=(3, 3), stride=(1, 1), padding=(1, 1))\n",
       "      (bacthnorm2d_1): BatchNorm2d(15, eps=1e-05, momentum=0.1, affine=True, track_running_stats=True)\n",
       "      (conv2): Conv2d(15, 15, kernel_size=(3, 3), stride=(1, 1), padding=(1, 1))\n",
       "      (bacthnorm2d_2): BatchNorm2d(15, eps=1e-05, momentum=0.1, affine=True, track_running_stats=True)\n",
       "    )\n",
       "    (7): ResidualBlock(\n",
       "      (conv1): Conv2d(15, 15, kernel_size=(3, 3), stride=(1, 1), padding=(1, 1))\n",
       "      (bacthnorm2d_1): BatchNorm2d(15, eps=1e-05, momentum=0.1, affine=True, track_running_stats=True)\n",
       "      (conv2): Conv2d(15, 15, kernel_size=(3, 3), stride=(1, 1), padding=(1, 1))\n",
       "      (bacthnorm2d_2): BatchNorm2d(15, eps=1e-05, momentum=0.1, affine=True, track_running_stats=True)\n",
       "    )\n",
       "    (8): ResidualBlock(\n",
       "      (conv1): Conv2d(15, 15, kernel_size=(3, 3), stride=(1, 1), padding=(1, 1))\n",
       "      (bacthnorm2d_1): BatchNorm2d(15, eps=1e-05, momentum=0.1, affine=True, track_running_stats=True)\n",
       "      (conv2): Conv2d(15, 15, kernel_size=(3, 3), stride=(1, 1), padding=(1, 1))\n",
       "      (bacthnorm2d_2): BatchNorm2d(15, eps=1e-05, momentum=0.1, affine=True, track_running_stats=True)\n",
       "    )\n",
       "    (9): ResidualBlock(\n",
       "      (conv1): Conv2d(15, 15, kernel_size=(3, 3), stride=(1, 1), padding=(1, 1))\n",
       "      (bacthnorm2d_1): BatchNorm2d(15, eps=1e-05, momentum=0.1, affine=True, track_running_stats=True)\n",
       "      (conv2): Conv2d(15, 15, kernel_size=(3, 3), stride=(1, 1), padding=(1, 1))\n",
       "      (bacthnorm2d_2): BatchNorm2d(15, eps=1e-05, momentum=0.1, affine=True, track_running_stats=True)\n",
       "    )\n",
       "    (10): ResidualBlock(\n",
       "      (conv1): Conv2d(15, 15, kernel_size=(3, 3), stride=(1, 1), padding=(1, 1))\n",
       "      (bacthnorm2d_1): BatchNorm2d(15, eps=1e-05, momentum=0.1, affine=True, track_running_stats=True)\n",
       "      (conv2): Conv2d(15, 15, kernel_size=(3, 3), stride=(1, 1), padding=(1, 1))\n",
       "      (bacthnorm2d_2): BatchNorm2d(15, eps=1e-05, momentum=0.1, affine=True, track_running_stats=True)\n",
       "    )\n",
       "    (11): ResidualBlock(\n",
       "      (conv1): Conv2d(15, 15, kernel_size=(3, 3), stride=(1, 1), padding=(1, 1))\n",
       "      (bacthnorm2d_1): BatchNorm2d(15, eps=1e-05, momentum=0.1, affine=True, track_running_stats=True)\n",
       "      (conv2): Conv2d(15, 15, kernel_size=(3, 3), stride=(1, 1), padding=(1, 1))\n",
       "      (bacthnorm2d_2): BatchNorm2d(15, eps=1e-05, momentum=0.1, affine=True, track_running_stats=True)\n",
       "    )\n",
       "    (12): ResidualBlock(\n",
       "      (conv1): Conv2d(15, 15, kernel_size=(3, 3), stride=(1, 1), padding=(1, 1))\n",
       "      (bacthnorm2d_1): BatchNorm2d(15, eps=1e-05, momentum=0.1, affine=True, track_running_stats=True)\n",
       "      (conv2): Conv2d(15, 15, kernel_size=(3, 3), stride=(1, 1), padding=(1, 1))\n",
       "      (bacthnorm2d_2): BatchNorm2d(15, eps=1e-05, momentum=0.1, affine=True, track_running_stats=True)\n",
       "    )\n",
       "    (13): ResidualBlock(\n",
       "      (conv1): Conv2d(15, 15, kernel_size=(3, 3), stride=(1, 1), padding=(1, 1))\n",
       "      (bacthnorm2d_1): BatchNorm2d(15, eps=1e-05, momentum=0.1, affine=True, track_running_stats=True)\n",
       "      (conv2): Conv2d(15, 15, kernel_size=(3, 3), stride=(1, 1), padding=(1, 1))\n",
       "      (bacthnorm2d_2): BatchNorm2d(15, eps=1e-05, momentum=0.1, affine=True, track_running_stats=True)\n",
       "    )\n",
       "    (14): ResidualBlock(\n",
       "      (conv1): Conv2d(15, 15, kernel_size=(3, 3), stride=(1, 1), padding=(1, 1))\n",
       "      (bacthnorm2d_1): BatchNorm2d(15, eps=1e-05, momentum=0.1, affine=True, track_running_stats=True)\n",
       "      (conv2): Conv2d(15, 15, kernel_size=(3, 3), stride=(1, 1), padding=(1, 1))\n",
       "      (bacthnorm2d_2): BatchNorm2d(15, eps=1e-05, momentum=0.1, affine=True, track_running_stats=True)\n",
       "    )\n",
       "    (15): ResidualBlock(\n",
       "      (conv1): Conv2d(15, 15, kernel_size=(3, 3), stride=(1, 1), padding=(1, 1))\n",
       "      (bacthnorm2d_1): BatchNorm2d(15, eps=1e-05, momentum=0.1, affine=True, track_running_stats=True)\n",
       "      (conv2): Conv2d(15, 15, kernel_size=(3, 3), stride=(1, 1), padding=(1, 1))\n",
       "      (bacthnorm2d_2): BatchNorm2d(15, eps=1e-05, momentum=0.1, affine=True, track_running_stats=True)\n",
       "    )\n",
       "    (16): ResidualBlock(\n",
       "      (conv1): Conv2d(15, 15, kernel_size=(3, 3), stride=(1, 1), padding=(1, 1))\n",
       "      (bacthnorm2d_1): BatchNorm2d(15, eps=1e-05, momentum=0.1, affine=True, track_running_stats=True)\n",
       "      (conv2): Conv2d(15, 15, kernel_size=(3, 3), stride=(1, 1), padding=(1, 1))\n",
       "      (bacthnorm2d_2): BatchNorm2d(15, eps=1e-05, momentum=0.1, affine=True, track_running_stats=True)\n",
       "    )\n",
       "    (17): ResidualBlock(\n",
       "      (conv1): Conv2d(15, 15, kernel_size=(3, 3), stride=(1, 1), padding=(1, 1))\n",
       "      (bacthnorm2d_1): BatchNorm2d(15, eps=1e-05, momentum=0.1, affine=True, track_running_stats=True)\n",
       "      (conv2): Conv2d(15, 15, kernel_size=(3, 3), stride=(1, 1), padding=(1, 1))\n",
       "      (bacthnorm2d_2): BatchNorm2d(15, eps=1e-05, momentum=0.1, affine=True, track_running_stats=True)\n",
       "    )\n",
       "    (18): ResidualBlock(\n",
       "      (conv1): Conv2d(15, 15, kernel_size=(3, 3), stride=(1, 1), padding=(1, 1))\n",
       "      (bacthnorm2d_1): BatchNorm2d(15, eps=1e-05, momentum=0.1, affine=True, track_running_stats=True)\n",
       "      (conv2): Conv2d(15, 15, kernel_size=(3, 3), stride=(1, 1), padding=(1, 1))\n",
       "      (bacthnorm2d_2): BatchNorm2d(15, eps=1e-05, momentum=0.1, affine=True, track_running_stats=True)\n",
       "    )\n",
       "    (19): ResidualBlock(\n",
       "      (conv1): Conv2d(15, 15, kernel_size=(3, 3), stride=(1, 1), padding=(1, 1))\n",
       "      (bacthnorm2d_1): BatchNorm2d(15, eps=1e-05, momentum=0.1, affine=True, track_running_stats=True)\n",
       "      (conv2): Conv2d(15, 15, kernel_size=(3, 3), stride=(1, 1), padding=(1, 1))\n",
       "      (bacthnorm2d_2): BatchNorm2d(15, eps=1e-05, momentum=0.1, affine=True, track_running_stats=True)\n",
       "    )\n",
       "    (20): ResidualBlock(\n",
       "      (conv1): Conv2d(15, 15, kernel_size=(3, 3), stride=(1, 1), padding=(1, 1))\n",
       "      (bacthnorm2d_1): BatchNorm2d(15, eps=1e-05, momentum=0.1, affine=True, track_running_stats=True)\n",
       "      (conv2): Conv2d(15, 15, kernel_size=(3, 3), stride=(1, 1), padding=(1, 1))\n",
       "      (bacthnorm2d_2): BatchNorm2d(15, eps=1e-05, momentum=0.1, affine=True, track_running_stats=True)\n",
       "    )\n",
       "    (21): ResidualBlock(\n",
       "      (conv1): Conv2d(15, 15, kernel_size=(3, 3), stride=(1, 1), padding=(1, 1))\n",
       "      (bacthnorm2d_1): BatchNorm2d(15, eps=1e-05, momentum=0.1, affine=True, track_running_stats=True)\n",
       "      (conv2): Conv2d(15, 15, kernel_size=(3, 3), stride=(1, 1), padding=(1, 1))\n",
       "      (bacthnorm2d_2): BatchNorm2d(15, eps=1e-05, momentum=0.1, affine=True, track_running_stats=True)\n",
       "    )\n",
       "    (22): ResidualBlock(\n",
       "      (conv1): Conv2d(15, 15, kernel_size=(3, 3), stride=(1, 1), padding=(1, 1))\n",
       "      (bacthnorm2d_1): BatchNorm2d(15, eps=1e-05, momentum=0.1, affine=True, track_running_stats=True)\n",
       "      (conv2): Conv2d(15, 15, kernel_size=(3, 3), stride=(1, 1), padding=(1, 1))\n",
       "      (bacthnorm2d_2): BatchNorm2d(15, eps=1e-05, momentum=0.1, affine=True, track_running_stats=True)\n",
       "    )\n",
       "    (23): ResidualBlock(\n",
       "      (conv1): Conv2d(15, 15, kernel_size=(3, 3), stride=(1, 1), padding=(1, 1))\n",
       "      (bacthnorm2d_1): BatchNorm2d(15, eps=1e-05, momentum=0.1, affine=True, track_running_stats=True)\n",
       "      (conv2): Conv2d(15, 15, kernel_size=(3, 3), stride=(1, 1), padding=(1, 1))\n",
       "      (bacthnorm2d_2): BatchNorm2d(15, eps=1e-05, momentum=0.1, affine=True, track_running_stats=True)\n",
       "    )\n",
       "    (24): ResidualBlock(\n",
       "      (conv1): Conv2d(15, 15, kernel_size=(3, 3), stride=(1, 1), padding=(1, 1))\n",
       "      (bacthnorm2d_1): BatchNorm2d(15, eps=1e-05, momentum=0.1, affine=True, track_running_stats=True)\n",
       "      (conv2): Conv2d(15, 15, kernel_size=(3, 3), stride=(1, 1), padding=(1, 1))\n",
       "      (bacthnorm2d_2): BatchNorm2d(15, eps=1e-05, momentum=0.1, affine=True, track_running_stats=True)\n",
       "    )\n",
       "    (25): ResidualBlock(\n",
       "      (conv1): Conv2d(15, 15, kernel_size=(3, 3), stride=(1, 1), padding=(1, 1))\n",
       "      (bacthnorm2d_1): BatchNorm2d(15, eps=1e-05, momentum=0.1, affine=True, track_running_stats=True)\n",
       "      (conv2): Conv2d(15, 15, kernel_size=(3, 3), stride=(1, 1), padding=(1, 1))\n",
       "      (bacthnorm2d_2): BatchNorm2d(15, eps=1e-05, momentum=0.1, affine=True, track_running_stats=True)\n",
       "    )\n",
       "    (26): ResidualBlock(\n",
       "      (conv1): Conv2d(15, 15, kernel_size=(3, 3), stride=(1, 1), padding=(1, 1))\n",
       "      (bacthnorm2d_1): BatchNorm2d(15, eps=1e-05, momentum=0.1, affine=True, track_running_stats=True)\n",
       "      (conv2): Conv2d(15, 15, kernel_size=(3, 3), stride=(1, 1), padding=(1, 1))\n",
       "      (bacthnorm2d_2): BatchNorm2d(15, eps=1e-05, momentum=0.1, affine=True, track_running_stats=True)\n",
       "    )\n",
       "    (27): ResidualBlock(\n",
       "      (conv1): Conv2d(15, 15, kernel_size=(3, 3), stride=(1, 1), padding=(1, 1))\n",
       "      (bacthnorm2d_1): BatchNorm2d(15, eps=1e-05, momentum=0.1, affine=True, track_running_stats=True)\n",
       "      (conv2): Conv2d(15, 15, kernel_size=(3, 3), stride=(1, 1), padding=(1, 1))\n",
       "      (bacthnorm2d_2): BatchNorm2d(15, eps=1e-05, momentum=0.1, affine=True, track_running_stats=True)\n",
       "    )\n",
       "    (28): ResidualBlock(\n",
       "      (conv1): Conv2d(15, 15, kernel_size=(3, 3), stride=(1, 1), padding=(1, 1))\n",
       "      (bacthnorm2d_1): BatchNorm2d(15, eps=1e-05, momentum=0.1, affine=True, track_running_stats=True)\n",
       "      (conv2): Conv2d(15, 15, kernel_size=(3, 3), stride=(1, 1), padding=(1, 1))\n",
       "      (bacthnorm2d_2): BatchNorm2d(15, eps=1e-05, momentum=0.1, affine=True, track_running_stats=True)\n",
       "    )\n",
       "    (29): ResidualBlock(\n",
       "      (conv1): Conv2d(15, 15, kernel_size=(3, 3), stride=(1, 1), padding=(1, 1))\n",
       "      (bacthnorm2d_1): BatchNorm2d(15, eps=1e-05, momentum=0.1, affine=True, track_running_stats=True)\n",
       "      (conv2): Conv2d(15, 15, kernel_size=(3, 3), stride=(1, 1), padding=(1, 1))\n",
       "      (bacthnorm2d_2): BatchNorm2d(15, eps=1e-05, momentum=0.1, affine=True, track_running_stats=True)\n",
       "    )\n",
       "    (30): ResidualBlock(\n",
       "      (conv1): Conv2d(15, 15, kernel_size=(3, 3), stride=(1, 1), padding=(1, 1))\n",
       "      (bacthnorm2d_1): BatchNorm2d(15, eps=1e-05, momentum=0.1, affine=True, track_running_stats=True)\n",
       "      (conv2): Conv2d(15, 15, kernel_size=(3, 3), stride=(1, 1), padding=(1, 1))\n",
       "      (bacthnorm2d_2): BatchNorm2d(15, eps=1e-05, momentum=0.1, affine=True, track_running_stats=True)\n",
       "    )\n",
       "    (31): ResidualBlock(\n",
       "      (conv1): Conv2d(15, 15, kernel_size=(3, 3), stride=(1, 1), padding=(1, 1))\n",
       "      (bacthnorm2d_1): BatchNorm2d(15, eps=1e-05, momentum=0.1, affine=True, track_running_stats=True)\n",
       "      (conv2): Conv2d(15, 15, kernel_size=(3, 3), stride=(1, 1), padding=(1, 1))\n",
       "      (bacthnorm2d_2): BatchNorm2d(15, eps=1e-05, momentum=0.1, affine=True, track_running_stats=True)\n",
       "    )\n",
       "    (32): ResidualBlock(\n",
       "      (conv1): Conv2d(15, 15, kernel_size=(3, 3), stride=(1, 1), padding=(1, 1))\n",
       "      (bacthnorm2d_1): BatchNorm2d(15, eps=1e-05, momentum=0.1, affine=True, track_running_stats=True)\n",
       "      (conv2): Conv2d(15, 15, kernel_size=(3, 3), stride=(1, 1), padding=(1, 1))\n",
       "      (bacthnorm2d_2): BatchNorm2d(15, eps=1e-05, momentum=0.1, affine=True, track_running_stats=True)\n",
       "    )\n",
       "    (33): ResidualBlock(\n",
       "      (conv1): Conv2d(15, 15, kernel_size=(3, 3), stride=(1, 1), padding=(1, 1))\n",
       "      (bacthnorm2d_1): BatchNorm2d(15, eps=1e-05, momentum=0.1, affine=True, track_running_stats=True)\n",
       "      (conv2): Conv2d(15, 15, kernel_size=(3, 3), stride=(1, 1), padding=(1, 1))\n",
       "      (bacthnorm2d_2): BatchNorm2d(15, eps=1e-05, momentum=0.1, affine=True, track_running_stats=True)\n",
       "    )\n",
       "    (34): ResidualBlock(\n",
       "      (conv1): Conv2d(15, 15, kernel_size=(3, 3), stride=(1, 1), padding=(1, 1))\n",
       "      (bacthnorm2d_1): BatchNorm2d(15, eps=1e-05, momentum=0.1, affine=True, track_running_stats=True)\n",
       "      (conv2): Conv2d(15, 15, kernel_size=(3, 3), stride=(1, 1), padding=(1, 1))\n",
       "      (bacthnorm2d_2): BatchNorm2d(15, eps=1e-05, momentum=0.1, affine=True, track_running_stats=True)\n",
       "    )\n",
       "    (35): ResidualBlock(\n",
       "      (conv1): Conv2d(15, 15, kernel_size=(3, 3), stride=(1, 1), padding=(1, 1))\n",
       "      (bacthnorm2d_1): BatchNorm2d(15, eps=1e-05, momentum=0.1, affine=True, track_running_stats=True)\n",
       "      (conv2): Conv2d(15, 15, kernel_size=(3, 3), stride=(1, 1), padding=(1, 1))\n",
       "      (bacthnorm2d_2): BatchNorm2d(15, eps=1e-05, momentum=0.1, affine=True, track_running_stats=True)\n",
       "    )\n",
       "    (36): ResidualBlock(\n",
       "      (conv1): Conv2d(15, 15, kernel_size=(3, 3), stride=(1, 1), padding=(1, 1))\n",
       "      (bacthnorm2d_1): BatchNorm2d(15, eps=1e-05, momentum=0.1, affine=True, track_running_stats=True)\n",
       "      (conv2): Conv2d(15, 15, kernel_size=(3, 3), stride=(1, 1), padding=(1, 1))\n",
       "      (bacthnorm2d_2): BatchNorm2d(15, eps=1e-05, momentum=0.1, affine=True, track_running_stats=True)\n",
       "    )\n",
       "    (37): ResidualBlock(\n",
       "      (conv1): Conv2d(15, 15, kernel_size=(3, 3), stride=(1, 1), padding=(1, 1))\n",
       "      (bacthnorm2d_1): BatchNorm2d(15, eps=1e-05, momentum=0.1, affine=True, track_running_stats=True)\n",
       "      (conv2): Conv2d(15, 15, kernel_size=(3, 3), stride=(1, 1), padding=(1, 1))\n",
       "      (bacthnorm2d_2): BatchNorm2d(15, eps=1e-05, momentum=0.1, affine=True, track_running_stats=True)\n",
       "    )\n",
       "    (38): ResidualBlock(\n",
       "      (conv1): Conv2d(15, 15, kernel_size=(3, 3), stride=(1, 1), padding=(1, 1))\n",
       "      (bacthnorm2d_1): BatchNorm2d(15, eps=1e-05, momentum=0.1, affine=True, track_running_stats=True)\n",
       "      (conv2): Conv2d(15, 15, kernel_size=(3, 3), stride=(1, 1), padding=(1, 1))\n",
       "      (bacthnorm2d_2): BatchNorm2d(15, eps=1e-05, momentum=0.1, affine=True, track_running_stats=True)\n",
       "    )\n",
       "    (39): ResidualBlock(\n",
       "      (conv1): Conv2d(15, 15, kernel_size=(3, 3), stride=(1, 1), padding=(1, 1))\n",
       "      (bacthnorm2d_1): BatchNorm2d(15, eps=1e-05, momentum=0.1, affine=True, track_running_stats=True)\n",
       "      (conv2): Conv2d(15, 15, kernel_size=(3, 3), stride=(1, 1), padding=(1, 1))\n",
       "      (bacthnorm2d_2): BatchNorm2d(15, eps=1e-05, momentum=0.1, affine=True, track_running_stats=True)\n",
       "    )\n",
       "    (40): ResidualBlock(\n",
       "      (conv1): Conv2d(15, 15, kernel_size=(3, 3), stride=(1, 1), padding=(1, 1))\n",
       "      (bacthnorm2d_1): BatchNorm2d(15, eps=1e-05, momentum=0.1, affine=True, track_running_stats=True)\n",
       "      (conv2): Conv2d(15, 15, kernel_size=(3, 3), stride=(1, 1), padding=(1, 1))\n",
       "      (bacthnorm2d_2): BatchNorm2d(15, eps=1e-05, momentum=0.1, affine=True, track_running_stats=True)\n",
       "    )\n",
       "    (41): ResidualBlock(\n",
       "      (conv1): Conv2d(15, 15, kernel_size=(3, 3), stride=(1, 1), padding=(1, 1))\n",
       "      (bacthnorm2d_1): BatchNorm2d(15, eps=1e-05, momentum=0.1, affine=True, track_running_stats=True)\n",
       "      (conv2): Conv2d(15, 15, kernel_size=(3, 3), stride=(1, 1), padding=(1, 1))\n",
       "      (bacthnorm2d_2): BatchNorm2d(15, eps=1e-05, momentum=0.1, affine=True, track_running_stats=True)\n",
       "    )\n",
       "    (42): ResidualBlock(\n",
       "      (conv1): Conv2d(15, 15, kernel_size=(3, 3), stride=(1, 1), padding=(1, 1))\n",
       "      (bacthnorm2d_1): BatchNorm2d(15, eps=1e-05, momentum=0.1, affine=True, track_running_stats=True)\n",
       "      (conv2): Conv2d(15, 15, kernel_size=(3, 3), stride=(1, 1), padding=(1, 1))\n",
       "      (bacthnorm2d_2): BatchNorm2d(15, eps=1e-05, momentum=0.1, affine=True, track_running_stats=True)\n",
       "    )\n",
       "    (43): ResidualBlock(\n",
       "      (conv1): Conv2d(15, 15, kernel_size=(3, 3), stride=(1, 1), padding=(1, 1))\n",
       "      (bacthnorm2d_1): BatchNorm2d(15, eps=1e-05, momentum=0.1, affine=True, track_running_stats=True)\n",
       "      (conv2): Conv2d(15, 15, kernel_size=(3, 3), stride=(1, 1), padding=(1, 1))\n",
       "      (bacthnorm2d_2): BatchNorm2d(15, eps=1e-05, momentum=0.1, affine=True, track_running_stats=True)\n",
       "    )\n",
       "    (44): ResidualBlock(\n",
       "      (conv1): Conv2d(15, 15, kernel_size=(3, 3), stride=(1, 1), padding=(1, 1))\n",
       "      (bacthnorm2d_1): BatchNorm2d(15, eps=1e-05, momentum=0.1, affine=True, track_running_stats=True)\n",
       "      (conv2): Conv2d(15, 15, kernel_size=(3, 3), stride=(1, 1), padding=(1, 1))\n",
       "      (bacthnorm2d_2): BatchNorm2d(15, eps=1e-05, momentum=0.1, affine=True, track_running_stats=True)\n",
       "    )\n",
       "    (45): ResidualBlock(\n",
       "      (conv1): Conv2d(15, 15, kernel_size=(3, 3), stride=(1, 1), padding=(1, 1))\n",
       "      (bacthnorm2d_1): BatchNorm2d(15, eps=1e-05, momentum=0.1, affine=True, track_running_stats=True)\n",
       "      (conv2): Conv2d(15, 15, kernel_size=(3, 3), stride=(1, 1), padding=(1, 1))\n",
       "      (bacthnorm2d_2): BatchNorm2d(15, eps=1e-05, momentum=0.1, affine=True, track_running_stats=True)\n",
       "    )\n",
       "    (46): ResidualBlock(\n",
       "      (conv1): Conv2d(15, 15, kernel_size=(3, 3), stride=(1, 1), padding=(1, 1))\n",
       "      (bacthnorm2d_1): BatchNorm2d(15, eps=1e-05, momentum=0.1, affine=True, track_running_stats=True)\n",
       "      (conv2): Conv2d(15, 15, kernel_size=(3, 3), stride=(1, 1), padding=(1, 1))\n",
       "      (bacthnorm2d_2): BatchNorm2d(15, eps=1e-05, momentum=0.1, affine=True, track_running_stats=True)\n",
       "    )\n",
       "    (47): ResidualBlock(\n",
       "      (conv1): Conv2d(15, 15, kernel_size=(3, 3), stride=(1, 1), padding=(1, 1))\n",
       "      (bacthnorm2d_1): BatchNorm2d(15, eps=1e-05, momentum=0.1, affine=True, track_running_stats=True)\n",
       "      (conv2): Conv2d(15, 15, kernel_size=(3, 3), stride=(1, 1), padding=(1, 1))\n",
       "      (bacthnorm2d_2): BatchNorm2d(15, eps=1e-05, momentum=0.1, affine=True, track_running_stats=True)\n",
       "    )\n",
       "    (48): ResidualBlock(\n",
       "      (conv1): Conv2d(15, 15, kernel_size=(3, 3), stride=(1, 1), padding=(1, 1))\n",
       "      (bacthnorm2d_1): BatchNorm2d(15, eps=1e-05, momentum=0.1, affine=True, track_running_stats=True)\n",
       "      (conv2): Conv2d(15, 15, kernel_size=(3, 3), stride=(1, 1), padding=(1, 1))\n",
       "      (bacthnorm2d_2): BatchNorm2d(15, eps=1e-05, momentum=0.1, affine=True, track_running_stats=True)\n",
       "    )\n",
       "    (49): ResidualBlock(\n",
       "      (conv1): Conv2d(15, 15, kernel_size=(3, 3), stride=(1, 1), padding=(1, 1))\n",
       "      (bacthnorm2d_1): BatchNorm2d(15, eps=1e-05, momentum=0.1, affine=True, track_running_stats=True)\n",
       "      (conv2): Conv2d(15, 15, kernel_size=(3, 3), stride=(1, 1), padding=(1, 1))\n",
       "      (bacthnorm2d_2): BatchNorm2d(15, eps=1e-05, momentum=0.1, affine=True, track_running_stats=True)\n",
       "    )\n",
       "  )\n",
       "  (conv3): Conv2d(15, 10, kernel_size=(3, 3), stride=(1, 1), padding=(1, 1))\n",
       "  (lin1): Linear(in_features=160, out_features=60, bias=True)\n",
       "  (lin2): Linear(in_features=60, out_features=2, bias=True)\n",
       ")"
      ]
     },
     "execution_count": 73,
     "metadata": {},
     "output_type": "execute_result"
    }
   ],
   "source": [
    "gnet"
   ]
  },
  {
   "cell_type": "code",
   "execution_count": 74,
   "metadata": {},
   "outputs": [
    {
     "data": {
      "text/plain": [
       "[torch.Size([32, 3, 3, 3]),\n",
       " torch.Size([32]),\n",
       " torch.Size([32]),\n",
       " torch.Size([32]),\n",
       " torch.Size([15, 32, 3, 3]),\n",
       " torch.Size([15]),\n",
       " torch.Size([15]),\n",
       " torch.Size([15]),\n",
       " torch.Size([15, 15, 3, 3]),\n",
       " torch.Size([15]),\n",
       " torch.Size([15]),\n",
       " torch.Size([15]),\n",
       " torch.Size([15, 15, 3, 3]),\n",
       " torch.Size([15]),\n",
       " torch.Size([15]),\n",
       " torch.Size([15]),\n",
       " torch.Size([10, 15, 3, 3]),\n",
       " torch.Size([10]),\n",
       " torch.Size([60, 160]),\n",
       " torch.Size([60]),\n",
       " torch.Size([2, 60]),\n",
       " torch.Size([2])]"
      ]
     },
     "execution_count": 74,
     "metadata": {},
     "output_type": "execute_result"
    }
   ],
   "source": [
    "[p.pow(2.0).shape\n",
    "for p in gnet.parameters()]"
   ]
  },
  {
   "cell_type": "code",
   "execution_count": null,
   "metadata": {},
   "outputs": [],
   "source": []
  }
 ],
 "metadata": {
  "kernelspec": {
   "display_name": ".venv",
   "language": "python",
   "name": "python3"
  },
  "language_info": {
   "codemirror_mode": {
    "name": "ipython",
    "version": 3
   },
   "file_extension": ".py",
   "mimetype": "text/x-python",
   "name": "python",
   "nbconvert_exporter": "python",
   "pygments_lexer": "ipython3",
   "version": "3.11.8"
  }
 },
 "nbformat": 4,
 "nbformat_minor": 2
}
