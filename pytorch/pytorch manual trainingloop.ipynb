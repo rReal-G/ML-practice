{
 "cells": [
  {
   "cell_type": "code",
   "execution_count": 1,
   "metadata": {},
   "outputs": [],
   "source": [
    "import torch\n",
    "import torch.nn as nn\n",
    "import matplotlib.pyplot as plt"
   ]
  },
  {
   "cell_type": "code",
   "execution_count": 83,
   "metadata": {},
   "outputs": [],
   "source": [
    "torch.random.manual_seed(12)\n",
    "X = torch.arange(0, 10, .5)\n",
    "y = 3 * X + 4 + torch.randn(20) * 2"
   ]
  },
  {
   "cell_type": "code",
   "execution_count": 84,
   "metadata": {},
   "outputs": [
    {
     "data": {
      "text/plain": [
       "tensor([ 3.7360,  5.2491,  7.6886,  7.5962,  7.4110, 10.9754, 11.9295, 17.1932,\n",
       "        14.6085, 17.3956, 18.9297, 21.5548, 20.6111, 23.0751, 25.4724, 24.0123,\n",
       "        30.8800, 31.0893, 32.6887, 35.0336])"
      ]
     },
     "execution_count": 84,
     "metadata": {},
     "output_type": "execute_result"
    }
   ],
   "source": [
    "y"
   ]
  },
  {
   "cell_type": "code",
   "execution_count": 85,
   "metadata": {},
   "outputs": [
    {
     "data": {
      "text/plain": [
       "<matplotlib.collections.PathCollection at 0x1abd78c5fd0>"
      ]
     },
     "execution_count": 85,
     "metadata": {},
     "output_type": "execute_result"
    },
    {
     "data": {
      "image/png": "[encoded data removed]",
      "text/plain": [
       "<Figure size 640x480 with 1 Axes>"
      ]
     },
     "metadata": {},
     "output_type": "display_data"
    }
   ],
   "source": [
    "plt.scatter(X, y)"
   ]
  },
  {
   "cell_type": "code",
   "execution_count": 121,
   "metadata": {},
   "outputs": [],
   "source": [
    "def get_model():\n",
    "    # lin_model = nn.Linear(1, 1)\n",
    "    model = nn.Sequential(\n",
    "        nn.Linear(1, 12),\n",
    "        nn.ReLU(),\n",
    "        nn.Linear(12, 1)\n",
    "    )\n",
    "    return model\n",
    "\n",
    "def get_loss_fn():\n",
    "    return nn.MSELoss()\n",
    "\n",
    "def get_optimizer(model:nn.Module):\n",
    "    return torch.optim.SGD(model.parameters(), lr=0.01)"
   ]
  },
  {
   "cell_type": "code",
   "execution_count": 113,
   "metadata": {},
   "outputs": [
    {
     "data": {
      "text/plain": [
       "Sequential(\n",
       "  (0): Linear(in_features=1, out_features=12, bias=True)\n",
       "  (1): ReLU()\n",
       "  (2): Linear(in_features=12, out_features=1, bias=True)\n",
       ")"
      ]
     },
     "execution_count": 113,
     "metadata": {},
     "output_type": "execute_result"
    }
   ],
   "source": [
    "get_model()"
   ]
  },
  {
   "cell_type": "code",
   "execution_count": 87,
   "metadata": {},
   "outputs": [],
   "source": [
    "X = X.view(-1, 1)\n",
    "y = y.view(-1, 1)"
   ]
  },
  {
   "cell_type": "code",
   "execution_count": 88,
   "metadata": {},
   "outputs": [],
   "source": [
    "X = (X - X.mean())/X.std()"
   ]
  },
  {
   "cell_type": "code",
   "execution_count": 89,
   "metadata": {},
   "outputs": [],
   "source": [
    "X_train, y_train = X[:15], y[:15]"
   ]
  },
  {
   "cell_type": "code",
   "execution_count": 90,
   "metadata": {},
   "outputs": [],
   "source": [
    "X_val, y_val= X[15:], y[15:]"
   ]
  },
  {
   "cell_type": "code",
   "execution_count": 91,
   "metadata": {},
   "outputs": [
    {
     "data": {
      "text/plain": [
       "(tensor([[-1.0987],\n",
       "         [-0.4226],\n",
       "         [ 0.0845],\n",
       "         [ 0.2535],\n",
       "         [-0.5916],\n",
       "         [-0.0845],\n",
       "         [-1.6058],\n",
       "         [ 0.4226],\n",
       "         [-1.4368],\n",
       "         [-0.2535],\n",
       "         [-1.2677],\n",
       "         [-0.9297],\n",
       "         [-0.7606],\n",
       "         [ 0.5916],\n",
       "         [ 0.7606]]),\n",
       " tensor([ 3,  7, 10, 11,  6,  9,  0, 12,  1,  8,  2,  4,  5, 13, 14]))"
      ]
     },
     "execution_count": 91,
     "metadata": {},
     "output_type": "execute_result"
    }
   ],
   "source": [
    "p=torch.randperm(len(X_train))\n",
    "X_train[p], p"
   ]
  },
  {
   "cell_type": "code",
   "execution_count": 122,
   "metadata": {},
   "outputs": [],
   "source": [
    "def training_loop(n_epochs:int, bs:int, X_train, y_train, X_val, y_val):\n",
    "    model = get_model()\n",
    "    optimizer:torch.optim.Optimizer = get_optimizer(model)\n",
    "    loss_fn = get_loss_fn()\n",
    "    train_loss =[]\n",
    "    val_loss = []\n",
    "    for epoch in range(1, n_epochs+1):\n",
    "        perm_train = torch.randperm(len(X_train))\n",
    "        perm_val = torch.randperm(len(X_val))\n",
    "        X_train_epoch = X_train[perm_train]\n",
    "        y_train_epoch = y_train[perm_train]\n",
    "        X_val_epoch = X_val[perm_val]\n",
    "        y_val_epoch = y_val[perm_val]\n",
    "        for i in range(0, len(X_train), bs):\n",
    "            X_train_bs = X_train[i:i+bs]\n",
    "            y_train_bs = y_train[i:i+bs]\n",
    "            # X_val_bs = X_val[i:i+bs]\n",
    "            # y_val_bs = y_val[i:i+bs]\n",
    "            \n",
    "            y_pred_bs = model(X_train_bs)\n",
    "            loss = loss_fn(y_pred_bs, y_train_bs)\n",
    "            optimizer.zero_grad()\n",
    "            loss.backward()\n",
    "            optimizer.step()\n",
    "\n",
    "            # Print per batch train loss\n",
    "            print(f\"Epoch: {epoch}, Batch: {i//bs+1}, Train Loss: {loss.item()}\")\n",
    "\n",
    "        # Calculate validation loss\n",
    "        with torch.no_grad():\n",
    "            y_pred_val = model(X_val_epoch)\n",
    "            val_loss = loss_fn(y_pred_val, y_val_epoch)\n",
    "            # Print per epoch validation loss\n",
    "            print(f\"Epoch: {epoch}, Validation Loss: {val_loss.item()}\")\n",
    "\n",
    "        # Print model parameters\n",
    "        for name, param in model.named_parameters():\n",
    "            print(f\"Epoch: {epoch}, Model Parameter - {name}: {param.data}\")\n",
    "\n",
    "        print()  # Add an empty line between epochs\n",
    "        \n",
    "    return model\n",
    "            \n",
    "            "
   ]
  },
  {
   "cell_type": "code",
   "execution_count": null,
   "metadata": {},
   "outputs": [],
   "source": [
    "\n",
    "m = training_loop(1010, 2, X_train, y_train, X_val, y_val)"
   ]
  },
  {
   "cell_type": "code",
   "execution_count": 124,
   "metadata": {},
   "outputs": [
    {
     "data": {
      "text/plain": [
       "[<matplotlib.lines.Line2D at 0x1abe02c3350>]"
      ]
     },
     "execution_count": 124,
     "metadata": {},
     "output_type": "execute_result"
    },
    {
     "data": {
      "image/png": "[encoded data removed]",
      "text/plain": [
       "<Figure size 640x480 with 1 Axes>"
      ]
     },
     "metadata": {},
     "output_type": "display_data"
    }
   ],
   "source": [
    "plt.scatter(X, y)\n",
    "plt.plot(X, m(X).detach(), color='red')"
   ]
  },
  {
   "cell_type": "code",
   "execution_count": null,
   "metadata": {},
   "outputs": [],
   "source": []
  }
 ],
 "metadata": {
  "kernelspec": {
   "display_name": ".venv",
   "language": "python",
   "name": "python3"
  },
  "language_info": {
   "codemirror_mode": {
    "name": "ipython",
    "version": 3
   },
   "file_extension": ".py",
   "mimetype": "text/x-python",
   "name": "python",
   "nbconvert_exporter": "python",
   "pygments_lexer": "ipython3",
   "version": "3.11.8"
  }
 },
 "nbformat": 4,
 "nbformat_minor": 2
}
